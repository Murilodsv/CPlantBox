{
 "cells": [
  {
   "cell_type": "code",
   "execution_count": 1,
   "metadata": {},
   "outputs": [],
   "source": [
    "import scipy.sparse.linalg as LA\n",
    "from scipy import sparse\n",
    "import matplotlib.pylab as plt\n",
    "\n",
    "import py_plantbox as pb\n",
    "from rb_tools import *\n",
    "\n",
    "import xylem_flux \n",
    "\n",
    "import timeit\n",
    "\n",
    "import numpy as np\n",
    "from scipy.integrate import odeint\n",
    "\n",
    "\n",
    "\n",
    "# Simulate a root system\n",
    "name = \"morning_glory_7m\"\n",
    "plant = pb.Plant()\n",
    "#sca = pb.Organ.getScalar('organtype')\n",
    "plant.openXML(name)\n",
    "plant.initialize()\n",
    "ana = pb.SegmentAnalyser(plant)\n",
    "\n",
    "for i in range (0,280):\n",
    "    plant.simulate(i)\n",
    "# for i in range(0,7):\n",
    "#     plant.simulate(1) \n",
    "\n",
    "\n",
    "\n",
    "#seg = np.vstack((seg,lseg))\n",
    "# print(\"number of root segments\",len(rseg))\n",
    "# print(\"number of shoot segments\",len(sseg))\n",
    "# print(\"number of segments\",len(seg))\n",
    "\n",
    "#rootnodes = v2a(sca('organtype'))\n",
    "\n",
    "#print(rseg)\n",
    "#print(sseg)\n",
    "#print(lseg)\n",
    "#print(sseg[1])\n",
    "\n",
    "#print(len(nodes))\n",
    "#print(len(rseg))\n",
    "#print(len(lseg))\n",
    "\n",
    "\n",
    "\n",
    "plant.write(\"results/morning_glory_7m.vtp\",15)"
   ]
  },
  {
   "cell_type": "code",
   "execution_count": null,
   "metadata": {},
   "outputs": [],
   "source": []
  }
 ],
 "metadata": {
  "kernelspec": {
   "display_name": "Python 3",
   "language": "python",
   "name": "python3"
  },
  "language_info": {
   "codemirror_mode": {
    "name": "ipython",
    "version": 3
   },
   "file_extension": ".py",
   "mimetype": "text/x-python",
   "name": "python",
   "nbconvert_exporter": "python",
   "pygments_lexer": "ipython3",
   "version": "3.6.4"
  }
 },
 "nbformat": 4,
 "nbformat_minor": 2
}
