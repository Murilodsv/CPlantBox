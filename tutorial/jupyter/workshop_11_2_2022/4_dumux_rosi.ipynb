{
 "cells": [
  {
   "cell_type": "markdown",
   "metadata": {},
   "source": [
    "# Workshop 11.2.2022 - (4/4)\n",
    "\n",
    "## Simulation of water movement in roots and soil domain using DuMux-Rosi\n",
    "\n",
    "Next we couple the xylem water movement to a dynamic soil. We sequentially solve (a) root xylem water movement, and (b) soil water movement. Therefore, a rather small coupling time step is needed. \n",
    "\n",
    "Soil water movement is described by the Richards equation, and the van Genuchten model. We use DuMux to numerically solve these equation (i.e. the Python binding of DuMux-Rosi). \n",
    "\n",
    "We start with some additional imports, making the Richards solver available."
   ]
  },
  {
   "cell_type": "code",
   "execution_count": 23,
   "metadata": {},
   "outputs": [],
   "source": [
    "import sys; sys.path.append(\"../../..\"); sys.path.append(\"../../../src/python_modules\")\n",
    "import plantbox as pb\n",
    "import vtk_plot as vp\n",
    "from xylem_flux import XylemFluxPython  # Python hybrid solver\n",
    "import numpy as np\n",
    "import matplotlib.pyplot as plt\n",
    "\n",
    "sys.path.append(\"../../../../dumux-rosi/build-cmake/cpp/python_binding/\")\n",
    "sys.path.append(\"../../../../dumux-rosi/python/modules/\")\n",
    "sys.path.append(\"../../../../dumux-rosi/python/modules/fv/\")\n",
    "from rosi_richards import RichardsSP  # C++ part (Dumux binding)\n",
    "from richards import RichardsWrapper  # Python part\n",
    "from rhizo_models import plot_transpiration\n",
    "\n",
    "def sinusoidal(t):\n",
    "    return np.sin(2. * np.pi * np.array(t) - 0.5 * np.pi) + 1."
   ]
  },
  {
   "cell_type": "markdown",
   "metadata": {},
   "source": [
    "We start with the simulation parameters (for a static root system)"
   ]
  },
  {
   "cell_type": "code",
   "execution_count": 45,
   "metadata": {},
   "outputs": [],
   "source": [
    "min_b = [-3., -3., -30.] # cm\n",
    "max_b = [3., 3., 0.] # cm\n",
    "cell_number = [6, 6, 30]    \n",
    "periodic = False\n",
    "loam = [0.08, 0.43, 0.04, 1.6, 50]\n",
    "soil = loam\n",
    "initial = -600 \n",
    "trans = 6.4  # cm3 /day (sinusoidal)\n",
    "wilting_point = -15000  # cm\n",
    "kz = 4.32e-2  # axial conductivity [cm^3/day]\n",
    "kr = 1.728e-4  # radial conductivity [1/day]\n",
    "sim_time = 7 # [day] \n",
    "dt = 360. / (24 * 3600)  # [days] Time step must be very small\n",
    "initial_age = 5"
   ]
  },
  {
   "cell_type": "markdown",
   "metadata": {},
   "source": [
    "The root system is calculated as but with a confining geometry "
   ]
  },
  {
   "cell_type": "code",
   "execution_count": 46,
   "metadata": {},
   "outputs": [],
   "source": [
    "rs = pb.MappedRootSystem() # handles conductivity and mapping to the soil cells\n",
    "path = \"../../../modelparameter/rootsystem/\"\n",
    "name = \"Anagallis_femina_Leitner_2010\"  # Zea_mays_1_Leitner_2010\n",
    "rs.readParameters(path + name + \".xml\")\n",
    "random_parameters = rs.getRootRandomParameter()\n",
    "for p in random_parameters[1:]:\n",
    "    p.dx = 0.25 \n",
    "if periodic:    \n",
    "    rs.setGeometry(pb.SDF_PlantBox(1.e6, 1.e6, max_b[2]-min_b[2])) \n",
    "else:\n",
    "    rs.setGeometry(pb.SDF_PlantBox(max_b[0]-min_b[0], max_b[1]-min_b[1], max_b[2]-min_b[2])) \n",
    "rs.initialize() # note that an artificial root of type 0 is added by MappedRootSystem\n",
    "rs.simulate(initial_age)\n",
    "_ = vp.plot_roots(pb.SegmentAnalyser(rs.mappedSegments()), \"subType\") "
   ]
  },
  {
   "cell_type": "markdown",
   "metadata": {},
   "source": [
    "Initialize macroscopic soil model"
   ]
  },
  {
   "cell_type": "code",
   "execution_count": 47,
   "metadata": {},
   "outputs": [],
   "source": [
    "s = RichardsWrapper(RichardsSP())\n",
    "s.initialize()\n",
    "s.createGrid(min_b, max_b, cell_number, periodic)  # [cm] the picker s.pick(x,y,z) will be periodic or not\n",
    "s.setHomogeneousIC(initial, True)  # cm pressure head, equilibrium\n",
    "s.setTopBC(\"noFlux\")\n",
    "s.setBotBC(\"noFlux\")\n",
    "s.setVGParameters([soil])\n",
    "s.setParameter(\"Newton.EnableChop\", \"True\") # setParameter is used additional to the DuMux input files\n",
    "s.setParameter(\"Newton.EnableAbsoluteResidualCriterion\", \"True\")\n",
    "s.setParameter(\"Soil.SourceSlope\", \"1000\") \n",
    "s.initializeProblem()\n",
    "s.setCriticalPressure(wilting_point)"
   ]
  },
  {
   "cell_type": "code",
   "execution_count": 48,
   "metadata": {},
   "outputs": [
    {
     "name": "stdout",
     "output_type": "stream",
     "text": [
      "\n",
      "XylemFluxPython.test():\n",
      "964 segments\n",
      "Segment 0 [755   1]\n",
      "warning multiple segments emerge from node 0\n",
      "0 segments with length < 1.e-5 cm\n",
      "5 different root types from 0 to 4\n",
      "ages from 0 to 5\n",
      "\n"
     ]
    }
   ],
   "source": [
    "\"\"\" Initialize xylem model \"\"\"\n",
    "r = XylemFluxPython(rs)\n",
    "r.rs.setRectangularGrid(pb.Vector3d(min_b[0], min_b[1], min_b[2]), pb.Vector3d(max_b[0], max_b[1], max_b[2]),\n",
    "                        pb.Vector3d(cell_number[0], cell_number[1], cell_number[2]))  # cutting\n",
    "r.setKr([0., kr, kr , kr, kr, kr]) # no radial flux into the artificial shoot segment\n",
    "r.setKx([1., kz, kz, kz, kz, kz])\n",
    "\n",
    "\"\"\" Coupling (map indices) \"\"\"\n",
    "picker = lambda x, y, z: s.pick([x, y, z])    \n",
    "cci = picker(r.rs.nodes[0].x, r.rs.nodes[0].y, r.rs.nodes[0].z)  # collar cell index\n",
    "r.rs.setSoilGrid(picker)  # maps segment\n",
    "r.test()  # sanity checks"
   ]
  },
  {
   "cell_type": "code",
   "execution_count": null,
   "metadata": {},
   "outputs": [
    {
     "name": "stdout",
     "output_type": "stream",
     "text": [
      "Summed fluxes  -6.232467545384671 = collar flux -6.232467545362953 = prescribed -6.232467530829627\n",
      "[****                                                                                                ], soil [-1265.55, -585.5] cm, root [-3001.06, -2226.97] cm, 0.25 days -3001.06\n",
      "\n",
      "Summed fluxes  -12.797806933286987 = collar flux -12.79780693331412 = prescribed -12.797806879843566\n",
      "[*******                                                                                             ], soil [-9768.74, -585.5] cm, root [-11008.2, -9190.38] cm, 0.5 days -11008.2\n",
      "\n",
      "Summed fluxes  -6.347069493450095 = collar flux -6.347069493831775 = prescribed -6.567532469170446\n",
      "[***********                                                                                         ], soil [-14493, -585.5] cm, root [-15000, -14084.4] cm, 0.75 days -15000\n",
      "\n",
      "Summed fluxes  -0.0021931453689643804 = collar flux -0.0021931454393306904 = prescribed -0.0021931201564356685\n",
      "[**************                                                                                      ], soil [-6333.81, -585.5] cm, root [-5190.43, -5154.73] cm, 1 days -5190.43\n",
      "\n",
      "Summed fluxes  -6.232467578069745 = collar flux -6.232467578193161 = prescribed -6.232467530829485\n",
      "[******************                                                                                  ], soil [-9293.27, -585.5] cm, root [-9737.2, -8856.65] cm, 1.25 days -9737.2\n",
      "\n",
      "Summed fluxes  -3.6549755938986026 = collar flux -3.654975594073445 = prescribed -12.797806879843563\n",
      "[*********************                                                                               ], soil [-14734.4, -585.5] cm, root [-15000, -14475.6] cm, 1.5 days -15000\n",
      "\n",
      "Summed fluxes  -2.8874568912955243 = collar flux -2.887456891333093 = prescribed -6.567532469170586\n",
      "[*************************                                                                           ], soil [-14793.3, -585.5] cm, root [-15000, -14586] cm, 1.75 days -15000\n",
      "\n",
      "Summed fluxes  -0.002193163626184491 = collar flux -0.0021931638074155213 = prescribed -0.002193120156439221\n",
      "[*****************************                                                                       ], soil [-11108.5, -585.5] cm, root [-8959.28, -8927.52] cm, 2 days -8958.83\n",
      "\n",
      "Summed fluxes  -2.953839435910867 = collar flux -2.9538394360625757 = prescribed -6.23246753082987\n",
      "[********************************                                                                    ], soil [-14739.7, -585.5] cm, root [-15000, -14577.3] cm, 2.25 days -15000\n",
      "\n",
      "Summed fluxes  -2.2024169643040006 = collar flux -2.2024169644516554 = prescribed -12.797806879843586\n",
      "[************************************                                                                ], soil [-14842.5, -585.5] cm, root [-15000, -14681.3] cm, 2.5 days -15000\n",
      "\n",
      "Summed fluxes  -1.9713676462338845 = collar flux -1.97136764650058 = prescribed -6.567532469169132\n",
      "[***************************************                                                             ], soil [-14859.2, -585.5] cm, root [-15000, -14713.1] cm, 2.75 days -15000\n",
      "\n",
      "Summed fluxes  -0.0021931732388597858 = collar flux -0.0021931733631368466 = prescribed -0.002193120156388062\n",
      "[*******************************************                                                         ], soil [-12674.8, -585.501] cm, root [-10920.3, -10890.7] cm, 3 days -10920.3\n",
      "\n",
      "Summed fluxes  -1.9271588878831674 = collar flux -1.9271588879156307 = prescribed -6.2324675308318565\n",
      "[**********************************************                                                      ], soil [-14843.6, -585.503] cm, root [-15000, -14718.1] cm, 3.25 days -15000\n",
      "\n",
      "Summed fluxes  -1.662872589073018 = collar flux -1.662872589366859 = prescribed -12.797806879843641\n",
      "[**************************************************                                                  ], soil [-14880.4, -585.505] cm, root [-15000, -14755.2] cm, 3.5 days -15000\n",
      "\n",
      "Summed fluxes  -1.5504535208901173 = collar flux -1.5504535210432202 = prescribed -6.567532469167123\n",
      "[******************************************************                                              ], soil [-14888.5, -585.51] cm, root [-15000, -14770.8] cm, 3.75 days -15000\n",
      "\n",
      "Summed fluxes  -0.0021931785771870313 = collar flux -0.0021931786697149125 = prescribed -0.002193120156335482\n",
      "[*********************************************************                                           ], soil [-13408.9, -585.517] cm, root [-12009.1, -11980.4] cm, 4 days -12009.1\n",
      "\n",
      "Summed fluxes  -1.5096770949795966 = collar flux -1.5096770949585232 = prescribed -6.23246753083281\n",
      "[*************************************************************                                       ], soil [-14877.9, -585.528] cm, root [-15000, -14775.7] cm, 4.25 days -15000\n",
      "\n",
      "Summed fluxes  -1.3687342524005017 = collar flux -1.3687342525594883 = prescribed -12.797806879843636\n",
      "[****************************************************************                                    ], soil [-14900.8, -585.544] cm, root [-15000, -14795.5] cm, 4.5 days -15000\n",
      "\n",
      "Summed fluxes  -1.3020136076640363 = collar flux -1.3020136077385516 = prescribed -6.56753246916835\n",
      "[********************************************************************                                ], soil [-14905.5, -585.565] cm, root [-15000, -14804.6] cm, 4.75 days -15000\n",
      "\n"
     ]
    }
   ],
   "source": [
    "\"\"\" Numerical solution \"\"\"\n",
    "times_, soil_flux_, collar_flux_, sink1d_ = [], [], [], []\n",
    "sx = s.getSolutionHead()  # inital condition, solverbase.py\n",
    "N = round(sim_time / dt)\n",
    "t = 0.\n",
    "for i in range(0, N):\n",
    " \n",
    "    # root part\n",
    "    rx = r.solve(initial_age + t, -trans * sinusoidal(t), 0., sx, True, wilting_point, [])  # xylem_flux.py, cells = True\n",
    "    fluxes = r.soilFluxes(initial_age + t, rx, sx, False)  # class XylemFlux is defined in MappedOrganism.h, approx = True\n",
    " \n",
    "    # soil part\n",
    "    s.setSource(fluxes.copy())  # richards.py \n",
    "    s.solve(dt)\n",
    "    sx = s.getSolutionHead()  # richards.py\n",
    " \n",
    "    # post processing\n",
    "    times_.append(t)\n",
    "    sum_flux = 0.\n",
    "    for f in fluxes.values():\n",
    "        sum_flux += f\n",
    "    soil_flux_.append(sum_flux)  # cm3/day\n",
    "    collar_flux_.append(float(r.collar_flux(initial_age + t, rx, sx)))  # cm3/day\n",
    "        \n",
    "    # Console output and sink data \n",
    "    if (i+1) % 60 == 0:  # every 60th time step = every 6h        \n",
    "        print(\"Summed fluxes \", sum_flux, \"= collar flux\", collar_flux_[-1], \"= prescribed\", -trans * sinusoidal(t))\n",
    "        min_sx, max_sx = np.min(sx), np.max(sx)        \n",
    "        min_rx, max_rx = np.min(rx), np.max(rx)        \n",
    "        n = round(float(i) / float(N-1) * 100.)\n",
    "        print(\"[\" + ''.join([\"*\"]) * n + ''.join([\" \"]) * (100 - n) + \"], soil [{:g}, {:g}] cm, root [{:g}, {:g}] cm, {:g} days {:g}\\n\"\n",
    "              .format(min_sx, max_sx, min_rx, max_rx, s.simTime, rx[0]))\n",
    "        \n",
    "        ana = pb.SegmentAnalyser(r.rs)\n",
    "        fluxes = r.segFluxes(initial_age + t, rx, sx, False, cells=True)  # cm3/day\n",
    "        ana.addData(\"fluxes\", fluxes) \n",
    "        flux1d = ana.distribution(\"fluxes\", max_b[2], min_b[2], 15, True) \n",
    "        sink1d_.append(np.array(flux1d))\n",
    "\n",
    "    t += dt"
   ]
  },
  {
   "cell_type": "markdown",
   "metadata": {},
   "source": [
    "Save results and plot"
   ]
  },
  {
   "cell_type": "code",
   "execution_count": 43,
   "metadata": {},
   "outputs": [
    {
     "data": {
      "image/png": "[encoded data removed]",
      "text/plain": [
       "<Figure size 432x288 with 2 Axes>"
      ]
     },
     "metadata": {
      "needs_background": "light"
     },
     "output_type": "display_data"
    }
   ],
   "source": [
    "s.writeDumuxVTK(\"dumux-rosi-example\")\n",
    "vp.plot_roots_and_soil(r.rs, \"pressure head\", rx, s, periodic, min_b, max_b, cell_number, name)\n",
    "plot_transpiration(times_, soil_flux_, collar_flux_, lambda t: trans * sinusoidal(t))\n",
    "np.savetxt(name, np.vstack((times_, -np.array(soil_flux_))), delimiter=';')\n",
    "np.save(\"sink1d\", np.array(sink1d_))"
   ]
  },
  {
   "cell_type": "markdown",
   "metadata": {},
   "source": [
    "Things we can easily modify in the script\n",
    "* change initial root system age\n",
    "* change the soil type and initial potential \n",
    "* add root growth (rs.simulate(dt))\n",
    "* add age dependent conductivities\n",
    "\n"
   ]
  },
  {
   "cell_type": "markdown",
   "metadata": {},
   "source": [
    "## Take away messages\n",
    "\n",
    "How to couple the root system simulation with a dynamic soil solver "
   ]
  },
  {
   "cell_type": "markdown",
   "metadata": {},
   "source": [
    "## Further topics\n",
    "\n",
    "* Parallelisation (essential if we have a finer soil resolution)\n",
    "\n",
    "* Where to find what in the C++ code\n",
    "\n",
    "* Coupling to 1D axisymmetric modes, to represent the rhizosphere\n",
    "\n",
    "* Coupling to steady rate solutions of 1D axisymmetric Richards equation"
   ]
  },
  {
   "cell_type": "code",
   "execution_count": null,
   "metadata": {},
   "outputs": [],
   "source": []
  }
 ],
 "metadata": {
  "kernelspec": {
   "display_name": "Python 3",
   "language": "python",
   "name": "python3"
  },
  "language_info": {
   "codemirror_mode": {
    "name": "ipython",
    "version": 3
   },
   "file_extension": ".py",
   "mimetype": "text/x-python",
   "name": "python",
   "nbconvert_exporter": "python",
   "pygments_lexer": "ipython3",
   "version": "3.8.10"
  },
  "latex_envs": {
   "LaTeX_envs_menu_present": true,
   "autoclose": false,
   "autocomplete": true,
   "bibliofile": "biblio.bib",
   "cite_by": "apalike",
   "current_citInitial": 1,
   "eqLabelWithNumbers": true,
   "eqNumInitial": 1,
   "hotkeys": {
    "equation": "Ctrl-E",
    "itemize": "Ctrl-I"
   },
   "labels_anchors": false,
   "latex_user_defs": false,
   "report_style_numbering": false,
   "user_envs_cfg": false
  }
 },
 "nbformat": 4,
 "nbformat_minor": 4
}
