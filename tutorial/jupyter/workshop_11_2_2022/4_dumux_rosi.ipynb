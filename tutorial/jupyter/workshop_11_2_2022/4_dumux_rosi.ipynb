{
 "cells": [
  {
   "cell_type": "markdown",
   "metadata": {},
   "source": [
    "# Workshop 11.2.2022 - (4/4)\n",
    "\n",
    "## Simulation of water movement in roots and soil domain using DuMux-Rosi\n",
    "\n",
    "Next we couple the xylem water movement to a dynamic soil. We sequentially solve (a) root xylem water movement, and (b) soil water movement. Therefore, a rather small coupling time step is needed. \n",
    "\n",
    "Soil water movement is described by the Richards equation, and the van Genuchten model. We use DuMux to numerically solve these equation (i.e. the Python binding of DuMux-Rosi). \n",
    "\n",
    "We start with some additional imports, making the Richards solver available."
   ]
  },
  {
   "cell_type": "code",
   "execution_count": 18,
   "metadata": {},
   "outputs": [],
   "source": [
    "import sys; sys.path.append(\"../../..\"); sys.path.append(\"../../../src/python_modules\")\n",
    "import plantbox as pb\n",
    "import vtk_plot as vp\n",
    "from xylem_flux import XylemFluxPython  # Python hybrid solver\n",
    "import numpy as np\n",
    "import matplotlib.pyplot as plt\n",
    "\n",
    "sys.path.append(\"../../../../dumux-rosi/build-cmake/cpp/python_binding/\")\n",
    "sys.path.append(\"../../../../dumux-rosi/python/modules/\")\n",
    "sys.path.append(\"../../../../dumux-rosi/python/modules/fv/\")\n",
    "from rosi_richards import RichardsSP  # C++ part (Dumux binding)\n",
    "from richards import RichardsWrapper  # Python part\n",
    "from rhizo_models import plot_transpiration\n",
    "\n",
    "def sinusoidal(t):\n",
    "    return np.sin(2. * np.pi * np.array(t) - 0.5 * np.pi) + 1."
   ]
  },
  {
   "cell_type": "markdown",
   "metadata": {},
   "source": [
    "We start with the simulation parameters (for a static root system)"
   ]
  },
  {
   "cell_type": "code",
   "execution_count": 23,
   "metadata": {},
   "outputs": [],
   "source": [
    "min_b = [-4., -4., -30.] # cm\n",
    "max_b = [4., 4., 0.] # cm\n",
    "cell_number = [8, 8, 30]    \n",
    "periodic = True\n",
    "loam = [0.08, 0.43, 0.04, 1.6, 50]\n",
    "soil = loam\n",
    "initial = -600 \n",
    "trans = 6.4  # cm3 /day (sinusoidal)\n",
    "wilting_point = -15000  # cm\n",
    "kz = 4.32e-2  # axial conductivity [cm^3/day]\n",
    "kr = 1.728e-4  # radial conductivity [1/day]\n",
    "sim_time = 7 # [day] \n",
    "dt = 360. / (24 * 3600)  # [days] Time step must be very small\n",
    "initial_age = 7"
   ]
  },
  {
   "cell_type": "markdown",
   "metadata": {},
   "source": [
    "The root system is calculated as but with a confining geometry "
   ]
  },
  {
   "cell_type": "code",
   "execution_count": 24,
   "metadata": {},
   "outputs": [],
   "source": [
    "rs = pb.MappedRootSystem() # handles conductivity and mapping to the soil cells\n",
    "path = \"../../../modelparameter/rootsystem/\"\n",
    "name = \"Anagallis_femina_Leitner_2010\"  # Zea_mays_1_Leitner_2010\n",
    "rs.readParameters(path + name + \".xml\")\n",
    "random_parameters = rs.getRootRandomParameter()\n",
    "for p in random_parameters[1:]:\n",
    "    p.dx = 0.25 \n",
    "if periodic:    \n",
    "    rs.setGeometry(pb.SDF_PlantBox(1.e6, 1.e6, max_b[2]-min_b[2])) \n",
    "else:\n",
    "    rs.setGeometry(pb.SDF_PlantBox(max_b[0]-min_b[0], max_b[1]-min_b[1], max_b[2]-min_b[2])) \n",
    "rs.initialize() # note that an artificial root of type 0 is added by MappedRootSystem\n",
    "rs.simulate(initial_age)\n",
    "_ = vp.plot_roots(pb.SegmentAnalyser(rs.mappedSegments()), \"subType\") "
   ]
  },
  {
   "cell_type": "markdown",
   "metadata": {},
   "source": [
    "Initialize macroscopic soil model"
   ]
  },
  {
   "cell_type": "code",
   "execution_count": 25,
   "metadata": {},
   "outputs": [],
   "source": [
    "s = RichardsWrapper(RichardsSP())\n",
    "s.initialize()\n",
    "s.createGrid(min_b, max_b, cell_number, periodic)  # [cm]\n",
    "s.setHomogeneousIC(initial, True)  # cm pressure head, equilibrium\n",
    "s.setTopBC(\"noFlux\")\n",
    "s.setBotBC(\"noFlux\")\n",
    "s.setVGParameters([soil])\n",
    "s.initializeProblem()\n",
    "s.setCriticalPressure(wilting_point)"
   ]
  },
  {
   "cell_type": "code",
   "execution_count": 26,
   "metadata": {},
   "outputs": [
    {
     "name": "stdout",
     "output_type": "stream",
     "text": [
      "\n",
      "XylemFluxPython.test():\n",
      "1470 segments\n",
      "Segment 0 [1152    1]\n",
      "warning multiple segments emerge from node 0\n",
      "0 segments with length < 1.e-5 cm\n",
      "5 different root types from 0 to 4\n",
      "ages from 0 to 7\n",
      "\n"
     ]
    }
   ],
   "source": [
    "\"\"\" Initialize xylem model \"\"\"\n",
    "r = XylemFluxPython(rs)\n",
    "r.rs.setRectangularGrid(pb.Vector3d(min_b[0], min_b[1], min_b[2]), pb.Vector3d(max_b[0], max_b[1], max_b[2]),\n",
    "                        pb.Vector3d(cell_number[0], cell_number[1], cell_number[2]), True)  # cutting\n",
    "r.setKr([0., kr, kr , kr, kr, kr]) # no radial flux into the artificial shoot segment\n",
    "r.setKx([1., kz, kz, kz, kz, kz])\n",
    "\n",
    "\"\"\" Coupling (map indices) \"\"\"\n",
    "picker = lambda x, y, z: s.pick([x, y, z])    \n",
    "cci = picker(r.rs.nodes[0].x, r.rs.nodes[0].y, r.rs.nodes[0].z)  # collar cell index\n",
    "r.rs.setSoilGrid(picker)  # maps segment\n",
    "r.test()  # sanity checks"
   ]
  },
  {
   "cell_type": "code",
   "execution_count": null,
   "metadata": {},
   "outputs": [
    {
     "name": "stdout",
     "output_type": "stream",
     "text": [
      "Summed fluxes  -6.232467543164036 = collar flux -6.232467543269304 = prescribed -6.232467530829627\n",
      "[****                                                                                                ], soil [-1087.48, -585.5] cm, root [-2571.57, -1539.51] cm, 0.25 days -2571.57\n",
      "\n",
      "Summed fluxes  -12.797806910370017 = collar flux -12.797806910738124 = prescribed -12.797806879843566\n",
      "[*******                                                                                             ], soil [-4500.33, -585.5] cm, root [-6376.07, -4106.76] cm, 0.5 days -6376.07\n",
      "\n",
      "Summed fluxes  -6.567532501118951 = collar flux -6.56753250137762 = prescribed -6.567532469170446\n",
      "[***********                                                                                         ], soil [-5853.76, -585.5] cm, root [-6628.72, -5400.02] cm, 0.75 days -6628.72\n",
      "\n"
     ]
    }
   ],
   "source": [
    "\"\"\" Numerical solution \"\"\"\n",
    "times_, soil_flux_, collar_flux_, sink1d_ = [], [], [], []\n",
    "sx = s.getSolutionHead()  # inital condition, solverbase.py\n",
    "N = round(sim_time / dt)\n",
    "t = 0.\n",
    "for i in range(0, N):\n",
    " \n",
    "    # root part\n",
    "    rx = r.solve(initial_age + t, -trans * sinusoidal(t), 0., sx, True, wilting_point, [])  # xylem_flux.py, cells = True\n",
    "    fluxes = r.soilFluxes(initial_age + t, rx, sx, False)  # class XylemFlux is defined in MappedOrganism.h, approx = True\n",
    " \n",
    "    # soil part\n",
    "    s.setSource(fluxes.copy())  # richards.py \n",
    "    s.solve(dt)\n",
    "    sx = s.getSolutionHead()  # richards.py\n",
    " \n",
    "    # post processing\n",
    "    times_.append(t)\n",
    "    sum_flux = 0.\n",
    "    for f in fluxes.values():\n",
    "        sum_flux += f\n",
    "    soil_flux_.append(sum_flux)  # cm3/day\n",
    "    collar_flux_.append(float(r.collar_flux(initial_age + t, rx, sx)))  # cm3/day\n",
    "        \n",
    "    # Console output and sink data \n",
    "    if (i+1) % 60 == 0:  # every 60th time step = every 6h        \n",
    "        print(\"Summed fluxes \", sum_flux, \"= collar flux\", collar_flux_[-1], \"= prescribed\", -trans * sinusoidal(t))\n",
    "        min_sx, max_sx = np.min(sx), np.max(sx)        \n",
    "        min_rx, max_rx = np.min(rx), np.max(rx)        \n",
    "        n = round(float(i) / float(N-1) * 100.)\n",
    "        print(\"[\" + ''.join([\"*\"]) * n + ''.join([\" \"]) * (100 - n) + \"], soil [{:g}, {:g}] cm, root [{:g}, {:g}] cm, {:g} days {:g}\\n\"\n",
    "              .format(min_sx, max_sx, min_rx, max_rx, s.simTime, rx[0]))\n",
    "        \n",
    "        ana = pb.SegmentAnalyser(r.rs)\n",
    "        fluxes = r.segFluxes(initial_age + t, rx, sx, False, cells=True)  # cm3/day\n",
    "        ana.addData(\"fluxes\", fluxes) \n",
    "        flux1d = ana.distribution(\"fluxes\", max_b[2], min_b[2], 15, True) \n",
    "        sink1d_.append(np.array(flux1d))\n",
    "\n",
    "    t += dt"
   ]
  },
  {
   "cell_type": "markdown",
   "metadata": {},
   "source": [
    "Save results and plot"
   ]
  },
  {
   "cell_type": "code",
   "execution_count": 17,
   "metadata": {},
   "outputs": [
    {
     "data": {
      "image/png": "[encoded data removed]",
      "text/plain": [
       "<Figure size 432x288 with 2 Axes>"
      ]
     },
     "metadata": {
      "needs_background": "light"
     },
     "output_type": "display_data"
    }
   ],
   "source": [
    "s.writeDumuxVTK(\"dumux-rosi-example\")\n",
    "vp.plot_roots_and_soil(r.rs, \"pressure head\", rx, s, periodic, min_b, max_b, cell_number, name)  # VTK vizualisation\n",
    "plot_transpiration(times_, soil_flux_, collar_flux_, lambda t: trans * sinusoidal(t))\n",
    "np.savetxt(name, np.vstack((times_, -np.array(soil_flux_))), delimiter=';')\n",
    "np.save(\"sink1d\", np.array(sink1d_))"
   ]
  },
  {
   "cell_type": "markdown",
   "metadata": {},
   "source": [
    "Things we can easily modify in the script\n",
    "* change initial age\n",
    "* change the soil \n",
    "* add root growth (rs.simulate(dt))\n",
    "* add age dependent conductivities\n",
    "\n"
   ]
  },
  {
   "cell_type": "markdown",
   "metadata": {},
   "source": [
    "## Take away messages\n",
    "\n",
    "How to couple the root system simulation with a dynamic soil solver "
   ]
  },
  {
   "cell_type": "markdown",
   "metadata": {},
   "source": [
    "## Further topics\n",
    "\n",
    "* Parallelisation (essential if we have a finer soil resolution)\n",
    "\n",
    "* Coupling to 1D axisymmetric modes, to represent the rhizosphere\n",
    "\n",
    "* Coupling to steady rate solutions of 1D axisymmetric Richards equation"
   ]
  }
 ],
 "metadata": {
  "kernelspec": {
   "display_name": "Python 3",
   "language": "python",
   "name": "python3"
  },
  "language_info": {
   "codemirror_mode": {
    "name": "ipython",
    "version": 3
   },
   "file_extension": ".py",
   "mimetype": "text/x-python",
   "name": "python",
   "nbconvert_exporter": "python",
   "pygments_lexer": "ipython3",
   "version": "3.8.10"
  },
  "latex_envs": {
   "LaTeX_envs_menu_present": true,
   "autoclose": false,
   "autocomplete": true,
   "bibliofile": "biblio.bib",
   "cite_by": "apalike",
   "current_citInitial": 1,
   "eqLabelWithNumbers": true,
   "eqNumInitial": 1,
   "hotkeys": {
    "equation": "Ctrl-E",
    "itemize": "Ctrl-I"
   },
   "labels_anchors": false,
   "latex_user_defs": false,
   "report_style_numbering": false,
   "user_envs_cfg": false
  }
 },
 "nbformat": 4,
 "nbformat_minor": 4
}
