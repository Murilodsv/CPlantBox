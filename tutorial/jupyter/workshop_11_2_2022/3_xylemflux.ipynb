{
 "cells": [
  {
   "cell_type": "markdown",
   "metadata": {},
   "source": [
    "# Workshop 11.2.2022 - (3/3)\n",
    "\n",
    "## Simulation of xylem water movement \n",
    "\n",
    "For calculation of xylem water movement it is necessary to describe the matric potential around the root segments. In the following example we consider a static root system and a static soil. The soil is either coupled per a matric potential around each segment, or the soil matric potentials are given in soil cells, and each segment is to a soil cell where the segment is located. The second approach is necessary if we extend the method to a dynamic soil. \n",
    "\n",
    "To compute the xylem flux we use the hybrid analytical approach of Meunier et al. 20XX.\n",
    "\n",
    "We start with a minimal example with constant conductivities (see *example6b_xylemflux.py*)"
   ]
  },
  {
   "cell_type": "code",
   "execution_count": 4,
   "metadata": {},
   "outputs": [
    {
     "name": "stdout",
     "output_type": "stream",
     "text": [
      "Transpiration -1.1849999999999996 cm3/day\n"
     ]
    },
    {
     "data": {
      "image/png": "[encoded data removed]",
      "text/plain": [
       "<Figure size 432x288 with 1 Axes>"
      ]
     },
     "metadata": {
      "needs_background": "light"
     },
     "output_type": "display_data"
    },
    {
     "data": {
      "text/plain": [
       "((vtkRenderingOpenGL2Python.vtkOpenGLActor)0x7f7c08161d00,\n",
       " (vtkRenderingAnnotationPython.vtkScalarBarActor)0x7f7bd1f5a8e0)"
      ]
     },
     "execution_count": 4,
     "metadata": {},
     "output_type": "execute_result"
    }
   ],
   "source": [
    "import sys; sys.path.append(\"../../..\"); sys.path.append(\"../../../src/python_modules\")\n",
    "from xylem_flux import XylemFluxPython  # Python hybrid solver\n",
    "import plantbox as pb\n",
    "import vtk_plot as vp\n",
    "import numpy as np\n",
    "import matplotlib.pyplot as plt\n",
    "\n",
    "\"\"\" Parameters \"\"\"\n",
    "kz = 4.32e-2  # axial conductivity [cm^3/day]\n",
    "kr = 1.728e-4  # radial conductivity [1/day]\n",
    "p_s = -200  # static soil pressure [cm]\n",
    "p0 = -500  # dircichlet bc at top\n",
    "simtime = 14  # [day] for task b\n",
    "\n",
    "\"\"\" root system \"\"\"\n",
    "rs = pb.MappedRootSystem()\n",
    "path = \"../../../modelparameter/rootsystem/\"\n",
    "name = \"Anagallis_femina_Leitner_2010\"  # Zea_mays_1_Leitner_2010\n",
    "rs.readParameters(path + name + \".xml\")\n",
    "rs.initialize()\n",
    "rs.simulate(simtime, False)\n",
    "\n",
    "\"\"\" root problem \"\"\"\n",
    "r = XylemFluxPython(rs)\n",
    "r.setKr([kr * 0, kr, kr , kr, kr, kr])\n",
    "r.setKx([kz, kz, kz, kz, kz, kz])\n",
    "nodes = r.get_nodes()\n",
    "soil_index = lambda x, y, z: 0 # only one cell, all roots are connected to cell 0\n",
    "r.rs.setSoilGrid(soil_index)\n",
    "\n",
    "\"\"\" Numerical solution \"\"\"\n",
    "rx = r.solve_dirichlet(simtime, p0, p_s, [p_s], True)\n",
    "trans = -1.185  # cm3\n",
    "rx = r.solve_neumann(simtime, trans, [p_s], True)\n",
    "fluxes = r.segFluxes(simtime, rx, -200 * np.ones(rx.shape), False)  # cm3/day\n",
    "print(\"Transpiration\", r.collar_flux(simtime, rx, [p_s]), \"cm3/day\")\n",
    "\n",
    "\"\"\" plot results \"\"\"\n",
    "plt.plot(rx, nodes[:, 2] , \"r*\")\n",
    "plt.xlabel(\"Xylem pressure (cm)\")\n",
    "plt.ylabel(\"Depth (m)\")\n",
    "plt.title(\"Xylem matric potential (cm)\")\n",
    "plt.show()\n",
    "\n",
    "\"\"\" Additional vtk plot \"\"\"\n",
    "ana = pb.SegmentAnalyser(r.rs)\n",
    "ana.addData(\"rx\", rx)\n",
    "ana.addData(\"fluxes\", fluxes)  # cut off for vizualisation\n",
    "vp.plot_roots(ana, \"fluxes\", \"Xylem matric potential (cm)\")  # \"rx\" fluxes\", subType\n"
   ]
  },
  {
   "cell_type": "code",
   "execution_count": null,
   "metadata": {},
   "outputs": [],
   "source": []
  },
  {
   "cell_type": "code",
   "execution_count": null,
   "metadata": {},
   "outputs": [],
   "source": []
  },
  {
   "cell_type": "code",
   "execution_count": null,
   "metadata": {},
   "outputs": [],
   "source": []
  }
 ],
 "metadata": {
  "kernelspec": {
   "display_name": "Python 3",
   "language": "python",
   "name": "python3"
  },
  "language_info": {
   "codemirror_mode": {
    "name": "ipython",
    "version": 3
   },
   "file_extension": ".py",
   "mimetype": "text/x-python",
   "name": "python",
   "nbconvert_exporter": "python",
   "pygments_lexer": "ipython3",
   "version": "3.8.10"
  },
  "latex_envs": {
   "LaTeX_envs_menu_present": true,
   "autoclose": false,
   "autocomplete": true,
   "bibliofile": "biblio.bib",
   "cite_by": "apalike",
   "current_citInitial": 1,
   "eqLabelWithNumbers": true,
   "eqNumInitial": 1,
   "hotkeys": {
    "equation": "Ctrl-E",
    "itemize": "Ctrl-I"
   },
   "labels_anchors": false,
   "latex_user_defs": false,
   "report_style_numbering": false,
   "user_envs_cfg": false
  }
 },
 "nbformat": 4,
 "nbformat_minor": 4
}
