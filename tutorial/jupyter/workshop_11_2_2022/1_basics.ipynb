{
 "cells": [
  {
   "cell_type": "code",
   "execution_count": null,
   "metadata": {},
   "outputs": [],
   "source": [
    "# !!! only run when using colab !!!\n",
    "import os\n",
    "! git clone https://github.com/Plant-Root-Soil-Interactions-Modelling/CPlantBox # downloading the source code\n",
    "os.chdir(\"/content/CPlantBox/\")\n",
    "! cmake .\n",
    "! make\n",
    "os.chdir(\"/content/CPlantBox/tutorial/jupyter/workshop_11_2_2022/\")"
   ]
  },
  {
   "cell_type": "markdown",
   "metadata": {},
   "source": [
    "# Workshop 11.2.2022 - (1/3)\n",
    "\n",
    "## CPlantBox basics\n",
    "\n",
    "How to simulate a root system, understanding model parameters, use of confining geometry\n",
    "\n",
    "### Importing the right modules"
   ]
  },
  {
   "cell_type": "code",
   "execution_count": 2,
   "metadata": {},
   "outputs": [],
   "source": [
    "import sys; sys.path.append(\"../../..\"); sys.path.append(\"../../../src/python_modules\")\n",
    "import plantbox as pb\n",
    "import vtk_plot as vp # for quick vizualisations"
   ]
  },
  {
   "cell_type": "markdown",
   "metadata": {},
   "source": [
    "### Simulate a root system"
   ]
  },
  {
   "cell_type": "code",
   "execution_count": 17,
   "metadata": {},
   "outputs": [
    {
     "data": {
      "text/plain": [
       "(<vtkmodules.vtkRenderingOpenGL2.vtkOpenGLActor(0x57bec90) at 0x7ff077efdca0>,\n",
       " <vtkmodules.vtkRenderingAnnotation.vtkScalarBarActor(0x7ff04805a4c0) at 0x7ff077efdd00>)"
      ]
     },
     "execution_count": 17,
     "metadata": {},
     "output_type": "execute_result"
    }
   ],
   "source": [
    "rs = pb.RootSystem()\n",
    "\n",
    "# Open plant and root parameter from a file\n",
    "path = \"../../../modelparameter/rootsystem/\"\n",
    "name = \"Anagallis_femina_Leitner_2010\"\n",
    "rs.readParameters(path + name + \".xml\")\n",
    "rs.initialize() \n",
    "\n",
    "rs.simulate(30) # [days]\n",
    "\n",
    "# Export\n",
    "rs.write(\"first_example.vtp\") # for Paraview\n",
    "rs.write(\"first_example.rsml\") # e.g. gui/viewer/rsml_viewer.py\n",
    "\n",
    "vp.plot_roots(rs, \"creationTime\") # Plot, using vtk (e.g. \"subType\")"
   ]
  },
  {
   "cell_type": "markdown",
   "metadata": {},
   "source": [
    "Multiple root systems are created in the very same way, see *example2a_initializeparams.py*."
   ]
  },
  {
   "cell_type": "markdown",
   "metadata": {},
   "source": [
    "### Understanding model parameter\n",
    "\n",
    "The seed contains the information to create the plant and is defined by the class *SeedRandomParameter*.\n",
    "Each root type of emerging roots is represented by the class *RootRandomParameter*\n",
    "\n",
    "Specific plants and roots (at their creation) are presented by the classes *SeedSpecificParameter* and *RootSpecificParameter*\n"
   ]
  },
  {
   "cell_type": "code",
   "execution_count": 3,
   "metadata": {},
   "outputs": [
    {
     "name": "stdout",
     "output_type": "stream",
     "text": [
      "[Parameters of Anagallis_femina_Leitner_2010]\n",
      "Variable\t\tValue\t\tDeviation\t\tDescription\n",
      "===\n",
      "maxTi             \t0\t\t0\t\t\tMaximal number of tillers [1]\n",
      "organType         \t1\t\t-\t\t\tOrgan type (unspecified organ = 0, seed = 1, root = 2, stem = 3, leaf = 4)\n",
      "subType           \t0\t\t-\t\t\tUnique identifier of this sub type\n",
      "a                 \t0.1\t\t0\t\t\tradius [cm]\n",
      "delayB            \t0\t\t0\t\t\tTime delay between the basal roots [day]\n",
      "delayRC           \t1000\t\t0\t\t\tDelay between the root crowns [day]\n",
      "delaySB           \t1000\t\t0\t\t\tTime delay between the shoot borne roots [day]\n",
      "delayTi           \t1e+09\t\t0\t\t\tTime delay between the tillers [day]\n",
      "dx                \t0.25\t\t-\t\t\tAxial resolution [cm] (maximal segment size)\n",
      "dxMin             \t1e-06\t\t-\t\t\tAxial resolution [cm] (minimal segment size)\n",
      "firstB            \t0\t\t0\t\t\tEmergence of first basal root [day]\n",
      "firstSB           \t1000\t\t0\t\t\tFirst emergence of a shoot borne root [day]\n",
      "firstTi           \t1e+09\t\t0\t\t\tEmergence of first tiller [day]\n",
      "maxB              \t0\t\t0\t\t\tMaximal number of basal roots [1]\n",
      "nC                \t0\t\t0\t\t\tMaximal number of roots per root crown [1]\n",
      "nz                \t0\t\t0\t\t\tDistance between the root crowns along the shoot [cm]\n",
      "seedPos.x         \t0\t\t0\t\t\tX-Coordinate of seed position [cm]\n",
      "seedPos.y         \t0\t\t0\t\t\tY-Coordinate of seed position [cm]\n",
      "seedPos.z         \t-3\t\t0\t\t\tZ-Coordinate of seed position [cm]\n",
      "simulationTime    \t15\t\t0\t\t\tRecommended final simulation time  [day]\n",
      "===\n",
      "\n"
     ]
    }
   ],
   "source": [
    "random_seed = rs.getRootSystemParameter()\n",
    "print(random_seed)"
   ]
  },
  {
   "cell_type": "code",
   "execution_count": 7,
   "metadata": {},
   "outputs": [
    {
     "name": "stdout",
     "output_type": "stream",
     "text": [
      "[Parameters of undefined]\n",
      "Variable\t\tValue\t\tDeviation\t\tDescription\n",
      "===\n",
      "gf                \t1\t\t0\t\t\tGrowth function number [1]\n",
      "organType         \t2\t\t-\t\t\tOrgan type (unspecified organ = 0, seed = 1, root = 2, stem = 3, leaf = 4)\n",
      "subType           \t0\t\t-\t\t\tUnique identifier of this sub type\n",
      "tropismT          \t1\t\t-\t\t\tType of root tropism (plagio = 0, gravi = 1, exo = 2, hydro, chemo = 3)\n",
      "a                 \t0.1\t\t0\t\t\tradius [cm]\n",
      "colorB            \t0.2\t\t-\t\t\tRoot color, blue component [0.-1.]\n",
      "colorG            \t0.2\t\t-\t\t\tRoot color, green component [0.-1.]\n",
      "colorR            \t0.6\t\t-\t\t\tRoot color, red component [0.-1.]\n",
      "dx                \t0.25\t\t-\t\t\tAxial resolution [cm] (maximal segment size)\n",
      "dxMin             \t1e-06\t\t-\t\t\tAxial resolution [cm] (minimal segment size)\n",
      "la                \t10\t\t0\t\t\tApical zone [cm]\n",
      "lb                \t0\t\t0\t\t\tBasal zone [cm]\n",
      "ldelay            \t1\t\t0\t\t\tLateral root emergence delay [day]\n",
      "lmax              \t0\t\t0\t\t\tMaximal root length [cm]\n",
      "ln                \t1\t\t0\t\t\tInter-lateral distance [cm]\n",
      "lnk               \t0\t\t-\t\t\tSlope of inter-lateral distances [1]\n",
      "r                 \t1\t\t0\t\t\tInitial growth rate [cm day-1]\n",
      "rlt               \t1e+09\t\t0\t\t\tRoot life time [day]\n",
      "theta             \t1.22\t\t0\t\t\tAngle between root and parent root [rad]\n",
      "tropismN          \t1\t\t-\t\t\tNumber of trials of root tropism\n",
      "tropismS          \t0.2\t\t-\t\t\tMean value of expected change of root tropism [1/cm]\n",
      "successor\t\tSub type of lateral roots\n",
      "successorP\t\tProbability of each sub type to occur\n",
      "===\n",
      "\n",
      "[Parameters of primaryroot]\n",
      "Variable\t\tValue\t\tDeviation\t\tDescription\n",
      "===\n",
      "gf                \t1\t\t0\t\t\tGrowth function number [1]\n",
      "organType         \t2\t\t-\t\t\tOrgan type (unspecified organ = 0, seed = 1, root = 2, stem = 3, leaf = 4)\n",
      "subType           \t1\t\t-\t\t\tUnique identifier of this sub type\n",
      "tropismT          \t1\t\t-\t\t\tType of root tropism (plagio = 0, gravi = 1, exo = 2, hydro, chemo = 3)\n",
      "a                 \t0.05\t\t0\t\t\tradius [cm]\n",
      "colorB            \t0.196078\t\t-\t\t\tRoot color, blue component [0.-1.]\n",
      "colorG            \t0.392157\t\t-\t\t\tRoot color, green component [0.-1.]\n",
      "colorR            \t0.431373\t\t-\t\t\tRoot color, red component [0.-1.]\n",
      "dx                \t1\t\t-\t\t\tAxial resolution [cm] (maximal segment size)\n",
      "dxMin             \t1e-06\t\t-\t\t\tAxial resolution [cm] (minimal segment size)\n",
      "la                \t1.2\t\t0\t\t\tApical zone [cm]\n",
      "lb                \t1\t\t0\t\t\tBasal zone [cm]\n",
      "ldelay            \t1\t\t0\t\t\tLateral root emergence delay [day]\n",
      "lmax              \t33.4\t\t3.3\t\t\tMaximal root length [cm]\n",
      "ln                \t0.8\t\t0\t\t\tInter-lateral distance [cm]\n",
      "lnk               \t0\t\t-\t\t\tSlope of inter-lateral distances [1]\n",
      "r                 \t4\t\t0\t\t\tInitial growth rate [cm day-1]\n",
      "rlt               \t1e+09\t\t0\t\t\tRoot life time [day]\n",
      "theta             \t0\t\t0\t\t\tAngle between root and parent root [rad]\n",
      "tropismN          \t4\t\t-\t\t\tNumber of trials of root tropism\n",
      "tropismS          \t1.5708\t\t-\t\t\tMean value of expected change of root tropism [1/cm]\n",
      "successor\t2 \tSub type of lateral roots\n",
      "successorP\t1 \tProbability of each sub type to occur\n",
      "===\n",
      "\n",
      "[Parameters of 1storderlaterals]\n",
      "Variable\t\tValue\t\tDeviation\t\tDescription\n",
      "===\n",
      "gf                \t1\t\t0\t\t\tGrowth function number [1]\n",
      "organType         \t2\t\t-\t\t\tOrgan type (unspecified organ = 0, seed = 1, root = 2, stem = 3, leaf = 4)\n",
      "subType           \t2\t\t-\t\t\tUnique identifier of this sub type\n",
      "tropismT          \t1\t\t-\t\t\tType of root tropism (plagio = 0, gravi = 1, exo = 2, hydro, chemo = 3)\n",
      "a                 \t0.03\t\t0\t\t\tradius [cm]\n",
      "colorB            \t0.156863\t\t-\t\t\tRoot color, blue component [0.-1.]\n",
      "colorG            \t0.490196\t\t-\t\t\tRoot color, green component [0.-1.]\n",
      "colorR            \t0.54902\t\t-\t\t\tRoot color, red component [0.-1.]\n",
      "dx                \t1\t\t-\t\t\tAxial resolution [cm] (maximal segment size)\n",
      "dxMin             \t1e-06\t\t-\t\t\tAxial resolution [cm] (minimal segment size)\n",
      "la                \t0.8\t\t0.2\t\t\tApical zone [cm]\n",
      "lb                \t0.4\t\t0.1\t\t\tBasal zone [cm]\n",
      "ldelay            \t1\t\t0\t\t\tLateral root emergence delay [day]\n",
      "lmax              \t7.7\t\t10\t\t\tMaximal root length [cm]\n",
      "ln                \t0.5\t\t0.1\t\t\tInter-lateral distance [cm]\n",
      "lnk               \t0\t\t-\t\t\tSlope of inter-lateral distances [1]\n",
      "r                 \t1.5\t\t0.15\t\t\tInitial growth rate [cm day-1]\n",
      "rlt               \t1e+09\t\t0\t\t\tRoot life time [day]\n",
      "theta             \t1.22173\t\t0.0523599\t\t\tAngle between root and parent root [rad]\n",
      "tropismN          \t2\t\t-\t\t\tNumber of trials of root tropism\n",
      "tropismS          \t0.523599\t\t-\t\t\tMean value of expected change of root tropism [1/cm]\n",
      "successor\t3 \tSub type of lateral roots\n",
      "successorP\t1 \tProbability of each sub type to occur\n",
      "===\n",
      "\n",
      "[Parameters of 2ndorderlaterals]\n",
      "Variable\t\tValue\t\tDeviation\t\tDescription\n",
      "===\n",
      "gf                \t1\t\t0\t\t\tGrowth function number [1]\n",
      "organType         \t2\t\t-\t\t\tOrgan type (unspecified organ = 0, seed = 1, root = 2, stem = 3, leaf = 4)\n",
      "subType           \t3\t\t-\t\t\tUnique identifier of this sub type\n",
      "tropismT          \t1\t\t-\t\t\tType of root tropism (plagio = 0, gravi = 1, exo = 2, hydro, chemo = 3)\n",
      "a                 \t0.02\t\t0\t\t\tradius [cm]\n",
      "colorB            \t0.117647\t\t-\t\t\tRoot color, blue component [0.-1.]\n",
      "colorG            \t0.588235\t\t-\t\t\tRoot color, green component [0.-1.]\n",
      "colorR            \t0.627451\t\t-\t\t\tRoot color, red component [0.-1.]\n",
      "dx                \t1\t\t-\t\t\tAxial resolution [cm] (maximal segment size)\n",
      "dxMin             \t1e-06\t\t-\t\t\tAxial resolution [cm] (minimal segment size)\n",
      "la                \t0.1\t\t0.01\t\t\tApical zone [cm]\n",
      "lb                \t0.1\t\t0.01\t\t\tBasal zone [cm]\n",
      "ldelay            \t1\t\t0\t\t\tLateral root emergence delay [day]\n",
      "lmax              \t0.44\t\t0.04\t\t\tMaximal root length [cm]\n",
      "ln                \t0.24\t\t0\t\t\tInter-lateral distance [cm]\n",
      "lnk               \t0\t\t-\t\t\tSlope of inter-lateral distances [1]\n",
      "r                 \t2\t\t0.2\t\t\tInitial growth rate [cm day-1]\n",
      "rlt               \t1e+09\t\t0\t\t\tRoot life time [day]\n",
      "theta             \t1.18682\t\t0.0523599\t\t\tAngle between root and parent root [rad]\n",
      "tropismN          \t2\t\t-\t\t\tNumber of trials of root tropism\n",
      "tropismS          \t0.785398\t\t-\t\t\tMean value of expected change of root tropism [1/cm]\n",
      "successor\t4 \tSub type of lateral roots\n",
      "successorP\t1 \tProbability of each sub type to occur\n",
      "===\n",
      "\n",
      "[Parameters of 3rdorderlaterals]\n",
      "Variable\t\tValue\t\tDeviation\t\tDescription\n",
      "===\n",
      "gf                \t1\t\t0\t\t\tGrowth function number [1]\n",
      "organType         \t2\t\t-\t\t\tOrgan type (unspecified organ = 0, seed = 1, root = 2, stem = 3, leaf = 4)\n",
      "subType           \t4\t\t-\t\t\tUnique identifier of this sub type\n",
      "tropismT          \t0\t\t-\t\t\tType of root tropism (plagio = 0, gravi = 1, exo = 2, hydro, chemo = 3)\n",
      "a                 \t0.02\t\t0\t\t\tradius [cm]\n",
      "colorB            \t0.0392157\t\t-\t\t\tRoot color, blue component [0.-1.]\n",
      "colorG            \t0.784314\t\t-\t\t\tRoot color, green component [0.-1.]\n",
      "colorR            \t0.784314\t\t-\t\t\tRoot color, red component [0.-1.]\n",
      "dx                \t1\t\t-\t\t\tAxial resolution [cm] (maximal segment size)\n",
      "dxMin             \t1e-06\t\t-\t\t\tAxial resolution [cm] (minimal segment size)\n",
      "la                \t0.4\t\t0.03\t\t\tApical zone [cm]\n",
      "lb                \t0\t\t0\t\t\tBasal zone [cm]\n",
      "ldelay            \t1\t\t0\t\t\tLateral root emergence delay [day]\n",
      "lmax              \t0.4\t\t0.04\t\t\tMaximal root length [cm]\n",
      "ln                \t0\t\t0\t\t\tInter-lateral distance [cm]\n",
      "lnk               \t0\t\t-\t\t\tSlope of inter-lateral distances [1]\n",
      "r                 \t2\t\t0.2\t\t\tInitial growth rate [cm day-1]\n",
      "rlt               \t1e+09\t\t0\t\t\tRoot life time [day]\n",
      "theta             \t1.18682\t\t0.0523599\t\t\tAngle between root and parent root [rad]\n",
      "tropismN          \t0\t\t-\t\t\tNumber of trials of root tropism\n",
      "tropismS          \t0.314159\t\t-\t\t\tMean value of expected change of root tropism [1/cm]\n",
      "successor\t\tSub type of lateral roots\n",
      "successorP\t\tProbability of each sub type to occur\n",
      "===\n",
      "\n"
     ]
    }
   ],
   "source": [
    "random_parameters = rs.getRootRandomParameter()\n",
    "for p in random_parameters:\n",
    "    print(p)"
   ]
  },
  {
   "cell_type": "markdown",
   "metadata": {},
   "source": [
    "All random parameters can be accessed and changed (especially usefull for dx, or standard deviations)"
   ]
  },
  {
   "cell_type": "code",
   "execution_count": 9,
   "metadata": {},
   "outputs": [
    {
     "name": "stdout",
     "output_type": "stream",
     "text": [
      "Apical length of root subType 1 is 10.0 cm\n",
      "Maximal root length for subType 0 is 0.0 cm sd 0.0\n",
      "Maximal root length for subType 1 is 33.400002 cm sd 3.3\n",
      "Maximal root length for subType 2 is 7.6999998 cm sd 10.0\n",
      "Maximal root length for subType 3 is 0.44 cm sd 0.039999999\n",
      "Maximal root length for subType 4 is 0.40000001 cm sd 0.039999999\n"
     ]
    }
   ],
   "source": [
    "print(\"Apical length of root subType\", random_parameters[1].subType,\"is\", random_parameters[1].la, \"cm\")\n",
    "random_parameters[1].la = 10\n",
    "for p in random_parameters:\n",
    "    print(\"Maximal root length for subType\", p.subType, \"is\", p.lmax, \"cm\", \"sd\", p.lmaxs)"
   ]
  },
  {
   "cell_type": "markdown",
   "metadata": {},
   "source": [
    "Make the root system smaller"
   ]
  },
  {
   "cell_type": "code",
   "execution_count": 10,
   "metadata": {},
   "outputs": [
    {
     "data": {
      "text/plain": [
       "(<vtkmodules.vtkRenderingOpenGL2.vtkOpenGLActor(0x4717e40) at 0x7ff077efd640>,\n",
       " <vtkmodules.vtkRenderingAnnotation.vtkScalarBarActor(0x444eed0) at 0x7ff077efd4c0>)"
      ]
     },
     "execution_count": 10,
     "metadata": {},
     "output_type": "execute_result"
    }
   ],
   "source": [
    "random_parameters[2].lmax = 1 # cm # subType 2 are the first order laterals\n",
    "random_parameters[2].lmaxs = 0 # cm\n",
    "rs.initialize() \n",
    "rs.simulate(30) \n",
    "vp.plot_roots(rs, \"subType\") # Plot, using vtk "
   ]
  },
  {
   "cell_type": "markdown",
   "metadata": {},
   "source": [
    "The modified parameter set can be saved as xml parameter file. XML files can be conveniently viewed in a web browser. "
   ]
  },
  {
   "cell_type": "code",
   "execution_count": 11,
   "metadata": {},
   "outputs": [],
   "source": [
    "rs.writeParameters(\"modified_\"+name + \".xml\")"
   ]
  },
  {
   "cell_type": "markdown",
   "metadata": {},
   "source": [
    "Specific plant and root parameters can be accessed in similar way, but they should not be changed (its a simulation result), and it is simpler to pull out such values using *getParameter*, which will be shown in the next jupyter notebook."
   ]
  },
  {
   "cell_type": "markdown",
   "metadata": {},
   "source": [
    "TODO parameters Figure for root and seed params\n",
    "\n",
    "TODO widget for changing parameters"
   ]
  },
  {
   "cell_type": "markdown",
   "metadata": {},
   "source": [
    "You do not need a parameter file, everything can be defined in the Python script, see *example2a_initializeparams*."
   ]
  },
  {
   "cell_type": "markdown",
   "metadata": {},
   "source": [
    "## Use of confining geometry or obstacles\n",
    "\n",
    "Confining geometry and obstacles can be defined using signed distance functions (SDF), classes are defined in *src/sdf.h*. \n",
    "\n",
    "Its always a good idea to define the soil volume (even if unconstrained), because otherwise roots may grow upwards out of the soil (which is normally not to be expected)."
   ]
  },
  {
   "cell_type": "code",
   "execution_count": 12,
   "metadata": {},
   "outputs": [
    {
     "data": {
      "text/plain": [
       "(<vtkmodules.vtkRenderingOpenGL2.vtkOpenGLActor(0x4463db0) at 0x7ff077efd940>,\n",
       " <vtkmodules.vtkRenderingAnnotation.vtkScalarBarActor(0x43e53f0) at 0x7ff077efda00>)"
      ]
     },
     "execution_count": 12,
     "metadata": {},
     "output_type": "execute_result"
    }
   ],
   "source": [
    "rs = pb.RootSystem()\n",
    "path = \"../../../modelparameter/rootsystem/\" # Open plant and root parameter from a file\n",
    "name = \"Zea_mays_4_Leitner_2014\"\n",
    "rs.readParameters(path + name + \".xml\")\n",
    "rs.setGeometry(pb.SDF_PlantBox(1.e6,1.e6,1.e6)) # length, width, height [-5.e5,5.e5] [-5.e5,5.e5] [0.,-1.e6]\n",
    "rs.initialize()\n",
    "rs.simulate(60)  # days\n",
    "vp.plot_roots(rs, \"creationTime\") "
   ]
  },
  {
   "cell_type": "markdown",
   "metadata": {},
   "source": [
    "The following example is part of *example1c_complexcontainer.py* and describes a split box experiment"
   ]
  },
  {
   "cell_type": "code",
   "execution_count": 13,
   "metadata": {},
   "outputs": [
    {
     "name": "stdout",
     "output_type": "stream",
     "text": [
      "distance to next boundary -2.0 cm\n"
     ]
    }
   ],
   "source": [
    "topBox = pb.SDF_PlantBox(22, 20, 5) # length, width, height [cm]\n",
    "sideBox = pb.SDF_PlantBox(10, 20, 35)\n",
    "left = pb.SDF_RotateTranslate(sideBox, pb.Vector3d(-6, 0, -5))\n",
    "right = pb.SDF_RotateTranslate(sideBox, pb.Vector3d(6, 0, -5))\n",
    "box_ = [topBox, left, right]\n",
    "splitBox = pb.SDF_Union(box_)\n",
    "print(\"distance to next boundary\", topBox.getDist(pb.Vector3d(0, 0, -3)), \"cm\")"
   ]
  },
  {
   "cell_type": "code",
   "execution_count": 15,
   "metadata": {},
   "outputs": [
    {
     "data": {
      "text/plain": [
       "(<vtkmodules.vtkRenderingOpenGL2.vtkOpenGLActor(0x562c410) at 0x7ff077efd700>,\n",
       " <vtkmodules.vtkRenderingAnnotation.vtkScalarBarActor(0x452f770) at 0x7ff077efd8e0>)"
      ]
     },
     "execution_count": 15,
     "metadata": {},
     "output_type": "execute_result"
    }
   ],
   "source": [
    "rs.setGeometry(splitBox)\n",
    "rs.initialize()\n",
    "rs.simulate(60)  # days\n",
    "rs.write(\"splitbox.vtp\")\n",
    "vp.plot_roots(rs, \"creationTime\") "
   ]
  },
  {
   "cell_type": "markdown",
   "metadata": {},
   "source": [
    "More examples are given in *example1c_complexcontainer.py*. Visualization of the geometry can be achieved by writing a Paraview Python macro:"
   ]
  },
  {
   "cell_type": "code",
   "execution_count": 16,
   "metadata": {},
   "outputs": [],
   "source": [
    "rs.write(\"splitbox.py\") # can be run by Paraview"
   ]
  },
  {
   "cell_type": "code",
   "execution_count": null,
   "metadata": {},
   "outputs": [],
   "source": []
  }
 ],
 "metadata": {
  "kernelspec": {
   "display_name": "Python 3",
   "language": "python",
   "name": "python3"
  },
  "language_info": {
   "codemirror_mode": {
    "name": "ipython",
    "version": 3
   },
   "file_extension": ".py",
   "mimetype": "text/x-python",
   "name": "python",
   "nbconvert_exporter": "python",
   "pygments_lexer": "ipython3",
   "version": "3.8.10"
  },
  "latex_envs": {
   "LaTeX_envs_menu_present": true,
   "autoclose": false,
   "autocomplete": true,
   "bibliofile": "biblio.bib",
   "cite_by": "apalike",
   "current_citInitial": 1,
   "eqLabelWithNumbers": true,
   "eqNumInitial": 1,
   "hotkeys": {
    "equation": "Ctrl-E",
    "itemize": "Ctrl-I"
   },
   "labels_anchors": false,
   "latex_user_defs": false,
   "report_style_numbering": false,
   "user_envs_cfg": false
  }
 },
 "nbformat": 4,
 "nbformat_minor": 5
}
