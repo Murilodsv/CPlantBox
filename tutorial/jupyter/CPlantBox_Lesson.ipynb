{
 "cells": [
  {
   "cell_type": "markdown",
   "metadata": {},
   "source": [
    "# Install and use CPlantBox in 5 minutes\n",
    "In this tutorial, you only need to click the small triangle button on the left top corner of the code blocks.\n",
    "Feel free to modify the code if needed, remember to save the notebook by download or save in google drive, if you note down all the modifications, you don't have to download the entire CPlantBox or the modified parameter files.\n",
    "In the following block is the library we needed for running CPlantBox"
   ]
  },
  {
   "cell_type": "code",
   "execution_count": 1,
   "metadata": {
    "colab": {},
    "colab_type": "code",
    "id": "GOhVEgo5B5WY"
   },
   "outputs": [
    {
     "name": "stdout",
     "output_type": "stream",
     "text": [
      "Collecting vtk\n",
      "  Using cached https://files.pythonhosted.org/packages/22/f5/30e11e1ad21701e1cd185b046979107930419a74a5602c6b899dc8523fe4/vtk-8.1.2-cp36-cp36m-manylinux1_x86_64.whl\n",
      "Installing collected packages: vtk\n",
      "Successfully installed vtk-8.1.2\n"
     ]
    }
   ],
   "source": [
    "#<---Click this triangle to load python libraries\n",
    "# loading other python library or packages. Only need to run once at the start.\n",
    "!pip3 install vtk\n",
    "from vtk.util import numpy_support as VN\n",
    "import vtk"
   ]
  },
  {
   "cell_type": "markdown",
   "metadata": {
    "colab_type": "text",
    "id": "5JkvaTZEGMQk"
   },
   "source": [
    "## 1. Install CPlantBox\n",
    "* The source code of CPlantBox is always published on GitHub, here we can download them (git clone) from github\n",
    "* The next thing after download is to compile it, compile is similar to installation, you can move on."
   ]
  },
  {
   "cell_type": "code",
   "execution_count": null,
   "metadata": {
    "colab": {},
    "colab_type": "code",
    "id": "tWkNcbI713D1"
   },
   "outputs": [],
   "source": [
    "#<---Click this triangle inside the round circle to download the CPlantBox\n",
    "! git clone https://github.com/Plant-Root-Soil-Interactions-Modelling/CPlantBox # downloading the source code\n",
    "# if you are running in Colab, the programmed is precompiled, so you can use it directly. if the next block does not work\n",
    "# then you need to uncomment the next three lines and run this block.\n",
    "#os.chdir(\"/content/CPlantBox\") # change directory\n",
    "#!cmake . # Run Cmake, creating compiling files\n",
    "#!make # Complie the code to make it runable\n",
    "os.chdir(\"/content/CPlantBox/tutorial/jupyter\") # Change to the python directory (working directory)\n",
    "# Congrats! Now you are ready to use the CPlantBox\n",
    "!rm modelparameter\n",
    "!ln -s /content/CPlantBox/modelparameter/ modelparameter\n",
    "!ls\n",
    "# optional in case an update is just pushed to the repository\n",
    "#! git pull # update the file comparing to github repository"
   ]
  },
  {
   "cell_type": "markdown",
   "metadata": {},
   "source": [
    "## 2. Load CPlantBox"
   ]
  },
  {
   "cell_type": "code",
   "execution_count": 1,
   "metadata": {
    "colab": {},
    "colab_type": "code",
    "id": "IbpvWzuoBsPx"
   },
   "outputs": [
    {
     "data": {
      "text/plain": [
       "'4.1.1'"
      ]
     },
     "execution_count": 1,
     "metadata": {},
     "output_type": "execute_result"
    }
   ],
   "source": [
    "import sys\n",
    "# Loading specific python scripts for CPlantBox and CRootBox\n",
    "from CPlantBox_PiafMunch import *\n",
    "plotly.__version__\n",
    "# If not all of them are installed, run the following blocks to install them, and rerun this block\n",
    "# Otherwise skip the next block\n",
    "for i in range(0,9):\n",
    "    \n",
    "    plant1 = CPlantBox_analysis('{}_new.xml'.format(str(i)), 180, '{}'.format(str(i)))"
   ]
  },
  {
   "cell_type": "code",
   "execution_count": null,
   "metadata": {},
   "outputs": [],
   "source": [
    "from vtk import *\n",
    "from vtk.util import numpy_support as VN\n",
    "from CPlantBox_PiafMunch import *\n",
    "appendFilter = vtk.vtkAppendPolyData()\n",
    "for i in range(0,10):\n",
    "\n",
    "    vtpname = str(i)+'.vtp'\n",
    "    reader1 = vtk.vtkXMLPolyDataReader()\n",
    "    input1 = vtk.vtkPolyData()\n",
    "    path1 = \"{}\".format(vtpname) #path or name of the vtp output\n",
    "    reader1.SetFileName(path1)\n",
    "    reader1.Update()\n",
    "    input1.ShallowCopy(reader1.GetOutput())\n",
    "    appendFilter.AddInputData(input1)\n",
    "    appendFilter.Update()\n",
    "\n",
    "    #  Remove any duplicate points.\n",
    "    #cleanFilter = vtk.vtkCleanPolyData()\n",
    "    #cleanFilter.SetInputConnection(appendFilter.GetOutputPort())\n",
    "    #cleanFilter.Update()\n",
    "writer = vtk.vtkXMLPolyDataWriter()\n",
    "writer.SetFileName(\"all_plant.vtp\")\n",
    "writer.SetInputData(appendFilter.GetOutput()) \n",
    "writer.Write()  "
   ]
  },
  {
   "cell_type": "markdown",
   "metadata": {},
   "source": [
    "## 3. Creating a small plant and visiualize it\n",
    "\n",
    "1. Three things needed for a CPlantBox function/method are the name of the input parameter, time for the simulation and output name of the file.\n",
    "    * Name must be the same as the file in the /modelparameter folder, you can learn how to create it in the next section\n",
    "    * Time is the time that plant grown, normally larger number means "
   ]
  },
  {
   "cell_type": "code",
   "execution_count": 2,
   "metadata": {
    "colab": {
     "base_uri": "https://localhost:8080/",
     "height": 136
    },
    "colab_type": "code",
    "id": "x3paxea6JZbB",
    "outputId": "93c01fde-892f-4df3-cc82-0ea7e7d5c702"
   },
   "outputs": [
    {
     "ename": "AttributeError",
     "evalue": "'plantbox.Plant' object has no attribute 'getNodesOrganType'",
     "output_type": "error",
     "traceback": [
      "\u001b[0;31m---------------------------------------------------------------------------\u001b[0m",
      "\u001b[0;31mAttributeError\u001b[0m                            Traceback (most recent call last)",
      "\u001b[0;32m<ipython-input-2-b8837d4ee813>\u001b[0m in \u001b[0;36m<module>\u001b[0;34m\u001b[0m\n\u001b[1;32m     35\u001b[0m     \u001b[0;32mreturn\u001b[0m \u001b[0mfig\u001b[0m\u001b[0;34m\u001b[0m\u001b[0;34m\u001b[0m\u001b[0m\n\u001b[1;32m     36\u001b[0m \u001b[0;34m\u001b[0m\u001b[0m\n\u001b[0;32m---> 37\u001b[0;31m \u001b[0mfig\u001b[0m \u001b[0;34m=\u001b[0m \u001b[0mvisual_plant\u001b[0m\u001b[0;34m(\u001b[0m\u001b[0mplant1\u001b[0m\u001b[0;34m)\u001b[0m\u001b[0;34m\u001b[0m\u001b[0;34m\u001b[0m\u001b[0m\n\u001b[0m\u001b[1;32m     38\u001b[0m \u001b[0mfig\u001b[0m\u001b[0;34m.\u001b[0m\u001b[0mshow\u001b[0m\u001b[0;34m(\u001b[0m\u001b[0;34m)\u001b[0m\u001b[0;34m\u001b[0m\u001b[0;34m\u001b[0m\u001b[0m\n\u001b[1;32m     39\u001b[0m \u001b[0;34m\u001b[0m\u001b[0m\n",
      "\u001b[0;32m<ipython-input-2-b8837d4ee813>\u001b[0m in \u001b[0;36mvisual_plant\u001b[0;34m(plant1)\u001b[0m\n\u001b[1;32m     27\u001b[0m \u001b[0;34m\u001b[0m\u001b[0m\n\u001b[1;32m     28\u001b[0m \u001b[0;32mdef\u001b[0m \u001b[0mvisual_plant\u001b[0m\u001b[0;34m(\u001b[0m\u001b[0mplant1\u001b[0m\u001b[0;34m)\u001b[0m\u001b[0;34m:\u001b[0m\u001b[0;34m\u001b[0m\u001b[0;34m\u001b[0m\u001b[0m\n\u001b[0;32m---> 29\u001b[0;31m     \u001b[0msubfig\u001b[0m \u001b[0;34m=\u001b[0m \u001b[0mvisual_plant_sub\u001b[0m\u001b[0;34m(\u001b[0m\u001b[0mplant1\u001b[0m\u001b[0;34m)\u001b[0m\u001b[0;34m\u001b[0m\u001b[0;34m\u001b[0m\u001b[0m\n\u001b[0m\u001b[1;32m     30\u001b[0m     fig = make_subplots(\n\u001b[1;32m     31\u001b[0m     \u001b[0mrows\u001b[0m\u001b[0;34m=\u001b[0m\u001b[0;36m1\u001b[0m\u001b[0;34m,\u001b[0m \u001b[0mcols\u001b[0m\u001b[0;34m=\u001b[0m\u001b[0;36m1\u001b[0m\u001b[0;34m,\u001b[0m\u001b[0;34m\u001b[0m\u001b[0;34m\u001b[0m\u001b[0m\n",
      "\u001b[0;32m<ipython-input-2-b8837d4ee813>\u001b[0m in \u001b[0;36mvisual_plant_sub\u001b[0;34m(plant1, name)\u001b[0m\n\u001b[1;32m      8\u001b[0m \u001b[0;31m# Visualization\u001b[0m\u001b[0;34m\u001b[0m\u001b[0;34m\u001b[0m\u001b[0;34m\u001b[0m\u001b[0m\n\u001b[1;32m      9\u001b[0m \u001b[0;32mdef\u001b[0m \u001b[0mvisual_plant_sub\u001b[0m\u001b[0;34m(\u001b[0m\u001b[0mplant1\u001b[0m\u001b[0;34m,\u001b[0m\u001b[0mname\u001b[0m\u001b[0;34m=\u001b[0m\u001b[0;34m'plant'\u001b[0m\u001b[0;34m)\u001b[0m\u001b[0;34m:\u001b[0m\u001b[0;34m\u001b[0m\u001b[0;34m\u001b[0m\u001b[0m\n\u001b[0;32m---> 10\u001b[0;31m     \u001b[0mnodes_cor\u001b[0m \u001b[0;34m=\u001b[0m \u001b[0mpython_nodes\u001b[0m\u001b[0;34m(\u001b[0m\u001b[0mplant1\u001b[0m\u001b[0;34m)\u001b[0m \u001b[0;31m# use the object name created previously to get its coordinates\u001b[0m\u001b[0;34m\u001b[0m\u001b[0;34m\u001b[0m\u001b[0m\n\u001b[0m\u001b[1;32m     11\u001b[0m     fig= go.Scatter3d(\n\u001b[1;32m     12\u001b[0m         \u001b[0mx\u001b[0m\u001b[0;34m=\u001b[0m\u001b[0mnodes_cor\u001b[0m\u001b[0;34m.\u001b[0m\u001b[0mT\u001b[0m\u001b[0;34m[\u001b[0m\u001b[0;36m3\u001b[0m\u001b[0;34m]\u001b[0m\u001b[0;34m,\u001b[0m\u001b[0;34m\u001b[0m\u001b[0;34m\u001b[0m\u001b[0m\n",
      "\u001b[0;32m/mnt/c/backup/CPlantBox/tutorial/jupyter/CPlantBox_PiafMunch.py\u001b[0m in \u001b[0;36mpython_nodes\u001b[0;34m(plant)\u001b[0m\n\u001b[1;32m     63\u001b[0m         \u001b[0mrseg\u001b[0m \u001b[0;34m=\u001b[0m \u001b[0mseg2a\u001b[0m\u001b[0;34m(\u001b[0m\u001b[0mplant\u001b[0m\u001b[0;34m.\u001b[0m\u001b[0mgetSegments\u001b[0m\u001b[0;34m(\u001b[0m\u001b[0;36m15\u001b[0m\u001b[0;34m)\u001b[0m\u001b[0;34m)\u001b[0m \u001b[0;31m# root system segments\u001b[0m\u001b[0;34m\u001b[0m\u001b[0;34m\u001b[0m\u001b[0m\n\u001b[1;32m     64\u001b[0m         \u001b[0msseg\u001b[0m \u001b[0;34m=\u001b[0m \u001b[0mseg2a\u001b[0m\u001b[0;34m(\u001b[0m\u001b[0mplant\u001b[0m\u001b[0;34m.\u001b[0m\u001b[0mgetSegments\u001b[0m\u001b[0;34m(\u001b[0m\u001b[0;36m4\u001b[0m\u001b[0;34m)\u001b[0m\u001b[0;34m)\u001b[0m \u001b[0;31m# strm system segments\u001b[0m\u001b[0;34m\u001b[0m\u001b[0;34m\u001b[0m\u001b[0m\n\u001b[0;32m---> 65\u001b[0;31m         \u001b[0mlseg\u001b[0m \u001b[0;34m=\u001b[0m \u001b[0mv2ai\u001b[0m\u001b[0;34m(\u001b[0m\u001b[0mplant\u001b[0m\u001b[0;34m.\u001b[0m\u001b[0mgetNodesOrganType\u001b[0m\u001b[0;34m(\u001b[0m\u001b[0;34m)\u001b[0m\u001b[0;34m)\u001b[0m\u001b[0;34m\u001b[0m\u001b[0;34m\u001b[0m\u001b[0m\n\u001b[0m\u001b[1;32m     66\u001b[0m         \u001b[0mplant_ana\u001b[0m \u001b[0;34m=\u001b[0m \u001b[0mpb\u001b[0m\u001b[0;34m.\u001b[0m\u001b[0mSegmentAnalyser\u001b[0m\u001b[0;34m(\u001b[0m\u001b[0mplant\u001b[0m\u001b[0;34m)\u001b[0m\u001b[0;34m\u001b[0m\u001b[0;34m\u001b[0m\u001b[0m\n\u001b[1;32m     67\u001b[0m         \u001b[0mnode_connection_o\u001b[0m \u001b[0;34m=\u001b[0m \u001b[0mseg2a\u001b[0m\u001b[0;34m(\u001b[0m\u001b[0mplant\u001b[0m\u001b[0;34m.\u001b[0m\u001b[0mgetSegments\u001b[0m\u001b[0;34m(\u001b[0m\u001b[0;36m15\u001b[0m\u001b[0;34m)\u001b[0m\u001b[0;34m)\u001b[0m \u001b[0;31m# plant segments\u001b[0m\u001b[0;34m\u001b[0m\u001b[0;34m\u001b[0m\u001b[0m\n",
      "\u001b[0;31mAttributeError\u001b[0m: 'plantbox.Plant' object has no attribute 'getNodesOrganType'"
     ]
    }
   ],
   "source": [
    "# first we create a Heliantus plant\n",
    "name = \"Heliantus_Pagès_2013_new.xml\" # parameter name\n",
    "# here are some optional parameters to be tested\n",
    "# name = \"PMA2018\" # Simulate a small plant with 3 leaves and two lateral root, you can comment the heliantus line and uncomment this line to see what happend.\n",
    "time = 70 # how many days the plant need to grow, make it smaller, for example 15 to see if the plant becomes smaller\n",
    "\n",
    "plant1 = CPlantBox(name, time, name) # make a plant object in python\n",
    "# Visualization\n",
    "def visual_plant_sub(plant1,name='plant'):\n",
    "    nodes_cor = python_nodes(plant1) # use the object name created previously to get its coordinates\n",
    "    fig= go.Scatter3d(\n",
    "        x=nodes_cor.T[3],\n",
    "        y=nodes_cor.T[4],\n",
    "        z=nodes_cor.T[5],\n",
    "        mode='markers',\n",
    "        marker=dict(\n",
    "            size=3,\n",
    "            color=nodes_cor.T[1],                # nodes_cor.T[1] is organ type, nodes_cor.T[2] is the connection number of a node \n",
    "            colorscale=[[0, \"wheat\"], #color of the root, change it to \"yellow\" to see the difference\n",
    "                    [0.5, \"darkgreen\"],\n",
    "                    [1.0, \"lightgreen\"],],  opacity=0.8\n",
    "        ), name =name\n",
    "    )\n",
    "\n",
    "    return fig\n",
    "   \n",
    "\n",
    "def visual_plant(plant1):\n",
    "    subfig = visual_plant_sub(plant1)\n",
    "    fig = make_subplots(\n",
    "    rows=1, cols=1,\n",
    "    specs=[[{'type': 'surface'}]])\n",
    "    fig.add_trace(subfig) \n",
    "    fig.update_layout(scene_aspectmode='data',)\n",
    "    return fig\n",
    "\n",
    "fig = visual_plant(plant1)\n",
    "fig.show()\n",
    "\n"
   ]
  },
  {
   "cell_type": "code",
   "execution_count": 11,
   "metadata": {},
   "outputs": [
    {
     "data": {
      "text/plain": [
       "True"
      ]
     },
     "execution_count": 11,
     "metadata": {},
     "output_type": "execute_result"
    }
   ],
   "source": [
    "sys.path.append(\"../..\")\n",
    "import os.path\n",
    "from os import path\n",
    "path.exists('../../modelparameter/plant/0_new.xml')"
   ]
  },
  {
   "cell_type": "code",
   "execution_count": 4,
   "metadata": {},
   "outputs": [
    {
     "ename": "ValueError",
     "evalue": "Organism::getOrganTypeParameter: OrganRandomParameter for root, of sub type 1 was not set",
     "output_type": "error",
     "traceback": [
      "\u001b[0;31m---------------------------------------------------------------------------\u001b[0m",
      "\u001b[0;31mValueError\u001b[0m                                Traceback (most recent call last)",
      "\u001b[0;32m<ipython-input-4-2c2354913874>\u001b[0m in \u001b[0;36m<module>\u001b[0;34m\u001b[0m\n\u001b[1;32m      2\u001b[0m \u001b[0;32mfor\u001b[0m \u001b[0mi\u001b[0m \u001b[0;32min\u001b[0m \u001b[0mrange\u001b[0m\u001b[0;34m(\u001b[0m\u001b[0;36m0\u001b[0m\u001b[0;34m,\u001b[0m\u001b[0;36m10\u001b[0m\u001b[0;34m)\u001b[0m\u001b[0;34m:\u001b[0m\u001b[0;34m\u001b[0m\u001b[0;34m\u001b[0m\u001b[0m\n\u001b[1;32m      3\u001b[0m \u001b[0;34m\u001b[0m\u001b[0m\n\u001b[0;32m----> 4\u001b[0;31m     \u001b[0mplant1\u001b[0m \u001b[0;34m=\u001b[0m \u001b[0mCPlantBox_analysis\u001b[0m\u001b[0;34m(\u001b[0m\u001b[0;34m'{}_new.xml'\u001b[0m\u001b[0;34m.\u001b[0m\u001b[0mformat\u001b[0m\u001b[0;34m(\u001b[0m\u001b[0mstr\u001b[0m\u001b[0;34m(\u001b[0m\u001b[0mi\u001b[0m\u001b[0;34m)\u001b[0m\u001b[0;34m)\u001b[0m\u001b[0;34m,\u001b[0m \u001b[0;36m180\u001b[0m\u001b[0;34m,\u001b[0m \u001b[0;34m'{}'\u001b[0m\u001b[0;34m.\u001b[0m\u001b[0mformat\u001b[0m\u001b[0;34m(\u001b[0m\u001b[0mstr\u001b[0m\u001b[0;34m(\u001b[0m\u001b[0mi\u001b[0m\u001b[0;34m)\u001b[0m\u001b[0;34m)\u001b[0m\u001b[0;34m)\u001b[0m\u001b[0;34m\u001b[0m\u001b[0;34m\u001b[0m\u001b[0m\n\u001b[0m",
      "\u001b[0;32m/mnt/c/backup/CPlantBox/tutorial/jupyter/CPlantBox_PiafMunch.py\u001b[0m in \u001b[0;36mCPlantBox_analysis\u001b[0;34m(name, time, output)\u001b[0m\n\u001b[1;32m     51\u001b[0m     \u001b[0mplant\u001b[0m \u001b[0;34m=\u001b[0m \u001b[0mpb\u001b[0m\u001b[0;34m.\u001b[0m\u001b[0mPlant\u001b[0m\u001b[0;34m(\u001b[0m\u001b[0;34m)\u001b[0m\u001b[0;34m\u001b[0m\u001b[0;34m\u001b[0m\u001b[0m\n\u001b[1;32m     52\u001b[0m     \u001b[0mplant\u001b[0m\u001b[0;34m.\u001b[0m\u001b[0mopenXML\u001b[0m\u001b[0;34m(\u001b[0m\u001b[0;34m\"../../modelparameter/plant/\"\u001b[0m \u001b[0;34m+\u001b[0m \u001b[0mname\u001b[0m\u001b[0;34m)\u001b[0m\u001b[0;34m\u001b[0m\u001b[0;34m\u001b[0m\u001b[0m\n\u001b[0;32m---> 53\u001b[0;31m     \u001b[0mplant\u001b[0m\u001b[0;34m.\u001b[0m\u001b[0minitialize\u001b[0m\u001b[0;34m(\u001b[0m\u001b[0;32mTrue\u001b[0m\u001b[0;34m)\u001b[0m\u001b[0;34m\u001b[0m\u001b[0;34m\u001b[0m\u001b[0m\n\u001b[0m\u001b[1;32m     54\u001b[0m     \u001b[0mplant\u001b[0m\u001b[0;34m.\u001b[0m\u001b[0msimulate\u001b[0m\u001b[0;34m(\u001b[0m\u001b[0mtime\u001b[0m\u001b[0;34m)\u001b[0m\u001b[0;34m\u001b[0m\u001b[0;34m\u001b[0m\u001b[0m\n\u001b[1;32m     55\u001b[0m     \u001b[0;31m#plant.write(\"../../results/{}.vtp\".format(output),15)\u001b[0m\u001b[0;34m\u001b[0m\u001b[0;34m\u001b[0m\u001b[0;34m\u001b[0m\u001b[0m\n",
      "\u001b[0;31mValueError\u001b[0m: Organism::getOrganTypeParameter: OrganRandomParameter for root, of sub type 1 was not set"
     ]
    }
   ],
   "source": []
  },
  {
   "cell_type": "code",
   "execution_count": 5,
   "metadata": {},
   "outputs": [
    {
     "data": {
      "text/plain": [
       "1"
      ]
     },
     "execution_count": 5,
     "metadata": {},
     "output_type": "execute_result"
    }
   ],
   "source": []
  },
  {
   "cell_type": "markdown",
   "metadata": {},
   "source": [
    "## 4. Read and write parameter files.\n",
    "1. CPlantBox use XML file to parameterize the plant, the file could be a little bit scarry at first glance. However, here I will give you examples to try each parameter. In this way you will know all the parameters quickly.\n",
    "Firstly, we print out all the parameters:"
   ]
  },
  {
   "cell_type": "code",
   "execution_count": 7,
   "metadata": {},
   "outputs": [
    {
     "name": "stdout",
     "output_type": "stream",
     "text": [
      "{'type': 'seed', 'subType': '0'}\n",
      "{'name': 'seedPos.x', 'value': '0'}\n",
      "{'name': 'seedPos.y', 'value': '0'}\n",
      "{'name': 'seedPos.z', 'value': '-3'}\n",
      "{'name': 'plantingdepth', 'value': '3'}\n",
      "{'name': 'firstB', 'value': '0', 'dev': '0'}\n",
      "{'name': 'delayB', 'value': '0', 'dev': '0'}\n",
      "{'name': 'maxB', 'value': '0', 'dev': '0'}\n",
      "{'name': 'nC', 'value': '2'}\n",
      "{'name': 'nz', 'value': '0'}\n",
      "{'name': 'firstSB', 'value': '14', 'dev': '0'}\n",
      "{'name': 'delaySB', 'value': '0', 'dev': '0'}\n",
      "{'name': 'delayRC', 'value': '7', 'dev': '0'}\n",
      "{'name': 'simulationTime', 'value': '56', 'dev': '0'}\n",
      "\n",
      "\n",
      "{'type': 'root', 'name': 'taproot', 'subType': '1'}\n",
      "{'name': 'lb', 'value': '1', 'dev': '0'}\n",
      "{'name': 'la', 'value': '2', 'dev': '0'}\n",
      "{'name': 'ln', 'value': '3', 'dev': '0'}\n",
      "{'name': 'lmax', 'value': '4.0999999999999996', 'dev': '0'}\n",
      "{'name': 'nob', 'value': '1.3666666666666665', 'dev': '0'}\n",
      "{'name': 'r', 'value': '4.5', 'dev': '0.45000000000000001'}\n",
      "{'name': 'a', 'value': '0.20000000000000001', 'dev': '0.02'}\n",
      "{'name': 'RotBeta', 'value': '1'}\n",
      "{'name': 'BetaDev', 'value': '0'}\n",
      "{'name': 'InitBeta', 'value': '0'}\n",
      "{'name': 'tropismT', 'value': '1'}\n",
      "{'name': 'tropismN', 'value': '1'}\n",
      "{'name': 'tropismS', 'value': '0.261799'}\n",
      "{'name': 'dx', 'value': '0.25'}\n",
      "{'name': 'theta', 'value': '0', 'dev': '0'}\n",
      "{'name': 'rlt', 'value': '1000000000', 'dev': '0'}\n",
      "{'name': 'gf', 'value': '1'}\n",
      "{'name': 'successor', 'number': '0', 'type': '2', 'percentage': '1'}\n",
      "\n",
      "\n",
      "{'type': 'root', 'name': 'lateral1', 'subType': '2'}\n",
      "{'name': 'lb', 'value': '0.10000000000000001', 'dev': '0'}\n",
      "{'name': 'la', 'value': '1.76', 'dev': '0'}\n",
      "{'name': 'ln', 'value': '0.10000000000000001', 'dev': '0'}\n",
      "{'name': 'lmax', 'value': '1.76', 'dev': '0'}\n",
      "{'name': 'nob', 'value': '0', 'dev': '0'}\n",
      "{'name': 'r', 'value': '0.34999999999999998', 'dev': '0.035000000000000003'}\n",
      "{'name': 'a', 'value': '0.012500000000000001', 'dev': '0.00125'}\n",
      "{'name': 'RotBeta', 'value': '1'}\n",
      "{'name': 'BetaDev', 'value': '1'}\n",
      "{'name': 'InitBeta', 'value': '0'}\n",
      "{'name': 'tropismT', 'value': '2'}\n",
      "{'name': 'tropismN', 'value': '2'}\n",
      "{'name': 'tropismS', 'value': '0.52359900000000004'}\n",
      "{'name': 'dx', 'value': '0.25'}\n",
      "{'name': 'theta', 'value': '1.22173', 'dev': '0'}\n",
      "{'name': 'rlt', 'value': '1000000000', 'dev': '0'}\n",
      "{'name': 'gf', 'value': '1'}\n",
      "\n",
      "\n",
      "{'type': 'stem', 'name': 'mainstem', 'subType': '1'}\n",
      "{'name': 'lb', 'value': '0.7', 'dev': '0'}\n",
      "{'name': 'la', 'value': '0', 'dev': '0'}\n",
      "{'name': 'ln', 'value': '0.7', 'dev': '0', 'functiontype': '0'}\n",
      "{'name': 'lmax', 'value': '2.1', 'dev': '0'}\n",
      "{'name': 'nob', 'value': '2.8999999999999999', 'dev': '0'}\n",
      "{'name': 'r', 'value': '10', 'dev': '0'}\n",
      "{'name': 'a', 'value': '0.20000000000000001', 'dev': '0.02'}\n",
      "{'name': 'RotBeta', 'value': '0'}\n",
      "{'name': 'BetaDev', 'value': '0'}\n",
      "{'name': 'InitBeta', 'value': '1'}\n",
      "{'name': 'tropismT', 'value': '0'}\n",
      "{'name': 'tropismN', 'value': '1'}\n",
      "{'name': 'tropismS', 'value': '0'}\n",
      "{'name': 'dx', 'value': '0.25'}\n",
      "{'name': 'theta', 'value': '0', 'dev': '0'}\n",
      "{'name': 'rlt', 'value': '1000000000', 'dev': '0'}\n",
      "{'name': 'gf', 'value': '1'}\n",
      "{'name': 'successor', 'number': '0', 'type': '2', 'percentage': '1'}\n",
      "\n",
      "\n",
      "{'type': 'stem', 'name': 'setleaf', 'subType': '2'}\n",
      "{'name': 'lb', 'value': '0', 'dev': '0'}\n",
      "{'name': 'la', 'value': '0', 'dev': '0'}\n",
      "{'name': 'ln', 'value': '0', 'dev': '0', 'functiontype': '0'}\n",
      "{'name': 'lmax', 'value': '15', 'dev': '0'}\n",
      "{'name': 'nob', 'value': '2.8999999999999999', 'dev': '0'}\n",
      "{'name': 'r', 'value': '10', 'dev': '0'}\n",
      "{'name': 'a', 'value': '0.20000000000000001', 'dev': '0.02'}\n",
      "{'name': 'RotBeta', 'value': '0'}\n",
      "{'name': 'BetaDev', 'value': '0'}\n",
      "{'name': 'InitBeta', 'value': '0'}\n",
      "{'name': 'tropismT', 'value': '0'}\n",
      "{'name': 'tropismN', 'value': '1'}\n",
      "{'name': 'tropismS', 'value': '0'}\n",
      "{'name': 'dx', 'value': '0.25'}\n",
      "{'name': 'theta', 'value': '0.2', 'dev': '0'}\n",
      "{'name': 'rlt', 'value': '1000000000', 'dev': '0'}\n",
      "{'name': 'gf', 'value': '1'}\n",
      "\n",
      "\n",
      "{'type': 'leaf', 'name': 'lateral1', 'subType': '2'}\n",
      "{'name': 'lb', 'value': '1', 'dev': '0'}\n",
      "{'name': 'la', 'value': '1', 'dev': '0'}\n",
      "{'name': 'ln', 'value': '0', 'dev': '0', 'functiontype': '0'}\n",
      "{'name': 'lmax', 'value': '2', 'dev': '0'}\n",
      "{'name': 'nob', 'value': '1', 'dev': '0'}\n",
      "{'name': 'r', 'value': '1.5', 'dev': '0'}\n",
      "{'name': 'a', 'value': '0.02', 'dev': '0.002'}\n",
      "{'name': 'RotBeta', 'value': '1'}\n",
      "{'name': 'BetaDev', 'value': '0'}\n",
      "{'name': 'InitBeta', 'value': '0'}\n",
      "{'name': 'tropismT', 'value': '1'}\n",
      "{'name': 'tropismN', 'value': '3'}\n",
      "{'name': 'tropismS', 'value': '0'}\n",
      "{'name': 'dx', 'value': '0.25'}\n",
      "{'name': 'theta', 'value': '0.3', 'dev': '0'}\n",
      "{'name': 'rlt', 'value': '1000000000', 'dev': '0'}\n",
      "{'name': 'gf', 'value': '1'}\n",
      "\n",
      "\n"
     ]
    }
   ],
   "source": [
    "name= \"PMA2018\" #name of the small plant\n",
    "all_parameter = ET.parse(\"../../modelparameter/{}.xml\".format(name)) # read the parameter file from xml file../\n",
    "plant_parameter = all_parameter.getroot() # get the first level of parameters\n",
    "parameter_options={}\n",
    "parameter_order = 0\n",
    "for organ in plant_parameter.iter('organ'): \n",
    "    list=[]\n",
    "    print(organ.attrib ) # print of parameters\n",
    "    \n",
    "    for parameter in organ.iter('parameter'): \n",
    "        \n",
    "        print(parameter.attrib)\n",
    "        \n",
    "        list.append(parameter.attrib['name']) \n",
    "        parameter_order = parameter_order+1\n",
    "    print(\"\\n\" )\n",
    "    parameter_options[organ.attrib['type']+organ.attrib['subType']] = list"
   ]
  },
  {
   "cell_type": "code",
   "execution_count": 104,
   "metadata": {},
   "outputs": [
    {
     "data": {
      "application/vnd.plotly.v1+json": {
       "config": {
        "plotlyServerURL": "https://plot.ly"
       },
       "data": [
        {
         "marker": {
          "color": [
           2,
           4,
           2,
           2,
           2,
           2,
           2,
           2,
           2,
           2,
           2,
           2,
           2,
           2,
           2,
           2,
           2,
           2,
           2,
           2,
           2,
           2,
           4,
           4,
           4,
           8,
           8,
           8,
           8,
           8,
           8,
           8,
           8,
           4,
           4,
           4,
           8,
           8,
           8,
           8,
           8,
           8,
           8,
           8,
           4,
           4,
           8,
           8,
           8,
           8,
           8,
           8,
           8,
           8,
           8
          ],
          "colorscale": [
           [
            0,
            "wheat"
           ],
           [
            0.5,
            "darkgreen"
           ],
           [
            1,
            "lightgreen"
           ]
          ],
          "opacity": 0.8,
          "size": 3
         },
         "mode": "markers",
         "type": "scatter3d",
         "x": [
          0,
          0,
          2.0704885844509465e-05,
          1.323596466442781e-05,
          -9.015272117251365e-05,
          -0.00017005732652349746,
          0.0020293137155084047,
          0.004053582458982677,
          0.006185288939168969,
          0.008268675027635775,
          0.010426790342293489,
          0.012366875471604637,
          0.014337301244410896,
          0.01524286056568258,
          -0.0002838685218182615,
          -0.00041593586546529566,
          -0.00042651456137566217,
          -0.0005046869189941312,
          -0.0005765139110559255,
          -0.0005657644916004181,
          -0.0004250500251638103,
          -0.00042453518125879614,
          0,
          0,
          0,
          -0.0020225424859373685,
          -0.004045084971874737,
          -0.006067627457812106,
          -0.008090169943749474,
          -0.010112712429686843,
          -0.012135254915624212,
          -0.01415779740156158,
          -0.016180339887498948,
          0,
          0,
          0,
          0.0020225424859373685,
          0.004045084971874737,
          0.006067627457812106,
          0.008090169943749474,
          0.010112712429686843,
          0.012135254915624212,
          0.01415779740156158,
          0.016180339887498948,
          0,
          0,
          0,
          -0.0020225424859373685,
          -0.004045084971874737,
          -0.006067627457812106,
          -0.008090169943749474,
          -0.010112712429686843,
          -0.012135254915624212,
          -0.01415779740156158,
          -0.016180339887498948
         ],
         "y": [
          0,
          0,
          0.00024648844286058203,
          0.0002581969775325619,
          0.00024707159916355516,
          0.0005261776374052674,
          0.0010278426730964583,
          0.0018825123004551658,
          0.002564529437427282,
          0.00336927446457666,
          0.004199039321997691,
          0.005400786593085313,
          0.006789593022070082,
          0.007328498163295831,
          0.0007585710433522816,
          0.000864353981346521,
          0.0009249277633111369,
          0.0013342961428659875,
          0.0017540342198107978,
          0.0022332984261918755,
          0.002458329529010137,
          0.002545638760018951,
          0,
          0,
          0,
          5.073893409849562e-16,
          1.0147786819699124e-15,
          1.5221680229548686e-15,
          2.029557363939825e-15,
          2.5369467049247803e-15,
          3.044336045909736e-15,
          3.551725386894692e-15,
          4.059114727879648e-15,
          0,
          0,
          0,
          1.6061580408116137e-16,
          3.2123160816232274e-16,
          4.818474122434841e-16,
          6.424632163246455e-16,
          8.030790204058069e-16,
          9.636948244869685e-16,
          1.1243106285681299e-15,
          1.2849264326492913e-15,
          0,
          0,
          0,
          9.112488838806298e-17,
          1.8224977677612597e-16,
          2.7337466516418896e-16,
          3.644995535522519e-16,
          4.556244419403148e-16,
          5.467493303283777e-16,
          6.378742187164408e-16,
          7.289991071045037e-16
         ],
         "z": [
          -0.03,
          -0.03,
          -0.03248773285447581,
          -0.034987694279264646,
          -0.03748553074420727,
          -0.039968616540844326,
          -0.04104615967753838,
          -0.04223858404925493,
          -0.04335244225711091,
          -0.04447578007257931,
          -0.045426584242757855,
          -0.04644730613801591,
          -0.047109604391578026,
          -0.04742501038814475,
          -0.04245518854195307,
          -0.0449494556059964,
          -0.047448699273214816,
          -0.04991371582738337,
          -0.05237718103516976,
          -0.05483078863836617,
          -0.05731666080758563,
          -0.05981513570902378,
          -0.0275,
          -0.025,
          -0.023,
          -0.021530536869268816,
          -0.020061073738537633,
          -0.01859161060780645,
          -0.017122147477075265,
          -0.015652684346344082,
          -0.0141832212156129,
          -0.012713758084881717,
          -0.011244294954150533,
          -0.020499999999999997,
          -0.018,
          -0.016,
          -0.014530536869268815,
          -0.013061073738537633,
          -0.011591610607806451,
          -0.010122147477075268,
          -0.008652684346344084,
          -0.007183221215612901,
          -0.005713758084881717,
          -0.004244294954150534,
          -0.013499999999999998,
          -0.011,
          -0.009000000000000001,
          -0.0075305368692688175,
          -0.006061073738537636,
          -0.004591610607806453,
          -0.00312214747707527,
          -0.0016526843463440866,
          -0.00018322121561290317,
          0.0012862419151182802,
          0.0027557050458494638
         ]
        }
       ],
       "layout": {
        "autosize": true,
        "scene": {
         "aspectmode": "data",
         "aspectratio": {
          "x": 1.3168897963542845,
          "y": 0.2982268765967548,
          "z": 2.5462660955306453
         },
         "camera": {
          "center": {
           "x": 0,
           "y": 0,
           "z": 0
          },
          "eye": {
           "x": 0.901619945100533,
           "y": 6.19808859575514,
           "z": 3.3206070019429825
          },
          "projection": {
           "type": "perspective"
          },
          "up": {
           "x": 0,
           "y": 0,
           "z": 1
          }
         },
         "domain": {
          "x": [
           0,
           1
          ],
          "y": [
           0,
           1
          ]
         }
        },
        "template": {
         "data": {
          "bar": [
           {
            "error_x": {
             "color": "#2a3f5f"
            },
            "error_y": {
             "color": "#2a3f5f"
            },
            "marker": {
             "line": {
              "color": "#E5ECF6",
              "width": 0.5
             }
            },
            "type": "bar"
           }
          ],
          "barpolar": [
           {
            "marker": {
             "line": {
              "color": "#E5ECF6",
              "width": 0.5
             }
            },
            "type": "barpolar"
           }
          ],
          "carpet": [
           {
            "aaxis": {
             "endlinecolor": "#2a3f5f",
             "gridcolor": "white",
             "linecolor": "white",
             "minorgridcolor": "white",
             "startlinecolor": "#2a3f5f"
            },
            "baxis": {
             "endlinecolor": "#2a3f5f",
             "gridcolor": "white",
             "linecolor": "white",
             "minorgridcolor": "white",
             "startlinecolor": "#2a3f5f"
            },
            "type": "carpet"
           }
          ],
          "choropleth": [
           {
            "colorbar": {
             "outlinewidth": 0,
             "ticks": ""
            },
            "type": "choropleth"
           }
          ],
          "contour": [
           {
            "colorbar": {
             "outlinewidth": 0,
             "ticks": ""
            },
            "colorscale": [
             [
              0,
              "#0d0887"
             ],
             [
              0.1111111111111111,
              "#46039f"
             ],
             [
              0.2222222222222222,
              "#7201a8"
             ],
             [
              0.3333333333333333,
              "#9c179e"
             ],
             [
              0.4444444444444444,
              "#bd3786"
             ],
             [
              0.5555555555555556,
              "#d8576b"
             ],
             [
              0.6666666666666666,
              "#ed7953"
             ],
             [
              0.7777777777777778,
              "#fb9f3a"
             ],
             [
              0.8888888888888888,
              "#fdca26"
             ],
             [
              1,
              "#f0f921"
             ]
            ],
            "type": "contour"
           }
          ],
          "contourcarpet": [
           {
            "colorbar": {
             "outlinewidth": 0,
             "ticks": ""
            },
            "type": "contourcarpet"
           }
          ],
          "heatmap": [
           {
            "colorbar": {
             "outlinewidth": 0,
             "ticks": ""
            },
            "colorscale": [
             [
              0,
              "#0d0887"
             ],
             [
              0.1111111111111111,
              "#46039f"
             ],
             [
              0.2222222222222222,
              "#7201a8"
             ],
             [
              0.3333333333333333,
              "#9c179e"
             ],
             [
              0.4444444444444444,
              "#bd3786"
             ],
             [
              0.5555555555555556,
              "#d8576b"
             ],
             [
              0.6666666666666666,
              "#ed7953"
             ],
             [
              0.7777777777777778,
              "#fb9f3a"
             ],
             [
              0.8888888888888888,
              "#fdca26"
             ],
             [
              1,
              "#f0f921"
             ]
            ],
            "type": "heatmap"
           }
          ],
          "heatmapgl": [
           {
            "colorbar": {
             "outlinewidth": 0,
             "ticks": ""
            },
            "colorscale": [
             [
              0,
              "#0d0887"
             ],
             [
              0.1111111111111111,
              "#46039f"
             ],
             [
              0.2222222222222222,
              "#7201a8"
             ],
             [
              0.3333333333333333,
              "#9c179e"
             ],
             [
              0.4444444444444444,
              "#bd3786"
             ],
             [
              0.5555555555555556,
              "#d8576b"
             ],
             [
              0.6666666666666666,
              "#ed7953"
             ],
             [
              0.7777777777777778,
              "#fb9f3a"
             ],
             [
              0.8888888888888888,
              "#fdca26"
             ],
             [
              1,
              "#f0f921"
             ]
            ],
            "type": "heatmapgl"
           }
          ],
          "histogram": [
           {
            "marker": {
             "colorbar": {
              "outlinewidth": 0,
              "ticks": ""
             }
            },
            "type": "histogram"
           }
          ],
          "histogram2d": [
           {
            "colorbar": {
             "outlinewidth": 0,
             "ticks": ""
            },
            "colorscale": [
             [
              0,
              "#0d0887"
             ],
             [
              0.1111111111111111,
              "#46039f"
             ],
             [
              0.2222222222222222,
              "#7201a8"
             ],
             [
              0.3333333333333333,
              "#9c179e"
             ],
             [
              0.4444444444444444,
              "#bd3786"
             ],
             [
              0.5555555555555556,
              "#d8576b"
             ],
             [
              0.6666666666666666,
              "#ed7953"
             ],
             [
              0.7777777777777778,
              "#fb9f3a"
             ],
             [
              0.8888888888888888,
              "#fdca26"
             ],
             [
              1,
              "#f0f921"
             ]
            ],
            "type": "histogram2d"
           }
          ],
          "histogram2dcontour": [
           {
            "colorbar": {
             "outlinewidth": 0,
             "ticks": ""
            },
            "colorscale": [
             [
              0,
              "#0d0887"
             ],
             [
              0.1111111111111111,
              "#46039f"
             ],
             [
              0.2222222222222222,
              "#7201a8"
             ],
             [
              0.3333333333333333,
              "#9c179e"
             ],
             [
              0.4444444444444444,
              "#bd3786"
             ],
             [
              0.5555555555555556,
              "#d8576b"
             ],
             [
              0.6666666666666666,
              "#ed7953"
             ],
             [
              0.7777777777777778,
              "#fb9f3a"
             ],
             [
              0.8888888888888888,
              "#fdca26"
             ],
             [
              1,
              "#f0f921"
             ]
            ],
            "type": "histogram2dcontour"
           }
          ],
          "mesh3d": [
           {
            "colorbar": {
             "outlinewidth": 0,
             "ticks": ""
            },
            "type": "mesh3d"
           }
          ],
          "parcoords": [
           {
            "line": {
             "colorbar": {
              "outlinewidth": 0,
              "ticks": ""
             }
            },
            "type": "parcoords"
           }
          ],
          "scatter": [
           {
            "marker": {
             "colorbar": {
              "outlinewidth": 0,
              "ticks": ""
             }
            },
            "type": "scatter"
           }
          ],
          "scatter3d": [
           {
            "line": {
             "colorbar": {
              "outlinewidth": 0,
              "ticks": ""
             }
            },
            "marker": {
             "colorbar": {
              "outlinewidth": 0,
              "ticks": ""
             }
            },
            "type": "scatter3d"
           }
          ],
          "scattercarpet": [
           {
            "marker": {
             "colorbar": {
              "outlinewidth": 0,
              "ticks": ""
             }
            },
            "type": "scattercarpet"
           }
          ],
          "scattergeo": [
           {
            "marker": {
             "colorbar": {
              "outlinewidth": 0,
              "ticks": ""
             }
            },
            "type": "scattergeo"
           }
          ],
          "scattergl": [
           {
            "marker": {
             "colorbar": {
              "outlinewidth": 0,
              "ticks": ""
             }
            },
            "type": "scattergl"
           }
          ],
          "scattermapbox": [
           {
            "marker": {
             "colorbar": {
              "outlinewidth": 0,
              "ticks": ""
             }
            },
            "type": "scattermapbox"
           }
          ],
          "scatterpolar": [
           {
            "marker": {
             "colorbar": {
              "outlinewidth": 0,
              "ticks": ""
             }
            },
            "type": "scatterpolar"
           }
          ],
          "scatterpolargl": [
           {
            "marker": {
             "colorbar": {
              "outlinewidth": 0,
              "ticks": ""
             }
            },
            "type": "scatterpolargl"
           }
          ],
          "scatterternary": [
           {
            "marker": {
             "colorbar": {
              "outlinewidth": 0,
              "ticks": ""
             }
            },
            "type": "scatterternary"
           }
          ],
          "surface": [
           {
            "colorbar": {
             "outlinewidth": 0,
             "ticks": ""
            },
            "colorscale": [
             [
              0,
              "#0d0887"
             ],
             [
              0.1111111111111111,
              "#46039f"
             ],
             [
              0.2222222222222222,
              "#7201a8"
             ],
             [
              0.3333333333333333,
              "#9c179e"
             ],
             [
              0.4444444444444444,
              "#bd3786"
             ],
             [
              0.5555555555555556,
              "#d8576b"
             ],
             [
              0.6666666666666666,
              "#ed7953"
             ],
             [
              0.7777777777777778,
              "#fb9f3a"
             ],
             [
              0.8888888888888888,
              "#fdca26"
             ],
             [
              1,
              "#f0f921"
             ]
            ],
            "type": "surface"
           }
          ],
          "table": [
           {
            "cells": {
             "fill": {
              "color": "#EBF0F8"
             },
             "line": {
              "color": "white"
             }
            },
            "header": {
             "fill": {
              "color": "#C8D4E3"
             },
             "line": {
              "color": "white"
             }
            },
            "type": "table"
           }
          ]
         },
         "layout": {
          "annotationdefaults": {
           "arrowcolor": "#2a3f5f",
           "arrowhead": 0,
           "arrowwidth": 1
          },
          "colorscale": {
           "diverging": [
            [
             0,
             "#8e0152"
            ],
            [
             0.1,
             "#c51b7d"
            ],
            [
             0.2,
             "#de77ae"
            ],
            [
             0.3,
             "#f1b6da"
            ],
            [
             0.4,
             "#fde0ef"
            ],
            [
             0.5,
             "#f7f7f7"
            ],
            [
             0.6,
             "#e6f5d0"
            ],
            [
             0.7,
             "#b8e186"
            ],
            [
             0.8,
             "#7fbc41"
            ],
            [
             0.9,
             "#4d9221"
            ],
            [
             1,
             "#276419"
            ]
           ],
           "sequential": [
            [
             0,
             "#0d0887"
            ],
            [
             0.1111111111111111,
             "#46039f"
            ],
            [
             0.2222222222222222,
             "#7201a8"
            ],
            [
             0.3333333333333333,
             "#9c179e"
            ],
            [
             0.4444444444444444,
             "#bd3786"
            ],
            [
             0.5555555555555556,
             "#d8576b"
            ],
            [
             0.6666666666666666,
             "#ed7953"
            ],
            [
             0.7777777777777778,
             "#fb9f3a"
            ],
            [
             0.8888888888888888,
             "#fdca26"
            ],
            [
             1,
             "#f0f921"
            ]
           ],
           "sequentialminus": [
            [
             0,
             "#0d0887"
            ],
            [
             0.1111111111111111,
             "#46039f"
            ],
            [
             0.2222222222222222,
             "#7201a8"
            ],
            [
             0.3333333333333333,
             "#9c179e"
            ],
            [
             0.4444444444444444,
             "#bd3786"
            ],
            [
             0.5555555555555556,
             "#d8576b"
            ],
            [
             0.6666666666666666,
             "#ed7953"
            ],
            [
             0.7777777777777778,
             "#fb9f3a"
            ],
            [
             0.8888888888888888,
             "#fdca26"
            ],
            [
             1,
             "#f0f921"
            ]
           ]
          },
          "colorway": [
           "#636efa",
           "#EF553B",
           "#00cc96",
           "#ab63fa",
           "#FFA15A",
           "#19d3f3",
           "#FF6692",
           "#B6E880",
           "#FF97FF",
           "#FECB52"
          ],
          "font": {
           "color": "#2a3f5f"
          },
          "geo": {
           "bgcolor": "white",
           "lakecolor": "white",
           "landcolor": "#E5ECF6",
           "showlakes": true,
           "showland": true,
           "subunitcolor": "white"
          },
          "hoverlabel": {
           "align": "left"
          },
          "hovermode": "closest",
          "mapbox": {
           "style": "light"
          },
          "paper_bgcolor": "white",
          "plot_bgcolor": "#E5ECF6",
          "polar": {
           "angularaxis": {
            "gridcolor": "white",
            "linecolor": "white",
            "ticks": ""
           },
           "bgcolor": "#E5ECF6",
           "radialaxis": {
            "gridcolor": "white",
            "linecolor": "white",
            "ticks": ""
           }
          },
          "scene": {
           "xaxis": {
            "backgroundcolor": "#E5ECF6",
            "gridcolor": "white",
            "gridwidth": 2,
            "linecolor": "white",
            "showbackground": true,
            "ticks": "",
            "zerolinecolor": "white"
           },
           "yaxis": {
            "backgroundcolor": "#E5ECF6",
            "gridcolor": "white",
            "gridwidth": 2,
            "linecolor": "white",
            "showbackground": true,
            "ticks": "",
            "zerolinecolor": "white"
           },
           "zaxis": {
            "backgroundcolor": "#E5ECF6",
            "gridcolor": "white",
            "gridwidth": 2,
            "linecolor": "white",
            "showbackground": true,
            "ticks": "",
            "zerolinecolor": "white"
           }
          },
          "shapedefaults": {
           "line": {
            "color": "#2a3f5f"
           }
          },
          "ternary": {
           "aaxis": {
            "gridcolor": "white",
            "linecolor": "white",
            "ticks": ""
           },
           "baxis": {
            "gridcolor": "white",
            "linecolor": "white",
            "ticks": ""
           },
           "bgcolor": "#E5ECF6",
           "caxis": {
            "gridcolor": "white",
            "linecolor": "white",
            "ticks": ""
           }
          },
          "title": {
           "x": 0.05
          },
          "xaxis": {
           "automargin": true,
           "gridcolor": "white",
           "linecolor": "white",
           "ticks": "",
           "zerolinecolor": "white",
           "zerolinewidth": 2
          },
          "yaxis": {
           "automargin": true,
           "gridcolor": "white",
           "linecolor": "white",
           "ticks": "",
           "zerolinecolor": "white",
           "zerolinewidth": 2
          }
         }
        }
       }
      },
      "text/html": [
       "<div>\n",
       "        \n",
       "        \n",
       "            <div id=\"e94f0827-63b0-46fc-8c09-342238c75d64\" class=\"plotly-graph-div\" style=\"height:525px; width:100%;\"></div>\n",
       "            <script type=\"text/javascript\">\n",
       "                require([\"plotly\"], function(Plotly) {\n",
       "                    window.PLOTLYENV=window.PLOTLYENV || {};\n",
       "                    \n",
       "                if (document.getElementById(\"e94f0827-63b0-46fc-8c09-342238c75d64\")) {\n",
       "                    Plotly.newPlot(\n",
       "                        'e94f0827-63b0-46fc-8c09-342238c75d64',\n",
       "                        [{\"marker\": {\"color\": [2.0, 4.0, 2.0, 2.0, 2.0, 2.0, 2.0, 2.0, 2.0, 2.0, 2.0, 2.0, 2.0, 2.0, 2.0, 2.0, 2.0, 2.0, 2.0, 2.0, 2.0, 2.0, 4.0, 4.0, 4.0, 8.0, 8.0, 8.0, 8.0, 8.0, 8.0, 8.0, 8.0, 4.0, 4.0, 4.0, 8.0, 8.0, 8.0, 8.0, 8.0, 8.0, 8.0, 8.0, 4.0, 4.0, 8.0, 8.0, 8.0, 8.0, 8.0, 8.0, 8.0, 8.0, 8.0], \"colorscale\": [[0, \"wheat\"], [0.5, \"darkgreen\"], [1.0, \"lightgreen\"]], \"opacity\": 0.8, \"size\": 3}, \"mode\": \"markers\", \"type\": \"scatter3d\", \"x\": [0.0, 0.0, 2.0704885844509465e-05, 1.323596466442781e-05, -9.015272117251365e-05, -0.00017005732652349746, 0.0020293137155084047, 0.004053582458982677, 0.006185288939168969, 0.008268675027635775, 0.010426790342293489, 0.012366875471604637, 0.014337301244410896, 0.01524286056568258, -0.0002838685218182615, -0.00041593586546529566, -0.00042651456137566217, -0.0005046869189941312, -0.0005765139110559255, -0.0005657644916004181, -0.0004250500251638103, -0.00042453518125879614, 0.0, 0.0, 0.0, -0.0020225424859373685, -0.004045084971874737, -0.006067627457812106, -0.008090169943749474, -0.010112712429686843, -0.012135254915624212, -0.01415779740156158, -0.016180339887498948, 0.0, 0.0, 0.0, 0.0020225424859373685, 0.004045084971874737, 0.006067627457812106, 0.008090169943749474, 0.010112712429686843, 0.012135254915624212, 0.01415779740156158, 0.016180339887498948, 0.0, 0.0, 0.0, -0.0020225424859373685, -0.004045084971874737, -0.006067627457812106, -0.008090169943749474, -0.010112712429686843, -0.012135254915624212, -0.01415779740156158, -0.016180339887498948], \"y\": [0.0, 0.0, 0.00024648844286058203, 0.0002581969775325619, 0.00024707159916355516, 0.0005261776374052674, 0.0010278426730964583, 0.0018825123004551658, 0.002564529437427282, 0.00336927446457666, 0.004199039321997691, 0.005400786593085313, 0.006789593022070082, 0.007328498163295831, 0.0007585710433522816, 0.000864353981346521, 0.0009249277633111369, 0.0013342961428659875, 0.0017540342198107978, 0.0022332984261918755, 0.002458329529010137, 0.002545638760018951, 0.0, 0.0, 0.0, 5.073893409849562e-16, 1.0147786819699124e-15, 1.5221680229548686e-15, 2.029557363939825e-15, 2.5369467049247803e-15, 3.044336045909736e-15, 3.551725386894692e-15, 4.059114727879648e-15, 0.0, 0.0, 0.0, 1.6061580408116137e-16, 3.2123160816232274e-16, 4.818474122434841e-16, 6.424632163246455e-16, 8.030790204058069e-16, 9.636948244869685e-16, 1.1243106285681299e-15, 1.2849264326492913e-15, 0.0, 0.0, 0.0, 9.112488838806298e-17, 1.8224977677612597e-16, 2.7337466516418896e-16, 3.644995535522519e-16, 4.556244419403148e-16, 5.467493303283777e-16, 6.378742187164408e-16, 7.289991071045037e-16], \"z\": [-0.03, -0.03, -0.03248773285447581, -0.034987694279264646, -0.03748553074420727, -0.039968616540844326, -0.04104615967753838, -0.04223858404925493, -0.04335244225711091, -0.04447578007257931, -0.045426584242757855, -0.04644730613801591, -0.047109604391578026, -0.04742501038814475, -0.04245518854195307, -0.0449494556059964, -0.047448699273214816, -0.04991371582738337, -0.05237718103516976, -0.05483078863836617, -0.05731666080758563, -0.05981513570902378, -0.0275, -0.025, -0.023, -0.021530536869268816, -0.020061073738537633, -0.01859161060780645, -0.017122147477075265, -0.015652684346344082, -0.0141832212156129, -0.012713758084881717, -0.011244294954150533, -0.020499999999999997, -0.018, -0.016, -0.014530536869268815, -0.013061073738537633, -0.011591610607806451, -0.010122147477075268, -0.008652684346344084, -0.007183221215612901, -0.005713758084881717, -0.004244294954150534, -0.013499999999999998, -0.011, -0.009000000000000001, -0.0075305368692688175, -0.006061073738537636, -0.004591610607806453, -0.00312214747707527, -0.0016526843463440866, -0.00018322121561290317, 0.0012862419151182802, 0.0027557050458494638]}],\n",
       "                        {\"scene\": {\"aspectmode\": \"data\", \"domain\": {\"x\": [0.0, 1.0], \"y\": [0.0, 1.0]}}, \"template\": {\"data\": {\"bar\": [{\"error_x\": {\"color\": \"#2a3f5f\"}, \"error_y\": {\"color\": \"#2a3f5f\"}, \"marker\": {\"line\": {\"color\": \"#E5ECF6\", \"width\": 0.5}}, \"type\": \"bar\"}], \"barpolar\": [{\"marker\": {\"line\": {\"color\": \"#E5ECF6\", \"width\": 0.5}}, \"type\": \"barpolar\"}], \"carpet\": [{\"aaxis\": {\"endlinecolor\": \"#2a3f5f\", \"gridcolor\": \"white\", \"linecolor\": \"white\", \"minorgridcolor\": \"white\", \"startlinecolor\": \"#2a3f5f\"}, \"baxis\": {\"endlinecolor\": \"#2a3f5f\", \"gridcolor\": \"white\", \"linecolor\": \"white\", \"minorgridcolor\": \"white\", \"startlinecolor\": \"#2a3f5f\"}, \"type\": \"carpet\"}], \"choropleth\": [{\"colorbar\": {\"outlinewidth\": 0, \"ticks\": \"\"}, \"type\": \"choropleth\"}], \"contour\": [{\"colorbar\": {\"outlinewidth\": 0, \"ticks\": \"\"}, \"colorscale\": [[0.0, \"#0d0887\"], [0.1111111111111111, \"#46039f\"], [0.2222222222222222, \"#7201a8\"], [0.3333333333333333, \"#9c179e\"], [0.4444444444444444, \"#bd3786\"], [0.5555555555555556, \"#d8576b\"], [0.6666666666666666, \"#ed7953\"], [0.7777777777777778, \"#fb9f3a\"], [0.8888888888888888, \"#fdca26\"], [1.0, \"#f0f921\"]], \"type\": \"contour\"}], \"contourcarpet\": [{\"colorbar\": {\"outlinewidth\": 0, \"ticks\": \"\"}, \"type\": \"contourcarpet\"}], \"heatmap\": [{\"colorbar\": {\"outlinewidth\": 0, \"ticks\": \"\"}, \"colorscale\": [[0.0, \"#0d0887\"], [0.1111111111111111, \"#46039f\"], [0.2222222222222222, \"#7201a8\"], [0.3333333333333333, \"#9c179e\"], [0.4444444444444444, \"#bd3786\"], [0.5555555555555556, \"#d8576b\"], [0.6666666666666666, \"#ed7953\"], [0.7777777777777778, \"#fb9f3a\"], [0.8888888888888888, \"#fdca26\"], [1.0, \"#f0f921\"]], \"type\": \"heatmap\"}], \"heatmapgl\": [{\"colorbar\": {\"outlinewidth\": 0, \"ticks\": \"\"}, \"colorscale\": [[0.0, \"#0d0887\"], [0.1111111111111111, \"#46039f\"], [0.2222222222222222, \"#7201a8\"], [0.3333333333333333, \"#9c179e\"], [0.4444444444444444, \"#bd3786\"], [0.5555555555555556, \"#d8576b\"], [0.6666666666666666, \"#ed7953\"], [0.7777777777777778, \"#fb9f3a\"], [0.8888888888888888, \"#fdca26\"], [1.0, \"#f0f921\"]], \"type\": \"heatmapgl\"}], \"histogram\": [{\"marker\": {\"colorbar\": {\"outlinewidth\": 0, \"ticks\": \"\"}}, \"type\": \"histogram\"}], \"histogram2d\": [{\"colorbar\": {\"outlinewidth\": 0, \"ticks\": \"\"}, \"colorscale\": [[0.0, \"#0d0887\"], [0.1111111111111111, \"#46039f\"], [0.2222222222222222, \"#7201a8\"], [0.3333333333333333, \"#9c179e\"], [0.4444444444444444, \"#bd3786\"], [0.5555555555555556, \"#d8576b\"], [0.6666666666666666, \"#ed7953\"], [0.7777777777777778, \"#fb9f3a\"], [0.8888888888888888, \"#fdca26\"], [1.0, \"#f0f921\"]], \"type\": \"histogram2d\"}], \"histogram2dcontour\": [{\"colorbar\": {\"outlinewidth\": 0, \"ticks\": \"\"}, \"colorscale\": [[0.0, \"#0d0887\"], [0.1111111111111111, \"#46039f\"], [0.2222222222222222, \"#7201a8\"], [0.3333333333333333, \"#9c179e\"], [0.4444444444444444, \"#bd3786\"], [0.5555555555555556, \"#d8576b\"], [0.6666666666666666, \"#ed7953\"], [0.7777777777777778, \"#fb9f3a\"], [0.8888888888888888, \"#fdca26\"], [1.0, \"#f0f921\"]], \"type\": \"histogram2dcontour\"}], \"mesh3d\": [{\"colorbar\": {\"outlinewidth\": 0, \"ticks\": \"\"}, \"type\": \"mesh3d\"}], \"parcoords\": [{\"line\": {\"colorbar\": {\"outlinewidth\": 0, \"ticks\": \"\"}}, \"type\": \"parcoords\"}], \"scatter\": [{\"marker\": {\"colorbar\": {\"outlinewidth\": 0, \"ticks\": \"\"}}, \"type\": \"scatter\"}], \"scatter3d\": [{\"line\": {\"colorbar\": {\"outlinewidth\": 0, \"ticks\": \"\"}}, \"marker\": {\"colorbar\": {\"outlinewidth\": 0, \"ticks\": \"\"}}, \"type\": \"scatter3d\"}], \"scattercarpet\": [{\"marker\": {\"colorbar\": {\"outlinewidth\": 0, \"ticks\": \"\"}}, \"type\": \"scattercarpet\"}], \"scattergeo\": [{\"marker\": {\"colorbar\": {\"outlinewidth\": 0, \"ticks\": \"\"}}, \"type\": \"scattergeo\"}], \"scattergl\": [{\"marker\": {\"colorbar\": {\"outlinewidth\": 0, \"ticks\": \"\"}}, \"type\": \"scattergl\"}], \"scattermapbox\": [{\"marker\": {\"colorbar\": {\"outlinewidth\": 0, \"ticks\": \"\"}}, \"type\": \"scattermapbox\"}], \"scatterpolar\": [{\"marker\": {\"colorbar\": {\"outlinewidth\": 0, \"ticks\": \"\"}}, \"type\": \"scatterpolar\"}], \"scatterpolargl\": [{\"marker\": {\"colorbar\": {\"outlinewidth\": 0, \"ticks\": \"\"}}, \"type\": \"scatterpolargl\"}], \"scatterternary\": [{\"marker\": {\"colorbar\": {\"outlinewidth\": 0, \"ticks\": \"\"}}, \"type\": \"scatterternary\"}], \"surface\": [{\"colorbar\": {\"outlinewidth\": 0, \"ticks\": \"\"}, \"colorscale\": [[0.0, \"#0d0887\"], [0.1111111111111111, \"#46039f\"], [0.2222222222222222, \"#7201a8\"], [0.3333333333333333, \"#9c179e\"], [0.4444444444444444, \"#bd3786\"], [0.5555555555555556, \"#d8576b\"], [0.6666666666666666, \"#ed7953\"], [0.7777777777777778, \"#fb9f3a\"], [0.8888888888888888, \"#fdca26\"], [1.0, \"#f0f921\"]], \"type\": \"surface\"}], \"table\": [{\"cells\": {\"fill\": {\"color\": \"#EBF0F8\"}, \"line\": {\"color\": \"white\"}}, \"header\": {\"fill\": {\"color\": \"#C8D4E3\"}, \"line\": {\"color\": \"white\"}}, \"type\": \"table\"}]}, \"layout\": {\"annotationdefaults\": {\"arrowcolor\": \"#2a3f5f\", \"arrowhead\": 0, \"arrowwidth\": 1}, \"colorscale\": {\"diverging\": [[0, \"#8e0152\"], [0.1, \"#c51b7d\"], [0.2, \"#de77ae\"], [0.3, \"#f1b6da\"], [0.4, \"#fde0ef\"], [0.5, \"#f7f7f7\"], [0.6, \"#e6f5d0\"], [0.7, \"#b8e186\"], [0.8, \"#7fbc41\"], [0.9, \"#4d9221\"], [1, \"#276419\"]], \"sequential\": [[0.0, \"#0d0887\"], [0.1111111111111111, \"#46039f\"], [0.2222222222222222, \"#7201a8\"], [0.3333333333333333, \"#9c179e\"], [0.4444444444444444, \"#bd3786\"], [0.5555555555555556, \"#d8576b\"], [0.6666666666666666, \"#ed7953\"], [0.7777777777777778, \"#fb9f3a\"], [0.8888888888888888, \"#fdca26\"], [1.0, \"#f0f921\"]], \"sequentialminus\": [[0.0, \"#0d0887\"], [0.1111111111111111, \"#46039f\"], [0.2222222222222222, \"#7201a8\"], [0.3333333333333333, \"#9c179e\"], [0.4444444444444444, \"#bd3786\"], [0.5555555555555556, \"#d8576b\"], [0.6666666666666666, \"#ed7953\"], [0.7777777777777778, \"#fb9f3a\"], [0.8888888888888888, \"#fdca26\"], [1.0, \"#f0f921\"]]}, \"colorway\": [\"#636efa\", \"#EF553B\", \"#00cc96\", \"#ab63fa\", \"#FFA15A\", \"#19d3f3\", \"#FF6692\", \"#B6E880\", \"#FF97FF\", \"#FECB52\"], \"font\": {\"color\": \"#2a3f5f\"}, \"geo\": {\"bgcolor\": \"white\", \"lakecolor\": \"white\", \"landcolor\": \"#E5ECF6\", \"showlakes\": true, \"showland\": true, \"subunitcolor\": \"white\"}, \"hoverlabel\": {\"align\": \"left\"}, \"hovermode\": \"closest\", \"mapbox\": {\"style\": \"light\"}, \"paper_bgcolor\": \"white\", \"plot_bgcolor\": \"#E5ECF6\", \"polar\": {\"angularaxis\": {\"gridcolor\": \"white\", \"linecolor\": \"white\", \"ticks\": \"\"}, \"bgcolor\": \"#E5ECF6\", \"radialaxis\": {\"gridcolor\": \"white\", \"linecolor\": \"white\", \"ticks\": \"\"}}, \"scene\": {\"xaxis\": {\"backgroundcolor\": \"#E5ECF6\", \"gridcolor\": \"white\", \"gridwidth\": 2, \"linecolor\": \"white\", \"showbackground\": true, \"ticks\": \"\", \"zerolinecolor\": \"white\"}, \"yaxis\": {\"backgroundcolor\": \"#E5ECF6\", \"gridcolor\": \"white\", \"gridwidth\": 2, \"linecolor\": \"white\", \"showbackground\": true, \"ticks\": \"\", \"zerolinecolor\": \"white\"}, \"zaxis\": {\"backgroundcolor\": \"#E5ECF6\", \"gridcolor\": \"white\", \"gridwidth\": 2, \"linecolor\": \"white\", \"showbackground\": true, \"ticks\": \"\", \"zerolinecolor\": \"white\"}}, \"shapedefaults\": {\"line\": {\"color\": \"#2a3f5f\"}}, \"ternary\": {\"aaxis\": {\"gridcolor\": \"white\", \"linecolor\": \"white\", \"ticks\": \"\"}, \"baxis\": {\"gridcolor\": \"white\", \"linecolor\": \"white\", \"ticks\": \"\"}, \"bgcolor\": \"#E5ECF6\", \"caxis\": {\"gridcolor\": \"white\", \"linecolor\": \"white\", \"ticks\": \"\"}}, \"title\": {\"x\": 0.05}, \"xaxis\": {\"automargin\": true, \"gridcolor\": \"white\", \"linecolor\": \"white\", \"ticks\": \"\", \"zerolinecolor\": \"white\", \"zerolinewidth\": 2}, \"yaxis\": {\"automargin\": true, \"gridcolor\": \"white\", \"linecolor\": \"white\", \"ticks\": \"\", \"zerolinecolor\": \"white\", \"zerolinewidth\": 2}}}},\n",
       "                        {\"responsive\": true}\n",
       "                    ).then(function(){\n",
       "                            \n",
       "var gd = document.getElementById('e94f0827-63b0-46fc-8c09-342238c75d64');\n",
       "var x = new MutationObserver(function (mutations, observer) {{\n",
       "        var display = window.getComputedStyle(gd).display;\n",
       "        if (!display || display === 'none') {{\n",
       "            console.log([gd, 'removed!']);\n",
       "            Plotly.purge(gd);\n",
       "            observer.disconnect();\n",
       "        }}\n",
       "}});\n",
       "\n",
       "// Listen for the removal of the full notebook cells\n",
       "var notebookContainer = gd.closest('#notebook-container');\n",
       "if (notebookContainer) {{\n",
       "    x.observe(notebookContainer, {childList: true});\n",
       "}}\n",
       "\n",
       "// Listen for the clearing of the current output cell\n",
       "var outputEl = gd.closest('.output');\n",
       "if (outputEl) {{\n",
       "    x.observe(outputEl, {childList: true});\n",
       "}}\n",
       "\n",
       "                        })\n",
       "                };\n",
       "                });\n",
       "            </script>\n",
       "        </div>"
      ]
     },
     "metadata": {},
     "output_type": "display_data"
    }
   ],
   "source": [
    "# here we show what is the plant simulated based on those parameters\n",
    "name= \"PMA2018\"\n",
    "smallplant = CPlantBox(name, time, name) # make a plant object in python\n",
    "fig = visual_plant(smallplant)    \n",
    "fig.show()"
   ]
  },
  {
   "cell_type": "markdown",
   "metadata": {},
   "source": [
    "## 5. Change the length of the Stem\n",
    "### 5.1 lmax: the maximal length\n",
    "Length is controled by six parameters, among them, the maximal length is controled by lmax. if we only change the lmax, the growth will only depends on the time. Lets see what will happend if we only change the lmax of the main stem:"
   ]
  },
  {
   "cell_type": "code",
   "execution_count": 8,
   "metadata": {},
   "outputs": [
    {
     "name": "stdout",
     "output_type": "stream",
     "text": [
      "original lmax of stem organ with subtype 1 is 2.1, changed to 10\n"
     ]
    },
    {
     "data": {
      "application/vnd.plotly.v1+json": {
       "config": {
        "plotlyServerURL": "https://plot.ly"
       },
       "data": [
        {
         "marker": {
          "color": [
           2,
           4,
           2,
           2,
           2,
           2,
           2,
           2,
           2,
           2,
           2,
           2,
           2,
           2,
           2,
           2,
           2,
           2,
           2,
           2,
           2,
           2,
           4,
           4,
           4,
           8,
           8,
           8,
           8,
           8,
           8,
           8,
           8,
           4,
           4,
           4,
           8,
           8,
           8,
           8,
           8,
           8,
           8,
           8,
           4,
           4,
           4,
           8,
           8,
           8,
           8,
           8,
           8,
           8,
           8,
           4,
           4,
           4,
           8,
           8,
           8,
           8,
           8,
           8,
           8,
           8,
           4,
           4,
           4,
           8,
           8,
           8,
           8,
           8,
           8,
           8,
           8,
           4,
           4,
           4,
           8,
           8,
           8,
           8,
           8,
           8,
           8,
           8,
           4,
           4,
           4,
           8,
           8,
           8,
           8,
           8,
           8,
           8,
           8,
           4,
           4,
           4,
           8,
           8,
           8,
           8,
           8,
           8,
           8,
           8,
           4,
           4,
           4,
           8,
           8,
           8,
           8,
           8,
           8,
           8,
           8,
           4,
           4,
           4,
           8,
           8,
           8,
           8,
           8,
           8,
           8,
           8,
           4,
           4,
           4,
           8,
           8,
           8,
           8,
           8,
           8,
           8,
           8,
           4,
           4,
           4,
           8,
           8,
           8,
           8,
           8,
           8,
           8,
           8,
           4,
           4,
           4,
           8,
           8,
           8,
           8,
           8,
           8,
           8,
           8,
           4,
           4,
           4,
           8,
           8,
           8,
           8,
           8,
           8,
           8,
           8,
           4
          ],
          "colorscale": [
           [
            0,
            "wheat"
           ],
           [
            0.5,
            "darkgreen"
           ],
           [
            1,
            "lightgreen"
           ]
          ],
          "opacity": 0.8,
          "size": 3
         },
         "mode": "markers",
         "name": "plant",
         "type": "scatter3d",
         "x": [
          0,
          0,
          8.179900512580474e-05,
          0.00015516750148492872,
          0.0003355322171152504,
          0.00031339960192046005,
          0.0022320116668454954,
          0.00391342953041028,
          0.00603612077745846,
          0.008168509189982505,
          0.010435484261429904,
          0.01266263383287789,
          0.014907810312437089,
          0.015940149200990485,
          0.0005949146354234768,
          0.0009144080099443507,
          0.0012678747761917686,
          0.0015473994549712116,
          0.00181283569824352,
          0.0020538406997049363,
          0.0022037539894464967,
          0.00234776656951594,
          0,
          0,
          0,
          0.0020225424859373685,
          0.004045084971874737,
          0.006067627457812106,
          0.008090169943749474,
          0.010112712429686843,
          0.012135254915624212,
          0.01415779740156158,
          0.016180339887498948,
          0,
          0,
          0,
          -0.0020225424859373685,
          -0.004045084971874737,
          -0.006067627457812106,
          -0.008090169943749474,
          -0.010112712429686843,
          -0.012135254915624212,
          -0.01415779740156158,
          -0.016180339887498948,
          0,
          0,
          0,
          0.0020225424859373685,
          0.004045084971874737,
          0.006067627457812106,
          0.008090169943749474,
          0.010112712429686843,
          0.012135254915624212,
          0.01415779740156158,
          0.016180339887498948,
          0,
          0,
          0,
          -0.0020225424859373685,
          -0.004045084971874737,
          -0.006067627457812106,
          -0.008090169943749474,
          -0.010112712429686843,
          -0.012135254915624212,
          -0.01415779740156158,
          -0.016180339887498948,
          0,
          0,
          0,
          0.0020225424859373685,
          0.004045084971874737,
          0.006067627457812106,
          0.008090169943749474,
          0.010112712429686843,
          0.012135254915624212,
          0.01415779740156158,
          0.016180339887498948,
          0,
          0,
          0,
          -0.0020225424859373685,
          -0.004045084971874737,
          -0.006067627457812106,
          -0.008090169943749474,
          -0.010112712429686843,
          -0.012135254915624212,
          -0.01415779740156158,
          -0.016180339887498948,
          0,
          0,
          0,
          0.0020225424859373685,
          0.004045084971874737,
          0.006067627457812106,
          0.008090169943749474,
          0.010112712429686843,
          0.012135254915624212,
          0.01415779740156158,
          0.016180339887498948,
          0,
          0,
          0,
          -0.0020225424859373685,
          -0.004045084971874737,
          -0.006067627457812106,
          -0.008090169943749474,
          -0.010112712429686843,
          -0.012135254915624212,
          -0.01415779740156158,
          -0.016180339887498948,
          0,
          0,
          0,
          0.0020225424859373685,
          0.004045084971874737,
          0.006067627457812106,
          0.008090169943749474,
          0.010112712429686843,
          0.012135254915624212,
          0.01415779740156158,
          0.016180339887498948,
          0,
          0,
          0,
          -0.0020225424859373685,
          -0.004045084971874737,
          -0.006067627457812106,
          -0.008090169943749474,
          -0.010112712429686843,
          -0.012135254915624212,
          -0.01415779740156158,
          -0.016180339887498948,
          0,
          0,
          0,
          0.0020225424859373685,
          0.004045084971874737,
          0.006067627457812106,
          0.008090169943749474,
          0.010112712429686843,
          0.012135254915624212,
          0.01415779740156158,
          0.016180339887498948,
          0,
          0,
          0,
          -0.0020225424859373685,
          -0.004045084971874737,
          -0.006067627457812106,
          -0.008090169943749474,
          -0.010112712429686843,
          -0.012135254915624212,
          -0.01415779740156158,
          -0.016180339887498948,
          0,
          0,
          0,
          0.0020225424859373685,
          0.004045084971874737,
          0.006067627457812106,
          0.008090169943749474,
          0.010112712429686843,
          0.012135254915624212,
          0.01415779740156158,
          0.016180339887498948,
          0,
          0,
          0,
          -0.0020225424859373685,
          -0.004045084971874737,
          -0.006067627457812106,
          -0.008090169943749474,
          -0.010112712429686843,
          -0.012135254915624212,
          -0.01415779740156158,
          -0.016180339887498948,
          0
         ],
         "y": [
          0,
          0,
          -4.724559574889628e-06,
          -9.389730044407687e-05,
          7.216227333913512e-05,
          0.0001788735454966574,
          -0.0010903567625307697,
          -0.002467379189000755,
          -0.0035266257601618443,
          -0.004562421811525297,
          -0.005429671160665617,
          -0.006301080946545903,
          -0.007162559599518382,
          -0.007265079106897168,
          -7.144199879345268e-07,
          -0.00011434043069961706,
          -0.00026286772458725805,
          -0.00013336272795949947,
          1.2506295447088801e-05,
          0.0001666495565571622,
          0.0002500031429224151,
          0.000505527069884637,
          0,
          0,
          0,
          -1.0900864628058952e-17,
          -2.1801729256117905e-17,
          -3.2702593884176854e-17,
          -4.360345851223581e-17,
          -5.450432314029476e-17,
          -6.540518776835371e-17,
          -7.630605239641265e-17,
          -8.720691702447159e-17,
          0,
          0,
          0,
          3.963040290468366e-18,
          7.926080580936732e-18,
          1.18891208714051e-17,
          1.5852161161873467e-17,
          1.9815201452341835e-17,
          2.37782417428102e-17,
          2.7741282033278567e-17,
          3.170432232374693e-17,
          0,
          0,
          0,
          2.9747840471222197e-18,
          5.9495680942444394e-18,
          8.924352141366659e-18,
          1.189913618848888e-17,
          1.48739202356111e-17,
          1.7848704282733324e-17,
          2.0823488329855544e-17,
          2.3798272376977764e-17,
          0,
          0,
          0,
          4.458420326776912e-18,
          8.916840653553824e-18,
          1.3375260980330737e-17,
          1.783368130710765e-17,
          2.2292101633884567e-17,
          2.6750521960661483e-17,
          3.1208942287438396e-17,
          3.5667362614215315e-17,
          0,
          0,
          0,
          -1.1891624700676046e-17,
          -2.378324940135209e-17,
          -3.567487410202813e-17,
          -4.756649880270417e-17,
          -5.945812350338022e-17,
          -7.134974820405625e-17,
          -8.32413729047323e-17,
          -9.513299760540833e-17,
          0,
          0,
          0,
          4.953800363085459e-18,
          9.907600726170918e-18,
          1.4861401089256377e-17,
          1.9815201452341835e-17,
          2.4769001815427293e-17,
          2.972280217851275e-17,
          3.4676602541598206e-17,
          3.9630402904683664e-17,
          0,
          0,
          0,
          1.984023974505128e-18,
          3.968047949010256e-18,
          5.952071923515385e-18,
          7.936095898020514e-18,
          9.920119872525642e-18,
          1.190414384703077e-17,
          1.38881678215359e-17,
          1.5872191796041025e-17,
          0,
          0,
          0,
          1.982020911088372e-17,
          3.964041822176744e-17,
          5.946062733265117e-17,
          7.928083644353488e-17,
          9.91010455544186e-17,
          1.189212546653023e-16,
          1.3874146377618604e-16,
          1.5856167288706974e-16,
          0,
          0,
          0,
          -1.2882384773293136e-17,
          -2.5764769546586272e-17,
          -3.864715431987941e-17,
          -5.152953909317254e-17,
          -6.441192386646567e-17,
          -7.72943086397588e-17,
          -9.017669341305193e-17,
          -1.0305907818634506e-16,
          0,
          0,
          0,
          5.944560435702549e-18,
          1.1889120871405098e-17,
          1.7833681307107648e-17,
          2.37782417428102e-17,
          2.9722802178512754e-17,
          3.56673626142153e-17,
          4.161192304991785e-17,
          4.75564834856204e-17,
          0,
          0,
          0,
          9.932639018880367e-19,
          1.9865278037760733e-18,
          2.9797917056641104e-18,
          3.9730556075521474e-18,
          4.966319509440184e-18,
          5.959583411328221e-18,
          6.952847313216257e-18,
          7.946111215104293e-18,
          0,
          0,
          0,
          -7.931088239478622e-18,
          -1.5862176478957245e-17,
          -2.3793264718435866e-17,
          -3.172435295791449e-17,
          -3.965544119739311e-17,
          -4.758652943687173e-17,
          -5.551761767635036e-17,
          -6.344870591582898e-17,
          0,
          0,
          0,
          -1.3873144845910228e-17,
          -2.7746289691820456e-17,
          -4.161943453773068e-17,
          -5.5492579383640906e-17,
          -6.936572422955112e-17,
          -8.323886907546135e-17,
          -9.711201392137157e-17,
          -1.1098515876728179e-16,
          0,
          0,
          0,
          6.935320508319642e-18,
          1.3870641016639284e-17,
          2.0805961524958925e-17,
          2.774128203327857e-17,
          3.467660254159821e-17,
          4.161192304991785e-17,
          4.854724355823749e-17,
          5.5482564066557134e-17,
          0
         ],
         "z": [
          -0.03,
          -0.03,
          -0.0324986569595079,
          -0.03499598859267716,
          -0.037483938107299705,
          -0.03998156154804076,
          -0.0409603271836802,
          -0.04219590122236989,
          -0.04298468419073857,
          -0.04377843868560022,
          -0.0443773565362707,
          -0.04510567636400514,
          -0.04578907749519157,
          -0.046154753752423776,
          -0.04245916067795764,
          -0.04493605654038848,
          -0.04740648178478042,
          -0.04988742805783869,
          -0.05236901340369483,
          -0.05485259075186116,
          -0.057346699447407314,
          -0.059829433404063076,
          -0.0275,
          -0.025,
          -0.023,
          -0.021530536869268816,
          -0.020061073738537633,
          -0.01859161060780645,
          -0.017122147477075265,
          -0.015652684346344082,
          -0.0141832212156129,
          -0.012713758084881717,
          -0.011244294954150533,
          -0.020499999999999997,
          -0.018,
          -0.016,
          -0.014530536869268815,
          -0.013061073738537633,
          -0.011591610607806451,
          -0.010122147477075268,
          -0.008652684346344084,
          -0.007183221215612901,
          -0.005713758084881717,
          -0.004244294954150534,
          -0.013499999999999998,
          -0.011,
          -0.009000000000000001,
          -0.0075305368692688175,
          -0.006061073738537636,
          -0.004591610607806453,
          -0.00312214747707527,
          -0.0016526843463440866,
          -0.00018322121561290317,
          0.0012862419151182802,
          0.0027557050458494638,
          -0.0065000000000000014,
          -0.004000000000000001,
          -0.0019999999999999996,
          -0.0005305368692688167,
          0.0009389262614623662,
          0.002408389392193549,
          0.003877852522924732,
          0.005347315653655915,
          0.006816778784387099,
          0.008286241915118281,
          0.009755705045849465,
          0.0005000000000000004,
          0.0030000000000000005,
          0.005000000000000002,
          0.006469463130731185,
          0.007938926261462368,
          0.00940838939219355,
          0.010877852522924733,
          0.012347315653655917,
          0.0138167787843871,
          0.015286241915118284,
          0.016755705045849466,
          0.007500000000000002,
          0.010000000000000002,
          0.012000000000000004,
          0.013469463130731187,
          0.014938926261462369,
          0.01640838939219355,
          0.017877852522924734,
          0.019347315653655918,
          0.0208167787843871,
          0.022286241915118285,
          0.02375570504584947,
          0.014500000000000004,
          0.017000000000000005,
          0.019000000000000006,
          0.020469463130731187,
          0.02193892626146237,
          0.023408389392193554,
          0.024877852522924737,
          0.02634731565365592,
          0.027816778784387104,
          0.029286241915118288,
          0.03075570504584947,
          0.021500000000000005,
          0.024000000000000004,
          0.026000000000000006,
          0.02746946313073119,
          0.028938926261462373,
          0.030408389392193556,
          0.031877852522924736,
          0.03334731565365592,
          0.034816778784387103,
          0.03628624191511829,
          0.03775570504584947,
          0.028500000000000004,
          0.031000000000000007,
          0.03300000000000001,
          0.03446946313073119,
          0.035938926261462376,
          0.037408389392193556,
          0.03887785252292474,
          0.04034731565365592,
          0.04181677878438711,
          0.04328624191511829,
          0.04475570504584948,
          0.035500000000000004,
          0.038000000000000006,
          0.04000000000000001,
          0.041469463130731195,
          0.042938926261462375,
          0.04440838939219356,
          0.04587785252292474,
          0.04734731565365593,
          0.04881677878438711,
          0.050286241915118296,
          0.051755705045849476,
          0.04250000000000001,
          0.04500000000000001,
          0.047000000000000014,
          0.048469463130731194,
          0.049938926261462374,
          0.05140838939219356,
          0.05287785252292474,
          0.05434731565365593,
          0.05581677878438711,
          0.057286241915118295,
          0.058755705045849475,
          0.04950000000000001,
          0.05200000000000001,
          0.054000000000000006,
          0.055469463130731186,
          0.05693892626146237,
          0.05840838939219355,
          0.05987785252292474,
          0.06134731565365592,
          0.0628167787843871,
          0.06428624191511828,
          0.06575570504584947,
          0.0565,
          0.059000000000000004,
          0.061,
          0.06246946313073118,
          0.06393892626146236,
          0.06540838939219355,
          0.06687785252292473,
          0.06834731565365591,
          0.06981677878438709,
          0.07128624191511829,
          0.07275570504584947,
          0.0635,
          0.066,
          0.06799999999999999,
          0.06946946313073117,
          0.07093892626146235,
          0.07240838939219355,
          0.07387785252292473,
          0.0753473156536559,
          0.07681677878438709,
          0.07828624191511828,
          0.07975570504584946,
          0.07000000000000002
         ]
        }
       ],
       "layout": {
        "autosize": true,
        "scene": {
         "aspectmode": "data",
         "aspectratio": {
          "x": 0.988356744904715,
          "y": 0.23732910063138613,
          "z": 4.263195768279825
         },
         "domain": {
          "x": [
           0,
           1
          ],
          "y": [
           0,
           1
          ]
         }
        },
        "template": {
         "data": {
          "bar": [
           {
            "error_x": {
             "color": "#2a3f5f"
            },
            "error_y": {
             "color": "#2a3f5f"
            },
            "marker": {
             "line": {
              "color": "#E5ECF6",
              "width": 0.5
             }
            },
            "type": "bar"
           }
          ],
          "barpolar": [
           {
            "marker": {
             "line": {
              "color": "#E5ECF6",
              "width": 0.5
             }
            },
            "type": "barpolar"
           }
          ],
          "carpet": [
           {
            "aaxis": {
             "endlinecolor": "#2a3f5f",
             "gridcolor": "white",
             "linecolor": "white",
             "minorgridcolor": "white",
             "startlinecolor": "#2a3f5f"
            },
            "baxis": {
             "endlinecolor": "#2a3f5f",
             "gridcolor": "white",
             "linecolor": "white",
             "minorgridcolor": "white",
             "startlinecolor": "#2a3f5f"
            },
            "type": "carpet"
           }
          ],
          "choropleth": [
           {
            "colorbar": {
             "outlinewidth": 0,
             "ticks": ""
            },
            "type": "choropleth"
           }
          ],
          "contour": [
           {
            "colorbar": {
             "outlinewidth": 0,
             "ticks": ""
            },
            "colorscale": [
             [
              0,
              "#0d0887"
             ],
             [
              0.1111111111111111,
              "#46039f"
             ],
             [
              0.2222222222222222,
              "#7201a8"
             ],
             [
              0.3333333333333333,
              "#9c179e"
             ],
             [
              0.4444444444444444,
              "#bd3786"
             ],
             [
              0.5555555555555556,
              "#d8576b"
             ],
             [
              0.6666666666666666,
              "#ed7953"
             ],
             [
              0.7777777777777778,
              "#fb9f3a"
             ],
             [
              0.8888888888888888,
              "#fdca26"
             ],
             [
              1,
              "#f0f921"
             ]
            ],
            "type": "contour"
           }
          ],
          "contourcarpet": [
           {
            "colorbar": {
             "outlinewidth": 0,
             "ticks": ""
            },
            "type": "contourcarpet"
           }
          ],
          "heatmap": [
           {
            "colorbar": {
             "outlinewidth": 0,
             "ticks": ""
            },
            "colorscale": [
             [
              0,
              "#0d0887"
             ],
             [
              0.1111111111111111,
              "#46039f"
             ],
             [
              0.2222222222222222,
              "#7201a8"
             ],
             [
              0.3333333333333333,
              "#9c179e"
             ],
             [
              0.4444444444444444,
              "#bd3786"
             ],
             [
              0.5555555555555556,
              "#d8576b"
             ],
             [
              0.6666666666666666,
              "#ed7953"
             ],
             [
              0.7777777777777778,
              "#fb9f3a"
             ],
             [
              0.8888888888888888,
              "#fdca26"
             ],
             [
              1,
              "#f0f921"
             ]
            ],
            "type": "heatmap"
           }
          ],
          "heatmapgl": [
           {
            "colorbar": {
             "outlinewidth": 0,
             "ticks": ""
            },
            "colorscale": [
             [
              0,
              "#0d0887"
             ],
             [
              0.1111111111111111,
              "#46039f"
             ],
             [
              0.2222222222222222,
              "#7201a8"
             ],
             [
              0.3333333333333333,
              "#9c179e"
             ],
             [
              0.4444444444444444,
              "#bd3786"
             ],
             [
              0.5555555555555556,
              "#d8576b"
             ],
             [
              0.6666666666666666,
              "#ed7953"
             ],
             [
              0.7777777777777778,
              "#fb9f3a"
             ],
             [
              0.8888888888888888,
              "#fdca26"
             ],
             [
              1,
              "#f0f921"
             ]
            ],
            "type": "heatmapgl"
           }
          ],
          "histogram": [
           {
            "marker": {
             "colorbar": {
              "outlinewidth": 0,
              "ticks": ""
             }
            },
            "type": "histogram"
           }
          ],
          "histogram2d": [
           {
            "colorbar": {
             "outlinewidth": 0,
             "ticks": ""
            },
            "colorscale": [
             [
              0,
              "#0d0887"
             ],
             [
              0.1111111111111111,
              "#46039f"
             ],
             [
              0.2222222222222222,
              "#7201a8"
             ],
             [
              0.3333333333333333,
              "#9c179e"
             ],
             [
              0.4444444444444444,
              "#bd3786"
             ],
             [
              0.5555555555555556,
              "#d8576b"
             ],
             [
              0.6666666666666666,
              "#ed7953"
             ],
             [
              0.7777777777777778,
              "#fb9f3a"
             ],
             [
              0.8888888888888888,
              "#fdca26"
             ],
             [
              1,
              "#f0f921"
             ]
            ],
            "type": "histogram2d"
           }
          ],
          "histogram2dcontour": [
           {
            "colorbar": {
             "outlinewidth": 0,
             "ticks": ""
            },
            "colorscale": [
             [
              0,
              "#0d0887"
             ],
             [
              0.1111111111111111,
              "#46039f"
             ],
             [
              0.2222222222222222,
              "#7201a8"
             ],
             [
              0.3333333333333333,
              "#9c179e"
             ],
             [
              0.4444444444444444,
              "#bd3786"
             ],
             [
              0.5555555555555556,
              "#d8576b"
             ],
             [
              0.6666666666666666,
              "#ed7953"
             ],
             [
              0.7777777777777778,
              "#fb9f3a"
             ],
             [
              0.8888888888888888,
              "#fdca26"
             ],
             [
              1,
              "#f0f921"
             ]
            ],
            "type": "histogram2dcontour"
           }
          ],
          "mesh3d": [
           {
            "colorbar": {
             "outlinewidth": 0,
             "ticks": ""
            },
            "type": "mesh3d"
           }
          ],
          "parcoords": [
           {
            "line": {
             "colorbar": {
              "outlinewidth": 0,
              "ticks": ""
             }
            },
            "type": "parcoords"
           }
          ],
          "scatter": [
           {
            "marker": {
             "colorbar": {
              "outlinewidth": 0,
              "ticks": ""
             }
            },
            "type": "scatter"
           }
          ],
          "scatter3d": [
           {
            "line": {
             "colorbar": {
              "outlinewidth": 0,
              "ticks": ""
             }
            },
            "marker": {
             "colorbar": {
              "outlinewidth": 0,
              "ticks": ""
             }
            },
            "type": "scatter3d"
           }
          ],
          "scattercarpet": [
           {
            "marker": {
             "colorbar": {
              "outlinewidth": 0,
              "ticks": ""
             }
            },
            "type": "scattercarpet"
           }
          ],
          "scattergeo": [
           {
            "marker": {
             "colorbar": {
              "outlinewidth": 0,
              "ticks": ""
             }
            },
            "type": "scattergeo"
           }
          ],
          "scattergl": [
           {
            "marker": {
             "colorbar": {
              "outlinewidth": 0,
              "ticks": ""
             }
            },
            "type": "scattergl"
           }
          ],
          "scattermapbox": [
           {
            "marker": {
             "colorbar": {
              "outlinewidth": 0,
              "ticks": ""
             }
            },
            "type": "scattermapbox"
           }
          ],
          "scatterpolar": [
           {
            "marker": {
             "colorbar": {
              "outlinewidth": 0,
              "ticks": ""
             }
            },
            "type": "scatterpolar"
           }
          ],
          "scatterpolargl": [
           {
            "marker": {
             "colorbar": {
              "outlinewidth": 0,
              "ticks": ""
             }
            },
            "type": "scatterpolargl"
           }
          ],
          "scatterternary": [
           {
            "marker": {
             "colorbar": {
              "outlinewidth": 0,
              "ticks": ""
             }
            },
            "type": "scatterternary"
           }
          ],
          "surface": [
           {
            "colorbar": {
             "outlinewidth": 0,
             "ticks": ""
            },
            "colorscale": [
             [
              0,
              "#0d0887"
             ],
             [
              0.1111111111111111,
              "#46039f"
             ],
             [
              0.2222222222222222,
              "#7201a8"
             ],
             [
              0.3333333333333333,
              "#9c179e"
             ],
             [
              0.4444444444444444,
              "#bd3786"
             ],
             [
              0.5555555555555556,
              "#d8576b"
             ],
             [
              0.6666666666666666,
              "#ed7953"
             ],
             [
              0.7777777777777778,
              "#fb9f3a"
             ],
             [
              0.8888888888888888,
              "#fdca26"
             ],
             [
              1,
              "#f0f921"
             ]
            ],
            "type": "surface"
           }
          ],
          "table": [
           {
            "cells": {
             "fill": {
              "color": "#EBF0F8"
             },
             "line": {
              "color": "white"
             }
            },
            "header": {
             "fill": {
              "color": "#C8D4E3"
             },
             "line": {
              "color": "white"
             }
            },
            "type": "table"
           }
          ]
         },
         "layout": {
          "annotationdefaults": {
           "arrowcolor": "#2a3f5f",
           "arrowhead": 0,
           "arrowwidth": 1
          },
          "colorscale": {
           "diverging": [
            [
             0,
             "#8e0152"
            ],
            [
             0.1,
             "#c51b7d"
            ],
            [
             0.2,
             "#de77ae"
            ],
            [
             0.3,
             "#f1b6da"
            ],
            [
             0.4,
             "#fde0ef"
            ],
            [
             0.5,
             "#f7f7f7"
            ],
            [
             0.6,
             "#e6f5d0"
            ],
            [
             0.7,
             "#b8e186"
            ],
            [
             0.8,
             "#7fbc41"
            ],
            [
             0.9,
             "#4d9221"
            ],
            [
             1,
             "#276419"
            ]
           ],
           "sequential": [
            [
             0,
             "#0d0887"
            ],
            [
             0.1111111111111111,
             "#46039f"
            ],
            [
             0.2222222222222222,
             "#7201a8"
            ],
            [
             0.3333333333333333,
             "#9c179e"
            ],
            [
             0.4444444444444444,
             "#bd3786"
            ],
            [
             0.5555555555555556,
             "#d8576b"
            ],
            [
             0.6666666666666666,
             "#ed7953"
            ],
            [
             0.7777777777777778,
             "#fb9f3a"
            ],
            [
             0.8888888888888888,
             "#fdca26"
            ],
            [
             1,
             "#f0f921"
            ]
           ],
           "sequentialminus": [
            [
             0,
             "#0d0887"
            ],
            [
             0.1111111111111111,
             "#46039f"
            ],
            [
             0.2222222222222222,
             "#7201a8"
            ],
            [
             0.3333333333333333,
             "#9c179e"
            ],
            [
             0.4444444444444444,
             "#bd3786"
            ],
            [
             0.5555555555555556,
             "#d8576b"
            ],
            [
             0.6666666666666666,
             "#ed7953"
            ],
            [
             0.7777777777777778,
             "#fb9f3a"
            ],
            [
             0.8888888888888888,
             "#fdca26"
            ],
            [
             1,
             "#f0f921"
            ]
           ]
          },
          "colorway": [
           "#636efa",
           "#EF553B",
           "#00cc96",
           "#ab63fa",
           "#FFA15A",
           "#19d3f3",
           "#FF6692",
           "#B6E880",
           "#FF97FF",
           "#FECB52"
          ],
          "font": {
           "color": "#2a3f5f"
          },
          "geo": {
           "bgcolor": "white",
           "lakecolor": "white",
           "landcolor": "#E5ECF6",
           "showlakes": true,
           "showland": true,
           "subunitcolor": "white"
          },
          "hoverlabel": {
           "align": "left"
          },
          "hovermode": "closest",
          "mapbox": {
           "style": "light"
          },
          "paper_bgcolor": "white",
          "plot_bgcolor": "#E5ECF6",
          "polar": {
           "angularaxis": {
            "gridcolor": "white",
            "linecolor": "white",
            "ticks": ""
           },
           "bgcolor": "#E5ECF6",
           "radialaxis": {
            "gridcolor": "white",
            "linecolor": "white",
            "ticks": ""
           }
          },
          "scene": {
           "xaxis": {
            "backgroundcolor": "#E5ECF6",
            "gridcolor": "white",
            "gridwidth": 2,
            "linecolor": "white",
            "showbackground": true,
            "ticks": "",
            "zerolinecolor": "white"
           },
           "yaxis": {
            "backgroundcolor": "#E5ECF6",
            "gridcolor": "white",
            "gridwidth": 2,
            "linecolor": "white",
            "showbackground": true,
            "ticks": "",
            "zerolinecolor": "white"
           },
           "zaxis": {
            "backgroundcolor": "#E5ECF6",
            "gridcolor": "white",
            "gridwidth": 2,
            "linecolor": "white",
            "showbackground": true,
            "ticks": "",
            "zerolinecolor": "white"
           }
          },
          "shapedefaults": {
           "line": {
            "color": "#2a3f5f"
           }
          },
          "ternary": {
           "aaxis": {
            "gridcolor": "white",
            "linecolor": "white",
            "ticks": ""
           },
           "baxis": {
            "gridcolor": "white",
            "linecolor": "white",
            "ticks": ""
           },
           "bgcolor": "#E5ECF6",
           "caxis": {
            "gridcolor": "white",
            "linecolor": "white",
            "ticks": ""
           }
          },
          "title": {
           "x": 0.05
          },
          "xaxis": {
           "automargin": true,
           "gridcolor": "white",
           "linecolor": "white",
           "ticks": "",
           "zerolinecolor": "white",
           "zerolinewidth": 2
          },
          "yaxis": {
           "automargin": true,
           "gridcolor": "white",
           "linecolor": "white",
           "ticks": "",
           "zerolinecolor": "white",
           "zerolinewidth": 2
          }
         }
        }
       }
      },
      "text/html": [
       "<div>\n",
       "        \n",
       "        \n",
       "            <div id=\"35dcbe70-6679-456b-b644-859c266fde03\" class=\"plotly-graph-div\" style=\"height:525px; width:100%;\"></div>\n",
       "            <script type=\"text/javascript\">\n",
       "                require([\"plotly\"], function(Plotly) {\n",
       "                    window.PLOTLYENV=window.PLOTLYENV || {};\n",
       "                    \n",
       "                if (document.getElementById(\"35dcbe70-6679-456b-b644-859c266fde03\")) {\n",
       "                    Plotly.newPlot(\n",
       "                        '35dcbe70-6679-456b-b644-859c266fde03',\n",
       "                        [{\"marker\": {\"color\": [2.0, 4.0, 2.0, 2.0, 2.0, 2.0, 2.0, 2.0, 2.0, 2.0, 2.0, 2.0, 2.0, 2.0, 2.0, 2.0, 2.0, 2.0, 2.0, 2.0, 2.0, 2.0, 4.0, 4.0, 4.0, 8.0, 8.0, 8.0, 8.0, 8.0, 8.0, 8.0, 8.0, 4.0, 4.0, 4.0, 8.0, 8.0, 8.0, 8.0, 8.0, 8.0, 8.0, 8.0, 4.0, 4.0, 4.0, 8.0, 8.0, 8.0, 8.0, 8.0, 8.0, 8.0, 8.0, 4.0, 4.0, 4.0, 8.0, 8.0, 8.0, 8.0, 8.0, 8.0, 8.0, 8.0, 4.0, 4.0, 4.0, 8.0, 8.0, 8.0, 8.0, 8.0, 8.0, 8.0, 8.0, 4.0, 4.0, 4.0, 8.0, 8.0, 8.0, 8.0, 8.0, 8.0, 8.0, 8.0, 4.0, 4.0, 4.0, 8.0, 8.0, 8.0, 8.0, 8.0, 8.0, 8.0, 8.0, 4.0, 4.0, 4.0, 8.0, 8.0, 8.0, 8.0, 8.0, 8.0, 8.0, 8.0, 4.0, 4.0, 4.0, 8.0, 8.0, 8.0, 8.0, 8.0, 8.0, 8.0, 8.0, 4.0, 4.0, 4.0, 8.0, 8.0, 8.0, 8.0, 8.0, 8.0, 8.0, 8.0, 4.0, 4.0, 4.0, 8.0, 8.0, 8.0, 8.0, 8.0, 8.0, 8.0, 8.0, 4.0, 4.0, 4.0, 8.0, 8.0, 8.0, 8.0, 8.0, 8.0, 8.0, 8.0, 4.0, 4.0, 4.0, 8.0, 8.0, 8.0, 8.0, 8.0, 8.0, 8.0, 8.0, 4.0, 4.0, 4.0, 8.0, 8.0, 8.0, 8.0, 8.0, 8.0, 8.0, 8.0, 4.0], \"colorscale\": [[0, \"wheat\"], [0.5, \"darkgreen\"], [1.0, \"lightgreen\"]], \"opacity\": 0.8, \"size\": 3}, \"mode\": \"markers\", \"name\": \"plant\", \"type\": \"scatter3d\", \"x\": [0.0, 0.0, 8.179900512580474e-05, 0.00015516750148492872, 0.0003355322171152504, 0.00031339960192046005, 0.0022320116668454954, 0.00391342953041028, 0.00603612077745846, 0.008168509189982505, 0.010435484261429904, 0.01266263383287789, 0.014907810312437089, 0.015940149200990485, 0.0005949146354234768, 0.0009144080099443507, 0.0012678747761917686, 0.0015473994549712116, 0.00181283569824352, 0.0020538406997049363, 0.0022037539894464967, 0.00234776656951594, 0.0, 0.0, 0.0, 0.0020225424859373685, 0.004045084971874737, 0.006067627457812106, 0.008090169943749474, 0.010112712429686843, 0.012135254915624212, 0.01415779740156158, 0.016180339887498948, 0.0, 0.0, 0.0, -0.0020225424859373685, -0.004045084971874737, -0.006067627457812106, -0.008090169943749474, -0.010112712429686843, -0.012135254915624212, -0.01415779740156158, -0.016180339887498948, 0.0, 0.0, 0.0, 0.0020225424859373685, 0.004045084971874737, 0.006067627457812106, 0.008090169943749474, 0.010112712429686843, 0.012135254915624212, 0.01415779740156158, 0.016180339887498948, 0.0, 0.0, 0.0, -0.0020225424859373685, -0.004045084971874737, -0.006067627457812106, -0.008090169943749474, -0.010112712429686843, -0.012135254915624212, -0.01415779740156158, -0.016180339887498948, 0.0, 0.0, 0.0, 0.0020225424859373685, 0.004045084971874737, 0.006067627457812106, 0.008090169943749474, 0.010112712429686843, 0.012135254915624212, 0.01415779740156158, 0.016180339887498948, 0.0, 0.0, 0.0, -0.0020225424859373685, -0.004045084971874737, -0.006067627457812106, -0.008090169943749474, -0.010112712429686843, -0.012135254915624212, -0.01415779740156158, -0.016180339887498948, 0.0, 0.0, 0.0, 0.0020225424859373685, 0.004045084971874737, 0.006067627457812106, 0.008090169943749474, 0.010112712429686843, 0.012135254915624212, 0.01415779740156158, 0.016180339887498948, 0.0, 0.0, 0.0, -0.0020225424859373685, -0.004045084971874737, -0.006067627457812106, -0.008090169943749474, -0.010112712429686843, -0.012135254915624212, -0.01415779740156158, -0.016180339887498948, 0.0, 0.0, 0.0, 0.0020225424859373685, 0.004045084971874737, 0.006067627457812106, 0.008090169943749474, 0.010112712429686843, 0.012135254915624212, 0.01415779740156158, 0.016180339887498948, 0.0, 0.0, 0.0, -0.0020225424859373685, -0.004045084971874737, -0.006067627457812106, -0.008090169943749474, -0.010112712429686843, -0.012135254915624212, -0.01415779740156158, -0.016180339887498948, 0.0, 0.0, 0.0, 0.0020225424859373685, 0.004045084971874737, 0.006067627457812106, 0.008090169943749474, 0.010112712429686843, 0.012135254915624212, 0.01415779740156158, 0.016180339887498948, 0.0, 0.0, 0.0, -0.0020225424859373685, -0.004045084971874737, -0.006067627457812106, -0.008090169943749474, -0.010112712429686843, -0.012135254915624212, -0.01415779740156158, -0.016180339887498948, 0.0, 0.0, 0.0, 0.0020225424859373685, 0.004045084971874737, 0.006067627457812106, 0.008090169943749474, 0.010112712429686843, 0.012135254915624212, 0.01415779740156158, 0.016180339887498948, 0.0, 0.0, 0.0, -0.0020225424859373685, -0.004045084971874737, -0.006067627457812106, -0.008090169943749474, -0.010112712429686843, -0.012135254915624212, -0.01415779740156158, -0.016180339887498948, 0.0], \"y\": [0.0, 0.0, -4.724559574889628e-06, -9.389730044407687e-05, 7.216227333913512e-05, 0.0001788735454966574, -0.0010903567625307697, -0.002467379189000755, -0.0035266257601618443, -0.004562421811525297, -0.005429671160665617, -0.006301080946545903, -0.007162559599518382, -0.007265079106897168, -7.144199879345268e-07, -0.00011434043069961706, -0.00026286772458725805, -0.00013336272795949947, 1.2506295447088801e-05, 0.0001666495565571622, 0.0002500031429224151, 0.000505527069884637, 0.0, 0.0, 0.0, -1.0900864628058952e-17, -2.1801729256117905e-17, -3.2702593884176854e-17, -4.360345851223581e-17, -5.450432314029476e-17, -6.540518776835371e-17, -7.630605239641265e-17, -8.720691702447159e-17, 0.0, 0.0, 0.0, 3.963040290468366e-18, 7.926080580936732e-18, 1.18891208714051e-17, 1.5852161161873467e-17, 1.9815201452341835e-17, 2.37782417428102e-17, 2.7741282033278567e-17, 3.170432232374693e-17, 0.0, 0.0, 0.0, 2.9747840471222197e-18, 5.9495680942444394e-18, 8.924352141366659e-18, 1.189913618848888e-17, 1.48739202356111e-17, 1.7848704282733324e-17, 2.0823488329855544e-17, 2.3798272376977764e-17, 0.0, 0.0, 0.0, 4.458420326776912e-18, 8.916840653553824e-18, 1.3375260980330737e-17, 1.783368130710765e-17, 2.2292101633884567e-17, 2.6750521960661483e-17, 3.1208942287438396e-17, 3.5667362614215315e-17, 0.0, 0.0, 0.0, -1.1891624700676046e-17, -2.378324940135209e-17, -3.567487410202813e-17, -4.756649880270417e-17, -5.945812350338022e-17, -7.134974820405625e-17, -8.32413729047323e-17, -9.513299760540833e-17, 0.0, 0.0, 0.0, 4.953800363085459e-18, 9.907600726170918e-18, 1.4861401089256377e-17, 1.9815201452341835e-17, 2.4769001815427293e-17, 2.972280217851275e-17, 3.4676602541598206e-17, 3.9630402904683664e-17, 0.0, 0.0, 0.0, 1.984023974505128e-18, 3.968047949010256e-18, 5.952071923515385e-18, 7.936095898020514e-18, 9.920119872525642e-18, 1.190414384703077e-17, 1.38881678215359e-17, 1.5872191796041025e-17, 0.0, 0.0, 0.0, 1.982020911088372e-17, 3.964041822176744e-17, 5.946062733265117e-17, 7.928083644353488e-17, 9.91010455544186e-17, 1.189212546653023e-16, 1.3874146377618604e-16, 1.5856167288706974e-16, 0.0, 0.0, 0.0, -1.2882384773293136e-17, -2.5764769546586272e-17, -3.864715431987941e-17, -5.152953909317254e-17, -6.441192386646567e-17, -7.72943086397588e-17, -9.017669341305193e-17, -1.0305907818634506e-16, 0.0, 0.0, 0.0, 5.944560435702549e-18, 1.1889120871405098e-17, 1.7833681307107648e-17, 2.37782417428102e-17, 2.9722802178512754e-17, 3.56673626142153e-17, 4.161192304991785e-17, 4.75564834856204e-17, 0.0, 0.0, 0.0, 9.932639018880367e-19, 1.9865278037760733e-18, 2.9797917056641104e-18, 3.9730556075521474e-18, 4.966319509440184e-18, 5.959583411328221e-18, 6.952847313216257e-18, 7.946111215104293e-18, 0.0, 0.0, 0.0, -7.931088239478622e-18, -1.5862176478957245e-17, -2.3793264718435866e-17, -3.172435295791449e-17, -3.965544119739311e-17, -4.758652943687173e-17, -5.551761767635036e-17, -6.344870591582898e-17, 0.0, 0.0, 0.0, -1.3873144845910228e-17, -2.7746289691820456e-17, -4.161943453773068e-17, -5.5492579383640906e-17, -6.936572422955112e-17, -8.323886907546135e-17, -9.711201392137157e-17, -1.1098515876728179e-16, 0.0, 0.0, 0.0, 6.935320508319642e-18, 1.3870641016639284e-17, 2.0805961524958925e-17, 2.774128203327857e-17, 3.467660254159821e-17, 4.161192304991785e-17, 4.854724355823749e-17, 5.5482564066557134e-17, 0.0], \"z\": [-0.03, -0.03, -0.0324986569595079, -0.03499598859267716, -0.037483938107299705, -0.03998156154804076, -0.0409603271836802, -0.04219590122236989, -0.04298468419073857, -0.04377843868560022, -0.0443773565362707, -0.04510567636400514, -0.04578907749519157, -0.046154753752423776, -0.04245916067795764, -0.04493605654038848, -0.04740648178478042, -0.04988742805783869, -0.05236901340369483, -0.05485259075186116, -0.057346699447407314, -0.059829433404063076, -0.0275, -0.025, -0.023, -0.021530536869268816, -0.020061073738537633, -0.01859161060780645, -0.017122147477075265, -0.015652684346344082, -0.0141832212156129, -0.012713758084881717, -0.011244294954150533, -0.020499999999999997, -0.018, -0.016, -0.014530536869268815, -0.013061073738537633, -0.011591610607806451, -0.010122147477075268, -0.008652684346344084, -0.007183221215612901, -0.005713758084881717, -0.004244294954150534, -0.013499999999999998, -0.011, -0.009000000000000001, -0.0075305368692688175, -0.006061073738537636, -0.004591610607806453, -0.00312214747707527, -0.0016526843463440866, -0.00018322121561290317, 0.0012862419151182802, 0.0027557050458494638, -0.0065000000000000014, -0.004000000000000001, -0.0019999999999999996, -0.0005305368692688167, 0.0009389262614623662, 0.002408389392193549, 0.003877852522924732, 0.005347315653655915, 0.006816778784387099, 0.008286241915118281, 0.009755705045849465, 0.0005000000000000004, 0.0030000000000000005, 0.005000000000000002, 0.006469463130731185, 0.007938926261462368, 0.00940838939219355, 0.010877852522924733, 0.012347315653655917, 0.0138167787843871, 0.015286241915118284, 0.016755705045849466, 0.007500000000000002, 0.010000000000000002, 0.012000000000000004, 0.013469463130731187, 0.014938926261462369, 0.01640838939219355, 0.017877852522924734, 0.019347315653655918, 0.0208167787843871, 0.022286241915118285, 0.02375570504584947, 0.014500000000000004, 0.017000000000000005, 0.019000000000000006, 0.020469463130731187, 0.02193892626146237, 0.023408389392193554, 0.024877852522924737, 0.02634731565365592, 0.027816778784387104, 0.029286241915118288, 0.03075570504584947, 0.021500000000000005, 0.024000000000000004, 0.026000000000000006, 0.02746946313073119, 0.028938926261462373, 0.030408389392193556, 0.031877852522924736, 0.03334731565365592, 0.034816778784387103, 0.03628624191511829, 0.03775570504584947, 0.028500000000000004, 0.031000000000000007, 0.03300000000000001, 0.03446946313073119, 0.035938926261462376, 0.037408389392193556, 0.03887785252292474, 0.04034731565365592, 0.04181677878438711, 0.04328624191511829, 0.04475570504584948, 0.035500000000000004, 0.038000000000000006, 0.04000000000000001, 0.041469463130731195, 0.042938926261462375, 0.04440838939219356, 0.04587785252292474, 0.04734731565365593, 0.04881677878438711, 0.050286241915118296, 0.051755705045849476, 0.04250000000000001, 0.04500000000000001, 0.047000000000000014, 0.048469463130731194, 0.049938926261462374, 0.05140838939219356, 0.05287785252292474, 0.05434731565365593, 0.05581677878438711, 0.057286241915118295, 0.058755705045849475, 0.04950000000000001, 0.05200000000000001, 0.054000000000000006, 0.055469463130731186, 0.05693892626146237, 0.05840838939219355, 0.05987785252292474, 0.06134731565365592, 0.0628167787843871, 0.06428624191511828, 0.06575570504584947, 0.0565, 0.059000000000000004, 0.061, 0.06246946313073118, 0.06393892626146236, 0.06540838939219355, 0.06687785252292473, 0.06834731565365591, 0.06981677878438709, 0.07128624191511829, 0.07275570504584947, 0.0635, 0.066, 0.06799999999999999, 0.06946946313073117, 0.07093892626146235, 0.07240838939219355, 0.07387785252292473, 0.0753473156536559, 0.07681677878438709, 0.07828624191511828, 0.07975570504584946, 0.07000000000000002]}],\n",
       "                        {\"scene\": {\"aspectmode\": \"data\", \"domain\": {\"x\": [0.0, 1.0], \"y\": [0.0, 1.0]}}, \"template\": {\"data\": {\"bar\": [{\"error_x\": {\"color\": \"#2a3f5f\"}, \"error_y\": {\"color\": \"#2a3f5f\"}, \"marker\": {\"line\": {\"color\": \"#E5ECF6\", \"width\": 0.5}}, \"type\": \"bar\"}], \"barpolar\": [{\"marker\": {\"line\": {\"color\": \"#E5ECF6\", \"width\": 0.5}}, \"type\": \"barpolar\"}], \"carpet\": [{\"aaxis\": {\"endlinecolor\": \"#2a3f5f\", \"gridcolor\": \"white\", \"linecolor\": \"white\", \"minorgridcolor\": \"white\", \"startlinecolor\": \"#2a3f5f\"}, \"baxis\": {\"endlinecolor\": \"#2a3f5f\", \"gridcolor\": \"white\", \"linecolor\": \"white\", \"minorgridcolor\": \"white\", \"startlinecolor\": \"#2a3f5f\"}, \"type\": \"carpet\"}], \"choropleth\": [{\"colorbar\": {\"outlinewidth\": 0, \"ticks\": \"\"}, \"type\": \"choropleth\"}], \"contour\": [{\"colorbar\": {\"outlinewidth\": 0, \"ticks\": \"\"}, \"colorscale\": [[0.0, \"#0d0887\"], [0.1111111111111111, \"#46039f\"], [0.2222222222222222, \"#7201a8\"], [0.3333333333333333, \"#9c179e\"], [0.4444444444444444, \"#bd3786\"], [0.5555555555555556, \"#d8576b\"], [0.6666666666666666, \"#ed7953\"], [0.7777777777777778, \"#fb9f3a\"], [0.8888888888888888, \"#fdca26\"], [1.0, \"#f0f921\"]], \"type\": \"contour\"}], \"contourcarpet\": [{\"colorbar\": {\"outlinewidth\": 0, \"ticks\": \"\"}, \"type\": \"contourcarpet\"}], \"heatmap\": [{\"colorbar\": {\"outlinewidth\": 0, \"ticks\": \"\"}, \"colorscale\": [[0.0, \"#0d0887\"], [0.1111111111111111, \"#46039f\"], [0.2222222222222222, \"#7201a8\"], [0.3333333333333333, \"#9c179e\"], [0.4444444444444444, \"#bd3786\"], [0.5555555555555556, \"#d8576b\"], [0.6666666666666666, \"#ed7953\"], [0.7777777777777778, \"#fb9f3a\"], [0.8888888888888888, \"#fdca26\"], [1.0, \"#f0f921\"]], \"type\": \"heatmap\"}], \"heatmapgl\": [{\"colorbar\": {\"outlinewidth\": 0, \"ticks\": \"\"}, \"colorscale\": [[0.0, \"#0d0887\"], [0.1111111111111111, \"#46039f\"], [0.2222222222222222, \"#7201a8\"], [0.3333333333333333, \"#9c179e\"], [0.4444444444444444, \"#bd3786\"], [0.5555555555555556, \"#d8576b\"], [0.6666666666666666, \"#ed7953\"], [0.7777777777777778, \"#fb9f3a\"], [0.8888888888888888, \"#fdca26\"], [1.0, \"#f0f921\"]], \"type\": \"heatmapgl\"}], \"histogram\": [{\"marker\": {\"colorbar\": {\"outlinewidth\": 0, \"ticks\": \"\"}}, \"type\": \"histogram\"}], \"histogram2d\": [{\"colorbar\": {\"outlinewidth\": 0, \"ticks\": \"\"}, \"colorscale\": [[0.0, \"#0d0887\"], [0.1111111111111111, \"#46039f\"], [0.2222222222222222, \"#7201a8\"], [0.3333333333333333, \"#9c179e\"], [0.4444444444444444, \"#bd3786\"], [0.5555555555555556, \"#d8576b\"], [0.6666666666666666, \"#ed7953\"], [0.7777777777777778, \"#fb9f3a\"], [0.8888888888888888, \"#fdca26\"], [1.0, \"#f0f921\"]], \"type\": \"histogram2d\"}], \"histogram2dcontour\": [{\"colorbar\": {\"outlinewidth\": 0, \"ticks\": \"\"}, \"colorscale\": [[0.0, \"#0d0887\"], [0.1111111111111111, \"#46039f\"], [0.2222222222222222, \"#7201a8\"], [0.3333333333333333, \"#9c179e\"], [0.4444444444444444, \"#bd3786\"], [0.5555555555555556, \"#d8576b\"], [0.6666666666666666, \"#ed7953\"], [0.7777777777777778, \"#fb9f3a\"], [0.8888888888888888, \"#fdca26\"], [1.0, \"#f0f921\"]], \"type\": \"histogram2dcontour\"}], \"mesh3d\": [{\"colorbar\": {\"outlinewidth\": 0, \"ticks\": \"\"}, \"type\": \"mesh3d\"}], \"parcoords\": [{\"line\": {\"colorbar\": {\"outlinewidth\": 0, \"ticks\": \"\"}}, \"type\": \"parcoords\"}], \"scatter\": [{\"marker\": {\"colorbar\": {\"outlinewidth\": 0, \"ticks\": \"\"}}, \"type\": \"scatter\"}], \"scatter3d\": [{\"line\": {\"colorbar\": {\"outlinewidth\": 0, \"ticks\": \"\"}}, \"marker\": {\"colorbar\": {\"outlinewidth\": 0, \"ticks\": \"\"}}, \"type\": \"scatter3d\"}], \"scattercarpet\": [{\"marker\": {\"colorbar\": {\"outlinewidth\": 0, \"ticks\": \"\"}}, \"type\": \"scattercarpet\"}], \"scattergeo\": [{\"marker\": {\"colorbar\": {\"outlinewidth\": 0, \"ticks\": \"\"}}, \"type\": \"scattergeo\"}], \"scattergl\": [{\"marker\": {\"colorbar\": {\"outlinewidth\": 0, \"ticks\": \"\"}}, \"type\": \"scattergl\"}], \"scattermapbox\": [{\"marker\": {\"colorbar\": {\"outlinewidth\": 0, \"ticks\": \"\"}}, \"type\": \"scattermapbox\"}], \"scatterpolar\": [{\"marker\": {\"colorbar\": {\"outlinewidth\": 0, \"ticks\": \"\"}}, \"type\": \"scatterpolar\"}], \"scatterpolargl\": [{\"marker\": {\"colorbar\": {\"outlinewidth\": 0, \"ticks\": \"\"}}, \"type\": \"scatterpolargl\"}], \"scatterternary\": [{\"marker\": {\"colorbar\": {\"outlinewidth\": 0, \"ticks\": \"\"}}, \"type\": \"scatterternary\"}], \"surface\": [{\"colorbar\": {\"outlinewidth\": 0, \"ticks\": \"\"}, \"colorscale\": [[0.0, \"#0d0887\"], [0.1111111111111111, \"#46039f\"], [0.2222222222222222, \"#7201a8\"], [0.3333333333333333, \"#9c179e\"], [0.4444444444444444, \"#bd3786\"], [0.5555555555555556, \"#d8576b\"], [0.6666666666666666, \"#ed7953\"], [0.7777777777777778, \"#fb9f3a\"], [0.8888888888888888, \"#fdca26\"], [1.0, \"#f0f921\"]], \"type\": \"surface\"}], \"table\": [{\"cells\": {\"fill\": {\"color\": \"#EBF0F8\"}, \"line\": {\"color\": \"white\"}}, \"header\": {\"fill\": {\"color\": \"#C8D4E3\"}, \"line\": {\"color\": \"white\"}}, \"type\": \"table\"}]}, \"layout\": {\"annotationdefaults\": {\"arrowcolor\": \"#2a3f5f\", \"arrowhead\": 0, \"arrowwidth\": 1}, \"colorscale\": {\"diverging\": [[0, \"#8e0152\"], [0.1, \"#c51b7d\"], [0.2, \"#de77ae\"], [0.3, \"#f1b6da\"], [0.4, \"#fde0ef\"], [0.5, \"#f7f7f7\"], [0.6, \"#e6f5d0\"], [0.7, \"#b8e186\"], [0.8, \"#7fbc41\"], [0.9, \"#4d9221\"], [1, \"#276419\"]], \"sequential\": [[0.0, \"#0d0887\"], [0.1111111111111111, \"#46039f\"], [0.2222222222222222, \"#7201a8\"], [0.3333333333333333, \"#9c179e\"], [0.4444444444444444, \"#bd3786\"], [0.5555555555555556, \"#d8576b\"], [0.6666666666666666, \"#ed7953\"], [0.7777777777777778, \"#fb9f3a\"], [0.8888888888888888, \"#fdca26\"], [1.0, \"#f0f921\"]], \"sequentialminus\": [[0.0, \"#0d0887\"], [0.1111111111111111, \"#46039f\"], [0.2222222222222222, \"#7201a8\"], [0.3333333333333333, \"#9c179e\"], [0.4444444444444444, \"#bd3786\"], [0.5555555555555556, \"#d8576b\"], [0.6666666666666666, \"#ed7953\"], [0.7777777777777778, \"#fb9f3a\"], [0.8888888888888888, \"#fdca26\"], [1.0, \"#f0f921\"]]}, \"colorway\": [\"#636efa\", \"#EF553B\", \"#00cc96\", \"#ab63fa\", \"#FFA15A\", \"#19d3f3\", \"#FF6692\", \"#B6E880\", \"#FF97FF\", \"#FECB52\"], \"font\": {\"color\": \"#2a3f5f\"}, \"geo\": {\"bgcolor\": \"white\", \"lakecolor\": \"white\", \"landcolor\": \"#E5ECF6\", \"showlakes\": true, \"showland\": true, \"subunitcolor\": \"white\"}, \"hoverlabel\": {\"align\": \"left\"}, \"hovermode\": \"closest\", \"mapbox\": {\"style\": \"light\"}, \"paper_bgcolor\": \"white\", \"plot_bgcolor\": \"#E5ECF6\", \"polar\": {\"angularaxis\": {\"gridcolor\": \"white\", \"linecolor\": \"white\", \"ticks\": \"\"}, \"bgcolor\": \"#E5ECF6\", \"radialaxis\": {\"gridcolor\": \"white\", \"linecolor\": \"white\", \"ticks\": \"\"}}, \"scene\": {\"xaxis\": {\"backgroundcolor\": \"#E5ECF6\", \"gridcolor\": \"white\", \"gridwidth\": 2, \"linecolor\": \"white\", \"showbackground\": true, \"ticks\": \"\", \"zerolinecolor\": \"white\"}, \"yaxis\": {\"backgroundcolor\": \"#E5ECF6\", \"gridcolor\": \"white\", \"gridwidth\": 2, \"linecolor\": \"white\", \"showbackground\": true, \"ticks\": \"\", \"zerolinecolor\": \"white\"}, \"zaxis\": {\"backgroundcolor\": \"#E5ECF6\", \"gridcolor\": \"white\", \"gridwidth\": 2, \"linecolor\": \"white\", \"showbackground\": true, \"ticks\": \"\", \"zerolinecolor\": \"white\"}}, \"shapedefaults\": {\"line\": {\"color\": \"#2a3f5f\"}}, \"ternary\": {\"aaxis\": {\"gridcolor\": \"white\", \"linecolor\": \"white\", \"ticks\": \"\"}, \"baxis\": {\"gridcolor\": \"white\", \"linecolor\": \"white\", \"ticks\": \"\"}, \"bgcolor\": \"#E5ECF6\", \"caxis\": {\"gridcolor\": \"white\", \"linecolor\": \"white\", \"ticks\": \"\"}}, \"title\": {\"x\": 0.05}, \"xaxis\": {\"automargin\": true, \"gridcolor\": \"white\", \"linecolor\": \"white\", \"ticks\": \"\", \"zerolinecolor\": \"white\", \"zerolinewidth\": 2}, \"yaxis\": {\"automargin\": true, \"gridcolor\": \"white\", \"linecolor\": \"white\", \"ticks\": \"\", \"zerolinecolor\": \"white\", \"zerolinewidth\": 2}}}},\n",
       "                        {\"responsive\": true}\n",
       "                    ).then(function(){\n",
       "                            \n",
       "var gd = document.getElementById('35dcbe70-6679-456b-b644-859c266fde03');\n",
       "var x = new MutationObserver(function (mutations, observer) {{\n",
       "        var display = window.getComputedStyle(gd).display;\n",
       "        if (!display || display === 'none') {{\n",
       "            console.log([gd, 'removed!']);\n",
       "            Plotly.purge(gd);\n",
       "            observer.disconnect();\n",
       "        }}\n",
       "}});\n",
       "\n",
       "// Listen for the removal of the full notebook cells\n",
       "var notebookContainer = gd.closest('#notebook-container');\n",
       "if (notebookContainer) {{\n",
       "    x.observe(notebookContainer, {childList: true});\n",
       "}}\n",
       "\n",
       "// Listen for the clearing of the current output cell\n",
       "var outputEl = gd.closest('.output');\n",
       "if (outputEl) {{\n",
       "    x.observe(outputEl, {childList: true});\n",
       "}}\n",
       "\n",
       "                        })\n",
       "                };\n",
       "                });\n",
       "            </script>\n",
       "        </div>"
      ]
     },
     "metadata": {},
     "output_type": "display_data"
    },
    {
     "name": "stdout",
     "output_type": "stream",
     "text": [
      "original lmax of stem organ with subtype 1 is 2.1, changed to 5\n"
     ]
    },
    {
     "data": {
      "application/vnd.plotly.v1+json": {
       "config": {
        "plotlyServerURL": "https://plot.ly"
       },
       "data": [
        {
         "marker": {
          "color": [
           2,
           4,
           2,
           2,
           2,
           2,
           2,
           2,
           2,
           2,
           2,
           2,
           2,
           2,
           2,
           2,
           2,
           2,
           2,
           2,
           2,
           2,
           4,
           4,
           4,
           8,
           8,
           8,
           8,
           8,
           8,
           8,
           8,
           4,
           4,
           4,
           8,
           8,
           8,
           8,
           8,
           8,
           8,
           8,
           4,
           4,
           4,
           8,
           8,
           8,
           8,
           8,
           8,
           8,
           8,
           4,
           4,
           4,
           8,
           8,
           8,
           8,
           8,
           8,
           8,
           8,
           4,
           4,
           4,
           8,
           8,
           8,
           8,
           8,
           8,
           8,
           8,
           4,
           4,
           4,
           8,
           8,
           8,
           8,
           8,
           8,
           8,
           8,
           4,
           4,
           4,
           8,
           8,
           8,
           8,
           8,
           8,
           8,
           8,
           4
          ],
          "colorscale": [
           [
            0,
            "wheat"
           ],
           [
            0.5,
            "darkgreen"
           ],
           [
            1,
            "lightgreen"
           ]
          ],
          "opacity": 0.8,
          "size": 3
         },
         "mode": "markers",
         "name": "plant",
         "type": "scatter3d",
         "x": [
          0,
          0,
          -0.00015409163092513023,
          -9.885275264640333e-05,
          -3.40832913172889e-06,
          -0.0002827707110340007,
          -0.0014145383135017104,
          -0.002228375035510349,
          -0.0029642214831871088,
          -0.003863974666169516,
          -0.004948055008224738,
          -0.006117448003225339,
          -0.00728853055065277,
          -0.0078050727907867925,
          -0.0007719325908836113,
          -0.0012627428499594182,
          -0.0018976858326089057,
          -0.002761116527682943,
          -0.0034271931764515307,
          -0.003837093022368111,
          -0.0043405740030560205,
          -0.00492499449551022,
          0,
          0,
          0,
          0.0020225424859373685,
          0.004045084971874737,
          0.006067627457812106,
          0.008090169943749474,
          0.010112712429686843,
          0.012135254915624212,
          0.01415779740156158,
          0.016180339887498948,
          0,
          0,
          0,
          -0.0020225424859373685,
          -0.004045084971874737,
          -0.006067627457812106,
          -0.008090169943749474,
          -0.010112712429686843,
          -0.012135254915624212,
          -0.01415779740156158,
          -0.016180339887498948,
          0,
          0,
          0,
          0.0020225424859373685,
          0.004045084971874737,
          0.006067627457812106,
          0.008090169943749474,
          0.010112712429686843,
          0.012135254915624212,
          0.01415779740156158,
          0.016180339887498948,
          0,
          0,
          0,
          -0.0020225424859373685,
          -0.004045084971874737,
          -0.006067627457812106,
          -0.008090169943749474,
          -0.010112712429686843,
          -0.012135254915624212,
          -0.01415779740156158,
          -0.016180339887498948,
          0,
          0,
          0,
          0.0020225424859373685,
          0.004045084971874737,
          0.006067627457812106,
          0.008090169943749474,
          0.010112712429686843,
          0.012135254915624212,
          0.01415779740156158,
          0.016180339887498948,
          0,
          0,
          0,
          -0.0020225424859373685,
          -0.004045084971874737,
          -0.006067627457812106,
          -0.008090169943749474,
          -0.010112712429686843,
          -0.012135254915624212,
          -0.01415779740156158,
          -0.016180339887498948,
          0,
          0,
          0,
          0.0020225424859373685,
          0.004045084971874737,
          0.006067627457812106,
          0.008090169943749474,
          0.010112712429686843,
          0.012135254915624212,
          0.01415779740156158,
          0.016180339887498948,
          0
         ],
         "y": [
          0,
          0,
          -0.00020798230254683703,
          -0.0006505964350854864,
          -0.0008613769096265299,
          -0.0011177569348927324,
          0.0010548327343565878,
          0.0033417668513189484,
          0.005633062818716236,
          0.007807387216426487,
          0.009809149286370378,
          0.01198974356699692,
          0.014171704378550294,
          0.015131397657755152,
          -0.0012872673786595145,
          -0.0015103906397692726,
          -0.00197342411277505,
          -0.002637145418940624,
          -0.0030877226602305775,
          -0.003383799993906993,
          -0.0036000799994700904,
          -0.0037960559348886843,
          0,
          0,
          0,
          2.5038292709450237e-21,
          5.0076585418900475e-21,
          7.511487812835072e-21,
          1.0015317083780095e-20,
          1.251914635472512e-20,
          1.5022975625670144e-20,
          1.752680489661517e-20,
          2.0030634167560196e-20,
          0,
          0,
          0,
          2.1801729256117905e-17,
          4.360345851223581e-17,
          6.540518776835371e-17,
          8.720691702447162e-17,
          1.0900864628058952e-16,
          1.3081037553670741e-16,
          1.526121047928253e-16,
          1.7441383404894319e-16,
          0,
          0,
          0,
          -1.486390491852732e-17,
          -2.972780983705464e-17,
          -4.4591714755581957e-17,
          -5.945561967410927e-17,
          -7.431952459263658e-17,
          -8.91834295111639e-17,
          -1.040473344296912e-16,
          -1.1891123934821853e-16,
          0,
          0,
          0,
          7.926080580936732e-18,
          1.5852161161873464e-17,
          2.37782417428102e-17,
          3.1704322323746935e-17,
          3.963040290468367e-17,
          4.75564834856204e-17,
          5.5482564066557134e-17,
          6.340864464749386e-17,
          0,
          0,
          0,
          -9.882562433461468e-19,
          -1.9765124866922935e-18,
          -2.96476873003844e-18,
          -3.953024973384586e-18,
          -4.941281216730732e-18,
          -5.929537460076879e-18,
          -6.917793703423025e-18,
          -7.906049946769171e-18,
          0,
          0,
          0,
          -5.9495680942444394e-18,
          -1.1899136188488879e-17,
          -1.7848704282733317e-17,
          -2.379827237697776e-17,
          -2.97478404712222e-17,
          -3.569740856546665e-17,
          -4.164697665971109e-17,
          -4.759654475395553e-17,
          0,
          0,
          0,
          -1.5854664991144413e-17,
          -3.1709329982288827e-17,
          -4.756399497343324e-17,
          -6.341865996457765e-17,
          -7.927332495572207e-17,
          -9.512798994686649e-17,
          -1.1098265493801091e-16,
          -1.2683731992915533e-16,
          0
         ],
         "z": [
          -0.03,
          -0.03,
          -0.03248656371949446,
          -0.034946450179476625,
          -0.037435719540870084,
          -0.03990679743163403,
          -0.040405752562959106,
          -0.04100375100324454,
          -0.04168087196380508,
          -0.04252512170365401,
          -0.04355842631861678,
          -0.04391553779496884,
          -0.044258484852043575,
          -0.044407290625471746,
          -0.04235260749473296,
          -0.044793779610733324,
          -0.04716705738875687,
          -0.04941738213477595,
          -0.05178451585461451,
          -0.05423284596487346,
          -0.05667205277473587,
          -0.0590948705806669,
          -0.0275,
          -0.025,
          -0.023,
          -0.021530536869268816,
          -0.020061073738537633,
          -0.01859161060780645,
          -0.017122147477075265,
          -0.015652684346344082,
          -0.0141832212156129,
          -0.012713758084881717,
          -0.011244294954150533,
          -0.020499999999999997,
          -0.018,
          -0.016,
          -0.014530536869268815,
          -0.013061073738537633,
          -0.011591610607806451,
          -0.010122147477075268,
          -0.008652684346344084,
          -0.007183221215612901,
          -0.005713758084881717,
          -0.004244294954150534,
          -0.013499999999999998,
          -0.011,
          -0.009000000000000001,
          -0.0075305368692688175,
          -0.006061073738537636,
          -0.004591610607806453,
          -0.00312214747707527,
          -0.0016526843463440866,
          -0.00018322121561290317,
          0.0012862419151182802,
          0.0027557050458494638,
          -0.0065000000000000014,
          -0.004000000000000001,
          -0.0019999999999999996,
          -0.0005305368692688167,
          0.0009389262614623662,
          0.002408389392193549,
          0.003877852522924732,
          0.005347315653655915,
          0.006816778784387099,
          0.008286241915118281,
          0.009755705045849465,
          0.0005000000000000004,
          0.0030000000000000005,
          0.005000000000000002,
          0.006469463130731185,
          0.007938926261462368,
          0.00940838939219355,
          0.010877852522924733,
          0.012347315653655917,
          0.0138167787843871,
          0.015286241915118284,
          0.016755705045849466,
          0.007500000000000002,
          0.010000000000000002,
          0.012000000000000004,
          0.013469463130731187,
          0.014938926261462369,
          0.01640838939219355,
          0.017877852522924734,
          0.019347315653655918,
          0.0208167787843871,
          0.022286241915118285,
          0.02375570504584947,
          0.014500000000000004,
          0.017000000000000005,
          0.019000000000000006,
          0.020469463130731187,
          0.02193892626146237,
          0.023408389392193554,
          0.024877852522924737,
          0.02634731565365592,
          0.027816778784387104,
          0.029286241915118288,
          0.03075570504584947,
          0.019999999999999997
         ]
        }
       ],
       "layout": {
        "autosize": true,
        "scene": {
         "aspectmode": "data",
         "aspectratio": {
          "x": 0.8507606727681267,
          "y": 0.4976018199934805,
          "z": 2.362167194883145
         },
         "domain": {
          "x": [
           0,
           1
          ],
          "y": [
           0,
           1
          ]
         }
        },
        "template": {
         "data": {
          "bar": [
           {
            "error_x": {
             "color": "#2a3f5f"
            },
            "error_y": {
             "color": "#2a3f5f"
            },
            "marker": {
             "line": {
              "color": "#E5ECF6",
              "width": 0.5
             }
            },
            "type": "bar"
           }
          ],
          "barpolar": [
           {
            "marker": {
             "line": {
              "color": "#E5ECF6",
              "width": 0.5
             }
            },
            "type": "barpolar"
           }
          ],
          "carpet": [
           {
            "aaxis": {
             "endlinecolor": "#2a3f5f",
             "gridcolor": "white",
             "linecolor": "white",
             "minorgridcolor": "white",
             "startlinecolor": "#2a3f5f"
            },
            "baxis": {
             "endlinecolor": "#2a3f5f",
             "gridcolor": "white",
             "linecolor": "white",
             "minorgridcolor": "white",
             "startlinecolor": "#2a3f5f"
            },
            "type": "carpet"
           }
          ],
          "choropleth": [
           {
            "colorbar": {
             "outlinewidth": 0,
             "ticks": ""
            },
            "type": "choropleth"
           }
          ],
          "contour": [
           {
            "colorbar": {
             "outlinewidth": 0,
             "ticks": ""
            },
            "colorscale": [
             [
              0,
              "#0d0887"
             ],
             [
              0.1111111111111111,
              "#46039f"
             ],
             [
              0.2222222222222222,
              "#7201a8"
             ],
             [
              0.3333333333333333,
              "#9c179e"
             ],
             [
              0.4444444444444444,
              "#bd3786"
             ],
             [
              0.5555555555555556,
              "#d8576b"
             ],
             [
              0.6666666666666666,
              "#ed7953"
             ],
             [
              0.7777777777777778,
              "#fb9f3a"
             ],
             [
              0.8888888888888888,
              "#fdca26"
             ],
             [
              1,
              "#f0f921"
             ]
            ],
            "type": "contour"
           }
          ],
          "contourcarpet": [
           {
            "colorbar": {
             "outlinewidth": 0,
             "ticks": ""
            },
            "type": "contourcarpet"
           }
          ],
          "heatmap": [
           {
            "colorbar": {
             "outlinewidth": 0,
             "ticks": ""
            },
            "colorscale": [
             [
              0,
              "#0d0887"
             ],
             [
              0.1111111111111111,
              "#46039f"
             ],
             [
              0.2222222222222222,
              "#7201a8"
             ],
             [
              0.3333333333333333,
              "#9c179e"
             ],
             [
              0.4444444444444444,
              "#bd3786"
             ],
             [
              0.5555555555555556,
              "#d8576b"
             ],
             [
              0.6666666666666666,
              "#ed7953"
             ],
             [
              0.7777777777777778,
              "#fb9f3a"
             ],
             [
              0.8888888888888888,
              "#fdca26"
             ],
             [
              1,
              "#f0f921"
             ]
            ],
            "type": "heatmap"
           }
          ],
          "heatmapgl": [
           {
            "colorbar": {
             "outlinewidth": 0,
             "ticks": ""
            },
            "colorscale": [
             [
              0,
              "#0d0887"
             ],
             [
              0.1111111111111111,
              "#46039f"
             ],
             [
              0.2222222222222222,
              "#7201a8"
             ],
             [
              0.3333333333333333,
              "#9c179e"
             ],
             [
              0.4444444444444444,
              "#bd3786"
             ],
             [
              0.5555555555555556,
              "#d8576b"
             ],
             [
              0.6666666666666666,
              "#ed7953"
             ],
             [
              0.7777777777777778,
              "#fb9f3a"
             ],
             [
              0.8888888888888888,
              "#fdca26"
             ],
             [
              1,
              "#f0f921"
             ]
            ],
            "type": "heatmapgl"
           }
          ],
          "histogram": [
           {
            "marker": {
             "colorbar": {
              "outlinewidth": 0,
              "ticks": ""
             }
            },
            "type": "histogram"
           }
          ],
          "histogram2d": [
           {
            "colorbar": {
             "outlinewidth": 0,
             "ticks": ""
            },
            "colorscale": [
             [
              0,
              "#0d0887"
             ],
             [
              0.1111111111111111,
              "#46039f"
             ],
             [
              0.2222222222222222,
              "#7201a8"
             ],
             [
              0.3333333333333333,
              "#9c179e"
             ],
             [
              0.4444444444444444,
              "#bd3786"
             ],
             [
              0.5555555555555556,
              "#d8576b"
             ],
             [
              0.6666666666666666,
              "#ed7953"
             ],
             [
              0.7777777777777778,
              "#fb9f3a"
             ],
             [
              0.8888888888888888,
              "#fdca26"
             ],
             [
              1,
              "#f0f921"
             ]
            ],
            "type": "histogram2d"
           }
          ],
          "histogram2dcontour": [
           {
            "colorbar": {
             "outlinewidth": 0,
             "ticks": ""
            },
            "colorscale": [
             [
              0,
              "#0d0887"
             ],
             [
              0.1111111111111111,
              "#46039f"
             ],
             [
              0.2222222222222222,
              "#7201a8"
             ],
             [
              0.3333333333333333,
              "#9c179e"
             ],
             [
              0.4444444444444444,
              "#bd3786"
             ],
             [
              0.5555555555555556,
              "#d8576b"
             ],
             [
              0.6666666666666666,
              "#ed7953"
             ],
             [
              0.7777777777777778,
              "#fb9f3a"
             ],
             [
              0.8888888888888888,
              "#fdca26"
             ],
             [
              1,
              "#f0f921"
             ]
            ],
            "type": "histogram2dcontour"
           }
          ],
          "mesh3d": [
           {
            "colorbar": {
             "outlinewidth": 0,
             "ticks": ""
            },
            "type": "mesh3d"
           }
          ],
          "parcoords": [
           {
            "line": {
             "colorbar": {
              "outlinewidth": 0,
              "ticks": ""
             }
            },
            "type": "parcoords"
           }
          ],
          "scatter": [
           {
            "marker": {
             "colorbar": {
              "outlinewidth": 0,
              "ticks": ""
             }
            },
            "type": "scatter"
           }
          ],
          "scatter3d": [
           {
            "line": {
             "colorbar": {
              "outlinewidth": 0,
              "ticks": ""
             }
            },
            "marker": {
             "colorbar": {
              "outlinewidth": 0,
              "ticks": ""
             }
            },
            "type": "scatter3d"
           }
          ],
          "scattercarpet": [
           {
            "marker": {
             "colorbar": {
              "outlinewidth": 0,
              "ticks": ""
             }
            },
            "type": "scattercarpet"
           }
          ],
          "scattergeo": [
           {
            "marker": {
             "colorbar": {
              "outlinewidth": 0,
              "ticks": ""
             }
            },
            "type": "scattergeo"
           }
          ],
          "scattergl": [
           {
            "marker": {
             "colorbar": {
              "outlinewidth": 0,
              "ticks": ""
             }
            },
            "type": "scattergl"
           }
          ],
          "scattermapbox": [
           {
            "marker": {
             "colorbar": {
              "outlinewidth": 0,
              "ticks": ""
             }
            },
            "type": "scattermapbox"
           }
          ],
          "scatterpolar": [
           {
            "marker": {
             "colorbar": {
              "outlinewidth": 0,
              "ticks": ""
             }
            },
            "type": "scatterpolar"
           }
          ],
          "scatterpolargl": [
           {
            "marker": {
             "colorbar": {
              "outlinewidth": 0,
              "ticks": ""
             }
            },
            "type": "scatterpolargl"
           }
          ],
          "scatterternary": [
           {
            "marker": {
             "colorbar": {
              "outlinewidth": 0,
              "ticks": ""
             }
            },
            "type": "scatterternary"
           }
          ],
          "surface": [
           {
            "colorbar": {
             "outlinewidth": 0,
             "ticks": ""
            },
            "colorscale": [
             [
              0,
              "#0d0887"
             ],
             [
              0.1111111111111111,
              "#46039f"
             ],
             [
              0.2222222222222222,
              "#7201a8"
             ],
             [
              0.3333333333333333,
              "#9c179e"
             ],
             [
              0.4444444444444444,
              "#bd3786"
             ],
             [
              0.5555555555555556,
              "#d8576b"
             ],
             [
              0.6666666666666666,
              "#ed7953"
             ],
             [
              0.7777777777777778,
              "#fb9f3a"
             ],
             [
              0.8888888888888888,
              "#fdca26"
             ],
             [
              1,
              "#f0f921"
             ]
            ],
            "type": "surface"
           }
          ],
          "table": [
           {
            "cells": {
             "fill": {
              "color": "#EBF0F8"
             },
             "line": {
              "color": "white"
             }
            },
            "header": {
             "fill": {
              "color": "#C8D4E3"
             },
             "line": {
              "color": "white"
             }
            },
            "type": "table"
           }
          ]
         },
         "layout": {
          "annotationdefaults": {
           "arrowcolor": "#2a3f5f",
           "arrowhead": 0,
           "arrowwidth": 1
          },
          "colorscale": {
           "diverging": [
            [
             0,
             "#8e0152"
            ],
            [
             0.1,
             "#c51b7d"
            ],
            [
             0.2,
             "#de77ae"
            ],
            [
             0.3,
             "#f1b6da"
            ],
            [
             0.4,
             "#fde0ef"
            ],
            [
             0.5,
             "#f7f7f7"
            ],
            [
             0.6,
             "#e6f5d0"
            ],
            [
             0.7,
             "#b8e186"
            ],
            [
             0.8,
             "#7fbc41"
            ],
            [
             0.9,
             "#4d9221"
            ],
            [
             1,
             "#276419"
            ]
           ],
           "sequential": [
            [
             0,
             "#0d0887"
            ],
            [
             0.1111111111111111,
             "#46039f"
            ],
            [
             0.2222222222222222,
             "#7201a8"
            ],
            [
             0.3333333333333333,
             "#9c179e"
            ],
            [
             0.4444444444444444,
             "#bd3786"
            ],
            [
             0.5555555555555556,
             "#d8576b"
            ],
            [
             0.6666666666666666,
             "#ed7953"
            ],
            [
             0.7777777777777778,
             "#fb9f3a"
            ],
            [
             0.8888888888888888,
             "#fdca26"
            ],
            [
             1,
             "#f0f921"
            ]
           ],
           "sequentialminus": [
            [
             0,
             "#0d0887"
            ],
            [
             0.1111111111111111,
             "#46039f"
            ],
            [
             0.2222222222222222,
             "#7201a8"
            ],
            [
             0.3333333333333333,
             "#9c179e"
            ],
            [
             0.4444444444444444,
             "#bd3786"
            ],
            [
             0.5555555555555556,
             "#d8576b"
            ],
            [
             0.6666666666666666,
             "#ed7953"
            ],
            [
             0.7777777777777778,
             "#fb9f3a"
            ],
            [
             0.8888888888888888,
             "#fdca26"
            ],
            [
             1,
             "#f0f921"
            ]
           ]
          },
          "colorway": [
           "#636efa",
           "#EF553B",
           "#00cc96",
           "#ab63fa",
           "#FFA15A",
           "#19d3f3",
           "#FF6692",
           "#B6E880",
           "#FF97FF",
           "#FECB52"
          ],
          "font": {
           "color": "#2a3f5f"
          },
          "geo": {
           "bgcolor": "white",
           "lakecolor": "white",
           "landcolor": "#E5ECF6",
           "showlakes": true,
           "showland": true,
           "subunitcolor": "white"
          },
          "hoverlabel": {
           "align": "left"
          },
          "hovermode": "closest",
          "mapbox": {
           "style": "light"
          },
          "paper_bgcolor": "white",
          "plot_bgcolor": "#E5ECF6",
          "polar": {
           "angularaxis": {
            "gridcolor": "white",
            "linecolor": "white",
            "ticks": ""
           },
           "bgcolor": "#E5ECF6",
           "radialaxis": {
            "gridcolor": "white",
            "linecolor": "white",
            "ticks": ""
           }
          },
          "scene": {
           "xaxis": {
            "backgroundcolor": "#E5ECF6",
            "gridcolor": "white",
            "gridwidth": 2,
            "linecolor": "white",
            "showbackground": true,
            "ticks": "",
            "zerolinecolor": "white"
           },
           "yaxis": {
            "backgroundcolor": "#E5ECF6",
            "gridcolor": "white",
            "gridwidth": 2,
            "linecolor": "white",
            "showbackground": true,
            "ticks": "",
            "zerolinecolor": "white"
           },
           "zaxis": {
            "backgroundcolor": "#E5ECF6",
            "gridcolor": "white",
            "gridwidth": 2,
            "linecolor": "white",
            "showbackground": true,
            "ticks": "",
            "zerolinecolor": "white"
           }
          },
          "shapedefaults": {
           "line": {
            "color": "#2a3f5f"
           }
          },
          "ternary": {
           "aaxis": {
            "gridcolor": "white",
            "linecolor": "white",
            "ticks": ""
           },
           "baxis": {
            "gridcolor": "white",
            "linecolor": "white",
            "ticks": ""
           },
           "bgcolor": "#E5ECF6",
           "caxis": {
            "gridcolor": "white",
            "linecolor": "white",
            "ticks": ""
           }
          },
          "title": {
           "x": 0.05
          },
          "xaxis": {
           "automargin": true,
           "gridcolor": "white",
           "linecolor": "white",
           "ticks": "",
           "zerolinecolor": "white",
           "zerolinewidth": 2
          },
          "yaxis": {
           "automargin": true,
           "gridcolor": "white",
           "linecolor": "white",
           "ticks": "",
           "zerolinecolor": "white",
           "zerolinewidth": 2
          }
         }
        }
       }
      },
      "text/html": [
       "<div>\n",
       "        \n",
       "        \n",
       "            <div id=\"5465b5a2-7328-460b-9376-5c1eee81d380\" class=\"plotly-graph-div\" style=\"height:525px; width:100%;\"></div>\n",
       "            <script type=\"text/javascript\">\n",
       "                require([\"plotly\"], function(Plotly) {\n",
       "                    window.PLOTLYENV=window.PLOTLYENV || {};\n",
       "                    \n",
       "                if (document.getElementById(\"5465b5a2-7328-460b-9376-5c1eee81d380\")) {\n",
       "                    Plotly.newPlot(\n",
       "                        '5465b5a2-7328-460b-9376-5c1eee81d380',\n",
       "                        [{\"marker\": {\"color\": [2.0, 4.0, 2.0, 2.0, 2.0, 2.0, 2.0, 2.0, 2.0, 2.0, 2.0, 2.0, 2.0, 2.0, 2.0, 2.0, 2.0, 2.0, 2.0, 2.0, 2.0, 2.0, 4.0, 4.0, 4.0, 8.0, 8.0, 8.0, 8.0, 8.0, 8.0, 8.0, 8.0, 4.0, 4.0, 4.0, 8.0, 8.0, 8.0, 8.0, 8.0, 8.0, 8.0, 8.0, 4.0, 4.0, 4.0, 8.0, 8.0, 8.0, 8.0, 8.0, 8.0, 8.0, 8.0, 4.0, 4.0, 4.0, 8.0, 8.0, 8.0, 8.0, 8.0, 8.0, 8.0, 8.0, 4.0, 4.0, 4.0, 8.0, 8.0, 8.0, 8.0, 8.0, 8.0, 8.0, 8.0, 4.0, 4.0, 4.0, 8.0, 8.0, 8.0, 8.0, 8.0, 8.0, 8.0, 8.0, 4.0, 4.0, 4.0, 8.0, 8.0, 8.0, 8.0, 8.0, 8.0, 8.0, 8.0, 4.0], \"colorscale\": [[0, \"wheat\"], [0.5, \"darkgreen\"], [1.0, \"lightgreen\"]], \"opacity\": 0.8, \"size\": 3}, \"mode\": \"markers\", \"name\": \"plant\", \"type\": \"scatter3d\", \"x\": [0.0, 0.0, -0.00015409163092513023, -9.885275264640333e-05, -3.40832913172889e-06, -0.0002827707110340007, -0.0014145383135017104, -0.002228375035510349, -0.0029642214831871088, -0.003863974666169516, -0.004948055008224738, -0.006117448003225339, -0.00728853055065277, -0.0078050727907867925, -0.0007719325908836113, -0.0012627428499594182, -0.0018976858326089057, -0.002761116527682943, -0.0034271931764515307, -0.003837093022368111, -0.0043405740030560205, -0.00492499449551022, 0.0, 0.0, 0.0, 0.0020225424859373685, 0.004045084971874737, 0.006067627457812106, 0.008090169943749474, 0.010112712429686843, 0.012135254915624212, 0.01415779740156158, 0.016180339887498948, 0.0, 0.0, 0.0, -0.0020225424859373685, -0.004045084971874737, -0.006067627457812106, -0.008090169943749474, -0.010112712429686843, -0.012135254915624212, -0.01415779740156158, -0.016180339887498948, 0.0, 0.0, 0.0, 0.0020225424859373685, 0.004045084971874737, 0.006067627457812106, 0.008090169943749474, 0.010112712429686843, 0.012135254915624212, 0.01415779740156158, 0.016180339887498948, 0.0, 0.0, 0.0, -0.0020225424859373685, -0.004045084971874737, -0.006067627457812106, -0.008090169943749474, -0.010112712429686843, -0.012135254915624212, -0.01415779740156158, -0.016180339887498948, 0.0, 0.0, 0.0, 0.0020225424859373685, 0.004045084971874737, 0.006067627457812106, 0.008090169943749474, 0.010112712429686843, 0.012135254915624212, 0.01415779740156158, 0.016180339887498948, 0.0, 0.0, 0.0, -0.0020225424859373685, -0.004045084971874737, -0.006067627457812106, -0.008090169943749474, -0.010112712429686843, -0.012135254915624212, -0.01415779740156158, -0.016180339887498948, 0.0, 0.0, 0.0, 0.0020225424859373685, 0.004045084971874737, 0.006067627457812106, 0.008090169943749474, 0.010112712429686843, 0.012135254915624212, 0.01415779740156158, 0.016180339887498948, 0.0], \"y\": [0.0, 0.0, -0.00020798230254683703, -0.0006505964350854864, -0.0008613769096265299, -0.0011177569348927324, 0.0010548327343565878, 0.0033417668513189484, 0.005633062818716236, 0.007807387216426487, 0.009809149286370378, 0.01198974356699692, 0.014171704378550294, 0.015131397657755152, -0.0012872673786595145, -0.0015103906397692726, -0.00197342411277505, -0.002637145418940624, -0.0030877226602305775, -0.003383799993906993, -0.0036000799994700904, -0.0037960559348886843, 0.0, 0.0, 0.0, 2.5038292709450237e-21, 5.0076585418900475e-21, 7.511487812835072e-21, 1.0015317083780095e-20, 1.251914635472512e-20, 1.5022975625670144e-20, 1.752680489661517e-20, 2.0030634167560196e-20, 0.0, 0.0, 0.0, 2.1801729256117905e-17, 4.360345851223581e-17, 6.540518776835371e-17, 8.720691702447162e-17, 1.0900864628058952e-16, 1.3081037553670741e-16, 1.526121047928253e-16, 1.7441383404894319e-16, 0.0, 0.0, 0.0, -1.486390491852732e-17, -2.972780983705464e-17, -4.4591714755581957e-17, -5.945561967410927e-17, -7.431952459263658e-17, -8.91834295111639e-17, -1.040473344296912e-16, -1.1891123934821853e-16, 0.0, 0.0, 0.0, 7.926080580936732e-18, 1.5852161161873464e-17, 2.37782417428102e-17, 3.1704322323746935e-17, 3.963040290468367e-17, 4.75564834856204e-17, 5.5482564066557134e-17, 6.340864464749386e-17, 0.0, 0.0, 0.0, -9.882562433461468e-19, -1.9765124866922935e-18, -2.96476873003844e-18, -3.953024973384586e-18, -4.941281216730732e-18, -5.929537460076879e-18, -6.917793703423025e-18, -7.906049946769171e-18, 0.0, 0.0, 0.0, -5.9495680942444394e-18, -1.1899136188488879e-17, -1.7848704282733317e-17, -2.379827237697776e-17, -2.97478404712222e-17, -3.569740856546665e-17, -4.164697665971109e-17, -4.759654475395553e-17, 0.0, 0.0, 0.0, -1.5854664991144413e-17, -3.1709329982288827e-17, -4.756399497343324e-17, -6.341865996457765e-17, -7.927332495572207e-17, -9.512798994686649e-17, -1.1098265493801091e-16, -1.2683731992915533e-16, 0.0], \"z\": [-0.03, -0.03, -0.03248656371949446, -0.034946450179476625, -0.037435719540870084, -0.03990679743163403, -0.040405752562959106, -0.04100375100324454, -0.04168087196380508, -0.04252512170365401, -0.04355842631861678, -0.04391553779496884, -0.044258484852043575, -0.044407290625471746, -0.04235260749473296, -0.044793779610733324, -0.04716705738875687, -0.04941738213477595, -0.05178451585461451, -0.05423284596487346, -0.05667205277473587, -0.0590948705806669, -0.0275, -0.025, -0.023, -0.021530536869268816, -0.020061073738537633, -0.01859161060780645, -0.017122147477075265, -0.015652684346344082, -0.0141832212156129, -0.012713758084881717, -0.011244294954150533, -0.020499999999999997, -0.018, -0.016, -0.014530536869268815, -0.013061073738537633, -0.011591610607806451, -0.010122147477075268, -0.008652684346344084, -0.007183221215612901, -0.005713758084881717, -0.004244294954150534, -0.013499999999999998, -0.011, -0.009000000000000001, -0.0075305368692688175, -0.006061073738537636, -0.004591610607806453, -0.00312214747707527, -0.0016526843463440866, -0.00018322121561290317, 0.0012862419151182802, 0.0027557050458494638, -0.0065000000000000014, -0.004000000000000001, -0.0019999999999999996, -0.0005305368692688167, 0.0009389262614623662, 0.002408389392193549, 0.003877852522924732, 0.005347315653655915, 0.006816778784387099, 0.008286241915118281, 0.009755705045849465, 0.0005000000000000004, 0.0030000000000000005, 0.005000000000000002, 0.006469463130731185, 0.007938926261462368, 0.00940838939219355, 0.010877852522924733, 0.012347315653655917, 0.0138167787843871, 0.015286241915118284, 0.016755705045849466, 0.007500000000000002, 0.010000000000000002, 0.012000000000000004, 0.013469463130731187, 0.014938926261462369, 0.01640838939219355, 0.017877852522924734, 0.019347315653655918, 0.0208167787843871, 0.022286241915118285, 0.02375570504584947, 0.014500000000000004, 0.017000000000000005, 0.019000000000000006, 0.020469463130731187, 0.02193892626146237, 0.023408389392193554, 0.024877852522924737, 0.02634731565365592, 0.027816778784387104, 0.029286241915118288, 0.03075570504584947, 0.019999999999999997]}],\n",
       "                        {\"scene\": {\"aspectmode\": \"data\", \"domain\": {\"x\": [0.0, 1.0], \"y\": [0.0, 1.0]}}, \"template\": {\"data\": {\"bar\": [{\"error_x\": {\"color\": \"#2a3f5f\"}, \"error_y\": {\"color\": \"#2a3f5f\"}, \"marker\": {\"line\": {\"color\": \"#E5ECF6\", \"width\": 0.5}}, \"type\": \"bar\"}], \"barpolar\": [{\"marker\": {\"line\": {\"color\": \"#E5ECF6\", \"width\": 0.5}}, \"type\": \"barpolar\"}], \"carpet\": [{\"aaxis\": {\"endlinecolor\": \"#2a3f5f\", \"gridcolor\": \"white\", \"linecolor\": \"white\", \"minorgridcolor\": \"white\", \"startlinecolor\": \"#2a3f5f\"}, \"baxis\": {\"endlinecolor\": \"#2a3f5f\", \"gridcolor\": \"white\", \"linecolor\": \"white\", \"minorgridcolor\": \"white\", \"startlinecolor\": \"#2a3f5f\"}, \"type\": \"carpet\"}], \"choropleth\": [{\"colorbar\": {\"outlinewidth\": 0, \"ticks\": \"\"}, \"type\": \"choropleth\"}], \"contour\": [{\"colorbar\": {\"outlinewidth\": 0, \"ticks\": \"\"}, \"colorscale\": [[0.0, \"#0d0887\"], [0.1111111111111111, \"#46039f\"], [0.2222222222222222, \"#7201a8\"], [0.3333333333333333, \"#9c179e\"], [0.4444444444444444, \"#bd3786\"], [0.5555555555555556, \"#d8576b\"], [0.6666666666666666, \"#ed7953\"], [0.7777777777777778, \"#fb9f3a\"], [0.8888888888888888, \"#fdca26\"], [1.0, \"#f0f921\"]], \"type\": \"contour\"}], \"contourcarpet\": [{\"colorbar\": {\"outlinewidth\": 0, \"ticks\": \"\"}, \"type\": \"contourcarpet\"}], \"heatmap\": [{\"colorbar\": {\"outlinewidth\": 0, \"ticks\": \"\"}, \"colorscale\": [[0.0, \"#0d0887\"], [0.1111111111111111, \"#46039f\"], [0.2222222222222222, \"#7201a8\"], [0.3333333333333333, \"#9c179e\"], [0.4444444444444444, \"#bd3786\"], [0.5555555555555556, \"#d8576b\"], [0.6666666666666666, \"#ed7953\"], [0.7777777777777778, \"#fb9f3a\"], [0.8888888888888888, \"#fdca26\"], [1.0, \"#f0f921\"]], \"type\": \"heatmap\"}], \"heatmapgl\": [{\"colorbar\": {\"outlinewidth\": 0, \"ticks\": \"\"}, \"colorscale\": [[0.0, \"#0d0887\"], [0.1111111111111111, \"#46039f\"], [0.2222222222222222, \"#7201a8\"], [0.3333333333333333, \"#9c179e\"], [0.4444444444444444, \"#bd3786\"], [0.5555555555555556, \"#d8576b\"], [0.6666666666666666, \"#ed7953\"], [0.7777777777777778, \"#fb9f3a\"], [0.8888888888888888, \"#fdca26\"], [1.0, \"#f0f921\"]], \"type\": \"heatmapgl\"}], \"histogram\": [{\"marker\": {\"colorbar\": {\"outlinewidth\": 0, \"ticks\": \"\"}}, \"type\": \"histogram\"}], \"histogram2d\": [{\"colorbar\": {\"outlinewidth\": 0, \"ticks\": \"\"}, \"colorscale\": [[0.0, \"#0d0887\"], [0.1111111111111111, \"#46039f\"], [0.2222222222222222, \"#7201a8\"], [0.3333333333333333, \"#9c179e\"], [0.4444444444444444, \"#bd3786\"], [0.5555555555555556, \"#d8576b\"], [0.6666666666666666, \"#ed7953\"], [0.7777777777777778, \"#fb9f3a\"], [0.8888888888888888, \"#fdca26\"], [1.0, \"#f0f921\"]], \"type\": \"histogram2d\"}], \"histogram2dcontour\": [{\"colorbar\": {\"outlinewidth\": 0, \"ticks\": \"\"}, \"colorscale\": [[0.0, \"#0d0887\"], [0.1111111111111111, \"#46039f\"], [0.2222222222222222, \"#7201a8\"], [0.3333333333333333, \"#9c179e\"], [0.4444444444444444, \"#bd3786\"], [0.5555555555555556, \"#d8576b\"], [0.6666666666666666, \"#ed7953\"], [0.7777777777777778, \"#fb9f3a\"], [0.8888888888888888, \"#fdca26\"], [1.0, \"#f0f921\"]], \"type\": \"histogram2dcontour\"}], \"mesh3d\": [{\"colorbar\": {\"outlinewidth\": 0, \"ticks\": \"\"}, \"type\": \"mesh3d\"}], \"parcoords\": [{\"line\": {\"colorbar\": {\"outlinewidth\": 0, \"ticks\": \"\"}}, \"type\": \"parcoords\"}], \"scatter\": [{\"marker\": {\"colorbar\": {\"outlinewidth\": 0, \"ticks\": \"\"}}, \"type\": \"scatter\"}], \"scatter3d\": [{\"line\": {\"colorbar\": {\"outlinewidth\": 0, \"ticks\": \"\"}}, \"marker\": {\"colorbar\": {\"outlinewidth\": 0, \"ticks\": \"\"}}, \"type\": \"scatter3d\"}], \"scattercarpet\": [{\"marker\": {\"colorbar\": {\"outlinewidth\": 0, \"ticks\": \"\"}}, \"type\": \"scattercarpet\"}], \"scattergeo\": [{\"marker\": {\"colorbar\": {\"outlinewidth\": 0, \"ticks\": \"\"}}, \"type\": \"scattergeo\"}], \"scattergl\": [{\"marker\": {\"colorbar\": {\"outlinewidth\": 0, \"ticks\": \"\"}}, \"type\": \"scattergl\"}], \"scattermapbox\": [{\"marker\": {\"colorbar\": {\"outlinewidth\": 0, \"ticks\": \"\"}}, \"type\": \"scattermapbox\"}], \"scatterpolar\": [{\"marker\": {\"colorbar\": {\"outlinewidth\": 0, \"ticks\": \"\"}}, \"type\": \"scatterpolar\"}], \"scatterpolargl\": [{\"marker\": {\"colorbar\": {\"outlinewidth\": 0, \"ticks\": \"\"}}, \"type\": \"scatterpolargl\"}], \"scatterternary\": [{\"marker\": {\"colorbar\": {\"outlinewidth\": 0, \"ticks\": \"\"}}, \"type\": \"scatterternary\"}], \"surface\": [{\"colorbar\": {\"outlinewidth\": 0, \"ticks\": \"\"}, \"colorscale\": [[0.0, \"#0d0887\"], [0.1111111111111111, \"#46039f\"], [0.2222222222222222, \"#7201a8\"], [0.3333333333333333, \"#9c179e\"], [0.4444444444444444, \"#bd3786\"], [0.5555555555555556, \"#d8576b\"], [0.6666666666666666, \"#ed7953\"], [0.7777777777777778, \"#fb9f3a\"], [0.8888888888888888, \"#fdca26\"], [1.0, \"#f0f921\"]], \"type\": \"surface\"}], \"table\": [{\"cells\": {\"fill\": {\"color\": \"#EBF0F8\"}, \"line\": {\"color\": \"white\"}}, \"header\": {\"fill\": {\"color\": \"#C8D4E3\"}, \"line\": {\"color\": \"white\"}}, \"type\": \"table\"}]}, \"layout\": {\"annotationdefaults\": {\"arrowcolor\": \"#2a3f5f\", \"arrowhead\": 0, \"arrowwidth\": 1}, \"colorscale\": {\"diverging\": [[0, \"#8e0152\"], [0.1, \"#c51b7d\"], [0.2, \"#de77ae\"], [0.3, \"#f1b6da\"], [0.4, \"#fde0ef\"], [0.5, \"#f7f7f7\"], [0.6, \"#e6f5d0\"], [0.7, \"#b8e186\"], [0.8, \"#7fbc41\"], [0.9, \"#4d9221\"], [1, \"#276419\"]], \"sequential\": [[0.0, \"#0d0887\"], [0.1111111111111111, \"#46039f\"], [0.2222222222222222, \"#7201a8\"], [0.3333333333333333, \"#9c179e\"], [0.4444444444444444, \"#bd3786\"], [0.5555555555555556, \"#d8576b\"], [0.6666666666666666, \"#ed7953\"], [0.7777777777777778, \"#fb9f3a\"], [0.8888888888888888, \"#fdca26\"], [1.0, \"#f0f921\"]], \"sequentialminus\": [[0.0, \"#0d0887\"], [0.1111111111111111, \"#46039f\"], [0.2222222222222222, \"#7201a8\"], [0.3333333333333333, \"#9c179e\"], [0.4444444444444444, \"#bd3786\"], [0.5555555555555556, \"#d8576b\"], [0.6666666666666666, \"#ed7953\"], [0.7777777777777778, \"#fb9f3a\"], [0.8888888888888888, \"#fdca26\"], [1.0, \"#f0f921\"]]}, \"colorway\": [\"#636efa\", \"#EF553B\", \"#00cc96\", \"#ab63fa\", \"#FFA15A\", \"#19d3f3\", \"#FF6692\", \"#B6E880\", \"#FF97FF\", \"#FECB52\"], \"font\": {\"color\": \"#2a3f5f\"}, \"geo\": {\"bgcolor\": \"white\", \"lakecolor\": \"white\", \"landcolor\": \"#E5ECF6\", \"showlakes\": true, \"showland\": true, \"subunitcolor\": \"white\"}, \"hoverlabel\": {\"align\": \"left\"}, \"hovermode\": \"closest\", \"mapbox\": {\"style\": \"light\"}, \"paper_bgcolor\": \"white\", \"plot_bgcolor\": \"#E5ECF6\", \"polar\": {\"angularaxis\": {\"gridcolor\": \"white\", \"linecolor\": \"white\", \"ticks\": \"\"}, \"bgcolor\": \"#E5ECF6\", \"radialaxis\": {\"gridcolor\": \"white\", \"linecolor\": \"white\", \"ticks\": \"\"}}, \"scene\": {\"xaxis\": {\"backgroundcolor\": \"#E5ECF6\", \"gridcolor\": \"white\", \"gridwidth\": 2, \"linecolor\": \"white\", \"showbackground\": true, \"ticks\": \"\", \"zerolinecolor\": \"white\"}, \"yaxis\": {\"backgroundcolor\": \"#E5ECF6\", \"gridcolor\": \"white\", \"gridwidth\": 2, \"linecolor\": \"white\", \"showbackground\": true, \"ticks\": \"\", \"zerolinecolor\": \"white\"}, \"zaxis\": {\"backgroundcolor\": \"#E5ECF6\", \"gridcolor\": \"white\", \"gridwidth\": 2, \"linecolor\": \"white\", \"showbackground\": true, \"ticks\": \"\", \"zerolinecolor\": \"white\"}}, \"shapedefaults\": {\"line\": {\"color\": \"#2a3f5f\"}}, \"ternary\": {\"aaxis\": {\"gridcolor\": \"white\", \"linecolor\": \"white\", \"ticks\": \"\"}, \"baxis\": {\"gridcolor\": \"white\", \"linecolor\": \"white\", \"ticks\": \"\"}, \"bgcolor\": \"#E5ECF6\", \"caxis\": {\"gridcolor\": \"white\", \"linecolor\": \"white\", \"ticks\": \"\"}}, \"title\": {\"x\": 0.05}, \"xaxis\": {\"automargin\": true, \"gridcolor\": \"white\", \"linecolor\": \"white\", \"ticks\": \"\", \"zerolinecolor\": \"white\", \"zerolinewidth\": 2}, \"yaxis\": {\"automargin\": true, \"gridcolor\": \"white\", \"linecolor\": \"white\", \"ticks\": \"\", \"zerolinecolor\": \"white\", \"zerolinewidth\": 2}}}},\n",
       "                        {\"responsive\": true}\n",
       "                    ).then(function(){\n",
       "                            \n",
       "var gd = document.getElementById('5465b5a2-7328-460b-9376-5c1eee81d380');\n",
       "var x = new MutationObserver(function (mutations, observer) {{\n",
       "        var display = window.getComputedStyle(gd).display;\n",
       "        if (!display || display === 'none') {{\n",
       "            console.log([gd, 'removed!']);\n",
       "            Plotly.purge(gd);\n",
       "            observer.disconnect();\n",
       "        }}\n",
       "}});\n",
       "\n",
       "// Listen for the removal of the full notebook cells\n",
       "var notebookContainer = gd.closest('#notebook-container');\n",
       "if (notebookContainer) {{\n",
       "    x.observe(notebookContainer, {childList: true});\n",
       "}}\n",
       "\n",
       "// Listen for the clearing of the current output cell\n",
       "var outputEl = gd.closest('.output');\n",
       "if (outputEl) {{\n",
       "    x.observe(outputEl, {childList: true});\n",
       "}}\n",
       "\n",
       "                        })\n",
       "                };\n",
       "                });\n",
       "            </script>\n",
       "        </div>"
      ]
     },
     "metadata": {},
     "output_type": "display_data"
    }
   ],
   "source": [
    "def change_parameter(input_name, output_name, organ_name, subtype , parameter_name, value_type, value):   \n",
    "    all_parameter = ET.parse(\"../../modelparameter/{}.xml\".format(input_name)) # read the parameter file from xml file\n",
    "    plant_parameter = all_parameter.getroot() # get the first level of parameters\n",
    "    original_lmax = plant_parameter.find(\"./organ[@type='{}'][@subType='{}']/parameter[@name='{}']\".format(organ_name, subtype, parameter_name)).get('{}'.format(value_type)) # get function to read the value\n",
    "    # The '10' in the following line is the value that need to be changed change the value\n",
    "    plant_parameter.find(\"./organ[@type='{}'][@subType='{}']/parameter[@name='{}']\".format(organ_name, subtype, parameter_name)).set('{}'.format(value_type),'{}'.format(value)) # set function to read the value\n",
    "    current_lmax = plant_parameter.find(\"./organ[@type='{}'][@subType='{}']/parameter[@name='{}']\".format(organ_name, subtype, parameter_name)).get('{}'.format(value_type)) # get function to read the value\n",
    "    print('original {} of {} organ with subtype {} is {}, changed to {}'.format(parameter_name, organ_name, subtype ,original_lmax, current_lmax))\n",
    "    all_parameter.write('../../modelparameter/{}.xml'.format(output_name))\n",
    "change_parameter('PMA2018', 'testXML', 'stem', '1', 'lmax', 'value','10')\n",
    "name = 'testXML'\n",
    "smallplant = CPlantBox(name, time, name) # make a plant object in python\n",
    "fig = visual_plant(smallplant)    \n",
    "fig.show()\n",
    "# Try to change the \"10\" to 5\n",
    "change_parameter('PMA2018', 'testXML', 'stem', '1', 'lmax', 'value','5')\n",
    "smallplant = CPlantBox(name, time, name) # make a plant object in python\n",
    "fig = visual_plant(smallplant)    \n",
    "fig.show()"
   ]
  },
  {
   "cell_type": "markdown",
   "metadata": {},
   "source": [
    "### 5.2 lb, ln and la: the parameters controls branching\n",
    "In the previous section, you may notice that, with the increase of the lmax, the length of the main stem increased. But with the increase length of the stem, we also get more leaves. Is it possible to reduce the leaf numbers? There are two ways, first, we could change the lb, lb is the length at bottom without any branching."
   ]
  },
  {
   "cell_type": "code",
   "execution_count": 9,
   "metadata": {},
   "outputs": [
    {
     "name": "stdout",
     "output_type": "stream",
     "text": [
      "original lb of stem organ with subtype 1 is 0.7, changed to 3\n"
     ]
    },
    {
     "data": {
      "application/vnd.plotly.v1+json": {
       "config": {
        "plotlyServerURL": "https://plot.ly"
       },
       "data": [
        {
         "marker": {
          "color": [
           2,
           4,
           2,
           2,
           2,
           2,
           2,
           2,
           2,
           2,
           2,
           2,
           2,
           2,
           2,
           2,
           2,
           2,
           2,
           2,
           2,
           2,
           4,
           4,
           4,
           4,
           4,
           4,
           4,
           4,
           4,
           4,
           4,
           4,
           8,
           8,
           8,
           8,
           8,
           8,
           8,
           8,
           4,
           4,
           4,
           8,
           8,
           8,
           8,
           8,
           8,
           8,
           8,
           4,
           4,
           4,
           8,
           8,
           8,
           8,
           8,
           8,
           8,
           8,
           4,
           4,
           4
          ],
          "colorscale": [
           [
            0,
            "wheat"
           ],
           [
            0.5,
            "darkgreen"
           ],
           [
            1,
            "lightgreen"
           ]
          ],
          "opacity": 0.8,
          "size": 3
         },
         "mode": "markers",
         "name": "plant",
         "type": "scatter3d",
         "x": [
          0,
          0,
          3.362754462368247e-05,
          -4.2136889359787805e-05,
          -0.0005276127508839296,
          -0.0009501968953163507,
          -0.00280004845583726,
          -0.00464443399056308,
          -0.00662563669607087,
          -0.008340446678609427,
          -0.009990953830350511,
          -0.011596267125572603,
          -0.013194098273280788,
          -0.013912284109582597,
          -0.0015757909142133798,
          -0.002204096572139842,
          -0.00269530420434757,
          -0.003159805044564493,
          -0.003636107487336314,
          -0.004112863113115806,
          -0.004331277005357851,
          -0.0044556628345773465,
          0,
          0,
          0,
          0,
          0,
          0,
          0,
          0,
          0,
          0,
          0,
          0,
          -0.0020225424859373685,
          -0.004045084971874737,
          -0.006067627457812106,
          -0.008090169943749474,
          -0.010112712429686843,
          -0.012135254915624212,
          -0.01415779740156158,
          -0.016180339887498948,
          0,
          0,
          0,
          0.0020225424859373685,
          0.004045084971874737,
          0.006067627457812106,
          0.008090169943749474,
          0.010112712429686843,
          0.012135254915624212,
          0.01415779740156158,
          0.016180339887498948,
          0,
          0,
          0,
          -0.0020225424859373685,
          -0.004045084971874737,
          -0.006067627457812106,
          -0.008090169943749474,
          -0.010112712429686843,
          -0.012135254915624212,
          -0.01415779740156158,
          -0.016180339887498948,
          0,
          0,
          0
         ],
         "y": [
          0,
          0,
          4.2651086322846246e-05,
          0.00010368651735512242,
          2.9907202129052052e-05,
          1.4203158751940327e-05,
          0.0016215573352403865,
          0.003231142684822942,
          0.0046871043482149,
          0.006486162929191137,
          0.008162752836703466,
          0.009976989297977964,
          0.011792159008023922,
          0.012591839568145323,
          -0.00026947216682517687,
          -0.00056889209062038,
          -0.00036187049486420016,
          -0.0003320302791602709,
          -0.00033809962040119414,
          -0.0002768638666603602,
          0.00011595733550074601,
          0.0008892993778464122,
          0,
          0,
          0,
          0,
          0,
          0,
          0,
          0,
          0,
          0,
          0,
          0,
          8.916840653553824e-18,
          1.7833681307107648e-17,
          2.6750521960661474e-17,
          3.56673626142153e-17,
          4.4584203267769134e-17,
          5.3501043921322966e-17,
          6.241788457487679e-17,
          7.133472522843063e-17,
          0,
          0,
          0,
          -1.9790163159632383e-18,
          -3.9580326319264766e-18,
          -5.937048947889715e-18,
          -7.916065263852953e-18,
          -9.89508157981619e-18,
          -1.1874097895779427e-17,
          -1.3853114211742665e-17,
          -1.5832130527705903e-17,
          0,
          0,
          0,
          2.378324940135209e-17,
          4.756649880270418e-17,
          7.134974820405626e-17,
          9.513299760540834e-17,
          1.1891624700676043e-16,
          1.426994964081125e-16,
          1.664827458094646e-16,
          1.9026599521081666e-16,
          0,
          0,
          0
         ],
         "z": [
          -0.03,
          -0.03,
          -0.03249940994498263,
          -0.034997516113003085,
          -0.03744881572759984,
          -0.03991279138167922,
          -0.040407222120371206,
          -0.040914644037224786,
          -0.04136742596533316,
          -0.04163726841196059,
          -0.042482769697636334,
          -0.043100438934983776,
          -0.04373454818988015,
          -0.043966944460420966,
          -0.04231657182780548,
          -0.04471773398589728,
          -0.047160244399580595,
          -0.04961653195012603,
          -0.05207073225696868,
          -0.05452408797022173,
          -0.05698335348553487,
          -0.05935747864041403,
          -0.0275,
          -0.025,
          -0.0225,
          -0.02,
          -0.0175,
          -0.015,
          -0.0125,
          -0.01,
          -0.0075,
          -0.005,
          -0.0025,
          0,
          0.0014694631307311829,
          0.0029389262614623658,
          0.004408389392193549,
          0.0058778525229247315,
          0.007347315653655915,
          0.008816778784387098,
          0.010286241915118281,
          0.011755705045849465,
          0.0025,
          0.005,
          0.007000000000000002,
          0.008469463130731185,
          0.009938926261462368,
          0.01140838939219355,
          0.012877852522924733,
          0.014347315653655917,
          0.0158167787843871,
          0.017286241915118284,
          0.018755705045849468,
          0.009500000000000001,
          0.012000000000000002,
          0.014000000000000004,
          0.015469463130731187,
          0.01693892626146237,
          0.018408389392193553,
          0.019877852522924736,
          0.02134731565365592,
          0.022816778784387103,
          0.024286241915118287,
          0.02575570504584947,
          0.016500000000000004,
          0.019000000000000003,
          0.02
         ]
        }
       ],
       "layout": {
        "autosize": true,
        "scene": {
         "aspectmode": "data",
         "aspectratio": {
          "x": 0.9778062314429578,
          "y": 0.39766301313089636,
          "z": 2.5717692571673725
         },
         "domain": {
          "x": [
           0,
           1
          ],
          "y": [
           0,
           1
          ]
         }
        },
        "template": {
         "data": {
          "bar": [
           {
            "error_x": {
             "color": "#2a3f5f"
            },
            "error_y": {
             "color": "#2a3f5f"
            },
            "marker": {
             "line": {
              "color": "#E5ECF6",
              "width": 0.5
             }
            },
            "type": "bar"
           }
          ],
          "barpolar": [
           {
            "marker": {
             "line": {
              "color": "#E5ECF6",
              "width": 0.5
             }
            },
            "type": "barpolar"
           }
          ],
          "carpet": [
           {
            "aaxis": {
             "endlinecolor": "#2a3f5f",
             "gridcolor": "white",
             "linecolor": "white",
             "minorgridcolor": "white",
             "startlinecolor": "#2a3f5f"
            },
            "baxis": {
             "endlinecolor": "#2a3f5f",
             "gridcolor": "white",
             "linecolor": "white",
             "minorgridcolor": "white",
             "startlinecolor": "#2a3f5f"
            },
            "type": "carpet"
           }
          ],
          "choropleth": [
           {
            "colorbar": {
             "outlinewidth": 0,
             "ticks": ""
            },
            "type": "choropleth"
           }
          ],
          "contour": [
           {
            "colorbar": {
             "outlinewidth": 0,
             "ticks": ""
            },
            "colorscale": [
             [
              0,
              "#0d0887"
             ],
             [
              0.1111111111111111,
              "#46039f"
             ],
             [
              0.2222222222222222,
              "#7201a8"
             ],
             [
              0.3333333333333333,
              "#9c179e"
             ],
             [
              0.4444444444444444,
              "#bd3786"
             ],
             [
              0.5555555555555556,
              "#d8576b"
             ],
             [
              0.6666666666666666,
              "#ed7953"
             ],
             [
              0.7777777777777778,
              "#fb9f3a"
             ],
             [
              0.8888888888888888,
              "#fdca26"
             ],
             [
              1,
              "#f0f921"
             ]
            ],
            "type": "contour"
           }
          ],
          "contourcarpet": [
           {
            "colorbar": {
             "outlinewidth": 0,
             "ticks": ""
            },
            "type": "contourcarpet"
           }
          ],
          "heatmap": [
           {
            "colorbar": {
             "outlinewidth": 0,
             "ticks": ""
            },
            "colorscale": [
             [
              0,
              "#0d0887"
             ],
             [
              0.1111111111111111,
              "#46039f"
             ],
             [
              0.2222222222222222,
              "#7201a8"
             ],
             [
              0.3333333333333333,
              "#9c179e"
             ],
             [
              0.4444444444444444,
              "#bd3786"
             ],
             [
              0.5555555555555556,
              "#d8576b"
             ],
             [
              0.6666666666666666,
              "#ed7953"
             ],
             [
              0.7777777777777778,
              "#fb9f3a"
             ],
             [
              0.8888888888888888,
              "#fdca26"
             ],
             [
              1,
              "#f0f921"
             ]
            ],
            "type": "heatmap"
           }
          ],
          "heatmapgl": [
           {
            "colorbar": {
             "outlinewidth": 0,
             "ticks": ""
            },
            "colorscale": [
             [
              0,
              "#0d0887"
             ],
             [
              0.1111111111111111,
              "#46039f"
             ],
             [
              0.2222222222222222,
              "#7201a8"
             ],
             [
              0.3333333333333333,
              "#9c179e"
             ],
             [
              0.4444444444444444,
              "#bd3786"
             ],
             [
              0.5555555555555556,
              "#d8576b"
             ],
             [
              0.6666666666666666,
              "#ed7953"
             ],
             [
              0.7777777777777778,
              "#fb9f3a"
             ],
             [
              0.8888888888888888,
              "#fdca26"
             ],
             [
              1,
              "#f0f921"
             ]
            ],
            "type": "heatmapgl"
           }
          ],
          "histogram": [
           {
            "marker": {
             "colorbar": {
              "outlinewidth": 0,
              "ticks": ""
             }
            },
            "type": "histogram"
           }
          ],
          "histogram2d": [
           {
            "colorbar": {
             "outlinewidth": 0,
             "ticks": ""
            },
            "colorscale": [
             [
              0,
              "#0d0887"
             ],
             [
              0.1111111111111111,
              "#46039f"
             ],
             [
              0.2222222222222222,
              "#7201a8"
             ],
             [
              0.3333333333333333,
              "#9c179e"
             ],
             [
              0.4444444444444444,
              "#bd3786"
             ],
             [
              0.5555555555555556,
              "#d8576b"
             ],
             [
              0.6666666666666666,
              "#ed7953"
             ],
             [
              0.7777777777777778,
              "#fb9f3a"
             ],
             [
              0.8888888888888888,
              "#fdca26"
             ],
             [
              1,
              "#f0f921"
             ]
            ],
            "type": "histogram2d"
           }
          ],
          "histogram2dcontour": [
           {
            "colorbar": {
             "outlinewidth": 0,
             "ticks": ""
            },
            "colorscale": [
             [
              0,
              "#0d0887"
             ],
             [
              0.1111111111111111,
              "#46039f"
             ],
             [
              0.2222222222222222,
              "#7201a8"
             ],
             [
              0.3333333333333333,
              "#9c179e"
             ],
             [
              0.4444444444444444,
              "#bd3786"
             ],
             [
              0.5555555555555556,
              "#d8576b"
             ],
             [
              0.6666666666666666,
              "#ed7953"
             ],
             [
              0.7777777777777778,
              "#fb9f3a"
             ],
             [
              0.8888888888888888,
              "#fdca26"
             ],
             [
              1,
              "#f0f921"
             ]
            ],
            "type": "histogram2dcontour"
           }
          ],
          "mesh3d": [
           {
            "colorbar": {
             "outlinewidth": 0,
             "ticks": ""
            },
            "type": "mesh3d"
           }
          ],
          "parcoords": [
           {
            "line": {
             "colorbar": {
              "outlinewidth": 0,
              "ticks": ""
             }
            },
            "type": "parcoords"
           }
          ],
          "scatter": [
           {
            "marker": {
             "colorbar": {
              "outlinewidth": 0,
              "ticks": ""
             }
            },
            "type": "scatter"
           }
          ],
          "scatter3d": [
           {
            "line": {
             "colorbar": {
              "outlinewidth": 0,
              "ticks": ""
             }
            },
            "marker": {
             "colorbar": {
              "outlinewidth": 0,
              "ticks": ""
             }
            },
            "type": "scatter3d"
           }
          ],
          "scattercarpet": [
           {
            "marker": {
             "colorbar": {
              "outlinewidth": 0,
              "ticks": ""
             }
            },
            "type": "scattercarpet"
           }
          ],
          "scattergeo": [
           {
            "marker": {
             "colorbar": {
              "outlinewidth": 0,
              "ticks": ""
             }
            },
            "type": "scattergeo"
           }
          ],
          "scattergl": [
           {
            "marker": {
             "colorbar": {
              "outlinewidth": 0,
              "ticks": ""
             }
            },
            "type": "scattergl"
           }
          ],
          "scattermapbox": [
           {
            "marker": {
             "colorbar": {
              "outlinewidth": 0,
              "ticks": ""
             }
            },
            "type": "scattermapbox"
           }
          ],
          "scatterpolar": [
           {
            "marker": {
             "colorbar": {
              "outlinewidth": 0,
              "ticks": ""
             }
            },
            "type": "scatterpolar"
           }
          ],
          "scatterpolargl": [
           {
            "marker": {
             "colorbar": {
              "outlinewidth": 0,
              "ticks": ""
             }
            },
            "type": "scatterpolargl"
           }
          ],
          "scatterternary": [
           {
            "marker": {
             "colorbar": {
              "outlinewidth": 0,
              "ticks": ""
             }
            },
            "type": "scatterternary"
           }
          ],
          "surface": [
           {
            "colorbar": {
             "outlinewidth": 0,
             "ticks": ""
            },
            "colorscale": [
             [
              0,
              "#0d0887"
             ],
             [
              0.1111111111111111,
              "#46039f"
             ],
             [
              0.2222222222222222,
              "#7201a8"
             ],
             [
              0.3333333333333333,
              "#9c179e"
             ],
             [
              0.4444444444444444,
              "#bd3786"
             ],
             [
              0.5555555555555556,
              "#d8576b"
             ],
             [
              0.6666666666666666,
              "#ed7953"
             ],
             [
              0.7777777777777778,
              "#fb9f3a"
             ],
             [
              0.8888888888888888,
              "#fdca26"
             ],
             [
              1,
              "#f0f921"
             ]
            ],
            "type": "surface"
           }
          ],
          "table": [
           {
            "cells": {
             "fill": {
              "color": "#EBF0F8"
             },
             "line": {
              "color": "white"
             }
            },
            "header": {
             "fill": {
              "color": "#C8D4E3"
             },
             "line": {
              "color": "white"
             }
            },
            "type": "table"
           }
          ]
         },
         "layout": {
          "annotationdefaults": {
           "arrowcolor": "#2a3f5f",
           "arrowhead": 0,
           "arrowwidth": 1
          },
          "colorscale": {
           "diverging": [
            [
             0,
             "#8e0152"
            ],
            [
             0.1,
             "#c51b7d"
            ],
            [
             0.2,
             "#de77ae"
            ],
            [
             0.3,
             "#f1b6da"
            ],
            [
             0.4,
             "#fde0ef"
            ],
            [
             0.5,
             "#f7f7f7"
            ],
            [
             0.6,
             "#e6f5d0"
            ],
            [
             0.7,
             "#b8e186"
            ],
            [
             0.8,
             "#7fbc41"
            ],
            [
             0.9,
             "#4d9221"
            ],
            [
             1,
             "#276419"
            ]
           ],
           "sequential": [
            [
             0,
             "#0d0887"
            ],
            [
             0.1111111111111111,
             "#46039f"
            ],
            [
             0.2222222222222222,
             "#7201a8"
            ],
            [
             0.3333333333333333,
             "#9c179e"
            ],
            [
             0.4444444444444444,
             "#bd3786"
            ],
            [
             0.5555555555555556,
             "#d8576b"
            ],
            [
             0.6666666666666666,
             "#ed7953"
            ],
            [
             0.7777777777777778,
             "#fb9f3a"
            ],
            [
             0.8888888888888888,
             "#fdca26"
            ],
            [
             1,
             "#f0f921"
            ]
           ],
           "sequentialminus": [
            [
             0,
             "#0d0887"
            ],
            [
             0.1111111111111111,
             "#46039f"
            ],
            [
             0.2222222222222222,
             "#7201a8"
            ],
            [
             0.3333333333333333,
             "#9c179e"
            ],
            [
             0.4444444444444444,
             "#bd3786"
            ],
            [
             0.5555555555555556,
             "#d8576b"
            ],
            [
             0.6666666666666666,
             "#ed7953"
            ],
            [
             0.7777777777777778,
             "#fb9f3a"
            ],
            [
             0.8888888888888888,
             "#fdca26"
            ],
            [
             1,
             "#f0f921"
            ]
           ]
          },
          "colorway": [
           "#636efa",
           "#EF553B",
           "#00cc96",
           "#ab63fa",
           "#FFA15A",
           "#19d3f3",
           "#FF6692",
           "#B6E880",
           "#FF97FF",
           "#FECB52"
          ],
          "font": {
           "color": "#2a3f5f"
          },
          "geo": {
           "bgcolor": "white",
           "lakecolor": "white",
           "landcolor": "#E5ECF6",
           "showlakes": true,
           "showland": true,
           "subunitcolor": "white"
          },
          "hoverlabel": {
           "align": "left"
          },
          "hovermode": "closest",
          "mapbox": {
           "style": "light"
          },
          "paper_bgcolor": "white",
          "plot_bgcolor": "#E5ECF6",
          "polar": {
           "angularaxis": {
            "gridcolor": "white",
            "linecolor": "white",
            "ticks": ""
           },
           "bgcolor": "#E5ECF6",
           "radialaxis": {
            "gridcolor": "white",
            "linecolor": "white",
            "ticks": ""
           }
          },
          "scene": {
           "xaxis": {
            "backgroundcolor": "#E5ECF6",
            "gridcolor": "white",
            "gridwidth": 2,
            "linecolor": "white",
            "showbackground": true,
            "ticks": "",
            "zerolinecolor": "white"
           },
           "yaxis": {
            "backgroundcolor": "#E5ECF6",
            "gridcolor": "white",
            "gridwidth": 2,
            "linecolor": "white",
            "showbackground": true,
            "ticks": "",
            "zerolinecolor": "white"
           },
           "zaxis": {
            "backgroundcolor": "#E5ECF6",
            "gridcolor": "white",
            "gridwidth": 2,
            "linecolor": "white",
            "showbackground": true,
            "ticks": "",
            "zerolinecolor": "white"
           }
          },
          "shapedefaults": {
           "line": {
            "color": "#2a3f5f"
           }
          },
          "ternary": {
           "aaxis": {
            "gridcolor": "white",
            "linecolor": "white",
            "ticks": ""
           },
           "baxis": {
            "gridcolor": "white",
            "linecolor": "white",
            "ticks": ""
           },
           "bgcolor": "#E5ECF6",
           "caxis": {
            "gridcolor": "white",
            "linecolor": "white",
            "ticks": ""
           }
          },
          "title": {
           "x": 0.05
          },
          "xaxis": {
           "automargin": true,
           "gridcolor": "white",
           "linecolor": "white",
           "ticks": "",
           "zerolinecolor": "white",
           "zerolinewidth": 2
          },
          "yaxis": {
           "automargin": true,
           "gridcolor": "white",
           "linecolor": "white",
           "ticks": "",
           "zerolinecolor": "white",
           "zerolinewidth": 2
          }
         }
        }
       }
      },
      "text/html": [
       "<div>\n",
       "        \n",
       "        \n",
       "            <div id=\"3542da4d-5fa6-43f0-8772-060ee119cdcb\" class=\"plotly-graph-div\" style=\"height:525px; width:100%;\"></div>\n",
       "            <script type=\"text/javascript\">\n",
       "                require([\"plotly\"], function(Plotly) {\n",
       "                    window.PLOTLYENV=window.PLOTLYENV || {};\n",
       "                    \n",
       "                if (document.getElementById(\"3542da4d-5fa6-43f0-8772-060ee119cdcb\")) {\n",
       "                    Plotly.newPlot(\n",
       "                        '3542da4d-5fa6-43f0-8772-060ee119cdcb',\n",
       "                        [{\"marker\": {\"color\": [2.0, 4.0, 2.0, 2.0, 2.0, 2.0, 2.0, 2.0, 2.0, 2.0, 2.0, 2.0, 2.0, 2.0, 2.0, 2.0, 2.0, 2.0, 2.0, 2.0, 2.0, 2.0, 4.0, 4.0, 4.0, 4.0, 4.0, 4.0, 4.0, 4.0, 4.0, 4.0, 4.0, 4.0, 8.0, 8.0, 8.0, 8.0, 8.0, 8.0, 8.0, 8.0, 4.0, 4.0, 4.0, 8.0, 8.0, 8.0, 8.0, 8.0, 8.0, 8.0, 8.0, 4.0, 4.0, 4.0, 8.0, 8.0, 8.0, 8.0, 8.0, 8.0, 8.0, 8.0, 4.0, 4.0, 4.0], \"colorscale\": [[0, \"wheat\"], [0.5, \"darkgreen\"], [1.0, \"lightgreen\"]], \"opacity\": 0.8, \"size\": 3}, \"mode\": \"markers\", \"name\": \"plant\", \"type\": \"scatter3d\", \"x\": [0.0, 0.0, 3.362754462368247e-05, -4.2136889359787805e-05, -0.0005276127508839296, -0.0009501968953163507, -0.00280004845583726, -0.00464443399056308, -0.00662563669607087, -0.008340446678609427, -0.009990953830350511, -0.011596267125572603, -0.013194098273280788, -0.013912284109582597, -0.0015757909142133798, -0.002204096572139842, -0.00269530420434757, -0.003159805044564493, -0.003636107487336314, -0.004112863113115806, -0.004331277005357851, -0.0044556628345773465, 0.0, 0.0, 0.0, 0.0, 0.0, 0.0, 0.0, 0.0, 0.0, 0.0, 0.0, 0.0, -0.0020225424859373685, -0.004045084971874737, -0.006067627457812106, -0.008090169943749474, -0.010112712429686843, -0.012135254915624212, -0.01415779740156158, -0.016180339887498948, 0.0, 0.0, 0.0, 0.0020225424859373685, 0.004045084971874737, 0.006067627457812106, 0.008090169943749474, 0.010112712429686843, 0.012135254915624212, 0.01415779740156158, 0.016180339887498948, 0.0, 0.0, 0.0, -0.0020225424859373685, -0.004045084971874737, -0.006067627457812106, -0.008090169943749474, -0.010112712429686843, -0.012135254915624212, -0.01415779740156158, -0.016180339887498948, 0.0, 0.0, 0.0], \"y\": [0.0, 0.0, 4.2651086322846246e-05, 0.00010368651735512242, 2.9907202129052052e-05, 1.4203158751940327e-05, 0.0016215573352403865, 0.003231142684822942, 0.0046871043482149, 0.006486162929191137, 0.008162752836703466, 0.009976989297977964, 0.011792159008023922, 0.012591839568145323, -0.00026947216682517687, -0.00056889209062038, -0.00036187049486420016, -0.0003320302791602709, -0.00033809962040119414, -0.0002768638666603602, 0.00011595733550074601, 0.0008892993778464122, 0.0, 0.0, 0.0, 0.0, 0.0, 0.0, 0.0, 0.0, 0.0, 0.0, 0.0, 0.0, 8.916840653553824e-18, 1.7833681307107648e-17, 2.6750521960661474e-17, 3.56673626142153e-17, 4.4584203267769134e-17, 5.3501043921322966e-17, 6.241788457487679e-17, 7.133472522843063e-17, 0.0, 0.0, 0.0, -1.9790163159632383e-18, -3.9580326319264766e-18, -5.937048947889715e-18, -7.916065263852953e-18, -9.89508157981619e-18, -1.1874097895779427e-17, -1.3853114211742665e-17, -1.5832130527705903e-17, 0.0, 0.0, 0.0, 2.378324940135209e-17, 4.756649880270418e-17, 7.134974820405626e-17, 9.513299760540834e-17, 1.1891624700676043e-16, 1.426994964081125e-16, 1.664827458094646e-16, 1.9026599521081666e-16, 0.0, 0.0, 0.0], \"z\": [-0.03, -0.03, -0.03249940994498263, -0.034997516113003085, -0.03744881572759984, -0.03991279138167922, -0.040407222120371206, -0.040914644037224786, -0.04136742596533316, -0.04163726841196059, -0.042482769697636334, -0.043100438934983776, -0.04373454818988015, -0.043966944460420966, -0.04231657182780548, -0.04471773398589728, -0.047160244399580595, -0.04961653195012603, -0.05207073225696868, -0.05452408797022173, -0.05698335348553487, -0.05935747864041403, -0.0275, -0.025, -0.0225, -0.02, -0.0175, -0.015, -0.0125, -0.01, -0.0075, -0.005, -0.0025, 0.0, 0.0014694631307311829, 0.0029389262614623658, 0.004408389392193549, 0.0058778525229247315, 0.007347315653655915, 0.008816778784387098, 0.010286241915118281, 0.011755705045849465, 0.0025, 0.005, 0.007000000000000002, 0.008469463130731185, 0.009938926261462368, 0.01140838939219355, 0.012877852522924733, 0.014347315653655917, 0.0158167787843871, 0.017286241915118284, 0.018755705045849468, 0.009500000000000001, 0.012000000000000002, 0.014000000000000004, 0.015469463130731187, 0.01693892626146237, 0.018408389392193553, 0.019877852522924736, 0.02134731565365592, 0.022816778784387103, 0.024286241915118287, 0.02575570504584947, 0.016500000000000004, 0.019000000000000003, 0.02]}],\n",
       "                        {\"scene\": {\"aspectmode\": \"data\", \"domain\": {\"x\": [0.0, 1.0], \"y\": [0.0, 1.0]}}, \"template\": {\"data\": {\"bar\": [{\"error_x\": {\"color\": \"#2a3f5f\"}, \"error_y\": {\"color\": \"#2a3f5f\"}, \"marker\": {\"line\": {\"color\": \"#E5ECF6\", \"width\": 0.5}}, \"type\": \"bar\"}], \"barpolar\": [{\"marker\": {\"line\": {\"color\": \"#E5ECF6\", \"width\": 0.5}}, \"type\": \"barpolar\"}], \"carpet\": [{\"aaxis\": {\"endlinecolor\": \"#2a3f5f\", \"gridcolor\": \"white\", \"linecolor\": \"white\", \"minorgridcolor\": \"white\", \"startlinecolor\": \"#2a3f5f\"}, \"baxis\": {\"endlinecolor\": \"#2a3f5f\", \"gridcolor\": \"white\", \"linecolor\": \"white\", \"minorgridcolor\": \"white\", \"startlinecolor\": \"#2a3f5f\"}, \"type\": \"carpet\"}], \"choropleth\": [{\"colorbar\": {\"outlinewidth\": 0, \"ticks\": \"\"}, \"type\": \"choropleth\"}], \"contour\": [{\"colorbar\": {\"outlinewidth\": 0, \"ticks\": \"\"}, \"colorscale\": [[0.0, \"#0d0887\"], [0.1111111111111111, \"#46039f\"], [0.2222222222222222, \"#7201a8\"], [0.3333333333333333, \"#9c179e\"], [0.4444444444444444, \"#bd3786\"], [0.5555555555555556, \"#d8576b\"], [0.6666666666666666, \"#ed7953\"], [0.7777777777777778, \"#fb9f3a\"], [0.8888888888888888, \"#fdca26\"], [1.0, \"#f0f921\"]], \"type\": \"contour\"}], \"contourcarpet\": [{\"colorbar\": {\"outlinewidth\": 0, \"ticks\": \"\"}, \"type\": \"contourcarpet\"}], \"heatmap\": [{\"colorbar\": {\"outlinewidth\": 0, \"ticks\": \"\"}, \"colorscale\": [[0.0, \"#0d0887\"], [0.1111111111111111, \"#46039f\"], [0.2222222222222222, \"#7201a8\"], [0.3333333333333333, \"#9c179e\"], [0.4444444444444444, \"#bd3786\"], [0.5555555555555556, \"#d8576b\"], [0.6666666666666666, \"#ed7953\"], [0.7777777777777778, \"#fb9f3a\"], [0.8888888888888888, \"#fdca26\"], [1.0, \"#f0f921\"]], \"type\": \"heatmap\"}], \"heatmapgl\": [{\"colorbar\": {\"outlinewidth\": 0, \"ticks\": \"\"}, \"colorscale\": [[0.0, \"#0d0887\"], [0.1111111111111111, \"#46039f\"], [0.2222222222222222, \"#7201a8\"], [0.3333333333333333, \"#9c179e\"], [0.4444444444444444, \"#bd3786\"], [0.5555555555555556, \"#d8576b\"], [0.6666666666666666, \"#ed7953\"], [0.7777777777777778, \"#fb9f3a\"], [0.8888888888888888, \"#fdca26\"], [1.0, \"#f0f921\"]], \"type\": \"heatmapgl\"}], \"histogram\": [{\"marker\": {\"colorbar\": {\"outlinewidth\": 0, \"ticks\": \"\"}}, \"type\": \"histogram\"}], \"histogram2d\": [{\"colorbar\": {\"outlinewidth\": 0, \"ticks\": \"\"}, \"colorscale\": [[0.0, \"#0d0887\"], [0.1111111111111111, \"#46039f\"], [0.2222222222222222, \"#7201a8\"], [0.3333333333333333, \"#9c179e\"], [0.4444444444444444, \"#bd3786\"], [0.5555555555555556, \"#d8576b\"], [0.6666666666666666, \"#ed7953\"], [0.7777777777777778, \"#fb9f3a\"], [0.8888888888888888, \"#fdca26\"], [1.0, \"#f0f921\"]], \"type\": \"histogram2d\"}], \"histogram2dcontour\": [{\"colorbar\": {\"outlinewidth\": 0, \"ticks\": \"\"}, \"colorscale\": [[0.0, \"#0d0887\"], [0.1111111111111111, \"#46039f\"], [0.2222222222222222, \"#7201a8\"], [0.3333333333333333, \"#9c179e\"], [0.4444444444444444, \"#bd3786\"], [0.5555555555555556, \"#d8576b\"], [0.6666666666666666, \"#ed7953\"], [0.7777777777777778, \"#fb9f3a\"], [0.8888888888888888, \"#fdca26\"], [1.0, \"#f0f921\"]], \"type\": \"histogram2dcontour\"}], \"mesh3d\": [{\"colorbar\": {\"outlinewidth\": 0, \"ticks\": \"\"}, \"type\": \"mesh3d\"}], \"parcoords\": [{\"line\": {\"colorbar\": {\"outlinewidth\": 0, \"ticks\": \"\"}}, \"type\": \"parcoords\"}], \"scatter\": [{\"marker\": {\"colorbar\": {\"outlinewidth\": 0, \"ticks\": \"\"}}, \"type\": \"scatter\"}], \"scatter3d\": [{\"line\": {\"colorbar\": {\"outlinewidth\": 0, \"ticks\": \"\"}}, \"marker\": {\"colorbar\": {\"outlinewidth\": 0, \"ticks\": \"\"}}, \"type\": \"scatter3d\"}], \"scattercarpet\": [{\"marker\": {\"colorbar\": {\"outlinewidth\": 0, \"ticks\": \"\"}}, \"type\": \"scattercarpet\"}], \"scattergeo\": [{\"marker\": {\"colorbar\": {\"outlinewidth\": 0, \"ticks\": \"\"}}, \"type\": \"scattergeo\"}], \"scattergl\": [{\"marker\": {\"colorbar\": {\"outlinewidth\": 0, \"ticks\": \"\"}}, \"type\": \"scattergl\"}], \"scattermapbox\": [{\"marker\": {\"colorbar\": {\"outlinewidth\": 0, \"ticks\": \"\"}}, \"type\": \"scattermapbox\"}], \"scatterpolar\": [{\"marker\": {\"colorbar\": {\"outlinewidth\": 0, \"ticks\": \"\"}}, \"type\": \"scatterpolar\"}], \"scatterpolargl\": [{\"marker\": {\"colorbar\": {\"outlinewidth\": 0, \"ticks\": \"\"}}, \"type\": \"scatterpolargl\"}], \"scatterternary\": [{\"marker\": {\"colorbar\": {\"outlinewidth\": 0, \"ticks\": \"\"}}, \"type\": \"scatterternary\"}], \"surface\": [{\"colorbar\": {\"outlinewidth\": 0, \"ticks\": \"\"}, \"colorscale\": [[0.0, \"#0d0887\"], [0.1111111111111111, \"#46039f\"], [0.2222222222222222, \"#7201a8\"], [0.3333333333333333, \"#9c179e\"], [0.4444444444444444, \"#bd3786\"], [0.5555555555555556, \"#d8576b\"], [0.6666666666666666, \"#ed7953\"], [0.7777777777777778, \"#fb9f3a\"], [0.8888888888888888, \"#fdca26\"], [1.0, \"#f0f921\"]], \"type\": \"surface\"}], \"table\": [{\"cells\": {\"fill\": {\"color\": \"#EBF0F8\"}, \"line\": {\"color\": \"white\"}}, \"header\": {\"fill\": {\"color\": \"#C8D4E3\"}, \"line\": {\"color\": \"white\"}}, \"type\": \"table\"}]}, \"layout\": {\"annotationdefaults\": {\"arrowcolor\": \"#2a3f5f\", \"arrowhead\": 0, \"arrowwidth\": 1}, \"colorscale\": {\"diverging\": [[0, \"#8e0152\"], [0.1, \"#c51b7d\"], [0.2, \"#de77ae\"], [0.3, \"#f1b6da\"], [0.4, \"#fde0ef\"], [0.5, \"#f7f7f7\"], [0.6, \"#e6f5d0\"], [0.7, \"#b8e186\"], [0.8, \"#7fbc41\"], [0.9, \"#4d9221\"], [1, \"#276419\"]], \"sequential\": [[0.0, \"#0d0887\"], [0.1111111111111111, \"#46039f\"], [0.2222222222222222, \"#7201a8\"], [0.3333333333333333, \"#9c179e\"], [0.4444444444444444, \"#bd3786\"], [0.5555555555555556, \"#d8576b\"], [0.6666666666666666, \"#ed7953\"], [0.7777777777777778, \"#fb9f3a\"], [0.8888888888888888, \"#fdca26\"], [1.0, \"#f0f921\"]], \"sequentialminus\": [[0.0, \"#0d0887\"], [0.1111111111111111, \"#46039f\"], [0.2222222222222222, \"#7201a8\"], [0.3333333333333333, \"#9c179e\"], [0.4444444444444444, \"#bd3786\"], [0.5555555555555556, \"#d8576b\"], [0.6666666666666666, \"#ed7953\"], [0.7777777777777778, \"#fb9f3a\"], [0.8888888888888888, \"#fdca26\"], [1.0, \"#f0f921\"]]}, \"colorway\": [\"#636efa\", \"#EF553B\", \"#00cc96\", \"#ab63fa\", \"#FFA15A\", \"#19d3f3\", \"#FF6692\", \"#B6E880\", \"#FF97FF\", \"#FECB52\"], \"font\": {\"color\": \"#2a3f5f\"}, \"geo\": {\"bgcolor\": \"white\", \"lakecolor\": \"white\", \"landcolor\": \"#E5ECF6\", \"showlakes\": true, \"showland\": true, \"subunitcolor\": \"white\"}, \"hoverlabel\": {\"align\": \"left\"}, \"hovermode\": \"closest\", \"mapbox\": {\"style\": \"light\"}, \"paper_bgcolor\": \"white\", \"plot_bgcolor\": \"#E5ECF6\", \"polar\": {\"angularaxis\": {\"gridcolor\": \"white\", \"linecolor\": \"white\", \"ticks\": \"\"}, \"bgcolor\": \"#E5ECF6\", \"radialaxis\": {\"gridcolor\": \"white\", \"linecolor\": \"white\", \"ticks\": \"\"}}, \"scene\": {\"xaxis\": {\"backgroundcolor\": \"#E5ECF6\", \"gridcolor\": \"white\", \"gridwidth\": 2, \"linecolor\": \"white\", \"showbackground\": true, \"ticks\": \"\", \"zerolinecolor\": \"white\"}, \"yaxis\": {\"backgroundcolor\": \"#E5ECF6\", \"gridcolor\": \"white\", \"gridwidth\": 2, \"linecolor\": \"white\", \"showbackground\": true, \"ticks\": \"\", \"zerolinecolor\": \"white\"}, \"zaxis\": {\"backgroundcolor\": \"#E5ECF6\", \"gridcolor\": \"white\", \"gridwidth\": 2, \"linecolor\": \"white\", \"showbackground\": true, \"ticks\": \"\", \"zerolinecolor\": \"white\"}}, \"shapedefaults\": {\"line\": {\"color\": \"#2a3f5f\"}}, \"ternary\": {\"aaxis\": {\"gridcolor\": \"white\", \"linecolor\": \"white\", \"ticks\": \"\"}, \"baxis\": {\"gridcolor\": \"white\", \"linecolor\": \"white\", \"ticks\": \"\"}, \"bgcolor\": \"#E5ECF6\", \"caxis\": {\"gridcolor\": \"white\", \"linecolor\": \"white\", \"ticks\": \"\"}}, \"title\": {\"x\": 0.05}, \"xaxis\": {\"automargin\": true, \"gridcolor\": \"white\", \"linecolor\": \"white\", \"ticks\": \"\", \"zerolinecolor\": \"white\", \"zerolinewidth\": 2}, \"yaxis\": {\"automargin\": true, \"gridcolor\": \"white\", \"linecolor\": \"white\", \"ticks\": \"\", \"zerolinecolor\": \"white\", \"zerolinewidth\": 2}}}},\n",
       "                        {\"responsive\": true}\n",
       "                    ).then(function(){\n",
       "                            \n",
       "var gd = document.getElementById('3542da4d-5fa6-43f0-8772-060ee119cdcb');\n",
       "var x = new MutationObserver(function (mutations, observer) {{\n",
       "        var display = window.getComputedStyle(gd).display;\n",
       "        if (!display || display === 'none') {{\n",
       "            console.log([gd, 'removed!']);\n",
       "            Plotly.purge(gd);\n",
       "            observer.disconnect();\n",
       "        }}\n",
       "}});\n",
       "\n",
       "// Listen for the removal of the full notebook cells\n",
       "var notebookContainer = gd.closest('#notebook-container');\n",
       "if (notebookContainer) {{\n",
       "    x.observe(notebookContainer, {childList: true});\n",
       "}}\n",
       "\n",
       "// Listen for the clearing of the current output cell\n",
       "var outputEl = gd.closest('.output');\n",
       "if (outputEl) {{\n",
       "    x.observe(outputEl, {childList: true});\n",
       "}}\n",
       "\n",
       "                        })\n",
       "                };\n",
       "                });\n",
       "            </script>\n",
       "        </div>"
      ]
     },
     "metadata": {},
     "output_type": "display_data"
    }
   ],
   "source": [
    "# change lb to 3 based on the testXML created in last section\n",
    "name = 'testXML'\n",
    "change_parameter('testXML', 'testXML', 'stem', '1', 'lb', 'value','3')\n",
    "smallplant = CPlantBox(name, time, name) # make a plant object in python\n",
    "fig = visual_plant(smallplant)    \n",
    "fig.show()\n",
    "# now there is 3 branches again"
   ]
  },
  {
   "cell_type": "markdown",
   "metadata": {},
   "source": [
    "### 5.2.2 Let's change the ln to see what will happen?\n",
    "ln is the internode distance"
   ]
  },
  {
   "cell_type": "code",
   "execution_count": 55,
   "metadata": {},
   "outputs": [
    {
     "name": "stdout",
     "output_type": "stream",
     "text": [
      "original lmax is 0.5, changed to 0.3\n"
     ]
    },
    {
     "data": {
      "application/vnd.plotly.v1+json": {
       "config": {
        "plotlyServerURL": "https://plot.ly"
       },
       "data": [
        {
         "marker": {
          "color": [
           2,
           4,
           2,
           2,
           2,
           2,
           2,
           2,
           2,
           2,
           2,
           2,
           2,
           2,
           2,
           4,
           4,
           4,
           4,
           4,
           4,
           4,
           4,
           4,
           4,
           4,
           4,
           8,
           8,
           8,
           8,
           8,
           8,
           8,
           8,
           4,
           4,
           8,
           8,
           8,
           8,
           8,
           8,
           8,
           8,
           4,
           4,
           8,
           8,
           8,
           8,
           8,
           8,
           8,
           8,
           4,
           4,
           8,
           8,
           8,
           8,
           8,
           8,
           8,
           8,
           4,
           4,
           8,
           8,
           8,
           8,
           8,
           8,
           8,
           8,
           4,
           4,
           8,
           8,
           8,
           8,
           8,
           8,
           8,
           8,
           4,
           4,
           8,
           8,
           8,
           8,
           8,
           8,
           8,
           8,
           4
          ],
          "colorscale": [
           [
            0,
            "wheat"
           ],
           [
            0.5,
            "darkgreen"
           ],
           [
            1,
            "lightgreen"
           ]
          ],
          "opacity": 0.8,
          "size": 3
         },
         "mode": "markers",
         "type": "scatter3d",
         "x": [
          0,
          0,
          8.15011624180435e-05,
          0.0002005403138231415,
          -6.229389577585246e-05,
          -0.00030082676703733314,
          -0.0002189509891218644,
          -0.00038797272816378826,
          -0.00043015446690260596,
          -0.0004765147853034217,
          -0.0005383984435603018,
          -0.000500412285204644,
          -0.000740230815972188,
          -0.0006616791766783464,
          -0.0009453377175617873,
          0,
          0,
          0,
          0,
          0,
          0,
          0,
          0,
          0,
          0,
          0,
          0,
          -0.0020225424859373685,
          -0.004045084971874737,
          -0.006067627457812106,
          -0.008090169943749474,
          -0.010112712429686843,
          -0.012135254915624212,
          -0.01415779740156158,
          -0.015643789100317572,
          0,
          0,
          0.0020225424859373685,
          0.004045084971874737,
          0.006067627457812106,
          0.008090169943749474,
          0.010112712429686843,
          0.012135254915624212,
          0.01415779740156158,
          0.01561007223292106,
          0,
          0,
          -0.0020225424859373685,
          -0.004045084971874737,
          -0.006067627457812106,
          -0.008090169943749474,
          -0.010112712429686843,
          -0.012135254915624212,
          -0.01415779740156158,
          -0.015567003019189934,
          0,
          0,
          0.0020225424859373685,
          0.004045084971874737,
          0.006067627457812106,
          0.008090169943749474,
          0.010112712429686843,
          0.012135254915624212,
          0.01415779740156158,
          0.015508949950214991,
          0,
          0,
          -0.0020225424859373685,
          -0.004045084971874737,
          -0.006067627457812106,
          -0.008090169943749474,
          -0.010112712429686843,
          -0.012135254915624212,
          -0.01415779740156158,
          -0.01542378866109725,
          0,
          0,
          0.0020225424859373685,
          0.004045084971874737,
          0.006067627457812106,
          0.008090169943749474,
          0.010112712429686843,
          0.012135254915624212,
          0.01415779740156158,
          0.015277972620414193,
          0,
          0,
          -0.0020225424859373685,
          -0.004045084971874737,
          -0.006067627457812106,
          -0.008090169943749474,
          -0.010112712429686843,
          -0.012135254915624212,
          -0.01415779740156158,
          -0.014907977459024975,
          0
         ],
         "y": [
          0,
          0,
          3.45824534245644e-05,
          6.478236300089043e-05,
          -0.00012773148373673701,
          -0.00046511023855085965,
          -0.00041497415286754054,
          -0.0007866549262349948,
          -0.0012206532505701657,
          -0.0012057686189084395,
          -0.0011543843438358492,
          -0.0013236742602458656,
          -0.0014578125455967919,
          -0.0014991576875617498,
          -0.0016178966253696666,
          0,
          0,
          0,
          0,
          0,
          0,
          0,
          0,
          0,
          0,
          0,
          0,
          1.4269949640811252e-16,
          2.8539899281622505e-16,
          4.280984892243376e-16,
          5.707979856324501e-16,
          7.134974820405627e-16,
          8.561969784486752e-16,
          9.988964748567878e-16,
          1.1037398927594969e-15,
          0,
          0,
          -1.6450372949350138e-16,
          -3.2900745898700277e-16,
          -4.935111884805041e-16,
          -6.580149179740054e-16,
          -8.225186474675068e-16,
          -9.87022376961008e-16,
          -1.1515261064545093e-15,
          -1.2696470496086193e-15,
          0,
          0,
          -4.362849680494526e-17,
          -8.725699360989052e-17,
          -1.3088549041483579e-16,
          -1.7451398721978107e-16,
          -2.1814248402472636e-16,
          -2.6177098082967167e-16,
          -3.05399477634617e-16,
          -3.357976142441999e-16,
          0,
          0,
          2.182426371955641e-17,
          4.364852743911282e-17,
          6.547279115866923e-17,
          8.729705487822563e-17,
          1.0912131859778202e-16,
          1.3094558231733844e-16,
          1.5276984603689482e-16,
          1.6734947032275812e-16,
          0,
          0,
          -2.003063416756019e-20,
          -4.006126833512038e-20,
          -6.009190250268058e-20,
          -8.012253667024076e-20,
          -1.0015317083780096e-19,
          -1.2018380500536115e-19,
          -1.4021443917292136e-19,
          -1.5275242438480434e-19,
          0,
          0,
          -2.178420245122129e-17,
          -4.356840490244258e-17,
          -6.535260735366386e-17,
          -8.713680980488514e-17,
          -1.0892101225610642e-16,
          -1.307052147073277e-16,
          -1.5248941715854897e-16,
          -1.6455449065786637e-16,
          0,
          0,
          4.358843553661014e-17,
          8.717687107322028e-17,
          1.3076530660983043e-16,
          1.743537421464406e-16,
          2.1794217768305076e-16,
          2.615306132196609e-16,
          3.051190487562711e-16,
          3.2128641003691134e-16,
          0
         ],
         "z": [
          -0.03,
          -0.03,
          -0.03249843183105716,
          -0.034995413538217696,
          -0.03747409395268801,
          -0.03993971307273227,
          -0.039995894935777286,
          -0.04241741656493659,
          -0.044879096104476865,
          -0.04737862189322522,
          -0.04987732757199494,
          -0.052371299900625556,
          -0.05485615281230939,
          -0.057354576359108476,
          -0.059806777607551515,
          -0.0275,
          -0.025,
          -0.0225,
          -0.02,
          -0.0175,
          -0.015,
          -0.0125,
          -0.01,
          -0.0075,
          -0.005,
          -0.0025,
          0,
          0.0014694631307311829,
          0.0029389262614623658,
          0.004408389392193549,
          0.0058778525229247315,
          0.007347315653655915,
          0.008816778784387098,
          0.010286241915118281,
          0.01136587808052744,
          0.0025,
          0.0029999999999999983,
          0.004469463130731181,
          0.005938926261462364,
          0.007408389392193546,
          0.00887785252292473,
          0.010347315653655913,
          0.011816778784387097,
          0.01328624191511828,
          0.014341381342452757,
          0.005499999999999998,
          0.005999999999999997,
          0.00746946313073118,
          0.008938926261462362,
          0.010408389392193544,
          0.011877852522924727,
          0.013347315653655911,
          0.014816778784387094,
          0.01628624191511828,
          0.01731008972702934,
          0.008499999999999997,
          0.008999999999999994,
          0.010469463130731178,
          0.011938926261462361,
          0.013408389392193543,
          0.014877852522924727,
          0.01634731565365591,
          0.017816778784387092,
          0.019286241915118275,
          0.02026791170353781,
          0.011499999999999995,
          0.011999999999999993,
          0.013469463130731177,
          0.01493892626146236,
          0.01640838939219354,
          0.017877852522924724,
          0.019347315653655908,
          0.020816778784387095,
          0.022286241915118278,
          0.023206038405254016,
          0.014499999999999992,
          0.01499999999999999,
          0.016469463130731176,
          0.01793892626146236,
          0.01940838939219354,
          0.020877852522924723,
          0.022347315653655907,
          0.02381677878438709,
          0.025286241915118274,
          0.02610009685043241,
          0.01749999999999999,
          0.017999999999999988,
          0.019469463130731172,
          0.020938926261462355,
          0.02240838939219354,
          0.023877852522924722,
          0.025347315653655906,
          0.02681677878438709,
          0.028286241915118273,
          0.02883127963052693,
          0.019997730003511877
         ]
        }
       ],
       "layout": {
        "autosize": true,
        "scene": {
         "aspectmode": "data",
         "aspectratio": {
          "x": 1.870949019663643,
          "y": 0.10073016483094112,
          "z": 5.30613752093742
         },
         "camera": {
          "center": {
           "x": 0,
           "y": 0,
           "z": 0
          },
          "eye": {
           "x": -1.7875635742177605,
           "y": 97.04215018599702,
           "z": 24.07541700047032
          },
          "projection": {
           "type": "perspective"
          },
          "up": {
           "x": 0,
           "y": 0,
           "z": 1
          }
         }
        },
        "template": {
         "data": {
          "bar": [
           {
            "error_x": {
             "color": "#2a3f5f"
            },
            "error_y": {
             "color": "#2a3f5f"
            },
            "marker": {
             "line": {
              "color": "#E5ECF6",
              "width": 0.5
             }
            },
            "type": "bar"
           }
          ],
          "barpolar": [
           {
            "marker": {
             "line": {
              "color": "#E5ECF6",
              "width": 0.5
             }
            },
            "type": "barpolar"
           }
          ],
          "carpet": [
           {
            "aaxis": {
             "endlinecolor": "#2a3f5f",
             "gridcolor": "white",
             "linecolor": "white",
             "minorgridcolor": "white",
             "startlinecolor": "#2a3f5f"
            },
            "baxis": {
             "endlinecolor": "#2a3f5f",
             "gridcolor": "white",
             "linecolor": "white",
             "minorgridcolor": "white",
             "startlinecolor": "#2a3f5f"
            },
            "type": "carpet"
           }
          ],
          "choropleth": [
           {
            "colorbar": {
             "outlinewidth": 0,
             "ticks": ""
            },
            "type": "choropleth"
           }
          ],
          "contour": [
           {
            "colorbar": {
             "outlinewidth": 0,
             "ticks": ""
            },
            "colorscale": [
             [
              0,
              "#0d0887"
             ],
             [
              0.1111111111111111,
              "#46039f"
             ],
             [
              0.2222222222222222,
              "#7201a8"
             ],
             [
              0.3333333333333333,
              "#9c179e"
             ],
             [
              0.4444444444444444,
              "#bd3786"
             ],
             [
              0.5555555555555556,
              "#d8576b"
             ],
             [
              0.6666666666666666,
              "#ed7953"
             ],
             [
              0.7777777777777778,
              "#fb9f3a"
             ],
             [
              0.8888888888888888,
              "#fdca26"
             ],
             [
              1,
              "#f0f921"
             ]
            ],
            "type": "contour"
           }
          ],
          "contourcarpet": [
           {
            "colorbar": {
             "outlinewidth": 0,
             "ticks": ""
            },
            "type": "contourcarpet"
           }
          ],
          "heatmap": [
           {
            "colorbar": {
             "outlinewidth": 0,
             "ticks": ""
            },
            "colorscale": [
             [
              0,
              "#0d0887"
             ],
             [
              0.1111111111111111,
              "#46039f"
             ],
             [
              0.2222222222222222,
              "#7201a8"
             ],
             [
              0.3333333333333333,
              "#9c179e"
             ],
             [
              0.4444444444444444,
              "#bd3786"
             ],
             [
              0.5555555555555556,
              "#d8576b"
             ],
             [
              0.6666666666666666,
              "#ed7953"
             ],
             [
              0.7777777777777778,
              "#fb9f3a"
             ],
             [
              0.8888888888888888,
              "#fdca26"
             ],
             [
              1,
              "#f0f921"
             ]
            ],
            "type": "heatmap"
           }
          ],
          "heatmapgl": [
           {
            "colorbar": {
             "outlinewidth": 0,
             "ticks": ""
            },
            "colorscale": [
             [
              0,
              "#0d0887"
             ],
             [
              0.1111111111111111,
              "#46039f"
             ],
             [
              0.2222222222222222,
              "#7201a8"
             ],
             [
              0.3333333333333333,
              "#9c179e"
             ],
             [
              0.4444444444444444,
              "#bd3786"
             ],
             [
              0.5555555555555556,
              "#d8576b"
             ],
             [
              0.6666666666666666,
              "#ed7953"
             ],
             [
              0.7777777777777778,
              "#fb9f3a"
             ],
             [
              0.8888888888888888,
              "#fdca26"
             ],
             [
              1,
              "#f0f921"
             ]
            ],
            "type": "heatmapgl"
           }
          ],
          "histogram": [
           {
            "marker": {
             "colorbar": {
              "outlinewidth": 0,
              "ticks": ""
             }
            },
            "type": "histogram"
           }
          ],
          "histogram2d": [
           {
            "colorbar": {
             "outlinewidth": 0,
             "ticks": ""
            },
            "colorscale": [
             [
              0,
              "#0d0887"
             ],
             [
              0.1111111111111111,
              "#46039f"
             ],
             [
              0.2222222222222222,
              "#7201a8"
             ],
             [
              0.3333333333333333,
              "#9c179e"
             ],
             [
              0.4444444444444444,
              "#bd3786"
             ],
             [
              0.5555555555555556,
              "#d8576b"
             ],
             [
              0.6666666666666666,
              "#ed7953"
             ],
             [
              0.7777777777777778,
              "#fb9f3a"
             ],
             [
              0.8888888888888888,
              "#fdca26"
             ],
             [
              1,
              "#f0f921"
             ]
            ],
            "type": "histogram2d"
           }
          ],
          "histogram2dcontour": [
           {
            "colorbar": {
             "outlinewidth": 0,
             "ticks": ""
            },
            "colorscale": [
             [
              0,
              "#0d0887"
             ],
             [
              0.1111111111111111,
              "#46039f"
             ],
             [
              0.2222222222222222,
              "#7201a8"
             ],
             [
              0.3333333333333333,
              "#9c179e"
             ],
             [
              0.4444444444444444,
              "#bd3786"
             ],
             [
              0.5555555555555556,
              "#d8576b"
             ],
             [
              0.6666666666666666,
              "#ed7953"
             ],
             [
              0.7777777777777778,
              "#fb9f3a"
             ],
             [
              0.8888888888888888,
              "#fdca26"
             ],
             [
              1,
              "#f0f921"
             ]
            ],
            "type": "histogram2dcontour"
           }
          ],
          "mesh3d": [
           {
            "colorbar": {
             "outlinewidth": 0,
             "ticks": ""
            },
            "type": "mesh3d"
           }
          ],
          "parcoords": [
           {
            "line": {
             "colorbar": {
              "outlinewidth": 0,
              "ticks": ""
             }
            },
            "type": "parcoords"
           }
          ],
          "scatter": [
           {
            "marker": {
             "colorbar": {
              "outlinewidth": 0,
              "ticks": ""
             }
            },
            "type": "scatter"
           }
          ],
          "scatter3d": [
           {
            "line": {
             "colorbar": {
              "outlinewidth": 0,
              "ticks": ""
             }
            },
            "marker": {
             "colorbar": {
              "outlinewidth": 0,
              "ticks": ""
             }
            },
            "type": "scatter3d"
           }
          ],
          "scattercarpet": [
           {
            "marker": {
             "colorbar": {
              "outlinewidth": 0,
              "ticks": ""
             }
            },
            "type": "scattercarpet"
           }
          ],
          "scattergeo": [
           {
            "marker": {
             "colorbar": {
              "outlinewidth": 0,
              "ticks": ""
             }
            },
            "type": "scattergeo"
           }
          ],
          "scattergl": [
           {
            "marker": {
             "colorbar": {
              "outlinewidth": 0,
              "ticks": ""
             }
            },
            "type": "scattergl"
           }
          ],
          "scattermapbox": [
           {
            "marker": {
             "colorbar": {
              "outlinewidth": 0,
              "ticks": ""
             }
            },
            "type": "scattermapbox"
           }
          ],
          "scatterpolar": [
           {
            "marker": {
             "colorbar": {
              "outlinewidth": 0,
              "ticks": ""
             }
            },
            "type": "scatterpolar"
           }
          ],
          "scatterpolargl": [
           {
            "marker": {
             "colorbar": {
              "outlinewidth": 0,
              "ticks": ""
             }
            },
            "type": "scatterpolargl"
           }
          ],
          "scatterternary": [
           {
            "marker": {
             "colorbar": {
              "outlinewidth": 0,
              "ticks": ""
             }
            },
            "type": "scatterternary"
           }
          ],
          "surface": [
           {
            "colorbar": {
             "outlinewidth": 0,
             "ticks": ""
            },
            "colorscale": [
             [
              0,
              "#0d0887"
             ],
             [
              0.1111111111111111,
              "#46039f"
             ],
             [
              0.2222222222222222,
              "#7201a8"
             ],
             [
              0.3333333333333333,
              "#9c179e"
             ],
             [
              0.4444444444444444,
              "#bd3786"
             ],
             [
              0.5555555555555556,
              "#d8576b"
             ],
             [
              0.6666666666666666,
              "#ed7953"
             ],
             [
              0.7777777777777778,
              "#fb9f3a"
             ],
             [
              0.8888888888888888,
              "#fdca26"
             ],
             [
              1,
              "#f0f921"
             ]
            ],
            "type": "surface"
           }
          ],
          "table": [
           {
            "cells": {
             "fill": {
              "color": "#EBF0F8"
             },
             "line": {
              "color": "white"
             }
            },
            "header": {
             "fill": {
              "color": "#C8D4E3"
             },
             "line": {
              "color": "white"
             }
            },
            "type": "table"
           }
          ]
         },
         "layout": {
          "annotationdefaults": {
           "arrowcolor": "#2a3f5f",
           "arrowhead": 0,
           "arrowwidth": 1
          },
          "colorscale": {
           "diverging": [
            [
             0,
             "#8e0152"
            ],
            [
             0.1,
             "#c51b7d"
            ],
            [
             0.2,
             "#de77ae"
            ],
            [
             0.3,
             "#f1b6da"
            ],
            [
             0.4,
             "#fde0ef"
            ],
            [
             0.5,
             "#f7f7f7"
            ],
            [
             0.6,
             "#e6f5d0"
            ],
            [
             0.7,
             "#b8e186"
            ],
            [
             0.8,
             "#7fbc41"
            ],
            [
             0.9,
             "#4d9221"
            ],
            [
             1,
             "#276419"
            ]
           ],
           "sequential": [
            [
             0,
             "#0d0887"
            ],
            [
             0.1111111111111111,
             "#46039f"
            ],
            [
             0.2222222222222222,
             "#7201a8"
            ],
            [
             0.3333333333333333,
             "#9c179e"
            ],
            [
             0.4444444444444444,
             "#bd3786"
            ],
            [
             0.5555555555555556,
             "#d8576b"
            ],
            [
             0.6666666666666666,
             "#ed7953"
            ],
            [
             0.7777777777777778,
             "#fb9f3a"
            ],
            [
             0.8888888888888888,
             "#fdca26"
            ],
            [
             1,
             "#f0f921"
            ]
           ],
           "sequentialminus": [
            [
             0,
             "#0d0887"
            ],
            [
             0.1111111111111111,
             "#46039f"
            ],
            [
             0.2222222222222222,
             "#7201a8"
            ],
            [
             0.3333333333333333,
             "#9c179e"
            ],
            [
             0.4444444444444444,
             "#bd3786"
            ],
            [
             0.5555555555555556,
             "#d8576b"
            ],
            [
             0.6666666666666666,
             "#ed7953"
            ],
            [
             0.7777777777777778,
             "#fb9f3a"
            ],
            [
             0.8888888888888888,
             "#fdca26"
            ],
            [
             1,
             "#f0f921"
            ]
           ]
          },
          "colorway": [
           "#636efa",
           "#EF553B",
           "#00cc96",
           "#ab63fa",
           "#FFA15A",
           "#19d3f3",
           "#FF6692",
           "#B6E880",
           "#FF97FF",
           "#FECB52"
          ],
          "font": {
           "color": "#2a3f5f"
          },
          "geo": {
           "bgcolor": "white",
           "lakecolor": "white",
           "landcolor": "#E5ECF6",
           "showlakes": true,
           "showland": true,
           "subunitcolor": "white"
          },
          "hoverlabel": {
           "align": "left"
          },
          "hovermode": "closest",
          "mapbox": {
           "style": "light"
          },
          "paper_bgcolor": "white",
          "plot_bgcolor": "#E5ECF6",
          "polar": {
           "angularaxis": {
            "gridcolor": "white",
            "linecolor": "white",
            "ticks": ""
           },
           "bgcolor": "#E5ECF6",
           "radialaxis": {
            "gridcolor": "white",
            "linecolor": "white",
            "ticks": ""
           }
          },
          "scene": {
           "xaxis": {
            "backgroundcolor": "#E5ECF6",
            "gridcolor": "white",
            "gridwidth": 2,
            "linecolor": "white",
            "showbackground": true,
            "ticks": "",
            "zerolinecolor": "white"
           },
           "yaxis": {
            "backgroundcolor": "#E5ECF6",
            "gridcolor": "white",
            "gridwidth": 2,
            "linecolor": "white",
            "showbackground": true,
            "ticks": "",
            "zerolinecolor": "white"
           },
           "zaxis": {
            "backgroundcolor": "#E5ECF6",
            "gridcolor": "white",
            "gridwidth": 2,
            "linecolor": "white",
            "showbackground": true,
            "ticks": "",
            "zerolinecolor": "white"
           }
          },
          "shapedefaults": {
           "line": {
            "color": "#2a3f5f"
           }
          },
          "ternary": {
           "aaxis": {
            "gridcolor": "white",
            "linecolor": "white",
            "ticks": ""
           },
           "baxis": {
            "gridcolor": "white",
            "linecolor": "white",
            "ticks": ""
           },
           "bgcolor": "#E5ECF6",
           "caxis": {
            "gridcolor": "white",
            "linecolor": "white",
            "ticks": ""
           }
          },
          "title": {
           "x": 0.05
          },
          "xaxis": {
           "automargin": true,
           "gridcolor": "white",
           "linecolor": "white",
           "ticks": "",
           "zerolinecolor": "white",
           "zerolinewidth": 2
          },
          "yaxis": {
           "automargin": true,
           "gridcolor": "white",
           "linecolor": "white",
           "ticks": "",
           "zerolinecolor": "white",
           "zerolinewidth": 2
          }
         }
        }
       }
      },
      "text/html": [
       "<div>\n",
       "        \n",
       "        \n",
       "            <div id=\"e7996896-10c6-4fc8-ac5b-a2cad36fe748\" class=\"plotly-graph-div\" style=\"height:525px; width:100%;\"></div>\n",
       "            <script type=\"text/javascript\">\n",
       "                require([\"plotly\"], function(Plotly) {\n",
       "                    window.PLOTLYENV=window.PLOTLYENV || {};\n",
       "                    \n",
       "                if (document.getElementById(\"e7996896-10c6-4fc8-ac5b-a2cad36fe748\")) {\n",
       "                    Plotly.newPlot(\n",
       "                        'e7996896-10c6-4fc8-ac5b-a2cad36fe748',\n",
       "                        [{\"marker\": {\"color\": [2.0, 4.0, 2.0, 2.0, 2.0, 2.0, 2.0, 2.0, 2.0, 2.0, 2.0, 2.0, 2.0, 2.0, 2.0, 4.0, 4.0, 4.0, 4.0, 4.0, 4.0, 4.0, 4.0, 4.0, 4.0, 4.0, 4.0, 8.0, 8.0, 8.0, 8.0, 8.0, 8.0, 8.0, 8.0, 4.0, 4.0, 8.0, 8.0, 8.0, 8.0, 8.0, 8.0, 8.0, 8.0, 4.0, 4.0, 8.0, 8.0, 8.0, 8.0, 8.0, 8.0, 8.0, 8.0, 4.0, 4.0, 8.0, 8.0, 8.0, 8.0, 8.0, 8.0, 8.0, 8.0, 4.0, 4.0, 8.0, 8.0, 8.0, 8.0, 8.0, 8.0, 8.0, 8.0, 4.0, 4.0, 8.0, 8.0, 8.0, 8.0, 8.0, 8.0, 8.0, 8.0, 4.0, 4.0, 8.0, 8.0, 8.0, 8.0, 8.0, 8.0, 8.0, 8.0, 4.0], \"colorscale\": [[0, \"wheat\"], [0.5, \"darkgreen\"], [1.0, \"lightgreen\"]], \"opacity\": 0.8, \"size\": 3}, \"mode\": \"markers\", \"type\": \"scatter3d\", \"x\": [0.0, 0.0, 8.15011624180435e-05, 0.0002005403138231415, -6.229389577585246e-05, -0.00030082676703733314, -0.0002189509891218644, -0.00038797272816378826, -0.00043015446690260596, -0.0004765147853034217, -0.0005383984435603018, -0.000500412285204644, -0.000740230815972188, -0.0006616791766783464, -0.0009453377175617873, 0.0, 0.0, 0.0, 0.0, 0.0, 0.0, 0.0, 0.0, 0.0, 0.0, 0.0, 0.0, -0.0020225424859373685, -0.004045084971874737, -0.006067627457812106, -0.008090169943749474, -0.010112712429686843, -0.012135254915624212, -0.01415779740156158, -0.015643789100317572, 0.0, 0.0, 0.0020225424859373685, 0.004045084971874737, 0.006067627457812106, 0.008090169943749474, 0.010112712429686843, 0.012135254915624212, 0.01415779740156158, 0.01561007223292106, 0.0, 0.0, -0.0020225424859373685, -0.004045084971874737, -0.006067627457812106, -0.008090169943749474, -0.010112712429686843, -0.012135254915624212, -0.01415779740156158, -0.015567003019189934, 0.0, 0.0, 0.0020225424859373685, 0.004045084971874737, 0.006067627457812106, 0.008090169943749474, 0.010112712429686843, 0.012135254915624212, 0.01415779740156158, 0.015508949950214991, 0.0, 0.0, -0.0020225424859373685, -0.004045084971874737, -0.006067627457812106, -0.008090169943749474, -0.010112712429686843, -0.012135254915624212, -0.01415779740156158, -0.01542378866109725, 0.0, 0.0, 0.0020225424859373685, 0.004045084971874737, 0.006067627457812106, 0.008090169943749474, 0.010112712429686843, 0.012135254915624212, 0.01415779740156158, 0.015277972620414193, 0.0, 0.0, -0.0020225424859373685, -0.004045084971874737, -0.006067627457812106, -0.008090169943749474, -0.010112712429686843, -0.012135254915624212, -0.01415779740156158, -0.014907977459024975, 0.0], \"y\": [0.0, 0.0, 3.45824534245644e-05, 6.478236300089043e-05, -0.00012773148373673701, -0.00046511023855085965, -0.00041497415286754054, -0.0007866549262349948, -0.0012206532505701657, -0.0012057686189084395, -0.0011543843438358492, -0.0013236742602458656, -0.0014578125455967919, -0.0014991576875617498, -0.0016178966253696666, 0.0, 0.0, 0.0, 0.0, 0.0, 0.0, 0.0, 0.0, 0.0, 0.0, 0.0, 0.0, 1.4269949640811252e-16, 2.8539899281622505e-16, 4.280984892243376e-16, 5.707979856324501e-16, 7.134974820405627e-16, 8.561969784486752e-16, 9.988964748567878e-16, 1.1037398927594969e-15, 0.0, 0.0, -1.6450372949350138e-16, -3.2900745898700277e-16, -4.935111884805041e-16, -6.580149179740054e-16, -8.225186474675068e-16, -9.87022376961008e-16, -1.1515261064545093e-15, -1.2696470496086193e-15, 0.0, 0.0, -4.362849680494526e-17, -8.725699360989052e-17, -1.3088549041483579e-16, -1.7451398721978107e-16, -2.1814248402472636e-16, -2.6177098082967167e-16, -3.05399477634617e-16, -3.357976142441999e-16, 0.0, 0.0, 2.182426371955641e-17, 4.364852743911282e-17, 6.547279115866923e-17, 8.729705487822563e-17, 1.0912131859778202e-16, 1.3094558231733844e-16, 1.5276984603689482e-16, 1.6734947032275812e-16, 0.0, 0.0, -2.003063416756019e-20, -4.006126833512038e-20, -6.009190250268058e-20, -8.012253667024076e-20, -1.0015317083780096e-19, -1.2018380500536115e-19, -1.4021443917292136e-19, -1.5275242438480434e-19, 0.0, 0.0, -2.178420245122129e-17, -4.356840490244258e-17, -6.535260735366386e-17, -8.713680980488514e-17, -1.0892101225610642e-16, -1.307052147073277e-16, -1.5248941715854897e-16, -1.6455449065786637e-16, 0.0, 0.0, 4.358843553661014e-17, 8.717687107322028e-17, 1.3076530660983043e-16, 1.743537421464406e-16, 2.1794217768305076e-16, 2.615306132196609e-16, 3.051190487562711e-16, 3.2128641003691134e-16, 0.0], \"z\": [-0.03, -0.03, -0.03249843183105716, -0.034995413538217696, -0.03747409395268801, -0.03993971307273227, -0.039995894935777286, -0.04241741656493659, -0.044879096104476865, -0.04737862189322522, -0.04987732757199494, -0.052371299900625556, -0.05485615281230939, -0.057354576359108476, -0.059806777607551515, -0.0275, -0.025, -0.0225, -0.02, -0.0175, -0.015, -0.0125, -0.01, -0.0075, -0.005, -0.0025, 0.0, 0.0014694631307311829, 0.0029389262614623658, 0.004408389392193549, 0.0058778525229247315, 0.007347315653655915, 0.008816778784387098, 0.010286241915118281, 0.01136587808052744, 0.0025, 0.0029999999999999983, 0.004469463130731181, 0.005938926261462364, 0.007408389392193546, 0.00887785252292473, 0.010347315653655913, 0.011816778784387097, 0.01328624191511828, 0.014341381342452757, 0.005499999999999998, 0.005999999999999997, 0.00746946313073118, 0.008938926261462362, 0.010408389392193544, 0.011877852522924727, 0.013347315653655911, 0.014816778784387094, 0.01628624191511828, 0.01731008972702934, 0.008499999999999997, 0.008999999999999994, 0.010469463130731178, 0.011938926261462361, 0.013408389392193543, 0.014877852522924727, 0.01634731565365591, 0.017816778784387092, 0.019286241915118275, 0.02026791170353781, 0.011499999999999995, 0.011999999999999993, 0.013469463130731177, 0.01493892626146236, 0.01640838939219354, 0.017877852522924724, 0.019347315653655908, 0.020816778784387095, 0.022286241915118278, 0.023206038405254016, 0.014499999999999992, 0.01499999999999999, 0.016469463130731176, 0.01793892626146236, 0.01940838939219354, 0.020877852522924723, 0.022347315653655907, 0.02381677878438709, 0.025286241915118274, 0.02610009685043241, 0.01749999999999999, 0.017999999999999988, 0.019469463130731172, 0.020938926261462355, 0.02240838939219354, 0.023877852522924722, 0.025347315653655906, 0.02681677878438709, 0.028286241915118273, 0.02883127963052693, 0.019997730003511877]}],\n",
       "                        {\"scene\": {\"aspectmode\": \"data\"}, \"template\": {\"data\": {\"bar\": [{\"error_x\": {\"color\": \"#2a3f5f\"}, \"error_y\": {\"color\": \"#2a3f5f\"}, \"marker\": {\"line\": {\"color\": \"#E5ECF6\", \"width\": 0.5}}, \"type\": \"bar\"}], \"barpolar\": [{\"marker\": {\"line\": {\"color\": \"#E5ECF6\", \"width\": 0.5}}, \"type\": \"barpolar\"}], \"carpet\": [{\"aaxis\": {\"endlinecolor\": \"#2a3f5f\", \"gridcolor\": \"white\", \"linecolor\": \"white\", \"minorgridcolor\": \"white\", \"startlinecolor\": \"#2a3f5f\"}, \"baxis\": {\"endlinecolor\": \"#2a3f5f\", \"gridcolor\": \"white\", \"linecolor\": \"white\", \"minorgridcolor\": \"white\", \"startlinecolor\": \"#2a3f5f\"}, \"type\": \"carpet\"}], \"choropleth\": [{\"colorbar\": {\"outlinewidth\": 0, \"ticks\": \"\"}, \"type\": \"choropleth\"}], \"contour\": [{\"colorbar\": {\"outlinewidth\": 0, \"ticks\": \"\"}, \"colorscale\": [[0.0, \"#0d0887\"], [0.1111111111111111, \"#46039f\"], [0.2222222222222222, \"#7201a8\"], [0.3333333333333333, \"#9c179e\"], [0.4444444444444444, \"#bd3786\"], [0.5555555555555556, \"#d8576b\"], [0.6666666666666666, \"#ed7953\"], [0.7777777777777778, \"#fb9f3a\"], [0.8888888888888888, \"#fdca26\"], [1.0, \"#f0f921\"]], \"type\": \"contour\"}], \"contourcarpet\": [{\"colorbar\": {\"outlinewidth\": 0, \"ticks\": \"\"}, \"type\": \"contourcarpet\"}], \"heatmap\": [{\"colorbar\": {\"outlinewidth\": 0, \"ticks\": \"\"}, \"colorscale\": [[0.0, \"#0d0887\"], [0.1111111111111111, \"#46039f\"], [0.2222222222222222, \"#7201a8\"], [0.3333333333333333, \"#9c179e\"], [0.4444444444444444, \"#bd3786\"], [0.5555555555555556, \"#d8576b\"], [0.6666666666666666, \"#ed7953\"], [0.7777777777777778, \"#fb9f3a\"], [0.8888888888888888, \"#fdca26\"], [1.0, \"#f0f921\"]], \"type\": \"heatmap\"}], \"heatmapgl\": [{\"colorbar\": {\"outlinewidth\": 0, \"ticks\": \"\"}, \"colorscale\": [[0.0, \"#0d0887\"], [0.1111111111111111, \"#46039f\"], [0.2222222222222222, \"#7201a8\"], [0.3333333333333333, \"#9c179e\"], [0.4444444444444444, \"#bd3786\"], [0.5555555555555556, \"#d8576b\"], [0.6666666666666666, \"#ed7953\"], [0.7777777777777778, \"#fb9f3a\"], [0.8888888888888888, \"#fdca26\"], [1.0, \"#f0f921\"]], \"type\": \"heatmapgl\"}], \"histogram\": [{\"marker\": {\"colorbar\": {\"outlinewidth\": 0, \"ticks\": \"\"}}, \"type\": \"histogram\"}], \"histogram2d\": [{\"colorbar\": {\"outlinewidth\": 0, \"ticks\": \"\"}, \"colorscale\": [[0.0, \"#0d0887\"], [0.1111111111111111, \"#46039f\"], [0.2222222222222222, \"#7201a8\"], [0.3333333333333333, \"#9c179e\"], [0.4444444444444444, \"#bd3786\"], [0.5555555555555556, \"#d8576b\"], [0.6666666666666666, \"#ed7953\"], [0.7777777777777778, \"#fb9f3a\"], [0.8888888888888888, \"#fdca26\"], [1.0, \"#f0f921\"]], \"type\": \"histogram2d\"}], \"histogram2dcontour\": [{\"colorbar\": {\"outlinewidth\": 0, \"ticks\": \"\"}, \"colorscale\": [[0.0, \"#0d0887\"], [0.1111111111111111, \"#46039f\"], [0.2222222222222222, \"#7201a8\"], [0.3333333333333333, \"#9c179e\"], [0.4444444444444444, \"#bd3786\"], [0.5555555555555556, \"#d8576b\"], [0.6666666666666666, \"#ed7953\"], [0.7777777777777778, \"#fb9f3a\"], [0.8888888888888888, \"#fdca26\"], [1.0, \"#f0f921\"]], \"type\": \"histogram2dcontour\"}], \"mesh3d\": [{\"colorbar\": {\"outlinewidth\": 0, \"ticks\": \"\"}, \"type\": \"mesh3d\"}], \"parcoords\": [{\"line\": {\"colorbar\": {\"outlinewidth\": 0, \"ticks\": \"\"}}, \"type\": \"parcoords\"}], \"scatter\": [{\"marker\": {\"colorbar\": {\"outlinewidth\": 0, \"ticks\": \"\"}}, \"type\": \"scatter\"}], \"scatter3d\": [{\"line\": {\"colorbar\": {\"outlinewidth\": 0, \"ticks\": \"\"}}, \"marker\": {\"colorbar\": {\"outlinewidth\": 0, \"ticks\": \"\"}}, \"type\": \"scatter3d\"}], \"scattercarpet\": [{\"marker\": {\"colorbar\": {\"outlinewidth\": 0, \"ticks\": \"\"}}, \"type\": \"scattercarpet\"}], \"scattergeo\": [{\"marker\": {\"colorbar\": {\"outlinewidth\": 0, \"ticks\": \"\"}}, \"type\": \"scattergeo\"}], \"scattergl\": [{\"marker\": {\"colorbar\": {\"outlinewidth\": 0, \"ticks\": \"\"}}, \"type\": \"scattergl\"}], \"scattermapbox\": [{\"marker\": {\"colorbar\": {\"outlinewidth\": 0, \"ticks\": \"\"}}, \"type\": \"scattermapbox\"}], \"scatterpolar\": [{\"marker\": {\"colorbar\": {\"outlinewidth\": 0, \"ticks\": \"\"}}, \"type\": \"scatterpolar\"}], \"scatterpolargl\": [{\"marker\": {\"colorbar\": {\"outlinewidth\": 0, \"ticks\": \"\"}}, \"type\": \"scatterpolargl\"}], \"scatterternary\": [{\"marker\": {\"colorbar\": {\"outlinewidth\": 0, \"ticks\": \"\"}}, \"type\": \"scatterternary\"}], \"surface\": [{\"colorbar\": {\"outlinewidth\": 0, \"ticks\": \"\"}, \"colorscale\": [[0.0, \"#0d0887\"], [0.1111111111111111, \"#46039f\"], [0.2222222222222222, \"#7201a8\"], [0.3333333333333333, \"#9c179e\"], [0.4444444444444444, \"#bd3786\"], [0.5555555555555556, \"#d8576b\"], [0.6666666666666666, \"#ed7953\"], [0.7777777777777778, \"#fb9f3a\"], [0.8888888888888888, \"#fdca26\"], [1.0, \"#f0f921\"]], \"type\": \"surface\"}], \"table\": [{\"cells\": {\"fill\": {\"color\": \"#EBF0F8\"}, \"line\": {\"color\": \"white\"}}, \"header\": {\"fill\": {\"color\": \"#C8D4E3\"}, \"line\": {\"color\": \"white\"}}, \"type\": \"table\"}]}, \"layout\": {\"annotationdefaults\": {\"arrowcolor\": \"#2a3f5f\", \"arrowhead\": 0, \"arrowwidth\": 1}, \"colorscale\": {\"diverging\": [[0, \"#8e0152\"], [0.1, \"#c51b7d\"], [0.2, \"#de77ae\"], [0.3, \"#f1b6da\"], [0.4, \"#fde0ef\"], [0.5, \"#f7f7f7\"], [0.6, \"#e6f5d0\"], [0.7, \"#b8e186\"], [0.8, \"#7fbc41\"], [0.9, \"#4d9221\"], [1, \"#276419\"]], \"sequential\": [[0.0, \"#0d0887\"], [0.1111111111111111, \"#46039f\"], [0.2222222222222222, \"#7201a8\"], [0.3333333333333333, \"#9c179e\"], [0.4444444444444444, \"#bd3786\"], [0.5555555555555556, \"#d8576b\"], [0.6666666666666666, \"#ed7953\"], [0.7777777777777778, \"#fb9f3a\"], [0.8888888888888888, \"#fdca26\"], [1.0, \"#f0f921\"]], \"sequentialminus\": [[0.0, \"#0d0887\"], [0.1111111111111111, \"#46039f\"], [0.2222222222222222, \"#7201a8\"], [0.3333333333333333, \"#9c179e\"], [0.4444444444444444, \"#bd3786\"], [0.5555555555555556, \"#d8576b\"], [0.6666666666666666, \"#ed7953\"], [0.7777777777777778, \"#fb9f3a\"], [0.8888888888888888, \"#fdca26\"], [1.0, \"#f0f921\"]]}, \"colorway\": [\"#636efa\", \"#EF553B\", \"#00cc96\", \"#ab63fa\", \"#FFA15A\", \"#19d3f3\", \"#FF6692\", \"#B6E880\", \"#FF97FF\", \"#FECB52\"], \"font\": {\"color\": \"#2a3f5f\"}, \"geo\": {\"bgcolor\": \"white\", \"lakecolor\": \"white\", \"landcolor\": \"#E5ECF6\", \"showlakes\": true, \"showland\": true, \"subunitcolor\": \"white\"}, \"hoverlabel\": {\"align\": \"left\"}, \"hovermode\": \"closest\", \"mapbox\": {\"style\": \"light\"}, \"paper_bgcolor\": \"white\", \"plot_bgcolor\": \"#E5ECF6\", \"polar\": {\"angularaxis\": {\"gridcolor\": \"white\", \"linecolor\": \"white\", \"ticks\": \"\"}, \"bgcolor\": \"#E5ECF6\", \"radialaxis\": {\"gridcolor\": \"white\", \"linecolor\": \"white\", \"ticks\": \"\"}}, \"scene\": {\"xaxis\": {\"backgroundcolor\": \"#E5ECF6\", \"gridcolor\": \"white\", \"gridwidth\": 2, \"linecolor\": \"white\", \"showbackground\": true, \"ticks\": \"\", \"zerolinecolor\": \"white\"}, \"yaxis\": {\"backgroundcolor\": \"#E5ECF6\", \"gridcolor\": \"white\", \"gridwidth\": 2, \"linecolor\": \"white\", \"showbackground\": true, \"ticks\": \"\", \"zerolinecolor\": \"white\"}, \"zaxis\": {\"backgroundcolor\": \"#E5ECF6\", \"gridcolor\": \"white\", \"gridwidth\": 2, \"linecolor\": \"white\", \"showbackground\": true, \"ticks\": \"\", \"zerolinecolor\": \"white\"}}, \"shapedefaults\": {\"line\": {\"color\": \"#2a3f5f\"}}, \"ternary\": {\"aaxis\": {\"gridcolor\": \"white\", \"linecolor\": \"white\", \"ticks\": \"\"}, \"baxis\": {\"gridcolor\": \"white\", \"linecolor\": \"white\", \"ticks\": \"\"}, \"bgcolor\": \"#E5ECF6\", \"caxis\": {\"gridcolor\": \"white\", \"linecolor\": \"white\", \"ticks\": \"\"}}, \"title\": {\"x\": 0.05}, \"xaxis\": {\"automargin\": true, \"gridcolor\": \"white\", \"linecolor\": \"white\", \"ticks\": \"\", \"zerolinecolor\": \"white\", \"zerolinewidth\": 2}, \"yaxis\": {\"automargin\": true, \"gridcolor\": \"white\", \"linecolor\": \"white\", \"ticks\": \"\", \"zerolinecolor\": \"white\", \"zerolinewidth\": 2}}}},\n",
       "                        {\"responsive\": true}\n",
       "                    ).then(function(){\n",
       "                            \n",
       "var gd = document.getElementById('e7996896-10c6-4fc8-ac5b-a2cad36fe748');\n",
       "var x = new MutationObserver(function (mutations, observer) {{\n",
       "        var display = window.getComputedStyle(gd).display;\n",
       "        if (!display || display === 'none') {{\n",
       "            console.log([gd, 'removed!']);\n",
       "            Plotly.purge(gd);\n",
       "            observer.disconnect();\n",
       "        }}\n",
       "}});\n",
       "\n",
       "// Listen for the removal of the full notebook cells\n",
       "var notebookContainer = gd.closest('#notebook-container');\n",
       "if (notebookContainer) {{\n",
       "    x.observe(notebookContainer, {childList: true});\n",
       "}}\n",
       "\n",
       "// Listen for the clearing of the current output cell\n",
       "var outputEl = gd.closest('.output');\n",
       "if (outputEl) {{\n",
       "    x.observe(outputEl, {childList: true});\n",
       "}}\n",
       "\n",
       "                        })\n",
       "                };\n",
       "                });\n",
       "            </script>\n",
       "        </div>"
      ]
     },
     "metadata": {},
     "output_type": "display_data"
    }
   ],
   "source": [
    "name = 'testXML'\n",
    "change_parameter('testXML', 'testXML', 'stem', '1', 'ln', 'value','0.3')\n",
    "smallplant = CPlantBox(name, time, name) # make a plant object in python\n",
    "fig = visual_plant(smallplant)    \n",
    "fig.show()"
   ]
  },
  {
   "cell_type": "markdown",
   "metadata": {},
   "source": [
    "### 5.2.2Let's change the la to see what will happen?\n",
    "la is the stem top without branches"
   ]
  },
  {
   "cell_type": "code",
   "execution_count": 57,
   "metadata": {},
   "outputs": [
    {
     "name": "stdout",
     "output_type": "stream",
     "text": [
      "original lmax is 1, changed to 2\n"
     ]
    },
    {
     "data": {
      "application/vnd.plotly.v1+json": {
       "config": {
        "plotlyServerURL": "https://plot.ly"
       },
       "data": [
        {
         "marker": {
          "color": [
           2,
           4,
           2,
           2,
           2,
           2,
           2,
           2,
           2,
           2,
           2,
           2,
           2,
           2,
           2,
           2,
           4,
           4,
           4,
           4,
           4,
           4,
           4,
           4,
           4,
           4,
           4,
           4,
           8,
           8,
           8,
           8,
           8,
           8,
           4,
           4,
           8,
           8,
           8,
           8,
           8,
           8,
           4,
           4,
           8,
           8,
           8,
           8,
           8,
           8,
           4,
           4,
           8,
           8,
           8,
           8,
           8,
           8,
           4,
           4,
           4,
           4,
           4,
           4
          ],
          "colorscale": [
           [
            0,
            "wheat"
           ],
           [
            0.5,
            "darkgreen"
           ],
           [
            1,
            "lightgreen"
           ]
          ],
          "opacity": 0.8,
          "size": 3
         },
         "mode": "markers",
         "type": "scatter3d",
         "x": [
          0,
          0,
          -4.349864425273045e-05,
          -7.231141094117061e-05,
          0.0003545336388906738,
          0.0005836135233255075,
          0.0023304781453652346,
          0.0023495148071919487,
          0.0007867775660280321,
          0.000960569542976794,
          0.001168517190014343,
          0.0013069488877521082,
          0.0010652526280370725,
          0.000877489749265652,
          0.0005334381073143218,
          0.000177801459875771,
          0,
          0,
          0,
          0,
          0,
          0,
          0,
          0,
          0,
          0,
          0,
          0,
          -0.0020225424859373685,
          -0.004045084971874737,
          -0.006067627457812106,
          -0.008090169943749474,
          -0.010112712429686843,
          -0.0111059558396906,
          0,
          0,
          0.0020225424859373685,
          0.004045084971874737,
          0.006067627457812106,
          0.008090169943749474,
          0.010112712429686843,
          0.0111059558396906,
          0,
          0,
          -0.0020225424859373685,
          -0.004045084971874737,
          -0.006067627457812106,
          -0.008090169943749474,
          -0.010112712429686843,
          -0.011105955839690597,
          0,
          0,
          0.0020225424859373685,
          0.004045084971874737,
          0.006067627457812106,
          0.008090169943749474,
          0.010112712429686843,
          0.011105955839690596,
          0,
          0,
          0,
          0,
          0,
          0
         ],
         "y": [
          0,
          0,
          -9.272556683029244e-05,
          -0.00018125221627083812,
          0.0004850279474472836,
          0.001010618428538291,
          0.002740978625684629,
          0.002762300754355901,
          0.001515120610487708,
          0.0020401943431563093,
          0.002518909711896955,
          0.002908777933330969,
          0.0037298622097208774,
          0.0045211279014661845,
          0.0052002208717424605,
          0.0058848493268390785,
          0,
          0,
          0,
          0,
          0,
          0,
          0,
          0,
          0,
          0,
          0,
          0,
          -1.1914159164114551e-17,
          -2.3828318328229102e-17,
          -3.574247749234365e-17,
          -4.7656636656458205e-17,
          -5.957079582057275e-17,
          -6.542167913094643e-17,
          0,
          0,
          -9.8900739212743e-18,
          -1.97801478425486e-17,
          -2.96702217638229e-17,
          -3.95602956850972e-17,
          -4.9450369606371495e-17,
          -5.4307251879577745e-17,
          0,
          0,
          3.169430700666315e-17,
          6.33886140133263e-17,
          9.508292101998945e-17,
          1.267772280266526e-16,
          1.5847153503331575e-16,
          1.740361828901019e-16,
          0,
          0,
          -5.3498540092052005e-17,
          -1.0699708018410401e-16,
          -1.6049562027615601e-16,
          -2.1399416036820802e-16,
          -2.6749270046026005e-16,
          -2.9376511390062607e-16,
          0,
          0,
          0,
          0,
          0,
          0
         ],
         "z": [
          -0.03,
          -0.03,
          -0.032497901086353136,
          -0.034996167056344035,
          -0.03736763791782849,
          -0.03980100534851664,
          -0.040253020370830825,
          -0.04025714421513021,
          -0.04224112868969451,
          -0.04467917994510521,
          -0.04712409085796544,
          -0.049589621112287485,
          -0.051938536506486485,
          -0.054302567747063116,
          -0.05668384076908137,
          -0.05905312549938896,
          -0.0275,
          -0.025,
          -0.0225,
          -0.02,
          -0.0175,
          -0.015,
          -0.0125,
          -0.01,
          -0.0075,
          -0.005,
          -0.0025,
          0,
          0.0014694631307311829,
          0.0029389262614623658,
          0.004408389392193549,
          0.0058778525229247315,
          0.007347315653655915,
          0.008068949231684708,
          0.0025,
          0.0029999999999999983,
          0.004469463130731181,
          0.005938926261462364,
          0.007408389392193546,
          0.00887785252292473,
          0.010347315653655913,
          0.011068949231684706,
          0.005499999999999998,
          0.005999999999999997,
          0.00746946313073118,
          0.008938926261462362,
          0.010408389392193544,
          0.011877852522924727,
          0.013347315653655911,
          0.014068949231684703,
          0.008499999999999997,
          0.008999999999999994,
          0.010469463130731178,
          0.011938926261462361,
          0.013408389392193543,
          0.014877852522924727,
          0.01634731565365591,
          0.017068949231684703,
          0.011499999999999995,
          0.011999999999999993,
          0.014499999999999992,
          0.016999999999999994,
          0.019499999999999993,
          0.019997730003511877
         ]
        }
       ],
       "layout": {
        "autosize": true,
        "scene": {
         "aspectmode": "data",
         "aspectratio": {
          "x": 1.009528402068838,
          "y": 0.27570350026592894,
          "z": 3.592850763588185
         },
         "camera": {
          "center": {
           "x": 0,
           "y": 0,
           "z": 0
          },
          "eye": {
           "x": 43.83476249108744,
           "y": 71.89422274732311,
           "z": 53.941953365708315
          },
          "projection": {
           "type": "perspective"
          },
          "up": {
           "x": 0,
           "y": 0,
           "z": 1
          }
         }
        },
        "template": {
         "data": {
          "bar": [
           {
            "error_x": {
             "color": "#2a3f5f"
            },
            "error_y": {
             "color": "#2a3f5f"
            },
            "marker": {
             "line": {
              "color": "#E5ECF6",
              "width": 0.5
             }
            },
            "type": "bar"
           }
          ],
          "barpolar": [
           {
            "marker": {
             "line": {
              "color": "#E5ECF6",
              "width": 0.5
             }
            },
            "type": "barpolar"
           }
          ],
          "carpet": [
           {
            "aaxis": {
             "endlinecolor": "#2a3f5f",
             "gridcolor": "white",
             "linecolor": "white",
             "minorgridcolor": "white",
             "startlinecolor": "#2a3f5f"
            },
            "baxis": {
             "endlinecolor": "#2a3f5f",
             "gridcolor": "white",
             "linecolor": "white",
             "minorgridcolor": "white",
             "startlinecolor": "#2a3f5f"
            },
            "type": "carpet"
           }
          ],
          "choropleth": [
           {
            "colorbar": {
             "outlinewidth": 0,
             "ticks": ""
            },
            "type": "choropleth"
           }
          ],
          "contour": [
           {
            "colorbar": {
             "outlinewidth": 0,
             "ticks": ""
            },
            "colorscale": [
             [
              0,
              "#0d0887"
             ],
             [
              0.1111111111111111,
              "#46039f"
             ],
             [
              0.2222222222222222,
              "#7201a8"
             ],
             [
              0.3333333333333333,
              "#9c179e"
             ],
             [
              0.4444444444444444,
              "#bd3786"
             ],
             [
              0.5555555555555556,
              "#d8576b"
             ],
             [
              0.6666666666666666,
              "#ed7953"
             ],
             [
              0.7777777777777778,
              "#fb9f3a"
             ],
             [
              0.8888888888888888,
              "#fdca26"
             ],
             [
              1,
              "#f0f921"
             ]
            ],
            "type": "contour"
           }
          ],
          "contourcarpet": [
           {
            "colorbar": {
             "outlinewidth": 0,
             "ticks": ""
            },
            "type": "contourcarpet"
           }
          ],
          "heatmap": [
           {
            "colorbar": {
             "outlinewidth": 0,
             "ticks": ""
            },
            "colorscale": [
             [
              0,
              "#0d0887"
             ],
             [
              0.1111111111111111,
              "#46039f"
             ],
             [
              0.2222222222222222,
              "#7201a8"
             ],
             [
              0.3333333333333333,
              "#9c179e"
             ],
             [
              0.4444444444444444,
              "#bd3786"
             ],
             [
              0.5555555555555556,
              "#d8576b"
             ],
             [
              0.6666666666666666,
              "#ed7953"
             ],
             [
              0.7777777777777778,
              "#fb9f3a"
             ],
             [
              0.8888888888888888,
              "#fdca26"
             ],
             [
              1,
              "#f0f921"
             ]
            ],
            "type": "heatmap"
           }
          ],
          "heatmapgl": [
           {
            "colorbar": {
             "outlinewidth": 0,
             "ticks": ""
            },
            "colorscale": [
             [
              0,
              "#0d0887"
             ],
             [
              0.1111111111111111,
              "#46039f"
             ],
             [
              0.2222222222222222,
              "#7201a8"
             ],
             [
              0.3333333333333333,
              "#9c179e"
             ],
             [
              0.4444444444444444,
              "#bd3786"
             ],
             [
              0.5555555555555556,
              "#d8576b"
             ],
             [
              0.6666666666666666,
              "#ed7953"
             ],
             [
              0.7777777777777778,
              "#fb9f3a"
             ],
             [
              0.8888888888888888,
              "#fdca26"
             ],
             [
              1,
              "#f0f921"
             ]
            ],
            "type": "heatmapgl"
           }
          ],
          "histogram": [
           {
            "marker": {
             "colorbar": {
              "outlinewidth": 0,
              "ticks": ""
             }
            },
            "type": "histogram"
           }
          ],
          "histogram2d": [
           {
            "colorbar": {
             "outlinewidth": 0,
             "ticks": ""
            },
            "colorscale": [
             [
              0,
              "#0d0887"
             ],
             [
              0.1111111111111111,
              "#46039f"
             ],
             [
              0.2222222222222222,
              "#7201a8"
             ],
             [
              0.3333333333333333,
              "#9c179e"
             ],
             [
              0.4444444444444444,
              "#bd3786"
             ],
             [
              0.5555555555555556,
              "#d8576b"
             ],
             [
              0.6666666666666666,
              "#ed7953"
             ],
             [
              0.7777777777777778,
              "#fb9f3a"
             ],
             [
              0.8888888888888888,
              "#fdca26"
             ],
             [
              1,
              "#f0f921"
             ]
            ],
            "type": "histogram2d"
           }
          ],
          "histogram2dcontour": [
           {
            "colorbar": {
             "outlinewidth": 0,
             "ticks": ""
            },
            "colorscale": [
             [
              0,
              "#0d0887"
             ],
             [
              0.1111111111111111,
              "#46039f"
             ],
             [
              0.2222222222222222,
              "#7201a8"
             ],
             [
              0.3333333333333333,
              "#9c179e"
             ],
             [
              0.4444444444444444,
              "#bd3786"
             ],
             [
              0.5555555555555556,
              "#d8576b"
             ],
             [
              0.6666666666666666,
              "#ed7953"
             ],
             [
              0.7777777777777778,
              "#fb9f3a"
             ],
             [
              0.8888888888888888,
              "#fdca26"
             ],
             [
              1,
              "#f0f921"
             ]
            ],
            "type": "histogram2dcontour"
           }
          ],
          "mesh3d": [
           {
            "colorbar": {
             "outlinewidth": 0,
             "ticks": ""
            },
            "type": "mesh3d"
           }
          ],
          "parcoords": [
           {
            "line": {
             "colorbar": {
              "outlinewidth": 0,
              "ticks": ""
             }
            },
            "type": "parcoords"
           }
          ],
          "scatter": [
           {
            "marker": {
             "colorbar": {
              "outlinewidth": 0,
              "ticks": ""
             }
            },
            "type": "scatter"
           }
          ],
          "scatter3d": [
           {
            "line": {
             "colorbar": {
              "outlinewidth": 0,
              "ticks": ""
             }
            },
            "marker": {
             "colorbar": {
              "outlinewidth": 0,
              "ticks": ""
             }
            },
            "type": "scatter3d"
           }
          ],
          "scattercarpet": [
           {
            "marker": {
             "colorbar": {
              "outlinewidth": 0,
              "ticks": ""
             }
            },
            "type": "scattercarpet"
           }
          ],
          "scattergeo": [
           {
            "marker": {
             "colorbar": {
              "outlinewidth": 0,
              "ticks": ""
             }
            },
            "type": "scattergeo"
           }
          ],
          "scattergl": [
           {
            "marker": {
             "colorbar": {
              "outlinewidth": 0,
              "ticks": ""
             }
            },
            "type": "scattergl"
           }
          ],
          "scattermapbox": [
           {
            "marker": {
             "colorbar": {
              "outlinewidth": 0,
              "ticks": ""
             }
            },
            "type": "scattermapbox"
           }
          ],
          "scatterpolar": [
           {
            "marker": {
             "colorbar": {
              "outlinewidth": 0,
              "ticks": ""
             }
            },
            "type": "scatterpolar"
           }
          ],
          "scatterpolargl": [
           {
            "marker": {
             "colorbar": {
              "outlinewidth": 0,
              "ticks": ""
             }
            },
            "type": "scatterpolargl"
           }
          ],
          "scatterternary": [
           {
            "marker": {
             "colorbar": {
              "outlinewidth": 0,
              "ticks": ""
             }
            },
            "type": "scatterternary"
           }
          ],
          "surface": [
           {
            "colorbar": {
             "outlinewidth": 0,
             "ticks": ""
            },
            "colorscale": [
             [
              0,
              "#0d0887"
             ],
             [
              0.1111111111111111,
              "#46039f"
             ],
             [
              0.2222222222222222,
              "#7201a8"
             ],
             [
              0.3333333333333333,
              "#9c179e"
             ],
             [
              0.4444444444444444,
              "#bd3786"
             ],
             [
              0.5555555555555556,
              "#d8576b"
             ],
             [
              0.6666666666666666,
              "#ed7953"
             ],
             [
              0.7777777777777778,
              "#fb9f3a"
             ],
             [
              0.8888888888888888,
              "#fdca26"
             ],
             [
              1,
              "#f0f921"
             ]
            ],
            "type": "surface"
           }
          ],
          "table": [
           {
            "cells": {
             "fill": {
              "color": "#EBF0F8"
             },
             "line": {
              "color": "white"
             }
            },
            "header": {
             "fill": {
              "color": "#C8D4E3"
             },
             "line": {
              "color": "white"
             }
            },
            "type": "table"
           }
          ]
         },
         "layout": {
          "annotationdefaults": {
           "arrowcolor": "#2a3f5f",
           "arrowhead": 0,
           "arrowwidth": 1
          },
          "colorscale": {
           "diverging": [
            [
             0,
             "#8e0152"
            ],
            [
             0.1,
             "#c51b7d"
            ],
            [
             0.2,
             "#de77ae"
            ],
            [
             0.3,
             "#f1b6da"
            ],
            [
             0.4,
             "#fde0ef"
            ],
            [
             0.5,
             "#f7f7f7"
            ],
            [
             0.6,
             "#e6f5d0"
            ],
            [
             0.7,
             "#b8e186"
            ],
            [
             0.8,
             "#7fbc41"
            ],
            [
             0.9,
             "#4d9221"
            ],
            [
             1,
             "#276419"
            ]
           ],
           "sequential": [
            [
             0,
             "#0d0887"
            ],
            [
             0.1111111111111111,
             "#46039f"
            ],
            [
             0.2222222222222222,
             "#7201a8"
            ],
            [
             0.3333333333333333,
             "#9c179e"
            ],
            [
             0.4444444444444444,
             "#bd3786"
            ],
            [
             0.5555555555555556,
             "#d8576b"
            ],
            [
             0.6666666666666666,
             "#ed7953"
            ],
            [
             0.7777777777777778,
             "#fb9f3a"
            ],
            [
             0.8888888888888888,
             "#fdca26"
            ],
            [
             1,
             "#f0f921"
            ]
           ],
           "sequentialminus": [
            [
             0,
             "#0d0887"
            ],
            [
             0.1111111111111111,
             "#46039f"
            ],
            [
             0.2222222222222222,
             "#7201a8"
            ],
            [
             0.3333333333333333,
             "#9c179e"
            ],
            [
             0.4444444444444444,
             "#bd3786"
            ],
            [
             0.5555555555555556,
             "#d8576b"
            ],
            [
             0.6666666666666666,
             "#ed7953"
            ],
            [
             0.7777777777777778,
             "#fb9f3a"
            ],
            [
             0.8888888888888888,
             "#fdca26"
            ],
            [
             1,
             "#f0f921"
            ]
           ]
          },
          "colorway": [
           "#636efa",
           "#EF553B",
           "#00cc96",
           "#ab63fa",
           "#FFA15A",
           "#19d3f3",
           "#FF6692",
           "#B6E880",
           "#FF97FF",
           "#FECB52"
          ],
          "font": {
           "color": "#2a3f5f"
          },
          "geo": {
           "bgcolor": "white",
           "lakecolor": "white",
           "landcolor": "#E5ECF6",
           "showlakes": true,
           "showland": true,
           "subunitcolor": "white"
          },
          "hoverlabel": {
           "align": "left"
          },
          "hovermode": "closest",
          "mapbox": {
           "style": "light"
          },
          "paper_bgcolor": "white",
          "plot_bgcolor": "#E5ECF6",
          "polar": {
           "angularaxis": {
            "gridcolor": "white",
            "linecolor": "white",
            "ticks": ""
           },
           "bgcolor": "#E5ECF6",
           "radialaxis": {
            "gridcolor": "white",
            "linecolor": "white",
            "ticks": ""
           }
          },
          "scene": {
           "xaxis": {
            "backgroundcolor": "#E5ECF6",
            "gridcolor": "white",
            "gridwidth": 2,
            "linecolor": "white",
            "showbackground": true,
            "ticks": "",
            "zerolinecolor": "white"
           },
           "yaxis": {
            "backgroundcolor": "#E5ECF6",
            "gridcolor": "white",
            "gridwidth": 2,
            "linecolor": "white",
            "showbackground": true,
            "ticks": "",
            "zerolinecolor": "white"
           },
           "zaxis": {
            "backgroundcolor": "#E5ECF6",
            "gridcolor": "white",
            "gridwidth": 2,
            "linecolor": "white",
            "showbackground": true,
            "ticks": "",
            "zerolinecolor": "white"
           }
          },
          "shapedefaults": {
           "line": {
            "color": "#2a3f5f"
           }
          },
          "ternary": {
           "aaxis": {
            "gridcolor": "white",
            "linecolor": "white",
            "ticks": ""
           },
           "baxis": {
            "gridcolor": "white",
            "linecolor": "white",
            "ticks": ""
           },
           "bgcolor": "#E5ECF6",
           "caxis": {
            "gridcolor": "white",
            "linecolor": "white",
            "ticks": ""
           }
          },
          "title": {
           "x": 0.05
          },
          "xaxis": {
           "automargin": true,
           "gridcolor": "white",
           "linecolor": "white",
           "ticks": "",
           "zerolinecolor": "white",
           "zerolinewidth": 2
          },
          "yaxis": {
           "automargin": true,
           "gridcolor": "white",
           "linecolor": "white",
           "ticks": "",
           "zerolinecolor": "white",
           "zerolinewidth": 2
          }
         }
        }
       }
      },
      "text/html": [
       "<div>\n",
       "        \n",
       "        \n",
       "            <div id=\"79f19898-a56f-4caf-8d1d-640c49960fab\" class=\"plotly-graph-div\" style=\"height:525px; width:100%;\"></div>\n",
       "            <script type=\"text/javascript\">\n",
       "                require([\"plotly\"], function(Plotly) {\n",
       "                    window.PLOTLYENV=window.PLOTLYENV || {};\n",
       "                    \n",
       "                if (document.getElementById(\"79f19898-a56f-4caf-8d1d-640c49960fab\")) {\n",
       "                    Plotly.newPlot(\n",
       "                        '79f19898-a56f-4caf-8d1d-640c49960fab',\n",
       "                        [{\"marker\": {\"color\": [2.0, 4.0, 2.0, 2.0, 2.0, 2.0, 2.0, 2.0, 2.0, 2.0, 2.0, 2.0, 2.0, 2.0, 2.0, 2.0, 4.0, 4.0, 4.0, 4.0, 4.0, 4.0, 4.0, 4.0, 4.0, 4.0, 4.0, 4.0, 8.0, 8.0, 8.0, 8.0, 8.0, 8.0, 4.0, 4.0, 8.0, 8.0, 8.0, 8.0, 8.0, 8.0, 4.0, 4.0, 8.0, 8.0, 8.0, 8.0, 8.0, 8.0, 4.0, 4.0, 8.0, 8.0, 8.0, 8.0, 8.0, 8.0, 4.0, 4.0, 4.0, 4.0, 4.0, 4.0], \"colorscale\": [[0, \"wheat\"], [0.5, \"darkgreen\"], [1.0, \"lightgreen\"]], \"opacity\": 0.8, \"size\": 3}, \"mode\": \"markers\", \"type\": \"scatter3d\", \"x\": [0.0, 0.0, -4.349864425273045e-05, -7.231141094117061e-05, 0.0003545336388906738, 0.0005836135233255075, 0.0023304781453652346, 0.0023495148071919487, 0.0007867775660280321, 0.000960569542976794, 0.001168517190014343, 0.0013069488877521082, 0.0010652526280370725, 0.000877489749265652, 0.0005334381073143218, 0.000177801459875771, 0.0, 0.0, 0.0, 0.0, 0.0, 0.0, 0.0, 0.0, 0.0, 0.0, 0.0, 0.0, -0.0020225424859373685, -0.004045084971874737, -0.006067627457812106, -0.008090169943749474, -0.010112712429686843, -0.0111059558396906, 0.0, 0.0, 0.0020225424859373685, 0.004045084971874737, 0.006067627457812106, 0.008090169943749474, 0.010112712429686843, 0.0111059558396906, 0.0, 0.0, -0.0020225424859373685, -0.004045084971874737, -0.006067627457812106, -0.008090169943749474, -0.010112712429686843, -0.011105955839690597, 0.0, 0.0, 0.0020225424859373685, 0.004045084971874737, 0.006067627457812106, 0.008090169943749474, 0.010112712429686843, 0.011105955839690596, 0.0, 0.0, 0.0, 0.0, 0.0, 0.0], \"y\": [0.0, 0.0, -9.272556683029244e-05, -0.00018125221627083812, 0.0004850279474472836, 0.001010618428538291, 0.002740978625684629, 0.002762300754355901, 0.001515120610487708, 0.0020401943431563093, 0.002518909711896955, 0.002908777933330969, 0.0037298622097208774, 0.0045211279014661845, 0.0052002208717424605, 0.0058848493268390785, 0.0, 0.0, 0.0, 0.0, 0.0, 0.0, 0.0, 0.0, 0.0, 0.0, 0.0, 0.0, -1.1914159164114551e-17, -2.3828318328229102e-17, -3.574247749234365e-17, -4.7656636656458205e-17, -5.957079582057275e-17, -6.542167913094643e-17, 0.0, 0.0, -9.8900739212743e-18, -1.97801478425486e-17, -2.96702217638229e-17, -3.95602956850972e-17, -4.9450369606371495e-17, -5.4307251879577745e-17, 0.0, 0.0, 3.169430700666315e-17, 6.33886140133263e-17, 9.508292101998945e-17, 1.267772280266526e-16, 1.5847153503331575e-16, 1.740361828901019e-16, 0.0, 0.0, -5.3498540092052005e-17, -1.0699708018410401e-16, -1.6049562027615601e-16, -2.1399416036820802e-16, -2.6749270046026005e-16, -2.9376511390062607e-16, 0.0, 0.0, 0.0, 0.0, 0.0, 0.0], \"z\": [-0.03, -0.03, -0.032497901086353136, -0.034996167056344035, -0.03736763791782849, -0.03980100534851664, -0.040253020370830825, -0.04025714421513021, -0.04224112868969451, -0.04467917994510521, -0.04712409085796544, -0.049589621112287485, -0.051938536506486485, -0.054302567747063116, -0.05668384076908137, -0.05905312549938896, -0.0275, -0.025, -0.0225, -0.02, -0.0175, -0.015, -0.0125, -0.01, -0.0075, -0.005, -0.0025, 0.0, 0.0014694631307311829, 0.0029389262614623658, 0.004408389392193549, 0.0058778525229247315, 0.007347315653655915, 0.008068949231684708, 0.0025, 0.0029999999999999983, 0.004469463130731181, 0.005938926261462364, 0.007408389392193546, 0.00887785252292473, 0.010347315653655913, 0.011068949231684706, 0.005499999999999998, 0.005999999999999997, 0.00746946313073118, 0.008938926261462362, 0.010408389392193544, 0.011877852522924727, 0.013347315653655911, 0.014068949231684703, 0.008499999999999997, 0.008999999999999994, 0.010469463130731178, 0.011938926261462361, 0.013408389392193543, 0.014877852522924727, 0.01634731565365591, 0.017068949231684703, 0.011499999999999995, 0.011999999999999993, 0.014499999999999992, 0.016999999999999994, 0.019499999999999993, 0.019997730003511877]}],\n",
       "                        {\"scene\": {\"aspectmode\": \"data\"}, \"template\": {\"data\": {\"bar\": [{\"error_x\": {\"color\": \"#2a3f5f\"}, \"error_y\": {\"color\": \"#2a3f5f\"}, \"marker\": {\"line\": {\"color\": \"#E5ECF6\", \"width\": 0.5}}, \"type\": \"bar\"}], \"barpolar\": [{\"marker\": {\"line\": {\"color\": \"#E5ECF6\", \"width\": 0.5}}, \"type\": \"barpolar\"}], \"carpet\": [{\"aaxis\": {\"endlinecolor\": \"#2a3f5f\", \"gridcolor\": \"white\", \"linecolor\": \"white\", \"minorgridcolor\": \"white\", \"startlinecolor\": \"#2a3f5f\"}, \"baxis\": {\"endlinecolor\": \"#2a3f5f\", \"gridcolor\": \"white\", \"linecolor\": \"white\", \"minorgridcolor\": \"white\", \"startlinecolor\": \"#2a3f5f\"}, \"type\": \"carpet\"}], \"choropleth\": [{\"colorbar\": {\"outlinewidth\": 0, \"ticks\": \"\"}, \"type\": \"choropleth\"}], \"contour\": [{\"colorbar\": {\"outlinewidth\": 0, \"ticks\": \"\"}, \"colorscale\": [[0.0, \"#0d0887\"], [0.1111111111111111, \"#46039f\"], [0.2222222222222222, \"#7201a8\"], [0.3333333333333333, \"#9c179e\"], [0.4444444444444444, \"#bd3786\"], [0.5555555555555556, \"#d8576b\"], [0.6666666666666666, \"#ed7953\"], [0.7777777777777778, \"#fb9f3a\"], [0.8888888888888888, \"#fdca26\"], [1.0, \"#f0f921\"]], \"type\": \"contour\"}], \"contourcarpet\": [{\"colorbar\": {\"outlinewidth\": 0, \"ticks\": \"\"}, \"type\": \"contourcarpet\"}], \"heatmap\": [{\"colorbar\": {\"outlinewidth\": 0, \"ticks\": \"\"}, \"colorscale\": [[0.0, \"#0d0887\"], [0.1111111111111111, \"#46039f\"], [0.2222222222222222, \"#7201a8\"], [0.3333333333333333, \"#9c179e\"], [0.4444444444444444, \"#bd3786\"], [0.5555555555555556, \"#d8576b\"], [0.6666666666666666, \"#ed7953\"], [0.7777777777777778, \"#fb9f3a\"], [0.8888888888888888, \"#fdca26\"], [1.0, \"#f0f921\"]], \"type\": \"heatmap\"}], \"heatmapgl\": [{\"colorbar\": {\"outlinewidth\": 0, \"ticks\": \"\"}, \"colorscale\": [[0.0, \"#0d0887\"], [0.1111111111111111, \"#46039f\"], [0.2222222222222222, \"#7201a8\"], [0.3333333333333333, \"#9c179e\"], [0.4444444444444444, \"#bd3786\"], [0.5555555555555556, \"#d8576b\"], [0.6666666666666666, \"#ed7953\"], [0.7777777777777778, \"#fb9f3a\"], [0.8888888888888888, \"#fdca26\"], [1.0, \"#f0f921\"]], \"type\": \"heatmapgl\"}], \"histogram\": [{\"marker\": {\"colorbar\": {\"outlinewidth\": 0, \"ticks\": \"\"}}, \"type\": \"histogram\"}], \"histogram2d\": [{\"colorbar\": {\"outlinewidth\": 0, \"ticks\": \"\"}, \"colorscale\": [[0.0, \"#0d0887\"], [0.1111111111111111, \"#46039f\"], [0.2222222222222222, \"#7201a8\"], [0.3333333333333333, \"#9c179e\"], [0.4444444444444444, \"#bd3786\"], [0.5555555555555556, \"#d8576b\"], [0.6666666666666666, \"#ed7953\"], [0.7777777777777778, \"#fb9f3a\"], [0.8888888888888888, \"#fdca26\"], [1.0, \"#f0f921\"]], \"type\": \"histogram2d\"}], \"histogram2dcontour\": [{\"colorbar\": {\"outlinewidth\": 0, \"ticks\": \"\"}, \"colorscale\": [[0.0, \"#0d0887\"], [0.1111111111111111, \"#46039f\"], [0.2222222222222222, \"#7201a8\"], [0.3333333333333333, \"#9c179e\"], [0.4444444444444444, \"#bd3786\"], [0.5555555555555556, \"#d8576b\"], [0.6666666666666666, \"#ed7953\"], [0.7777777777777778, \"#fb9f3a\"], [0.8888888888888888, \"#fdca26\"], [1.0, \"#f0f921\"]], \"type\": \"histogram2dcontour\"}], \"mesh3d\": [{\"colorbar\": {\"outlinewidth\": 0, \"ticks\": \"\"}, \"type\": \"mesh3d\"}], \"parcoords\": [{\"line\": {\"colorbar\": {\"outlinewidth\": 0, \"ticks\": \"\"}}, \"type\": \"parcoords\"}], \"scatter\": [{\"marker\": {\"colorbar\": {\"outlinewidth\": 0, \"ticks\": \"\"}}, \"type\": \"scatter\"}], \"scatter3d\": [{\"line\": {\"colorbar\": {\"outlinewidth\": 0, \"ticks\": \"\"}}, \"marker\": {\"colorbar\": {\"outlinewidth\": 0, \"ticks\": \"\"}}, \"type\": \"scatter3d\"}], \"scattercarpet\": [{\"marker\": {\"colorbar\": {\"outlinewidth\": 0, \"ticks\": \"\"}}, \"type\": \"scattercarpet\"}], \"scattergeo\": [{\"marker\": {\"colorbar\": {\"outlinewidth\": 0, \"ticks\": \"\"}}, \"type\": \"scattergeo\"}], \"scattergl\": [{\"marker\": {\"colorbar\": {\"outlinewidth\": 0, \"ticks\": \"\"}}, \"type\": \"scattergl\"}], \"scattermapbox\": [{\"marker\": {\"colorbar\": {\"outlinewidth\": 0, \"ticks\": \"\"}}, \"type\": \"scattermapbox\"}], \"scatterpolar\": [{\"marker\": {\"colorbar\": {\"outlinewidth\": 0, \"ticks\": \"\"}}, \"type\": \"scatterpolar\"}], \"scatterpolargl\": [{\"marker\": {\"colorbar\": {\"outlinewidth\": 0, \"ticks\": \"\"}}, \"type\": \"scatterpolargl\"}], \"scatterternary\": [{\"marker\": {\"colorbar\": {\"outlinewidth\": 0, \"ticks\": \"\"}}, \"type\": \"scatterternary\"}], \"surface\": [{\"colorbar\": {\"outlinewidth\": 0, \"ticks\": \"\"}, \"colorscale\": [[0.0, \"#0d0887\"], [0.1111111111111111, \"#46039f\"], [0.2222222222222222, \"#7201a8\"], [0.3333333333333333, \"#9c179e\"], [0.4444444444444444, \"#bd3786\"], [0.5555555555555556, \"#d8576b\"], [0.6666666666666666, \"#ed7953\"], [0.7777777777777778, \"#fb9f3a\"], [0.8888888888888888, \"#fdca26\"], [1.0, \"#f0f921\"]], \"type\": \"surface\"}], \"table\": [{\"cells\": {\"fill\": {\"color\": \"#EBF0F8\"}, \"line\": {\"color\": \"white\"}}, \"header\": {\"fill\": {\"color\": \"#C8D4E3\"}, \"line\": {\"color\": \"white\"}}, \"type\": \"table\"}]}, \"layout\": {\"annotationdefaults\": {\"arrowcolor\": \"#2a3f5f\", \"arrowhead\": 0, \"arrowwidth\": 1}, \"colorscale\": {\"diverging\": [[0, \"#8e0152\"], [0.1, \"#c51b7d\"], [0.2, \"#de77ae\"], [0.3, \"#f1b6da\"], [0.4, \"#fde0ef\"], [0.5, \"#f7f7f7\"], [0.6, \"#e6f5d0\"], [0.7, \"#b8e186\"], [0.8, \"#7fbc41\"], [0.9, \"#4d9221\"], [1, \"#276419\"]], \"sequential\": [[0.0, \"#0d0887\"], [0.1111111111111111, \"#46039f\"], [0.2222222222222222, \"#7201a8\"], [0.3333333333333333, \"#9c179e\"], [0.4444444444444444, \"#bd3786\"], [0.5555555555555556, \"#d8576b\"], [0.6666666666666666, \"#ed7953\"], [0.7777777777777778, \"#fb9f3a\"], [0.8888888888888888, \"#fdca26\"], [1.0, \"#f0f921\"]], \"sequentialminus\": [[0.0, \"#0d0887\"], [0.1111111111111111, \"#46039f\"], [0.2222222222222222, \"#7201a8\"], [0.3333333333333333, \"#9c179e\"], [0.4444444444444444, \"#bd3786\"], [0.5555555555555556, \"#d8576b\"], [0.6666666666666666, \"#ed7953\"], [0.7777777777777778, \"#fb9f3a\"], [0.8888888888888888, \"#fdca26\"], [1.0, \"#f0f921\"]]}, \"colorway\": [\"#636efa\", \"#EF553B\", \"#00cc96\", \"#ab63fa\", \"#FFA15A\", \"#19d3f3\", \"#FF6692\", \"#B6E880\", \"#FF97FF\", \"#FECB52\"], \"font\": {\"color\": \"#2a3f5f\"}, \"geo\": {\"bgcolor\": \"white\", \"lakecolor\": \"white\", \"landcolor\": \"#E5ECF6\", \"showlakes\": true, \"showland\": true, \"subunitcolor\": \"white\"}, \"hoverlabel\": {\"align\": \"left\"}, \"hovermode\": \"closest\", \"mapbox\": {\"style\": \"light\"}, \"paper_bgcolor\": \"white\", \"plot_bgcolor\": \"#E5ECF6\", \"polar\": {\"angularaxis\": {\"gridcolor\": \"white\", \"linecolor\": \"white\", \"ticks\": \"\"}, \"bgcolor\": \"#E5ECF6\", \"radialaxis\": {\"gridcolor\": \"white\", \"linecolor\": \"white\", \"ticks\": \"\"}}, \"scene\": {\"xaxis\": {\"backgroundcolor\": \"#E5ECF6\", \"gridcolor\": \"white\", \"gridwidth\": 2, \"linecolor\": \"white\", \"showbackground\": true, \"ticks\": \"\", \"zerolinecolor\": \"white\"}, \"yaxis\": {\"backgroundcolor\": \"#E5ECF6\", \"gridcolor\": \"white\", \"gridwidth\": 2, \"linecolor\": \"white\", \"showbackground\": true, \"ticks\": \"\", \"zerolinecolor\": \"white\"}, \"zaxis\": {\"backgroundcolor\": \"#E5ECF6\", \"gridcolor\": \"white\", \"gridwidth\": 2, \"linecolor\": \"white\", \"showbackground\": true, \"ticks\": \"\", \"zerolinecolor\": \"white\"}}, \"shapedefaults\": {\"line\": {\"color\": \"#2a3f5f\"}}, \"ternary\": {\"aaxis\": {\"gridcolor\": \"white\", \"linecolor\": \"white\", \"ticks\": \"\"}, \"baxis\": {\"gridcolor\": \"white\", \"linecolor\": \"white\", \"ticks\": \"\"}, \"bgcolor\": \"#E5ECF6\", \"caxis\": {\"gridcolor\": \"white\", \"linecolor\": \"white\", \"ticks\": \"\"}}, \"title\": {\"x\": 0.05}, \"xaxis\": {\"automargin\": true, \"gridcolor\": \"white\", \"linecolor\": \"white\", \"ticks\": \"\", \"zerolinecolor\": \"white\", \"zerolinewidth\": 2}, \"yaxis\": {\"automargin\": true, \"gridcolor\": \"white\", \"linecolor\": \"white\", \"ticks\": \"\", \"zerolinecolor\": \"white\", \"zerolinewidth\": 2}}}},\n",
       "                        {\"responsive\": true}\n",
       "                    ).then(function(){\n",
       "                            \n",
       "var gd = document.getElementById('79f19898-a56f-4caf-8d1d-640c49960fab');\n",
       "var x = new MutationObserver(function (mutations, observer) {{\n",
       "        var display = window.getComputedStyle(gd).display;\n",
       "        if (!display || display === 'none') {{\n",
       "            console.log([gd, 'removed!']);\n",
       "            Plotly.purge(gd);\n",
       "            observer.disconnect();\n",
       "        }}\n",
       "}});\n",
       "\n",
       "// Listen for the removal of the full notebook cells\n",
       "var notebookContainer = gd.closest('#notebook-container');\n",
       "if (notebookContainer) {{\n",
       "    x.observe(notebookContainer, {childList: true});\n",
       "}}\n",
       "\n",
       "// Listen for the clearing of the current output cell\n",
       "var outputEl = gd.closest('.output');\n",
       "if (outputEl) {{\n",
       "    x.observe(outputEl, {childList: true});\n",
       "}}\n",
       "\n",
       "                        })\n",
       "                };\n",
       "                });\n",
       "            </script>\n",
       "        </div>"
      ]
     },
     "metadata": {},
     "output_type": "display_data"
    }
   ],
   "source": [
    "name = 'testXML'\n",
    "change_parameter('testXML', 'testXML', 'stem', '1', 'la', 'value','2')\n",
    "smallplant = CPlantBox(name, time, name) # make a plant object in python\n",
    "fig = visual_plant(smallplant)    \n",
    "fig.show()"
   ]
  },
  {
   "cell_type": "code",
   "execution_count": 64,
   "metadata": {},
   "outputs": [
    {
     "name": "stdout",
     "output_type": "stream",
     "text": [
      "original ln of stem organ with subtype 1 is 2, changed to 1\n"
     ]
    },
    {
     "data": {
      "application/vnd.plotly.v1+json": {
       "config": {
        "plotlyServerURL": "https://plot.ly"
       },
       "data": [
        {
         "marker": {
          "color": [
           2,
           4,
           2,
           2,
           2,
           2,
           2,
           2,
           2,
           2,
           2,
           2,
           2,
           2,
           2,
           4,
           4,
           4,
           4,
           4,
           4,
           4,
           4,
           4,
           4,
           4,
           4,
           8,
           8,
           8,
           8,
           8,
           8,
           8,
           8,
           4,
           4,
           4,
           8,
           8,
           8,
           8,
           8,
           8,
           8,
           8,
           4,
           4,
           4,
           4,
           4,
           4
          ],
          "colorscale": [
           [
            0,
            "wheat"
           ],
           [
            0.5,
            "darkgreen"
           ],
           [
            1,
            "lightgreen"
           ]
          ],
          "opacity": 0.8,
          "size": 3
         },
         "mode": "markers",
         "type": "scatter3d",
         "x": [
          0,
          0,
          -0.0002331075578206044,
          -0.0008045665707448995,
          -0.0014007665598504582,
          -0.0022380692981701024,
          -0.002798711320754779,
          -0.0030262937706626923,
          -0.003807793991088977,
          -0.004035209599270018,
          -0.004303733476329937,
          -0.004645569948563849,
          -0.004632615047520954,
          -0.004336485306713805,
          -0.00412158611976715,
          0,
          0,
          0,
          0,
          0,
          0,
          0,
          0,
          0,
          0,
          0,
          0,
          -0.0020225424859373685,
          -0.004045084971874737,
          -0.006067627457812106,
          -0.008090169943749474,
          -0.010112712429686843,
          -0.012135254915624212,
          -0.01415779740156158,
          -0.015643789100317572,
          0,
          0,
          0,
          0.0020225424859373685,
          0.004045084971874737,
          0.006067627457812106,
          0.008090169943749474,
          0.010112712429686843,
          0.012135254915624212,
          0.01415779740156158,
          0.01554971903452867,
          0,
          0,
          0,
          0,
          0,
          0
         ],
         "y": [
          0,
          0,
          -3.392379909868634e-05,
          4.733062181891673e-05,
          0.00018895668756626168,
          0.00036986603310458293,
          0.00020765397213523478,
          0.0005766776799468798,
          0.0007799217218705622,
          0.0004627202594333756,
          0.00013120226239013904,
          -0.00032581612104471476,
          -0.00032110067170518784,
          -0.00037388710286069847,
          -0.0006868290396931381,
          0,
          0,
          0,
          0,
          0,
          0,
          0,
          0,
          0,
          0,
          0,
          0,
          5.944059669848361e-17,
          1.1888119339696722e-16,
          1.7832179009545082e-16,
          2.377623867939344e-16,
          2.97202983492418e-16,
          3.5664358019090164e-16,
          4.1608417688938526e-16,
          4.597560571476201e-16,
          0,
          0,
          0,
          -8.124482978387247e-17,
          -1.6248965956774494e-16,
          -2.437344893516174e-16,
          -3.2497931913548993e-16,
          -4.0622414891936244e-16,
          -4.874689787032349e-16,
          -5.687138084871075e-16,
          -6.246268174494335e-16,
          0,
          0,
          0,
          0,
          0,
          0
         ],
         "z": [
          -0.03,
          -0.03,
          -0.03248887726542343,
          -0.03492133123531247,
          -0.03734506546795669,
          -0.03969372379412917,
          -0.03974250531260435,
          -0.04205718124534215,
          -0.04442317982203153,
          -0.04689252495250305,
          -0.04935585415199814,
          -0.05178983895545383,
          -0.05428980094218013,
          -0.056771639125723805,
          -0.05921947956971438,
          -0.0275,
          -0.025,
          -0.0225,
          -0.02,
          -0.0175,
          -0.015,
          -0.0125,
          -0.01,
          -0.0075,
          -0.005,
          -0.0025,
          0,
          0.0014694631307311829,
          0.0029389262614623658,
          0.004408389392193549,
          0.0058778525229247315,
          0.007347315653655915,
          0.008816778784387098,
          0.010286241915118281,
          0.01136587808052744,
          0.0025,
          0.005,
          0.007000000000000002,
          0.008469463130731185,
          0.009938926261462368,
          0.01140838939219355,
          0.012877852522924733,
          0.014347315653655917,
          0.0158167787843871,
          0.017286241915118284,
          0.018297532177119543,
          0.009500000000000001,
          0.012000000000000002,
          0.014500000000000002,
          0.017,
          0.019500000000000003,
          0.019997730003511877
         ]
        }
       ],
       "layout": {
        "autosize": true,
        "scene": {
         "aspectmode": "data",
         "aspectratio": {
          "x": 2.030723801079124,
          "y": 0.09548671694386897,
          "z": 5.1571074417153415
         },
         "camera": {
          "center": {
           "x": 0,
           "y": 0,
           "z": 0
          },
          "eye": {
           "x": 0.001559891810405301,
           "y": 0.009111470103847956,
           "z": 0.0038141644021352167
          },
          "projection": {
           "type": "perspective"
          },
          "up": {
           "x": 0,
           "y": 0,
           "z": 1
          }
         }
        },
        "template": {
         "data": {
          "bar": [
           {
            "error_x": {
             "color": "#2a3f5f"
            },
            "error_y": {
             "color": "#2a3f5f"
            },
            "marker": {
             "line": {
              "color": "#E5ECF6",
              "width": 0.5
             }
            },
            "type": "bar"
           }
          ],
          "barpolar": [
           {
            "marker": {
             "line": {
              "color": "#E5ECF6",
              "width": 0.5
             }
            },
            "type": "barpolar"
           }
          ],
          "carpet": [
           {
            "aaxis": {
             "endlinecolor": "#2a3f5f",
             "gridcolor": "white",
             "linecolor": "white",
             "minorgridcolor": "white",
             "startlinecolor": "#2a3f5f"
            },
            "baxis": {
             "endlinecolor": "#2a3f5f",
             "gridcolor": "white",
             "linecolor": "white",
             "minorgridcolor": "white",
             "startlinecolor": "#2a3f5f"
            },
            "type": "carpet"
           }
          ],
          "choropleth": [
           {
            "colorbar": {
             "outlinewidth": 0,
             "ticks": ""
            },
            "type": "choropleth"
           }
          ],
          "contour": [
           {
            "colorbar": {
             "outlinewidth": 0,
             "ticks": ""
            },
            "colorscale": [
             [
              0,
              "#0d0887"
             ],
             [
              0.1111111111111111,
              "#46039f"
             ],
             [
              0.2222222222222222,
              "#7201a8"
             ],
             [
              0.3333333333333333,
              "#9c179e"
             ],
             [
              0.4444444444444444,
              "#bd3786"
             ],
             [
              0.5555555555555556,
              "#d8576b"
             ],
             [
              0.6666666666666666,
              "#ed7953"
             ],
             [
              0.7777777777777778,
              "#fb9f3a"
             ],
             [
              0.8888888888888888,
              "#fdca26"
             ],
             [
              1,
              "#f0f921"
             ]
            ],
            "type": "contour"
           }
          ],
          "contourcarpet": [
           {
            "colorbar": {
             "outlinewidth": 0,
             "ticks": ""
            },
            "type": "contourcarpet"
           }
          ],
          "heatmap": [
           {
            "colorbar": {
             "outlinewidth": 0,
             "ticks": ""
            },
            "colorscale": [
             [
              0,
              "#0d0887"
             ],
             [
              0.1111111111111111,
              "#46039f"
             ],
             [
              0.2222222222222222,
              "#7201a8"
             ],
             [
              0.3333333333333333,
              "#9c179e"
             ],
             [
              0.4444444444444444,
              "#bd3786"
             ],
             [
              0.5555555555555556,
              "#d8576b"
             ],
             [
              0.6666666666666666,
              "#ed7953"
             ],
             [
              0.7777777777777778,
              "#fb9f3a"
             ],
             [
              0.8888888888888888,
              "#fdca26"
             ],
             [
              1,
              "#f0f921"
             ]
            ],
            "type": "heatmap"
           }
          ],
          "heatmapgl": [
           {
            "colorbar": {
             "outlinewidth": 0,
             "ticks": ""
            },
            "colorscale": [
             [
              0,
              "#0d0887"
             ],
             [
              0.1111111111111111,
              "#46039f"
             ],
             [
              0.2222222222222222,
              "#7201a8"
             ],
             [
              0.3333333333333333,
              "#9c179e"
             ],
             [
              0.4444444444444444,
              "#bd3786"
             ],
             [
              0.5555555555555556,
              "#d8576b"
             ],
             [
              0.6666666666666666,
              "#ed7953"
             ],
             [
              0.7777777777777778,
              "#fb9f3a"
             ],
             [
              0.8888888888888888,
              "#fdca26"
             ],
             [
              1,
              "#f0f921"
             ]
            ],
            "type": "heatmapgl"
           }
          ],
          "histogram": [
           {
            "marker": {
             "colorbar": {
              "outlinewidth": 0,
              "ticks": ""
             }
            },
            "type": "histogram"
           }
          ],
          "histogram2d": [
           {
            "colorbar": {
             "outlinewidth": 0,
             "ticks": ""
            },
            "colorscale": [
             [
              0,
              "#0d0887"
             ],
             [
              0.1111111111111111,
              "#46039f"
             ],
             [
              0.2222222222222222,
              "#7201a8"
             ],
             [
              0.3333333333333333,
              "#9c179e"
             ],
             [
              0.4444444444444444,
              "#bd3786"
             ],
             [
              0.5555555555555556,
              "#d8576b"
             ],
             [
              0.6666666666666666,
              "#ed7953"
             ],
             [
              0.7777777777777778,
              "#fb9f3a"
             ],
             [
              0.8888888888888888,
              "#fdca26"
             ],
             [
              1,
              "#f0f921"
             ]
            ],
            "type": "histogram2d"
           }
          ],
          "histogram2dcontour": [
           {
            "colorbar": {
             "outlinewidth": 0,
             "ticks": ""
            },
            "colorscale": [
             [
              0,
              "#0d0887"
             ],
             [
              0.1111111111111111,
              "#46039f"
             ],
             [
              0.2222222222222222,
              "#7201a8"
             ],
             [
              0.3333333333333333,
              "#9c179e"
             ],
             [
              0.4444444444444444,
              "#bd3786"
             ],
             [
              0.5555555555555556,
              "#d8576b"
             ],
             [
              0.6666666666666666,
              "#ed7953"
             ],
             [
              0.7777777777777778,
              "#fb9f3a"
             ],
             [
              0.8888888888888888,
              "#fdca26"
             ],
             [
              1,
              "#f0f921"
             ]
            ],
            "type": "histogram2dcontour"
           }
          ],
          "mesh3d": [
           {
            "colorbar": {
             "outlinewidth": 0,
             "ticks": ""
            },
            "type": "mesh3d"
           }
          ],
          "parcoords": [
           {
            "line": {
             "colorbar": {
              "outlinewidth": 0,
              "ticks": ""
             }
            },
            "type": "parcoords"
           }
          ],
          "scatter": [
           {
            "marker": {
             "colorbar": {
              "outlinewidth": 0,
              "ticks": ""
             }
            },
            "type": "scatter"
           }
          ],
          "scatter3d": [
           {
            "line": {
             "colorbar": {
              "outlinewidth": 0,
              "ticks": ""
             }
            },
            "marker": {
             "colorbar": {
              "outlinewidth": 0,
              "ticks": ""
             }
            },
            "type": "scatter3d"
           }
          ],
          "scattercarpet": [
           {
            "marker": {
             "colorbar": {
              "outlinewidth": 0,
              "ticks": ""
             }
            },
            "type": "scattercarpet"
           }
          ],
          "scattergeo": [
           {
            "marker": {
             "colorbar": {
              "outlinewidth": 0,
              "ticks": ""
             }
            },
            "type": "scattergeo"
           }
          ],
          "scattergl": [
           {
            "marker": {
             "colorbar": {
              "outlinewidth": 0,
              "ticks": ""
             }
            },
            "type": "scattergl"
           }
          ],
          "scattermapbox": [
           {
            "marker": {
             "colorbar": {
              "outlinewidth": 0,
              "ticks": ""
             }
            },
            "type": "scattermapbox"
           }
          ],
          "scatterpolar": [
           {
            "marker": {
             "colorbar": {
              "outlinewidth": 0,
              "ticks": ""
             }
            },
            "type": "scatterpolar"
           }
          ],
          "scatterpolargl": [
           {
            "marker": {
             "colorbar": {
              "outlinewidth": 0,
              "ticks": ""
             }
            },
            "type": "scatterpolargl"
           }
          ],
          "scatterternary": [
           {
            "marker": {
             "colorbar": {
              "outlinewidth": 0,
              "ticks": ""
             }
            },
            "type": "scatterternary"
           }
          ],
          "surface": [
           {
            "colorbar": {
             "outlinewidth": 0,
             "ticks": ""
            },
            "colorscale": [
             [
              0,
              "#0d0887"
             ],
             [
              0.1111111111111111,
              "#46039f"
             ],
             [
              0.2222222222222222,
              "#7201a8"
             ],
             [
              0.3333333333333333,
              "#9c179e"
             ],
             [
              0.4444444444444444,
              "#bd3786"
             ],
             [
              0.5555555555555556,
              "#d8576b"
             ],
             [
              0.6666666666666666,
              "#ed7953"
             ],
             [
              0.7777777777777778,
              "#fb9f3a"
             ],
             [
              0.8888888888888888,
              "#fdca26"
             ],
             [
              1,
              "#f0f921"
             ]
            ],
            "type": "surface"
           }
          ],
          "table": [
           {
            "cells": {
             "fill": {
              "color": "#EBF0F8"
             },
             "line": {
              "color": "white"
             }
            },
            "header": {
             "fill": {
              "color": "#C8D4E3"
             },
             "line": {
              "color": "white"
             }
            },
            "type": "table"
           }
          ]
         },
         "layout": {
          "annotationdefaults": {
           "arrowcolor": "#2a3f5f",
           "arrowhead": 0,
           "arrowwidth": 1
          },
          "colorscale": {
           "diverging": [
            [
             0,
             "#8e0152"
            ],
            [
             0.1,
             "#c51b7d"
            ],
            [
             0.2,
             "#de77ae"
            ],
            [
             0.3,
             "#f1b6da"
            ],
            [
             0.4,
             "#fde0ef"
            ],
            [
             0.5,
             "#f7f7f7"
            ],
            [
             0.6,
             "#e6f5d0"
            ],
            [
             0.7,
             "#b8e186"
            ],
            [
             0.8,
             "#7fbc41"
            ],
            [
             0.9,
             "#4d9221"
            ],
            [
             1,
             "#276419"
            ]
           ],
           "sequential": [
            [
             0,
             "#0d0887"
            ],
            [
             0.1111111111111111,
             "#46039f"
            ],
            [
             0.2222222222222222,
             "#7201a8"
            ],
            [
             0.3333333333333333,
             "#9c179e"
            ],
            [
             0.4444444444444444,
             "#bd3786"
            ],
            [
             0.5555555555555556,
             "#d8576b"
            ],
            [
             0.6666666666666666,
             "#ed7953"
            ],
            [
             0.7777777777777778,
             "#fb9f3a"
            ],
            [
             0.8888888888888888,
             "#fdca26"
            ],
            [
             1,
             "#f0f921"
            ]
           ],
           "sequentialminus": [
            [
             0,
             "#0d0887"
            ],
            [
             0.1111111111111111,
             "#46039f"
            ],
            [
             0.2222222222222222,
             "#7201a8"
            ],
            [
             0.3333333333333333,
             "#9c179e"
            ],
            [
             0.4444444444444444,
             "#bd3786"
            ],
            [
             0.5555555555555556,
             "#d8576b"
            ],
            [
             0.6666666666666666,
             "#ed7953"
            ],
            [
             0.7777777777777778,
             "#fb9f3a"
            ],
            [
             0.8888888888888888,
             "#fdca26"
            ],
            [
             1,
             "#f0f921"
            ]
           ]
          },
          "colorway": [
           "#636efa",
           "#EF553B",
           "#00cc96",
           "#ab63fa",
           "#FFA15A",
           "#19d3f3",
           "#FF6692",
           "#B6E880",
           "#FF97FF",
           "#FECB52"
          ],
          "font": {
           "color": "#2a3f5f"
          },
          "geo": {
           "bgcolor": "white",
           "lakecolor": "white",
           "landcolor": "#E5ECF6",
           "showlakes": true,
           "showland": true,
           "subunitcolor": "white"
          },
          "hoverlabel": {
           "align": "left"
          },
          "hovermode": "closest",
          "mapbox": {
           "style": "light"
          },
          "paper_bgcolor": "white",
          "plot_bgcolor": "#E5ECF6",
          "polar": {
           "angularaxis": {
            "gridcolor": "white",
            "linecolor": "white",
            "ticks": ""
           },
           "bgcolor": "#E5ECF6",
           "radialaxis": {
            "gridcolor": "white",
            "linecolor": "white",
            "ticks": ""
           }
          },
          "scene": {
           "xaxis": {
            "backgroundcolor": "#E5ECF6",
            "gridcolor": "white",
            "gridwidth": 2,
            "linecolor": "white",
            "showbackground": true,
            "ticks": "",
            "zerolinecolor": "white"
           },
           "yaxis": {
            "backgroundcolor": "#E5ECF6",
            "gridcolor": "white",
            "gridwidth": 2,
            "linecolor": "white",
            "showbackground": true,
            "ticks": "",
            "zerolinecolor": "white"
           },
           "zaxis": {
            "backgroundcolor": "#E5ECF6",
            "gridcolor": "white",
            "gridwidth": 2,
            "linecolor": "white",
            "showbackground": true,
            "ticks": "",
            "zerolinecolor": "white"
           }
          },
          "shapedefaults": {
           "line": {
            "color": "#2a3f5f"
           }
          },
          "ternary": {
           "aaxis": {
            "gridcolor": "white",
            "linecolor": "white",
            "ticks": ""
           },
           "baxis": {
            "gridcolor": "white",
            "linecolor": "white",
            "ticks": ""
           },
           "bgcolor": "#E5ECF6",
           "caxis": {
            "gridcolor": "white",
            "linecolor": "white",
            "ticks": ""
           }
          },
          "title": {
           "x": 0.05
          },
          "xaxis": {
           "automargin": true,
           "gridcolor": "white",
           "linecolor": "white",
           "ticks": "",
           "zerolinecolor": "white",
           "zerolinewidth": 2
          },
          "yaxis": {
           "automargin": true,
           "gridcolor": "white",
           "linecolor": "white",
           "ticks": "",
           "zerolinecolor": "white",
           "zerolinewidth": 2
          }
         }
        }
       }
      },
      "text/html": [
       "<div>\n",
       "        \n",
       "        \n",
       "            <div id=\"6787a718-f73f-4f1f-b9c9-dae2cb7a5ee9\" class=\"plotly-graph-div\" style=\"height:525px; width:100%;\"></div>\n",
       "            <script type=\"text/javascript\">\n",
       "                require([\"plotly\"], function(Plotly) {\n",
       "                    window.PLOTLYENV=window.PLOTLYENV || {};\n",
       "                    \n",
       "                if (document.getElementById(\"6787a718-f73f-4f1f-b9c9-dae2cb7a5ee9\")) {\n",
       "                    Plotly.newPlot(\n",
       "                        '6787a718-f73f-4f1f-b9c9-dae2cb7a5ee9',\n",
       "                        [{\"marker\": {\"color\": [2.0, 4.0, 2.0, 2.0, 2.0, 2.0, 2.0, 2.0, 2.0, 2.0, 2.0, 2.0, 2.0, 2.0, 2.0, 4.0, 4.0, 4.0, 4.0, 4.0, 4.0, 4.0, 4.0, 4.0, 4.0, 4.0, 4.0, 8.0, 8.0, 8.0, 8.0, 8.0, 8.0, 8.0, 8.0, 4.0, 4.0, 4.0, 8.0, 8.0, 8.0, 8.0, 8.0, 8.0, 8.0, 8.0, 4.0, 4.0, 4.0, 4.0, 4.0, 4.0], \"colorscale\": [[0, \"wheat\"], [0.5, \"darkgreen\"], [1.0, \"lightgreen\"]], \"opacity\": 0.8, \"size\": 3}, \"mode\": \"markers\", \"type\": \"scatter3d\", \"x\": [0.0, 0.0, -0.0002331075578206044, -0.0008045665707448995, -0.0014007665598504582, -0.0022380692981701024, -0.002798711320754779, -0.0030262937706626923, -0.003807793991088977, -0.004035209599270018, -0.004303733476329937, -0.004645569948563849, -0.004632615047520954, -0.004336485306713805, -0.00412158611976715, 0.0, 0.0, 0.0, 0.0, 0.0, 0.0, 0.0, 0.0, 0.0, 0.0, 0.0, 0.0, -0.0020225424859373685, -0.004045084971874737, -0.006067627457812106, -0.008090169943749474, -0.010112712429686843, -0.012135254915624212, -0.01415779740156158, -0.015643789100317572, 0.0, 0.0, 0.0, 0.0020225424859373685, 0.004045084971874737, 0.006067627457812106, 0.008090169943749474, 0.010112712429686843, 0.012135254915624212, 0.01415779740156158, 0.01554971903452867, 0.0, 0.0, 0.0, 0.0, 0.0, 0.0], \"y\": [0.0, 0.0, -3.392379909868634e-05, 4.733062181891673e-05, 0.00018895668756626168, 0.00036986603310458293, 0.00020765397213523478, 0.0005766776799468798, 0.0007799217218705622, 0.0004627202594333756, 0.00013120226239013904, -0.00032581612104471476, -0.00032110067170518784, -0.00037388710286069847, -0.0006868290396931381, 0.0, 0.0, 0.0, 0.0, 0.0, 0.0, 0.0, 0.0, 0.0, 0.0, 0.0, 0.0, 5.944059669848361e-17, 1.1888119339696722e-16, 1.7832179009545082e-16, 2.377623867939344e-16, 2.97202983492418e-16, 3.5664358019090164e-16, 4.1608417688938526e-16, 4.597560571476201e-16, 0.0, 0.0, 0.0, -8.124482978387247e-17, -1.6248965956774494e-16, -2.437344893516174e-16, -3.2497931913548993e-16, -4.0622414891936244e-16, -4.874689787032349e-16, -5.687138084871075e-16, -6.246268174494335e-16, 0.0, 0.0, 0.0, 0.0, 0.0, 0.0], \"z\": [-0.03, -0.03, -0.03248887726542343, -0.03492133123531247, -0.03734506546795669, -0.03969372379412917, -0.03974250531260435, -0.04205718124534215, -0.04442317982203153, -0.04689252495250305, -0.04935585415199814, -0.05178983895545383, -0.05428980094218013, -0.056771639125723805, -0.05921947956971438, -0.0275, -0.025, -0.0225, -0.02, -0.0175, -0.015, -0.0125, -0.01, -0.0075, -0.005, -0.0025, 0.0, 0.0014694631307311829, 0.0029389262614623658, 0.004408389392193549, 0.0058778525229247315, 0.007347315653655915, 0.008816778784387098, 0.010286241915118281, 0.01136587808052744, 0.0025, 0.005, 0.007000000000000002, 0.008469463130731185, 0.009938926261462368, 0.01140838939219355, 0.012877852522924733, 0.014347315653655917, 0.0158167787843871, 0.017286241915118284, 0.018297532177119543, 0.009500000000000001, 0.012000000000000002, 0.014500000000000002, 0.017, 0.019500000000000003, 0.019997730003511877]}],\n",
       "                        {\"scene\": {\"aspectmode\": \"data\"}, \"template\": {\"data\": {\"bar\": [{\"error_x\": {\"color\": \"#2a3f5f\"}, \"error_y\": {\"color\": \"#2a3f5f\"}, \"marker\": {\"line\": {\"color\": \"#E5ECF6\", \"width\": 0.5}}, \"type\": \"bar\"}], \"barpolar\": [{\"marker\": {\"line\": {\"color\": \"#E5ECF6\", \"width\": 0.5}}, \"type\": \"barpolar\"}], \"carpet\": [{\"aaxis\": {\"endlinecolor\": \"#2a3f5f\", \"gridcolor\": \"white\", \"linecolor\": \"white\", \"minorgridcolor\": \"white\", \"startlinecolor\": \"#2a3f5f\"}, \"baxis\": {\"endlinecolor\": \"#2a3f5f\", \"gridcolor\": \"white\", \"linecolor\": \"white\", \"minorgridcolor\": \"white\", \"startlinecolor\": \"#2a3f5f\"}, \"type\": \"carpet\"}], \"choropleth\": [{\"colorbar\": {\"outlinewidth\": 0, \"ticks\": \"\"}, \"type\": \"choropleth\"}], \"contour\": [{\"colorbar\": {\"outlinewidth\": 0, \"ticks\": \"\"}, \"colorscale\": [[0.0, \"#0d0887\"], [0.1111111111111111, \"#46039f\"], [0.2222222222222222, \"#7201a8\"], [0.3333333333333333, \"#9c179e\"], [0.4444444444444444, \"#bd3786\"], [0.5555555555555556, \"#d8576b\"], [0.6666666666666666, \"#ed7953\"], [0.7777777777777778, \"#fb9f3a\"], [0.8888888888888888, \"#fdca26\"], [1.0, \"#f0f921\"]], \"type\": \"contour\"}], \"contourcarpet\": [{\"colorbar\": {\"outlinewidth\": 0, \"ticks\": \"\"}, \"type\": \"contourcarpet\"}], \"heatmap\": [{\"colorbar\": {\"outlinewidth\": 0, \"ticks\": \"\"}, \"colorscale\": [[0.0, \"#0d0887\"], [0.1111111111111111, \"#46039f\"], [0.2222222222222222, \"#7201a8\"], [0.3333333333333333, \"#9c179e\"], [0.4444444444444444, \"#bd3786\"], [0.5555555555555556, \"#d8576b\"], [0.6666666666666666, \"#ed7953\"], [0.7777777777777778, \"#fb9f3a\"], [0.8888888888888888, \"#fdca26\"], [1.0, \"#f0f921\"]], \"type\": \"heatmap\"}], \"heatmapgl\": [{\"colorbar\": {\"outlinewidth\": 0, \"ticks\": \"\"}, \"colorscale\": [[0.0, \"#0d0887\"], [0.1111111111111111, \"#46039f\"], [0.2222222222222222, \"#7201a8\"], [0.3333333333333333, \"#9c179e\"], [0.4444444444444444, \"#bd3786\"], [0.5555555555555556, \"#d8576b\"], [0.6666666666666666, \"#ed7953\"], [0.7777777777777778, \"#fb9f3a\"], [0.8888888888888888, \"#fdca26\"], [1.0, \"#f0f921\"]], \"type\": \"heatmapgl\"}], \"histogram\": [{\"marker\": {\"colorbar\": {\"outlinewidth\": 0, \"ticks\": \"\"}}, \"type\": \"histogram\"}], \"histogram2d\": [{\"colorbar\": {\"outlinewidth\": 0, \"ticks\": \"\"}, \"colorscale\": [[0.0, \"#0d0887\"], [0.1111111111111111, \"#46039f\"], [0.2222222222222222, \"#7201a8\"], [0.3333333333333333, \"#9c179e\"], [0.4444444444444444, \"#bd3786\"], [0.5555555555555556, \"#d8576b\"], [0.6666666666666666, \"#ed7953\"], [0.7777777777777778, \"#fb9f3a\"], [0.8888888888888888, \"#fdca26\"], [1.0, \"#f0f921\"]], \"type\": \"histogram2d\"}], \"histogram2dcontour\": [{\"colorbar\": {\"outlinewidth\": 0, \"ticks\": \"\"}, \"colorscale\": [[0.0, \"#0d0887\"], [0.1111111111111111, \"#46039f\"], [0.2222222222222222, \"#7201a8\"], [0.3333333333333333, \"#9c179e\"], [0.4444444444444444, \"#bd3786\"], [0.5555555555555556, \"#d8576b\"], [0.6666666666666666, \"#ed7953\"], [0.7777777777777778, \"#fb9f3a\"], [0.8888888888888888, \"#fdca26\"], [1.0, \"#f0f921\"]], \"type\": \"histogram2dcontour\"}], \"mesh3d\": [{\"colorbar\": {\"outlinewidth\": 0, \"ticks\": \"\"}, \"type\": \"mesh3d\"}], \"parcoords\": [{\"line\": {\"colorbar\": {\"outlinewidth\": 0, \"ticks\": \"\"}}, \"type\": \"parcoords\"}], \"scatter\": [{\"marker\": {\"colorbar\": {\"outlinewidth\": 0, \"ticks\": \"\"}}, \"type\": \"scatter\"}], \"scatter3d\": [{\"line\": {\"colorbar\": {\"outlinewidth\": 0, \"ticks\": \"\"}}, \"marker\": {\"colorbar\": {\"outlinewidth\": 0, \"ticks\": \"\"}}, \"type\": \"scatter3d\"}], \"scattercarpet\": [{\"marker\": {\"colorbar\": {\"outlinewidth\": 0, \"ticks\": \"\"}}, \"type\": \"scattercarpet\"}], \"scattergeo\": [{\"marker\": {\"colorbar\": {\"outlinewidth\": 0, \"ticks\": \"\"}}, \"type\": \"scattergeo\"}], \"scattergl\": [{\"marker\": {\"colorbar\": {\"outlinewidth\": 0, \"ticks\": \"\"}}, \"type\": \"scattergl\"}], \"scattermapbox\": [{\"marker\": {\"colorbar\": {\"outlinewidth\": 0, \"ticks\": \"\"}}, \"type\": \"scattermapbox\"}], \"scatterpolar\": [{\"marker\": {\"colorbar\": {\"outlinewidth\": 0, \"ticks\": \"\"}}, \"type\": \"scatterpolar\"}], \"scatterpolargl\": [{\"marker\": {\"colorbar\": {\"outlinewidth\": 0, \"ticks\": \"\"}}, \"type\": \"scatterpolargl\"}], \"scatterternary\": [{\"marker\": {\"colorbar\": {\"outlinewidth\": 0, \"ticks\": \"\"}}, \"type\": \"scatterternary\"}], \"surface\": [{\"colorbar\": {\"outlinewidth\": 0, \"ticks\": \"\"}, \"colorscale\": [[0.0, \"#0d0887\"], [0.1111111111111111, \"#46039f\"], [0.2222222222222222, \"#7201a8\"], [0.3333333333333333, \"#9c179e\"], [0.4444444444444444, \"#bd3786\"], [0.5555555555555556, \"#d8576b\"], [0.6666666666666666, \"#ed7953\"], [0.7777777777777778, \"#fb9f3a\"], [0.8888888888888888, \"#fdca26\"], [1.0, \"#f0f921\"]], \"type\": \"surface\"}], \"table\": [{\"cells\": {\"fill\": {\"color\": \"#EBF0F8\"}, \"line\": {\"color\": \"white\"}}, \"header\": {\"fill\": {\"color\": \"#C8D4E3\"}, \"line\": {\"color\": \"white\"}}, \"type\": \"table\"}]}, \"layout\": {\"annotationdefaults\": {\"arrowcolor\": \"#2a3f5f\", \"arrowhead\": 0, \"arrowwidth\": 1}, \"colorscale\": {\"diverging\": [[0, \"#8e0152\"], [0.1, \"#c51b7d\"], [0.2, \"#de77ae\"], [0.3, \"#f1b6da\"], [0.4, \"#fde0ef\"], [0.5, \"#f7f7f7\"], [0.6, \"#e6f5d0\"], [0.7, \"#b8e186\"], [0.8, \"#7fbc41\"], [0.9, \"#4d9221\"], [1, \"#276419\"]], \"sequential\": [[0.0, \"#0d0887\"], [0.1111111111111111, \"#46039f\"], [0.2222222222222222, \"#7201a8\"], [0.3333333333333333, \"#9c179e\"], [0.4444444444444444, \"#bd3786\"], [0.5555555555555556, \"#d8576b\"], [0.6666666666666666, \"#ed7953\"], [0.7777777777777778, \"#fb9f3a\"], [0.8888888888888888, \"#fdca26\"], [1.0, \"#f0f921\"]], \"sequentialminus\": [[0.0, \"#0d0887\"], [0.1111111111111111, \"#46039f\"], [0.2222222222222222, \"#7201a8\"], [0.3333333333333333, \"#9c179e\"], [0.4444444444444444, \"#bd3786\"], [0.5555555555555556, \"#d8576b\"], [0.6666666666666666, \"#ed7953\"], [0.7777777777777778, \"#fb9f3a\"], [0.8888888888888888, \"#fdca26\"], [1.0, \"#f0f921\"]]}, \"colorway\": [\"#636efa\", \"#EF553B\", \"#00cc96\", \"#ab63fa\", \"#FFA15A\", \"#19d3f3\", \"#FF6692\", \"#B6E880\", \"#FF97FF\", \"#FECB52\"], \"font\": {\"color\": \"#2a3f5f\"}, \"geo\": {\"bgcolor\": \"white\", \"lakecolor\": \"white\", \"landcolor\": \"#E5ECF6\", \"showlakes\": true, \"showland\": true, \"subunitcolor\": \"white\"}, \"hoverlabel\": {\"align\": \"left\"}, \"hovermode\": \"closest\", \"mapbox\": {\"style\": \"light\"}, \"paper_bgcolor\": \"white\", \"plot_bgcolor\": \"#E5ECF6\", \"polar\": {\"angularaxis\": {\"gridcolor\": \"white\", \"linecolor\": \"white\", \"ticks\": \"\"}, \"bgcolor\": \"#E5ECF6\", \"radialaxis\": {\"gridcolor\": \"white\", \"linecolor\": \"white\", \"ticks\": \"\"}}, \"scene\": {\"xaxis\": {\"backgroundcolor\": \"#E5ECF6\", \"gridcolor\": \"white\", \"gridwidth\": 2, \"linecolor\": \"white\", \"showbackground\": true, \"ticks\": \"\", \"zerolinecolor\": \"white\"}, \"yaxis\": {\"backgroundcolor\": \"#E5ECF6\", \"gridcolor\": \"white\", \"gridwidth\": 2, \"linecolor\": \"white\", \"showbackground\": true, \"ticks\": \"\", \"zerolinecolor\": \"white\"}, \"zaxis\": {\"backgroundcolor\": \"#E5ECF6\", \"gridcolor\": \"white\", \"gridwidth\": 2, \"linecolor\": \"white\", \"showbackground\": true, \"ticks\": \"\", \"zerolinecolor\": \"white\"}}, \"shapedefaults\": {\"line\": {\"color\": \"#2a3f5f\"}}, \"ternary\": {\"aaxis\": {\"gridcolor\": \"white\", \"linecolor\": \"white\", \"ticks\": \"\"}, \"baxis\": {\"gridcolor\": \"white\", \"linecolor\": \"white\", \"ticks\": \"\"}, \"bgcolor\": \"#E5ECF6\", \"caxis\": {\"gridcolor\": \"white\", \"linecolor\": \"white\", \"ticks\": \"\"}}, \"title\": {\"x\": 0.05}, \"xaxis\": {\"automargin\": true, \"gridcolor\": \"white\", \"linecolor\": \"white\", \"ticks\": \"\", \"zerolinecolor\": \"white\", \"zerolinewidth\": 2}, \"yaxis\": {\"automargin\": true, \"gridcolor\": \"white\", \"linecolor\": \"white\", \"ticks\": \"\", \"zerolinecolor\": \"white\", \"zerolinewidth\": 2}}}},\n",
       "                        {\"responsive\": true}\n",
       "                    ).then(function(){\n",
       "                            \n",
       "var gd = document.getElementById('6787a718-f73f-4f1f-b9c9-dae2cb7a5ee9');\n",
       "var x = new MutationObserver(function (mutations, observer) {{\n",
       "        var display = window.getComputedStyle(gd).display;\n",
       "        if (!display || display === 'none') {{\n",
       "            console.log([gd, 'removed!']);\n",
       "            Plotly.purge(gd);\n",
       "            observer.disconnect();\n",
       "        }}\n",
       "}});\n",
       "\n",
       "// Listen for the removal of the full notebook cells\n",
       "var notebookContainer = gd.closest('#notebook-container');\n",
       "if (notebookContainer) {{\n",
       "    x.observe(notebookContainer, {childList: true});\n",
       "}}\n",
       "\n",
       "// Listen for the clearing of the current output cell\n",
       "var outputEl = gd.closest('.output');\n",
       "if (outputEl) {{\n",
       "    x.observe(outputEl, {childList: true});\n",
       "}}\n",
       "\n",
       "                        })\n",
       "                };\n",
       "                });\n",
       "            </script>\n",
       "        </div>"
      ]
     },
     "metadata": {},
     "output_type": "display_data"
    }
   ],
   "source": [
    "# in addition, the functiontype decides what branching internode distance will be\n",
    "name = 'testXML'\n",
    "change_parameter('testXML', 'testXML', 'stem', '1', 'ln', 'functiontype','1')\n",
    "smallplant = CPlantBox(name, time, name) # make a plant object in python\n",
    "fig = visual_plant(smallplant)    \n",
    "fig.show()"
   ]
  },
  {
   "cell_type": "code",
   "execution_count": 10,
   "metadata": {},
   "outputs": [
    {
     "name": "stdout",
     "output_type": "stream",
     "text": [
      "original lmax of stem organ with subtype 1 is 5, changed to 20\n",
      "original RotBeta of leaf organ with subtype 2 is 1, changed to 1\n",
      "original ln of stem organ with subtype 1 is 0, changed to 0\n",
      "original ln of stem organ with subtype 1 is 0, changed to 1\n",
      "original ln of stem organ with subtype 1 is 1, changed to 2\n",
      "original ln of stem organ with subtype 1 is 2, changed to 3\n",
      "original ln of stem organ with subtype 1 is 3, changed to 2\n",
      "original ln of stem organ with subtype 1 is 2, changed to 3\n"
     ]
    },
    {
     "data": {
      "application/vnd.plotly.v1+json": {
       "config": {
        "plotlyServerURL": "https://plot.ly"
       },
       "data": [
        {
         "marker": {
          "color": [
           2,
           4,
           2,
           2,
           2,
           2,
           2,
           2,
           2,
           2,
           2,
           2,
           2,
           2,
           2,
           2,
           2,
           2,
           2,
           2,
           2,
           2,
           4,
           4,
           4,
           4,
           4,
           4,
           4,
           4,
           4,
           4,
           4,
           4,
           8,
           8,
           8,
           8,
           8,
           8,
           8,
           8,
           4,
           4,
           4,
           8,
           8,
           8,
           8,
           8,
           8,
           8,
           8,
           4,
           4,
           4,
           8,
           8,
           8,
           8,
           8,
           8,
           8,
           8,
           4,
           4,
           4,
           8,
           8,
           8,
           8,
           8,
           8,
           8,
           8,
           4,
           4,
           4,
           8,
           8,
           8,
           8,
           8,
           8,
           8,
           8,
           4,
           4,
           4,
           8,
           8,
           8,
           8,
           8,
           8,
           8,
           8,
           4,
           4,
           4,
           8,
           8,
           8,
           8,
           8,
           8,
           8,
           8,
           4,
           4,
           4,
           8,
           8,
           8,
           8,
           8,
           8,
           8,
           8,
           4,
           4,
           4,
           8,
           8,
           8,
           8,
           8,
           8,
           8,
           8,
           4,
           4,
           4,
           8,
           8,
           8,
           8,
           8,
           8,
           8,
           8,
           4,
           4,
           4,
           8,
           8,
           8,
           8,
           8,
           8,
           8,
           8,
           4,
           4,
           4,
           8,
           8,
           8,
           8,
           8,
           8,
           8,
           8,
           4,
           4,
           4,
           8,
           8,
           8,
           8,
           8,
           8,
           8,
           8,
           4,
           4,
           4,
           8,
           8,
           8,
           8,
           8,
           8,
           8,
           8,
           4,
           4,
           4,
           8,
           8,
           8,
           8,
           8,
           8,
           8,
           8,
           4,
           4,
           4,
           8,
           8,
           8,
           8,
           8,
           8,
           8,
           8,
           4,
           4,
           4,
           8,
           8,
           8,
           8,
           8,
           8,
           8,
           8,
           4,
           4,
           4,
           8,
           8,
           8,
           8,
           8,
           8,
           8,
           8,
           4,
           4,
           4,
           8,
           8,
           8,
           8,
           8,
           8,
           8,
           8,
           4,
           4,
           4,
           8,
           8,
           8,
           8,
           8,
           8,
           8,
           8,
           4,
           4,
           4,
           8,
           8,
           8,
           8,
           8,
           8,
           8,
           8,
           4,
           4,
           4,
           8,
           8,
           8,
           8,
           8,
           8,
           8,
           8,
           4,
           4,
           4,
           8,
           8,
           8,
           8,
           8,
           8,
           8,
           8,
           4,
           4,
           4,
           8,
           8,
           8,
           8,
           8,
           8,
           8,
           8,
           4,
           4,
           4,
           8,
           8,
           8,
           8,
           8,
           8,
           8,
           8,
           4
          ],
          "colorscale": [
           [
            0,
            "wheat"
           ],
           [
            0.5,
            "darkgreen"
           ],
           [
            1,
            "lightgreen"
           ]
          ],
          "opacity": 0.8,
          "size": 3
         },
         "mode": "markers",
         "name": "functiontype 0",
         "scene": "scene",
         "type": "scatter3d",
         "x": [
          0,
          0,
          0.00010015183701639242,
          0.00019718683016467772,
          0.0005121378271136,
          0.0007444404472712836,
          -3.259496651636676e-05,
          -0.0010499600599038522,
          -0.0022794197178725856,
          -0.0032695847118308953,
          -0.004654620406325865,
          -0.006426062103431068,
          -0.008240942288067824,
          -0.009031960880310821,
          0.001035389601304115,
          0.0013381412466691427,
          0.0015346814576027799,
          0.0016428194324587047,
          0.0018768648395616962,
          0.002182053543936709,
          0.0025104478512351625,
          0.0024156048776780388,
          0,
          0,
          0,
          0,
          0,
          0,
          0,
          0,
          0,
          0,
          0,
          0,
          0.0020225424859373685,
          0.004045084971874737,
          0.006067627457812106,
          0.008090169943749474,
          0.010112712429686843,
          0.012135254915624212,
          0.01415779740156158,
          0.016180339887498948,
          0,
          0,
          0,
          -0.0020225424859373685,
          -0.004045084971874737,
          -0.006067627457812106,
          -0.008090169943749474,
          -0.010112712429686843,
          -0.012135254915624212,
          -0.01415779740156158,
          -0.016180339887498948,
          0,
          0,
          0,
          0.0020225424859373685,
          0.004045084971874737,
          0.006067627457812106,
          0.008090169943749474,
          0.010112712429686843,
          0.012135254915624212,
          0.01415779740156158,
          0.016180339887498948,
          0,
          0,
          0,
          -0.0020225424859373685,
          -0.004045084971874737,
          -0.006067627457812106,
          -0.008090169943749474,
          -0.010112712429686843,
          -0.012135254915624212,
          -0.01415779740156158,
          -0.016180339887498948,
          0,
          0,
          0,
          0.0020225424859373685,
          0.004045084971874737,
          0.006067627457812106,
          0.008090169943749474,
          0.010112712429686843,
          0.012135254915624212,
          0.01415779740156158,
          0.016180339887498948,
          0,
          0,
          0,
          -0.0020225424859373685,
          -0.004045084971874737,
          -0.006067627457812106,
          -0.008090169943749474,
          -0.010112712429686843,
          -0.012135254915624212,
          -0.01415779740156158,
          -0.016180339887498948,
          0,
          0,
          0,
          0.0020225424859373685,
          0.004045084971874737,
          0.006067627457812106,
          0.008090169943749474,
          0.010112712429686843,
          0.012135254915624212,
          0.01415779740156158,
          0.016180339887498948,
          0,
          0,
          0,
          -0.0020225424859373685,
          -0.004045084971874737,
          -0.006067627457812106,
          -0.008090169943749474,
          -0.010112712429686843,
          -0.012135254915624212,
          -0.01415779740156158,
          -0.016180339887498948,
          0,
          0,
          0,
          0.0020225424859373685,
          0.004045084971874737,
          0.006067627457812106,
          0.008090169943749474,
          0.010112712429686843,
          0.012135254915624212,
          0.01415779740156158,
          0.016180339887498948,
          0,
          0,
          0,
          -0.0020225424859373685,
          -0.004045084971874737,
          -0.006067627457812106,
          -0.008090169943749474,
          -0.010112712429686843,
          -0.012135254915624212,
          -0.01415779740156158,
          -0.016180339887498948,
          0,
          0,
          0,
          0.0020225424859373685,
          0.004045084971874737,
          0.006067627457812106,
          0.008090169943749474,
          0.010112712429686843,
          0.012135254915624212,
          0.01415779740156158,
          0.016180339887498948,
          0,
          0,
          0,
          -0.0020225424859373685,
          -0.004045084971874737,
          -0.006067627457812106,
          -0.008090169943749474,
          -0.010112712429686843,
          -0.012135254915624212,
          -0.01415779740156158,
          -0.016180339887498948,
          0,
          0,
          0,
          0.0020225424859373685,
          0.004045084971874737,
          0.006067627457812106,
          0.008090169943749474,
          0.010112712429686843,
          0.012135254915624212,
          0.01415779740156158,
          0.016180339887498948,
          0,
          0,
          0,
          -0.0020225424859373685,
          -0.004045084971874737,
          -0.006067627457812106,
          -0.008090169943749474,
          -0.010112712429686843,
          -0.012135254915624212,
          -0.01415779740156158,
          -0.016180339887498948,
          0,
          0,
          0,
          0.0020225424859373685,
          0.004045084971874737,
          0.006067627457812106,
          0.008090169943749474,
          0.010112712429686843,
          0.012135254915624212,
          0.01415779740156158,
          0.016180339887498948,
          0,
          0,
          0,
          -0.0020225424859373685,
          -0.004045084971874737,
          -0.006067627457812106,
          -0.008090169943749474,
          -0.010112712429686843,
          -0.012135254915624212,
          -0.01415779740156158,
          -0.016180339887498948,
          0,
          0,
          0,
          0.0020225424859373685,
          0.004045084971874737,
          0.006067627457812106,
          0.008090169943749474,
          0.010112712429686843,
          0.012135254915624212,
          0.01415779740156158,
          0.016180339887498948,
          0,
          0,
          0,
          -0.0020225424859373685,
          -0.004045084971874737,
          -0.006067627457812106,
          -0.008090169943749474,
          -0.010112712429686843,
          -0.012135254915624212,
          -0.01415779740156158,
          -0.016180339887498948,
          0,
          0,
          0,
          0.0020225424859373685,
          0.004045084971874737,
          0.006067627457812106,
          0.008090169943749474,
          0.010112712429686843,
          0.012135254915624212,
          0.01415779740156158,
          0.016180339887498948,
          0,
          0,
          0,
          -0.0020225424859373685,
          -0.004045084971874737,
          -0.006067627457812106,
          -0.008090169943749474,
          -0.010112712429686843,
          -0.012135254915624212,
          -0.01415779740156158,
          -0.016180339887498948,
          0,
          0,
          0,
          0.0020225424859373685,
          0.004045084971874737,
          0.006067627457812106,
          0.008090169943749474,
          0.010112712429686843,
          0.012135254915624212,
          0.01415779740156158,
          0.016180339887498948,
          0,
          0,
          0,
          -0.0020225424859373685,
          -0.004045084971874737,
          -0.006067627457812106,
          -0.008090169943749474,
          -0.010112712429686843,
          -0.012135254915624212,
          -0.01415779740156158,
          -0.016180339887498948,
          0,
          0,
          0,
          0.0020225424859373685,
          0.004045084971874737,
          0.006067627457812106,
          0.008090169943749474,
          0.010112712429686843,
          0.012135254915624212,
          0.01415779740156158,
          0.016180339887498948,
          0,
          0,
          0,
          -0.0020225424859373685,
          -0.004045084971874737,
          -0.006067627457812106,
          -0.008090169943749474,
          -0.010112712429686843,
          -0.012135254915624212,
          -0.01415779740156158,
          -0.016180339887498948,
          0,
          0,
          0,
          0.0020225424859373685,
          0.004045084971874737,
          0.006067627457812106,
          0.008090169943749474,
          0.010112712429686843,
          0.012135254915624212,
          0.01415779740156158,
          0.016180339887498948,
          0
         ],
         "y": [
          0,
          0,
          -0.00016697121932120123,
          -0.0003749478831431608,
          -0.0007210200005182968,
          -0.000987831982345281,
          0.0007499417988193891,
          0.002328881170023136,
          0.0039037417397476243,
          0.005315500256217288,
          0.00668590503492287,
          0.008257473611140825,
          0.00976360836790993,
          0.010409858582155061,
          -0.0008257139684296794,
          -0.000765998329847883,
          -0.0009090358545970644,
          -0.0012142481942126638,
          -0.00136390879982559,
          -0.001599446154935282,
          -0.0018819848427113167,
          -0.0020397903696674417,
          0,
          0,
          0,
          0,
          0,
          0,
          0,
          0,
          0,
          0,
          0,
          0,
          -1.68454250637615e-17,
          -3.3690850127523e-17,
          -5.0536275191284505e-17,
          -6.7381700255046e-17,
          -8.42271253188075e-17,
          -1.01072550382569e-16,
          -1.179179754463305e-16,
          -1.3476340051009198e-16,
          0,
          0,
          0,
          9.907600726170918e-18,
          1.9815201452341835e-17,
          2.9722802178512754e-17,
          3.963040290468367e-17,
          4.9538003630854586e-17,
          5.94456043570255e-17,
          6.935320508319641e-17,
          7.926080580936733e-17,
          0,
          0,
          0,
          -3.1711833811559763e-17,
          -6.342366762311953e-17,
          -9.513550143467929e-17,
          -1.2684733524623905e-16,
          -1.5855916905779877e-16,
          -1.902710028693585e-16,
          -2.2198283668091824e-16,
          -2.53694670492478e-16,
          0,
          0,
          0,
          -3.968047949010256e-18,
          -7.936095898020513e-18,
          -1.190414384703077e-17,
          -1.587219179604103e-17,
          -1.9840239745051285e-17,
          -2.380828769406154e-17,
          -2.77763356430718e-17,
          -3.174438359208205e-17,
          0,
          0,
          0,
          -1.7836185136378594e-17,
          -3.567237027275719e-17,
          -5.350855540913579e-17,
          -7.134474054551438e-17,
          -8.918092568189299e-17,
          -1.0701711081827159e-16,
          -1.248532959546502e-16,
          -1.426894810910288e-16,
          0,
          0,
          0,
          3.964041822176744e-17,
          7.928083644353488e-17,
          1.1892125466530233e-16,
          1.5856167288706977e-16,
          1.982020911088372e-16,
          2.378425093306046e-16,
          2.7748292755237207e-16,
          3.171233457741395e-16,
          0,
          0,
          0,
          -3.960536461197422e-18,
          -7.921072922394843e-18,
          -1.1881609383592264e-17,
          -1.5842145844789684e-17,
          -1.9802682305987102e-17,
          -2.3763218767184527e-17,
          -2.772375522838195e-17,
          -3.1684291689579374e-17,
          0,
          0,
          0,
          2.5764769546586272e-17,
          5.1529539093172544e-17,
          7.729430863975882e-17,
          1.0305907818634508e-16,
          1.2882384773293134e-16,
          1.545886172795176e-16,
          1.8035338682610386e-16,
          2.0611815637269013e-16,
          0,
          0,
          0,
          9.91511221398375e-18,
          1.98302244279675e-17,
          2.974533664195125e-17,
          3.9660448855935e-17,
          4.9575561069918753e-17,
          5.94906732839025e-17,
          6.940578549788625e-17,
          7.932089771187e-17,
          0,
          0,
          0,
          1.1889120871405098e-17,
          2.3778241742810196e-17,
          3.5667362614215296e-17,
          4.75564834856204e-17,
          5.944560435702551e-17,
          7.13347252284306e-17,
          8.32238460998357e-17,
          9.51129669712408e-17,
          0,
          0,
          0,
          -3.369335395679395e-17,
          -6.73867079135879e-17,
          -1.0108006187038186e-16,
          -1.347734158271758e-16,
          -1.6846676978396974e-16,
          -2.0216012374076371e-16,
          -2.3585347769755763e-16,
          -2.695468316543516e-16,
          0,
          0,
          0,
          -1.9865278037760733e-18,
          -3.973055607552147e-18,
          -5.959583411328221e-18,
          -7.946111215104295e-18,
          -9.932639018880367e-18,
          -1.1919166822656441e-17,
          -1.3905694626432514e-17,
          -1.5892222430208587e-17,
          0,
          0,
          0,
          -1.9817705281612778e-17,
          -3.9635410563225556e-17,
          -5.945311584483833e-17,
          -7.927082112645111e-17,
          -9.908852640806389e-17,
          -1.1890623168967669e-16,
          -1.3872393697128947e-16,
          -1.5854164225290225e-16,
          0,
          0,
          0,
          -1.5862176478957245e-17,
          -3.172435295791449e-17,
          -4.758652943687173e-17,
          -6.344870591582898e-17,
          -7.931088239478622e-17,
          -9.517305887374346e-17,
          -1.1103523535270072e-16,
          -1.2689741183165796e-16,
          0,
          0,
          0,
          -5.942056606431605e-18,
          -1.188411321286321e-17,
          -1.7826169819294817e-17,
          -2.376822642572642e-17,
          -2.971028303215803e-17,
          -3.5652339638589633e-17,
          -4.159439624502123e-17,
          -4.753645285145284e-17,
          0,
          0,
          0,
          2.7746289691820456e-17,
          5.549257938364091e-17,
          8.323886907546136e-17,
          1.1098515876728181e-16,
          1.3873144845910224e-16,
          1.664777381509227e-16,
          1.9422402784274315e-16,
          2.2197031753456357e-16,
          0,
          0,
          0,
          7.933592068749568e-18,
          1.5867184137499137e-17,
          2.3800776206248704e-17,
          3.1734368274998273e-17,
          3.966796034374784e-17,
          4.760155241249741e-17,
          5.553514448124698e-17,
          6.346873654999655e-17,
          0,
          0,
          0,
          1.3870641016639284e-17,
          2.7741282033278567e-17,
          4.161192304991785e-17,
          5.548256406655714e-17,
          6.935320508319642e-17,
          8.32238460998357e-17,
          9.709448711647498e-17,
          1.1096512813311427e-16,
          0,
          0,
          0,
          -3.567487410202813e-17,
          -7.134974820405626e-17,
          -1.070246223060844e-16,
          -1.4269949640811252e-16,
          -1.7837437051014067e-16,
          -2.140492446121688e-16,
          -2.4972411871419695e-16,
          -2.8539899281622505e-16,
          0,
          0,
          0,
          -5.0076585418900475e-21,
          -1.0015317083780095e-20,
          -1.5022975625670144e-20,
          -2.003063416756019e-20,
          -2.503829270945024e-20,
          -3.004595125134029e-20,
          -3.505360979323034e-20,
          -4.006126833512039e-20,
          0,
          0,
          0,
          -2.1799225426846962e-17,
          -4.3598450853693923e-17,
          -6.539767628054089e-17,
          -8.719690170738785e-17,
          -1.0899612713423481e-16,
          -1.3079535256108177e-16,
          -1.5259457798792876e-16,
          -1.7439380341477572e-16,
          0,
          0,
          0,
          4.360345851223581e-17,
          8.720691702447162e-17,
          1.3081037553670741e-16,
          1.7441383404894324e-16,
          2.1801729256117903e-16,
          2.6162075107341483e-16,
          3.052242095856506e-16,
          3.4882766809788637e-16,
          0,
          0,
          0,
          -7.923576751665788e-18,
          -1.5847153503331576e-17,
          -2.3770730254997362e-17,
          -3.169430700666315e-17,
          -3.961788375832894e-17,
          -4.7541460509994724e-17,
          -5.5465037261660516e-17,
          -6.33886140133263e-17,
          0,
          0,
          0,
          2.972780983705464e-17,
          5.945561967410928e-17,
          8.918342951116391e-17,
          1.1891123934821853e-16,
          1.4863904918527317e-16,
          1.783668590223278e-16,
          2.080946688593824e-16,
          2.3782247869643707e-16,
          0,
          0,
          0,
          5.952071923515385e-18,
          1.190414384703077e-17,
          1.7856215770546155e-17,
          2.380828769406154e-17,
          2.976035961757693e-17,
          3.571243154109231e-17,
          4.16645034646077e-17,
          4.761657538812308e-17,
          0
         ],
         "z": [
          -0.03,
          -0.03,
          -0.03249240651208037,
          -0.03498185020845315,
          -0.03743766778292736,
          -0.03991251057773705,
          -0.04153311486355654,
          -0.04318293871137163,
          -0.04468568391111591,
          -0.04649579749205908,
          -0.04806221597620555,
          -0.048863568909688244,
          -0.049692886707558837,
          -0.05010075033233851,
          -0.0423902245118569,
          -0.04487110650899775,
          -0.04735926088764868,
          -0.049838202517889375,
          -0.05232271946299995,
          -0.05479281703375901,
          -0.05725499677310457,
          -0.05974820800082454,
          -0.0275,
          -0.025,
          -0.0225,
          -0.02,
          -0.0175,
          -0.015,
          -0.0125,
          -0.01,
          -0.0075,
          -0.005,
          -0.0025,
          0,
          0.0014694631307311829,
          0.0029389262614623658,
          0.004408389392193549,
          0.0058778525229247315,
          0.007347315653655915,
          0.008816778784387098,
          0.010286241915118281,
          0.011755705045849465,
          0.0025,
          0.005,
          0.007000000000000002,
          0.008469463130731185,
          0.009938926261462368,
          0.01140838939219355,
          0.012877852522924733,
          0.014347315653655917,
          0.0158167787843871,
          0.017286241915118284,
          0.018755705045849468,
          0.009500000000000001,
          0.012000000000000002,
          0.014000000000000004,
          0.015469463130731187,
          0.01693892626146237,
          0.018408389392193553,
          0.019877852522924736,
          0.02134731565365592,
          0.022816778784387103,
          0.024286241915118287,
          0.02575570504584947,
          0.016500000000000004,
          0.019000000000000003,
          0.021000000000000005,
          0.02246946313073119,
          0.023938926261462372,
          0.025408389392193555,
          0.02687785252292474,
          0.028347315653655922,
          0.029816778784387106,
          0.031286241915118286,
          0.03275570504584947,
          0.023500000000000007,
          0.026000000000000006,
          0.028000000000000008,
          0.02946946313073119,
          0.030938926261462375,
          0.03240838939219356,
          0.03387785252292474,
          0.035347315653655925,
          0.036816778784387105,
          0.03828624191511829,
          0.03975570504584947,
          0.030500000000000006,
          0.03300000000000001,
          0.03500000000000001,
          0.03646946313073119,
          0.03793892626146238,
          0.03940838939219356,
          0.040877852522924744,
          0.042347315653655924,
          0.04381677878438711,
          0.04528624191511829,
          0.04675570504584948,
          0.037500000000000006,
          0.04000000000000001,
          0.04200000000000001,
          0.0434694631307312,
          0.04493892626146238,
          0.046408389392193564,
          0.047877852522924744,
          0.04934731565365593,
          0.05081677878438711,
          0.0522862419151183,
          0.05375570504584948,
          0.04450000000000001,
          0.047000000000000014,
          0.049000000000000016,
          0.050469463130731196,
          0.051938926261462376,
          0.05340838939219356,
          0.05487785252292474,
          0.05634731565365593,
          0.05781677878438711,
          0.0592862419151183,
          0.06075570504584948,
          0.05150000000000001,
          0.05400000000000001,
          0.056000000000000015,
          0.057469463130731195,
          0.05893892626146238,
          0.06040838939219356,
          0.06187785252292475,
          0.06334731565365594,
          0.06481677878438712,
          0.0662862419151183,
          0.06775570504584948,
          0.05850000000000002,
          0.06100000000000001,
          0.063,
          0.0644694631307312,
          0.06593892626146237,
          0.06740838939219355,
          0.06887785252292473,
          0.07034731565365593,
          0.07181677878438711,
          0.07328624191511829,
          0.07475570504584947,
          0.0655,
          0.068,
          0.07,
          0.07146946313073119,
          0.07293892626146237,
          0.07440838939219355,
          0.07587785252292473,
          0.07734731565365592,
          0.0788167787843871,
          0.08028624191511828,
          0.08175570504584946,
          0.0725,
          0.075,
          0.077,
          0.07846946313073118,
          0.07993892626146236,
          0.08140838939219354,
          0.08287785252292473,
          0.0843473156536559,
          0.0858167787843871,
          0.08728624191511827,
          0.08875570504584945,
          0.07949999999999999,
          0.08199999999999999,
          0.08399999999999999,
          0.08546946313073116,
          0.08693892626146235,
          0.08840838939219353,
          0.08987785252292473,
          0.09134731565365589,
          0.09281677878438709,
          0.09428624191511827,
          0.09575570504584946,
          0.08649999999999998,
          0.08899999999999998,
          0.09099999999999998,
          0.09246946313073115,
          0.09393892626146234,
          0.09540838939219352,
          0.09687785252292472,
          0.09834731565365588,
          0.09981677878438708,
          0.10128624191511826,
          0.10275570504584945,
          0.09349999999999997,
          0.09599999999999997,
          0.09799999999999998,
          0.09946946313073114,
          0.10093892626146234,
          0.10240838939219352,
          0.10387785252292471,
          0.10534731565365588,
          0.10681677878438707,
          0.10828624191511825,
          0.10975570504584944,
          0.10049999999999998,
          0.10299999999999997,
          0.10499999999999997,
          0.10646946313073113,
          0.10793892626146233,
          0.10940838939219351,
          0.1108778525229247,
          0.11234731565365587,
          0.11381677878438706,
          0.11528624191511824,
          0.11675570504584944,
          0.10749999999999997,
          0.10999999999999996,
          0.11199999999999996,
          0.11346946313073113,
          0.11493892626146232,
          0.1164083893921935,
          0.1178778525229247,
          0.11934731565365586,
          0.12081677878438705,
          0.12228624191511824,
          0.12375570504584943,
          0.11449999999999996,
          0.11699999999999995,
          0.11899999999999995,
          0.12046946313073112,
          0.12193892626146231,
          0.1234083893921935,
          0.12487785252292469,
          0.12634731565365587,
          0.12781677878438705,
          0.12928624191511823,
          0.1307557050458494,
          0.12149999999999996,
          0.12399999999999994,
          0.12599999999999995,
          0.12746946313073113,
          0.1289389262614623,
          0.13040838939219349,
          0.13187785252292467,
          0.13334731565365585,
          0.13481677878438705,
          0.1362862419151182,
          0.1377557050458494,
          0.12849999999999995,
          0.13099999999999995,
          0.13299999999999992,
          0.1344694631307311,
          0.1359389262614623,
          0.13740838939219346,
          0.13887785252292467,
          0.14034731565365585,
          0.14181677878438703,
          0.1432862419151182,
          0.1447557050458494,
          0.13549999999999993,
          0.13799999999999993,
          0.13999999999999993,
          0.1414694631307311,
          0.1429389262614623,
          0.14440838939219347,
          0.14587785252292465,
          0.14734731565365583,
          0.14881677878438704,
          0.1502862419151182,
          0.1517557050458494,
          0.14249999999999993,
          0.14499999999999993,
          0.1469999999999999,
          0.1484694631307311,
          0.1499389262614623,
          0.15140838939219348,
          0.15287785252292466,
          0.15434731565365584,
          0.15581677878438702,
          0.1572862419151182,
          0.15875570504584938,
          0.1494999999999999,
          0.1519999999999999,
          0.15399999999999991,
          0.1554694631307311,
          0.15693892626146227,
          0.15840838939219345,
          0.15987785252292464,
          0.16134731565365584,
          0.162816778784387,
          0.1642862419151182,
          0.16575570504584938,
          0.15649999999999992,
          0.15899999999999992,
          0.16099999999999992,
          0.1624694631307311,
          0.16393892626146225,
          0.16540838939219346,
          0.16687785252292464,
          0.16834731565365582,
          0.169816778784387,
          0.17128624191511818,
          0.17275570504584936,
          0.1634999999999999,
          0.1659999999999999,
          0.1679999999999999,
          0.16946946313073108,
          0.17093892626146226,
          0.17240838939219344,
          0.17387785252292465,
          0.17534731565365583,
          0.17681677878438698,
          0.1782862419151182,
          0.17975570504584937,
          0.16999999999999993
         ]
        },
        {
         "marker": {
          "color": [
           2,
           4,
           2,
           2,
           2,
           2,
           2,
           2,
           2,
           2,
           2,
           2,
           2,
           2,
           2,
           2,
           2,
           2,
           2,
           2,
           2,
           2,
           4,
           4,
           4,
           4,
           4,
           4,
           4,
           4,
           4,
           4,
           4,
           4,
           8,
           8,
           8,
           8,
           8,
           8,
           8,
           8,
           4,
           4,
           4,
           8,
           8,
           8,
           8,
           8,
           8,
           8,
           8,
           4,
           4,
           4,
           4,
           4,
           4,
           8,
           8,
           8,
           8,
           8,
           8,
           8,
           8,
           4,
           4,
           4,
           4,
           4,
           4,
           4,
           4,
           4,
           8,
           8,
           8,
           8,
           8,
           8,
           8,
           8,
           4,
           4,
           4,
           4,
           4,
           4,
           4,
           4,
           4,
           4,
           4,
           4,
           8,
           8,
           8,
           8,
           8,
           8,
           8,
           8,
           4,
           4,
           4,
           4,
           4,
           4,
           4,
           4,
           4,
           4,
           4,
           4,
           4,
           4,
           8,
           8,
           8,
           8,
           8,
           8,
           8,
           8,
           4,
           4,
           4,
           4,
           4,
           4,
           4,
           4,
           4,
           4,
           4,
           4,
           4,
           4,
           4,
           4,
           4,
           8,
           8,
           8,
           8,
           8,
           8,
           8,
           8,
           4,
           4,
           4,
           4,
           4,
           4,
           4,
           4,
           4,
           4
          ],
          "colorscale": [
           [
            0,
            "wheat"
           ],
           [
            0.5,
            "darkgreen"
           ],
           [
            1,
            "lightgreen"
           ]
          ],
          "opacity": 0.8,
          "size": 3
         },
         "mode": "markers",
         "name": "functiontype 1",
         "scene": "scene2",
         "type": "scatter3d",
         "x": [
          0,
          0,
          4.706253352657134e-05,
          7.31596501160358e-05,
          0.00010108214381368308,
          -7.629237358626745e-05,
          0.00088240583742247,
          0.00185033051913848,
          0.0029376281872271048,
          0.00393587671570635,
          0.004939940876227922,
          0.005878658528866787,
          0.006600372046312391,
          0.006989046291736631,
          -0.00017132582383116047,
          -0.0003350137518720348,
          -0.00011133362463648457,
          -5.990507589549463e-05,
          0.000249254315107487,
          0.00047737356362526697,
          0.0006694089031770383,
          0.0005316921718313769,
          0,
          0,
          0,
          0,
          0,
          0,
          0,
          0,
          0,
          0,
          0,
          0,
          -0.0020225424859373685,
          -0.004045084971874737,
          -0.006067627457812106,
          -0.008090169943749474,
          -0.010112712429686843,
          -0.012135254915624212,
          -0.01415779740156158,
          -0.016180339887498948,
          0,
          0,
          0,
          0.0020225424859373685,
          0.004045084971874737,
          0.006067627457812106,
          0.008090169943749474,
          0.010112712429686843,
          0.012135254915624212,
          0.01415779740156158,
          0.016180339887498948,
          0,
          0,
          0,
          0,
          0,
          0,
          -0.0020225424859373685,
          -0.004045084971874737,
          -0.006067627457812106,
          -0.008090169943749474,
          -0.010112712429686843,
          -0.012135254915624212,
          -0.01415779740156158,
          -0.016180339887498948,
          0,
          0,
          0,
          0,
          0,
          0,
          0,
          0,
          0,
          0.0020225424859373685,
          0.004045084971874737,
          0.006067627457812106,
          0.008090169943749474,
          0.010112712429686843,
          0.012135254915624212,
          0.01415779740156158,
          0.016180339887498948,
          0,
          0,
          0,
          0,
          0,
          0,
          0,
          0,
          0,
          0,
          0,
          0,
          -0.0020225424859373685,
          -0.004045084971874737,
          -0.006067627457812106,
          -0.008090169943749474,
          -0.010112712429686843,
          -0.012135254915624212,
          -0.01415779740156158,
          -0.016180339887498948,
          0,
          0,
          0,
          0,
          0,
          0,
          0,
          0,
          0,
          0,
          0,
          0,
          0,
          0,
          0.0020225424859373685,
          0.004045084971874737,
          0.006067627457812106,
          0.008090169943749474,
          0.010112712429686843,
          0.012135254915624212,
          0.01415779740156158,
          0.016180339887498948,
          0,
          0,
          0,
          0,
          0,
          0,
          0,
          0,
          0,
          0,
          0,
          0,
          0,
          0,
          0,
          0,
          0,
          -0.0020225424859373685,
          -0.004045084971874737,
          -0.006067627457812106,
          -0.008090169943749474,
          -0.010112712429686843,
          -0.012135254915624212,
          -0.01415779740156158,
          -0.016180339887498948,
          0,
          0,
          0,
          0,
          0,
          0,
          0,
          0,
          0,
          0
         ],
         "y": [
          0,
          0,
          -2.1149276023311653e-05,
          -2.730355352117874e-05,
          -3.8106323741237266e-05,
          -9.072391461196344e-05,
          0.0020022192770342557,
          0.0040854134546496786,
          0.006090598067323238,
          0.008135417090409974,
          0.010304147486390532,
          0.01242645386811727,
          0.014694139755946037,
          0.01564718627048358,
          5.9633787381172323e-05,
          0.00023324722145988755,
          0.0004079402582908252,
          0.000725604462433398,
          0.001166782754858617,
          0.0016275435598585776,
          0.002055073188220828,
          0.002736842725162642,
          0,
          0,
          0,
          0,
          0,
          0,
          0,
          0,
          0,
          0,
          0,
          0,
          1.5852161161873464e-17,
          3.170432232374693e-17,
          4.75564834856204e-17,
          6.340864464749387e-17,
          7.926080580936734e-17,
          9.51129669712408e-17,
          1.1096512813311427e-16,
          1.2681728929498771e-16,
          0,
          0,
          0,
          -3.765639424726232e-17,
          -7.531278849452464e-17,
          -1.1296918274178694e-16,
          -1.5062557698904927e-16,
          -1.8828197123631158e-16,
          -2.259383654835739e-16,
          -2.635947597308362e-16,
          -3.0125115397809854e-16,
          0,
          0,
          0,
          0,
          0,
          0,
          1.9765124866922935e-18,
          3.953024973384587e-18,
          5.92953746007688e-18,
          7.906049946769173e-18,
          9.882562433461465e-18,
          1.1859074920153758e-17,
          1.383558740684605e-17,
          1.5812099893538342e-17,
          0,
          0,
          0,
          0,
          0,
          0,
          0,
          0,
          0,
          -2.3780745572081142e-17,
          -4.7561491144162285e-17,
          -7.134223671624343e-17,
          -9.512298228832456e-17,
          -1.1890372786040569e-16,
          -1.4268447343248685e-16,
          -1.66465219004568e-16,
          -1.9024596457664914e-16,
          0,
          0,
          0,
          0,
          0,
          0,
          0,
          0,
          0,
          0,
          0,
          0,
          -1.1899136188488879e-17,
          -2.3798272376977758e-17,
          -3.5697408565466635e-17,
          -4.759654475395552e-17,
          -5.94956809424444e-17,
          -7.13948171309333e-17,
          -8.329395331942217e-17,
          -9.519308950791106e-17,
          0,
          0,
          0,
          0,
          0,
          0,
          0,
          0,
          0,
          0,
          0,
          0,
          0,
          0,
          -9.905096896899973e-18,
          -1.9810193793799946e-17,
          -2.971529069069992e-17,
          -3.96203875875999e-17,
          -4.952548448449988e-17,
          -5.943058138139985e-17,
          -6.933567827829983e-17,
          -7.924077517519981e-17,
          0,
          0,
          0,
          0,
          0,
          0,
          0,
          0,
          0,
          0,
          0,
          0,
          0,
          0,
          0,
          0,
          0,
          3.1709329982288827e-17,
          6.341865996457765e-17,
          9.512798994686648e-17,
          1.268373199291553e-16,
          1.5854664991144415e-16,
          1.9025597989373298e-16,
          2.2196530987602182e-16,
          2.5367463985831066e-16,
          0,
          0,
          0,
          0,
          0,
          0,
          0,
          0,
          0,
          0
         ],
         "z": [
          -0.03,
          -0.03,
          -0.03249946750850291,
          -0.034999323717442576,
          -0.037499144437914605,
          -0.03999228897237467,
          -0.04096721796299419,
          -0.041953840397806086,
          -0.042977079592748414,
          -0.04401255776162096,
          -0.04474635857322186,
          -0.04567621059946375,
          -0.046442193832229674,
          -0.04682959459796301,
          -0.04248595318489124,
          -0.04497454006055403,
          -0.04745837772504877,
          -0.04993758012860134,
          -0.05237884664114097,
          -0.05482540771518582,
          -0.05728108294722194,
          -0.05968237934717044,
          -0.0275,
          -0.025,
          -0.0225,
          -0.02,
          -0.0175,
          -0.015,
          -0.0125,
          -0.01,
          -0.0075,
          -0.005,
          -0.0025,
          0,
          0.0014694631307311829,
          0.0029389262614623658,
          0.004408389392193549,
          0.0058778525229247315,
          0.007347315653655915,
          0.008816778784387098,
          0.010286241915118281,
          0.011755705045849465,
          0.0025,
          0.005,
          0.007000000000000002,
          0.008469463130731185,
          0.009938926261462368,
          0.01140838939219355,
          0.012877852522924733,
          0.014347315653655917,
          0.0158167787843871,
          0.017286241915118284,
          0.018755705045849468,
          0.009500000000000001,
          0.012000000000000002,
          0.014500000000000002,
          0.017,
          0.019500000000000003,
          0.020999999999999998,
          0.02246946313073118,
          0.023938926261462365,
          0.025408389392193545,
          0.02687785252292473,
          0.028347315653655912,
          0.029816778784387096,
          0.03128624191511828,
          0.032755705045849466,
          0.023499999999999997,
          0.025999999999999995,
          0.028499999999999998,
          0.030999999999999996,
          0.033499999999999995,
          0.036,
          0.0385,
          0.040999999999999995,
          0.041999999999999996,
          0.043469463130731176,
          0.04493892626146236,
          0.04640838939219354,
          0.04787785252292473,
          0.04934731565365591,
          0.05081677878438709,
          0.05228624191511828,
          0.05375570504584946,
          0.04449999999999999,
          0.04699999999999999,
          0.049499999999999995,
          0.05199999999999999,
          0.05449999999999999,
          0.056999999999999995,
          0.05949999999999999,
          0.06199999999999999,
          0.06449999999999999,
          0.06699999999999999,
          0.06949999999999999,
          0.07,
          0.07146946313073119,
          0.07293892626146237,
          0.07440838939219355,
          0.07587785252292473,
          0.07734731565365592,
          0.0788167787843871,
          0.08028624191511828,
          0.08175570504584946,
          0.0725,
          0.075,
          0.0775,
          0.08,
          0.0825,
          0.085,
          0.0875,
          0.09,
          0.0925,
          0.095,
          0.0975,
          0.1,
          0.1025,
          0.105,
          0.10646946313073118,
          0.10793892626146237,
          0.10940838939219354,
          0.11087785252292473,
          0.11234731565365591,
          0.1138167787843871,
          0.11528624191511827,
          0.11675570504584946,
          0.1075,
          0.11,
          0.1125,
          0.115,
          0.1175,
          0.12,
          0.1225,
          0.125,
          0.1275,
          0.13,
          0.1325,
          0.135,
          0.1375,
          0.14,
          0.1425,
          0.145,
          0.147,
          0.14846946313073117,
          0.14993892626146235,
          0.15140838939219353,
          0.15287785252292474,
          0.1543473156536559,
          0.1558167787843871,
          0.15728624191511828,
          0.15875570504584946,
          0.1495,
          0.152,
          0.1545,
          0.157,
          0.1595,
          0.162,
          0.16449999999999998,
          0.16699999999999998,
          0.16949999999999998,
          0.16999999999999985
         ]
        },
        {
         "marker": {
          "color": [
           2,
           4,
           2,
           2,
           2,
           2,
           2,
           2,
           2,
           2,
           2,
           2,
           2,
           2,
           2,
           2,
           2,
           2,
           2,
           2,
           2,
           2,
           4,
           4,
           4,
           4,
           4,
           4,
           4,
           4,
           4,
           4,
           4,
           4,
           8,
           8,
           8,
           8,
           8,
           8,
           8,
           8,
           8,
           8,
           8,
           8,
           8,
           8,
           8,
           8,
           4,
           4,
           4,
           4,
           4,
           4,
           4,
           4,
           4,
           4,
           4,
           4,
           4,
           4,
           4,
           4,
           4,
           4,
           4,
           4,
           4,
           4,
           4,
           4,
           4,
           4,
           4,
           4,
           4,
           4,
           8,
           8,
           8,
           8,
           8,
           8,
           8,
           8,
           8,
           8,
           8,
           8,
           8,
           8,
           8,
           8,
           4,
           4,
           4,
           4,
           4,
           4,
           4,
           4,
           4,
           4,
           4,
           4,
           4,
           4,
           4,
           4,
           4,
           4,
           4,
           4,
           4,
           4,
           4,
           4,
           4,
           4,
           4,
           4,
           4,
           4,
           4,
           4,
           4,
           4,
           4,
           4,
           4,
           4,
           4,
           4,
           4
          ],
          "colorscale": [
           [
            0,
            "wheat"
           ],
           [
            0.5,
            "darkgreen"
           ],
           [
            1,
            "lightgreen"
           ]
          ],
          "opacity": 0.8,
          "size": 3
         },
         "mode": "markers",
         "name": "functiontype 2",
         "scene": "scene3",
         "type": "scatter3d",
         "x": [
          0,
          0,
          0.00026440083559334466,
          0.00042892188349600733,
          0.0003473992240418585,
          0.00029120989783885584,
          -0.002078241700122181,
          -0.00445375050531043,
          -0.006852437628357761,
          -0.008919412317655397,
          -0.01113443170737794,
          -0.013511662351932305,
          -0.01593777211748001,
          -0.01699658572049943,
          0.00048758471633126633,
          0.0004894917405267046,
          0.0004905628238346119,
          0.0003412638394465717,
          0.00010713172606386271,
          0.0004173554462365963,
          0.0002776316850432405,
          0.0001775196467707279,
          0,
          0,
          0,
          0,
          0,
          0,
          0,
          0,
          0,
          0,
          0,
          0,
          0.0020225424859373685,
          0.004045084971874737,
          0.006067627457812106,
          0.008090169943749474,
          0.010112712429686843,
          0.012135254915624212,
          0.01415779740156158,
          0.016180339887498948,
          -0.0020225424859373685,
          -0.004045084971874737,
          -0.006067627457812106,
          -0.008090169943749474,
          -0.010112712429686843,
          -0.012135254915624212,
          -0.01415779740156158,
          -0.016180339887498948,
          0,
          0,
          0,
          0,
          0,
          0,
          0,
          0,
          0,
          0,
          0,
          0,
          0,
          0,
          0,
          0,
          0,
          0,
          0,
          0,
          0,
          0,
          0,
          0,
          0,
          0,
          0,
          0,
          0,
          0,
          0.0020225424859373685,
          0.004045084971874737,
          0.006067627457812106,
          0.008090169943749474,
          0.010112712429686843,
          0.012135254915624212,
          0.01415779740156158,
          0.016180339887498948,
          -0.0020225424859373685,
          -0.004045084971874737,
          -0.006067627457812106,
          -0.008090169943749474,
          -0.010112712429686843,
          -0.012135254915624212,
          -0.01415779740156158,
          -0.016180339887498948,
          0,
          0,
          0,
          0,
          0,
          0,
          0,
          0,
          0,
          0,
          0,
          0,
          0,
          0,
          0,
          0,
          0,
          0,
          0,
          0,
          0,
          0,
          0,
          0,
          0,
          0,
          0,
          0,
          0,
          0,
          0,
          0,
          0,
          0,
          0,
          0,
          0,
          0,
          0,
          0,
          0
         ],
         "y": [
          0,
          0,
          4.171830907469182e-05,
          3.6678435811979966e-05,
          5.997261987580141e-05,
          6.626141295612628e-05,
          0.0006461210177639912,
          0.0012600267934551412,
          0.0018963775843253061,
          0.003195838786781462,
          0.0043488274504317245,
          0.005114047930159276,
          0.005716923859950346,
          0.00600737534200522,
          0.0002764011801820701,
          0.00012438016471123125,
          -3.0244296427196314e-05,
          -8.347395476006665e-05,
          -0.00012361854785734123,
          -0.00014097420345436835,
          -0.0002101225667436912,
          -0.0004849501128968428,
          0,
          0,
          0,
          0,
          0,
          0,
          0,
          0,
          0,
          0,
          0,
          0,
          3.970551778281201e-18,
          7.941103556562401e-18,
          1.1911655334843604e-17,
          1.5882207113124806e-17,
          1.9852758891406008e-17,
          2.382331066968721e-17,
          2.7793862447968416e-17,
          3.176441422624962e-17,
          1.7833681307107648e-17,
          3.5667362614215296e-17,
          5.350104392132295e-17,
          7.13347252284306e-17,
          8.916840653553827e-17,
          1.0700208784264593e-16,
          1.2483576914975358e-16,
          1.4266945045686126e-16,
          0,
          0,
          0,
          0,
          0,
          0,
          0,
          0,
          0,
          0,
          0,
          0,
          0,
          0,
          0,
          0,
          0,
          0,
          0,
          0,
          0,
          0,
          0,
          0,
          0,
          0,
          0,
          0,
          0,
          0,
          -3.96379143924965e-17,
          -7.9275828784993e-17,
          -1.189137431774895e-16,
          -1.58551657569986e-16,
          -1.981895719624825e-16,
          -2.37827486354979e-16,
          -2.774654007474755e-16,
          -3.17103315139972e-16,
          3.9580326319264766e-18,
          7.916065263852953e-18,
          1.187409789577943e-17,
          1.5832130527705906e-17,
          1.979016315963238e-17,
          2.3748195791558855e-17,
          2.770622842348533e-17,
          3.1664261055411806e-17,
          0,
          0,
          0,
          0,
          0,
          0,
          0,
          0,
          0,
          0,
          0,
          0,
          0,
          0,
          0,
          0,
          0,
          0,
          0,
          0,
          0,
          0,
          0,
          0,
          0,
          0,
          0,
          0,
          0,
          0,
          0,
          0,
          0,
          0,
          0,
          0,
          0,
          0,
          0,
          0,
          0
         ],
         "z": [
          -0.03,
          -0.03,
          -0.032485629051331975,
          -0.03498020465140396,
          -0.037478766525159406,
          -0.039978127085523285,
          -0.04052535826485425,
          -0.04100502232963933,
          -0.04130727678648957,
          -0.041844879071747124,
          -0.04196448778650974,
          -0.04207943159885809,
          -0.042102497131425345,
          -0.042169205208317254,
          -0.04246152761884293,
          -0.04495690053167859,
          -0.04745211397521367,
          -0.049947084198830476,
          -0.05243577272195425,
          -0.05491638958569218,
          -0.057411524005801115,
          -0.059894354527538024,
          -0.0275,
          -0.025,
          -0.0225,
          -0.02,
          -0.0175,
          -0.015,
          -0.0125,
          -0.01,
          -0.0075,
          -0.005,
          -0.0025,
          0,
          0.0014694631307311829,
          0.0029389262614623658,
          0.004408389392193549,
          0.0058778525229247315,
          0.007347315653655915,
          0.008816778784387098,
          0.010286241915118281,
          0.011755705045849465,
          0.0014694631307311829,
          0.0029389262614623658,
          0.004408389392193549,
          0.0058778525229247315,
          0.007347315653655915,
          0.008816778784387098,
          0.010286241915118281,
          0.011755705045849465,
          0.0025,
          0.005,
          0.007000000000000002,
          0.009500000000000001,
          0.012000000000000002,
          0.014500000000000002,
          0.017,
          0.019500000000000003,
          0.020999999999999998,
          0.023499999999999997,
          0.025999999999999995,
          0.028499999999999998,
          0.030999999999999996,
          0.033499999999999995,
          0.036,
          0.0385,
          0.040999999999999995,
          0.041999999999999996,
          0.04449999999999999,
          0.04699999999999999,
          0.049499999999999995,
          0.05199999999999999,
          0.05449999999999999,
          0.056999999999999995,
          0.05949999999999999,
          0.06199999999999999,
          0.06449999999999999,
          0.06699999999999999,
          0.06949999999999999,
          0.07,
          0.07146946313073119,
          0.07293892626146237,
          0.07440838939219355,
          0.07587785252292473,
          0.07734731565365592,
          0.0788167787843871,
          0.08028624191511828,
          0.08175570504584946,
          0.07146946313073119,
          0.07293892626146237,
          0.07440838939219355,
          0.07587785252292473,
          0.07734731565365592,
          0.0788167787843871,
          0.08028624191511828,
          0.08175570504584946,
          0.0725,
          0.075,
          0.0775,
          0.08,
          0.0825,
          0.085,
          0.0875,
          0.09,
          0.0925,
          0.095,
          0.0975,
          0.1,
          0.1025,
          0.105,
          0.1075,
          0.11,
          0.1125,
          0.115,
          0.1175,
          0.12,
          0.1225,
          0.125,
          0.1275,
          0.13,
          0.1325,
          0.135,
          0.1375,
          0.14,
          0.1425,
          0.145,
          0.147,
          0.1495,
          0.152,
          0.1545,
          0.157,
          0.1595,
          0.162,
          0.16449999999999998,
          0.16699999999999998,
          0.16949999999999998,
          0.16999999999999985
         ]
        },
        {
         "marker": {
          "color": [
           2,
           4,
           2,
           2,
           2,
           2,
           2,
           2,
           2,
           2,
           2,
           2,
           2,
           2,
           2,
           2,
           2,
           2,
           2,
           2,
           2,
           2,
           4,
           4,
           4,
           4,
           4,
           4,
           4,
           4,
           4,
           4,
           4,
           4,
           8,
           8,
           8,
           8,
           8,
           8,
           8,
           8,
           8,
           8,
           8,
           8,
           8,
           8,
           8,
           8,
           4,
           4,
           4,
           4,
           4,
           4,
           4,
           4,
           4,
           4,
           4,
           4,
           8,
           8,
           8,
           8,
           8,
           8,
           8,
           8,
           8,
           8,
           8,
           8,
           8,
           8,
           8,
           8,
           4,
           4,
           4,
           4,
           4,
           4,
           4,
           4,
           4,
           4,
           4,
           4,
           8,
           8,
           8,
           8,
           8,
           8,
           8,
           8,
           8,
           8,
           8,
           8,
           8,
           8,
           8,
           8,
           4,
           4,
           4,
           4,
           4,
           4,
           4,
           4,
           4,
           4,
           4,
           4,
           8,
           8,
           8,
           8,
           8,
           8,
           8,
           8,
           8,
           8,
           8,
           8,
           8,
           8,
           8,
           8,
           4,
           4,
           4,
           4,
           4,
           4,
           4,
           4,
           4,
           4,
           4,
           4,
           8,
           8,
           8,
           8,
           8,
           8,
           8,
           8,
           8,
           8,
           8,
           8,
           8,
           8,
           8,
           8,
           4,
           4,
           4,
           4,
           4,
           4,
           4,
           4,
           4,
           4,
           4,
           4,
           8,
           8,
           8,
           8,
           8,
           8,
           8,
           8,
           8,
           8,
           8,
           8,
           8,
           8,
           8,
           8,
           4,
           4,
           4,
           4,
           4,
           4,
           4,
           4,
           4,
           4,
           4,
           4,
           8,
           8,
           8,
           8,
           8,
           8,
           8,
           8,
           8,
           8,
           8,
           8,
           8,
           8,
           8,
           8,
           4
          ],
          "colorscale": [
           [
            0,
            "wheat"
           ],
           [
            0.5,
            "darkgreen"
           ],
           [
            1,
            "lightgreen"
           ]
          ],
          "opacity": 0.8,
          "size": 3
         },
         "mode": "markers",
         "name": "functiontype 3",
         "scene": "scene4",
         "type": "scatter3d",
         "x": [
          0,
          0,
          -2.2614238513951347e-05,
          5.120045390756776e-05,
          0.0001870465469976388,
          0.0003367956506524249,
          -0.0010025005474760121,
          -0.0021339908876952733,
          -0.0033778982508842086,
          -0.004783443640220113,
          -0.005818395536812638,
          -0.006943383438912669,
          -0.008143774917321399,
          -0.008794405820963618,
          0.0004813428003606733,
          0.0006012099313388671,
          0.00047288154333565704,
          0.00043595773493409367,
          0.0005256399536339745,
          0.000692116204769428,
          0.0008583327503494179,
          0.0011195467913737143,
          0,
          0,
          0,
          0,
          0,
          0,
          0,
          0,
          0,
          0,
          0,
          0,
          0.0020225424859373685,
          0.004045084971874737,
          0.006067627457812106,
          0.008090169943749474,
          0.010112712429686843,
          0.012135254915624212,
          0.01415779740156158,
          0.016180339887498948,
          -0.0020225424859373685,
          -0.004045084971874737,
          -0.006067627457812106,
          -0.008090169943749474,
          -0.010112712429686843,
          -0.012135254915624212,
          -0.01415779740156158,
          -0.016180339887498948,
          0,
          0,
          0,
          0,
          0,
          0,
          0,
          0,
          0,
          0,
          0,
          0,
          0.0020225424859373685,
          0.004045084971874737,
          0.006067627457812106,
          0.008090169943749474,
          0.010112712429686843,
          0.012135254915624212,
          0.01415779740156158,
          0.016180339887498948,
          -0.0020225424859373685,
          -0.004045084971874737,
          -0.006067627457812106,
          -0.008090169943749474,
          -0.010112712429686843,
          -0.012135254915624212,
          -0.01415779740156158,
          -0.016180339887498948,
          0,
          0,
          0,
          0,
          0,
          0,
          0,
          0,
          0,
          0,
          0,
          0,
          0.0020225424859373685,
          0.004045084971874737,
          0.006067627457812106,
          0.008090169943749474,
          0.010112712429686843,
          0.012135254915624212,
          0.01415779740156158,
          0.016180339887498948,
          -0.0020225424859373685,
          -0.004045084971874737,
          -0.006067627457812106,
          -0.008090169943749474,
          -0.010112712429686843,
          -0.012135254915624212,
          -0.01415779740156158,
          -0.016180339887498948,
          0,
          0,
          0,
          0,
          0,
          0,
          0,
          0,
          0,
          0,
          0,
          0,
          0.0020225424859373685,
          0.004045084971874737,
          0.006067627457812106,
          0.008090169943749474,
          0.010112712429686843,
          0.012135254915624212,
          0.01415779740156158,
          0.016180339887498948,
          -0.0020225424859373685,
          -0.004045084971874737,
          -0.006067627457812106,
          -0.008090169943749474,
          -0.010112712429686843,
          -0.012135254915624212,
          -0.01415779740156158,
          -0.016180339887498948,
          0,
          0,
          0,
          0,
          0,
          0,
          0,
          0,
          0,
          0,
          0,
          0,
          0.0020225424859373685,
          0.004045084971874737,
          0.006067627457812106,
          0.008090169943749474,
          0.010112712429686843,
          0.012135254915624212,
          0.01415779740156158,
          0.016180339887498948,
          -0.0020225424859373685,
          -0.004045084971874737,
          -0.006067627457812106,
          -0.008090169943749474,
          -0.010112712429686843,
          -0.012135254915624212,
          -0.01415779740156158,
          -0.016180339887498948,
          0,
          0,
          0,
          0,
          0,
          0,
          0,
          0,
          0,
          0,
          0,
          0,
          0.0020225424859373685,
          0.004045084971874737,
          0.006067627457812106,
          0.008090169943749474,
          0.010112712429686843,
          0.012135254915624212,
          0.01415779740156158,
          0.016180339887498948,
          -0.0020225424859373685,
          -0.004045084971874737,
          -0.006067627457812106,
          -0.008090169943749474,
          -0.010112712429686843,
          -0.012135254915624212,
          -0.01415779740156158,
          -0.016180339887498948,
          0,
          0,
          0,
          0,
          0,
          0,
          0,
          0,
          0,
          0,
          0,
          0,
          0.0020225424859373685,
          0.004045084971874737,
          0.006067627457812106,
          0.008090169943749474,
          0.010112712429686843,
          0.012135254915624212,
          0.01415779740156158,
          0.016180339887498948,
          -0.0020225424859373685,
          -0.004045084971874737,
          -0.006067627457812106,
          -0.008090169943749474,
          -0.010112712429686843,
          -0.012135254915624212,
          -0.01415779740156158,
          -0.016180339887498948,
          0
         ],
         "y": [
          0,
          0,
          -7.748675346272339e-05,
          -0.00035433813432805063,
          -0.0005859521467732284,
          -0.0006282513986588613,
          0.00038109703361863506,
          0.0016263724200259366,
          0.0028112328457437622,
          0.0037663203747915334,
          0.005707349438503677,
          0.007711015092141393,
          0.009718178763893928,
          0.010548785494254496,
          -0.0006322084986977251,
          -0.0006451443789297813,
          -0.0007608739022938447,
          -0.0008951660020404212,
          -0.0007981039731275008,
          -0.0008189779440123665,
          -0.000842549032120645,
          -0.0008781485437611481,
          0,
          0,
          0,
          0,
          0,
          0,
          0,
          0,
          0,
          0,
          0,
          0,
          -2.5762265717315326e-17,
          -5.152453143463065e-17,
          -7.728679715194597e-17,
          -1.0304906286926129e-16,
          -1.2881132858657662e-16,
          -1.5457359430389194e-16,
          -1.8033586002120729e-16,
          -2.060981257385226e-16,
          4.756649880270418e-17,
          9.513299760540837e-17,
          1.4269949640811252e-16,
          1.9026599521081668e-16,
          2.3783249401352086e-16,
          2.85398992816225e-16,
          3.329654916189292e-16,
          3.805319904216333e-16,
          0,
          0,
          0,
          0,
          0,
          0,
          0,
          0,
          0,
          0,
          0,
          0,
          -1.1886617042134155e-17,
          -2.377323408426831e-17,
          -3.565985112640247e-17,
          -4.754646816853663e-17,
          -5.943308521067079e-17,
          -7.131970225280495e-17,
          -8.320631929493912e-17,
          -9.509293633707329e-17,
          3.3690850127523e-17,
          6.7381700255046e-17,
          1.0107255038256901e-16,
          1.34763400510092e-16,
          1.68454250637615e-16,
          2.02145100765138e-16,
          2.35835950892661e-16,
          2.6952680102018396e-16,
          0,
          0,
          0,
          0,
          0,
          0,
          0,
          0,
          0,
          0,
          0,
          0,
          1.9890316330470185e-18,
          3.978063266094037e-18,
          5.9670948991410554e-18,
          7.956126532188074e-18,
          9.945158165235094e-18,
          1.1934189798282111e-17,
          1.392322143132913e-17,
          1.5912253064376148e-17,
          1.9815201452341835e-17,
          3.963040290468367e-17,
          5.944560435702551e-17,
          7.926080580936734e-17,
          9.907600726170917e-17,
          1.18891208714051e-16,
          1.3870641016639282e-16,
          1.5852161161873466e-16,
          0,
          0,
          0,
          0,
          0,
          0,
          0,
          0,
          0,
          0,
          0,
          0,
          -4.161943453773068e-17,
          -8.323886907546136e-17,
          -1.2485830361319205e-16,
          -1.6647773815092272e-16,
          -2.080971726886534e-16,
          -2.497166072263841e-16,
          -2.913360417641148e-16,
          -3.3295547630184553e-16,
          6.342366762311953e-17,
          1.2684733524623905e-16,
          1.9027100286935858e-16,
          2.536946704924781e-16,
          3.1711833811559753e-16,
          3.80542005738717e-16,
          4.439656733618365e-16,
          5.07389340984956e-16,
          0,
          0,
          0,
          0,
          0,
          0,
          0,
          0,
          0,
          0,
          0,
          0,
          2.9740328983409366e-17,
          5.948065796681873e-17,
          8.922098695022811e-17,
          1.189613159336375e-16,
          1.4870164491704684e-16,
          1.7844197390045622e-16,
          2.0818230288386558e-16,
          2.3792263186727493e-16,
          -7.936095898020513e-18,
          -1.5872191796041025e-17,
          -2.380828769406154e-17,
          -3.174438359208206e-17,
          -3.968047949010257e-17,
          -4.761657538812308e-17,
          -5.55526712861436e-17,
          -6.34887671841641e-17,
          0,
          0,
          0,
          0,
          0,
          0,
          0,
          0,
          0,
          0,
          0,
          0,
          -1.3868137187368338e-17,
          -2.7736274374736675e-17,
          -4.1604411562105016e-17,
          -5.547254874947336e-17,
          -6.93406859368417e-17,
          -8.320882312421004e-17,
          -9.70769603115784e-17,
          -1.1094509749894675e-16,
          3.567237027275719e-17,
          7.134474054551438e-17,
          1.0701711081827158e-16,
          1.4268948109102875e-16,
          1.7836185136378598e-16,
          2.1403422163654318e-16,
          2.497065919093004e-16,
          2.853789621820576e-16,
          0,
          0,
          0,
          0,
          0,
          0,
          0,
          0,
          0,
          0,
          0,
          0,
          -5.747660335814605e-17,
          -1.149532067162921e-16,
          -1.7242981007443816e-16,
          -2.299064134325842e-16,
          -2.873830167907303e-16,
          -3.448596201488763e-16,
          -4.0233622350702235e-16,
          -4.598128268651684e-16,
          7.928083644353488e-17,
          1.5856167288706977e-16,
          2.3784250933060466e-16,
          3.1712334577413953e-16,
          3.964041822176744e-16,
          4.756850186612092e-16,
          5.549658551047441e-16,
          6.34246691548279e-16,
          0
         ],
         "z": [
          -0.03,
          -0.03,
          -0.03249869654004928,
          -0.03498222320672626,
          -0.037467761536390726,
          -0.03996291403258099,
          -0.04181696404159846,
          -0.04366602294330999,
          -0.045482282903605356,
          -0.04731592680861363,
          -0.04850390018607808,
          -0.0494886469395945,
          -0.050372023582573346,
          -0.05068244840203875,
          -0.042458728621622116,
          -0.04495581983619832,
          -0.047449840385884,
          -0.049945957823890226,
          -0.0524424625930009,
          -0.054936826226304476,
          -0.05743118315019906,
          -0.05991724427164051,
          -0.0275,
          -0.025,
          -0.0225,
          -0.02,
          -0.0175,
          -0.015,
          -0.0125,
          -0.01,
          -0.0075,
          -0.005,
          -0.0025,
          0,
          0.0014694631307311829,
          0.0029389262614623658,
          0.004408389392193549,
          0.0058778525229247315,
          0.007347315653655915,
          0.008816778784387098,
          0.010286241915118281,
          0.011755705045849465,
          0.0014694631307311829,
          0.0029389262614623658,
          0.004408389392193549,
          0.0058778525229247315,
          0.007347315653655915,
          0.008816778784387098,
          0.010286241915118281,
          0.011755705045849465,
          0.0025,
          0.005,
          0.007000000000000002,
          0.009500000000000001,
          0.012000000000000002,
          0.014000000000000004,
          0.016500000000000004,
          0.019000000000000003,
          0.021000000000000005,
          0.023500000000000007,
          0.026000000000000006,
          0.028000000000000008,
          0.02946946313073119,
          0.030938926261462375,
          0.03240838939219356,
          0.03387785252292474,
          0.035347315653655925,
          0.036816778784387105,
          0.03828624191511829,
          0.03975570504584947,
          0.02946946313073119,
          0.030938926261462375,
          0.03240838939219356,
          0.03387785252292474,
          0.035347315653655925,
          0.036816778784387105,
          0.03828624191511829,
          0.03975570504584947,
          0.030500000000000006,
          0.03300000000000001,
          0.03500000000000001,
          0.037500000000000006,
          0.04000000000000001,
          0.04200000000000001,
          0.04450000000000001,
          0.047000000000000014,
          0.049000000000000016,
          0.05150000000000001,
          0.05400000000000001,
          0.056000000000000015,
          0.057469463130731195,
          0.05893892626146238,
          0.06040838939219356,
          0.06187785252292475,
          0.06334731565365594,
          0.06481677878438712,
          0.0662862419151183,
          0.06775570504584948,
          0.057469463130731195,
          0.05893892626146238,
          0.06040838939219356,
          0.06187785252292475,
          0.06334731565365594,
          0.06481677878438712,
          0.0662862419151183,
          0.06775570504584948,
          0.05850000000000002,
          0.06100000000000001,
          0.063,
          0.0655,
          0.068,
          0.07,
          0.0725,
          0.075,
          0.077,
          0.07949999999999999,
          0.08199999999999999,
          0.08399999999999999,
          0.08546946313073116,
          0.08693892626146235,
          0.08840838939219353,
          0.08987785252292473,
          0.09134731565365589,
          0.09281677878438709,
          0.09428624191511827,
          0.09575570504584946,
          0.08546946313073116,
          0.08693892626146235,
          0.08840838939219353,
          0.08987785252292473,
          0.09134731565365589,
          0.09281677878438709,
          0.09428624191511827,
          0.09575570504584946,
          0.08649999999999998,
          0.08899999999999998,
          0.09099999999999998,
          0.09349999999999997,
          0.09599999999999997,
          0.09799999999999998,
          0.10049999999999998,
          0.10299999999999997,
          0.10499999999999997,
          0.10749999999999997,
          0.10999999999999996,
          0.11199999999999996,
          0.11346946313073113,
          0.11493892626146232,
          0.1164083893921935,
          0.1178778525229247,
          0.11934731565365586,
          0.12081677878438705,
          0.12228624191511824,
          0.12375570504584943,
          0.11346946313073113,
          0.11493892626146232,
          0.1164083893921935,
          0.1178778525229247,
          0.11934731565365586,
          0.12081677878438705,
          0.12228624191511824,
          0.12375570504584943,
          0.11449999999999996,
          0.11699999999999995,
          0.11899999999999995,
          0.12149999999999996,
          0.12399999999999994,
          0.12599999999999995,
          0.12849999999999995,
          0.13099999999999995,
          0.13299999999999992,
          0.13549999999999993,
          0.13799999999999993,
          0.13999999999999993,
          0.1414694631307311,
          0.1429389262614623,
          0.14440838939219347,
          0.14587785252292465,
          0.14734731565365583,
          0.14881677878438704,
          0.1502862419151182,
          0.1517557050458494,
          0.1414694631307311,
          0.1429389262614623,
          0.14440838939219347,
          0.14587785252292465,
          0.14734731565365583,
          0.14881677878438704,
          0.1502862419151182,
          0.1517557050458494,
          0.14249999999999993,
          0.14499999999999993,
          0.1469999999999999,
          0.1494999999999999,
          0.1519999999999999,
          0.15399999999999991,
          0.15649999999999992,
          0.15899999999999992,
          0.16099999999999992,
          0.1634999999999999,
          0.1659999999999999,
          0.1679999999999999,
          0.16946946313073108,
          0.17093892626146226,
          0.17240838939219344,
          0.17387785252292465,
          0.17534731565365583,
          0.17681677878438698,
          0.1782862419151182,
          0.17975570504584937,
          0.16946946313073108,
          0.17093892626146226,
          0.17240838939219344,
          0.17387785252292465,
          0.17534731565365583,
          0.17681677878438698,
          0.1782862419151182,
          0.17975570504584937,
          0.16999999999999993
         ]
        },
        {
         "marker": {
          "color": [
           2,
           4,
           2,
           2,
           2,
           2,
           2,
           2,
           2,
           2,
           2,
           2,
           2,
           2,
           2,
           2,
           2,
           2,
           2,
           2,
           2,
           2,
           4,
           4,
           4,
           4,
           4,
           4,
           4,
           4,
           4,
           4,
           4,
           4,
           8,
           8,
           8,
           8,
           8,
           8,
           8,
           8,
           8,
           8,
           8,
           8,
           8,
           8,
           8,
           8,
           4,
           4,
           4,
           4,
           4,
           4,
           4,
           4,
           4,
           4,
           4,
           4,
           4,
           4,
           4,
           4,
           4,
           4,
           4,
           4,
           4,
           4,
           4,
           4,
           4,
           4,
           4,
           4,
           4,
           4,
           8,
           8,
           8,
           8,
           8,
           8,
           8,
           8,
           8,
           8,
           8,
           8,
           8,
           8,
           8,
           8,
           4,
           4,
           4,
           4,
           4,
           4,
           4,
           4,
           4,
           4,
           4,
           4,
           4,
           4,
           4,
           4,
           4,
           4,
           4,
           4,
           4,
           4,
           4,
           4,
           4,
           4,
           4,
           4,
           4,
           4,
           4,
           4,
           4,
           4,
           4,
           4,
           4,
           4,
           4,
           4,
           4
          ],
          "colorscale": [
           [
            0,
            "wheat"
           ],
           [
            0.5,
            "darkgreen"
           ],
           [
            1,
            "lightgreen"
           ]
          ],
          "opacity": 0.8,
          "size": 3
         },
         "mode": "markers",
         "name": "functiontype 4",
         "scene": "scene5",
         "type": "scatter3d",
         "x": [
          0,
          0,
          0.00026440083559334466,
          0.00042892188349600733,
          0.0003473992240418585,
          0.00029120989783885584,
          -0.002078241700122181,
          -0.00445375050531043,
          -0.006852437628357761,
          -0.008919412317655397,
          -0.01113443170737794,
          -0.013511662351932305,
          -0.01593777211748001,
          -0.01699658572049943,
          0.00048758471633126633,
          0.0004894917405267046,
          0.0004905628238346119,
          0.0003412638394465717,
          0.00010713172606386271,
          0.0004173554462365963,
          0.0002776316850432405,
          0.0001775196467707279,
          0,
          0,
          0,
          0,
          0,
          0,
          0,
          0,
          0,
          0,
          0,
          0,
          0.0020225424859373685,
          0.004045084971874737,
          0.006067627457812106,
          0.008090169943749474,
          0.010112712429686843,
          0.012135254915624212,
          0.01415779740156158,
          0.016180339887498948,
          -0.0020225424859373685,
          -0.004045084971874737,
          -0.006067627457812106,
          -0.008090169943749474,
          -0.010112712429686843,
          -0.012135254915624212,
          -0.01415779740156158,
          -0.016180339887498948,
          0,
          0,
          0,
          0,
          0,
          0,
          0,
          0,
          0,
          0,
          0,
          0,
          0,
          0,
          0,
          0,
          0,
          0,
          0,
          0,
          0,
          0,
          0,
          0,
          0,
          0,
          0,
          0,
          0,
          0,
          0.0020225424859373685,
          0.004045084971874737,
          0.006067627457812106,
          0.008090169943749474,
          0.010112712429686843,
          0.012135254915624212,
          0.01415779740156158,
          0.016180339887498948,
          -0.0020225424859373685,
          -0.004045084971874737,
          -0.006067627457812106,
          -0.008090169943749474,
          -0.010112712429686843,
          -0.012135254915624212,
          -0.01415779740156158,
          -0.016180339887498948,
          0,
          0,
          0,
          0,
          0,
          0,
          0,
          0,
          0,
          0,
          0,
          0,
          0,
          0,
          0,
          0,
          0,
          0,
          0,
          0,
          0,
          0,
          0,
          0,
          0,
          0,
          0,
          0,
          0,
          0,
          0,
          0,
          0,
          0,
          0,
          0,
          0,
          0,
          0,
          0,
          0
         ],
         "y": [
          0,
          0,
          4.171830907469182e-05,
          3.6678435811979966e-05,
          5.997261987580141e-05,
          6.626141295612628e-05,
          0.0006461210177639912,
          0.0012600267934551412,
          0.0018963775843253061,
          0.003195838786781462,
          0.0043488274504317245,
          0.005114047930159276,
          0.005716923859950346,
          0.00600737534200522,
          0.0002764011801820701,
          0.00012438016471123125,
          -3.0244296427196314e-05,
          -8.347395476006665e-05,
          -0.00012361854785734123,
          -0.00014097420345436835,
          -0.0002101225667436912,
          -0.0004849501128968428,
          0,
          0,
          0,
          0,
          0,
          0,
          0,
          0,
          0,
          0,
          0,
          0,
          3.970551778281201e-18,
          7.941103556562401e-18,
          1.1911655334843604e-17,
          1.5882207113124806e-17,
          1.9852758891406008e-17,
          2.382331066968721e-17,
          2.7793862447968416e-17,
          3.176441422624962e-17,
          1.7833681307107648e-17,
          3.5667362614215296e-17,
          5.350104392132295e-17,
          7.13347252284306e-17,
          8.916840653553827e-17,
          1.0700208784264593e-16,
          1.2483576914975358e-16,
          1.4266945045686126e-16,
          0,
          0,
          0,
          0,
          0,
          0,
          0,
          0,
          0,
          0,
          0,
          0,
          0,
          0,
          0,
          0,
          0,
          0,
          0,
          0,
          0,
          0,
          0,
          0,
          0,
          0,
          0,
          0,
          0,
          0,
          -3.96379143924965e-17,
          -7.9275828784993e-17,
          -1.189137431774895e-16,
          -1.58551657569986e-16,
          -1.981895719624825e-16,
          -2.37827486354979e-16,
          -2.774654007474755e-16,
          -3.17103315139972e-16,
          3.9580326319264766e-18,
          7.916065263852953e-18,
          1.187409789577943e-17,
          1.5832130527705906e-17,
          1.979016315963238e-17,
          2.3748195791558855e-17,
          2.770622842348533e-17,
          3.1664261055411806e-17,
          0,
          0,
          0,
          0,
          0,
          0,
          0,
          0,
          0,
          0,
          0,
          0,
          0,
          0,
          0,
          0,
          0,
          0,
          0,
          0,
          0,
          0,
          0,
          0,
          0,
          0,
          0,
          0,
          0,
          0,
          0,
          0,
          0,
          0,
          0,
          0,
          0,
          0,
          0,
          0,
          0
         ],
         "z": [
          -0.03,
          -0.03,
          -0.032485629051331975,
          -0.03498020465140396,
          -0.037478766525159406,
          -0.039978127085523285,
          -0.04052535826485425,
          -0.04100502232963933,
          -0.04130727678648957,
          -0.041844879071747124,
          -0.04196448778650974,
          -0.04207943159885809,
          -0.042102497131425345,
          -0.042169205208317254,
          -0.04246152761884293,
          -0.04495690053167859,
          -0.04745211397521367,
          -0.049947084198830476,
          -0.05243577272195425,
          -0.05491638958569218,
          -0.057411524005801115,
          -0.059894354527538024,
          -0.0275,
          -0.025,
          -0.0225,
          -0.02,
          -0.0175,
          -0.015,
          -0.0125,
          -0.01,
          -0.0075,
          -0.005,
          -0.0025,
          0,
          0.0014694631307311829,
          0.0029389262614623658,
          0.004408389392193549,
          0.0058778525229247315,
          0.007347315653655915,
          0.008816778784387098,
          0.010286241915118281,
          0.011755705045849465,
          0.0014694631307311829,
          0.0029389262614623658,
          0.004408389392193549,
          0.0058778525229247315,
          0.007347315653655915,
          0.008816778784387098,
          0.010286241915118281,
          0.011755705045849465,
          0.0025,
          0.005,
          0.007000000000000002,
          0.009500000000000001,
          0.012000000000000002,
          0.014500000000000002,
          0.017,
          0.019500000000000003,
          0.020999999999999998,
          0.023499999999999997,
          0.025999999999999995,
          0.028499999999999998,
          0.030999999999999996,
          0.033499999999999995,
          0.036,
          0.0385,
          0.040999999999999995,
          0.041999999999999996,
          0.04449999999999999,
          0.04699999999999999,
          0.049499999999999995,
          0.05199999999999999,
          0.05449999999999999,
          0.056999999999999995,
          0.05949999999999999,
          0.06199999999999999,
          0.06449999999999999,
          0.06699999999999999,
          0.06949999999999999,
          0.07,
          0.07146946313073119,
          0.07293892626146237,
          0.07440838939219355,
          0.07587785252292473,
          0.07734731565365592,
          0.0788167787843871,
          0.08028624191511828,
          0.08175570504584946,
          0.07146946313073119,
          0.07293892626146237,
          0.07440838939219355,
          0.07587785252292473,
          0.07734731565365592,
          0.0788167787843871,
          0.08028624191511828,
          0.08175570504584946,
          0.0725,
          0.075,
          0.0775,
          0.08,
          0.0825,
          0.085,
          0.0875,
          0.09,
          0.0925,
          0.095,
          0.0975,
          0.1,
          0.1025,
          0.105,
          0.1075,
          0.11,
          0.1125,
          0.115,
          0.1175,
          0.12,
          0.1225,
          0.125,
          0.1275,
          0.13,
          0.1325,
          0.135,
          0.1375,
          0.14,
          0.1425,
          0.145,
          0.147,
          0.1495,
          0.152,
          0.1545,
          0.157,
          0.1595,
          0.162,
          0.16449999999999998,
          0.16699999999999998,
          0.16949999999999998,
          0.16999999999999985
         ]
        },
        {
         "marker": {
          "color": [
           2,
           4,
           2,
           2,
           2,
           2,
           2,
           2,
           2,
           2,
           2,
           2,
           2,
           2,
           2,
           2,
           2,
           2,
           2,
           2,
           2,
           2,
           4,
           4,
           4,
           4,
           4,
           4,
           4,
           4,
           4,
           4,
           4,
           4,
           8,
           8,
           8,
           8,
           8,
           8,
           8,
           8,
           8,
           8,
           8,
           8,
           8,
           8,
           8,
           8,
           4,
           4,
           4,
           4,
           4,
           4,
           4,
           4,
           4,
           4,
           4,
           4,
           8,
           8,
           8,
           8,
           8,
           8,
           8,
           8,
           8,
           8,
           8,
           8,
           8,
           8,
           8,
           8,
           4,
           4,
           4,
           4,
           4,
           4,
           4,
           4,
           4,
           4,
           4,
           4,
           8,
           8,
           8,
           8,
           8,
           8,
           8,
           8,
           8,
           8,
           8,
           8,
           8,
           8,
           8,
           8,
           4,
           4,
           4,
           4,
           4,
           4,
           4,
           4,
           4,
           4,
           4,
           4,
           8,
           8,
           8,
           8,
           8,
           8,
           8,
           8,
           8,
           8,
           8,
           8,
           8,
           8,
           8,
           8,
           4,
           4,
           4,
           4,
           4,
           4,
           4,
           4,
           4,
           4,
           4,
           4,
           8,
           8,
           8,
           8,
           8,
           8,
           8,
           8,
           8,
           8,
           8,
           8,
           8,
           8,
           8,
           8,
           4,
           4,
           4,
           4,
           4,
           4,
           4,
           4,
           4,
           4,
           4,
           4,
           8,
           8,
           8,
           8,
           8,
           8,
           8,
           8,
           8,
           8,
           8,
           8,
           8,
           8,
           8,
           8,
           4,
           4,
           4,
           4,
           4,
           4,
           4,
           4,
           4,
           4,
           4,
           4,
           8,
           8,
           8,
           8,
           8,
           8,
           8,
           8,
           8,
           8,
           8,
           8,
           8,
           8,
           8,
           8,
           4
          ],
          "colorscale": [
           [
            0,
            "wheat"
           ],
           [
            0.5,
            "darkgreen"
           ],
           [
            1,
            "lightgreen"
           ]
          ],
          "opacity": 0.8,
          "size": 3
         },
         "mode": "markers",
         "name": "functiontype 5",
         "scene": "scene6",
         "type": "scatter3d",
         "x": [
          0,
          0,
          -2.2614238513951347e-05,
          5.120045390756776e-05,
          0.0001870465469976388,
          0.0003367956506524249,
          -0.0010025005474760121,
          -0.0021339908876952733,
          -0.0033778982508842086,
          -0.004783443640220113,
          -0.005818395536812638,
          -0.006943383438912669,
          -0.008143774917321399,
          -0.008794405820963618,
          0.0004813428003606733,
          0.0006012099313388671,
          0.00047288154333565704,
          0.00043595773493409367,
          0.0005256399536339745,
          0.000692116204769428,
          0.0008583327503494179,
          0.0011195467913737143,
          0,
          0,
          0,
          0,
          0,
          0,
          0,
          0,
          0,
          0,
          0,
          0,
          0.0020225424859373685,
          0.004045084971874737,
          0.006067627457812106,
          0.008090169943749474,
          0.010112712429686843,
          0.012135254915624212,
          0.01415779740156158,
          0.016180339887498948,
          -0.0020225424859373685,
          -0.004045084971874737,
          -0.006067627457812106,
          -0.008090169943749474,
          -0.010112712429686843,
          -0.012135254915624212,
          -0.01415779740156158,
          -0.016180339887498948,
          0,
          0,
          0,
          0,
          0,
          0,
          0,
          0,
          0,
          0,
          0,
          0,
          0.0020225424859373685,
          0.004045084971874737,
          0.006067627457812106,
          0.008090169943749474,
          0.010112712429686843,
          0.012135254915624212,
          0.01415779740156158,
          0.016180339887498948,
          -0.0020225424859373685,
          -0.004045084971874737,
          -0.006067627457812106,
          -0.008090169943749474,
          -0.010112712429686843,
          -0.012135254915624212,
          -0.01415779740156158,
          -0.016180339887498948,
          0,
          0,
          0,
          0,
          0,
          0,
          0,
          0,
          0,
          0,
          0,
          0,
          0.0020225424859373685,
          0.004045084971874737,
          0.006067627457812106,
          0.008090169943749474,
          0.010112712429686843,
          0.012135254915624212,
          0.01415779740156158,
          0.016180339887498948,
          -0.0020225424859373685,
          -0.004045084971874737,
          -0.006067627457812106,
          -0.008090169943749474,
          -0.010112712429686843,
          -0.012135254915624212,
          -0.01415779740156158,
          -0.016180339887498948,
          0,
          0,
          0,
          0,
          0,
          0,
          0,
          0,
          0,
          0,
          0,
          0,
          0.0020225424859373685,
          0.004045084971874737,
          0.006067627457812106,
          0.008090169943749474,
          0.010112712429686843,
          0.012135254915624212,
          0.01415779740156158,
          0.016180339887498948,
          -0.0020225424859373685,
          -0.004045084971874737,
          -0.006067627457812106,
          -0.008090169943749474,
          -0.010112712429686843,
          -0.012135254915624212,
          -0.01415779740156158,
          -0.016180339887498948,
          0,
          0,
          0,
          0,
          0,
          0,
          0,
          0,
          0,
          0,
          0,
          0,
          0.0020225424859373685,
          0.004045084971874737,
          0.006067627457812106,
          0.008090169943749474,
          0.010112712429686843,
          0.012135254915624212,
          0.01415779740156158,
          0.016180339887498948,
          -0.0020225424859373685,
          -0.004045084971874737,
          -0.006067627457812106,
          -0.008090169943749474,
          -0.010112712429686843,
          -0.012135254915624212,
          -0.01415779740156158,
          -0.016180339887498948,
          0,
          0,
          0,
          0,
          0,
          0,
          0,
          0,
          0,
          0,
          0,
          0,
          0.0020225424859373685,
          0.004045084971874737,
          0.006067627457812106,
          0.008090169943749474,
          0.010112712429686843,
          0.012135254915624212,
          0.01415779740156158,
          0.016180339887498948,
          -0.0020225424859373685,
          -0.004045084971874737,
          -0.006067627457812106,
          -0.008090169943749474,
          -0.010112712429686843,
          -0.012135254915624212,
          -0.01415779740156158,
          -0.016180339887498948,
          0,
          0,
          0,
          0,
          0,
          0,
          0,
          0,
          0,
          0,
          0,
          0,
          0.0020225424859373685,
          0.004045084971874737,
          0.006067627457812106,
          0.008090169943749474,
          0.010112712429686843,
          0.012135254915624212,
          0.01415779740156158,
          0.016180339887498948,
          -0.0020225424859373685,
          -0.004045084971874737,
          -0.006067627457812106,
          -0.008090169943749474,
          -0.010112712429686843,
          -0.012135254915624212,
          -0.01415779740156158,
          -0.016180339887498948,
          0
         ],
         "y": [
          0,
          0,
          -7.748675346272339e-05,
          -0.00035433813432805063,
          -0.0005859521467732284,
          -0.0006282513986588613,
          0.00038109703361863506,
          0.0016263724200259366,
          0.0028112328457437622,
          0.0037663203747915334,
          0.005707349438503677,
          0.007711015092141393,
          0.009718178763893928,
          0.010548785494254496,
          -0.0006322084986977251,
          -0.0006451443789297813,
          -0.0007608739022938447,
          -0.0008951660020404212,
          -0.0007981039731275008,
          -0.0008189779440123665,
          -0.000842549032120645,
          -0.0008781485437611481,
          0,
          0,
          0,
          0,
          0,
          0,
          0,
          0,
          0,
          0,
          0,
          0,
          -2.5762265717315326e-17,
          -5.152453143463065e-17,
          -7.728679715194597e-17,
          -1.0304906286926129e-16,
          -1.2881132858657662e-16,
          -1.5457359430389194e-16,
          -1.8033586002120729e-16,
          -2.060981257385226e-16,
          4.756649880270418e-17,
          9.513299760540837e-17,
          1.4269949640811252e-16,
          1.9026599521081668e-16,
          2.3783249401352086e-16,
          2.85398992816225e-16,
          3.329654916189292e-16,
          3.805319904216333e-16,
          0,
          0,
          0,
          0,
          0,
          0,
          0,
          0,
          0,
          0,
          0,
          0,
          -1.1886617042134155e-17,
          -2.377323408426831e-17,
          -3.565985112640247e-17,
          -4.754646816853663e-17,
          -5.943308521067079e-17,
          -7.131970225280495e-17,
          -8.320631929493912e-17,
          -9.509293633707329e-17,
          3.3690850127523e-17,
          6.7381700255046e-17,
          1.0107255038256901e-16,
          1.34763400510092e-16,
          1.68454250637615e-16,
          2.02145100765138e-16,
          2.35835950892661e-16,
          2.6952680102018396e-16,
          0,
          0,
          0,
          0,
          0,
          0,
          0,
          0,
          0,
          0,
          0,
          0,
          1.9890316330470185e-18,
          3.978063266094037e-18,
          5.9670948991410554e-18,
          7.956126532188074e-18,
          9.945158165235094e-18,
          1.1934189798282111e-17,
          1.392322143132913e-17,
          1.5912253064376148e-17,
          1.9815201452341835e-17,
          3.963040290468367e-17,
          5.944560435702551e-17,
          7.926080580936734e-17,
          9.907600726170917e-17,
          1.18891208714051e-16,
          1.3870641016639282e-16,
          1.5852161161873466e-16,
          0,
          0,
          0,
          0,
          0,
          0,
          0,
          0,
          0,
          0,
          0,
          0,
          -4.161943453773068e-17,
          -8.323886907546136e-17,
          -1.2485830361319205e-16,
          -1.6647773815092272e-16,
          -2.080971726886534e-16,
          -2.497166072263841e-16,
          -2.913360417641148e-16,
          -3.3295547630184553e-16,
          6.342366762311953e-17,
          1.2684733524623905e-16,
          1.9027100286935858e-16,
          2.536946704924781e-16,
          3.1711833811559753e-16,
          3.80542005738717e-16,
          4.439656733618365e-16,
          5.07389340984956e-16,
          0,
          0,
          0,
          0,
          0,
          0,
          0,
          0,
          0,
          0,
          0,
          0,
          2.9740328983409366e-17,
          5.948065796681873e-17,
          8.922098695022811e-17,
          1.189613159336375e-16,
          1.4870164491704684e-16,
          1.7844197390045622e-16,
          2.0818230288386558e-16,
          2.3792263186727493e-16,
          -7.936095898020513e-18,
          -1.5872191796041025e-17,
          -2.380828769406154e-17,
          -3.174438359208206e-17,
          -3.968047949010257e-17,
          -4.761657538812308e-17,
          -5.55526712861436e-17,
          -6.34887671841641e-17,
          0,
          0,
          0,
          0,
          0,
          0,
          0,
          0,
          0,
          0,
          0,
          0,
          -1.3868137187368338e-17,
          -2.7736274374736675e-17,
          -4.1604411562105016e-17,
          -5.547254874947336e-17,
          -6.93406859368417e-17,
          -8.320882312421004e-17,
          -9.70769603115784e-17,
          -1.1094509749894675e-16,
          3.567237027275719e-17,
          7.134474054551438e-17,
          1.0701711081827158e-16,
          1.4268948109102875e-16,
          1.7836185136378598e-16,
          2.1403422163654318e-16,
          2.497065919093004e-16,
          2.853789621820576e-16,
          0,
          0,
          0,
          0,
          0,
          0,
          0,
          0,
          0,
          0,
          0,
          0,
          -5.747660335814605e-17,
          -1.149532067162921e-16,
          -1.7242981007443816e-16,
          -2.299064134325842e-16,
          -2.873830167907303e-16,
          -3.448596201488763e-16,
          -4.0233622350702235e-16,
          -4.598128268651684e-16,
          7.928083644353488e-17,
          1.5856167288706977e-16,
          2.3784250933060466e-16,
          3.1712334577413953e-16,
          3.964041822176744e-16,
          4.756850186612092e-16,
          5.549658551047441e-16,
          6.34246691548279e-16,
          0
         ],
         "z": [
          -0.03,
          -0.03,
          -0.03249869654004928,
          -0.03498222320672626,
          -0.037467761536390726,
          -0.03996291403258099,
          -0.04181696404159846,
          -0.04366602294330999,
          -0.045482282903605356,
          -0.04731592680861363,
          -0.04850390018607808,
          -0.0494886469395945,
          -0.050372023582573346,
          -0.05068244840203875,
          -0.042458728621622116,
          -0.04495581983619832,
          -0.047449840385884,
          -0.049945957823890226,
          -0.0524424625930009,
          -0.054936826226304476,
          -0.05743118315019906,
          -0.05991724427164051,
          -0.0275,
          -0.025,
          -0.0225,
          -0.02,
          -0.0175,
          -0.015,
          -0.0125,
          -0.01,
          -0.0075,
          -0.005,
          -0.0025,
          0,
          0.0014694631307311829,
          0.0029389262614623658,
          0.004408389392193549,
          0.0058778525229247315,
          0.007347315653655915,
          0.008816778784387098,
          0.010286241915118281,
          0.011755705045849465,
          0.0014694631307311829,
          0.0029389262614623658,
          0.004408389392193549,
          0.0058778525229247315,
          0.007347315653655915,
          0.008816778784387098,
          0.010286241915118281,
          0.011755705045849465,
          0.0025,
          0.005,
          0.007000000000000002,
          0.009500000000000001,
          0.012000000000000002,
          0.014000000000000004,
          0.016500000000000004,
          0.019000000000000003,
          0.021000000000000005,
          0.023500000000000007,
          0.026000000000000006,
          0.028000000000000008,
          0.02946946313073119,
          0.030938926261462375,
          0.03240838939219356,
          0.03387785252292474,
          0.035347315653655925,
          0.036816778784387105,
          0.03828624191511829,
          0.03975570504584947,
          0.02946946313073119,
          0.030938926261462375,
          0.03240838939219356,
          0.03387785252292474,
          0.035347315653655925,
          0.036816778784387105,
          0.03828624191511829,
          0.03975570504584947,
          0.030500000000000006,
          0.03300000000000001,
          0.03500000000000001,
          0.037500000000000006,
          0.04000000000000001,
          0.04200000000000001,
          0.04450000000000001,
          0.047000000000000014,
          0.049000000000000016,
          0.05150000000000001,
          0.05400000000000001,
          0.056000000000000015,
          0.057469463130731195,
          0.05893892626146238,
          0.06040838939219356,
          0.06187785252292475,
          0.06334731565365594,
          0.06481677878438712,
          0.0662862419151183,
          0.06775570504584948,
          0.057469463130731195,
          0.05893892626146238,
          0.06040838939219356,
          0.06187785252292475,
          0.06334731565365594,
          0.06481677878438712,
          0.0662862419151183,
          0.06775570504584948,
          0.05850000000000002,
          0.06100000000000001,
          0.063,
          0.0655,
          0.068,
          0.07,
          0.0725,
          0.075,
          0.077,
          0.07949999999999999,
          0.08199999999999999,
          0.08399999999999999,
          0.08546946313073116,
          0.08693892626146235,
          0.08840838939219353,
          0.08987785252292473,
          0.09134731565365589,
          0.09281677878438709,
          0.09428624191511827,
          0.09575570504584946,
          0.08546946313073116,
          0.08693892626146235,
          0.08840838939219353,
          0.08987785252292473,
          0.09134731565365589,
          0.09281677878438709,
          0.09428624191511827,
          0.09575570504584946,
          0.08649999999999998,
          0.08899999999999998,
          0.09099999999999998,
          0.09349999999999997,
          0.09599999999999997,
          0.09799999999999998,
          0.10049999999999998,
          0.10299999999999997,
          0.10499999999999997,
          0.10749999999999997,
          0.10999999999999996,
          0.11199999999999996,
          0.11346946313073113,
          0.11493892626146232,
          0.1164083893921935,
          0.1178778525229247,
          0.11934731565365586,
          0.12081677878438705,
          0.12228624191511824,
          0.12375570504584943,
          0.11346946313073113,
          0.11493892626146232,
          0.1164083893921935,
          0.1178778525229247,
          0.11934731565365586,
          0.12081677878438705,
          0.12228624191511824,
          0.12375570504584943,
          0.11449999999999996,
          0.11699999999999995,
          0.11899999999999995,
          0.12149999999999996,
          0.12399999999999994,
          0.12599999999999995,
          0.12849999999999995,
          0.13099999999999995,
          0.13299999999999992,
          0.13549999999999993,
          0.13799999999999993,
          0.13999999999999993,
          0.1414694631307311,
          0.1429389262614623,
          0.14440838939219347,
          0.14587785252292465,
          0.14734731565365583,
          0.14881677878438704,
          0.1502862419151182,
          0.1517557050458494,
          0.1414694631307311,
          0.1429389262614623,
          0.14440838939219347,
          0.14587785252292465,
          0.14734731565365583,
          0.14881677878438704,
          0.1502862419151182,
          0.1517557050458494,
          0.14249999999999993,
          0.14499999999999993,
          0.1469999999999999,
          0.1494999999999999,
          0.1519999999999999,
          0.15399999999999991,
          0.15649999999999992,
          0.15899999999999992,
          0.16099999999999992,
          0.1634999999999999,
          0.1659999999999999,
          0.1679999999999999,
          0.16946946313073108,
          0.17093892626146226,
          0.17240838939219344,
          0.17387785252292465,
          0.17534731565365583,
          0.17681677878438698,
          0.1782862419151182,
          0.17975570504584937,
          0.16946946313073108,
          0.17093892626146226,
          0.17240838939219344,
          0.17387785252292465,
          0.17534731565365583,
          0.17681677878438698,
          0.1782862419151182,
          0.17975570504584937,
          0.16999999999999993
         ]
        }
       ],
       "layout": {
        "height": 800,
        "scene": {
         "aspectmode": "auto",
         "aspectratio": {
          "x": 1,
          "y": 1,
          "z": 1
         },
         "domain": {
          "x": [
           0,
           0.45
          ],
          "y": [
           0.7333333333333333,
           1
          ]
         }
        },
        "scene2": {
         "aspectmode": "auto",
         "aspectratio": {
          "x": 1,
          "y": 1,
          "z": 1
         },
         "domain": {
          "x": [
           0.55,
           1
          ],
          "y": [
           0.7333333333333333,
           1
          ]
         }
        },
        "scene3": {
         "aspectmode": "auto",
         "aspectratio": {
          "x": 1,
          "y": 1,
          "z": 1
         },
         "domain": {
          "x": [
           0,
           0.45
          ],
          "y": [
           0.36666666666666664,
           0.6333333333333333
          ]
         }
        },
        "scene4": {
         "aspectmode": "auto",
         "aspectratio": {
          "x": 1,
          "y": 1,
          "z": 1
         },
         "domain": {
          "x": [
           0.55,
           1
          ],
          "y": [
           0.36666666666666664,
           0.6333333333333333
          ]
         }
        },
        "scene5": {
         "aspectmode": "auto",
         "aspectratio": {
          "x": 1,
          "y": 1,
          "z": 1
         },
         "domain": {
          "x": [
           0,
           0.45
          ],
          "y": [
           0,
           0.26666666666666666
          ]
         }
        },
        "scene6": {
         "aspectmode": "auto",
         "aspectratio": {
          "x": 1,
          "y": 1,
          "z": 1
         },
         "domain": {
          "x": [
           0.55,
           1
          ],
          "y": [
           0,
           0.26666666666666666
          ]
         }
        },
        "template": {
         "data": {
          "bar": [
           {
            "error_x": {
             "color": "#2a3f5f"
            },
            "error_y": {
             "color": "#2a3f5f"
            },
            "marker": {
             "line": {
              "color": "#E5ECF6",
              "width": 0.5
             }
            },
            "type": "bar"
           }
          ],
          "barpolar": [
           {
            "marker": {
             "line": {
              "color": "#E5ECF6",
              "width": 0.5
             }
            },
            "type": "barpolar"
           }
          ],
          "carpet": [
           {
            "aaxis": {
             "endlinecolor": "#2a3f5f",
             "gridcolor": "white",
             "linecolor": "white",
             "minorgridcolor": "white",
             "startlinecolor": "#2a3f5f"
            },
            "baxis": {
             "endlinecolor": "#2a3f5f",
             "gridcolor": "white",
             "linecolor": "white",
             "minorgridcolor": "white",
             "startlinecolor": "#2a3f5f"
            },
            "type": "carpet"
           }
          ],
          "choropleth": [
           {
            "colorbar": {
             "outlinewidth": 0,
             "ticks": ""
            },
            "type": "choropleth"
           }
          ],
          "contour": [
           {
            "colorbar": {
             "outlinewidth": 0,
             "ticks": ""
            },
            "colorscale": [
             [
              0,
              "#0d0887"
             ],
             [
              0.1111111111111111,
              "#46039f"
             ],
             [
              0.2222222222222222,
              "#7201a8"
             ],
             [
              0.3333333333333333,
              "#9c179e"
             ],
             [
              0.4444444444444444,
              "#bd3786"
             ],
             [
              0.5555555555555556,
              "#d8576b"
             ],
             [
              0.6666666666666666,
              "#ed7953"
             ],
             [
              0.7777777777777778,
              "#fb9f3a"
             ],
             [
              0.8888888888888888,
              "#fdca26"
             ],
             [
              1,
              "#f0f921"
             ]
            ],
            "type": "contour"
           }
          ],
          "contourcarpet": [
           {
            "colorbar": {
             "outlinewidth": 0,
             "ticks": ""
            },
            "type": "contourcarpet"
           }
          ],
          "heatmap": [
           {
            "colorbar": {
             "outlinewidth": 0,
             "ticks": ""
            },
            "colorscale": [
             [
              0,
              "#0d0887"
             ],
             [
              0.1111111111111111,
              "#46039f"
             ],
             [
              0.2222222222222222,
              "#7201a8"
             ],
             [
              0.3333333333333333,
              "#9c179e"
             ],
             [
              0.4444444444444444,
              "#bd3786"
             ],
             [
              0.5555555555555556,
              "#d8576b"
             ],
             [
              0.6666666666666666,
              "#ed7953"
             ],
             [
              0.7777777777777778,
              "#fb9f3a"
             ],
             [
              0.8888888888888888,
              "#fdca26"
             ],
             [
              1,
              "#f0f921"
             ]
            ],
            "type": "heatmap"
           }
          ],
          "heatmapgl": [
           {
            "colorbar": {
             "outlinewidth": 0,
             "ticks": ""
            },
            "colorscale": [
             [
              0,
              "#0d0887"
             ],
             [
              0.1111111111111111,
              "#46039f"
             ],
             [
              0.2222222222222222,
              "#7201a8"
             ],
             [
              0.3333333333333333,
              "#9c179e"
             ],
             [
              0.4444444444444444,
              "#bd3786"
             ],
             [
              0.5555555555555556,
              "#d8576b"
             ],
             [
              0.6666666666666666,
              "#ed7953"
             ],
             [
              0.7777777777777778,
              "#fb9f3a"
             ],
             [
              0.8888888888888888,
              "#fdca26"
             ],
             [
              1,
              "#f0f921"
             ]
            ],
            "type": "heatmapgl"
           }
          ],
          "histogram": [
           {
            "marker": {
             "colorbar": {
              "outlinewidth": 0,
              "ticks": ""
             }
            },
            "type": "histogram"
           }
          ],
          "histogram2d": [
           {
            "colorbar": {
             "outlinewidth": 0,
             "ticks": ""
            },
            "colorscale": [
             [
              0,
              "#0d0887"
             ],
             [
              0.1111111111111111,
              "#46039f"
             ],
             [
              0.2222222222222222,
              "#7201a8"
             ],
             [
              0.3333333333333333,
              "#9c179e"
             ],
             [
              0.4444444444444444,
              "#bd3786"
             ],
             [
              0.5555555555555556,
              "#d8576b"
             ],
             [
              0.6666666666666666,
              "#ed7953"
             ],
             [
              0.7777777777777778,
              "#fb9f3a"
             ],
             [
              0.8888888888888888,
              "#fdca26"
             ],
             [
              1,
              "#f0f921"
             ]
            ],
            "type": "histogram2d"
           }
          ],
          "histogram2dcontour": [
           {
            "colorbar": {
             "outlinewidth": 0,
             "ticks": ""
            },
            "colorscale": [
             [
              0,
              "#0d0887"
             ],
             [
              0.1111111111111111,
              "#46039f"
             ],
             [
              0.2222222222222222,
              "#7201a8"
             ],
             [
              0.3333333333333333,
              "#9c179e"
             ],
             [
              0.4444444444444444,
              "#bd3786"
             ],
             [
              0.5555555555555556,
              "#d8576b"
             ],
             [
              0.6666666666666666,
              "#ed7953"
             ],
             [
              0.7777777777777778,
              "#fb9f3a"
             ],
             [
              0.8888888888888888,
              "#fdca26"
             ],
             [
              1,
              "#f0f921"
             ]
            ],
            "type": "histogram2dcontour"
           }
          ],
          "mesh3d": [
           {
            "colorbar": {
             "outlinewidth": 0,
             "ticks": ""
            },
            "type": "mesh3d"
           }
          ],
          "parcoords": [
           {
            "line": {
             "colorbar": {
              "outlinewidth": 0,
              "ticks": ""
             }
            },
            "type": "parcoords"
           }
          ],
          "scatter": [
           {
            "marker": {
             "colorbar": {
              "outlinewidth": 0,
              "ticks": ""
             }
            },
            "type": "scatter"
           }
          ],
          "scatter3d": [
           {
            "line": {
             "colorbar": {
              "outlinewidth": 0,
              "ticks": ""
             }
            },
            "marker": {
             "colorbar": {
              "outlinewidth": 0,
              "ticks": ""
             }
            },
            "type": "scatter3d"
           }
          ],
          "scattercarpet": [
           {
            "marker": {
             "colorbar": {
              "outlinewidth": 0,
              "ticks": ""
             }
            },
            "type": "scattercarpet"
           }
          ],
          "scattergeo": [
           {
            "marker": {
             "colorbar": {
              "outlinewidth": 0,
              "ticks": ""
             }
            },
            "type": "scattergeo"
           }
          ],
          "scattergl": [
           {
            "marker": {
             "colorbar": {
              "outlinewidth": 0,
              "ticks": ""
             }
            },
            "type": "scattergl"
           }
          ],
          "scattermapbox": [
           {
            "marker": {
             "colorbar": {
              "outlinewidth": 0,
              "ticks": ""
             }
            },
            "type": "scattermapbox"
           }
          ],
          "scatterpolar": [
           {
            "marker": {
             "colorbar": {
              "outlinewidth": 0,
              "ticks": ""
             }
            },
            "type": "scatterpolar"
           }
          ],
          "scatterpolargl": [
           {
            "marker": {
             "colorbar": {
              "outlinewidth": 0,
              "ticks": ""
             }
            },
            "type": "scatterpolargl"
           }
          ],
          "scatterternary": [
           {
            "marker": {
             "colorbar": {
              "outlinewidth": 0,
              "ticks": ""
             }
            },
            "type": "scatterternary"
           }
          ],
          "surface": [
           {
            "colorbar": {
             "outlinewidth": 0,
             "ticks": ""
            },
            "colorscale": [
             [
              0,
              "#0d0887"
             ],
             [
              0.1111111111111111,
              "#46039f"
             ],
             [
              0.2222222222222222,
              "#7201a8"
             ],
             [
              0.3333333333333333,
              "#9c179e"
             ],
             [
              0.4444444444444444,
              "#bd3786"
             ],
             [
              0.5555555555555556,
              "#d8576b"
             ],
             [
              0.6666666666666666,
              "#ed7953"
             ],
             [
              0.7777777777777778,
              "#fb9f3a"
             ],
             [
              0.8888888888888888,
              "#fdca26"
             ],
             [
              1,
              "#f0f921"
             ]
            ],
            "type": "surface"
           }
          ],
          "table": [
           {
            "cells": {
             "fill": {
              "color": "#EBF0F8"
             },
             "line": {
              "color": "white"
             }
            },
            "header": {
             "fill": {
              "color": "#C8D4E3"
             },
             "line": {
              "color": "white"
             }
            },
            "type": "table"
           }
          ]
         },
         "layout": {
          "annotationdefaults": {
           "arrowcolor": "#2a3f5f",
           "arrowhead": 0,
           "arrowwidth": 1
          },
          "colorscale": {
           "diverging": [
            [
             0,
             "#8e0152"
            ],
            [
             0.1,
             "#c51b7d"
            ],
            [
             0.2,
             "#de77ae"
            ],
            [
             0.3,
             "#f1b6da"
            ],
            [
             0.4,
             "#fde0ef"
            ],
            [
             0.5,
             "#f7f7f7"
            ],
            [
             0.6,
             "#e6f5d0"
            ],
            [
             0.7,
             "#b8e186"
            ],
            [
             0.8,
             "#7fbc41"
            ],
            [
             0.9,
             "#4d9221"
            ],
            [
             1,
             "#276419"
            ]
           ],
           "sequential": [
            [
             0,
             "#0d0887"
            ],
            [
             0.1111111111111111,
             "#46039f"
            ],
            [
             0.2222222222222222,
             "#7201a8"
            ],
            [
             0.3333333333333333,
             "#9c179e"
            ],
            [
             0.4444444444444444,
             "#bd3786"
            ],
            [
             0.5555555555555556,
             "#d8576b"
            ],
            [
             0.6666666666666666,
             "#ed7953"
            ],
            [
             0.7777777777777778,
             "#fb9f3a"
            ],
            [
             0.8888888888888888,
             "#fdca26"
            ],
            [
             1,
             "#f0f921"
            ]
           ],
           "sequentialminus": [
            [
             0,
             "#0d0887"
            ],
            [
             0.1111111111111111,
             "#46039f"
            ],
            [
             0.2222222222222222,
             "#7201a8"
            ],
            [
             0.3333333333333333,
             "#9c179e"
            ],
            [
             0.4444444444444444,
             "#bd3786"
            ],
            [
             0.5555555555555556,
             "#d8576b"
            ],
            [
             0.6666666666666666,
             "#ed7953"
            ],
            [
             0.7777777777777778,
             "#fb9f3a"
            ],
            [
             0.8888888888888888,
             "#fdca26"
            ],
            [
             1,
             "#f0f921"
            ]
           ]
          },
          "colorway": [
           "#636efa",
           "#EF553B",
           "#00cc96",
           "#ab63fa",
           "#FFA15A",
           "#19d3f3",
           "#FF6692",
           "#B6E880",
           "#FF97FF",
           "#FECB52"
          ],
          "font": {
           "color": "#2a3f5f"
          },
          "geo": {
           "bgcolor": "white",
           "lakecolor": "white",
           "landcolor": "#E5ECF6",
           "showlakes": true,
           "showland": true,
           "subunitcolor": "white"
          },
          "hoverlabel": {
           "align": "left"
          },
          "hovermode": "closest",
          "mapbox": {
           "style": "light"
          },
          "paper_bgcolor": "white",
          "plot_bgcolor": "#E5ECF6",
          "polar": {
           "angularaxis": {
            "gridcolor": "white",
            "linecolor": "white",
            "ticks": ""
           },
           "bgcolor": "#E5ECF6",
           "radialaxis": {
            "gridcolor": "white",
            "linecolor": "white",
            "ticks": ""
           }
          },
          "scene": {
           "xaxis": {
            "backgroundcolor": "#E5ECF6",
            "gridcolor": "white",
            "gridwidth": 2,
            "linecolor": "white",
            "showbackground": true,
            "ticks": "",
            "zerolinecolor": "white"
           },
           "yaxis": {
            "backgroundcolor": "#E5ECF6",
            "gridcolor": "white",
            "gridwidth": 2,
            "linecolor": "white",
            "showbackground": true,
            "ticks": "",
            "zerolinecolor": "white"
           },
           "zaxis": {
            "backgroundcolor": "#E5ECF6",
            "gridcolor": "white",
            "gridwidth": 2,
            "linecolor": "white",
            "showbackground": true,
            "ticks": "",
            "zerolinecolor": "white"
           }
          },
          "shapedefaults": {
           "line": {
            "color": "#2a3f5f"
           }
          },
          "ternary": {
           "aaxis": {
            "gridcolor": "white",
            "linecolor": "white",
            "ticks": ""
           },
           "baxis": {
            "gridcolor": "white",
            "linecolor": "white",
            "ticks": ""
           },
           "bgcolor": "#E5ECF6",
           "caxis": {
            "gridcolor": "white",
            "linecolor": "white",
            "ticks": ""
           }
          },
          "title": {
           "x": 0.05
          },
          "xaxis": {
           "automargin": true,
           "gridcolor": "white",
           "linecolor": "white",
           "ticks": "",
           "zerolinecolor": "white",
           "zerolinewidth": 2
          },
          "yaxis": {
           "automargin": true,
           "gridcolor": "white",
           "linecolor": "white",
           "ticks": "",
           "zerolinecolor": "white",
           "zerolinewidth": 2
          }
         }
        },
        "title": {
         "text": "different RotBeta (function type)"
        },
        "width": 800
       }
      },
      "text/html": [
       "<div>\n",
       "        \n",
       "        \n",
       "            <div id=\"eb77720e-8586-4991-8ceb-7e18f71a3942\" class=\"plotly-graph-div\" style=\"height:800px; width:800px;\"></div>\n",
       "            <script type=\"text/javascript\">\n",
       "                require([\"plotly\"], function(Plotly) {\n",
       "                    window.PLOTLYENV=window.PLOTLYENV || {};\n",
       "                    \n",
       "                if (document.getElementById(\"eb77720e-8586-4991-8ceb-7e18f71a3942\")) {\n",
       "                    Plotly.newPlot(\n",
       "                        'eb77720e-8586-4991-8ceb-7e18f71a3942',\n",
       "                        [{\"marker\": {\"color\": [2.0, 4.0, 2.0, 2.0, 2.0, 2.0, 2.0, 2.0, 2.0, 2.0, 2.0, 2.0, 2.0, 2.0, 2.0, 2.0, 2.0, 2.0, 2.0, 2.0, 2.0, 2.0, 4.0, 4.0, 4.0, 4.0, 4.0, 4.0, 4.0, 4.0, 4.0, 4.0, 4.0, 4.0, 8.0, 8.0, 8.0, 8.0, 8.0, 8.0, 8.0, 8.0, 4.0, 4.0, 4.0, 8.0, 8.0, 8.0, 8.0, 8.0, 8.0, 8.0, 8.0, 4.0, 4.0, 4.0, 8.0, 8.0, 8.0, 8.0, 8.0, 8.0, 8.0, 8.0, 4.0, 4.0, 4.0, 8.0, 8.0, 8.0, 8.0, 8.0, 8.0, 8.0, 8.0, 4.0, 4.0, 4.0, 8.0, 8.0, 8.0, 8.0, 8.0, 8.0, 8.0, 8.0, 4.0, 4.0, 4.0, 8.0, 8.0, 8.0, 8.0, 8.0, 8.0, 8.0, 8.0, 4.0, 4.0, 4.0, 8.0, 8.0, 8.0, 8.0, 8.0, 8.0, 8.0, 8.0, 4.0, 4.0, 4.0, 8.0, 8.0, 8.0, 8.0, 8.0, 8.0, 8.0, 8.0, 4.0, 4.0, 4.0, 8.0, 8.0, 8.0, 8.0, 8.0, 8.0, 8.0, 8.0, 4.0, 4.0, 4.0, 8.0, 8.0, 8.0, 8.0, 8.0, 8.0, 8.0, 8.0, 4.0, 4.0, 4.0, 8.0, 8.0, 8.0, 8.0, 8.0, 8.0, 8.0, 8.0, 4.0, 4.0, 4.0, 8.0, 8.0, 8.0, 8.0, 8.0, 8.0, 8.0, 8.0, 4.0, 4.0, 4.0, 8.0, 8.0, 8.0, 8.0, 8.0, 8.0, 8.0, 8.0, 4.0, 4.0, 4.0, 8.0, 8.0, 8.0, 8.0, 8.0, 8.0, 8.0, 8.0, 4.0, 4.0, 4.0, 8.0, 8.0, 8.0, 8.0, 8.0, 8.0, 8.0, 8.0, 4.0, 4.0, 4.0, 8.0, 8.0, 8.0, 8.0, 8.0, 8.0, 8.0, 8.0, 4.0, 4.0, 4.0, 8.0, 8.0, 8.0, 8.0, 8.0, 8.0, 8.0, 8.0, 4.0, 4.0, 4.0, 8.0, 8.0, 8.0, 8.0, 8.0, 8.0, 8.0, 8.0, 4.0, 4.0, 4.0, 8.0, 8.0, 8.0, 8.0, 8.0, 8.0, 8.0, 8.0, 4.0, 4.0, 4.0, 8.0, 8.0, 8.0, 8.0, 8.0, 8.0, 8.0, 8.0, 4.0, 4.0, 4.0, 8.0, 8.0, 8.0, 8.0, 8.0, 8.0, 8.0, 8.0, 4.0, 4.0, 4.0, 8.0, 8.0, 8.0, 8.0, 8.0, 8.0, 8.0, 8.0, 4.0, 4.0, 4.0, 8.0, 8.0, 8.0, 8.0, 8.0, 8.0, 8.0, 8.0, 4.0, 4.0, 4.0, 8.0, 8.0, 8.0, 8.0, 8.0, 8.0, 8.0, 8.0, 4.0, 4.0, 4.0, 8.0, 8.0, 8.0, 8.0, 8.0, 8.0, 8.0, 8.0, 4.0], \"colorscale\": [[0, \"wheat\"], [0.5, \"darkgreen\"], [1.0, \"lightgreen\"]], \"opacity\": 0.8, \"size\": 3}, \"mode\": \"markers\", \"name\": \"functiontype 0\", \"scene\": \"scene\", \"type\": \"scatter3d\", \"x\": [0.0, 0.0, 0.00010015183701639242, 0.00019718683016467772, 0.0005121378271136, 0.0007444404472712836, -3.259496651636676e-05, -0.0010499600599038522, -0.0022794197178725856, -0.0032695847118308953, -0.004654620406325865, -0.006426062103431068, -0.008240942288067824, -0.009031960880310821, 0.001035389601304115, 0.0013381412466691427, 0.0015346814576027799, 0.0016428194324587047, 0.0018768648395616962, 0.002182053543936709, 0.0025104478512351625, 0.0024156048776780388, 0.0, 0.0, 0.0, 0.0, 0.0, 0.0, 0.0, 0.0, 0.0, 0.0, 0.0, 0.0, 0.0020225424859373685, 0.004045084971874737, 0.006067627457812106, 0.008090169943749474, 0.010112712429686843, 0.012135254915624212, 0.01415779740156158, 0.016180339887498948, 0.0, 0.0, 0.0, -0.0020225424859373685, -0.004045084971874737, -0.006067627457812106, -0.008090169943749474, -0.010112712429686843, -0.012135254915624212, -0.01415779740156158, -0.016180339887498948, 0.0, 0.0, 0.0, 0.0020225424859373685, 0.004045084971874737, 0.006067627457812106, 0.008090169943749474, 0.010112712429686843, 0.012135254915624212, 0.01415779740156158, 0.016180339887498948, 0.0, 0.0, 0.0, -0.0020225424859373685, -0.004045084971874737, -0.006067627457812106, -0.008090169943749474, -0.010112712429686843, -0.012135254915624212, -0.01415779740156158, -0.016180339887498948, 0.0, 0.0, 0.0, 0.0020225424859373685, 0.004045084971874737, 0.006067627457812106, 0.008090169943749474, 0.010112712429686843, 0.012135254915624212, 0.01415779740156158, 0.016180339887498948, 0.0, 0.0, 0.0, -0.0020225424859373685, -0.004045084971874737, -0.006067627457812106, -0.008090169943749474, -0.010112712429686843, -0.012135254915624212, -0.01415779740156158, -0.016180339887498948, 0.0, 0.0, 0.0, 0.0020225424859373685, 0.004045084971874737, 0.006067627457812106, 0.008090169943749474, 0.010112712429686843, 0.012135254915624212, 0.01415779740156158, 0.016180339887498948, 0.0, 0.0, 0.0, -0.0020225424859373685, -0.004045084971874737, -0.006067627457812106, -0.008090169943749474, -0.010112712429686843, -0.012135254915624212, -0.01415779740156158, -0.016180339887498948, 0.0, 0.0, 0.0, 0.0020225424859373685, 0.004045084971874737, 0.006067627457812106, 0.008090169943749474, 0.010112712429686843, 0.012135254915624212, 0.01415779740156158, 0.016180339887498948, 0.0, 0.0, 0.0, -0.0020225424859373685, -0.004045084971874737, -0.006067627457812106, -0.008090169943749474, -0.010112712429686843, -0.012135254915624212, -0.01415779740156158, -0.016180339887498948, 0.0, 0.0, 0.0, 0.0020225424859373685, 0.004045084971874737, 0.006067627457812106, 0.008090169943749474, 0.010112712429686843, 0.012135254915624212, 0.01415779740156158, 0.016180339887498948, 0.0, 0.0, 0.0, -0.0020225424859373685, -0.004045084971874737, -0.006067627457812106, -0.008090169943749474, -0.010112712429686843, -0.012135254915624212, -0.01415779740156158, -0.016180339887498948, 0.0, 0.0, 0.0, 0.0020225424859373685, 0.004045084971874737, 0.006067627457812106, 0.008090169943749474, 0.010112712429686843, 0.012135254915624212, 0.01415779740156158, 0.016180339887498948, 0.0, 0.0, 0.0, -0.0020225424859373685, -0.004045084971874737, -0.006067627457812106, -0.008090169943749474, -0.010112712429686843, -0.012135254915624212, -0.01415779740156158, -0.016180339887498948, 0.0, 0.0, 0.0, 0.0020225424859373685, 0.004045084971874737, 0.006067627457812106, 0.008090169943749474, 0.010112712429686843, 0.012135254915624212, 0.01415779740156158, 0.016180339887498948, 0.0, 0.0, 0.0, -0.0020225424859373685, -0.004045084971874737, -0.006067627457812106, -0.008090169943749474, -0.010112712429686843, -0.012135254915624212, -0.01415779740156158, -0.016180339887498948, 0.0, 0.0, 0.0, 0.0020225424859373685, 0.004045084971874737, 0.006067627457812106, 0.008090169943749474, 0.010112712429686843, 0.012135254915624212, 0.01415779740156158, 0.016180339887498948, 0.0, 0.0, 0.0, -0.0020225424859373685, -0.004045084971874737, -0.006067627457812106, -0.008090169943749474, -0.010112712429686843, -0.012135254915624212, -0.01415779740156158, -0.016180339887498948, 0.0, 0.0, 0.0, 0.0020225424859373685, 0.004045084971874737, 0.006067627457812106, 0.008090169943749474, 0.010112712429686843, 0.012135254915624212, 0.01415779740156158, 0.016180339887498948, 0.0, 0.0, 0.0, -0.0020225424859373685, -0.004045084971874737, -0.006067627457812106, -0.008090169943749474, -0.010112712429686843, -0.012135254915624212, -0.01415779740156158, -0.016180339887498948, 0.0, 0.0, 0.0, 0.0020225424859373685, 0.004045084971874737, 0.006067627457812106, 0.008090169943749474, 0.010112712429686843, 0.012135254915624212, 0.01415779740156158, 0.016180339887498948, 0.0, 0.0, 0.0, -0.0020225424859373685, -0.004045084971874737, -0.006067627457812106, -0.008090169943749474, -0.010112712429686843, -0.012135254915624212, -0.01415779740156158, -0.016180339887498948, 0.0, 0.0, 0.0, 0.0020225424859373685, 0.004045084971874737, 0.006067627457812106, 0.008090169943749474, 0.010112712429686843, 0.012135254915624212, 0.01415779740156158, 0.016180339887498948, 0.0, 0.0, 0.0, -0.0020225424859373685, -0.004045084971874737, -0.006067627457812106, -0.008090169943749474, -0.010112712429686843, -0.012135254915624212, -0.01415779740156158, -0.016180339887498948, 0.0, 0.0, 0.0, 0.0020225424859373685, 0.004045084971874737, 0.006067627457812106, 0.008090169943749474, 0.010112712429686843, 0.012135254915624212, 0.01415779740156158, 0.016180339887498948, 0.0], \"y\": [0.0, 0.0, -0.00016697121932120123, -0.0003749478831431608, -0.0007210200005182968, -0.000987831982345281, 0.0007499417988193891, 0.002328881170023136, 0.0039037417397476243, 0.005315500256217288, 0.00668590503492287, 0.008257473611140825, 0.00976360836790993, 0.010409858582155061, -0.0008257139684296794, -0.000765998329847883, -0.0009090358545970644, -0.0012142481942126638, -0.00136390879982559, -0.001599446154935282, -0.0018819848427113167, -0.0020397903696674417, 0.0, 0.0, 0.0, 0.0, 0.0, 0.0, 0.0, 0.0, 0.0, 0.0, 0.0, 0.0, -1.68454250637615e-17, -3.3690850127523e-17, -5.0536275191284505e-17, -6.7381700255046e-17, -8.42271253188075e-17, -1.01072550382569e-16, -1.179179754463305e-16, -1.3476340051009198e-16, 0.0, 0.0, 0.0, 9.907600726170918e-18, 1.9815201452341835e-17, 2.9722802178512754e-17, 3.963040290468367e-17, 4.9538003630854586e-17, 5.94456043570255e-17, 6.935320508319641e-17, 7.926080580936733e-17, 0.0, 0.0, 0.0, -3.1711833811559763e-17, -6.342366762311953e-17, -9.513550143467929e-17, -1.2684733524623905e-16, -1.5855916905779877e-16, -1.902710028693585e-16, -2.2198283668091824e-16, -2.53694670492478e-16, 0.0, 0.0, 0.0, -3.968047949010256e-18, -7.936095898020513e-18, -1.190414384703077e-17, -1.587219179604103e-17, -1.9840239745051285e-17, -2.380828769406154e-17, -2.77763356430718e-17, -3.174438359208205e-17, 0.0, 0.0, 0.0, -1.7836185136378594e-17, -3.567237027275719e-17, -5.350855540913579e-17, -7.134474054551438e-17, -8.918092568189299e-17, -1.0701711081827159e-16, -1.248532959546502e-16, -1.426894810910288e-16, 0.0, 0.0, 0.0, 3.964041822176744e-17, 7.928083644353488e-17, 1.1892125466530233e-16, 1.5856167288706977e-16, 1.982020911088372e-16, 2.378425093306046e-16, 2.7748292755237207e-16, 3.171233457741395e-16, 0.0, 0.0, 0.0, -3.960536461197422e-18, -7.921072922394843e-18, -1.1881609383592264e-17, -1.5842145844789684e-17, -1.9802682305987102e-17, -2.3763218767184527e-17, -2.772375522838195e-17, -3.1684291689579374e-17, 0.0, 0.0, 0.0, 2.5764769546586272e-17, 5.1529539093172544e-17, 7.729430863975882e-17, 1.0305907818634508e-16, 1.2882384773293134e-16, 1.545886172795176e-16, 1.8035338682610386e-16, 2.0611815637269013e-16, 0.0, 0.0, 0.0, 9.91511221398375e-18, 1.98302244279675e-17, 2.974533664195125e-17, 3.9660448855935e-17, 4.9575561069918753e-17, 5.94906732839025e-17, 6.940578549788625e-17, 7.932089771187e-17, 0.0, 0.0, 0.0, 1.1889120871405098e-17, 2.3778241742810196e-17, 3.5667362614215296e-17, 4.75564834856204e-17, 5.944560435702551e-17, 7.13347252284306e-17, 8.32238460998357e-17, 9.51129669712408e-17, 0.0, 0.0, 0.0, -3.369335395679395e-17, -6.73867079135879e-17, -1.0108006187038186e-16, -1.347734158271758e-16, -1.6846676978396974e-16, -2.0216012374076371e-16, -2.3585347769755763e-16, -2.695468316543516e-16, 0.0, 0.0, 0.0, -1.9865278037760733e-18, -3.973055607552147e-18, -5.959583411328221e-18, -7.946111215104295e-18, -9.932639018880367e-18, -1.1919166822656441e-17, -1.3905694626432514e-17, -1.5892222430208587e-17, 0.0, 0.0, 0.0, -1.9817705281612778e-17, -3.9635410563225556e-17, -5.945311584483833e-17, -7.927082112645111e-17, -9.908852640806389e-17, -1.1890623168967669e-16, -1.3872393697128947e-16, -1.5854164225290225e-16, 0.0, 0.0, 0.0, -1.5862176478957245e-17, -3.172435295791449e-17, -4.758652943687173e-17, -6.344870591582898e-17, -7.931088239478622e-17, -9.517305887374346e-17, -1.1103523535270072e-16, -1.2689741183165796e-16, 0.0, 0.0, 0.0, -5.942056606431605e-18, -1.188411321286321e-17, -1.7826169819294817e-17, -2.376822642572642e-17, -2.971028303215803e-17, -3.5652339638589633e-17, -4.159439624502123e-17, -4.753645285145284e-17, 0.0, 0.0, 0.0, 2.7746289691820456e-17, 5.549257938364091e-17, 8.323886907546136e-17, 1.1098515876728181e-16, 1.3873144845910224e-16, 1.664777381509227e-16, 1.9422402784274315e-16, 2.2197031753456357e-16, 0.0, 0.0, 0.0, 7.933592068749568e-18, 1.5867184137499137e-17, 2.3800776206248704e-17, 3.1734368274998273e-17, 3.966796034374784e-17, 4.760155241249741e-17, 5.553514448124698e-17, 6.346873654999655e-17, 0.0, 0.0, 0.0, 1.3870641016639284e-17, 2.7741282033278567e-17, 4.161192304991785e-17, 5.548256406655714e-17, 6.935320508319642e-17, 8.32238460998357e-17, 9.709448711647498e-17, 1.1096512813311427e-16, 0.0, 0.0, 0.0, -3.567487410202813e-17, -7.134974820405626e-17, -1.070246223060844e-16, -1.4269949640811252e-16, -1.7837437051014067e-16, -2.140492446121688e-16, -2.4972411871419695e-16, -2.8539899281622505e-16, 0.0, 0.0, 0.0, -5.0076585418900475e-21, -1.0015317083780095e-20, -1.5022975625670144e-20, -2.003063416756019e-20, -2.503829270945024e-20, -3.004595125134029e-20, -3.505360979323034e-20, -4.006126833512039e-20, 0.0, 0.0, 0.0, -2.1799225426846962e-17, -4.3598450853693923e-17, -6.539767628054089e-17, -8.719690170738785e-17, -1.0899612713423481e-16, -1.3079535256108177e-16, -1.5259457798792876e-16, -1.7439380341477572e-16, 0.0, 0.0, 0.0, 4.360345851223581e-17, 8.720691702447162e-17, 1.3081037553670741e-16, 1.7441383404894324e-16, 2.1801729256117903e-16, 2.6162075107341483e-16, 3.052242095856506e-16, 3.4882766809788637e-16, 0.0, 0.0, 0.0, -7.923576751665788e-18, -1.5847153503331576e-17, -2.3770730254997362e-17, -3.169430700666315e-17, -3.961788375832894e-17, -4.7541460509994724e-17, -5.5465037261660516e-17, -6.33886140133263e-17, 0.0, 0.0, 0.0, 2.972780983705464e-17, 5.945561967410928e-17, 8.918342951116391e-17, 1.1891123934821853e-16, 1.4863904918527317e-16, 1.783668590223278e-16, 2.080946688593824e-16, 2.3782247869643707e-16, 0.0, 0.0, 0.0, 5.952071923515385e-18, 1.190414384703077e-17, 1.7856215770546155e-17, 2.380828769406154e-17, 2.976035961757693e-17, 3.571243154109231e-17, 4.16645034646077e-17, 4.761657538812308e-17, 0.0], \"z\": [-0.03, -0.03, -0.03249240651208037, -0.03498185020845315, -0.03743766778292736, -0.03991251057773705, -0.04153311486355654, -0.04318293871137163, -0.04468568391111591, -0.04649579749205908, -0.04806221597620555, -0.048863568909688244, -0.049692886707558837, -0.05010075033233851, -0.0423902245118569, -0.04487110650899775, -0.04735926088764868, -0.049838202517889375, -0.05232271946299995, -0.05479281703375901, -0.05725499677310457, -0.05974820800082454, -0.0275, -0.025, -0.0225, -0.02, -0.0175, -0.015, -0.0125, -0.01, -0.0075, -0.005, -0.0025, 0.0, 0.0014694631307311829, 0.0029389262614623658, 0.004408389392193549, 0.0058778525229247315, 0.007347315653655915, 0.008816778784387098, 0.010286241915118281, 0.011755705045849465, 0.0025, 0.005, 0.007000000000000002, 0.008469463130731185, 0.009938926261462368, 0.01140838939219355, 0.012877852522924733, 0.014347315653655917, 0.0158167787843871, 0.017286241915118284, 0.018755705045849468, 0.009500000000000001, 0.012000000000000002, 0.014000000000000004, 0.015469463130731187, 0.01693892626146237, 0.018408389392193553, 0.019877852522924736, 0.02134731565365592, 0.022816778784387103, 0.024286241915118287, 0.02575570504584947, 0.016500000000000004, 0.019000000000000003, 0.021000000000000005, 0.02246946313073119, 0.023938926261462372, 0.025408389392193555, 0.02687785252292474, 0.028347315653655922, 0.029816778784387106, 0.031286241915118286, 0.03275570504584947, 0.023500000000000007, 0.026000000000000006, 0.028000000000000008, 0.02946946313073119, 0.030938926261462375, 0.03240838939219356, 0.03387785252292474, 0.035347315653655925, 0.036816778784387105, 0.03828624191511829, 0.03975570504584947, 0.030500000000000006, 0.03300000000000001, 0.03500000000000001, 0.03646946313073119, 0.03793892626146238, 0.03940838939219356, 0.040877852522924744, 0.042347315653655924, 0.04381677878438711, 0.04528624191511829, 0.04675570504584948, 0.037500000000000006, 0.04000000000000001, 0.04200000000000001, 0.0434694631307312, 0.04493892626146238, 0.046408389392193564, 0.047877852522924744, 0.04934731565365593, 0.05081677878438711, 0.0522862419151183, 0.05375570504584948, 0.04450000000000001, 0.047000000000000014, 0.049000000000000016, 0.050469463130731196, 0.051938926261462376, 0.05340838939219356, 0.05487785252292474, 0.05634731565365593, 0.05781677878438711, 0.0592862419151183, 0.06075570504584948, 0.05150000000000001, 0.05400000000000001, 0.056000000000000015, 0.057469463130731195, 0.05893892626146238, 0.06040838939219356, 0.06187785252292475, 0.06334731565365594, 0.06481677878438712, 0.0662862419151183, 0.06775570504584948, 0.05850000000000002, 0.06100000000000001, 0.063, 0.0644694631307312, 0.06593892626146237, 0.06740838939219355, 0.06887785252292473, 0.07034731565365593, 0.07181677878438711, 0.07328624191511829, 0.07475570504584947, 0.0655, 0.068, 0.07, 0.07146946313073119, 0.07293892626146237, 0.07440838939219355, 0.07587785252292473, 0.07734731565365592, 0.0788167787843871, 0.08028624191511828, 0.08175570504584946, 0.0725, 0.075, 0.077, 0.07846946313073118, 0.07993892626146236, 0.08140838939219354, 0.08287785252292473, 0.0843473156536559, 0.0858167787843871, 0.08728624191511827, 0.08875570504584945, 0.07949999999999999, 0.08199999999999999, 0.08399999999999999, 0.08546946313073116, 0.08693892626146235, 0.08840838939219353, 0.08987785252292473, 0.09134731565365589, 0.09281677878438709, 0.09428624191511827, 0.09575570504584946, 0.08649999999999998, 0.08899999999999998, 0.09099999999999998, 0.09246946313073115, 0.09393892626146234, 0.09540838939219352, 0.09687785252292472, 0.09834731565365588, 0.09981677878438708, 0.10128624191511826, 0.10275570504584945, 0.09349999999999997, 0.09599999999999997, 0.09799999999999998, 0.09946946313073114, 0.10093892626146234, 0.10240838939219352, 0.10387785252292471, 0.10534731565365588, 0.10681677878438707, 0.10828624191511825, 0.10975570504584944, 0.10049999999999998, 0.10299999999999997, 0.10499999999999997, 0.10646946313073113, 0.10793892626146233, 0.10940838939219351, 0.1108778525229247, 0.11234731565365587, 0.11381677878438706, 0.11528624191511824, 0.11675570504584944, 0.10749999999999997, 0.10999999999999996, 0.11199999999999996, 0.11346946313073113, 0.11493892626146232, 0.1164083893921935, 0.1178778525229247, 0.11934731565365586, 0.12081677878438705, 0.12228624191511824, 0.12375570504584943, 0.11449999999999996, 0.11699999999999995, 0.11899999999999995, 0.12046946313073112, 0.12193892626146231, 0.1234083893921935, 0.12487785252292469, 0.12634731565365587, 0.12781677878438705, 0.12928624191511823, 0.1307557050458494, 0.12149999999999996, 0.12399999999999994, 0.12599999999999995, 0.12746946313073113, 0.1289389262614623, 0.13040838939219349, 0.13187785252292467, 0.13334731565365585, 0.13481677878438705, 0.1362862419151182, 0.1377557050458494, 0.12849999999999995, 0.13099999999999995, 0.13299999999999992, 0.1344694631307311, 0.1359389262614623, 0.13740838939219346, 0.13887785252292467, 0.14034731565365585, 0.14181677878438703, 0.1432862419151182, 0.1447557050458494, 0.13549999999999993, 0.13799999999999993, 0.13999999999999993, 0.1414694631307311, 0.1429389262614623, 0.14440838939219347, 0.14587785252292465, 0.14734731565365583, 0.14881677878438704, 0.1502862419151182, 0.1517557050458494, 0.14249999999999993, 0.14499999999999993, 0.1469999999999999, 0.1484694631307311, 0.1499389262614623, 0.15140838939219348, 0.15287785252292466, 0.15434731565365584, 0.15581677878438702, 0.1572862419151182, 0.15875570504584938, 0.1494999999999999, 0.1519999999999999, 0.15399999999999991, 0.1554694631307311, 0.15693892626146227, 0.15840838939219345, 0.15987785252292464, 0.16134731565365584, 0.162816778784387, 0.1642862419151182, 0.16575570504584938, 0.15649999999999992, 0.15899999999999992, 0.16099999999999992, 0.1624694631307311, 0.16393892626146225, 0.16540838939219346, 0.16687785252292464, 0.16834731565365582, 0.169816778784387, 0.17128624191511818, 0.17275570504584936, 0.1634999999999999, 0.1659999999999999, 0.1679999999999999, 0.16946946313073108, 0.17093892626146226, 0.17240838939219344, 0.17387785252292465, 0.17534731565365583, 0.17681677878438698, 0.1782862419151182, 0.17975570504584937, 0.16999999999999993]}, {\"marker\": {\"color\": [2.0, 4.0, 2.0, 2.0, 2.0, 2.0, 2.0, 2.0, 2.0, 2.0, 2.0, 2.0, 2.0, 2.0, 2.0, 2.0, 2.0, 2.0, 2.0, 2.0, 2.0, 2.0, 4.0, 4.0, 4.0, 4.0, 4.0, 4.0, 4.0, 4.0, 4.0, 4.0, 4.0, 4.0, 8.0, 8.0, 8.0, 8.0, 8.0, 8.0, 8.0, 8.0, 4.0, 4.0, 4.0, 8.0, 8.0, 8.0, 8.0, 8.0, 8.0, 8.0, 8.0, 4.0, 4.0, 4.0, 4.0, 4.0, 4.0, 8.0, 8.0, 8.0, 8.0, 8.0, 8.0, 8.0, 8.0, 4.0, 4.0, 4.0, 4.0, 4.0, 4.0, 4.0, 4.0, 4.0, 8.0, 8.0, 8.0, 8.0, 8.0, 8.0, 8.0, 8.0, 4.0, 4.0, 4.0, 4.0, 4.0, 4.0, 4.0, 4.0, 4.0, 4.0, 4.0, 4.0, 8.0, 8.0, 8.0, 8.0, 8.0, 8.0, 8.0, 8.0, 4.0, 4.0, 4.0, 4.0, 4.0, 4.0, 4.0, 4.0, 4.0, 4.0, 4.0, 4.0, 4.0, 4.0, 8.0, 8.0, 8.0, 8.0, 8.0, 8.0, 8.0, 8.0, 4.0, 4.0, 4.0, 4.0, 4.0, 4.0, 4.0, 4.0, 4.0, 4.0, 4.0, 4.0, 4.0, 4.0, 4.0, 4.0, 4.0, 8.0, 8.0, 8.0, 8.0, 8.0, 8.0, 8.0, 8.0, 4.0, 4.0, 4.0, 4.0, 4.0, 4.0, 4.0, 4.0, 4.0, 4.0], \"colorscale\": [[0, \"wheat\"], [0.5, \"darkgreen\"], [1.0, \"lightgreen\"]], \"opacity\": 0.8, \"size\": 3}, \"mode\": \"markers\", \"name\": \"functiontype 1\", \"scene\": \"scene2\", \"type\": \"scatter3d\", \"x\": [0.0, 0.0, 4.706253352657134e-05, 7.31596501160358e-05, 0.00010108214381368308, -7.629237358626745e-05, 0.00088240583742247, 0.00185033051913848, 0.0029376281872271048, 0.00393587671570635, 0.004939940876227922, 0.005878658528866787, 0.006600372046312391, 0.006989046291736631, -0.00017132582383116047, -0.0003350137518720348, -0.00011133362463648457, -5.990507589549463e-05, 0.000249254315107487, 0.00047737356362526697, 0.0006694089031770383, 0.0005316921718313769, 0.0, 0.0, 0.0, 0.0, 0.0, 0.0, 0.0, 0.0, 0.0, 0.0, 0.0, 0.0, -0.0020225424859373685, -0.004045084971874737, -0.006067627457812106, -0.008090169943749474, -0.010112712429686843, -0.012135254915624212, -0.01415779740156158, -0.016180339887498948, 0.0, 0.0, 0.0, 0.0020225424859373685, 0.004045084971874737, 0.006067627457812106, 0.008090169943749474, 0.010112712429686843, 0.012135254915624212, 0.01415779740156158, 0.016180339887498948, 0.0, 0.0, 0.0, 0.0, 0.0, 0.0, -0.0020225424859373685, -0.004045084971874737, -0.006067627457812106, -0.008090169943749474, -0.010112712429686843, -0.012135254915624212, -0.01415779740156158, -0.016180339887498948, 0.0, 0.0, 0.0, 0.0, 0.0, 0.0, 0.0, 0.0, 0.0, 0.0020225424859373685, 0.004045084971874737, 0.006067627457812106, 0.008090169943749474, 0.010112712429686843, 0.012135254915624212, 0.01415779740156158, 0.016180339887498948, 0.0, 0.0, 0.0, 0.0, 0.0, 0.0, 0.0, 0.0, 0.0, 0.0, 0.0, 0.0, -0.0020225424859373685, -0.004045084971874737, -0.006067627457812106, -0.008090169943749474, -0.010112712429686843, -0.012135254915624212, -0.01415779740156158, -0.016180339887498948, 0.0, 0.0, 0.0, 0.0, 0.0, 0.0, 0.0, 0.0, 0.0, 0.0, 0.0, 0.0, 0.0, 0.0, 0.0020225424859373685, 0.004045084971874737, 0.006067627457812106, 0.008090169943749474, 0.010112712429686843, 0.012135254915624212, 0.01415779740156158, 0.016180339887498948, 0.0, 0.0, 0.0, 0.0, 0.0, 0.0, 0.0, 0.0, 0.0, 0.0, 0.0, 0.0, 0.0, 0.0, 0.0, 0.0, 0.0, -0.0020225424859373685, -0.004045084971874737, -0.006067627457812106, -0.008090169943749474, -0.010112712429686843, -0.012135254915624212, -0.01415779740156158, -0.016180339887498948, 0.0, 0.0, 0.0, 0.0, 0.0, 0.0, 0.0, 0.0, 0.0, 0.0], \"y\": [0.0, 0.0, -2.1149276023311653e-05, -2.730355352117874e-05, -3.8106323741237266e-05, -9.072391461196344e-05, 0.0020022192770342557, 0.0040854134546496786, 0.006090598067323238, 0.008135417090409974, 0.010304147486390532, 0.01242645386811727, 0.014694139755946037, 0.01564718627048358, 5.9633787381172323e-05, 0.00023324722145988755, 0.0004079402582908252, 0.000725604462433398, 0.001166782754858617, 0.0016275435598585776, 0.002055073188220828, 0.002736842725162642, 0.0, 0.0, 0.0, 0.0, 0.0, 0.0, 0.0, 0.0, 0.0, 0.0, 0.0, 0.0, 1.5852161161873464e-17, 3.170432232374693e-17, 4.75564834856204e-17, 6.340864464749387e-17, 7.926080580936734e-17, 9.51129669712408e-17, 1.1096512813311427e-16, 1.2681728929498771e-16, 0.0, 0.0, 0.0, -3.765639424726232e-17, -7.531278849452464e-17, -1.1296918274178694e-16, -1.5062557698904927e-16, -1.8828197123631158e-16, -2.259383654835739e-16, -2.635947597308362e-16, -3.0125115397809854e-16, 0.0, 0.0, 0.0, 0.0, 0.0, 0.0, 1.9765124866922935e-18, 3.953024973384587e-18, 5.92953746007688e-18, 7.906049946769173e-18, 9.882562433461465e-18, 1.1859074920153758e-17, 1.383558740684605e-17, 1.5812099893538342e-17, 0.0, 0.0, 0.0, 0.0, 0.0, 0.0, 0.0, 0.0, 0.0, -2.3780745572081142e-17, -4.7561491144162285e-17, -7.134223671624343e-17, -9.512298228832456e-17, -1.1890372786040569e-16, -1.4268447343248685e-16, -1.66465219004568e-16, -1.9024596457664914e-16, 0.0, 0.0, 0.0, 0.0, 0.0, 0.0, 0.0, 0.0, 0.0, 0.0, 0.0, 0.0, -1.1899136188488879e-17, -2.3798272376977758e-17, -3.5697408565466635e-17, -4.759654475395552e-17, -5.94956809424444e-17, -7.13948171309333e-17, -8.329395331942217e-17, -9.519308950791106e-17, 0.0, 0.0, 0.0, 0.0, 0.0, 0.0, 0.0, 0.0, 0.0, 0.0, 0.0, 0.0, 0.0, 0.0, -9.905096896899973e-18, -1.9810193793799946e-17, -2.971529069069992e-17, -3.96203875875999e-17, -4.952548448449988e-17, -5.943058138139985e-17, -6.933567827829983e-17, -7.924077517519981e-17, 0.0, 0.0, 0.0, 0.0, 0.0, 0.0, 0.0, 0.0, 0.0, 0.0, 0.0, 0.0, 0.0, 0.0, 0.0, 0.0, 0.0, 3.1709329982288827e-17, 6.341865996457765e-17, 9.512798994686648e-17, 1.268373199291553e-16, 1.5854664991144415e-16, 1.9025597989373298e-16, 2.2196530987602182e-16, 2.5367463985831066e-16, 0.0, 0.0, 0.0, 0.0, 0.0, 0.0, 0.0, 0.0, 0.0, 0.0], \"z\": [-0.03, -0.03, -0.03249946750850291, -0.034999323717442576, -0.037499144437914605, -0.03999228897237467, -0.04096721796299419, -0.041953840397806086, -0.042977079592748414, -0.04401255776162096, -0.04474635857322186, -0.04567621059946375, -0.046442193832229674, -0.04682959459796301, -0.04248595318489124, -0.04497454006055403, -0.04745837772504877, -0.04993758012860134, -0.05237884664114097, -0.05482540771518582, -0.05728108294722194, -0.05968237934717044, -0.0275, -0.025, -0.0225, -0.02, -0.0175, -0.015, -0.0125, -0.01, -0.0075, -0.005, -0.0025, 0.0, 0.0014694631307311829, 0.0029389262614623658, 0.004408389392193549, 0.0058778525229247315, 0.007347315653655915, 0.008816778784387098, 0.010286241915118281, 0.011755705045849465, 0.0025, 0.005, 0.007000000000000002, 0.008469463130731185, 0.009938926261462368, 0.01140838939219355, 0.012877852522924733, 0.014347315653655917, 0.0158167787843871, 0.017286241915118284, 0.018755705045849468, 0.009500000000000001, 0.012000000000000002, 0.014500000000000002, 0.017, 0.019500000000000003, 0.020999999999999998, 0.02246946313073118, 0.023938926261462365, 0.025408389392193545, 0.02687785252292473, 0.028347315653655912, 0.029816778784387096, 0.03128624191511828, 0.032755705045849466, 0.023499999999999997, 0.025999999999999995, 0.028499999999999998, 0.030999999999999996, 0.033499999999999995, 0.036, 0.0385, 0.040999999999999995, 0.041999999999999996, 0.043469463130731176, 0.04493892626146236, 0.04640838939219354, 0.04787785252292473, 0.04934731565365591, 0.05081677878438709, 0.05228624191511828, 0.05375570504584946, 0.04449999999999999, 0.04699999999999999, 0.049499999999999995, 0.05199999999999999, 0.05449999999999999, 0.056999999999999995, 0.05949999999999999, 0.06199999999999999, 0.06449999999999999, 0.06699999999999999, 0.06949999999999999, 0.07, 0.07146946313073119, 0.07293892626146237, 0.07440838939219355, 0.07587785252292473, 0.07734731565365592, 0.0788167787843871, 0.08028624191511828, 0.08175570504584946, 0.0725, 0.075, 0.0775, 0.08, 0.0825, 0.085, 0.0875, 0.09, 0.0925, 0.095, 0.0975, 0.1, 0.1025, 0.105, 0.10646946313073118, 0.10793892626146237, 0.10940838939219354, 0.11087785252292473, 0.11234731565365591, 0.1138167787843871, 0.11528624191511827, 0.11675570504584946, 0.1075, 0.11, 0.1125, 0.115, 0.1175, 0.12, 0.1225, 0.125, 0.1275, 0.13, 0.1325, 0.135, 0.1375, 0.14, 0.1425, 0.145, 0.147, 0.14846946313073117, 0.14993892626146235, 0.15140838939219353, 0.15287785252292474, 0.1543473156536559, 0.1558167787843871, 0.15728624191511828, 0.15875570504584946, 0.1495, 0.152, 0.1545, 0.157, 0.1595, 0.162, 0.16449999999999998, 0.16699999999999998, 0.16949999999999998, 0.16999999999999985]}, {\"marker\": {\"color\": [2.0, 4.0, 2.0, 2.0, 2.0, 2.0, 2.0, 2.0, 2.0, 2.0, 2.0, 2.0, 2.0, 2.0, 2.0, 2.0, 2.0, 2.0, 2.0, 2.0, 2.0, 2.0, 4.0, 4.0, 4.0, 4.0, 4.0, 4.0, 4.0, 4.0, 4.0, 4.0, 4.0, 4.0, 8.0, 8.0, 8.0, 8.0, 8.0, 8.0, 8.0, 8.0, 8.0, 8.0, 8.0, 8.0, 8.0, 8.0, 8.0, 8.0, 4.0, 4.0, 4.0, 4.0, 4.0, 4.0, 4.0, 4.0, 4.0, 4.0, 4.0, 4.0, 4.0, 4.0, 4.0, 4.0, 4.0, 4.0, 4.0, 4.0, 4.0, 4.0, 4.0, 4.0, 4.0, 4.0, 4.0, 4.0, 4.0, 4.0, 8.0, 8.0, 8.0, 8.0, 8.0, 8.0, 8.0, 8.0, 8.0, 8.0, 8.0, 8.0, 8.0, 8.0, 8.0, 8.0, 4.0, 4.0, 4.0, 4.0, 4.0, 4.0, 4.0, 4.0, 4.0, 4.0, 4.0, 4.0, 4.0, 4.0, 4.0, 4.0, 4.0, 4.0, 4.0, 4.0, 4.0, 4.0, 4.0, 4.0, 4.0, 4.0, 4.0, 4.0, 4.0, 4.0, 4.0, 4.0, 4.0, 4.0, 4.0, 4.0, 4.0, 4.0, 4.0, 4.0, 4.0], \"colorscale\": [[0, \"wheat\"], [0.5, \"darkgreen\"], [1.0, \"lightgreen\"]], \"opacity\": 0.8, \"size\": 3}, \"mode\": \"markers\", \"name\": \"functiontype 2\", \"scene\": \"scene3\", \"type\": \"scatter3d\", \"x\": [0.0, 0.0, 0.00026440083559334466, 0.00042892188349600733, 0.0003473992240418585, 0.00029120989783885584, -0.002078241700122181, -0.00445375050531043, -0.006852437628357761, -0.008919412317655397, -0.01113443170737794, -0.013511662351932305, -0.01593777211748001, -0.01699658572049943, 0.00048758471633126633, 0.0004894917405267046, 0.0004905628238346119, 0.0003412638394465717, 0.00010713172606386271, 0.0004173554462365963, 0.0002776316850432405, 0.0001775196467707279, 0.0, 0.0, 0.0, 0.0, 0.0, 0.0, 0.0, 0.0, 0.0, 0.0, 0.0, 0.0, 0.0020225424859373685, 0.004045084971874737, 0.006067627457812106, 0.008090169943749474, 0.010112712429686843, 0.012135254915624212, 0.01415779740156158, 0.016180339887498948, -0.0020225424859373685, -0.004045084971874737, -0.006067627457812106, -0.008090169943749474, -0.010112712429686843, -0.012135254915624212, -0.01415779740156158, -0.016180339887498948, 0.0, 0.0, 0.0, 0.0, 0.0, 0.0, 0.0, 0.0, 0.0, 0.0, 0.0, 0.0, 0.0, 0.0, 0.0, 0.0, 0.0, 0.0, 0.0, 0.0, 0.0, 0.0, 0.0, 0.0, 0.0, 0.0, 0.0, 0.0, 0.0, 0.0, 0.0020225424859373685, 0.004045084971874737, 0.006067627457812106, 0.008090169943749474, 0.010112712429686843, 0.012135254915624212, 0.01415779740156158, 0.016180339887498948, -0.0020225424859373685, -0.004045084971874737, -0.006067627457812106, -0.008090169943749474, -0.010112712429686843, -0.012135254915624212, -0.01415779740156158, -0.016180339887498948, 0.0, 0.0, 0.0, 0.0, 0.0, 0.0, 0.0, 0.0, 0.0, 0.0, 0.0, 0.0, 0.0, 0.0, 0.0, 0.0, 0.0, 0.0, 0.0, 0.0, 0.0, 0.0, 0.0, 0.0, 0.0, 0.0, 0.0, 0.0, 0.0, 0.0, 0.0, 0.0, 0.0, 0.0, 0.0, 0.0, 0.0, 0.0, 0.0, 0.0, 0.0], \"y\": [0.0, 0.0, 4.171830907469182e-05, 3.6678435811979966e-05, 5.997261987580141e-05, 6.626141295612628e-05, 0.0006461210177639912, 0.0012600267934551412, 0.0018963775843253061, 0.003195838786781462, 0.0043488274504317245, 0.005114047930159276, 0.005716923859950346, 0.00600737534200522, 0.0002764011801820701, 0.00012438016471123125, -3.0244296427196314e-05, -8.347395476006665e-05, -0.00012361854785734123, -0.00014097420345436835, -0.0002101225667436912, -0.0004849501128968428, 0.0, 0.0, 0.0, 0.0, 0.0, 0.0, 0.0, 0.0, 0.0, 0.0, 0.0, 0.0, 3.970551778281201e-18, 7.941103556562401e-18, 1.1911655334843604e-17, 1.5882207113124806e-17, 1.9852758891406008e-17, 2.382331066968721e-17, 2.7793862447968416e-17, 3.176441422624962e-17, 1.7833681307107648e-17, 3.5667362614215296e-17, 5.350104392132295e-17, 7.13347252284306e-17, 8.916840653553827e-17, 1.0700208784264593e-16, 1.2483576914975358e-16, 1.4266945045686126e-16, 0.0, 0.0, 0.0, 0.0, 0.0, 0.0, 0.0, 0.0, 0.0, 0.0, 0.0, 0.0, 0.0, 0.0, 0.0, 0.0, 0.0, 0.0, 0.0, 0.0, 0.0, 0.0, 0.0, 0.0, 0.0, 0.0, 0.0, 0.0, 0.0, 0.0, -3.96379143924965e-17, -7.9275828784993e-17, -1.189137431774895e-16, -1.58551657569986e-16, -1.981895719624825e-16, -2.37827486354979e-16, -2.774654007474755e-16, -3.17103315139972e-16, 3.9580326319264766e-18, 7.916065263852953e-18, 1.187409789577943e-17, 1.5832130527705906e-17, 1.979016315963238e-17, 2.3748195791558855e-17, 2.770622842348533e-17, 3.1664261055411806e-17, 0.0, 0.0, 0.0, 0.0, 0.0, 0.0, 0.0, 0.0, 0.0, 0.0, 0.0, 0.0, 0.0, 0.0, 0.0, 0.0, 0.0, 0.0, 0.0, 0.0, 0.0, 0.0, 0.0, 0.0, 0.0, 0.0, 0.0, 0.0, 0.0, 0.0, 0.0, 0.0, 0.0, 0.0, 0.0, 0.0, 0.0, 0.0, 0.0, 0.0, 0.0], \"z\": [-0.03, -0.03, -0.032485629051331975, -0.03498020465140396, -0.037478766525159406, -0.039978127085523285, -0.04052535826485425, -0.04100502232963933, -0.04130727678648957, -0.041844879071747124, -0.04196448778650974, -0.04207943159885809, -0.042102497131425345, -0.042169205208317254, -0.04246152761884293, -0.04495690053167859, -0.04745211397521367, -0.049947084198830476, -0.05243577272195425, -0.05491638958569218, -0.057411524005801115, -0.059894354527538024, -0.0275, -0.025, -0.0225, -0.02, -0.0175, -0.015, -0.0125, -0.01, -0.0075, -0.005, -0.0025, 0.0, 0.0014694631307311829, 0.0029389262614623658, 0.004408389392193549, 0.0058778525229247315, 0.007347315653655915, 0.008816778784387098, 0.010286241915118281, 0.011755705045849465, 0.0014694631307311829, 0.0029389262614623658, 0.004408389392193549, 0.0058778525229247315, 0.007347315653655915, 0.008816778784387098, 0.010286241915118281, 0.011755705045849465, 0.0025, 0.005, 0.007000000000000002, 0.009500000000000001, 0.012000000000000002, 0.014500000000000002, 0.017, 0.019500000000000003, 0.020999999999999998, 0.023499999999999997, 0.025999999999999995, 0.028499999999999998, 0.030999999999999996, 0.033499999999999995, 0.036, 0.0385, 0.040999999999999995, 0.041999999999999996, 0.04449999999999999, 0.04699999999999999, 0.049499999999999995, 0.05199999999999999, 0.05449999999999999, 0.056999999999999995, 0.05949999999999999, 0.06199999999999999, 0.06449999999999999, 0.06699999999999999, 0.06949999999999999, 0.07, 0.07146946313073119, 0.07293892626146237, 0.07440838939219355, 0.07587785252292473, 0.07734731565365592, 0.0788167787843871, 0.08028624191511828, 0.08175570504584946, 0.07146946313073119, 0.07293892626146237, 0.07440838939219355, 0.07587785252292473, 0.07734731565365592, 0.0788167787843871, 0.08028624191511828, 0.08175570504584946, 0.0725, 0.075, 0.0775, 0.08, 0.0825, 0.085, 0.0875, 0.09, 0.0925, 0.095, 0.0975, 0.1, 0.1025, 0.105, 0.1075, 0.11, 0.1125, 0.115, 0.1175, 0.12, 0.1225, 0.125, 0.1275, 0.13, 0.1325, 0.135, 0.1375, 0.14, 0.1425, 0.145, 0.147, 0.1495, 0.152, 0.1545, 0.157, 0.1595, 0.162, 0.16449999999999998, 0.16699999999999998, 0.16949999999999998, 0.16999999999999985]}, {\"marker\": {\"color\": [2.0, 4.0, 2.0, 2.0, 2.0, 2.0, 2.0, 2.0, 2.0, 2.0, 2.0, 2.0, 2.0, 2.0, 2.0, 2.0, 2.0, 2.0, 2.0, 2.0, 2.0, 2.0, 4.0, 4.0, 4.0, 4.0, 4.0, 4.0, 4.0, 4.0, 4.0, 4.0, 4.0, 4.0, 8.0, 8.0, 8.0, 8.0, 8.0, 8.0, 8.0, 8.0, 8.0, 8.0, 8.0, 8.0, 8.0, 8.0, 8.0, 8.0, 4.0, 4.0, 4.0, 4.0, 4.0, 4.0, 4.0, 4.0, 4.0, 4.0, 4.0, 4.0, 8.0, 8.0, 8.0, 8.0, 8.0, 8.0, 8.0, 8.0, 8.0, 8.0, 8.0, 8.0, 8.0, 8.0, 8.0, 8.0, 4.0, 4.0, 4.0, 4.0, 4.0, 4.0, 4.0, 4.0, 4.0, 4.0, 4.0, 4.0, 8.0, 8.0, 8.0, 8.0, 8.0, 8.0, 8.0, 8.0, 8.0, 8.0, 8.0, 8.0, 8.0, 8.0, 8.0, 8.0, 4.0, 4.0, 4.0, 4.0, 4.0, 4.0, 4.0, 4.0, 4.0, 4.0, 4.0, 4.0, 8.0, 8.0, 8.0, 8.0, 8.0, 8.0, 8.0, 8.0, 8.0, 8.0, 8.0, 8.0, 8.0, 8.0, 8.0, 8.0, 4.0, 4.0, 4.0, 4.0, 4.0, 4.0, 4.0, 4.0, 4.0, 4.0, 4.0, 4.0, 8.0, 8.0, 8.0, 8.0, 8.0, 8.0, 8.0, 8.0, 8.0, 8.0, 8.0, 8.0, 8.0, 8.0, 8.0, 8.0, 4.0, 4.0, 4.0, 4.0, 4.0, 4.0, 4.0, 4.0, 4.0, 4.0, 4.0, 4.0, 8.0, 8.0, 8.0, 8.0, 8.0, 8.0, 8.0, 8.0, 8.0, 8.0, 8.0, 8.0, 8.0, 8.0, 8.0, 8.0, 4.0, 4.0, 4.0, 4.0, 4.0, 4.0, 4.0, 4.0, 4.0, 4.0, 4.0, 4.0, 8.0, 8.0, 8.0, 8.0, 8.0, 8.0, 8.0, 8.0, 8.0, 8.0, 8.0, 8.0, 8.0, 8.0, 8.0, 8.0, 4.0], \"colorscale\": [[0, \"wheat\"], [0.5, \"darkgreen\"], [1.0, \"lightgreen\"]], \"opacity\": 0.8, \"size\": 3}, \"mode\": \"markers\", \"name\": \"functiontype 3\", \"scene\": \"scene4\", \"type\": \"scatter3d\", \"x\": [0.0, 0.0, -2.2614238513951347e-05, 5.120045390756776e-05, 0.0001870465469976388, 0.0003367956506524249, -0.0010025005474760121, -0.0021339908876952733, -0.0033778982508842086, -0.004783443640220113, -0.005818395536812638, -0.006943383438912669, -0.008143774917321399, -0.008794405820963618, 0.0004813428003606733, 0.0006012099313388671, 0.00047288154333565704, 0.00043595773493409367, 0.0005256399536339745, 0.000692116204769428, 0.0008583327503494179, 0.0011195467913737143, 0.0, 0.0, 0.0, 0.0, 0.0, 0.0, 0.0, 0.0, 0.0, 0.0, 0.0, 0.0, 0.0020225424859373685, 0.004045084971874737, 0.006067627457812106, 0.008090169943749474, 0.010112712429686843, 0.012135254915624212, 0.01415779740156158, 0.016180339887498948, -0.0020225424859373685, -0.004045084971874737, -0.006067627457812106, -0.008090169943749474, -0.010112712429686843, -0.012135254915624212, -0.01415779740156158, -0.016180339887498948, 0.0, 0.0, 0.0, 0.0, 0.0, 0.0, 0.0, 0.0, 0.0, 0.0, 0.0, 0.0, 0.0020225424859373685, 0.004045084971874737, 0.006067627457812106, 0.008090169943749474, 0.010112712429686843, 0.012135254915624212, 0.01415779740156158, 0.016180339887498948, -0.0020225424859373685, -0.004045084971874737, -0.006067627457812106, -0.008090169943749474, -0.010112712429686843, -0.012135254915624212, -0.01415779740156158, -0.016180339887498948, 0.0, 0.0, 0.0, 0.0, 0.0, 0.0, 0.0, 0.0, 0.0, 0.0, 0.0, 0.0, 0.0020225424859373685, 0.004045084971874737, 0.006067627457812106, 0.008090169943749474, 0.010112712429686843, 0.012135254915624212, 0.01415779740156158, 0.016180339887498948, -0.0020225424859373685, -0.004045084971874737, -0.006067627457812106, -0.008090169943749474, -0.010112712429686843, -0.012135254915624212, -0.01415779740156158, -0.016180339887498948, 0.0, 0.0, 0.0, 0.0, 0.0, 0.0, 0.0, 0.0, 0.0, 0.0, 0.0, 0.0, 0.0020225424859373685, 0.004045084971874737, 0.006067627457812106, 0.008090169943749474, 0.010112712429686843, 0.012135254915624212, 0.01415779740156158, 0.016180339887498948, -0.0020225424859373685, -0.004045084971874737, -0.006067627457812106, -0.008090169943749474, -0.010112712429686843, -0.012135254915624212, -0.01415779740156158, -0.016180339887498948, 0.0, 0.0, 0.0, 0.0, 0.0, 0.0, 0.0, 0.0, 0.0, 0.0, 0.0, 0.0, 0.0020225424859373685, 0.004045084971874737, 0.006067627457812106, 0.008090169943749474, 0.010112712429686843, 0.012135254915624212, 0.01415779740156158, 0.016180339887498948, -0.0020225424859373685, -0.004045084971874737, -0.006067627457812106, -0.008090169943749474, -0.010112712429686843, -0.012135254915624212, -0.01415779740156158, -0.016180339887498948, 0.0, 0.0, 0.0, 0.0, 0.0, 0.0, 0.0, 0.0, 0.0, 0.0, 0.0, 0.0, 0.0020225424859373685, 0.004045084971874737, 0.006067627457812106, 0.008090169943749474, 0.010112712429686843, 0.012135254915624212, 0.01415779740156158, 0.016180339887498948, -0.0020225424859373685, -0.004045084971874737, -0.006067627457812106, -0.008090169943749474, -0.010112712429686843, -0.012135254915624212, -0.01415779740156158, -0.016180339887498948, 0.0, 0.0, 0.0, 0.0, 0.0, 0.0, 0.0, 0.0, 0.0, 0.0, 0.0, 0.0, 0.0020225424859373685, 0.004045084971874737, 0.006067627457812106, 0.008090169943749474, 0.010112712429686843, 0.012135254915624212, 0.01415779740156158, 0.016180339887498948, -0.0020225424859373685, -0.004045084971874737, -0.006067627457812106, -0.008090169943749474, -0.010112712429686843, -0.012135254915624212, -0.01415779740156158, -0.016180339887498948, 0.0], \"y\": [0.0, 0.0, -7.748675346272339e-05, -0.00035433813432805063, -0.0005859521467732284, -0.0006282513986588613, 0.00038109703361863506, 0.0016263724200259366, 0.0028112328457437622, 0.0037663203747915334, 0.005707349438503677, 0.007711015092141393, 0.009718178763893928, 0.010548785494254496, -0.0006322084986977251, -0.0006451443789297813, -0.0007608739022938447, -0.0008951660020404212, -0.0007981039731275008, -0.0008189779440123665, -0.000842549032120645, -0.0008781485437611481, 0.0, 0.0, 0.0, 0.0, 0.0, 0.0, 0.0, 0.0, 0.0, 0.0, 0.0, 0.0, -2.5762265717315326e-17, -5.152453143463065e-17, -7.728679715194597e-17, -1.0304906286926129e-16, -1.2881132858657662e-16, -1.5457359430389194e-16, -1.8033586002120729e-16, -2.060981257385226e-16, 4.756649880270418e-17, 9.513299760540837e-17, 1.4269949640811252e-16, 1.9026599521081668e-16, 2.3783249401352086e-16, 2.85398992816225e-16, 3.329654916189292e-16, 3.805319904216333e-16, 0.0, 0.0, 0.0, 0.0, 0.0, 0.0, 0.0, 0.0, 0.0, 0.0, 0.0, 0.0, -1.1886617042134155e-17, -2.377323408426831e-17, -3.565985112640247e-17, -4.754646816853663e-17, -5.943308521067079e-17, -7.131970225280495e-17, -8.320631929493912e-17, -9.509293633707329e-17, 3.3690850127523e-17, 6.7381700255046e-17, 1.0107255038256901e-16, 1.34763400510092e-16, 1.68454250637615e-16, 2.02145100765138e-16, 2.35835950892661e-16, 2.6952680102018396e-16, 0.0, 0.0, 0.0, 0.0, 0.0, 0.0, 0.0, 0.0, 0.0, 0.0, 0.0, 0.0, 1.9890316330470185e-18, 3.978063266094037e-18, 5.9670948991410554e-18, 7.956126532188074e-18, 9.945158165235094e-18, 1.1934189798282111e-17, 1.392322143132913e-17, 1.5912253064376148e-17, 1.9815201452341835e-17, 3.963040290468367e-17, 5.944560435702551e-17, 7.926080580936734e-17, 9.907600726170917e-17, 1.18891208714051e-16, 1.3870641016639282e-16, 1.5852161161873466e-16, 0.0, 0.0, 0.0, 0.0, 0.0, 0.0, 0.0, 0.0, 0.0, 0.0, 0.0, 0.0, -4.161943453773068e-17, -8.323886907546136e-17, -1.2485830361319205e-16, -1.6647773815092272e-16, -2.080971726886534e-16, -2.497166072263841e-16, -2.913360417641148e-16, -3.3295547630184553e-16, 6.342366762311953e-17, 1.2684733524623905e-16, 1.9027100286935858e-16, 2.536946704924781e-16, 3.1711833811559753e-16, 3.80542005738717e-16, 4.439656733618365e-16, 5.07389340984956e-16, 0.0, 0.0, 0.0, 0.0, 0.0, 0.0, 0.0, 0.0, 0.0, 0.0, 0.0, 0.0, 2.9740328983409366e-17, 5.948065796681873e-17, 8.922098695022811e-17, 1.189613159336375e-16, 1.4870164491704684e-16, 1.7844197390045622e-16, 2.0818230288386558e-16, 2.3792263186727493e-16, -7.936095898020513e-18, -1.5872191796041025e-17, -2.380828769406154e-17, -3.174438359208206e-17, -3.968047949010257e-17, -4.761657538812308e-17, -5.55526712861436e-17, -6.34887671841641e-17, 0.0, 0.0, 0.0, 0.0, 0.0, 0.0, 0.0, 0.0, 0.0, 0.0, 0.0, 0.0, -1.3868137187368338e-17, -2.7736274374736675e-17, -4.1604411562105016e-17, -5.547254874947336e-17, -6.93406859368417e-17, -8.320882312421004e-17, -9.70769603115784e-17, -1.1094509749894675e-16, 3.567237027275719e-17, 7.134474054551438e-17, 1.0701711081827158e-16, 1.4268948109102875e-16, 1.7836185136378598e-16, 2.1403422163654318e-16, 2.497065919093004e-16, 2.853789621820576e-16, 0.0, 0.0, 0.0, 0.0, 0.0, 0.0, 0.0, 0.0, 0.0, 0.0, 0.0, 0.0, -5.747660335814605e-17, -1.149532067162921e-16, -1.7242981007443816e-16, -2.299064134325842e-16, -2.873830167907303e-16, -3.448596201488763e-16, -4.0233622350702235e-16, -4.598128268651684e-16, 7.928083644353488e-17, 1.5856167288706977e-16, 2.3784250933060466e-16, 3.1712334577413953e-16, 3.964041822176744e-16, 4.756850186612092e-16, 5.549658551047441e-16, 6.34246691548279e-16, 0.0], \"z\": [-0.03, -0.03, -0.03249869654004928, -0.03498222320672626, -0.037467761536390726, -0.03996291403258099, -0.04181696404159846, -0.04366602294330999, -0.045482282903605356, -0.04731592680861363, -0.04850390018607808, -0.0494886469395945, -0.050372023582573346, -0.05068244840203875, -0.042458728621622116, -0.04495581983619832, -0.047449840385884, -0.049945957823890226, -0.0524424625930009, -0.054936826226304476, -0.05743118315019906, -0.05991724427164051, -0.0275, -0.025, -0.0225, -0.02, -0.0175, -0.015, -0.0125, -0.01, -0.0075, -0.005, -0.0025, 0.0, 0.0014694631307311829, 0.0029389262614623658, 0.004408389392193549, 0.0058778525229247315, 0.007347315653655915, 0.008816778784387098, 0.010286241915118281, 0.011755705045849465, 0.0014694631307311829, 0.0029389262614623658, 0.004408389392193549, 0.0058778525229247315, 0.007347315653655915, 0.008816778784387098, 0.010286241915118281, 0.011755705045849465, 0.0025, 0.005, 0.007000000000000002, 0.009500000000000001, 0.012000000000000002, 0.014000000000000004, 0.016500000000000004, 0.019000000000000003, 0.021000000000000005, 0.023500000000000007, 0.026000000000000006, 0.028000000000000008, 0.02946946313073119, 0.030938926261462375, 0.03240838939219356, 0.03387785252292474, 0.035347315653655925, 0.036816778784387105, 0.03828624191511829, 0.03975570504584947, 0.02946946313073119, 0.030938926261462375, 0.03240838939219356, 0.03387785252292474, 0.035347315653655925, 0.036816778784387105, 0.03828624191511829, 0.03975570504584947, 0.030500000000000006, 0.03300000000000001, 0.03500000000000001, 0.037500000000000006, 0.04000000000000001, 0.04200000000000001, 0.04450000000000001, 0.047000000000000014, 0.049000000000000016, 0.05150000000000001, 0.05400000000000001, 0.056000000000000015, 0.057469463130731195, 0.05893892626146238, 0.06040838939219356, 0.06187785252292475, 0.06334731565365594, 0.06481677878438712, 0.0662862419151183, 0.06775570504584948, 0.057469463130731195, 0.05893892626146238, 0.06040838939219356, 0.06187785252292475, 0.06334731565365594, 0.06481677878438712, 0.0662862419151183, 0.06775570504584948, 0.05850000000000002, 0.06100000000000001, 0.063, 0.0655, 0.068, 0.07, 0.0725, 0.075, 0.077, 0.07949999999999999, 0.08199999999999999, 0.08399999999999999, 0.08546946313073116, 0.08693892626146235, 0.08840838939219353, 0.08987785252292473, 0.09134731565365589, 0.09281677878438709, 0.09428624191511827, 0.09575570504584946, 0.08546946313073116, 0.08693892626146235, 0.08840838939219353, 0.08987785252292473, 0.09134731565365589, 0.09281677878438709, 0.09428624191511827, 0.09575570504584946, 0.08649999999999998, 0.08899999999999998, 0.09099999999999998, 0.09349999999999997, 0.09599999999999997, 0.09799999999999998, 0.10049999999999998, 0.10299999999999997, 0.10499999999999997, 0.10749999999999997, 0.10999999999999996, 0.11199999999999996, 0.11346946313073113, 0.11493892626146232, 0.1164083893921935, 0.1178778525229247, 0.11934731565365586, 0.12081677878438705, 0.12228624191511824, 0.12375570504584943, 0.11346946313073113, 0.11493892626146232, 0.1164083893921935, 0.1178778525229247, 0.11934731565365586, 0.12081677878438705, 0.12228624191511824, 0.12375570504584943, 0.11449999999999996, 0.11699999999999995, 0.11899999999999995, 0.12149999999999996, 0.12399999999999994, 0.12599999999999995, 0.12849999999999995, 0.13099999999999995, 0.13299999999999992, 0.13549999999999993, 0.13799999999999993, 0.13999999999999993, 0.1414694631307311, 0.1429389262614623, 0.14440838939219347, 0.14587785252292465, 0.14734731565365583, 0.14881677878438704, 0.1502862419151182, 0.1517557050458494, 0.1414694631307311, 0.1429389262614623, 0.14440838939219347, 0.14587785252292465, 0.14734731565365583, 0.14881677878438704, 0.1502862419151182, 0.1517557050458494, 0.14249999999999993, 0.14499999999999993, 0.1469999999999999, 0.1494999999999999, 0.1519999999999999, 0.15399999999999991, 0.15649999999999992, 0.15899999999999992, 0.16099999999999992, 0.1634999999999999, 0.1659999999999999, 0.1679999999999999, 0.16946946313073108, 0.17093892626146226, 0.17240838939219344, 0.17387785252292465, 0.17534731565365583, 0.17681677878438698, 0.1782862419151182, 0.17975570504584937, 0.16946946313073108, 0.17093892626146226, 0.17240838939219344, 0.17387785252292465, 0.17534731565365583, 0.17681677878438698, 0.1782862419151182, 0.17975570504584937, 0.16999999999999993]}, {\"marker\": {\"color\": [2.0, 4.0, 2.0, 2.0, 2.0, 2.0, 2.0, 2.0, 2.0, 2.0, 2.0, 2.0, 2.0, 2.0, 2.0, 2.0, 2.0, 2.0, 2.0, 2.0, 2.0, 2.0, 4.0, 4.0, 4.0, 4.0, 4.0, 4.0, 4.0, 4.0, 4.0, 4.0, 4.0, 4.0, 8.0, 8.0, 8.0, 8.0, 8.0, 8.0, 8.0, 8.0, 8.0, 8.0, 8.0, 8.0, 8.0, 8.0, 8.0, 8.0, 4.0, 4.0, 4.0, 4.0, 4.0, 4.0, 4.0, 4.0, 4.0, 4.0, 4.0, 4.0, 4.0, 4.0, 4.0, 4.0, 4.0, 4.0, 4.0, 4.0, 4.0, 4.0, 4.0, 4.0, 4.0, 4.0, 4.0, 4.0, 4.0, 4.0, 8.0, 8.0, 8.0, 8.0, 8.0, 8.0, 8.0, 8.0, 8.0, 8.0, 8.0, 8.0, 8.0, 8.0, 8.0, 8.0, 4.0, 4.0, 4.0, 4.0, 4.0, 4.0, 4.0, 4.0, 4.0, 4.0, 4.0, 4.0, 4.0, 4.0, 4.0, 4.0, 4.0, 4.0, 4.0, 4.0, 4.0, 4.0, 4.0, 4.0, 4.0, 4.0, 4.0, 4.0, 4.0, 4.0, 4.0, 4.0, 4.0, 4.0, 4.0, 4.0, 4.0, 4.0, 4.0, 4.0, 4.0], \"colorscale\": [[0, \"wheat\"], [0.5, \"darkgreen\"], [1.0, \"lightgreen\"]], \"opacity\": 0.8, \"size\": 3}, \"mode\": \"markers\", \"name\": \"functiontype 4\", \"scene\": \"scene5\", \"type\": \"scatter3d\", \"x\": [0.0, 0.0, 0.00026440083559334466, 0.00042892188349600733, 0.0003473992240418585, 0.00029120989783885584, -0.002078241700122181, -0.00445375050531043, -0.006852437628357761, -0.008919412317655397, -0.01113443170737794, -0.013511662351932305, -0.01593777211748001, -0.01699658572049943, 0.00048758471633126633, 0.0004894917405267046, 0.0004905628238346119, 0.0003412638394465717, 0.00010713172606386271, 0.0004173554462365963, 0.0002776316850432405, 0.0001775196467707279, 0.0, 0.0, 0.0, 0.0, 0.0, 0.0, 0.0, 0.0, 0.0, 0.0, 0.0, 0.0, 0.0020225424859373685, 0.004045084971874737, 0.006067627457812106, 0.008090169943749474, 0.010112712429686843, 0.012135254915624212, 0.01415779740156158, 0.016180339887498948, -0.0020225424859373685, -0.004045084971874737, -0.006067627457812106, -0.008090169943749474, -0.010112712429686843, -0.012135254915624212, -0.01415779740156158, -0.016180339887498948, 0.0, 0.0, 0.0, 0.0, 0.0, 0.0, 0.0, 0.0, 0.0, 0.0, 0.0, 0.0, 0.0, 0.0, 0.0, 0.0, 0.0, 0.0, 0.0, 0.0, 0.0, 0.0, 0.0, 0.0, 0.0, 0.0, 0.0, 0.0, 0.0, 0.0, 0.0020225424859373685, 0.004045084971874737, 0.006067627457812106, 0.008090169943749474, 0.010112712429686843, 0.012135254915624212, 0.01415779740156158, 0.016180339887498948, -0.0020225424859373685, -0.004045084971874737, -0.006067627457812106, -0.008090169943749474, -0.010112712429686843, -0.012135254915624212, -0.01415779740156158, -0.016180339887498948, 0.0, 0.0, 0.0, 0.0, 0.0, 0.0, 0.0, 0.0, 0.0, 0.0, 0.0, 0.0, 0.0, 0.0, 0.0, 0.0, 0.0, 0.0, 0.0, 0.0, 0.0, 0.0, 0.0, 0.0, 0.0, 0.0, 0.0, 0.0, 0.0, 0.0, 0.0, 0.0, 0.0, 0.0, 0.0, 0.0, 0.0, 0.0, 0.0, 0.0, 0.0], \"y\": [0.0, 0.0, 4.171830907469182e-05, 3.6678435811979966e-05, 5.997261987580141e-05, 6.626141295612628e-05, 0.0006461210177639912, 0.0012600267934551412, 0.0018963775843253061, 0.003195838786781462, 0.0043488274504317245, 0.005114047930159276, 0.005716923859950346, 0.00600737534200522, 0.0002764011801820701, 0.00012438016471123125, -3.0244296427196314e-05, -8.347395476006665e-05, -0.00012361854785734123, -0.00014097420345436835, -0.0002101225667436912, -0.0004849501128968428, 0.0, 0.0, 0.0, 0.0, 0.0, 0.0, 0.0, 0.0, 0.0, 0.0, 0.0, 0.0, 3.970551778281201e-18, 7.941103556562401e-18, 1.1911655334843604e-17, 1.5882207113124806e-17, 1.9852758891406008e-17, 2.382331066968721e-17, 2.7793862447968416e-17, 3.176441422624962e-17, 1.7833681307107648e-17, 3.5667362614215296e-17, 5.350104392132295e-17, 7.13347252284306e-17, 8.916840653553827e-17, 1.0700208784264593e-16, 1.2483576914975358e-16, 1.4266945045686126e-16, 0.0, 0.0, 0.0, 0.0, 0.0, 0.0, 0.0, 0.0, 0.0, 0.0, 0.0, 0.0, 0.0, 0.0, 0.0, 0.0, 0.0, 0.0, 0.0, 0.0, 0.0, 0.0, 0.0, 0.0, 0.0, 0.0, 0.0, 0.0, 0.0, 0.0, -3.96379143924965e-17, -7.9275828784993e-17, -1.189137431774895e-16, -1.58551657569986e-16, -1.981895719624825e-16, -2.37827486354979e-16, -2.774654007474755e-16, -3.17103315139972e-16, 3.9580326319264766e-18, 7.916065263852953e-18, 1.187409789577943e-17, 1.5832130527705906e-17, 1.979016315963238e-17, 2.3748195791558855e-17, 2.770622842348533e-17, 3.1664261055411806e-17, 0.0, 0.0, 0.0, 0.0, 0.0, 0.0, 0.0, 0.0, 0.0, 0.0, 0.0, 0.0, 0.0, 0.0, 0.0, 0.0, 0.0, 0.0, 0.0, 0.0, 0.0, 0.0, 0.0, 0.0, 0.0, 0.0, 0.0, 0.0, 0.0, 0.0, 0.0, 0.0, 0.0, 0.0, 0.0, 0.0, 0.0, 0.0, 0.0, 0.0, 0.0], \"z\": [-0.03, -0.03, -0.032485629051331975, -0.03498020465140396, -0.037478766525159406, -0.039978127085523285, -0.04052535826485425, -0.04100502232963933, -0.04130727678648957, -0.041844879071747124, -0.04196448778650974, -0.04207943159885809, -0.042102497131425345, -0.042169205208317254, -0.04246152761884293, -0.04495690053167859, -0.04745211397521367, -0.049947084198830476, -0.05243577272195425, -0.05491638958569218, -0.057411524005801115, -0.059894354527538024, -0.0275, -0.025, -0.0225, -0.02, -0.0175, -0.015, -0.0125, -0.01, -0.0075, -0.005, -0.0025, 0.0, 0.0014694631307311829, 0.0029389262614623658, 0.004408389392193549, 0.0058778525229247315, 0.007347315653655915, 0.008816778784387098, 0.010286241915118281, 0.011755705045849465, 0.0014694631307311829, 0.0029389262614623658, 0.004408389392193549, 0.0058778525229247315, 0.007347315653655915, 0.008816778784387098, 0.010286241915118281, 0.011755705045849465, 0.0025, 0.005, 0.007000000000000002, 0.009500000000000001, 0.012000000000000002, 0.014500000000000002, 0.017, 0.019500000000000003, 0.020999999999999998, 0.023499999999999997, 0.025999999999999995, 0.028499999999999998, 0.030999999999999996, 0.033499999999999995, 0.036, 0.0385, 0.040999999999999995, 0.041999999999999996, 0.04449999999999999, 0.04699999999999999, 0.049499999999999995, 0.05199999999999999, 0.05449999999999999, 0.056999999999999995, 0.05949999999999999, 0.06199999999999999, 0.06449999999999999, 0.06699999999999999, 0.06949999999999999, 0.07, 0.07146946313073119, 0.07293892626146237, 0.07440838939219355, 0.07587785252292473, 0.07734731565365592, 0.0788167787843871, 0.08028624191511828, 0.08175570504584946, 0.07146946313073119, 0.07293892626146237, 0.07440838939219355, 0.07587785252292473, 0.07734731565365592, 0.0788167787843871, 0.08028624191511828, 0.08175570504584946, 0.0725, 0.075, 0.0775, 0.08, 0.0825, 0.085, 0.0875, 0.09, 0.0925, 0.095, 0.0975, 0.1, 0.1025, 0.105, 0.1075, 0.11, 0.1125, 0.115, 0.1175, 0.12, 0.1225, 0.125, 0.1275, 0.13, 0.1325, 0.135, 0.1375, 0.14, 0.1425, 0.145, 0.147, 0.1495, 0.152, 0.1545, 0.157, 0.1595, 0.162, 0.16449999999999998, 0.16699999999999998, 0.16949999999999998, 0.16999999999999985]}, {\"marker\": {\"color\": [2.0, 4.0, 2.0, 2.0, 2.0, 2.0, 2.0, 2.0, 2.0, 2.0, 2.0, 2.0, 2.0, 2.0, 2.0, 2.0, 2.0, 2.0, 2.0, 2.0, 2.0, 2.0, 4.0, 4.0, 4.0, 4.0, 4.0, 4.0, 4.0, 4.0, 4.0, 4.0, 4.0, 4.0, 8.0, 8.0, 8.0, 8.0, 8.0, 8.0, 8.0, 8.0, 8.0, 8.0, 8.0, 8.0, 8.0, 8.0, 8.0, 8.0, 4.0, 4.0, 4.0, 4.0, 4.0, 4.0, 4.0, 4.0, 4.0, 4.0, 4.0, 4.0, 8.0, 8.0, 8.0, 8.0, 8.0, 8.0, 8.0, 8.0, 8.0, 8.0, 8.0, 8.0, 8.0, 8.0, 8.0, 8.0, 4.0, 4.0, 4.0, 4.0, 4.0, 4.0, 4.0, 4.0, 4.0, 4.0, 4.0, 4.0, 8.0, 8.0, 8.0, 8.0, 8.0, 8.0, 8.0, 8.0, 8.0, 8.0, 8.0, 8.0, 8.0, 8.0, 8.0, 8.0, 4.0, 4.0, 4.0, 4.0, 4.0, 4.0, 4.0, 4.0, 4.0, 4.0, 4.0, 4.0, 8.0, 8.0, 8.0, 8.0, 8.0, 8.0, 8.0, 8.0, 8.0, 8.0, 8.0, 8.0, 8.0, 8.0, 8.0, 8.0, 4.0, 4.0, 4.0, 4.0, 4.0, 4.0, 4.0, 4.0, 4.0, 4.0, 4.0, 4.0, 8.0, 8.0, 8.0, 8.0, 8.0, 8.0, 8.0, 8.0, 8.0, 8.0, 8.0, 8.0, 8.0, 8.0, 8.0, 8.0, 4.0, 4.0, 4.0, 4.0, 4.0, 4.0, 4.0, 4.0, 4.0, 4.0, 4.0, 4.0, 8.0, 8.0, 8.0, 8.0, 8.0, 8.0, 8.0, 8.0, 8.0, 8.0, 8.0, 8.0, 8.0, 8.0, 8.0, 8.0, 4.0, 4.0, 4.0, 4.0, 4.0, 4.0, 4.0, 4.0, 4.0, 4.0, 4.0, 4.0, 8.0, 8.0, 8.0, 8.0, 8.0, 8.0, 8.0, 8.0, 8.0, 8.0, 8.0, 8.0, 8.0, 8.0, 8.0, 8.0, 4.0], \"colorscale\": [[0, \"wheat\"], [0.5, \"darkgreen\"], [1.0, \"lightgreen\"]], \"opacity\": 0.8, \"size\": 3}, \"mode\": \"markers\", \"name\": \"functiontype 5\", \"scene\": \"scene6\", \"type\": \"scatter3d\", \"x\": [0.0, 0.0, -2.2614238513951347e-05, 5.120045390756776e-05, 0.0001870465469976388, 0.0003367956506524249, -0.0010025005474760121, -0.0021339908876952733, -0.0033778982508842086, -0.004783443640220113, -0.005818395536812638, -0.006943383438912669, -0.008143774917321399, -0.008794405820963618, 0.0004813428003606733, 0.0006012099313388671, 0.00047288154333565704, 0.00043595773493409367, 0.0005256399536339745, 0.000692116204769428, 0.0008583327503494179, 0.0011195467913737143, 0.0, 0.0, 0.0, 0.0, 0.0, 0.0, 0.0, 0.0, 0.0, 0.0, 0.0, 0.0, 0.0020225424859373685, 0.004045084971874737, 0.006067627457812106, 0.008090169943749474, 0.010112712429686843, 0.012135254915624212, 0.01415779740156158, 0.016180339887498948, -0.0020225424859373685, -0.004045084971874737, -0.006067627457812106, -0.008090169943749474, -0.010112712429686843, -0.012135254915624212, -0.01415779740156158, -0.016180339887498948, 0.0, 0.0, 0.0, 0.0, 0.0, 0.0, 0.0, 0.0, 0.0, 0.0, 0.0, 0.0, 0.0020225424859373685, 0.004045084971874737, 0.006067627457812106, 0.008090169943749474, 0.010112712429686843, 0.012135254915624212, 0.01415779740156158, 0.016180339887498948, -0.0020225424859373685, -0.004045084971874737, -0.006067627457812106, -0.008090169943749474, -0.010112712429686843, -0.012135254915624212, -0.01415779740156158, -0.016180339887498948, 0.0, 0.0, 0.0, 0.0, 0.0, 0.0, 0.0, 0.0, 0.0, 0.0, 0.0, 0.0, 0.0020225424859373685, 0.004045084971874737, 0.006067627457812106, 0.008090169943749474, 0.010112712429686843, 0.012135254915624212, 0.01415779740156158, 0.016180339887498948, -0.0020225424859373685, -0.004045084971874737, -0.006067627457812106, -0.008090169943749474, -0.010112712429686843, -0.012135254915624212, -0.01415779740156158, -0.016180339887498948, 0.0, 0.0, 0.0, 0.0, 0.0, 0.0, 0.0, 0.0, 0.0, 0.0, 0.0, 0.0, 0.0020225424859373685, 0.004045084971874737, 0.006067627457812106, 0.008090169943749474, 0.010112712429686843, 0.012135254915624212, 0.01415779740156158, 0.016180339887498948, -0.0020225424859373685, -0.004045084971874737, -0.006067627457812106, -0.008090169943749474, -0.010112712429686843, -0.012135254915624212, -0.01415779740156158, -0.016180339887498948, 0.0, 0.0, 0.0, 0.0, 0.0, 0.0, 0.0, 0.0, 0.0, 0.0, 0.0, 0.0, 0.0020225424859373685, 0.004045084971874737, 0.006067627457812106, 0.008090169943749474, 0.010112712429686843, 0.012135254915624212, 0.01415779740156158, 0.016180339887498948, -0.0020225424859373685, -0.004045084971874737, -0.006067627457812106, -0.008090169943749474, -0.010112712429686843, -0.012135254915624212, -0.01415779740156158, -0.016180339887498948, 0.0, 0.0, 0.0, 0.0, 0.0, 0.0, 0.0, 0.0, 0.0, 0.0, 0.0, 0.0, 0.0020225424859373685, 0.004045084971874737, 0.006067627457812106, 0.008090169943749474, 0.010112712429686843, 0.012135254915624212, 0.01415779740156158, 0.016180339887498948, -0.0020225424859373685, -0.004045084971874737, -0.006067627457812106, -0.008090169943749474, -0.010112712429686843, -0.012135254915624212, -0.01415779740156158, -0.016180339887498948, 0.0, 0.0, 0.0, 0.0, 0.0, 0.0, 0.0, 0.0, 0.0, 0.0, 0.0, 0.0, 0.0020225424859373685, 0.004045084971874737, 0.006067627457812106, 0.008090169943749474, 0.010112712429686843, 0.012135254915624212, 0.01415779740156158, 0.016180339887498948, -0.0020225424859373685, -0.004045084971874737, -0.006067627457812106, -0.008090169943749474, -0.010112712429686843, -0.012135254915624212, -0.01415779740156158, -0.016180339887498948, 0.0], \"y\": [0.0, 0.0, -7.748675346272339e-05, -0.00035433813432805063, -0.0005859521467732284, -0.0006282513986588613, 0.00038109703361863506, 0.0016263724200259366, 0.0028112328457437622, 0.0037663203747915334, 0.005707349438503677, 0.007711015092141393, 0.009718178763893928, 0.010548785494254496, -0.0006322084986977251, -0.0006451443789297813, -0.0007608739022938447, -0.0008951660020404212, -0.0007981039731275008, -0.0008189779440123665, -0.000842549032120645, -0.0008781485437611481, 0.0, 0.0, 0.0, 0.0, 0.0, 0.0, 0.0, 0.0, 0.0, 0.0, 0.0, 0.0, -2.5762265717315326e-17, -5.152453143463065e-17, -7.728679715194597e-17, -1.0304906286926129e-16, -1.2881132858657662e-16, -1.5457359430389194e-16, -1.8033586002120729e-16, -2.060981257385226e-16, 4.756649880270418e-17, 9.513299760540837e-17, 1.4269949640811252e-16, 1.9026599521081668e-16, 2.3783249401352086e-16, 2.85398992816225e-16, 3.329654916189292e-16, 3.805319904216333e-16, 0.0, 0.0, 0.0, 0.0, 0.0, 0.0, 0.0, 0.0, 0.0, 0.0, 0.0, 0.0, -1.1886617042134155e-17, -2.377323408426831e-17, -3.565985112640247e-17, -4.754646816853663e-17, -5.943308521067079e-17, -7.131970225280495e-17, -8.320631929493912e-17, -9.509293633707329e-17, 3.3690850127523e-17, 6.7381700255046e-17, 1.0107255038256901e-16, 1.34763400510092e-16, 1.68454250637615e-16, 2.02145100765138e-16, 2.35835950892661e-16, 2.6952680102018396e-16, 0.0, 0.0, 0.0, 0.0, 0.0, 0.0, 0.0, 0.0, 0.0, 0.0, 0.0, 0.0, 1.9890316330470185e-18, 3.978063266094037e-18, 5.9670948991410554e-18, 7.956126532188074e-18, 9.945158165235094e-18, 1.1934189798282111e-17, 1.392322143132913e-17, 1.5912253064376148e-17, 1.9815201452341835e-17, 3.963040290468367e-17, 5.944560435702551e-17, 7.926080580936734e-17, 9.907600726170917e-17, 1.18891208714051e-16, 1.3870641016639282e-16, 1.5852161161873466e-16, 0.0, 0.0, 0.0, 0.0, 0.0, 0.0, 0.0, 0.0, 0.0, 0.0, 0.0, 0.0, -4.161943453773068e-17, -8.323886907546136e-17, -1.2485830361319205e-16, -1.6647773815092272e-16, -2.080971726886534e-16, -2.497166072263841e-16, -2.913360417641148e-16, -3.3295547630184553e-16, 6.342366762311953e-17, 1.2684733524623905e-16, 1.9027100286935858e-16, 2.536946704924781e-16, 3.1711833811559753e-16, 3.80542005738717e-16, 4.439656733618365e-16, 5.07389340984956e-16, 0.0, 0.0, 0.0, 0.0, 0.0, 0.0, 0.0, 0.0, 0.0, 0.0, 0.0, 0.0, 2.9740328983409366e-17, 5.948065796681873e-17, 8.922098695022811e-17, 1.189613159336375e-16, 1.4870164491704684e-16, 1.7844197390045622e-16, 2.0818230288386558e-16, 2.3792263186727493e-16, -7.936095898020513e-18, -1.5872191796041025e-17, -2.380828769406154e-17, -3.174438359208206e-17, -3.968047949010257e-17, -4.761657538812308e-17, -5.55526712861436e-17, -6.34887671841641e-17, 0.0, 0.0, 0.0, 0.0, 0.0, 0.0, 0.0, 0.0, 0.0, 0.0, 0.0, 0.0, -1.3868137187368338e-17, -2.7736274374736675e-17, -4.1604411562105016e-17, -5.547254874947336e-17, -6.93406859368417e-17, -8.320882312421004e-17, -9.70769603115784e-17, -1.1094509749894675e-16, 3.567237027275719e-17, 7.134474054551438e-17, 1.0701711081827158e-16, 1.4268948109102875e-16, 1.7836185136378598e-16, 2.1403422163654318e-16, 2.497065919093004e-16, 2.853789621820576e-16, 0.0, 0.0, 0.0, 0.0, 0.0, 0.0, 0.0, 0.0, 0.0, 0.0, 0.0, 0.0, -5.747660335814605e-17, -1.149532067162921e-16, -1.7242981007443816e-16, -2.299064134325842e-16, -2.873830167907303e-16, -3.448596201488763e-16, -4.0233622350702235e-16, -4.598128268651684e-16, 7.928083644353488e-17, 1.5856167288706977e-16, 2.3784250933060466e-16, 3.1712334577413953e-16, 3.964041822176744e-16, 4.756850186612092e-16, 5.549658551047441e-16, 6.34246691548279e-16, 0.0], \"z\": [-0.03, -0.03, -0.03249869654004928, -0.03498222320672626, -0.037467761536390726, -0.03996291403258099, -0.04181696404159846, -0.04366602294330999, -0.045482282903605356, -0.04731592680861363, -0.04850390018607808, -0.0494886469395945, -0.050372023582573346, -0.05068244840203875, -0.042458728621622116, -0.04495581983619832, -0.047449840385884, -0.049945957823890226, -0.0524424625930009, -0.054936826226304476, -0.05743118315019906, -0.05991724427164051, -0.0275, -0.025, -0.0225, -0.02, -0.0175, -0.015, -0.0125, -0.01, -0.0075, -0.005, -0.0025, 0.0, 0.0014694631307311829, 0.0029389262614623658, 0.004408389392193549, 0.0058778525229247315, 0.007347315653655915, 0.008816778784387098, 0.010286241915118281, 0.011755705045849465, 0.0014694631307311829, 0.0029389262614623658, 0.004408389392193549, 0.0058778525229247315, 0.007347315653655915, 0.008816778784387098, 0.010286241915118281, 0.011755705045849465, 0.0025, 0.005, 0.007000000000000002, 0.009500000000000001, 0.012000000000000002, 0.014000000000000004, 0.016500000000000004, 0.019000000000000003, 0.021000000000000005, 0.023500000000000007, 0.026000000000000006, 0.028000000000000008, 0.02946946313073119, 0.030938926261462375, 0.03240838939219356, 0.03387785252292474, 0.035347315653655925, 0.036816778784387105, 0.03828624191511829, 0.03975570504584947, 0.02946946313073119, 0.030938926261462375, 0.03240838939219356, 0.03387785252292474, 0.035347315653655925, 0.036816778784387105, 0.03828624191511829, 0.03975570504584947, 0.030500000000000006, 0.03300000000000001, 0.03500000000000001, 0.037500000000000006, 0.04000000000000001, 0.04200000000000001, 0.04450000000000001, 0.047000000000000014, 0.049000000000000016, 0.05150000000000001, 0.05400000000000001, 0.056000000000000015, 0.057469463130731195, 0.05893892626146238, 0.06040838939219356, 0.06187785252292475, 0.06334731565365594, 0.06481677878438712, 0.0662862419151183, 0.06775570504584948, 0.057469463130731195, 0.05893892626146238, 0.06040838939219356, 0.06187785252292475, 0.06334731565365594, 0.06481677878438712, 0.0662862419151183, 0.06775570504584948, 0.05850000000000002, 0.06100000000000001, 0.063, 0.0655, 0.068, 0.07, 0.0725, 0.075, 0.077, 0.07949999999999999, 0.08199999999999999, 0.08399999999999999, 0.08546946313073116, 0.08693892626146235, 0.08840838939219353, 0.08987785252292473, 0.09134731565365589, 0.09281677878438709, 0.09428624191511827, 0.09575570504584946, 0.08546946313073116, 0.08693892626146235, 0.08840838939219353, 0.08987785252292473, 0.09134731565365589, 0.09281677878438709, 0.09428624191511827, 0.09575570504584946, 0.08649999999999998, 0.08899999999999998, 0.09099999999999998, 0.09349999999999997, 0.09599999999999997, 0.09799999999999998, 0.10049999999999998, 0.10299999999999997, 0.10499999999999997, 0.10749999999999997, 0.10999999999999996, 0.11199999999999996, 0.11346946313073113, 0.11493892626146232, 0.1164083893921935, 0.1178778525229247, 0.11934731565365586, 0.12081677878438705, 0.12228624191511824, 0.12375570504584943, 0.11346946313073113, 0.11493892626146232, 0.1164083893921935, 0.1178778525229247, 0.11934731565365586, 0.12081677878438705, 0.12228624191511824, 0.12375570504584943, 0.11449999999999996, 0.11699999999999995, 0.11899999999999995, 0.12149999999999996, 0.12399999999999994, 0.12599999999999995, 0.12849999999999995, 0.13099999999999995, 0.13299999999999992, 0.13549999999999993, 0.13799999999999993, 0.13999999999999993, 0.1414694631307311, 0.1429389262614623, 0.14440838939219347, 0.14587785252292465, 0.14734731565365583, 0.14881677878438704, 0.1502862419151182, 0.1517557050458494, 0.1414694631307311, 0.1429389262614623, 0.14440838939219347, 0.14587785252292465, 0.14734731565365583, 0.14881677878438704, 0.1502862419151182, 0.1517557050458494, 0.14249999999999993, 0.14499999999999993, 0.1469999999999999, 0.1494999999999999, 0.1519999999999999, 0.15399999999999991, 0.15649999999999992, 0.15899999999999992, 0.16099999999999992, 0.1634999999999999, 0.1659999999999999, 0.1679999999999999, 0.16946946313073108, 0.17093892626146226, 0.17240838939219344, 0.17387785252292465, 0.17534731565365583, 0.17681677878438698, 0.1782862419151182, 0.17975570504584937, 0.16946946313073108, 0.17093892626146226, 0.17240838939219344, 0.17387785252292465, 0.17534731565365583, 0.17681677878438698, 0.1782862419151182, 0.17975570504584937, 0.16999999999999993]}],\n",
       "                        {\"height\": 800, \"scene\": {\"domain\": {\"x\": [0.0, 0.45], \"y\": [0.7333333333333333, 1.0]}}, \"scene2\": {\"domain\": {\"x\": [0.55, 1.0], \"y\": [0.7333333333333333, 1.0]}}, \"scene3\": {\"domain\": {\"x\": [0.0, 0.45], \"y\": [0.36666666666666664, 0.6333333333333333]}}, \"scene4\": {\"domain\": {\"x\": [0.55, 1.0], \"y\": [0.36666666666666664, 0.6333333333333333]}}, \"scene5\": {\"domain\": {\"x\": [0.0, 0.45], \"y\": [0.0, 0.26666666666666666]}}, \"scene6\": {\"domain\": {\"x\": [0.55, 1.0], \"y\": [0.0, 0.26666666666666666]}}, \"template\": {\"data\": {\"bar\": [{\"error_x\": {\"color\": \"#2a3f5f\"}, \"error_y\": {\"color\": \"#2a3f5f\"}, \"marker\": {\"line\": {\"color\": \"#E5ECF6\", \"width\": 0.5}}, \"type\": \"bar\"}], \"barpolar\": [{\"marker\": {\"line\": {\"color\": \"#E5ECF6\", \"width\": 0.5}}, \"type\": \"barpolar\"}], \"carpet\": [{\"aaxis\": {\"endlinecolor\": \"#2a3f5f\", \"gridcolor\": \"white\", \"linecolor\": \"white\", \"minorgridcolor\": \"white\", \"startlinecolor\": \"#2a3f5f\"}, \"baxis\": {\"endlinecolor\": \"#2a3f5f\", \"gridcolor\": \"white\", \"linecolor\": \"white\", \"minorgridcolor\": \"white\", \"startlinecolor\": \"#2a3f5f\"}, \"type\": \"carpet\"}], \"choropleth\": [{\"colorbar\": {\"outlinewidth\": 0, \"ticks\": \"\"}, \"type\": \"choropleth\"}], \"contour\": [{\"colorbar\": {\"outlinewidth\": 0, \"ticks\": \"\"}, \"colorscale\": [[0.0, \"#0d0887\"], [0.1111111111111111, \"#46039f\"], [0.2222222222222222, \"#7201a8\"], [0.3333333333333333, \"#9c179e\"], [0.4444444444444444, \"#bd3786\"], [0.5555555555555556, \"#d8576b\"], [0.6666666666666666, \"#ed7953\"], [0.7777777777777778, \"#fb9f3a\"], [0.8888888888888888, \"#fdca26\"], [1.0, \"#f0f921\"]], \"type\": \"contour\"}], \"contourcarpet\": [{\"colorbar\": {\"outlinewidth\": 0, \"ticks\": \"\"}, \"type\": \"contourcarpet\"}], \"heatmap\": [{\"colorbar\": {\"outlinewidth\": 0, \"ticks\": \"\"}, \"colorscale\": [[0.0, \"#0d0887\"], [0.1111111111111111, \"#46039f\"], [0.2222222222222222, \"#7201a8\"], [0.3333333333333333, \"#9c179e\"], [0.4444444444444444, \"#bd3786\"], [0.5555555555555556, \"#d8576b\"], [0.6666666666666666, \"#ed7953\"], [0.7777777777777778, \"#fb9f3a\"], [0.8888888888888888, \"#fdca26\"], [1.0, \"#f0f921\"]], \"type\": \"heatmap\"}], \"heatmapgl\": [{\"colorbar\": {\"outlinewidth\": 0, \"ticks\": \"\"}, \"colorscale\": [[0.0, \"#0d0887\"], [0.1111111111111111, \"#46039f\"], [0.2222222222222222, \"#7201a8\"], [0.3333333333333333, \"#9c179e\"], [0.4444444444444444, \"#bd3786\"], [0.5555555555555556, \"#d8576b\"], [0.6666666666666666, \"#ed7953\"], [0.7777777777777778, \"#fb9f3a\"], [0.8888888888888888, \"#fdca26\"], [1.0, \"#f0f921\"]], \"type\": \"heatmapgl\"}], \"histogram\": [{\"marker\": {\"colorbar\": {\"outlinewidth\": 0, \"ticks\": \"\"}}, \"type\": \"histogram\"}], \"histogram2d\": [{\"colorbar\": {\"outlinewidth\": 0, \"ticks\": \"\"}, \"colorscale\": [[0.0, \"#0d0887\"], [0.1111111111111111, \"#46039f\"], [0.2222222222222222, \"#7201a8\"], [0.3333333333333333, \"#9c179e\"], [0.4444444444444444, \"#bd3786\"], [0.5555555555555556, \"#d8576b\"], [0.6666666666666666, \"#ed7953\"], [0.7777777777777778, \"#fb9f3a\"], [0.8888888888888888, \"#fdca26\"], [1.0, \"#f0f921\"]], \"type\": \"histogram2d\"}], \"histogram2dcontour\": [{\"colorbar\": {\"outlinewidth\": 0, \"ticks\": \"\"}, \"colorscale\": [[0.0, \"#0d0887\"], [0.1111111111111111, \"#46039f\"], [0.2222222222222222, \"#7201a8\"], [0.3333333333333333, \"#9c179e\"], [0.4444444444444444, \"#bd3786\"], [0.5555555555555556, \"#d8576b\"], [0.6666666666666666, \"#ed7953\"], [0.7777777777777778, \"#fb9f3a\"], [0.8888888888888888, \"#fdca26\"], [1.0, \"#f0f921\"]], \"type\": \"histogram2dcontour\"}], \"mesh3d\": [{\"colorbar\": {\"outlinewidth\": 0, \"ticks\": \"\"}, \"type\": \"mesh3d\"}], \"parcoords\": [{\"line\": {\"colorbar\": {\"outlinewidth\": 0, \"ticks\": \"\"}}, \"type\": \"parcoords\"}], \"scatter\": [{\"marker\": {\"colorbar\": {\"outlinewidth\": 0, \"ticks\": \"\"}}, \"type\": \"scatter\"}], \"scatter3d\": [{\"line\": {\"colorbar\": {\"outlinewidth\": 0, \"ticks\": \"\"}}, \"marker\": {\"colorbar\": {\"outlinewidth\": 0, \"ticks\": \"\"}}, \"type\": \"scatter3d\"}], \"scattercarpet\": [{\"marker\": {\"colorbar\": {\"outlinewidth\": 0, \"ticks\": \"\"}}, \"type\": \"scattercarpet\"}], \"scattergeo\": [{\"marker\": {\"colorbar\": {\"outlinewidth\": 0, \"ticks\": \"\"}}, \"type\": \"scattergeo\"}], \"scattergl\": [{\"marker\": {\"colorbar\": {\"outlinewidth\": 0, \"ticks\": \"\"}}, \"type\": \"scattergl\"}], \"scattermapbox\": [{\"marker\": {\"colorbar\": {\"outlinewidth\": 0, \"ticks\": \"\"}}, \"type\": \"scattermapbox\"}], \"scatterpolar\": [{\"marker\": {\"colorbar\": {\"outlinewidth\": 0, \"ticks\": \"\"}}, \"type\": \"scatterpolar\"}], \"scatterpolargl\": [{\"marker\": {\"colorbar\": {\"outlinewidth\": 0, \"ticks\": \"\"}}, \"type\": \"scatterpolargl\"}], \"scatterternary\": [{\"marker\": {\"colorbar\": {\"outlinewidth\": 0, \"ticks\": \"\"}}, \"type\": \"scatterternary\"}], \"surface\": [{\"colorbar\": {\"outlinewidth\": 0, \"ticks\": \"\"}, \"colorscale\": [[0.0, \"#0d0887\"], [0.1111111111111111, \"#46039f\"], [0.2222222222222222, \"#7201a8\"], [0.3333333333333333, \"#9c179e\"], [0.4444444444444444, \"#bd3786\"], [0.5555555555555556, \"#d8576b\"], [0.6666666666666666, \"#ed7953\"], [0.7777777777777778, \"#fb9f3a\"], [0.8888888888888888, \"#fdca26\"], [1.0, \"#f0f921\"]], \"type\": \"surface\"}], \"table\": [{\"cells\": {\"fill\": {\"color\": \"#EBF0F8\"}, \"line\": {\"color\": \"white\"}}, \"header\": {\"fill\": {\"color\": \"#C8D4E3\"}, \"line\": {\"color\": \"white\"}}, \"type\": \"table\"}]}, \"layout\": {\"annotationdefaults\": {\"arrowcolor\": \"#2a3f5f\", \"arrowhead\": 0, \"arrowwidth\": 1}, \"colorscale\": {\"diverging\": [[0, \"#8e0152\"], [0.1, \"#c51b7d\"], [0.2, \"#de77ae\"], [0.3, \"#f1b6da\"], [0.4, \"#fde0ef\"], [0.5, \"#f7f7f7\"], [0.6, \"#e6f5d0\"], [0.7, \"#b8e186\"], [0.8, \"#7fbc41\"], [0.9, \"#4d9221\"], [1, \"#276419\"]], \"sequential\": [[0.0, \"#0d0887\"], [0.1111111111111111, \"#46039f\"], [0.2222222222222222, \"#7201a8\"], [0.3333333333333333, \"#9c179e\"], [0.4444444444444444, \"#bd3786\"], [0.5555555555555556, \"#d8576b\"], [0.6666666666666666, \"#ed7953\"], [0.7777777777777778, \"#fb9f3a\"], [0.8888888888888888, \"#fdca26\"], [1.0, \"#f0f921\"]], \"sequentialminus\": [[0.0, \"#0d0887\"], [0.1111111111111111, \"#46039f\"], [0.2222222222222222, \"#7201a8\"], [0.3333333333333333, \"#9c179e\"], [0.4444444444444444, \"#bd3786\"], [0.5555555555555556, \"#d8576b\"], [0.6666666666666666, \"#ed7953\"], [0.7777777777777778, \"#fb9f3a\"], [0.8888888888888888, \"#fdca26\"], [1.0, \"#f0f921\"]]}, \"colorway\": [\"#636efa\", \"#EF553B\", \"#00cc96\", \"#ab63fa\", \"#FFA15A\", \"#19d3f3\", \"#FF6692\", \"#B6E880\", \"#FF97FF\", \"#FECB52\"], \"font\": {\"color\": \"#2a3f5f\"}, \"geo\": {\"bgcolor\": \"white\", \"lakecolor\": \"white\", \"landcolor\": \"#E5ECF6\", \"showlakes\": true, \"showland\": true, \"subunitcolor\": \"white\"}, \"hoverlabel\": {\"align\": \"left\"}, \"hovermode\": \"closest\", \"mapbox\": {\"style\": \"light\"}, \"paper_bgcolor\": \"white\", \"plot_bgcolor\": \"#E5ECF6\", \"polar\": {\"angularaxis\": {\"gridcolor\": \"white\", \"linecolor\": \"white\", \"ticks\": \"\"}, \"bgcolor\": \"#E5ECF6\", \"radialaxis\": {\"gridcolor\": \"white\", \"linecolor\": \"white\", \"ticks\": \"\"}}, \"scene\": {\"xaxis\": {\"backgroundcolor\": \"#E5ECF6\", \"gridcolor\": \"white\", \"gridwidth\": 2, \"linecolor\": \"white\", \"showbackground\": true, \"ticks\": \"\", \"zerolinecolor\": \"white\"}, \"yaxis\": {\"backgroundcolor\": \"#E5ECF6\", \"gridcolor\": \"white\", \"gridwidth\": 2, \"linecolor\": \"white\", \"showbackground\": true, \"ticks\": \"\", \"zerolinecolor\": \"white\"}, \"zaxis\": {\"backgroundcolor\": \"#E5ECF6\", \"gridcolor\": \"white\", \"gridwidth\": 2, \"linecolor\": \"white\", \"showbackground\": true, \"ticks\": \"\", \"zerolinecolor\": \"white\"}}, \"shapedefaults\": {\"line\": {\"color\": \"#2a3f5f\"}}, \"ternary\": {\"aaxis\": {\"gridcolor\": \"white\", \"linecolor\": \"white\", \"ticks\": \"\"}, \"baxis\": {\"gridcolor\": \"white\", \"linecolor\": \"white\", \"ticks\": \"\"}, \"bgcolor\": \"#E5ECF6\", \"caxis\": {\"gridcolor\": \"white\", \"linecolor\": \"white\", \"ticks\": \"\"}}, \"title\": {\"x\": 0.05}, \"xaxis\": {\"automargin\": true, \"gridcolor\": \"white\", \"linecolor\": \"white\", \"ticks\": \"\", \"zerolinecolor\": \"white\", \"zerolinewidth\": 2}, \"yaxis\": {\"automargin\": true, \"gridcolor\": \"white\", \"linecolor\": \"white\", \"ticks\": \"\", \"zerolinecolor\": \"white\", \"zerolinewidth\": 2}}}, \"title\": {\"text\": \"different RotBeta (function type)\"}, \"width\": 800},\n",
       "                        {\"responsive\": true}\n",
       "                    ).then(function(){\n",
       "                            \n",
       "var gd = document.getElementById('eb77720e-8586-4991-8ceb-7e18f71a3942');\n",
       "var x = new MutationObserver(function (mutations, observer) {{\n",
       "        var display = window.getComputedStyle(gd).display;\n",
       "        if (!display || display === 'none') {{\n",
       "            console.log([gd, 'removed!']);\n",
       "            Plotly.purge(gd);\n",
       "            observer.disconnect();\n",
       "        }}\n",
       "}});\n",
       "\n",
       "// Listen for the removal of the full notebook cells\n",
       "var notebookContainer = gd.closest('#notebook-container');\n",
       "if (notebookContainer) {{\n",
       "    x.observe(notebookContainer, {childList: true});\n",
       "}}\n",
       "\n",
       "// Listen for the clearing of the current output cell\n",
       "var outputEl = gd.closest('.output');\n",
       "if (outputEl) {{\n",
       "    x.observe(outputEl, {childList: true});\n",
       "}}\n",
       "\n",
       "                        })\n",
       "                };\n",
       "                });\n",
       "            </script>\n",
       "        </div>"
      ]
     },
     "metadata": {},
     "output_type": "display_data"
    }
   ],
   "source": [
    "\n",
    "fig = make_subplots(\n",
    "    rows=3, cols=2,\n",
    "    specs=[[{'type': 'scatter3d'}, {'type': 'scatter3d'}],\n",
    "           [{'type': 'scatter3d'}, {'type': 'scatter3d'}],\n",
    "           [{'type': 'scatter3d'}, {'type': 'scatter3d'}]])\n",
    "\n",
    "name = 'testXML'\n",
    "change_parameter('testXML', 'testXML', 'stem', '1', 'lmax', 'value','20')\n",
    "change_parameter('testXML', 'testXML', 'leaf', '2', 'RotBeta', 'value','1')\n",
    "change_parameter('testXML', 'testXML', 'stem', '1', 'ln', 'functiontype','0')\n",
    "smallplant1 = CPlantBox(name, time, name) # make a plant object in python\n",
    "fig1 = visual_plant_sub(smallplant1,name=\"functiontype 0\")\n",
    "\n",
    "name = 'testXML'\n",
    "change_parameter('testXML', 'testXML', 'stem', '1', 'ln', 'functiontype','1')\n",
    "smallplant2 = CPlantBox(name, time, name) # make a plant object in python\n",
    "fig2 = visual_plant_sub(smallplant2,name=\"functiontype 1\")\n",
    "\n",
    "name = 'testXML'\n",
    "change_parameter('testXML', 'testXML', 'stem', '1', 'ln', 'functiontype','2')\n",
    "smallplant3 = CPlantBox(name, time, name) # make a plant object in python\n",
    "fig3 = visual_plant_sub(smallplant3,name=\"functiontype 2\")\n",
    "\n",
    "name = 'testXML'\n",
    "change_parameter('testXML', 'testXML', 'stem', '1', 'ln', 'functiontype','3')\n",
    "smallplant4 = CPlantBox(name, time, name) # make a plant object in python\n",
    "fig4 = visual_plant_sub(smallplant4,name=\"functiontype 3\")\n",
    "\n",
    "name = 'testXML'\n",
    "change_parameter('testXML', 'testXML', 'stem', '1', 'ln', 'functiontype','2')\n",
    "smallplant5 = CPlantBox(name, time, name) # make a plant object in python\n",
    "fig5 = visual_plant_sub(smallplant3,name=\"functiontype 4\")\n",
    "\n",
    "name = 'testXML'\n",
    "change_parameter('testXML', 'testXML', 'stem', '1', 'ln', 'functiontype','3')\n",
    "smallplant6 = CPlantBox(name, time, name) # make a plant object in python\n",
    "fig6 = visual_plant_sub(smallplant4,name=\"functiontype 5\")\n",
    "\n",
    "fig.add_trace(fig1, 1, 1 )\n",
    "fig.add_trace(fig2, 1, 2)\n",
    "fig.add_trace(fig3, 2, 1)\n",
    "fig.add_trace(fig4, 2, 2)\n",
    "fig.add_trace(fig5, 3, 1)\n",
    "fig.add_trace(fig6, 3, 2)\n",
    "\n",
    "fig.update_layout(\n",
    "    title_text='different RotBeta (function type)',\n",
    "    height=800,\n",
    "    width=800\n",
    ")\n",
    "\n",
    "fig.show()"
   ]
  },
  {
   "cell_type": "markdown",
   "metadata": {},
   "source": [
    "## 6. Change the rotation of the Stem\n",
    "### Rotation Theta (rotaBeta) : the angle between main stem and sub branch\n",
    "### Rotation Beta (rotaBeta) : the angle between two neigbour sub branch\n",
    "the value of Rotation multiply by Pie is the revlution of the neighbouring sub branch."
   ]
  },
  {
   "cell_type": "code",
   "execution_count": 117,
   "metadata": {},
   "outputs": [
    {
     "name": "stdout",
     "output_type": "stream",
     "text": [
      "original lmax of stem organ with subtype 1 is 20, changed to 20\n",
      "original RotBeta of leaf organ with subtype 2 is 1.5, changed to 0\n",
      "original RotBeta of leaf organ with subtype 2 is 0, changed to 0.5\n",
      "original RotBeta of leaf organ with subtype 2 is 0.5, changed to 1\n",
      "original RotBeta of leaf organ with subtype 2 is 1, changed to 1.5\n"
     ]
    },
    {
     "data": {
      "application/vnd.plotly.v1+json": {
       "config": {
        "plotlyServerURL": "https://plot.ly"
       },
       "data": [
        {
         "marker": {
          "color": [
           2,
           4,
           2,
           2,
           2,
           2,
           2,
           2,
           2,
           2,
           2,
           2,
           2,
           2,
           2,
           2,
           2,
           2,
           2,
           2,
           2,
           2,
           4,
           4,
           4,
           4,
           4,
           4,
           4,
           4,
           4,
           4,
           4,
           4,
           8,
           8,
           8,
           8,
           8,
           8,
           8,
           8,
           8,
           8,
           8,
           8,
           8,
           8,
           8,
           8,
           4,
           4,
           4,
           4,
           4,
           4,
           4,
           4,
           4,
           4,
           4,
           4,
           8,
           8,
           8,
           8,
           8,
           8,
           8,
           8,
           8,
           8,
           8,
           8,
           8,
           8,
           8,
           8,
           4,
           4,
           4,
           4,
           4,
           4,
           4,
           4,
           4,
           4,
           4,
           4,
           8,
           8,
           8,
           8,
           8,
           8,
           8,
           8,
           8,
           8,
           8,
           8,
           8,
           8,
           8,
           8,
           4,
           4,
           4,
           4,
           4,
           4,
           4,
           4,
           4,
           4,
           4,
           4,
           8,
           8,
           8,
           8,
           8,
           8,
           8,
           8,
           8,
           8,
           8,
           8,
           8,
           8,
           8,
           8,
           4,
           4,
           4,
           4,
           4,
           4,
           4,
           4,
           4,
           4,
           4,
           4,
           8,
           8,
           8,
           8,
           8,
           8,
           8,
           8,
           8,
           8,
           8,
           8,
           8,
           8,
           8,
           8,
           4,
           4,
           4,
           4,
           4,
           4,
           4,
           4,
           4,
           4,
           4,
           4,
           8,
           8,
           8,
           8,
           8,
           8,
           8,
           8,
           8,
           8,
           8,
           8,
           8,
           8,
           8,
           8,
           4,
           4,
           4,
           4,
           4,
           4,
           4,
           4,
           4,
           4,
           4,
           4,
           8,
           8,
           8,
           8,
           8,
           8,
           8,
           8,
           8,
           8,
           8,
           8,
           8,
           8,
           8,
           8,
           4
          ],
          "colorscale": [
           [
            0,
            "wheat"
           ],
           [
            0.5,
            "darkgreen"
           ],
           [
            1,
            "lightgreen"
           ]
          ],
          "opacity": 0.8,
          "size": 3
         },
         "mode": "markers",
         "name": "0 degree rotation",
         "scene": "scene",
         "type": "scatter3d",
         "x": [
          0,
          0,
          -0.0001956352474333478,
          -2.9729321105441373e-05,
          5.416260298327653e-05,
          0.00010150585042700041,
          0.00038277476003656093,
          0.00023329941672140176,
          0.00017186292688527088,
          0.000741361191338057,
          0.001278588016766013,
          0.0012430292667936292,
          0.0015087083497498056,
          0.0015980425079552619,
          -5.807126525671693e-05,
          -0.00030977717166623777,
          -0.00047887474809481896,
          -0.0006520040439519284,
          -0.0005312549786112197,
          -0.00043008139985942066,
          -0.00016393337488840046,
          0.00013757059806352598,
          0,
          0,
          0,
          0,
          0,
          0,
          0,
          0,
          0,
          0,
          0,
          0,
          -0.0020225424859373685,
          -0.004045084971874737,
          -0.006067627457812106,
          -0.008090169943749474,
          -0.010112712429686843,
          -0.012135254915624212,
          -0.01415779740156158,
          -0.016180339887498948,
          -0.0020225424859373685,
          -0.004045084971874737,
          -0.006067627457812106,
          -0.008090169943749474,
          -0.010112712429686843,
          -0.012135254915624212,
          -0.01415779740156158,
          -0.016180339887498948,
          0,
          0,
          0,
          0,
          0,
          0,
          0,
          0,
          0,
          0,
          0,
          0,
          -0.0020225424859373685,
          -0.004045084971874737,
          -0.006067627457812106,
          -0.008090169943749474,
          -0.010112712429686843,
          -0.012135254915624212,
          -0.01415779740156158,
          -0.016180339887498948,
          -0.0020225424859373685,
          -0.004045084971874737,
          -0.006067627457812106,
          -0.008090169943749474,
          -0.010112712429686843,
          -0.012135254915624212,
          -0.01415779740156158,
          -0.016180339887498948,
          0,
          0,
          0,
          0,
          0,
          0,
          0,
          0,
          0,
          0,
          0,
          0,
          -0.0020225424859373685,
          -0.004045084971874737,
          -0.006067627457812106,
          -0.008090169943749474,
          -0.010112712429686843,
          -0.012135254915624212,
          -0.01415779740156158,
          -0.016180339887498948,
          -0.0020225424859373685,
          -0.004045084971874737,
          -0.006067627457812106,
          -0.008090169943749474,
          -0.010112712429686843,
          -0.012135254915624212,
          -0.01415779740156158,
          -0.016180339887498948,
          0,
          0,
          0,
          0,
          0,
          0,
          0,
          0,
          0,
          0,
          0,
          0,
          -0.0020225424859373685,
          -0.004045084971874737,
          -0.006067627457812106,
          -0.008090169943749474,
          -0.010112712429686843,
          -0.012135254915624212,
          -0.01415779740156158,
          -0.016180339887498948,
          -0.0020225424859373685,
          -0.004045084971874737,
          -0.006067627457812106,
          -0.008090169943749474,
          -0.010112712429686843,
          -0.012135254915624212,
          -0.01415779740156158,
          -0.016180339887498948,
          0,
          0,
          0,
          0,
          0,
          0,
          0,
          0,
          0,
          0,
          0,
          0,
          -0.0020225424859373685,
          -0.004045084971874737,
          -0.006067627457812106,
          -0.008090169943749474,
          -0.010112712429686843,
          -0.012135254915624212,
          -0.01415779740156158,
          -0.016180339887498948,
          -0.0020225424859373685,
          -0.004045084971874737,
          -0.006067627457812106,
          -0.008090169943749474,
          -0.010112712429686843,
          -0.012135254915624212,
          -0.01415779740156158,
          -0.016180339887498948,
          0,
          0,
          0,
          0,
          0,
          0,
          0,
          0,
          0,
          0,
          0,
          0,
          -0.0020225424859373685,
          -0.004045084971874737,
          -0.006067627457812106,
          -0.008090169943749474,
          -0.010112712429686843,
          -0.012135254915624212,
          -0.01415779740156158,
          -0.016180339887498948,
          -0.0020225424859373685,
          -0.004045084971874737,
          -0.006067627457812106,
          -0.008090169943749474,
          -0.010112712429686843,
          -0.012135254915624212,
          -0.01415779740156158,
          -0.016180339887498948,
          0,
          0,
          0,
          0,
          0,
          0,
          0,
          0,
          0,
          0,
          0,
          0,
          -0.0020225424859373685,
          -0.004045084971874737,
          -0.006067627457812106,
          -0.008090169943749474,
          -0.010112712429686843,
          -0.012135254915624212,
          -0.01415779740156158,
          -0.016180339887498948,
          -0.0020225424859373685,
          -0.004045084971874737,
          -0.006067627457812106,
          -0.008090169943749474,
          -0.010112712429686843,
          -0.012135254915624212,
          -0.01415779740156158,
          -0.016180339887498948,
          0
         ],
         "y": [
          0,
          0,
          -0.00014406625990720062,
          -7.116499348593281e-05,
          -4.2465537154462126e-05,
          4.814085389473895e-05,
          0.0024191779012933804,
          0.004558880940938704,
          0.00673477396531275,
          0.00887959951230413,
          0.01097049758083423,
          0.013148207162106122,
          0.01542425685895355,
          0.016502121455711668,
          0.00033926435025293493,
          0.0006843595860865534,
          0.0008961900375088727,
          0.0011105193146491452,
          0.0013185616972417227,
          0.0014207532082209026,
          0.0015158096739248442,
          0.0016194870233464753,
          0,
          0,
          0,
          0,
          0,
          0,
          0,
          0,
          0,
          0,
          0,
          0,
          0,
          0,
          0,
          0,
          0,
          0,
          0,
          0,
          0,
          0,
          0,
          0,
          0,
          0,
          0,
          0,
          0,
          0,
          0,
          0,
          0,
          0,
          0,
          0,
          0,
          0,
          0,
          0,
          0,
          0,
          0,
          0,
          0,
          0,
          0,
          0,
          0,
          0,
          0,
          0,
          0,
          0,
          0,
          0,
          0,
          0,
          0,
          0,
          0,
          0,
          0,
          0,
          0,
          0,
          0,
          0,
          0,
          0,
          0,
          0,
          0,
          0,
          0,
          0,
          0,
          0,
          0,
          0,
          0,
          0,
          0,
          0,
          0,
          0,
          0,
          0,
          0,
          0,
          0,
          0,
          0,
          0,
          0,
          0,
          0,
          0,
          0,
          0,
          0,
          0,
          0,
          0,
          0,
          0,
          0,
          0,
          0,
          0,
          0,
          0,
          0,
          0,
          0,
          0,
          0,
          0,
          0,
          0,
          0,
          0,
          0,
          0,
          0,
          0,
          0,
          0,
          0,
          0,
          0,
          0,
          0,
          0,
          0,
          0,
          0,
          0,
          0,
          0,
          0,
          0,
          0,
          0,
          0,
          0,
          0,
          0,
          0,
          0,
          0,
          0,
          0,
          0,
          0,
          0,
          0,
          0,
          0,
          0,
          0,
          0,
          0,
          0,
          0,
          0,
          0,
          0,
          0,
          0,
          0,
          0,
          0,
          0,
          0,
          0,
          0,
          0,
          0,
          0,
          0,
          0,
          0,
          0,
          0,
          0,
          0,
          0,
          0,
          0,
          0,
          0,
          0,
          0,
          0,
          0,
          0
         ],
         "z": [
          -0.03,
          -0.03,
          -0.03248816634546769,
          -0.0349815898211259,
          -0.037480017023643314,
          -0.039977925968905835,
          -0.04071891930244547,
          -0.04200318096732276,
          -0.043232699208015826,
          -0.04438395725891423,
          -0.04564472393243384,
          -0.0468720448175071,
          -0.04787155089670837,
          -0.04807018505144314,
          -0.04245578436962574,
          -0.04491902479940184,
          -0.0474042881394719,
          -0.04988905959936043,
          -0.05237746029664866,
          -0.05487332103035283,
          -0.05735729556668204,
          -0.05983688149209602,
          -0.0275,
          -0.025,
          -0.0225,
          -0.02,
          -0.0175,
          -0.015,
          -0.0125,
          -0.01,
          -0.0075,
          -0.005,
          -0.0025,
          0,
          0.0014694631307311829,
          0.0029389262614623658,
          0.004408389392193549,
          0.0058778525229247315,
          0.007347315653655915,
          0.008816778784387098,
          0.010286241915118281,
          0.011755705045849465,
          0.0014694631307311829,
          0.0029389262614623658,
          0.004408389392193549,
          0.0058778525229247315,
          0.007347315653655915,
          0.008816778784387098,
          0.010286241915118281,
          0.011755705045849465,
          0.0025,
          0.005,
          0.007000000000000002,
          0.009500000000000001,
          0.012000000000000002,
          0.014000000000000004,
          0.016500000000000004,
          0.019000000000000003,
          0.021000000000000005,
          0.023500000000000007,
          0.026000000000000006,
          0.028000000000000008,
          0.02946946313073119,
          0.030938926261462375,
          0.03240838939219356,
          0.03387785252292474,
          0.035347315653655925,
          0.036816778784387105,
          0.03828624191511829,
          0.03975570504584947,
          0.02946946313073119,
          0.030938926261462375,
          0.03240838939219356,
          0.03387785252292474,
          0.035347315653655925,
          0.036816778784387105,
          0.03828624191511829,
          0.03975570504584947,
          0.030500000000000006,
          0.03300000000000001,
          0.03500000000000001,
          0.037500000000000006,
          0.04000000000000001,
          0.04200000000000001,
          0.04450000000000001,
          0.047000000000000014,
          0.049000000000000016,
          0.05150000000000001,
          0.05400000000000001,
          0.056000000000000015,
          0.057469463130731195,
          0.05893892626146238,
          0.06040838939219356,
          0.06187785252292475,
          0.06334731565365594,
          0.06481677878438712,
          0.0662862419151183,
          0.06775570504584948,
          0.057469463130731195,
          0.05893892626146238,
          0.06040838939219356,
          0.06187785252292475,
          0.06334731565365594,
          0.06481677878438712,
          0.0662862419151183,
          0.06775570504584948,
          0.05850000000000002,
          0.06100000000000001,
          0.063,
          0.0655,
          0.068,
          0.07,
          0.0725,
          0.075,
          0.077,
          0.07949999999999999,
          0.08199999999999999,
          0.08399999999999999,
          0.08546946313073116,
          0.08693892626146235,
          0.08840838939219353,
          0.08987785252292473,
          0.09134731565365589,
          0.09281677878438709,
          0.09428624191511827,
          0.09575570504584946,
          0.08546946313073116,
          0.08693892626146235,
          0.08840838939219353,
          0.08987785252292473,
          0.09134731565365589,
          0.09281677878438709,
          0.09428624191511827,
          0.09575570504584946,
          0.08649999999999998,
          0.08899999999999998,
          0.09099999999999998,
          0.09349999999999997,
          0.09599999999999997,
          0.09799999999999998,
          0.10049999999999998,
          0.10299999999999997,
          0.10499999999999997,
          0.10749999999999997,
          0.10999999999999996,
          0.11199999999999996,
          0.11346946313073113,
          0.11493892626146232,
          0.1164083893921935,
          0.1178778525229247,
          0.11934731565365586,
          0.12081677878438705,
          0.12228624191511824,
          0.12375570504584943,
          0.11346946313073113,
          0.11493892626146232,
          0.1164083893921935,
          0.1178778525229247,
          0.11934731565365586,
          0.12081677878438705,
          0.12228624191511824,
          0.12375570504584943,
          0.11449999999999996,
          0.11699999999999995,
          0.11899999999999995,
          0.12149999999999996,
          0.12399999999999994,
          0.12599999999999995,
          0.12849999999999995,
          0.13099999999999995,
          0.13299999999999992,
          0.13549999999999993,
          0.13799999999999993,
          0.13999999999999993,
          0.1414694631307311,
          0.1429389262614623,
          0.14440838939219347,
          0.14587785252292465,
          0.14734731565365583,
          0.14881677878438704,
          0.1502862419151182,
          0.1517557050458494,
          0.1414694631307311,
          0.1429389262614623,
          0.14440838939219347,
          0.14587785252292465,
          0.14734731565365583,
          0.14881677878438704,
          0.1502862419151182,
          0.1517557050458494,
          0.14249999999999993,
          0.14499999999999993,
          0.1469999999999999,
          0.1494999999999999,
          0.1519999999999999,
          0.15399999999999991,
          0.15649999999999992,
          0.15899999999999992,
          0.16099999999999992,
          0.1634999999999999,
          0.1659999999999999,
          0.1679999999999999,
          0.16946946313073108,
          0.17093892626146226,
          0.17240838939219344,
          0.17387785252292465,
          0.17534731565365583,
          0.17681677878438698,
          0.1782862419151182,
          0.17975570504584937,
          0.16946946313073108,
          0.17093892626146226,
          0.17240838939219344,
          0.17387785252292465,
          0.17534731565365583,
          0.17681677878438698,
          0.1782862419151182,
          0.17975570504584937,
          0.16999999999999993
         ]
        },
        {
         "marker": {
          "color": [
           2,
           4,
           2,
           2,
           2,
           2,
           2,
           2,
           2,
           2,
           2,
           2,
           2,
           2,
           2,
           2,
           2,
           2,
           2,
           2,
           2,
           2,
           4,
           4,
           4,
           4,
           4,
           4,
           4,
           4,
           4,
           4,
           4,
           4,
           8,
           8,
           8,
           8,
           8,
           8,
           8,
           8,
           8,
           8,
           8,
           8,
           8,
           8,
           8,
           8,
           4,
           4,
           4,
           4,
           4,
           4,
           4,
           4,
           4,
           4,
           4,
           4,
           8,
           8,
           8,
           8,
           8,
           8,
           8,
           8,
           8,
           8,
           8,
           8,
           8,
           8,
           8,
           8,
           4,
           4,
           4,
           4,
           4,
           4,
           4,
           4,
           4,
           4,
           4,
           4,
           8,
           8,
           8,
           8,
           8,
           8,
           8,
           8,
           8,
           8,
           8,
           8,
           8,
           8,
           8,
           8,
           4,
           4,
           4,
           4,
           4,
           4,
           4,
           4,
           4,
           4,
           4,
           4,
           8,
           8,
           8,
           8,
           8,
           8,
           8,
           8,
           8,
           8,
           8,
           8,
           8,
           8,
           8,
           8,
           4,
           4,
           4,
           4,
           4,
           4,
           4,
           4,
           4,
           4,
           4,
           4,
           8,
           8,
           8,
           8,
           8,
           8,
           8,
           8,
           8,
           8,
           8,
           8,
           8,
           8,
           8,
           8,
           4,
           4,
           4,
           4,
           4,
           4,
           4,
           4,
           4,
           4,
           4,
           4,
           8,
           8,
           8,
           8,
           8,
           8,
           8,
           8,
           8,
           8,
           8,
           8,
           8,
           8,
           8,
           8,
           4,
           4,
           4,
           4,
           4,
           4,
           4,
           4,
           4,
           4,
           4,
           4,
           8,
           8,
           8,
           8,
           8,
           8,
           8,
           8,
           8,
           8,
           8,
           8,
           8,
           8,
           8,
           8,
           4
          ],
          "colorscale": [
           [
            0,
            "wheat"
           ],
           [
            0.5,
            "darkgreen"
           ],
           [
            1,
            "lightgreen"
           ]
          ],
          "opacity": 0.8,
          "size": 3
         },
         "mode": "markers",
         "name": "90 degree rotation",
         "scene": "scene2",
         "type": "scatter3d",
         "x": [
          0,
          0,
          -7.322871868169446e-05,
          2.270386530776514e-05,
          0.00020047720884166113,
          0.0005900326672074507,
          0.003042100417045113,
          0.005486662658081858,
          0.007810697489161866,
          0.01011464251115055,
          0.01251355491444197,
          0.014912241565038245,
          0.01738578941873984,
          0.01847110166473821,
          0.0009749015661331172,
          0.0008998025032563738,
          0.0007621510484250543,
          0.0006510376368433828,
          0.0005972692016813527,
          0.0006055425695676737,
          0.0008044521305294732,
          0.0008907457859429438,
          0,
          0,
          0,
          0,
          0,
          0,
          0,
          0,
          0,
          0,
          0,
          0,
          1.2931209444076564e-17,
          2.586241888815313e-17,
          3.8793628332229696e-17,
          5.1724837776306264e-17,
          6.465604722038284e-17,
          7.758725666445939e-17,
          9.051846610853595e-17,
          1.0344967555261252e-16,
          0.0020225424859373685,
          0.004045084971874737,
          0.006067627457812106,
          0.008090169943749474,
          0.010112712429686843,
          0.012135254915624212,
          0.01415779740156158,
          0.016180339887498948,
          0,
          0,
          0,
          0,
          0,
          0,
          0,
          0,
          0,
          0,
          0,
          0,
          2.388094830251478e-16,
          4.776189660502956e-16,
          7.164284490754434e-16,
          9.552379321005911e-16,
          1.194047415125739e-15,
          1.4328568981508867e-15,
          1.6716663811760345e-15,
          1.9104758642011823e-15,
          -0.0020225424859373685,
          -0.004045084971874737,
          -0.006067627457812106,
          -0.008090169943749474,
          -0.010112712429686843,
          -0.012135254915624212,
          -0.01415779740156158,
          -0.016180339887498948,
          0,
          0,
          0,
          0,
          0,
          0,
          0,
          0,
          0,
          0,
          0,
          0,
          -3.067725672670114e-17,
          -6.135451345340228e-17,
          -9.203177018010342e-17,
          -1.2270902690680456e-16,
          -1.5338628363350572e-16,
          -1.8406354036020686e-16,
          -2.1474079708690803e-16,
          -2.4541805381360917e-16,
          0.0020225424859373685,
          0.004045084971874737,
          0.006067627457812106,
          0.008090169943749474,
          0.010112712429686843,
          0.012135254915624212,
          0.01415779740156158,
          0.016180339887498948,
          0,
          0,
          0,
          0,
          0,
          0,
          0,
          0,
          0,
          0,
          0,
          0,
          2.8241794919592545e-16,
          5.648358983918509e-16,
          8.472538475877765e-16,
          1.129671796783702e-15,
          1.4120897459796277e-15,
          1.6945076951755531e-15,
          1.9769256443714786e-15,
          2.2593435935674044e-15,
          -0.0020225424859373685,
          -0.004045084971874737,
          -0.006067627457812106,
          -0.008090169943749474,
          -0.010112712429686843,
          -0.012135254915624212,
          -0.01415779740156158,
          -0.016180339887498948,
          0,
          0,
          0,
          0,
          0,
          0,
          0,
          0,
          0,
          0,
          0,
          0,
          -7.428572289747885e-17,
          -1.485714457949577e-16,
          -2.2285716869243653e-16,
          -2.9714289158991544e-16,
          -3.7142861448739434e-16,
          -4.457143373848733e-16,
          -5.200000602823521e-16,
          -5.94285783179831e-16,
          0.0020225424859373685,
          0.004045084971874737,
          0.006067627457812106,
          0.008090169943749474,
          0.010112712429686843,
          0.012135254915624212,
          0.01415779740156158,
          0.016180339887498948,
          0,
          0,
          0,
          0,
          0,
          0,
          0,
          0,
          0,
          0,
          0,
          0,
          3.2602641536670312e-16,
          6.5205283073340625e-16,
          9.780792461001096e-16,
          1.3041056614668129e-15,
          1.6301320768335162e-15,
          1.9561584922002195e-15,
          2.2821849075669233e-15,
          2.6082113229336266e-15,
          -0.0020225424859373685,
          -0.004045084971874737,
          -0.006067627457812106,
          -0.008090169943749474,
          -0.010112712429686843,
          -0.012135254915624212,
          -0.01415779740156158,
          -0.016180339887498948,
          0,
          0,
          0,
          0,
          0,
          0,
          0,
          0,
          0,
          0,
          0,
          0,
          -1.1789418906825653e-16,
          -2.3578837813651306e-16,
          -3.536825672047696e-16,
          -4.715767562730261e-16,
          -5.894709453412827e-16,
          -7.073651344095394e-16,
          -8.252593234777959e-16,
          -9.431535125460526e-16,
          0.0020225424859373685,
          0.004045084971874737,
          0.006067627457812106,
          0.008090169943749474,
          0.010112712429686843,
          0.012135254915624212,
          0.01415779740156158,
          0.016180339887498948,
          0
         ],
         "y": [
          0,
          0,
          5.766989927544141e-06,
          -0.00012424239164944578,
          -5.8188076078438856e-05,
          -0.00021937296101160679,
          -8.221429528165774e-05,
          7.411714927647067e-05,
          0.0006849115716700263,
          0.0010745137199204141,
          0.0014563604047034757,
          0.0016918180574853792,
          0.0018446458679401976,
          0.001675587216903148,
          -0.00039650151538021366,
          -0.0008560688349763414,
          -0.001361601252247348,
          -0.0019918792986960104,
          -0.0026787046657234816,
          -0.0032243828621536723,
          -0.0036754292926724857,
          -0.004459717147367113,
          0,
          0,
          0,
          0,
          0,
          0,
          0,
          0,
          0,
          0,
          0,
          0,
          -0.0020225424859373685,
          -0.004045084971874737,
          -0.006067627457812106,
          -0.008090169943749474,
          -0.010112712429686843,
          -0.012135254915624212,
          -0.01415779740156158,
          -0.016180339887498948,
          -1.1293913679053563e-16,
          -2.2587827358107125e-16,
          -3.3881741037160686e-16,
          -4.517565471621425e-16,
          -5.646956839526782e-16,
          -6.776348207432138e-16,
          -7.905739575337496e-16,
          -9.035130943242852e-16,
          0,
          0,
          0,
          0,
          0,
          0,
          0,
          0,
          0,
          0,
          0,
          0,
          0.0020225424859373685,
          0.004045084971874737,
          0.006067627457812106,
          0.008090169943749474,
          0.010112712429686843,
          0.012135254915624212,
          0.01415779740156158,
          0.016180339887498948,
          -9.519308950791103e-17,
          -1.9038617901582206e-16,
          -2.855792685237331e-16,
          -3.8077235803164417e-16,
          -4.759654475395552e-16,
          -5.711585370474664e-16,
          -6.663516265553774e-16,
          -7.615447160632884e-16,
          0,
          0,
          0,
          0,
          0,
          0,
          0,
          0,
          0,
          0,
          0,
          0,
          -0.0020225424859373685,
          -0.004045084971874737,
          -0.006067627457812106,
          -0.008090169943749474,
          -0.010112712429686843,
          -0.012135254915624212,
          -0.01415779740156158,
          -0.016180339887498948,
          -1.5654760296131332e-16,
          -3.1309520592262664e-16,
          -4.6964280888394e-16,
          -6.261904118452533e-16,
          -7.827380148065665e-16,
          -9.3928561776788e-16,
          -1.0958332207291932e-15,
          -1.2523808236905066e-15,
          0,
          0,
          0,
          0,
          0,
          0,
          0,
          0,
          0,
          0,
          0,
          0,
          0.0020225424859373685,
          0.004045084971874737,
          0.006067627457812106,
          0.008090169943749474,
          0.010112712429686843,
          0.012135254915624212,
          0.01415779740156158,
          0.016180339887498948,
          -5.158462333713334e-17,
          -1.0316924667426668e-16,
          -1.5475387001140002e-16,
          -2.063384933485334e-16,
          -2.5792311668566677e-16,
          -3.0950774002280014e-16,
          -3.610923633599335e-16,
          -4.1267698669706683e-16,
          0,
          0,
          0,
          0,
          0,
          0,
          0,
          0,
          0,
          0,
          0,
          0,
          -0.0020225424859373685,
          -0.004045084971874737,
          -0.006067627457812106,
          -0.008090169943749474,
          -0.010112712429686843,
          -0.012135254915624212,
          -0.01415779740156158,
          -0.016180339887498948,
          -2.0015606913209102e-16,
          -4.0031213826418203e-16,
          -6.00468207396273e-16,
          -8.00624276528364e-16,
          -1.0007803456604549e-15,
          -1.200936414792546e-15,
          -1.401092483924637e-15,
          -1.6012485530567281e-15,
          0,
          0,
          0,
          0,
          0,
          0,
          0,
          0,
          0,
          0,
          0,
          0,
          0.0020225424859373685,
          0.004045084971874737,
          0.006067627457812106,
          0.008090169943749474,
          0.010112712429686843,
          0.012135254915624212,
          0.01415779740156158,
          0.016180339887498948,
          -7.976157166355633e-18,
          -1.5952314332711267e-17,
          -2.39284714990669e-17,
          -3.1904628665422534e-17,
          -3.988078583177817e-17,
          -4.78569429981338e-17,
          -5.583310016448943e-17,
          -6.380925733084507e-17,
          0,
          0,
          0,
          0,
          0,
          0,
          0,
          0,
          0,
          0,
          0,
          0,
          -0.0020225424859373685,
          -0.004045084971874737,
          -0.006067627457812106,
          -0.008090169943749474,
          -0.010112712429686843,
          -0.012135254915624212,
          -0.01415779740156158,
          -0.016180339887498948,
          -2.437645353028687e-16,
          -4.875290706057374e-16,
          -7.312936059086062e-16,
          -9.750581412114748e-16,
          -1.2188226765143436e-15,
          -1.4625872118172122e-15,
          -1.7063517471200807e-15,
          -1.9501162824229493e-15,
          0
         ],
         "z": [
          -0.03,
          -0.03,
          -0.03249892062630797,
          -0.034993694062921216,
          -0.037486490377448986,
          -0.03995068719948381,
          -0.040418181852524084,
          -0.04091785767657381,
          -0.0416076346532118,
          -0.04249648081635379,
          -0.04308759196550832,
          -0.0437515663972432,
          -0.04342262160582705,
          -0.04348154411047915,
          -0.04241452595351522,
          -0.044870774721354964,
          -0.04731525606758589,
          -0.04973194872366186,
          -0.05213515072736188,
          -0.05457485703290861,
          -0.057025773617387615,
          -0.05939799746138166,
          -0.0275,
          -0.025,
          -0.0225,
          -0.02,
          -0.0175,
          -0.015,
          -0.0125,
          -0.01,
          -0.0075,
          -0.005,
          -0.0025,
          0,
          0.0014694631307311829,
          0.0029389262614623658,
          0.004408389392193549,
          0.0058778525229247315,
          0.007347315653655915,
          0.008816778784387098,
          0.010286241915118281,
          0.011755705045849465,
          0.0014694631307311829,
          0.0029389262614623658,
          0.004408389392193549,
          0.0058778525229247315,
          0.007347315653655915,
          0.008816778784387098,
          0.010286241915118281,
          0.011755705045849465,
          0.0025,
          0.005,
          0.007000000000000002,
          0.009500000000000001,
          0.012000000000000002,
          0.014000000000000004,
          0.016500000000000004,
          0.019000000000000003,
          0.021000000000000005,
          0.023500000000000007,
          0.026000000000000006,
          0.028000000000000008,
          0.02946946313073119,
          0.030938926261462375,
          0.03240838939219356,
          0.03387785252292474,
          0.035347315653655925,
          0.036816778784387105,
          0.03828624191511829,
          0.03975570504584947,
          0.02946946313073119,
          0.030938926261462375,
          0.03240838939219356,
          0.03387785252292474,
          0.035347315653655925,
          0.036816778784387105,
          0.03828624191511829,
          0.03975570504584947,
          0.030500000000000006,
          0.03300000000000001,
          0.03500000000000001,
          0.037500000000000006,
          0.04000000000000001,
          0.04200000000000001,
          0.04450000000000001,
          0.047000000000000014,
          0.049000000000000016,
          0.05150000000000001,
          0.05400000000000001,
          0.056000000000000015,
          0.057469463130731195,
          0.05893892626146238,
          0.06040838939219356,
          0.06187785252292475,
          0.06334731565365594,
          0.06481677878438712,
          0.0662862419151183,
          0.06775570504584948,
          0.057469463130731195,
          0.05893892626146238,
          0.06040838939219356,
          0.06187785252292475,
          0.06334731565365594,
          0.06481677878438712,
          0.0662862419151183,
          0.06775570504584948,
          0.05850000000000002,
          0.06100000000000001,
          0.063,
          0.0655,
          0.068,
          0.07,
          0.0725,
          0.075,
          0.077,
          0.07949999999999999,
          0.08199999999999999,
          0.08399999999999999,
          0.08546946313073116,
          0.08693892626146235,
          0.08840838939219353,
          0.08987785252292473,
          0.09134731565365589,
          0.09281677878438709,
          0.09428624191511827,
          0.09575570504584946,
          0.08546946313073116,
          0.08693892626146235,
          0.08840838939219353,
          0.08987785252292473,
          0.09134731565365589,
          0.09281677878438709,
          0.09428624191511827,
          0.09575570504584946,
          0.08649999999999998,
          0.08899999999999998,
          0.09099999999999998,
          0.09349999999999997,
          0.09599999999999997,
          0.09799999999999998,
          0.10049999999999998,
          0.10299999999999997,
          0.10499999999999997,
          0.10749999999999997,
          0.10999999999999996,
          0.11199999999999996,
          0.11346946313073113,
          0.11493892626146232,
          0.1164083893921935,
          0.1178778525229247,
          0.11934731565365586,
          0.12081677878438705,
          0.12228624191511824,
          0.12375570504584943,
          0.11346946313073113,
          0.11493892626146232,
          0.1164083893921935,
          0.1178778525229247,
          0.11934731565365586,
          0.12081677878438705,
          0.12228624191511824,
          0.12375570504584943,
          0.11449999999999996,
          0.11699999999999995,
          0.11899999999999995,
          0.12149999999999996,
          0.12399999999999994,
          0.12599999999999995,
          0.12849999999999995,
          0.13099999999999995,
          0.13299999999999992,
          0.13549999999999993,
          0.13799999999999993,
          0.13999999999999993,
          0.1414694631307311,
          0.1429389262614623,
          0.14440838939219347,
          0.14587785252292465,
          0.14734731565365583,
          0.14881677878438704,
          0.1502862419151182,
          0.1517557050458494,
          0.1414694631307311,
          0.1429389262614623,
          0.14440838939219347,
          0.14587785252292465,
          0.14734731565365583,
          0.14881677878438704,
          0.1502862419151182,
          0.1517557050458494,
          0.14249999999999993,
          0.14499999999999993,
          0.1469999999999999,
          0.1494999999999999,
          0.1519999999999999,
          0.15399999999999991,
          0.15649999999999992,
          0.15899999999999992,
          0.16099999999999992,
          0.1634999999999999,
          0.1659999999999999,
          0.1679999999999999,
          0.16946946313073108,
          0.17093892626146226,
          0.17240838939219344,
          0.17387785252292465,
          0.17534731565365583,
          0.17681677878438698,
          0.1782862419151182,
          0.17975570504584937,
          0.16946946313073108,
          0.17093892626146226,
          0.17240838939219344,
          0.17387785252292465,
          0.17534731565365583,
          0.17681677878438698,
          0.1782862419151182,
          0.17975570504584937,
          0.16999999999999993
         ]
        },
        {
         "marker": {
          "color": [
           2,
           4,
           2,
           2,
           2,
           2,
           2,
           2,
           2,
           2,
           2,
           2,
           2,
           2,
           2,
           2,
           2,
           2,
           2,
           2,
           2,
           2,
           4,
           4,
           4,
           4,
           4,
           4,
           4,
           4,
           4,
           4,
           4,
           4,
           8,
           8,
           8,
           8,
           8,
           8,
           8,
           8,
           8,
           8,
           8,
           8,
           8,
           8,
           8,
           8,
           4,
           4,
           4,
           4,
           4,
           4,
           4,
           4,
           4,
           4,
           4,
           4,
           8,
           8,
           8,
           8,
           8,
           8,
           8,
           8,
           8,
           8,
           8,
           8,
           8,
           8,
           8,
           8,
           4,
           4,
           4,
           4,
           4,
           4,
           4,
           4,
           4,
           4,
           4,
           4,
           8,
           8,
           8,
           8,
           8,
           8,
           8,
           8,
           8,
           8,
           8,
           8,
           8,
           8,
           8,
           8,
           4,
           4,
           4,
           4,
           4,
           4,
           4,
           4,
           4,
           4,
           4,
           4,
           8,
           8,
           8,
           8,
           8,
           8,
           8,
           8,
           8,
           8,
           8,
           8,
           8,
           8,
           8,
           8,
           4,
           4,
           4,
           4,
           4,
           4,
           4,
           4,
           4,
           4,
           4,
           4,
           8,
           8,
           8,
           8,
           8,
           8,
           8,
           8,
           8,
           8,
           8,
           8,
           8,
           8,
           8,
           8,
           4,
           4,
           4,
           4,
           4,
           4,
           4,
           4,
           4,
           4,
           4,
           4,
           8,
           8,
           8,
           8,
           8,
           8,
           8,
           8,
           8,
           8,
           8,
           8,
           8,
           8,
           8,
           8,
           4,
           4,
           4,
           4,
           4,
           4,
           4,
           4,
           4,
           4,
           4,
           4,
           8,
           8,
           8,
           8,
           8,
           8,
           8,
           8,
           8,
           8,
           8,
           8,
           8,
           8,
           8,
           8,
           4
          ],
          "colorscale": [
           [
            0,
            "wheat"
           ],
           [
            0.5,
            "darkgreen"
           ],
           [
            1,
            "lightgreen"
           ]
          ],
          "opacity": 0.8,
          "size": 3
         },
         "mode": "markers",
         "name": "180 degree rotation",
         "scene": "scene3",
         "type": "scatter3d",
         "x": [
          0,
          0,
          0.0002096599565994246,
          0.0002078533559522658,
          0.00020647625436651682,
          0.00014586195399126734,
          0.0005748764574267682,
          0.0008905886466381876,
          0.001036691801314027,
          0.0016194487290348916,
          0.0026457569926402968,
          0.00376266282664816,
          0.0042119837408645475,
          0.004413115755244807,
          -6.095214649357656e-05,
          -0.00016785645637629014,
          -0.000447119940054702,
          -0.000339077018223726,
          0.0001711522841432131,
          0.0005264561461486806,
          0.0009191800481000829,
          0.0009222757122635823,
          0,
          0,
          0,
          0,
          0,
          0,
          0,
          0,
          0,
          0,
          0,
          0,
          0.0020225424859373685,
          0.004045084971874737,
          0.006067627457812106,
          0.008090169943749474,
          0.010112712429686843,
          0.012135254915624212,
          0.01415779740156158,
          0.016180339887498948,
          -0.0020225424859373685,
          -0.004045084971874737,
          -0.006067627457812106,
          -0.008090169943749474,
          -0.010112712429686843,
          -0.012135254915624212,
          -0.01415779740156158,
          -0.016180339887498948,
          0,
          0,
          0,
          0,
          0,
          0,
          0,
          0,
          0,
          0,
          0,
          0,
          0.0020225424859373685,
          0.004045084971874737,
          0.006067627457812106,
          0.008090169943749474,
          0.010112712429686843,
          0.012135254915624212,
          0.01415779740156158,
          0.016180339887498948,
          -0.0020225424859373685,
          -0.004045084971874737,
          -0.006067627457812106,
          -0.008090169943749474,
          -0.010112712429686843,
          -0.012135254915624212,
          -0.01415779740156158,
          -0.016180339887498948,
          0,
          0,
          0,
          0,
          0,
          0,
          0,
          0,
          0,
          0,
          0,
          0,
          0.0020225424859373685,
          0.004045084971874737,
          0.006067627457812106,
          0.008090169943749474,
          0.010112712429686843,
          0.012135254915624212,
          0.01415779740156158,
          0.016180339887498948,
          -0.0020225424859373685,
          -0.004045084971874737,
          -0.006067627457812106,
          -0.008090169943749474,
          -0.010112712429686843,
          -0.012135254915624212,
          -0.01415779740156158,
          -0.016180339887498948,
          0,
          0,
          0,
          0,
          0,
          0,
          0,
          0,
          0,
          0,
          0,
          0,
          0.0020225424859373685,
          0.004045084971874737,
          0.006067627457812106,
          0.008090169943749474,
          0.010112712429686843,
          0.012135254915624212,
          0.01415779740156158,
          0.016180339887498948,
          -0.0020225424859373685,
          -0.004045084971874737,
          -0.006067627457812106,
          -0.008090169943749474,
          -0.010112712429686843,
          -0.012135254915624212,
          -0.01415779740156158,
          -0.016180339887498948,
          0,
          0,
          0,
          0,
          0,
          0,
          0,
          0,
          0,
          0,
          0,
          0,
          0.0020225424859373685,
          0.004045084971874737,
          0.006067627457812106,
          0.008090169943749474,
          0.010112712429686843,
          0.012135254915624212,
          0.01415779740156158,
          0.016180339887498948,
          -0.0020225424859373685,
          -0.004045084971874737,
          -0.006067627457812106,
          -0.008090169943749474,
          -0.010112712429686843,
          -0.012135254915624212,
          -0.01415779740156158,
          -0.016180339887498948,
          0,
          0,
          0,
          0,
          0,
          0,
          0,
          0,
          0,
          0,
          0,
          0,
          0.0020225424859373685,
          0.004045084971874737,
          0.006067627457812106,
          0.008090169943749474,
          0.010112712429686843,
          0.012135254915624212,
          0.01415779740156158,
          0.016180339887498948,
          -0.0020225424859373685,
          -0.004045084971874737,
          -0.006067627457812106,
          -0.008090169943749474,
          -0.010112712429686843,
          -0.012135254915624212,
          -0.01415779740156158,
          -0.016180339887498948,
          0,
          0,
          0,
          0,
          0,
          0,
          0,
          0,
          0,
          0,
          0,
          0,
          0.0020225424859373685,
          0.004045084971874737,
          0.006067627457812106,
          0.008090169943749474,
          0.010112712429686843,
          0.012135254915624212,
          0.01415779740156158,
          0.016180339887498948,
          -0.0020225424859373685,
          -0.004045084971874737,
          -0.006067627457812106,
          -0.008090169943749474,
          -0.010112712429686843,
          -0.012135254915624212,
          -0.01415779740156158,
          -0.016180339887498948,
          0
         ],
         "y": [
          0,
          0,
          1.6527651580910378e-05,
          0.00021349324728233164,
          0.00040482867727520866,
          0.0006707792296131548,
          -0.001394370005351002,
          -0.003438708807266202,
          -0.0054141331593369445,
          -0.007237686279522803,
          -0.009211045369195522,
          -0.011151040367042057,
          -0.013411338597817242,
          -0.01440911222342298,
          0.0009259435978338981,
          0.001165244721742926,
          0.000990179197800631,
          0.0009736355839796814,
          0.001109644219375499,
          0.0011030308967981343,
          0.0010796860307894936,
          0.0009181121708063012,
          0,
          0,
          0,
          0,
          0,
          0,
          0,
          0,
          0,
          0,
          0,
          0,
          1.804760744603802e-16,
          3.609521489207604e-16,
          5.414282233811406e-16,
          7.219042978415208e-16,
          9.02380372301901e-16,
          1.0828564467622814e-15,
          1.2633325212226617e-15,
          1.4438085956830419e-15,
          7.126461800884414e-17,
          1.425292360176883e-16,
          2.1379385402653242e-16,
          2.850584720353766e-16,
          3.5632309004422066e-16,
          4.275877080530648e-16,
          4.988523260619089e-16,
          5.70116944070753e-16,
          0,
          0,
          0,
          0,
          0,
          0,
          0,
          0,
          0,
          0,
          0,
          0,
          -3.230053104780685e-16,
          -6.46010620956137e-16,
          -9.690159314342054e-16,
          -1.292021241912274e-15,
          -1.6150265523903424e-15,
          -1.9380318628684108e-15,
          -2.2610371733464796e-15,
          -2.584042483824548e-15,
          5.747460029472929e-16,
          1.1494920058945857e-15,
          1.7242380088418788e-15,
          2.298984011789172e-15,
          2.873730014736465e-15,
          3.4484760176837583e-15,
          4.023222020631052e-15,
          4.597968023578345e-15,
          0,
          0,
          0,
          0,
          0,
          0,
          0,
          0,
          0,
          0,
          0,
          0,
          9.325914211882481e-17,
          1.8651828423764961e-16,
          2.7977742635647443e-16,
          3.7303656847529933e-16,
          4.662957105941242e-16,
          5.595548527129491e-16,
          6.528139948317739e-16,
          7.460731369505987e-16,
          1.5848155035039957e-16,
          3.1696310070079914e-16,
          4.754446510511987e-16,
          6.339262014015984e-16,
          7.92407751751998e-16,
          9.508893021023976e-16,
          1.1093708524527973e-15,
          1.267852402803197e-15,
          0,
          0,
          0,
          0,
          0,
          0,
          0,
          0,
          0,
          0,
          0,
          0,
          -4.1022224281962384e-16,
          -8.204444856392477e-16,
          -1.2306667284588716e-15,
          -1.6408889712784957e-15,
          -2.05111121409812e-15,
          -2.4613334569177436e-15,
          -2.871555699737368e-15,
          -3.2817779425569923e-15,
          6.619629352888483e-16,
          1.3239258705776966e-15,
          1.985888805866545e-15,
          2.6478517411553932e-15,
          3.3098146764442414e-15,
          3.97177761173309e-15,
          4.633740547021938e-15,
          5.2957034823107864e-15,
          0,
          0,
          0,
          0,
          0,
          0,
          0,
          0,
          0,
          0,
          0,
          0,
          6.042209777269406e-18,
          1.2084419554538811e-17,
          1.8126629331808218e-17,
          2.416883910907762e-17,
          3.0211048886347025e-17,
          3.6253258663616424e-17,
          4.2295468440885835e-17,
          4.833767821815524e-17,
          2.456984826919549e-16,
          4.913969653839098e-16,
          7.370954480758647e-16,
          9.827939307678194e-16,
          1.2284924134597743e-15,
          1.4741908961517293e-15,
          1.719889378843684e-15,
          1.965587861535639e-15,
          0,
          0,
          0,
          0,
          0,
          0,
          0,
          0,
          0,
          0,
          0,
          0,
          -4.974391751611793e-16,
          -9.948783503223586e-16,
          -1.4923175254835378e-15,
          -1.9897567006447167e-15,
          -2.4871958758058958e-15,
          -2.9846350509670745e-15,
          -3.482074226128253e-15,
          -3.979513401289432e-15,
          -1.7056596990493833e-16,
          -3.4113193980987666e-16,
          -5.11697909714815e-16,
          -6.822638796197533e-16,
          -8.528298495246918e-16,
          -1.02339581942963e-15,
          -1.1939617893345687e-15,
          -1.364527759239507e-15,
          0,
          0,
          0,
          0,
          0,
          0,
          0,
          0,
          0,
          0,
          0,
          0,
          -8.1174722564286e-17,
          -1.62349445128572e-16,
          -2.43524167692858e-16,
          -3.2469889025714404e-16,
          -4.0587361282143007e-16,
          -4.870483353857161e-16,
          -5.682230579500022e-16,
          -6.493977805142883e-16,
          3.329154150335103e-16,
          6.658308300670206e-16,
          9.987462451005308e-16,
          1.331661660134041e-15,
          1.6645770751675512e-15,
          1.9974924902010613e-15,
          2.3304079052345717e-15,
          2.663323320268082e-15,
          0
         ],
         "z": [
          -0.03,
          -0.03,
          -0.032491138201572116,
          -0.03498336637938892,
          -0.037476033396224635,
          -0.03996110808530365,
          -0.04130316068977523,
          -0.042707085430125385,
          -0.04423232393522538,
          -0.045840132500028344,
          -0.04698142354584501,
          -0.04809450070682247,
          -0.04906360473839096,
          -0.049480655776541795,
          -0.04243943798122775,
          -0.04492566131001871,
          -0.04740383885995548,
          -0.04990144832420003,
          -0.05234504561305593,
          -0.05481965981119036,
          -0.057288510344144325,
          -0.059783281737405346,
          -0.0275,
          -0.025,
          -0.0225,
          -0.02,
          -0.0175,
          -0.015,
          -0.0125,
          -0.01,
          -0.0075,
          -0.005,
          -0.0025,
          0,
          0.0014694631307311829,
          0.0029389262614623658,
          0.004408389392193549,
          0.0058778525229247315,
          0.007347315653655915,
          0.008816778784387098,
          0.010286241915118281,
          0.011755705045849465,
          0.0014694631307311829,
          0.0029389262614623658,
          0.004408389392193549,
          0.0058778525229247315,
          0.007347315653655915,
          0.008816778784387098,
          0.010286241915118281,
          0.011755705045849465,
          0.0025,
          0.005,
          0.007000000000000002,
          0.009500000000000001,
          0.012000000000000002,
          0.014000000000000004,
          0.016500000000000004,
          0.019000000000000003,
          0.021000000000000005,
          0.023500000000000007,
          0.026000000000000006,
          0.028000000000000008,
          0.02946946313073119,
          0.030938926261462375,
          0.03240838939219356,
          0.03387785252292474,
          0.035347315653655925,
          0.036816778784387105,
          0.03828624191511829,
          0.03975570504584947,
          0.02946946313073119,
          0.030938926261462375,
          0.03240838939219356,
          0.03387785252292474,
          0.035347315653655925,
          0.036816778784387105,
          0.03828624191511829,
          0.03975570504584947,
          0.030500000000000006,
          0.03300000000000001,
          0.03500000000000001,
          0.037500000000000006,
          0.04000000000000001,
          0.04200000000000001,
          0.04450000000000001,
          0.047000000000000014,
          0.049000000000000016,
          0.05150000000000001,
          0.05400000000000001,
          0.056000000000000015,
          0.057469463130731195,
          0.05893892626146238,
          0.06040838939219356,
          0.06187785252292475,
          0.06334731565365594,
          0.06481677878438712,
          0.0662862419151183,
          0.06775570504584948,
          0.057469463130731195,
          0.05893892626146238,
          0.06040838939219356,
          0.06187785252292475,
          0.06334731565365594,
          0.06481677878438712,
          0.0662862419151183,
          0.06775570504584948,
          0.05850000000000002,
          0.06100000000000001,
          0.063,
          0.0655,
          0.068,
          0.07,
          0.0725,
          0.075,
          0.077,
          0.07949999999999999,
          0.08199999999999999,
          0.08399999999999999,
          0.08546946313073116,
          0.08693892626146235,
          0.08840838939219353,
          0.08987785252292473,
          0.09134731565365589,
          0.09281677878438709,
          0.09428624191511827,
          0.09575570504584946,
          0.08546946313073116,
          0.08693892626146235,
          0.08840838939219353,
          0.08987785252292473,
          0.09134731565365589,
          0.09281677878438709,
          0.09428624191511827,
          0.09575570504584946,
          0.08649999999999998,
          0.08899999999999998,
          0.09099999999999998,
          0.09349999999999997,
          0.09599999999999997,
          0.09799999999999998,
          0.10049999999999998,
          0.10299999999999997,
          0.10499999999999997,
          0.10749999999999997,
          0.10999999999999996,
          0.11199999999999996,
          0.11346946313073113,
          0.11493892626146232,
          0.1164083893921935,
          0.1178778525229247,
          0.11934731565365586,
          0.12081677878438705,
          0.12228624191511824,
          0.12375570504584943,
          0.11346946313073113,
          0.11493892626146232,
          0.1164083893921935,
          0.1178778525229247,
          0.11934731565365586,
          0.12081677878438705,
          0.12228624191511824,
          0.12375570504584943,
          0.11449999999999996,
          0.11699999999999995,
          0.11899999999999995,
          0.12149999999999996,
          0.12399999999999994,
          0.12599999999999995,
          0.12849999999999995,
          0.13099999999999995,
          0.13299999999999992,
          0.13549999999999993,
          0.13799999999999993,
          0.13999999999999993,
          0.1414694631307311,
          0.1429389262614623,
          0.14440838939219347,
          0.14587785252292465,
          0.14734731565365583,
          0.14881677878438704,
          0.1502862419151182,
          0.1517557050458494,
          0.1414694631307311,
          0.1429389262614623,
          0.14440838939219347,
          0.14587785252292465,
          0.14734731565365583,
          0.14881677878438704,
          0.1502862419151182,
          0.1517557050458494,
          0.14249999999999993,
          0.14499999999999993,
          0.1469999999999999,
          0.1494999999999999,
          0.1519999999999999,
          0.15399999999999991,
          0.15649999999999992,
          0.15899999999999992,
          0.16099999999999992,
          0.1634999999999999,
          0.1659999999999999,
          0.1679999999999999,
          0.16946946313073108,
          0.17093892626146226,
          0.17240838939219344,
          0.17387785252292465,
          0.17534731565365583,
          0.17681677878438698,
          0.1782862419151182,
          0.17975570504584937,
          0.16946946313073108,
          0.17093892626146226,
          0.17240838939219344,
          0.17387785252292465,
          0.17534731565365583,
          0.17681677878438698,
          0.1782862419151182,
          0.17975570504584937,
          0.16999999999999993
         ]
        },
        {
         "marker": {
          "color": [
           2,
           4,
           2,
           2,
           2,
           2,
           2,
           2,
           2,
           2,
           2,
           2,
           2,
           2,
           2,
           2,
           2,
           2,
           2,
           2,
           2,
           2,
           4,
           4,
           4,
           4,
           4,
           4,
           4,
           4,
           4,
           4,
           4,
           4,
           8,
           8,
           8,
           8,
           8,
           8,
           8,
           8,
           8,
           8,
           8,
           8,
           8,
           8,
           8,
           8,
           4,
           4,
           4,
           4,
           4,
           4,
           4,
           4,
           4,
           4,
           4,
           4,
           8,
           8,
           8,
           8,
           8,
           8,
           8,
           8,
           8,
           8,
           8,
           8,
           8,
           8,
           8,
           8,
           4,
           4,
           4,
           4,
           4,
           4,
           4,
           4,
           4,
           4,
           4,
           4,
           8,
           8,
           8,
           8,
           8,
           8,
           8,
           8,
           8,
           8,
           8,
           8,
           8,
           8,
           8,
           8,
           4,
           4,
           4,
           4,
           4,
           4,
           4,
           4,
           4,
           4,
           4,
           4,
           8,
           8,
           8,
           8,
           8,
           8,
           8,
           8,
           8,
           8,
           8,
           8,
           8,
           8,
           8,
           8,
           4,
           4,
           4,
           4,
           4,
           4,
           4,
           4,
           4,
           4,
           4,
           4,
           8,
           8,
           8,
           8,
           8,
           8,
           8,
           8,
           8,
           8,
           8,
           8,
           8,
           8,
           8,
           8,
           4,
           4,
           4,
           4,
           4,
           4,
           4,
           4,
           4,
           4,
           4,
           4,
           8,
           8,
           8,
           8,
           8,
           8,
           8,
           8,
           8,
           8,
           8,
           8,
           8,
           8,
           8,
           8,
           4,
           4,
           4,
           4,
           4,
           4,
           4,
           4,
           4,
           4,
           4,
           4,
           8,
           8,
           8,
           8,
           8,
           8,
           8,
           8,
           8,
           8,
           8,
           8,
           8,
           8,
           8,
           8,
           4
          ],
          "colorscale": [
           [
            0,
            "wheat"
           ],
           [
            0.5,
            "darkgreen"
           ],
           [
            1,
            "lightgreen"
           ]
          ],
          "opacity": 0.8,
          "size": 3
         },
         "mode": "markers",
         "name": "270 degree rotation",
         "scene": "scene4",
         "type": "scatter3d",
         "x": [
          0,
          0,
          3.5807559233832316e-05,
          0.00014924926399073103,
          0.00011201690043641646,
          0.00017122699749769544,
          0.0014998720165158553,
          0.0023978751300126845,
          0.0033473231395773494,
          0.004442124847881494,
          0.005625979637799869,
          0.00690946706976058,
          0.008206287754844006,
          0.00883015714238113,
          -0.00012875745957794036,
          -0.0003108100785933281,
          -0.0006106532618313738,
          -0.00047372561190176535,
          -0.0005581718173429957,
          -0.0006473115456764745,
          -0.0007265233901158316,
          -0.0007185588053084752,
          0,
          0,
          0,
          0,
          0,
          0,
          0,
          0,
          0,
          0,
          0,
          0,
          1.336857080021773e-15,
          2.673714160043546e-15,
          4.010571240065319e-15,
          5.347428320087092e-15,
          6.6842854001088656e-15,
          8.021142480130638e-15,
          9.357999560152412e-15,
          1.0694856640174185e-14,
          0.0020225424859373685,
          0.004045084971874737,
          0.006067627457812106,
          0.008090169943749474,
          0.010112712429686843,
          0.012135254915624212,
          0.01415779740156158,
          0.016180339887498948,
          0,
          0,
          0,
          0,
          0,
          0,
          0,
          0,
          0,
          0,
          0,
          0,
          6.671583551765799e-16,
          1.3343167103531598e-15,
          2.00147506552974e-15,
          2.6686334207063195e-15,
          3.3357917758828996e-15,
          4.00295013105948e-15,
          4.670108486236059e-15,
          5.337266841412639e-15,
          -0.0020225424859373685,
          -0.004045084971874737,
          -0.006067627457812106,
          -0.008090169943749474,
          -0.010112712429686843,
          -0.012135254915624212,
          -0.01415779740156158,
          -0.016180339887498948,
          0,
          0,
          0,
          0,
          0,
          0,
          0,
          0,
          0,
          0,
          0,
          0,
          1.007809559766435e-15,
          2.01561911953287e-15,
          3.0234286792993055e-15,
          4.03123823906574e-15,
          5.039047798832176e-15,
          6.046857358598611e-15,
          7.054666918365046e-15,
          8.06247647813148e-15,
          0.0020225424859373685,
          0.004045084971874737,
          0.006067627457812106,
          0.008090169943749474,
          0.010112712429686843,
          0.012135254915624212,
          0.01415779740156158,
          0.016180339887498948,
          0,
          0,
          0,
          0,
          0,
          0,
          0,
          0,
          0,
          0,
          0,
          0,
          -8.432857996387662e-16,
          -1.6865715992775324e-15,
          -2.5298573989162985e-15,
          -3.373143198555065e-15,
          -4.216428998193831e-15,
          -5.059714797832597e-15,
          -5.903000597471363e-15,
          -6.74628639711013e-15,
          -0.0020225424859373685,
          -0.004045084971874737,
          -0.006067627457812106,
          -0.008090169943749474,
          -0.010112712429686843,
          -0.012135254915624212,
          -0.01415779740156158,
          -0.016180339887498948,
          0,
          0,
          0,
          0,
          0,
          0,
          0,
          0,
          0,
          0,
          0,
          0,
          6.787620395110973e-16,
          1.3575240790221946e-15,
          2.036286118533292e-15,
          2.71504815804439e-15,
          3.3938101975554875e-15,
          4.0725722370665854e-15,
          4.751334276577682e-15,
          5.43009631608878e-15,
          0.0020225424859373685,
          0.004045084971874737,
          0.006067627457812106,
          0.008090169943749474,
          0.010112712429686843,
          0.012135254915624212,
          0.01415779740156158,
          0.016180339887498948,
          0,
          0,
          0,
          0,
          0,
          0,
          0,
          0,
          0,
          0,
          0,
          0,
          -5.142382793834283e-16,
          -1.0284765587668565e-15,
          -1.542714838150285e-15,
          -2.0569531175337134e-15,
          -2.5711913969171423e-15,
          -3.0854296763005707e-15,
          -3.599667955684e-15,
          -4.113906235067428e-15,
          -0.0020225424859373685,
          -0.004045084971874737,
          -0.006067627457812106,
          -0.008090169943749474,
          -0.010112712429686843,
          -0.012135254915624212,
          -0.01415779740156158,
          -0.016180339887498948,
          0,
          0,
          0,
          0,
          0,
          0,
          0,
          0,
          0,
          0,
          0,
          0,
          3.497145192557594e-16,
          6.994290385115188e-16,
          1.0491435577672782e-15,
          1.3988580770230375e-15,
          1.7485725962787968e-15,
          2.098287115534556e-15,
          2.4480016347903153e-15,
          2.7977161540460746e-15,
          0.0020225424859373685,
          0.004045084971874737,
          0.006067627457812106,
          0.008090169943749474,
          0.010112712429686843,
          0.012135254915624212,
          0.01415779740156158,
          0.016180339887498948,
          0
         ],
         "y": [
          0,
          0,
          0.00035361107152031814,
          0.0006622541049916891,
          0.0008972241051323329,
          0.0009392118624747824,
          0.0024674256142647013,
          0.004079273354054078,
          0.005494634478488453,
          0.007343017688016287,
          0.009150342049942571,
          0.010940478353784797,
          0.01269726035881106,
          0.013406954975445251,
          0.0009416945870386957,
          0.0007918465365399462,
          0.0003928472385211823,
          3.7352751780807336e-05,
          -5.8573835085666514e-05,
          -0.00011711398544029393,
          -9.031929700185e-05,
          9.83713069244621e-05,
          0,
          0,
          0,
          0,
          0,
          0,
          0,
          0,
          0,
          0,
          0,
          0,
          0.0020225424859373685,
          0.004045084971874737,
          0.006067627457812106,
          0.008090169943749474,
          0.010112712429686843,
          0.012135254915624212,
          0.01415779740156158,
          0.016180339887498948,
          -3.348493624225966e-16,
          -6.696987248451932e-16,
          -1.0045480872677898e-15,
          -1.3393974496903864e-15,
          -1.674246812112983e-15,
          -2.0090961745355796e-15,
          -2.343945536958176e-15,
          -2.6787948993807728e-15,
          0,
          0,
          0,
          0,
          0,
          0,
          0,
          0,
          0,
          0,
          0,
          0,
          -0.0020225424859373685,
          -0.004045084971874737,
          -0.006067627457812106,
          -0.008090169943749474,
          -0.010112712429686843,
          -0.012135254915624212,
          -0.01415779740156158,
          -0.016180339887498948,
          1.7032560229492762e-16,
          3.4065120458985524e-16,
          5.109768068847828e-16,
          6.813024091797105e-16,
          8.516280114746381e-16,
          1.0219536137695656e-15,
          1.1922792160644933e-15,
          1.362604818359421e-15,
          0,
          0,
          0,
          0,
          0,
          0,
          0,
          0,
          0,
          0,
          0,
          0,
          0.0020225424859373685,
          0.004045084971874737,
          0.006067627457812106,
          0.008090169943749474,
          0.010112712429686843,
          0.012135254915624212,
          0.01415779740156158,
          0.016180339887498948,
          -5.801842167258683e-18,
          -1.1603684334517366e-17,
          -1.740552650177605e-17,
          -2.3207368669034738e-17,
          -2.9009210836293425e-17,
          -3.481105300355211e-17,
          -4.061289517081079e-17,
          -4.6414737338069477e-17,
          0,
          0,
          0,
          0,
          0,
          0,
          0,
          0,
          0,
          0,
          0,
          0,
          -0.0020225424859373685,
          -0.004045084971874737,
          -0.006067627457812106,
          -0.008090169943749474,
          -0.010112712429686843,
          -0.012135254915624212,
          -0.01415779740156158,
          -0.016180339887498948,
          -1.5872191796041025e-16,
          -3.174438359208205e-16,
          -4.761657538812307e-16,
          -6.34887671841641e-16,
          -7.936095898020513e-16,
          -9.523315077624617e-16,
          -1.1110534257228719e-15,
          -1.2697753436832822e-15,
          0,
          0,
          0,
          0,
          0,
          0,
          0,
          0,
          0,
          0,
          0,
          0,
          0.0020225424859373685,
          0.004045084971874737,
          0.006067627457812106,
          0.008090169943749474,
          0.010112712429686843,
          0.012135254915624212,
          0.01415779740156158,
          0.016180339887498948,
          3.232456780880792e-16,
          6.464913561761584e-16,
          9.697370342642375e-16,
          1.2929827123523166e-15,
          1.6162283904403957e-15,
          1.9394740685284746e-15,
          2.2627197466165537e-15,
          2.585965424704633e-15,
          0,
          0,
          0,
          0,
          0,
          0,
          0,
          0,
          0,
          0,
          0,
          0,
          -0.0020225424859373685,
          -0.004045084971874737,
          -0.006067627457812106,
          -0.008090169943749474,
          -0.010112712429686843,
          -0.012135254915624212,
          -0.01415779740156158,
          -0.016180339887498948,
          1.3517222368549358e-15,
          2.7034444737098716e-15,
          4.055166710564807e-15,
          5.406888947419743e-15,
          6.758611184274679e-15,
          8.110333421129614e-15,
          9.462055657984551e-15,
          1.0813777894839488e-14,
          0,
          0,
          0,
          0,
          0,
          0,
          0,
          0,
          0,
          0,
          0,
          0,
          0.0020225424859373685,
          0.004045084971874737,
          0.006067627457812106,
          0.008090169943749474,
          0.010112712429686843,
          0.012135254915624212,
          0.01415779740156158,
          0.016180339887498948,
          -1.187198476727267e-15,
          -2.374396953454534e-15,
          -3.561595430181801e-15,
          -4.748793906909069e-15,
          -5.935992383636337e-15,
          -7.123190860363605e-15,
          -8.310389337090873e-15,
          -9.49758781381814e-15,
          0
         ],
         "z": [
          -0.03,
          -0.03,
          -0.03247460643917371,
          -0.03495288617671575,
          -0.037441541004155275,
          -0.039940487020506836,
          -0.0414065242445494,
          -0.043093396282341795,
          -0.04492241278433776,
          -0.04620104045892873,
          -0.04745884270378881,
          -0.048641243661867326,
          -0.0498586068359266,
          -0.05042154075019023,
          -0.04242242238662574,
          -0.04491127802841603,
          -0.04736095017497896,
          -0.04983175459633285,
          -0.05232848584504961,
          -0.054826210241300945,
          -0.0573248113555991,
          -0.05981766763332126,
          -0.0275,
          -0.025,
          -0.0225,
          -0.02,
          -0.0175,
          -0.015,
          -0.0125,
          -0.01,
          -0.0075,
          -0.005,
          -0.0025,
          0,
          0.0014694631307311829,
          0.0029389262614623658,
          0.004408389392193549,
          0.0058778525229247315,
          0.007347315653655915,
          0.008816778784387098,
          0.010286241915118281,
          0.011755705045849465,
          0.0014694631307311829,
          0.0029389262614623658,
          0.004408389392193549,
          0.0058778525229247315,
          0.007347315653655915,
          0.008816778784387098,
          0.010286241915118281,
          0.011755705045849465,
          0.0025,
          0.005,
          0.007000000000000002,
          0.009500000000000001,
          0.012000000000000002,
          0.014000000000000004,
          0.016500000000000004,
          0.019000000000000003,
          0.021000000000000005,
          0.023500000000000007,
          0.026000000000000006,
          0.028000000000000008,
          0.02946946313073119,
          0.030938926261462375,
          0.03240838939219356,
          0.03387785252292474,
          0.035347315653655925,
          0.036816778784387105,
          0.03828624191511829,
          0.03975570504584947,
          0.02946946313073119,
          0.030938926261462375,
          0.03240838939219356,
          0.03387785252292474,
          0.035347315653655925,
          0.036816778784387105,
          0.03828624191511829,
          0.03975570504584947,
          0.030500000000000006,
          0.03300000000000001,
          0.03500000000000001,
          0.037500000000000006,
          0.04000000000000001,
          0.04200000000000001,
          0.04450000000000001,
          0.047000000000000014,
          0.049000000000000016,
          0.05150000000000001,
          0.05400000000000001,
          0.056000000000000015,
          0.057469463130731195,
          0.05893892626146238,
          0.06040838939219356,
          0.06187785252292475,
          0.06334731565365594,
          0.06481677878438712,
          0.0662862419151183,
          0.06775570504584948,
          0.057469463130731195,
          0.05893892626146238,
          0.06040838939219356,
          0.06187785252292475,
          0.06334731565365594,
          0.06481677878438712,
          0.0662862419151183,
          0.06775570504584948,
          0.05850000000000002,
          0.06100000000000001,
          0.063,
          0.0655,
          0.068,
          0.07,
          0.0725,
          0.075,
          0.077,
          0.07949999999999999,
          0.08199999999999999,
          0.08399999999999999,
          0.08546946313073116,
          0.08693892626146235,
          0.08840838939219353,
          0.08987785252292473,
          0.09134731565365589,
          0.09281677878438709,
          0.09428624191511827,
          0.09575570504584946,
          0.08546946313073116,
          0.08693892626146235,
          0.08840838939219353,
          0.08987785252292473,
          0.09134731565365589,
          0.09281677878438709,
          0.09428624191511827,
          0.09575570504584946,
          0.08649999999999998,
          0.08899999999999998,
          0.09099999999999998,
          0.09349999999999997,
          0.09599999999999997,
          0.09799999999999998,
          0.10049999999999998,
          0.10299999999999997,
          0.10499999999999997,
          0.10749999999999997,
          0.10999999999999996,
          0.11199999999999996,
          0.11346946313073113,
          0.11493892626146232,
          0.1164083893921935,
          0.1178778525229247,
          0.11934731565365586,
          0.12081677878438705,
          0.12228624191511824,
          0.12375570504584943,
          0.11346946313073113,
          0.11493892626146232,
          0.1164083893921935,
          0.1178778525229247,
          0.11934731565365586,
          0.12081677878438705,
          0.12228624191511824,
          0.12375570504584943,
          0.11449999999999996,
          0.11699999999999995,
          0.11899999999999995,
          0.12149999999999996,
          0.12399999999999994,
          0.12599999999999995,
          0.12849999999999995,
          0.13099999999999995,
          0.13299999999999992,
          0.13549999999999993,
          0.13799999999999993,
          0.13999999999999993,
          0.1414694631307311,
          0.1429389262614623,
          0.14440838939219347,
          0.14587785252292465,
          0.14734731565365583,
          0.14881677878438704,
          0.1502862419151182,
          0.1517557050458494,
          0.1414694631307311,
          0.1429389262614623,
          0.14440838939219347,
          0.14587785252292465,
          0.14734731565365583,
          0.14881677878438704,
          0.1502862419151182,
          0.1517557050458494,
          0.14249999999999993,
          0.14499999999999993,
          0.1469999999999999,
          0.1494999999999999,
          0.1519999999999999,
          0.15399999999999991,
          0.15649999999999992,
          0.15899999999999992,
          0.16099999999999992,
          0.1634999999999999,
          0.1659999999999999,
          0.1679999999999999,
          0.16946946313073108,
          0.17093892626146226,
          0.17240838939219344,
          0.17387785252292465,
          0.17534731565365583,
          0.17681677878438698,
          0.1782862419151182,
          0.17975570504584937,
          0.16946946313073108,
          0.17093892626146226,
          0.17240838939219344,
          0.17387785252292465,
          0.17534731565365583,
          0.17681677878438698,
          0.1782862419151182,
          0.17975570504584937,
          0.16999999999999993
         ]
        }
       ],
       "layout": {
        "height": 800,
        "scene": {
         "aspectmode": "auto",
         "aspectratio": {
          "x": 1,
          "y": 1,
          "z": 1
         },
         "domain": {
          "x": [
           0,
           0.45
          ],
          "y": [
           0.575,
           1
          ]
         }
        },
        "scene2": {
         "aspectmode": "auto",
         "aspectratio": {
          "x": 1,
          "y": 1,
          "z": 1
         },
         "domain": {
          "x": [
           0.55,
           1
          ],
          "y": [
           0.575,
           1
          ]
         }
        },
        "scene3": {
         "aspectmode": "auto",
         "aspectratio": {
          "x": 1,
          "y": 1,
          "z": 1
         },
         "camera": {
          "center": {
           "x": 0,
           "y": 0,
           "z": 0
          },
          "eye": {
           "x": -0.6505161221744606,
           "y": 1.9144884790978605,
           "z": 0.7739913682933832
          },
          "projection": {
           "type": "perspective"
          },
          "up": {
           "x": 0,
           "y": 0,
           "z": 1
          }
         },
         "domain": {
          "x": [
           0,
           0.45
          ],
          "y": [
           0,
           0.425
          ]
         }
        },
        "scene4": {
         "aspectmode": "auto",
         "aspectratio": {
          "x": 1,
          "y": 1,
          "z": 1
         },
         "camera": {
          "center": {
           "x": 0,
           "y": 0,
           "z": 0
          },
          "eye": {
           "x": 0.08833567246411615,
           "y": 0.8997467361850993,
           "z": 0.171135768073361
          },
          "projection": {
           "type": "perspective"
          },
          "up": {
           "x": 0,
           "y": 0,
           "z": 1
          }
         },
         "domain": {
          "x": [
           0.55,
           1
          ],
          "y": [
           0,
           0.425
          ]
         }
        },
        "template": {
         "data": {
          "bar": [
           {
            "error_x": {
             "color": "#2a3f5f"
            },
            "error_y": {
             "color": "#2a3f5f"
            },
            "marker": {
             "line": {
              "color": "#E5ECF6",
              "width": 0.5
             }
            },
            "type": "bar"
           }
          ],
          "barpolar": [
           {
            "marker": {
             "line": {
              "color": "#E5ECF6",
              "width": 0.5
             }
            },
            "type": "barpolar"
           }
          ],
          "carpet": [
           {
            "aaxis": {
             "endlinecolor": "#2a3f5f",
             "gridcolor": "white",
             "linecolor": "white",
             "minorgridcolor": "white",
             "startlinecolor": "#2a3f5f"
            },
            "baxis": {
             "endlinecolor": "#2a3f5f",
             "gridcolor": "white",
             "linecolor": "white",
             "minorgridcolor": "white",
             "startlinecolor": "#2a3f5f"
            },
            "type": "carpet"
           }
          ],
          "choropleth": [
           {
            "colorbar": {
             "outlinewidth": 0,
             "ticks": ""
            },
            "type": "choropleth"
           }
          ],
          "contour": [
           {
            "colorbar": {
             "outlinewidth": 0,
             "ticks": ""
            },
            "colorscale": [
             [
              0,
              "#0d0887"
             ],
             [
              0.1111111111111111,
              "#46039f"
             ],
             [
              0.2222222222222222,
              "#7201a8"
             ],
             [
              0.3333333333333333,
              "#9c179e"
             ],
             [
              0.4444444444444444,
              "#bd3786"
             ],
             [
              0.5555555555555556,
              "#d8576b"
             ],
             [
              0.6666666666666666,
              "#ed7953"
             ],
             [
              0.7777777777777778,
              "#fb9f3a"
             ],
             [
              0.8888888888888888,
              "#fdca26"
             ],
             [
              1,
              "#f0f921"
             ]
            ],
            "type": "contour"
           }
          ],
          "contourcarpet": [
           {
            "colorbar": {
             "outlinewidth": 0,
             "ticks": ""
            },
            "type": "contourcarpet"
           }
          ],
          "heatmap": [
           {
            "colorbar": {
             "outlinewidth": 0,
             "ticks": ""
            },
            "colorscale": [
             [
              0,
              "#0d0887"
             ],
             [
              0.1111111111111111,
              "#46039f"
             ],
             [
              0.2222222222222222,
              "#7201a8"
             ],
             [
              0.3333333333333333,
              "#9c179e"
             ],
             [
              0.4444444444444444,
              "#bd3786"
             ],
             [
              0.5555555555555556,
              "#d8576b"
             ],
             [
              0.6666666666666666,
              "#ed7953"
             ],
             [
              0.7777777777777778,
              "#fb9f3a"
             ],
             [
              0.8888888888888888,
              "#fdca26"
             ],
             [
              1,
              "#f0f921"
             ]
            ],
            "type": "heatmap"
           }
          ],
          "heatmapgl": [
           {
            "colorbar": {
             "outlinewidth": 0,
             "ticks": ""
            },
            "colorscale": [
             [
              0,
              "#0d0887"
             ],
             [
              0.1111111111111111,
              "#46039f"
             ],
             [
              0.2222222222222222,
              "#7201a8"
             ],
             [
              0.3333333333333333,
              "#9c179e"
             ],
             [
              0.4444444444444444,
              "#bd3786"
             ],
             [
              0.5555555555555556,
              "#d8576b"
             ],
             [
              0.6666666666666666,
              "#ed7953"
             ],
             [
              0.7777777777777778,
              "#fb9f3a"
             ],
             [
              0.8888888888888888,
              "#fdca26"
             ],
             [
              1,
              "#f0f921"
             ]
            ],
            "type": "heatmapgl"
           }
          ],
          "histogram": [
           {
            "marker": {
             "colorbar": {
              "outlinewidth": 0,
              "ticks": ""
             }
            },
            "type": "histogram"
           }
          ],
          "histogram2d": [
           {
            "colorbar": {
             "outlinewidth": 0,
             "ticks": ""
            },
            "colorscale": [
             [
              0,
              "#0d0887"
             ],
             [
              0.1111111111111111,
              "#46039f"
             ],
             [
              0.2222222222222222,
              "#7201a8"
             ],
             [
              0.3333333333333333,
              "#9c179e"
             ],
             [
              0.4444444444444444,
              "#bd3786"
             ],
             [
              0.5555555555555556,
              "#d8576b"
             ],
             [
              0.6666666666666666,
              "#ed7953"
             ],
             [
              0.7777777777777778,
              "#fb9f3a"
             ],
             [
              0.8888888888888888,
              "#fdca26"
             ],
             [
              1,
              "#f0f921"
             ]
            ],
            "type": "histogram2d"
           }
          ],
          "histogram2dcontour": [
           {
            "colorbar": {
             "outlinewidth": 0,
             "ticks": ""
            },
            "colorscale": [
             [
              0,
              "#0d0887"
             ],
             [
              0.1111111111111111,
              "#46039f"
             ],
             [
              0.2222222222222222,
              "#7201a8"
             ],
             [
              0.3333333333333333,
              "#9c179e"
             ],
             [
              0.4444444444444444,
              "#bd3786"
             ],
             [
              0.5555555555555556,
              "#d8576b"
             ],
             [
              0.6666666666666666,
              "#ed7953"
             ],
             [
              0.7777777777777778,
              "#fb9f3a"
             ],
             [
              0.8888888888888888,
              "#fdca26"
             ],
             [
              1,
              "#f0f921"
             ]
            ],
            "type": "histogram2dcontour"
           }
          ],
          "mesh3d": [
           {
            "colorbar": {
             "outlinewidth": 0,
             "ticks": ""
            },
            "type": "mesh3d"
           }
          ],
          "parcoords": [
           {
            "line": {
             "colorbar": {
              "outlinewidth": 0,
              "ticks": ""
             }
            },
            "type": "parcoords"
           }
          ],
          "scatter": [
           {
            "marker": {
             "colorbar": {
              "outlinewidth": 0,
              "ticks": ""
             }
            },
            "type": "scatter"
           }
          ],
          "scatter3d": [
           {
            "line": {
             "colorbar": {
              "outlinewidth": 0,
              "ticks": ""
             }
            },
            "marker": {
             "colorbar": {
              "outlinewidth": 0,
              "ticks": ""
             }
            },
            "type": "scatter3d"
           }
          ],
          "scattercarpet": [
           {
            "marker": {
             "colorbar": {
              "outlinewidth": 0,
              "ticks": ""
             }
            },
            "type": "scattercarpet"
           }
          ],
          "scattergeo": [
           {
            "marker": {
             "colorbar": {
              "outlinewidth": 0,
              "ticks": ""
             }
            },
            "type": "scattergeo"
           }
          ],
          "scattergl": [
           {
            "marker": {
             "colorbar": {
              "outlinewidth": 0,
              "ticks": ""
             }
            },
            "type": "scattergl"
           }
          ],
          "scattermapbox": [
           {
            "marker": {
             "colorbar": {
              "outlinewidth": 0,
              "ticks": ""
             }
            },
            "type": "scattermapbox"
           }
          ],
          "scatterpolar": [
           {
            "marker": {
             "colorbar": {
              "outlinewidth": 0,
              "ticks": ""
             }
            },
            "type": "scatterpolar"
           }
          ],
          "scatterpolargl": [
           {
            "marker": {
             "colorbar": {
              "outlinewidth": 0,
              "ticks": ""
             }
            },
            "type": "scatterpolargl"
           }
          ],
          "scatterternary": [
           {
            "marker": {
             "colorbar": {
              "outlinewidth": 0,
              "ticks": ""
             }
            },
            "type": "scatterternary"
           }
          ],
          "surface": [
           {
            "colorbar": {
             "outlinewidth": 0,
             "ticks": ""
            },
            "colorscale": [
             [
              0,
              "#0d0887"
             ],
             [
              0.1111111111111111,
              "#46039f"
             ],
             [
              0.2222222222222222,
              "#7201a8"
             ],
             [
              0.3333333333333333,
              "#9c179e"
             ],
             [
              0.4444444444444444,
              "#bd3786"
             ],
             [
              0.5555555555555556,
              "#d8576b"
             ],
             [
              0.6666666666666666,
              "#ed7953"
             ],
             [
              0.7777777777777778,
              "#fb9f3a"
             ],
             [
              0.8888888888888888,
              "#fdca26"
             ],
             [
              1,
              "#f0f921"
             ]
            ],
            "type": "surface"
           }
          ],
          "table": [
           {
            "cells": {
             "fill": {
              "color": "#EBF0F8"
             },
             "line": {
              "color": "white"
             }
            },
            "header": {
             "fill": {
              "color": "#C8D4E3"
             },
             "line": {
              "color": "white"
             }
            },
            "type": "table"
           }
          ]
         },
         "layout": {
          "annotationdefaults": {
           "arrowcolor": "#2a3f5f",
           "arrowhead": 0,
           "arrowwidth": 1
          },
          "colorscale": {
           "diverging": [
            [
             0,
             "#8e0152"
            ],
            [
             0.1,
             "#c51b7d"
            ],
            [
             0.2,
             "#de77ae"
            ],
            [
             0.3,
             "#f1b6da"
            ],
            [
             0.4,
             "#fde0ef"
            ],
            [
             0.5,
             "#f7f7f7"
            ],
            [
             0.6,
             "#e6f5d0"
            ],
            [
             0.7,
             "#b8e186"
            ],
            [
             0.8,
             "#7fbc41"
            ],
            [
             0.9,
             "#4d9221"
            ],
            [
             1,
             "#276419"
            ]
           ],
           "sequential": [
            [
             0,
             "#0d0887"
            ],
            [
             0.1111111111111111,
             "#46039f"
            ],
            [
             0.2222222222222222,
             "#7201a8"
            ],
            [
             0.3333333333333333,
             "#9c179e"
            ],
            [
             0.4444444444444444,
             "#bd3786"
            ],
            [
             0.5555555555555556,
             "#d8576b"
            ],
            [
             0.6666666666666666,
             "#ed7953"
            ],
            [
             0.7777777777777778,
             "#fb9f3a"
            ],
            [
             0.8888888888888888,
             "#fdca26"
            ],
            [
             1,
             "#f0f921"
            ]
           ],
           "sequentialminus": [
            [
             0,
             "#0d0887"
            ],
            [
             0.1111111111111111,
             "#46039f"
            ],
            [
             0.2222222222222222,
             "#7201a8"
            ],
            [
             0.3333333333333333,
             "#9c179e"
            ],
            [
             0.4444444444444444,
             "#bd3786"
            ],
            [
             0.5555555555555556,
             "#d8576b"
            ],
            [
             0.6666666666666666,
             "#ed7953"
            ],
            [
             0.7777777777777778,
             "#fb9f3a"
            ],
            [
             0.8888888888888888,
             "#fdca26"
            ],
            [
             1,
             "#f0f921"
            ]
           ]
          },
          "colorway": [
           "#636efa",
           "#EF553B",
           "#00cc96",
           "#ab63fa",
           "#FFA15A",
           "#19d3f3",
           "#FF6692",
           "#B6E880",
           "#FF97FF",
           "#FECB52"
          ],
          "font": {
           "color": "#2a3f5f"
          },
          "geo": {
           "bgcolor": "white",
           "lakecolor": "white",
           "landcolor": "#E5ECF6",
           "showlakes": true,
           "showland": true,
           "subunitcolor": "white"
          },
          "hoverlabel": {
           "align": "left"
          },
          "hovermode": "closest",
          "mapbox": {
           "style": "light"
          },
          "paper_bgcolor": "white",
          "plot_bgcolor": "#E5ECF6",
          "polar": {
           "angularaxis": {
            "gridcolor": "white",
            "linecolor": "white",
            "ticks": ""
           },
           "bgcolor": "#E5ECF6",
           "radialaxis": {
            "gridcolor": "white",
            "linecolor": "white",
            "ticks": ""
           }
          },
          "scene": {
           "xaxis": {
            "backgroundcolor": "#E5ECF6",
            "gridcolor": "white",
            "gridwidth": 2,
            "linecolor": "white",
            "showbackground": true,
            "ticks": "",
            "zerolinecolor": "white"
           },
           "yaxis": {
            "backgroundcolor": "#E5ECF6",
            "gridcolor": "white",
            "gridwidth": 2,
            "linecolor": "white",
            "showbackground": true,
            "ticks": "",
            "zerolinecolor": "white"
           },
           "zaxis": {
            "backgroundcolor": "#E5ECF6",
            "gridcolor": "white",
            "gridwidth": 2,
            "linecolor": "white",
            "showbackground": true,
            "ticks": "",
            "zerolinecolor": "white"
           }
          },
          "shapedefaults": {
           "line": {
            "color": "#2a3f5f"
           }
          },
          "ternary": {
           "aaxis": {
            "gridcolor": "white",
            "linecolor": "white",
            "ticks": ""
           },
           "baxis": {
            "gridcolor": "white",
            "linecolor": "white",
            "ticks": ""
           },
           "bgcolor": "#E5ECF6",
           "caxis": {
            "gridcolor": "white",
            "linecolor": "white",
            "ticks": ""
           }
          },
          "title": {
           "x": 0.05
          },
          "xaxis": {
           "automargin": true,
           "gridcolor": "white",
           "linecolor": "white",
           "ticks": "",
           "zerolinecolor": "white",
           "zerolinewidth": 2
          },
          "yaxis": {
           "automargin": true,
           "gridcolor": "white",
           "linecolor": "white",
           "ticks": "",
           "zerolinecolor": "white",
           "zerolinewidth": 2
          }
         }
        },
        "title": {
         "text": "different RotBeta (function type)"
        },
        "width": 800
       }
      },
      "text/html": [
       "<div>\n",
       "        \n",
       "        \n",
       "            <div id=\"565d02c5-8f19-4fc9-808f-f148d307dcd0\" class=\"plotly-graph-div\" style=\"height:800px; width:800px;\"></div>\n",
       "            <script type=\"text/javascript\">\n",
       "                require([\"plotly\"], function(Plotly) {\n",
       "                    window.PLOTLYENV=window.PLOTLYENV || {};\n",
       "                    \n",
       "                if (document.getElementById(\"565d02c5-8f19-4fc9-808f-f148d307dcd0\")) {\n",
       "                    Plotly.newPlot(\n",
       "                        '565d02c5-8f19-4fc9-808f-f148d307dcd0',\n",
       "                        [{\"marker\": {\"color\": [2.0, 4.0, 2.0, 2.0, 2.0, 2.0, 2.0, 2.0, 2.0, 2.0, 2.0, 2.0, 2.0, 2.0, 2.0, 2.0, 2.0, 2.0, 2.0, 2.0, 2.0, 2.0, 4.0, 4.0, 4.0, 4.0, 4.0, 4.0, 4.0, 4.0, 4.0, 4.0, 4.0, 4.0, 8.0, 8.0, 8.0, 8.0, 8.0, 8.0, 8.0, 8.0, 8.0, 8.0, 8.0, 8.0, 8.0, 8.0, 8.0, 8.0, 4.0, 4.0, 4.0, 4.0, 4.0, 4.0, 4.0, 4.0, 4.0, 4.0, 4.0, 4.0, 8.0, 8.0, 8.0, 8.0, 8.0, 8.0, 8.0, 8.0, 8.0, 8.0, 8.0, 8.0, 8.0, 8.0, 8.0, 8.0, 4.0, 4.0, 4.0, 4.0, 4.0, 4.0, 4.0, 4.0, 4.0, 4.0, 4.0, 4.0, 8.0, 8.0, 8.0, 8.0, 8.0, 8.0, 8.0, 8.0, 8.0, 8.0, 8.0, 8.0, 8.0, 8.0, 8.0, 8.0, 4.0, 4.0, 4.0, 4.0, 4.0, 4.0, 4.0, 4.0, 4.0, 4.0, 4.0, 4.0, 8.0, 8.0, 8.0, 8.0, 8.0, 8.0, 8.0, 8.0, 8.0, 8.0, 8.0, 8.0, 8.0, 8.0, 8.0, 8.0, 4.0, 4.0, 4.0, 4.0, 4.0, 4.0, 4.0, 4.0, 4.0, 4.0, 4.0, 4.0, 8.0, 8.0, 8.0, 8.0, 8.0, 8.0, 8.0, 8.0, 8.0, 8.0, 8.0, 8.0, 8.0, 8.0, 8.0, 8.0, 4.0, 4.0, 4.0, 4.0, 4.0, 4.0, 4.0, 4.0, 4.0, 4.0, 4.0, 4.0, 8.0, 8.0, 8.0, 8.0, 8.0, 8.0, 8.0, 8.0, 8.0, 8.0, 8.0, 8.0, 8.0, 8.0, 8.0, 8.0, 4.0, 4.0, 4.0, 4.0, 4.0, 4.0, 4.0, 4.0, 4.0, 4.0, 4.0, 4.0, 8.0, 8.0, 8.0, 8.0, 8.0, 8.0, 8.0, 8.0, 8.0, 8.0, 8.0, 8.0, 8.0, 8.0, 8.0, 8.0, 4.0], \"colorscale\": [[0, \"wheat\"], [0.5, \"darkgreen\"], [1.0, \"lightgreen\"]], \"opacity\": 0.8, \"size\": 3}, \"mode\": \"markers\", \"name\": \"0 degree rotation\", \"scene\": \"scene\", \"type\": \"scatter3d\", \"x\": [0.0, 0.0, -0.0001956352474333478, -2.9729321105441373e-05, 5.416260298327653e-05, 0.00010150585042700041, 0.00038277476003656093, 0.00023329941672140176, 0.00017186292688527088, 0.000741361191338057, 0.001278588016766013, 0.0012430292667936292, 0.0015087083497498056, 0.0015980425079552619, -5.807126525671693e-05, -0.00030977717166623777, -0.00047887474809481896, -0.0006520040439519284, -0.0005312549786112197, -0.00043008139985942066, -0.00016393337488840046, 0.00013757059806352598, 0.0, 0.0, 0.0, 0.0, 0.0, 0.0, 0.0, 0.0, 0.0, 0.0, 0.0, 0.0, -0.0020225424859373685, -0.004045084971874737, -0.006067627457812106, -0.008090169943749474, -0.010112712429686843, -0.012135254915624212, -0.01415779740156158, -0.016180339887498948, -0.0020225424859373685, -0.004045084971874737, -0.006067627457812106, -0.008090169943749474, -0.010112712429686843, -0.012135254915624212, -0.01415779740156158, -0.016180339887498948, 0.0, 0.0, 0.0, 0.0, 0.0, 0.0, 0.0, 0.0, 0.0, 0.0, 0.0, 0.0, -0.0020225424859373685, -0.004045084971874737, -0.006067627457812106, -0.008090169943749474, -0.010112712429686843, -0.012135254915624212, -0.01415779740156158, -0.016180339887498948, -0.0020225424859373685, -0.004045084971874737, -0.006067627457812106, -0.008090169943749474, -0.010112712429686843, -0.012135254915624212, -0.01415779740156158, -0.016180339887498948, 0.0, 0.0, 0.0, 0.0, 0.0, 0.0, 0.0, 0.0, 0.0, 0.0, 0.0, 0.0, -0.0020225424859373685, -0.004045084971874737, -0.006067627457812106, -0.008090169943749474, -0.010112712429686843, -0.012135254915624212, -0.01415779740156158, -0.016180339887498948, -0.0020225424859373685, -0.004045084971874737, -0.006067627457812106, -0.008090169943749474, -0.010112712429686843, -0.012135254915624212, -0.01415779740156158, -0.016180339887498948, 0.0, 0.0, 0.0, 0.0, 0.0, 0.0, 0.0, 0.0, 0.0, 0.0, 0.0, 0.0, -0.0020225424859373685, -0.004045084971874737, -0.006067627457812106, -0.008090169943749474, -0.010112712429686843, -0.012135254915624212, -0.01415779740156158, -0.016180339887498948, -0.0020225424859373685, -0.004045084971874737, -0.006067627457812106, -0.008090169943749474, -0.010112712429686843, -0.012135254915624212, -0.01415779740156158, -0.016180339887498948, 0.0, 0.0, 0.0, 0.0, 0.0, 0.0, 0.0, 0.0, 0.0, 0.0, 0.0, 0.0, -0.0020225424859373685, -0.004045084971874737, -0.006067627457812106, -0.008090169943749474, -0.010112712429686843, -0.012135254915624212, -0.01415779740156158, -0.016180339887498948, -0.0020225424859373685, -0.004045084971874737, -0.006067627457812106, -0.008090169943749474, -0.010112712429686843, -0.012135254915624212, -0.01415779740156158, -0.016180339887498948, 0.0, 0.0, 0.0, 0.0, 0.0, 0.0, 0.0, 0.0, 0.0, 0.0, 0.0, 0.0, -0.0020225424859373685, -0.004045084971874737, -0.006067627457812106, -0.008090169943749474, -0.010112712429686843, -0.012135254915624212, -0.01415779740156158, -0.016180339887498948, -0.0020225424859373685, -0.004045084971874737, -0.006067627457812106, -0.008090169943749474, -0.010112712429686843, -0.012135254915624212, -0.01415779740156158, -0.016180339887498948, 0.0, 0.0, 0.0, 0.0, 0.0, 0.0, 0.0, 0.0, 0.0, 0.0, 0.0, 0.0, -0.0020225424859373685, -0.004045084971874737, -0.006067627457812106, -0.008090169943749474, -0.010112712429686843, -0.012135254915624212, -0.01415779740156158, -0.016180339887498948, -0.0020225424859373685, -0.004045084971874737, -0.006067627457812106, -0.008090169943749474, -0.010112712429686843, -0.012135254915624212, -0.01415779740156158, -0.016180339887498948, 0.0], \"y\": [0.0, 0.0, -0.00014406625990720062, -7.116499348593281e-05, -4.2465537154462126e-05, 4.814085389473895e-05, 0.0024191779012933804, 0.004558880940938704, 0.00673477396531275, 0.00887959951230413, 0.01097049758083423, 0.013148207162106122, 0.01542425685895355, 0.016502121455711668, 0.00033926435025293493, 0.0006843595860865534, 0.0008961900375088727, 0.0011105193146491452, 0.0013185616972417227, 0.0014207532082209026, 0.0015158096739248442, 0.0016194870233464753, 0.0, 0.0, 0.0, 0.0, 0.0, 0.0, 0.0, 0.0, 0.0, 0.0, 0.0, 0.0, 0.0, 0.0, 0.0, 0.0, 0.0, 0.0, 0.0, 0.0, 0.0, 0.0, 0.0, 0.0, 0.0, 0.0, 0.0, 0.0, 0.0, 0.0, 0.0, 0.0, 0.0, 0.0, 0.0, 0.0, 0.0, 0.0, 0.0, 0.0, 0.0, 0.0, 0.0, 0.0, 0.0, 0.0, 0.0, 0.0, 0.0, 0.0, 0.0, 0.0, 0.0, 0.0, 0.0, 0.0, 0.0, 0.0, 0.0, 0.0, 0.0, 0.0, 0.0, 0.0, 0.0, 0.0, 0.0, 0.0, 0.0, 0.0, 0.0, 0.0, 0.0, 0.0, 0.0, 0.0, 0.0, 0.0, 0.0, 0.0, 0.0, 0.0, 0.0, 0.0, 0.0, 0.0, 0.0, 0.0, 0.0, 0.0, 0.0, 0.0, 0.0, 0.0, 0.0, 0.0, 0.0, 0.0, 0.0, 0.0, 0.0, 0.0, 0.0, 0.0, 0.0, 0.0, 0.0, 0.0, 0.0, 0.0, 0.0, 0.0, 0.0, 0.0, 0.0, 0.0, 0.0, 0.0, 0.0, 0.0, 0.0, 0.0, 0.0, 0.0, 0.0, 0.0, 0.0, 0.0, 0.0, 0.0, 0.0, 0.0, 0.0, 0.0, 0.0, 0.0, 0.0, 0.0, 0.0, 0.0, 0.0, 0.0, 0.0, 0.0, 0.0, 0.0, 0.0, 0.0, 0.0, 0.0, 0.0, 0.0, 0.0, 0.0, 0.0, 0.0, 0.0, 0.0, 0.0, 0.0, 0.0, 0.0, 0.0, 0.0, 0.0, 0.0, 0.0, 0.0, 0.0, 0.0, 0.0, 0.0, 0.0, 0.0, 0.0, 0.0, 0.0, 0.0, 0.0, 0.0, 0.0, 0.0, 0.0, 0.0, 0.0, 0.0, 0.0, 0.0, 0.0, 0.0, 0.0, 0.0, 0.0, 0.0, 0.0, 0.0, 0.0], \"z\": [-0.03, -0.03, -0.03248816634546769, -0.0349815898211259, -0.037480017023643314, -0.039977925968905835, -0.04071891930244547, -0.04200318096732276, -0.043232699208015826, -0.04438395725891423, -0.04564472393243384, -0.0468720448175071, -0.04787155089670837, -0.04807018505144314, -0.04245578436962574, -0.04491902479940184, -0.0474042881394719, -0.04988905959936043, -0.05237746029664866, -0.05487332103035283, -0.05735729556668204, -0.05983688149209602, -0.0275, -0.025, -0.0225, -0.02, -0.0175, -0.015, -0.0125, -0.01, -0.0075, -0.005, -0.0025, 0.0, 0.0014694631307311829, 0.0029389262614623658, 0.004408389392193549, 0.0058778525229247315, 0.007347315653655915, 0.008816778784387098, 0.010286241915118281, 0.011755705045849465, 0.0014694631307311829, 0.0029389262614623658, 0.004408389392193549, 0.0058778525229247315, 0.007347315653655915, 0.008816778784387098, 0.010286241915118281, 0.011755705045849465, 0.0025, 0.005, 0.007000000000000002, 0.009500000000000001, 0.012000000000000002, 0.014000000000000004, 0.016500000000000004, 0.019000000000000003, 0.021000000000000005, 0.023500000000000007, 0.026000000000000006, 0.028000000000000008, 0.02946946313073119, 0.030938926261462375, 0.03240838939219356, 0.03387785252292474, 0.035347315653655925, 0.036816778784387105, 0.03828624191511829, 0.03975570504584947, 0.02946946313073119, 0.030938926261462375, 0.03240838939219356, 0.03387785252292474, 0.035347315653655925, 0.036816778784387105, 0.03828624191511829, 0.03975570504584947, 0.030500000000000006, 0.03300000000000001, 0.03500000000000001, 0.037500000000000006, 0.04000000000000001, 0.04200000000000001, 0.04450000000000001, 0.047000000000000014, 0.049000000000000016, 0.05150000000000001, 0.05400000000000001, 0.056000000000000015, 0.057469463130731195, 0.05893892626146238, 0.06040838939219356, 0.06187785252292475, 0.06334731565365594, 0.06481677878438712, 0.0662862419151183, 0.06775570504584948, 0.057469463130731195, 0.05893892626146238, 0.06040838939219356, 0.06187785252292475, 0.06334731565365594, 0.06481677878438712, 0.0662862419151183, 0.06775570504584948, 0.05850000000000002, 0.06100000000000001, 0.063, 0.0655, 0.068, 0.07, 0.0725, 0.075, 0.077, 0.07949999999999999, 0.08199999999999999, 0.08399999999999999, 0.08546946313073116, 0.08693892626146235, 0.08840838939219353, 0.08987785252292473, 0.09134731565365589, 0.09281677878438709, 0.09428624191511827, 0.09575570504584946, 0.08546946313073116, 0.08693892626146235, 0.08840838939219353, 0.08987785252292473, 0.09134731565365589, 0.09281677878438709, 0.09428624191511827, 0.09575570504584946, 0.08649999999999998, 0.08899999999999998, 0.09099999999999998, 0.09349999999999997, 0.09599999999999997, 0.09799999999999998, 0.10049999999999998, 0.10299999999999997, 0.10499999999999997, 0.10749999999999997, 0.10999999999999996, 0.11199999999999996, 0.11346946313073113, 0.11493892626146232, 0.1164083893921935, 0.1178778525229247, 0.11934731565365586, 0.12081677878438705, 0.12228624191511824, 0.12375570504584943, 0.11346946313073113, 0.11493892626146232, 0.1164083893921935, 0.1178778525229247, 0.11934731565365586, 0.12081677878438705, 0.12228624191511824, 0.12375570504584943, 0.11449999999999996, 0.11699999999999995, 0.11899999999999995, 0.12149999999999996, 0.12399999999999994, 0.12599999999999995, 0.12849999999999995, 0.13099999999999995, 0.13299999999999992, 0.13549999999999993, 0.13799999999999993, 0.13999999999999993, 0.1414694631307311, 0.1429389262614623, 0.14440838939219347, 0.14587785252292465, 0.14734731565365583, 0.14881677878438704, 0.1502862419151182, 0.1517557050458494, 0.1414694631307311, 0.1429389262614623, 0.14440838939219347, 0.14587785252292465, 0.14734731565365583, 0.14881677878438704, 0.1502862419151182, 0.1517557050458494, 0.14249999999999993, 0.14499999999999993, 0.1469999999999999, 0.1494999999999999, 0.1519999999999999, 0.15399999999999991, 0.15649999999999992, 0.15899999999999992, 0.16099999999999992, 0.1634999999999999, 0.1659999999999999, 0.1679999999999999, 0.16946946313073108, 0.17093892626146226, 0.17240838939219344, 0.17387785252292465, 0.17534731565365583, 0.17681677878438698, 0.1782862419151182, 0.17975570504584937, 0.16946946313073108, 0.17093892626146226, 0.17240838939219344, 0.17387785252292465, 0.17534731565365583, 0.17681677878438698, 0.1782862419151182, 0.17975570504584937, 0.16999999999999993]}, {\"marker\": {\"color\": [2.0, 4.0, 2.0, 2.0, 2.0, 2.0, 2.0, 2.0, 2.0, 2.0, 2.0, 2.0, 2.0, 2.0, 2.0, 2.0, 2.0, 2.0, 2.0, 2.0, 2.0, 2.0, 4.0, 4.0, 4.0, 4.0, 4.0, 4.0, 4.0, 4.0, 4.0, 4.0, 4.0, 4.0, 8.0, 8.0, 8.0, 8.0, 8.0, 8.0, 8.0, 8.0, 8.0, 8.0, 8.0, 8.0, 8.0, 8.0, 8.0, 8.0, 4.0, 4.0, 4.0, 4.0, 4.0, 4.0, 4.0, 4.0, 4.0, 4.0, 4.0, 4.0, 8.0, 8.0, 8.0, 8.0, 8.0, 8.0, 8.0, 8.0, 8.0, 8.0, 8.0, 8.0, 8.0, 8.0, 8.0, 8.0, 4.0, 4.0, 4.0, 4.0, 4.0, 4.0, 4.0, 4.0, 4.0, 4.0, 4.0, 4.0, 8.0, 8.0, 8.0, 8.0, 8.0, 8.0, 8.0, 8.0, 8.0, 8.0, 8.0, 8.0, 8.0, 8.0, 8.0, 8.0, 4.0, 4.0, 4.0, 4.0, 4.0, 4.0, 4.0, 4.0, 4.0, 4.0, 4.0, 4.0, 8.0, 8.0, 8.0, 8.0, 8.0, 8.0, 8.0, 8.0, 8.0, 8.0, 8.0, 8.0, 8.0, 8.0, 8.0, 8.0, 4.0, 4.0, 4.0, 4.0, 4.0, 4.0, 4.0, 4.0, 4.0, 4.0, 4.0, 4.0, 8.0, 8.0, 8.0, 8.0, 8.0, 8.0, 8.0, 8.0, 8.0, 8.0, 8.0, 8.0, 8.0, 8.0, 8.0, 8.0, 4.0, 4.0, 4.0, 4.0, 4.0, 4.0, 4.0, 4.0, 4.0, 4.0, 4.0, 4.0, 8.0, 8.0, 8.0, 8.0, 8.0, 8.0, 8.0, 8.0, 8.0, 8.0, 8.0, 8.0, 8.0, 8.0, 8.0, 8.0, 4.0, 4.0, 4.0, 4.0, 4.0, 4.0, 4.0, 4.0, 4.0, 4.0, 4.0, 4.0, 8.0, 8.0, 8.0, 8.0, 8.0, 8.0, 8.0, 8.0, 8.0, 8.0, 8.0, 8.0, 8.0, 8.0, 8.0, 8.0, 4.0], \"colorscale\": [[0, \"wheat\"], [0.5, \"darkgreen\"], [1.0, \"lightgreen\"]], \"opacity\": 0.8, \"size\": 3}, \"mode\": \"markers\", \"name\": \"90 degree rotation\", \"scene\": \"scene2\", \"type\": \"scatter3d\", \"x\": [0.0, 0.0, -7.322871868169446e-05, 2.270386530776514e-05, 0.00020047720884166113, 0.0005900326672074507, 0.003042100417045113, 0.005486662658081858, 0.007810697489161866, 0.01011464251115055, 0.01251355491444197, 0.014912241565038245, 0.01738578941873984, 0.01847110166473821, 0.0009749015661331172, 0.0008998025032563738, 0.0007621510484250543, 0.0006510376368433828, 0.0005972692016813527, 0.0006055425695676737, 0.0008044521305294732, 0.0008907457859429438, 0.0, 0.0, 0.0, 0.0, 0.0, 0.0, 0.0, 0.0, 0.0, 0.0, 0.0, 0.0, 1.2931209444076564e-17, 2.586241888815313e-17, 3.8793628332229696e-17, 5.1724837776306264e-17, 6.465604722038284e-17, 7.758725666445939e-17, 9.051846610853595e-17, 1.0344967555261252e-16, 0.0020225424859373685, 0.004045084971874737, 0.006067627457812106, 0.008090169943749474, 0.010112712429686843, 0.012135254915624212, 0.01415779740156158, 0.016180339887498948, 0.0, 0.0, 0.0, 0.0, 0.0, 0.0, 0.0, 0.0, 0.0, 0.0, 0.0, 0.0, 2.388094830251478e-16, 4.776189660502956e-16, 7.164284490754434e-16, 9.552379321005911e-16, 1.194047415125739e-15, 1.4328568981508867e-15, 1.6716663811760345e-15, 1.9104758642011823e-15, -0.0020225424859373685, -0.004045084971874737, -0.006067627457812106, -0.008090169943749474, -0.010112712429686843, -0.012135254915624212, -0.01415779740156158, -0.016180339887498948, 0.0, 0.0, 0.0, 0.0, 0.0, 0.0, 0.0, 0.0, 0.0, 0.0, 0.0, 0.0, -3.067725672670114e-17, -6.135451345340228e-17, -9.203177018010342e-17, -1.2270902690680456e-16, -1.5338628363350572e-16, -1.8406354036020686e-16, -2.1474079708690803e-16, -2.4541805381360917e-16, 0.0020225424859373685, 0.004045084971874737, 0.006067627457812106, 0.008090169943749474, 0.010112712429686843, 0.012135254915624212, 0.01415779740156158, 0.016180339887498948, 0.0, 0.0, 0.0, 0.0, 0.0, 0.0, 0.0, 0.0, 0.0, 0.0, 0.0, 0.0, 2.8241794919592545e-16, 5.648358983918509e-16, 8.472538475877765e-16, 1.129671796783702e-15, 1.4120897459796277e-15, 1.6945076951755531e-15, 1.9769256443714786e-15, 2.2593435935674044e-15, -0.0020225424859373685, -0.004045084971874737, -0.006067627457812106, -0.008090169943749474, -0.010112712429686843, -0.012135254915624212, -0.01415779740156158, -0.016180339887498948, 0.0, 0.0, 0.0, 0.0, 0.0, 0.0, 0.0, 0.0, 0.0, 0.0, 0.0, 0.0, -7.428572289747885e-17, -1.485714457949577e-16, -2.2285716869243653e-16, -2.9714289158991544e-16, -3.7142861448739434e-16, -4.457143373848733e-16, -5.200000602823521e-16, -5.94285783179831e-16, 0.0020225424859373685, 0.004045084971874737, 0.006067627457812106, 0.008090169943749474, 0.010112712429686843, 0.012135254915624212, 0.01415779740156158, 0.016180339887498948, 0.0, 0.0, 0.0, 0.0, 0.0, 0.0, 0.0, 0.0, 0.0, 0.0, 0.0, 0.0, 3.2602641536670312e-16, 6.5205283073340625e-16, 9.780792461001096e-16, 1.3041056614668129e-15, 1.6301320768335162e-15, 1.9561584922002195e-15, 2.2821849075669233e-15, 2.6082113229336266e-15, -0.0020225424859373685, -0.004045084971874737, -0.006067627457812106, -0.008090169943749474, -0.010112712429686843, -0.012135254915624212, -0.01415779740156158, -0.016180339887498948, 0.0, 0.0, 0.0, 0.0, 0.0, 0.0, 0.0, 0.0, 0.0, 0.0, 0.0, 0.0, -1.1789418906825653e-16, -2.3578837813651306e-16, -3.536825672047696e-16, -4.715767562730261e-16, -5.894709453412827e-16, -7.073651344095394e-16, -8.252593234777959e-16, -9.431535125460526e-16, 0.0020225424859373685, 0.004045084971874737, 0.006067627457812106, 0.008090169943749474, 0.010112712429686843, 0.012135254915624212, 0.01415779740156158, 0.016180339887498948, 0.0], \"y\": [0.0, 0.0, 5.766989927544141e-06, -0.00012424239164944578, -5.8188076078438856e-05, -0.00021937296101160679, -8.221429528165774e-05, 7.411714927647067e-05, 0.0006849115716700263, 0.0010745137199204141, 0.0014563604047034757, 0.0016918180574853792, 0.0018446458679401976, 0.001675587216903148, -0.00039650151538021366, -0.0008560688349763414, -0.001361601252247348, -0.0019918792986960104, -0.0026787046657234816, -0.0032243828621536723, -0.0036754292926724857, -0.004459717147367113, 0.0, 0.0, 0.0, 0.0, 0.0, 0.0, 0.0, 0.0, 0.0, 0.0, 0.0, 0.0, -0.0020225424859373685, -0.004045084971874737, -0.006067627457812106, -0.008090169943749474, -0.010112712429686843, -0.012135254915624212, -0.01415779740156158, -0.016180339887498948, -1.1293913679053563e-16, -2.2587827358107125e-16, -3.3881741037160686e-16, -4.517565471621425e-16, -5.646956839526782e-16, -6.776348207432138e-16, -7.905739575337496e-16, -9.035130943242852e-16, 0.0, 0.0, 0.0, 0.0, 0.0, 0.0, 0.0, 0.0, 0.0, 0.0, 0.0, 0.0, 0.0020225424859373685, 0.004045084971874737, 0.006067627457812106, 0.008090169943749474, 0.010112712429686843, 0.012135254915624212, 0.01415779740156158, 0.016180339887498948, -9.519308950791103e-17, -1.9038617901582206e-16, -2.855792685237331e-16, -3.8077235803164417e-16, -4.759654475395552e-16, -5.711585370474664e-16, -6.663516265553774e-16, -7.615447160632884e-16, 0.0, 0.0, 0.0, 0.0, 0.0, 0.0, 0.0, 0.0, 0.0, 0.0, 0.0, 0.0, -0.0020225424859373685, -0.004045084971874737, -0.006067627457812106, -0.008090169943749474, -0.010112712429686843, -0.012135254915624212, -0.01415779740156158, -0.016180339887498948, -1.5654760296131332e-16, -3.1309520592262664e-16, -4.6964280888394e-16, -6.261904118452533e-16, -7.827380148065665e-16, -9.3928561776788e-16, -1.0958332207291932e-15, -1.2523808236905066e-15, 0.0, 0.0, 0.0, 0.0, 0.0, 0.0, 0.0, 0.0, 0.0, 0.0, 0.0, 0.0, 0.0020225424859373685, 0.004045084971874737, 0.006067627457812106, 0.008090169943749474, 0.010112712429686843, 0.012135254915624212, 0.01415779740156158, 0.016180339887498948, -5.158462333713334e-17, -1.0316924667426668e-16, -1.5475387001140002e-16, -2.063384933485334e-16, -2.5792311668566677e-16, -3.0950774002280014e-16, -3.610923633599335e-16, -4.1267698669706683e-16, 0.0, 0.0, 0.0, 0.0, 0.0, 0.0, 0.0, 0.0, 0.0, 0.0, 0.0, 0.0, -0.0020225424859373685, -0.004045084971874737, -0.006067627457812106, -0.008090169943749474, -0.010112712429686843, -0.012135254915624212, -0.01415779740156158, -0.016180339887498948, -2.0015606913209102e-16, -4.0031213826418203e-16, -6.00468207396273e-16, -8.00624276528364e-16, -1.0007803456604549e-15, -1.200936414792546e-15, -1.401092483924637e-15, -1.6012485530567281e-15, 0.0, 0.0, 0.0, 0.0, 0.0, 0.0, 0.0, 0.0, 0.0, 0.0, 0.0, 0.0, 0.0020225424859373685, 0.004045084971874737, 0.006067627457812106, 0.008090169943749474, 0.010112712429686843, 0.012135254915624212, 0.01415779740156158, 0.016180339887498948, -7.976157166355633e-18, -1.5952314332711267e-17, -2.39284714990669e-17, -3.1904628665422534e-17, -3.988078583177817e-17, -4.78569429981338e-17, -5.583310016448943e-17, -6.380925733084507e-17, 0.0, 0.0, 0.0, 0.0, 0.0, 0.0, 0.0, 0.0, 0.0, 0.0, 0.0, 0.0, -0.0020225424859373685, -0.004045084971874737, -0.006067627457812106, -0.008090169943749474, -0.010112712429686843, -0.012135254915624212, -0.01415779740156158, -0.016180339887498948, -2.437645353028687e-16, -4.875290706057374e-16, -7.312936059086062e-16, -9.750581412114748e-16, -1.2188226765143436e-15, -1.4625872118172122e-15, -1.7063517471200807e-15, -1.9501162824229493e-15, 0.0], \"z\": [-0.03, -0.03, -0.03249892062630797, -0.034993694062921216, -0.037486490377448986, -0.03995068719948381, -0.040418181852524084, -0.04091785767657381, -0.0416076346532118, -0.04249648081635379, -0.04308759196550832, -0.0437515663972432, -0.04342262160582705, -0.04348154411047915, -0.04241452595351522, -0.044870774721354964, -0.04731525606758589, -0.04973194872366186, -0.05213515072736188, -0.05457485703290861, -0.057025773617387615, -0.05939799746138166, -0.0275, -0.025, -0.0225, -0.02, -0.0175, -0.015, -0.0125, -0.01, -0.0075, -0.005, -0.0025, 0.0, 0.0014694631307311829, 0.0029389262614623658, 0.004408389392193549, 0.0058778525229247315, 0.007347315653655915, 0.008816778784387098, 0.010286241915118281, 0.011755705045849465, 0.0014694631307311829, 0.0029389262614623658, 0.004408389392193549, 0.0058778525229247315, 0.007347315653655915, 0.008816778784387098, 0.010286241915118281, 0.011755705045849465, 0.0025, 0.005, 0.007000000000000002, 0.009500000000000001, 0.012000000000000002, 0.014000000000000004, 0.016500000000000004, 0.019000000000000003, 0.021000000000000005, 0.023500000000000007, 0.026000000000000006, 0.028000000000000008, 0.02946946313073119, 0.030938926261462375, 0.03240838939219356, 0.03387785252292474, 0.035347315653655925, 0.036816778784387105, 0.03828624191511829, 0.03975570504584947, 0.02946946313073119, 0.030938926261462375, 0.03240838939219356, 0.03387785252292474, 0.035347315653655925, 0.036816778784387105, 0.03828624191511829, 0.03975570504584947, 0.030500000000000006, 0.03300000000000001, 0.03500000000000001, 0.037500000000000006, 0.04000000000000001, 0.04200000000000001, 0.04450000000000001, 0.047000000000000014, 0.049000000000000016, 0.05150000000000001, 0.05400000000000001, 0.056000000000000015, 0.057469463130731195, 0.05893892626146238, 0.06040838939219356, 0.06187785252292475, 0.06334731565365594, 0.06481677878438712, 0.0662862419151183, 0.06775570504584948, 0.057469463130731195, 0.05893892626146238, 0.06040838939219356, 0.06187785252292475, 0.06334731565365594, 0.06481677878438712, 0.0662862419151183, 0.06775570504584948, 0.05850000000000002, 0.06100000000000001, 0.063, 0.0655, 0.068, 0.07, 0.0725, 0.075, 0.077, 0.07949999999999999, 0.08199999999999999, 0.08399999999999999, 0.08546946313073116, 0.08693892626146235, 0.08840838939219353, 0.08987785252292473, 0.09134731565365589, 0.09281677878438709, 0.09428624191511827, 0.09575570504584946, 0.08546946313073116, 0.08693892626146235, 0.08840838939219353, 0.08987785252292473, 0.09134731565365589, 0.09281677878438709, 0.09428624191511827, 0.09575570504584946, 0.08649999999999998, 0.08899999999999998, 0.09099999999999998, 0.09349999999999997, 0.09599999999999997, 0.09799999999999998, 0.10049999999999998, 0.10299999999999997, 0.10499999999999997, 0.10749999999999997, 0.10999999999999996, 0.11199999999999996, 0.11346946313073113, 0.11493892626146232, 0.1164083893921935, 0.1178778525229247, 0.11934731565365586, 0.12081677878438705, 0.12228624191511824, 0.12375570504584943, 0.11346946313073113, 0.11493892626146232, 0.1164083893921935, 0.1178778525229247, 0.11934731565365586, 0.12081677878438705, 0.12228624191511824, 0.12375570504584943, 0.11449999999999996, 0.11699999999999995, 0.11899999999999995, 0.12149999999999996, 0.12399999999999994, 0.12599999999999995, 0.12849999999999995, 0.13099999999999995, 0.13299999999999992, 0.13549999999999993, 0.13799999999999993, 0.13999999999999993, 0.1414694631307311, 0.1429389262614623, 0.14440838939219347, 0.14587785252292465, 0.14734731565365583, 0.14881677878438704, 0.1502862419151182, 0.1517557050458494, 0.1414694631307311, 0.1429389262614623, 0.14440838939219347, 0.14587785252292465, 0.14734731565365583, 0.14881677878438704, 0.1502862419151182, 0.1517557050458494, 0.14249999999999993, 0.14499999999999993, 0.1469999999999999, 0.1494999999999999, 0.1519999999999999, 0.15399999999999991, 0.15649999999999992, 0.15899999999999992, 0.16099999999999992, 0.1634999999999999, 0.1659999999999999, 0.1679999999999999, 0.16946946313073108, 0.17093892626146226, 0.17240838939219344, 0.17387785252292465, 0.17534731565365583, 0.17681677878438698, 0.1782862419151182, 0.17975570504584937, 0.16946946313073108, 0.17093892626146226, 0.17240838939219344, 0.17387785252292465, 0.17534731565365583, 0.17681677878438698, 0.1782862419151182, 0.17975570504584937, 0.16999999999999993]}, {\"marker\": {\"color\": [2.0, 4.0, 2.0, 2.0, 2.0, 2.0, 2.0, 2.0, 2.0, 2.0, 2.0, 2.0, 2.0, 2.0, 2.0, 2.0, 2.0, 2.0, 2.0, 2.0, 2.0, 2.0, 4.0, 4.0, 4.0, 4.0, 4.0, 4.0, 4.0, 4.0, 4.0, 4.0, 4.0, 4.0, 8.0, 8.0, 8.0, 8.0, 8.0, 8.0, 8.0, 8.0, 8.0, 8.0, 8.0, 8.0, 8.0, 8.0, 8.0, 8.0, 4.0, 4.0, 4.0, 4.0, 4.0, 4.0, 4.0, 4.0, 4.0, 4.0, 4.0, 4.0, 8.0, 8.0, 8.0, 8.0, 8.0, 8.0, 8.0, 8.0, 8.0, 8.0, 8.0, 8.0, 8.0, 8.0, 8.0, 8.0, 4.0, 4.0, 4.0, 4.0, 4.0, 4.0, 4.0, 4.0, 4.0, 4.0, 4.0, 4.0, 8.0, 8.0, 8.0, 8.0, 8.0, 8.0, 8.0, 8.0, 8.0, 8.0, 8.0, 8.0, 8.0, 8.0, 8.0, 8.0, 4.0, 4.0, 4.0, 4.0, 4.0, 4.0, 4.0, 4.0, 4.0, 4.0, 4.0, 4.0, 8.0, 8.0, 8.0, 8.0, 8.0, 8.0, 8.0, 8.0, 8.0, 8.0, 8.0, 8.0, 8.0, 8.0, 8.0, 8.0, 4.0, 4.0, 4.0, 4.0, 4.0, 4.0, 4.0, 4.0, 4.0, 4.0, 4.0, 4.0, 8.0, 8.0, 8.0, 8.0, 8.0, 8.0, 8.0, 8.0, 8.0, 8.0, 8.0, 8.0, 8.0, 8.0, 8.0, 8.0, 4.0, 4.0, 4.0, 4.0, 4.0, 4.0, 4.0, 4.0, 4.0, 4.0, 4.0, 4.0, 8.0, 8.0, 8.0, 8.0, 8.0, 8.0, 8.0, 8.0, 8.0, 8.0, 8.0, 8.0, 8.0, 8.0, 8.0, 8.0, 4.0, 4.0, 4.0, 4.0, 4.0, 4.0, 4.0, 4.0, 4.0, 4.0, 4.0, 4.0, 8.0, 8.0, 8.0, 8.0, 8.0, 8.0, 8.0, 8.0, 8.0, 8.0, 8.0, 8.0, 8.0, 8.0, 8.0, 8.0, 4.0], \"colorscale\": [[0, \"wheat\"], [0.5, \"darkgreen\"], [1.0, \"lightgreen\"]], \"opacity\": 0.8, \"size\": 3}, \"mode\": \"markers\", \"name\": \"180 degree rotation\", \"scene\": \"scene3\", \"type\": \"scatter3d\", \"x\": [0.0, 0.0, 0.0002096599565994246, 0.0002078533559522658, 0.00020647625436651682, 0.00014586195399126734, 0.0005748764574267682, 0.0008905886466381876, 0.001036691801314027, 0.0016194487290348916, 0.0026457569926402968, 0.00376266282664816, 0.0042119837408645475, 0.004413115755244807, -6.095214649357656e-05, -0.00016785645637629014, -0.000447119940054702, -0.000339077018223726, 0.0001711522841432131, 0.0005264561461486806, 0.0009191800481000829, 0.0009222757122635823, 0.0, 0.0, 0.0, 0.0, 0.0, 0.0, 0.0, 0.0, 0.0, 0.0, 0.0, 0.0, 0.0020225424859373685, 0.004045084971874737, 0.006067627457812106, 0.008090169943749474, 0.010112712429686843, 0.012135254915624212, 0.01415779740156158, 0.016180339887498948, -0.0020225424859373685, -0.004045084971874737, -0.006067627457812106, -0.008090169943749474, -0.010112712429686843, -0.012135254915624212, -0.01415779740156158, -0.016180339887498948, 0.0, 0.0, 0.0, 0.0, 0.0, 0.0, 0.0, 0.0, 0.0, 0.0, 0.0, 0.0, 0.0020225424859373685, 0.004045084971874737, 0.006067627457812106, 0.008090169943749474, 0.010112712429686843, 0.012135254915624212, 0.01415779740156158, 0.016180339887498948, -0.0020225424859373685, -0.004045084971874737, -0.006067627457812106, -0.008090169943749474, -0.010112712429686843, -0.012135254915624212, -0.01415779740156158, -0.016180339887498948, 0.0, 0.0, 0.0, 0.0, 0.0, 0.0, 0.0, 0.0, 0.0, 0.0, 0.0, 0.0, 0.0020225424859373685, 0.004045084971874737, 0.006067627457812106, 0.008090169943749474, 0.010112712429686843, 0.012135254915624212, 0.01415779740156158, 0.016180339887498948, -0.0020225424859373685, -0.004045084971874737, -0.006067627457812106, -0.008090169943749474, -0.010112712429686843, -0.012135254915624212, -0.01415779740156158, -0.016180339887498948, 0.0, 0.0, 0.0, 0.0, 0.0, 0.0, 0.0, 0.0, 0.0, 0.0, 0.0, 0.0, 0.0020225424859373685, 0.004045084971874737, 0.006067627457812106, 0.008090169943749474, 0.010112712429686843, 0.012135254915624212, 0.01415779740156158, 0.016180339887498948, -0.0020225424859373685, -0.004045084971874737, -0.006067627457812106, -0.008090169943749474, -0.010112712429686843, -0.012135254915624212, -0.01415779740156158, -0.016180339887498948, 0.0, 0.0, 0.0, 0.0, 0.0, 0.0, 0.0, 0.0, 0.0, 0.0, 0.0, 0.0, 0.0020225424859373685, 0.004045084971874737, 0.006067627457812106, 0.008090169943749474, 0.010112712429686843, 0.012135254915624212, 0.01415779740156158, 0.016180339887498948, -0.0020225424859373685, -0.004045084971874737, -0.006067627457812106, -0.008090169943749474, -0.010112712429686843, -0.012135254915624212, -0.01415779740156158, -0.016180339887498948, 0.0, 0.0, 0.0, 0.0, 0.0, 0.0, 0.0, 0.0, 0.0, 0.0, 0.0, 0.0, 0.0020225424859373685, 0.004045084971874737, 0.006067627457812106, 0.008090169943749474, 0.010112712429686843, 0.012135254915624212, 0.01415779740156158, 0.016180339887498948, -0.0020225424859373685, -0.004045084971874737, -0.006067627457812106, -0.008090169943749474, -0.010112712429686843, -0.012135254915624212, -0.01415779740156158, -0.016180339887498948, 0.0, 0.0, 0.0, 0.0, 0.0, 0.0, 0.0, 0.0, 0.0, 0.0, 0.0, 0.0, 0.0020225424859373685, 0.004045084971874737, 0.006067627457812106, 0.008090169943749474, 0.010112712429686843, 0.012135254915624212, 0.01415779740156158, 0.016180339887498948, -0.0020225424859373685, -0.004045084971874737, -0.006067627457812106, -0.008090169943749474, -0.010112712429686843, -0.012135254915624212, -0.01415779740156158, -0.016180339887498948, 0.0], \"y\": [0.0, 0.0, 1.6527651580910378e-05, 0.00021349324728233164, 0.00040482867727520866, 0.0006707792296131548, -0.001394370005351002, -0.003438708807266202, -0.0054141331593369445, -0.007237686279522803, -0.009211045369195522, -0.011151040367042057, -0.013411338597817242, -0.01440911222342298, 0.0009259435978338981, 0.001165244721742926, 0.000990179197800631, 0.0009736355839796814, 0.001109644219375499, 0.0011030308967981343, 0.0010796860307894936, 0.0009181121708063012, 0.0, 0.0, 0.0, 0.0, 0.0, 0.0, 0.0, 0.0, 0.0, 0.0, 0.0, 0.0, 1.804760744603802e-16, 3.609521489207604e-16, 5.414282233811406e-16, 7.219042978415208e-16, 9.02380372301901e-16, 1.0828564467622814e-15, 1.2633325212226617e-15, 1.4438085956830419e-15, 7.126461800884414e-17, 1.425292360176883e-16, 2.1379385402653242e-16, 2.850584720353766e-16, 3.5632309004422066e-16, 4.275877080530648e-16, 4.988523260619089e-16, 5.70116944070753e-16, 0.0, 0.0, 0.0, 0.0, 0.0, 0.0, 0.0, 0.0, 0.0, 0.0, 0.0, 0.0, -3.230053104780685e-16, -6.46010620956137e-16, -9.690159314342054e-16, -1.292021241912274e-15, -1.6150265523903424e-15, -1.9380318628684108e-15, -2.2610371733464796e-15, -2.584042483824548e-15, 5.747460029472929e-16, 1.1494920058945857e-15, 1.7242380088418788e-15, 2.298984011789172e-15, 2.873730014736465e-15, 3.4484760176837583e-15, 4.023222020631052e-15, 4.597968023578345e-15, 0.0, 0.0, 0.0, 0.0, 0.0, 0.0, 0.0, 0.0, 0.0, 0.0, 0.0, 0.0, 9.325914211882481e-17, 1.8651828423764961e-16, 2.7977742635647443e-16, 3.7303656847529933e-16, 4.662957105941242e-16, 5.595548527129491e-16, 6.528139948317739e-16, 7.460731369505987e-16, 1.5848155035039957e-16, 3.1696310070079914e-16, 4.754446510511987e-16, 6.339262014015984e-16, 7.92407751751998e-16, 9.508893021023976e-16, 1.1093708524527973e-15, 1.267852402803197e-15, 0.0, 0.0, 0.0, 0.0, 0.0, 0.0, 0.0, 0.0, 0.0, 0.0, 0.0, 0.0, -4.1022224281962384e-16, -8.204444856392477e-16, -1.2306667284588716e-15, -1.6408889712784957e-15, -2.05111121409812e-15, -2.4613334569177436e-15, -2.871555699737368e-15, -3.2817779425569923e-15, 6.619629352888483e-16, 1.3239258705776966e-15, 1.985888805866545e-15, 2.6478517411553932e-15, 3.3098146764442414e-15, 3.97177761173309e-15, 4.633740547021938e-15, 5.2957034823107864e-15, 0.0, 0.0, 0.0, 0.0, 0.0, 0.0, 0.0, 0.0, 0.0, 0.0, 0.0, 0.0, 6.042209777269406e-18, 1.2084419554538811e-17, 1.8126629331808218e-17, 2.416883910907762e-17, 3.0211048886347025e-17, 3.6253258663616424e-17, 4.2295468440885835e-17, 4.833767821815524e-17, 2.456984826919549e-16, 4.913969653839098e-16, 7.370954480758647e-16, 9.827939307678194e-16, 1.2284924134597743e-15, 1.4741908961517293e-15, 1.719889378843684e-15, 1.965587861535639e-15, 0.0, 0.0, 0.0, 0.0, 0.0, 0.0, 0.0, 0.0, 0.0, 0.0, 0.0, 0.0, -4.974391751611793e-16, -9.948783503223586e-16, -1.4923175254835378e-15, -1.9897567006447167e-15, -2.4871958758058958e-15, -2.9846350509670745e-15, -3.482074226128253e-15, -3.979513401289432e-15, -1.7056596990493833e-16, -3.4113193980987666e-16, -5.11697909714815e-16, -6.822638796197533e-16, -8.528298495246918e-16, -1.02339581942963e-15, -1.1939617893345687e-15, -1.364527759239507e-15, 0.0, 0.0, 0.0, 0.0, 0.0, 0.0, 0.0, 0.0, 0.0, 0.0, 0.0, 0.0, -8.1174722564286e-17, -1.62349445128572e-16, -2.43524167692858e-16, -3.2469889025714404e-16, -4.0587361282143007e-16, -4.870483353857161e-16, -5.682230579500022e-16, -6.493977805142883e-16, 3.329154150335103e-16, 6.658308300670206e-16, 9.987462451005308e-16, 1.331661660134041e-15, 1.6645770751675512e-15, 1.9974924902010613e-15, 2.3304079052345717e-15, 2.663323320268082e-15, 0.0], \"z\": [-0.03, -0.03, -0.032491138201572116, -0.03498336637938892, -0.037476033396224635, -0.03996110808530365, -0.04130316068977523, -0.042707085430125385, -0.04423232393522538, -0.045840132500028344, -0.04698142354584501, -0.04809450070682247, -0.04906360473839096, -0.049480655776541795, -0.04243943798122775, -0.04492566131001871, -0.04740383885995548, -0.04990144832420003, -0.05234504561305593, -0.05481965981119036, -0.057288510344144325, -0.059783281737405346, -0.0275, -0.025, -0.0225, -0.02, -0.0175, -0.015, -0.0125, -0.01, -0.0075, -0.005, -0.0025, 0.0, 0.0014694631307311829, 0.0029389262614623658, 0.004408389392193549, 0.0058778525229247315, 0.007347315653655915, 0.008816778784387098, 0.010286241915118281, 0.011755705045849465, 0.0014694631307311829, 0.0029389262614623658, 0.004408389392193549, 0.0058778525229247315, 0.007347315653655915, 0.008816778784387098, 0.010286241915118281, 0.011755705045849465, 0.0025, 0.005, 0.007000000000000002, 0.009500000000000001, 0.012000000000000002, 0.014000000000000004, 0.016500000000000004, 0.019000000000000003, 0.021000000000000005, 0.023500000000000007, 0.026000000000000006, 0.028000000000000008, 0.02946946313073119, 0.030938926261462375, 0.03240838939219356, 0.03387785252292474, 0.035347315653655925, 0.036816778784387105, 0.03828624191511829, 0.03975570504584947, 0.02946946313073119, 0.030938926261462375, 0.03240838939219356, 0.03387785252292474, 0.035347315653655925, 0.036816778784387105, 0.03828624191511829, 0.03975570504584947, 0.030500000000000006, 0.03300000000000001, 0.03500000000000001, 0.037500000000000006, 0.04000000000000001, 0.04200000000000001, 0.04450000000000001, 0.047000000000000014, 0.049000000000000016, 0.05150000000000001, 0.05400000000000001, 0.056000000000000015, 0.057469463130731195, 0.05893892626146238, 0.06040838939219356, 0.06187785252292475, 0.06334731565365594, 0.06481677878438712, 0.0662862419151183, 0.06775570504584948, 0.057469463130731195, 0.05893892626146238, 0.06040838939219356, 0.06187785252292475, 0.06334731565365594, 0.06481677878438712, 0.0662862419151183, 0.06775570504584948, 0.05850000000000002, 0.06100000000000001, 0.063, 0.0655, 0.068, 0.07, 0.0725, 0.075, 0.077, 0.07949999999999999, 0.08199999999999999, 0.08399999999999999, 0.08546946313073116, 0.08693892626146235, 0.08840838939219353, 0.08987785252292473, 0.09134731565365589, 0.09281677878438709, 0.09428624191511827, 0.09575570504584946, 0.08546946313073116, 0.08693892626146235, 0.08840838939219353, 0.08987785252292473, 0.09134731565365589, 0.09281677878438709, 0.09428624191511827, 0.09575570504584946, 0.08649999999999998, 0.08899999999999998, 0.09099999999999998, 0.09349999999999997, 0.09599999999999997, 0.09799999999999998, 0.10049999999999998, 0.10299999999999997, 0.10499999999999997, 0.10749999999999997, 0.10999999999999996, 0.11199999999999996, 0.11346946313073113, 0.11493892626146232, 0.1164083893921935, 0.1178778525229247, 0.11934731565365586, 0.12081677878438705, 0.12228624191511824, 0.12375570504584943, 0.11346946313073113, 0.11493892626146232, 0.1164083893921935, 0.1178778525229247, 0.11934731565365586, 0.12081677878438705, 0.12228624191511824, 0.12375570504584943, 0.11449999999999996, 0.11699999999999995, 0.11899999999999995, 0.12149999999999996, 0.12399999999999994, 0.12599999999999995, 0.12849999999999995, 0.13099999999999995, 0.13299999999999992, 0.13549999999999993, 0.13799999999999993, 0.13999999999999993, 0.1414694631307311, 0.1429389262614623, 0.14440838939219347, 0.14587785252292465, 0.14734731565365583, 0.14881677878438704, 0.1502862419151182, 0.1517557050458494, 0.1414694631307311, 0.1429389262614623, 0.14440838939219347, 0.14587785252292465, 0.14734731565365583, 0.14881677878438704, 0.1502862419151182, 0.1517557050458494, 0.14249999999999993, 0.14499999999999993, 0.1469999999999999, 0.1494999999999999, 0.1519999999999999, 0.15399999999999991, 0.15649999999999992, 0.15899999999999992, 0.16099999999999992, 0.1634999999999999, 0.1659999999999999, 0.1679999999999999, 0.16946946313073108, 0.17093892626146226, 0.17240838939219344, 0.17387785252292465, 0.17534731565365583, 0.17681677878438698, 0.1782862419151182, 0.17975570504584937, 0.16946946313073108, 0.17093892626146226, 0.17240838939219344, 0.17387785252292465, 0.17534731565365583, 0.17681677878438698, 0.1782862419151182, 0.17975570504584937, 0.16999999999999993]}, {\"marker\": {\"color\": [2.0, 4.0, 2.0, 2.0, 2.0, 2.0, 2.0, 2.0, 2.0, 2.0, 2.0, 2.0, 2.0, 2.0, 2.0, 2.0, 2.0, 2.0, 2.0, 2.0, 2.0, 2.0, 4.0, 4.0, 4.0, 4.0, 4.0, 4.0, 4.0, 4.0, 4.0, 4.0, 4.0, 4.0, 8.0, 8.0, 8.0, 8.0, 8.0, 8.0, 8.0, 8.0, 8.0, 8.0, 8.0, 8.0, 8.0, 8.0, 8.0, 8.0, 4.0, 4.0, 4.0, 4.0, 4.0, 4.0, 4.0, 4.0, 4.0, 4.0, 4.0, 4.0, 8.0, 8.0, 8.0, 8.0, 8.0, 8.0, 8.0, 8.0, 8.0, 8.0, 8.0, 8.0, 8.0, 8.0, 8.0, 8.0, 4.0, 4.0, 4.0, 4.0, 4.0, 4.0, 4.0, 4.0, 4.0, 4.0, 4.0, 4.0, 8.0, 8.0, 8.0, 8.0, 8.0, 8.0, 8.0, 8.0, 8.0, 8.0, 8.0, 8.0, 8.0, 8.0, 8.0, 8.0, 4.0, 4.0, 4.0, 4.0, 4.0, 4.0, 4.0, 4.0, 4.0, 4.0, 4.0, 4.0, 8.0, 8.0, 8.0, 8.0, 8.0, 8.0, 8.0, 8.0, 8.0, 8.0, 8.0, 8.0, 8.0, 8.0, 8.0, 8.0, 4.0, 4.0, 4.0, 4.0, 4.0, 4.0, 4.0, 4.0, 4.0, 4.0, 4.0, 4.0, 8.0, 8.0, 8.0, 8.0, 8.0, 8.0, 8.0, 8.0, 8.0, 8.0, 8.0, 8.0, 8.0, 8.0, 8.0, 8.0, 4.0, 4.0, 4.0, 4.0, 4.0, 4.0, 4.0, 4.0, 4.0, 4.0, 4.0, 4.0, 8.0, 8.0, 8.0, 8.0, 8.0, 8.0, 8.0, 8.0, 8.0, 8.0, 8.0, 8.0, 8.0, 8.0, 8.0, 8.0, 4.0, 4.0, 4.0, 4.0, 4.0, 4.0, 4.0, 4.0, 4.0, 4.0, 4.0, 4.0, 8.0, 8.0, 8.0, 8.0, 8.0, 8.0, 8.0, 8.0, 8.0, 8.0, 8.0, 8.0, 8.0, 8.0, 8.0, 8.0, 4.0], \"colorscale\": [[0, \"wheat\"], [0.5, \"darkgreen\"], [1.0, \"lightgreen\"]], \"opacity\": 0.8, \"size\": 3}, \"mode\": \"markers\", \"name\": \"270 degree rotation\", \"scene\": \"scene4\", \"type\": \"scatter3d\", \"x\": [0.0, 0.0, 3.5807559233832316e-05, 0.00014924926399073103, 0.00011201690043641646, 0.00017122699749769544, 0.0014998720165158553, 0.0023978751300126845, 0.0033473231395773494, 0.004442124847881494, 0.005625979637799869, 0.00690946706976058, 0.008206287754844006, 0.00883015714238113, -0.00012875745957794036, -0.0003108100785933281, -0.0006106532618313738, -0.00047372561190176535, -0.0005581718173429957, -0.0006473115456764745, -0.0007265233901158316, -0.0007185588053084752, 0.0, 0.0, 0.0, 0.0, 0.0, 0.0, 0.0, 0.0, 0.0, 0.0, 0.0, 0.0, 1.336857080021773e-15, 2.673714160043546e-15, 4.010571240065319e-15, 5.347428320087092e-15, 6.6842854001088656e-15, 8.021142480130638e-15, 9.357999560152412e-15, 1.0694856640174185e-14, 0.0020225424859373685, 0.004045084971874737, 0.006067627457812106, 0.008090169943749474, 0.010112712429686843, 0.012135254915624212, 0.01415779740156158, 0.016180339887498948, 0.0, 0.0, 0.0, 0.0, 0.0, 0.0, 0.0, 0.0, 0.0, 0.0, 0.0, 0.0, 6.671583551765799e-16, 1.3343167103531598e-15, 2.00147506552974e-15, 2.6686334207063195e-15, 3.3357917758828996e-15, 4.00295013105948e-15, 4.670108486236059e-15, 5.337266841412639e-15, -0.0020225424859373685, -0.004045084971874737, -0.006067627457812106, -0.008090169943749474, -0.010112712429686843, -0.012135254915624212, -0.01415779740156158, -0.016180339887498948, 0.0, 0.0, 0.0, 0.0, 0.0, 0.0, 0.0, 0.0, 0.0, 0.0, 0.0, 0.0, 1.007809559766435e-15, 2.01561911953287e-15, 3.0234286792993055e-15, 4.03123823906574e-15, 5.039047798832176e-15, 6.046857358598611e-15, 7.054666918365046e-15, 8.06247647813148e-15, 0.0020225424859373685, 0.004045084971874737, 0.006067627457812106, 0.008090169943749474, 0.010112712429686843, 0.012135254915624212, 0.01415779740156158, 0.016180339887498948, 0.0, 0.0, 0.0, 0.0, 0.0, 0.0, 0.0, 0.0, 0.0, 0.0, 0.0, 0.0, -8.432857996387662e-16, -1.6865715992775324e-15, -2.5298573989162985e-15, -3.373143198555065e-15, -4.216428998193831e-15, -5.059714797832597e-15, -5.903000597471363e-15, -6.74628639711013e-15, -0.0020225424859373685, -0.004045084971874737, -0.006067627457812106, -0.008090169943749474, -0.010112712429686843, -0.012135254915624212, -0.01415779740156158, -0.016180339887498948, 0.0, 0.0, 0.0, 0.0, 0.0, 0.0, 0.0, 0.0, 0.0, 0.0, 0.0, 0.0, 6.787620395110973e-16, 1.3575240790221946e-15, 2.036286118533292e-15, 2.71504815804439e-15, 3.3938101975554875e-15, 4.0725722370665854e-15, 4.751334276577682e-15, 5.43009631608878e-15, 0.0020225424859373685, 0.004045084971874737, 0.006067627457812106, 0.008090169943749474, 0.010112712429686843, 0.012135254915624212, 0.01415779740156158, 0.016180339887498948, 0.0, 0.0, 0.0, 0.0, 0.0, 0.0, 0.0, 0.0, 0.0, 0.0, 0.0, 0.0, -5.142382793834283e-16, -1.0284765587668565e-15, -1.542714838150285e-15, -2.0569531175337134e-15, -2.5711913969171423e-15, -3.0854296763005707e-15, -3.599667955684e-15, -4.113906235067428e-15, -0.0020225424859373685, -0.004045084971874737, -0.006067627457812106, -0.008090169943749474, -0.010112712429686843, -0.012135254915624212, -0.01415779740156158, -0.016180339887498948, 0.0, 0.0, 0.0, 0.0, 0.0, 0.0, 0.0, 0.0, 0.0, 0.0, 0.0, 0.0, 3.497145192557594e-16, 6.994290385115188e-16, 1.0491435577672782e-15, 1.3988580770230375e-15, 1.7485725962787968e-15, 2.098287115534556e-15, 2.4480016347903153e-15, 2.7977161540460746e-15, 0.0020225424859373685, 0.004045084971874737, 0.006067627457812106, 0.008090169943749474, 0.010112712429686843, 0.012135254915624212, 0.01415779740156158, 0.016180339887498948, 0.0], \"y\": [0.0, 0.0, 0.00035361107152031814, 0.0006622541049916891, 0.0008972241051323329, 0.0009392118624747824, 0.0024674256142647013, 0.004079273354054078, 0.005494634478488453, 0.007343017688016287, 0.009150342049942571, 0.010940478353784797, 0.01269726035881106, 0.013406954975445251, 0.0009416945870386957, 0.0007918465365399462, 0.0003928472385211823, 3.7352751780807336e-05, -5.8573835085666514e-05, -0.00011711398544029393, -9.031929700185e-05, 9.83713069244621e-05, 0.0, 0.0, 0.0, 0.0, 0.0, 0.0, 0.0, 0.0, 0.0, 0.0, 0.0, 0.0, 0.0020225424859373685, 0.004045084971874737, 0.006067627457812106, 0.008090169943749474, 0.010112712429686843, 0.012135254915624212, 0.01415779740156158, 0.016180339887498948, -3.348493624225966e-16, -6.696987248451932e-16, -1.0045480872677898e-15, -1.3393974496903864e-15, -1.674246812112983e-15, -2.0090961745355796e-15, -2.343945536958176e-15, -2.6787948993807728e-15, 0.0, 0.0, 0.0, 0.0, 0.0, 0.0, 0.0, 0.0, 0.0, 0.0, 0.0, 0.0, -0.0020225424859373685, -0.004045084971874737, -0.006067627457812106, -0.008090169943749474, -0.010112712429686843, -0.012135254915624212, -0.01415779740156158, -0.016180339887498948, 1.7032560229492762e-16, 3.4065120458985524e-16, 5.109768068847828e-16, 6.813024091797105e-16, 8.516280114746381e-16, 1.0219536137695656e-15, 1.1922792160644933e-15, 1.362604818359421e-15, 0.0, 0.0, 0.0, 0.0, 0.0, 0.0, 0.0, 0.0, 0.0, 0.0, 0.0, 0.0, 0.0020225424859373685, 0.004045084971874737, 0.006067627457812106, 0.008090169943749474, 0.010112712429686843, 0.012135254915624212, 0.01415779740156158, 0.016180339887498948, -5.801842167258683e-18, -1.1603684334517366e-17, -1.740552650177605e-17, -2.3207368669034738e-17, -2.9009210836293425e-17, -3.481105300355211e-17, -4.061289517081079e-17, -4.6414737338069477e-17, 0.0, 0.0, 0.0, 0.0, 0.0, 0.0, 0.0, 0.0, 0.0, 0.0, 0.0, 0.0, -0.0020225424859373685, -0.004045084971874737, -0.006067627457812106, -0.008090169943749474, -0.010112712429686843, -0.012135254915624212, -0.01415779740156158, -0.016180339887498948, -1.5872191796041025e-16, -3.174438359208205e-16, -4.761657538812307e-16, -6.34887671841641e-16, -7.936095898020513e-16, -9.523315077624617e-16, -1.1110534257228719e-15, -1.2697753436832822e-15, 0.0, 0.0, 0.0, 0.0, 0.0, 0.0, 0.0, 0.0, 0.0, 0.0, 0.0, 0.0, 0.0020225424859373685, 0.004045084971874737, 0.006067627457812106, 0.008090169943749474, 0.010112712429686843, 0.012135254915624212, 0.01415779740156158, 0.016180339887498948, 3.232456780880792e-16, 6.464913561761584e-16, 9.697370342642375e-16, 1.2929827123523166e-15, 1.6162283904403957e-15, 1.9394740685284746e-15, 2.2627197466165537e-15, 2.585965424704633e-15, 0.0, 0.0, 0.0, 0.0, 0.0, 0.0, 0.0, 0.0, 0.0, 0.0, 0.0, 0.0, -0.0020225424859373685, -0.004045084971874737, -0.006067627457812106, -0.008090169943749474, -0.010112712429686843, -0.012135254915624212, -0.01415779740156158, -0.016180339887498948, 1.3517222368549358e-15, 2.7034444737098716e-15, 4.055166710564807e-15, 5.406888947419743e-15, 6.758611184274679e-15, 8.110333421129614e-15, 9.462055657984551e-15, 1.0813777894839488e-14, 0.0, 0.0, 0.0, 0.0, 0.0, 0.0, 0.0, 0.0, 0.0, 0.0, 0.0, 0.0, 0.0020225424859373685, 0.004045084971874737, 0.006067627457812106, 0.008090169943749474, 0.010112712429686843, 0.012135254915624212, 0.01415779740156158, 0.016180339887498948, -1.187198476727267e-15, -2.374396953454534e-15, -3.561595430181801e-15, -4.748793906909069e-15, -5.935992383636337e-15, -7.123190860363605e-15, -8.310389337090873e-15, -9.49758781381814e-15, 0.0], \"z\": [-0.03, -0.03, -0.03247460643917371, -0.03495288617671575, -0.037441541004155275, -0.039940487020506836, -0.0414065242445494, -0.043093396282341795, -0.04492241278433776, -0.04620104045892873, -0.04745884270378881, -0.048641243661867326, -0.0498586068359266, -0.05042154075019023, -0.04242242238662574, -0.04491127802841603, -0.04736095017497896, -0.04983175459633285, -0.05232848584504961, -0.054826210241300945, -0.0573248113555991, -0.05981766763332126, -0.0275, -0.025, -0.0225, -0.02, -0.0175, -0.015, -0.0125, -0.01, -0.0075, -0.005, -0.0025, 0.0, 0.0014694631307311829, 0.0029389262614623658, 0.004408389392193549, 0.0058778525229247315, 0.007347315653655915, 0.008816778784387098, 0.010286241915118281, 0.011755705045849465, 0.0014694631307311829, 0.0029389262614623658, 0.004408389392193549, 0.0058778525229247315, 0.007347315653655915, 0.008816778784387098, 0.010286241915118281, 0.011755705045849465, 0.0025, 0.005, 0.007000000000000002, 0.009500000000000001, 0.012000000000000002, 0.014000000000000004, 0.016500000000000004, 0.019000000000000003, 0.021000000000000005, 0.023500000000000007, 0.026000000000000006, 0.028000000000000008, 0.02946946313073119, 0.030938926261462375, 0.03240838939219356, 0.03387785252292474, 0.035347315653655925, 0.036816778784387105, 0.03828624191511829, 0.03975570504584947, 0.02946946313073119, 0.030938926261462375, 0.03240838939219356, 0.03387785252292474, 0.035347315653655925, 0.036816778784387105, 0.03828624191511829, 0.03975570504584947, 0.030500000000000006, 0.03300000000000001, 0.03500000000000001, 0.037500000000000006, 0.04000000000000001, 0.04200000000000001, 0.04450000000000001, 0.047000000000000014, 0.049000000000000016, 0.05150000000000001, 0.05400000000000001, 0.056000000000000015, 0.057469463130731195, 0.05893892626146238, 0.06040838939219356, 0.06187785252292475, 0.06334731565365594, 0.06481677878438712, 0.0662862419151183, 0.06775570504584948, 0.057469463130731195, 0.05893892626146238, 0.06040838939219356, 0.06187785252292475, 0.06334731565365594, 0.06481677878438712, 0.0662862419151183, 0.06775570504584948, 0.05850000000000002, 0.06100000000000001, 0.063, 0.0655, 0.068, 0.07, 0.0725, 0.075, 0.077, 0.07949999999999999, 0.08199999999999999, 0.08399999999999999, 0.08546946313073116, 0.08693892626146235, 0.08840838939219353, 0.08987785252292473, 0.09134731565365589, 0.09281677878438709, 0.09428624191511827, 0.09575570504584946, 0.08546946313073116, 0.08693892626146235, 0.08840838939219353, 0.08987785252292473, 0.09134731565365589, 0.09281677878438709, 0.09428624191511827, 0.09575570504584946, 0.08649999999999998, 0.08899999999999998, 0.09099999999999998, 0.09349999999999997, 0.09599999999999997, 0.09799999999999998, 0.10049999999999998, 0.10299999999999997, 0.10499999999999997, 0.10749999999999997, 0.10999999999999996, 0.11199999999999996, 0.11346946313073113, 0.11493892626146232, 0.1164083893921935, 0.1178778525229247, 0.11934731565365586, 0.12081677878438705, 0.12228624191511824, 0.12375570504584943, 0.11346946313073113, 0.11493892626146232, 0.1164083893921935, 0.1178778525229247, 0.11934731565365586, 0.12081677878438705, 0.12228624191511824, 0.12375570504584943, 0.11449999999999996, 0.11699999999999995, 0.11899999999999995, 0.12149999999999996, 0.12399999999999994, 0.12599999999999995, 0.12849999999999995, 0.13099999999999995, 0.13299999999999992, 0.13549999999999993, 0.13799999999999993, 0.13999999999999993, 0.1414694631307311, 0.1429389262614623, 0.14440838939219347, 0.14587785252292465, 0.14734731565365583, 0.14881677878438704, 0.1502862419151182, 0.1517557050458494, 0.1414694631307311, 0.1429389262614623, 0.14440838939219347, 0.14587785252292465, 0.14734731565365583, 0.14881677878438704, 0.1502862419151182, 0.1517557050458494, 0.14249999999999993, 0.14499999999999993, 0.1469999999999999, 0.1494999999999999, 0.1519999999999999, 0.15399999999999991, 0.15649999999999992, 0.15899999999999992, 0.16099999999999992, 0.1634999999999999, 0.1659999999999999, 0.1679999999999999, 0.16946946313073108, 0.17093892626146226, 0.17240838939219344, 0.17387785252292465, 0.17534731565365583, 0.17681677878438698, 0.1782862419151182, 0.17975570504584937, 0.16946946313073108, 0.17093892626146226, 0.17240838939219344, 0.17387785252292465, 0.17534731565365583, 0.17681677878438698, 0.1782862419151182, 0.17975570504584937, 0.16999999999999993]}],\n",
       "                        {\"height\": 800, \"scene\": {\"domain\": {\"x\": [0.0, 0.45], \"y\": [0.575, 1.0]}}, \"scene2\": {\"domain\": {\"x\": [0.55, 1.0], \"y\": [0.575, 1.0]}}, \"scene3\": {\"domain\": {\"x\": [0.0, 0.45], \"y\": [0.0, 0.425]}}, \"scene4\": {\"domain\": {\"x\": [0.55, 1.0], \"y\": [0.0, 0.425]}}, \"template\": {\"data\": {\"bar\": [{\"error_x\": {\"color\": \"#2a3f5f\"}, \"error_y\": {\"color\": \"#2a3f5f\"}, \"marker\": {\"line\": {\"color\": \"#E5ECF6\", \"width\": 0.5}}, \"type\": \"bar\"}], \"barpolar\": [{\"marker\": {\"line\": {\"color\": \"#E5ECF6\", \"width\": 0.5}}, \"type\": \"barpolar\"}], \"carpet\": [{\"aaxis\": {\"endlinecolor\": \"#2a3f5f\", \"gridcolor\": \"white\", \"linecolor\": \"white\", \"minorgridcolor\": \"white\", \"startlinecolor\": \"#2a3f5f\"}, \"baxis\": {\"endlinecolor\": \"#2a3f5f\", \"gridcolor\": \"white\", \"linecolor\": \"white\", \"minorgridcolor\": \"white\", \"startlinecolor\": \"#2a3f5f\"}, \"type\": \"carpet\"}], \"choropleth\": [{\"colorbar\": {\"outlinewidth\": 0, \"ticks\": \"\"}, \"type\": \"choropleth\"}], \"contour\": [{\"colorbar\": {\"outlinewidth\": 0, \"ticks\": \"\"}, \"colorscale\": [[0.0, \"#0d0887\"], [0.1111111111111111, \"#46039f\"], [0.2222222222222222, \"#7201a8\"], [0.3333333333333333, \"#9c179e\"], [0.4444444444444444, \"#bd3786\"], [0.5555555555555556, \"#d8576b\"], [0.6666666666666666, \"#ed7953\"], [0.7777777777777778, \"#fb9f3a\"], [0.8888888888888888, \"#fdca26\"], [1.0, \"#f0f921\"]], \"type\": \"contour\"}], \"contourcarpet\": [{\"colorbar\": {\"outlinewidth\": 0, \"ticks\": \"\"}, \"type\": \"contourcarpet\"}], \"heatmap\": [{\"colorbar\": {\"outlinewidth\": 0, \"ticks\": \"\"}, \"colorscale\": [[0.0, \"#0d0887\"], [0.1111111111111111, \"#46039f\"], [0.2222222222222222, \"#7201a8\"], [0.3333333333333333, \"#9c179e\"], [0.4444444444444444, \"#bd3786\"], [0.5555555555555556, \"#d8576b\"], [0.6666666666666666, \"#ed7953\"], [0.7777777777777778, \"#fb9f3a\"], [0.8888888888888888, \"#fdca26\"], [1.0, \"#f0f921\"]], \"type\": \"heatmap\"}], \"heatmapgl\": [{\"colorbar\": {\"outlinewidth\": 0, \"ticks\": \"\"}, \"colorscale\": [[0.0, \"#0d0887\"], [0.1111111111111111, \"#46039f\"], [0.2222222222222222, \"#7201a8\"], [0.3333333333333333, \"#9c179e\"], [0.4444444444444444, \"#bd3786\"], [0.5555555555555556, \"#d8576b\"], [0.6666666666666666, \"#ed7953\"], [0.7777777777777778, \"#fb9f3a\"], [0.8888888888888888, \"#fdca26\"], [1.0, \"#f0f921\"]], \"type\": \"heatmapgl\"}], \"histogram\": [{\"marker\": {\"colorbar\": {\"outlinewidth\": 0, \"ticks\": \"\"}}, \"type\": \"histogram\"}], \"histogram2d\": [{\"colorbar\": {\"outlinewidth\": 0, \"ticks\": \"\"}, \"colorscale\": [[0.0, \"#0d0887\"], [0.1111111111111111, \"#46039f\"], [0.2222222222222222, \"#7201a8\"], [0.3333333333333333, \"#9c179e\"], [0.4444444444444444, \"#bd3786\"], [0.5555555555555556, \"#d8576b\"], [0.6666666666666666, \"#ed7953\"], [0.7777777777777778, \"#fb9f3a\"], [0.8888888888888888, \"#fdca26\"], [1.0, \"#f0f921\"]], \"type\": \"histogram2d\"}], \"histogram2dcontour\": [{\"colorbar\": {\"outlinewidth\": 0, \"ticks\": \"\"}, \"colorscale\": [[0.0, \"#0d0887\"], [0.1111111111111111, \"#46039f\"], [0.2222222222222222, \"#7201a8\"], [0.3333333333333333, \"#9c179e\"], [0.4444444444444444, \"#bd3786\"], [0.5555555555555556, \"#d8576b\"], [0.6666666666666666, \"#ed7953\"], [0.7777777777777778, \"#fb9f3a\"], [0.8888888888888888, \"#fdca26\"], [1.0, \"#f0f921\"]], \"type\": \"histogram2dcontour\"}], \"mesh3d\": [{\"colorbar\": {\"outlinewidth\": 0, \"ticks\": \"\"}, \"type\": \"mesh3d\"}], \"parcoords\": [{\"line\": {\"colorbar\": {\"outlinewidth\": 0, \"ticks\": \"\"}}, \"type\": \"parcoords\"}], \"scatter\": [{\"marker\": {\"colorbar\": {\"outlinewidth\": 0, \"ticks\": \"\"}}, \"type\": \"scatter\"}], \"scatter3d\": [{\"line\": {\"colorbar\": {\"outlinewidth\": 0, \"ticks\": \"\"}}, \"marker\": {\"colorbar\": {\"outlinewidth\": 0, \"ticks\": \"\"}}, \"type\": \"scatter3d\"}], \"scattercarpet\": [{\"marker\": {\"colorbar\": {\"outlinewidth\": 0, \"ticks\": \"\"}}, \"type\": \"scattercarpet\"}], \"scattergeo\": [{\"marker\": {\"colorbar\": {\"outlinewidth\": 0, \"ticks\": \"\"}}, \"type\": \"scattergeo\"}], \"scattergl\": [{\"marker\": {\"colorbar\": {\"outlinewidth\": 0, \"ticks\": \"\"}}, \"type\": \"scattergl\"}], \"scattermapbox\": [{\"marker\": {\"colorbar\": {\"outlinewidth\": 0, \"ticks\": \"\"}}, \"type\": \"scattermapbox\"}], \"scatterpolar\": [{\"marker\": {\"colorbar\": {\"outlinewidth\": 0, \"ticks\": \"\"}}, \"type\": \"scatterpolar\"}], \"scatterpolargl\": [{\"marker\": {\"colorbar\": {\"outlinewidth\": 0, \"ticks\": \"\"}}, \"type\": \"scatterpolargl\"}], \"scatterternary\": [{\"marker\": {\"colorbar\": {\"outlinewidth\": 0, \"ticks\": \"\"}}, \"type\": \"scatterternary\"}], \"surface\": [{\"colorbar\": {\"outlinewidth\": 0, \"ticks\": \"\"}, \"colorscale\": [[0.0, \"#0d0887\"], [0.1111111111111111, \"#46039f\"], [0.2222222222222222, \"#7201a8\"], [0.3333333333333333, \"#9c179e\"], [0.4444444444444444, \"#bd3786\"], [0.5555555555555556, \"#d8576b\"], [0.6666666666666666, \"#ed7953\"], [0.7777777777777778, \"#fb9f3a\"], [0.8888888888888888, \"#fdca26\"], [1.0, \"#f0f921\"]], \"type\": \"surface\"}], \"table\": [{\"cells\": {\"fill\": {\"color\": \"#EBF0F8\"}, \"line\": {\"color\": \"white\"}}, \"header\": {\"fill\": {\"color\": \"#C8D4E3\"}, \"line\": {\"color\": \"white\"}}, \"type\": \"table\"}]}, \"layout\": {\"annotationdefaults\": {\"arrowcolor\": \"#2a3f5f\", \"arrowhead\": 0, \"arrowwidth\": 1}, \"colorscale\": {\"diverging\": [[0, \"#8e0152\"], [0.1, \"#c51b7d\"], [0.2, \"#de77ae\"], [0.3, \"#f1b6da\"], [0.4, \"#fde0ef\"], [0.5, \"#f7f7f7\"], [0.6, \"#e6f5d0\"], [0.7, \"#b8e186\"], [0.8, \"#7fbc41\"], [0.9, \"#4d9221\"], [1, \"#276419\"]], \"sequential\": [[0.0, \"#0d0887\"], [0.1111111111111111, \"#46039f\"], [0.2222222222222222, \"#7201a8\"], [0.3333333333333333, \"#9c179e\"], [0.4444444444444444, \"#bd3786\"], [0.5555555555555556, \"#d8576b\"], [0.6666666666666666, \"#ed7953\"], [0.7777777777777778, \"#fb9f3a\"], [0.8888888888888888, \"#fdca26\"], [1.0, \"#f0f921\"]], \"sequentialminus\": [[0.0, \"#0d0887\"], [0.1111111111111111, \"#46039f\"], [0.2222222222222222, \"#7201a8\"], [0.3333333333333333, \"#9c179e\"], [0.4444444444444444, \"#bd3786\"], [0.5555555555555556, \"#d8576b\"], [0.6666666666666666, \"#ed7953\"], [0.7777777777777778, \"#fb9f3a\"], [0.8888888888888888, \"#fdca26\"], [1.0, \"#f0f921\"]]}, \"colorway\": [\"#636efa\", \"#EF553B\", \"#00cc96\", \"#ab63fa\", \"#FFA15A\", \"#19d3f3\", \"#FF6692\", \"#B6E880\", \"#FF97FF\", \"#FECB52\"], \"font\": {\"color\": \"#2a3f5f\"}, \"geo\": {\"bgcolor\": \"white\", \"lakecolor\": \"white\", \"landcolor\": \"#E5ECF6\", \"showlakes\": true, \"showland\": true, \"subunitcolor\": \"white\"}, \"hoverlabel\": {\"align\": \"left\"}, \"hovermode\": \"closest\", \"mapbox\": {\"style\": \"light\"}, \"paper_bgcolor\": \"white\", \"plot_bgcolor\": \"#E5ECF6\", \"polar\": {\"angularaxis\": {\"gridcolor\": \"white\", \"linecolor\": \"white\", \"ticks\": \"\"}, \"bgcolor\": \"#E5ECF6\", \"radialaxis\": {\"gridcolor\": \"white\", \"linecolor\": \"white\", \"ticks\": \"\"}}, \"scene\": {\"xaxis\": {\"backgroundcolor\": \"#E5ECF6\", \"gridcolor\": \"white\", \"gridwidth\": 2, \"linecolor\": \"white\", \"showbackground\": true, \"ticks\": \"\", \"zerolinecolor\": \"white\"}, \"yaxis\": {\"backgroundcolor\": \"#E5ECF6\", \"gridcolor\": \"white\", \"gridwidth\": 2, \"linecolor\": \"white\", \"showbackground\": true, \"ticks\": \"\", \"zerolinecolor\": \"white\"}, \"zaxis\": {\"backgroundcolor\": \"#E5ECF6\", \"gridcolor\": \"white\", \"gridwidth\": 2, \"linecolor\": \"white\", \"showbackground\": true, \"ticks\": \"\", \"zerolinecolor\": \"white\"}}, \"shapedefaults\": {\"line\": {\"color\": \"#2a3f5f\"}}, \"ternary\": {\"aaxis\": {\"gridcolor\": \"white\", \"linecolor\": \"white\", \"ticks\": \"\"}, \"baxis\": {\"gridcolor\": \"white\", \"linecolor\": \"white\", \"ticks\": \"\"}, \"bgcolor\": \"#E5ECF6\", \"caxis\": {\"gridcolor\": \"white\", \"linecolor\": \"white\", \"ticks\": \"\"}}, \"title\": {\"x\": 0.05}, \"xaxis\": {\"automargin\": true, \"gridcolor\": \"white\", \"linecolor\": \"white\", \"ticks\": \"\", \"zerolinecolor\": \"white\", \"zerolinewidth\": 2}, \"yaxis\": {\"automargin\": true, \"gridcolor\": \"white\", \"linecolor\": \"white\", \"ticks\": \"\", \"zerolinecolor\": \"white\", \"zerolinewidth\": 2}}}, \"title\": {\"text\": \"different RotBeta (function type)\"}, \"width\": 800},\n",
       "                        {\"responsive\": true}\n",
       "                    ).then(function(){\n",
       "                            \n",
       "var gd = document.getElementById('565d02c5-8f19-4fc9-808f-f148d307dcd0');\n",
       "var x = new MutationObserver(function (mutations, observer) {{\n",
       "        var display = window.getComputedStyle(gd).display;\n",
       "        if (!display || display === 'none') {{\n",
       "            console.log([gd, 'removed!']);\n",
       "            Plotly.purge(gd);\n",
       "            observer.disconnect();\n",
       "        }}\n",
       "}});\n",
       "\n",
       "// Listen for the removal of the full notebook cells\n",
       "var notebookContainer = gd.closest('#notebook-container');\n",
       "if (notebookContainer) {{\n",
       "    x.observe(notebookContainer, {childList: true});\n",
       "}}\n",
       "\n",
       "// Listen for the clearing of the current output cell\n",
       "var outputEl = gd.closest('.output');\n",
       "if (outputEl) {{\n",
       "    x.observe(outputEl, {childList: true});\n",
       "}}\n",
       "\n",
       "                        })\n",
       "                };\n",
       "                });\n",
       "            </script>\n",
       "        </div>"
      ]
     },
     "metadata": {},
     "output_type": "display_data"
    }
   ],
   "source": [
    "from plotly.subplots import make_subplots\n",
    "fig = make_subplots(\n",
    "    rows=2, cols=2,\n",
    "    specs=[[{'type': 'scatter3d'}, {'type': 'scatter3d'}],\n",
    "           [{'type': 'scatter3d'}, {'type': 'scatter3d'}]])\n",
    "\n",
    "name = 'testXML'\n",
    "change_parameter('testXML', 'testXML', 'stem', '1', 'lmax', 'value','20')\n",
    "change_parameter('testXML', 'testXML', 'leaf', '2', 'RotBeta', 'value','0')\n",
    "smallplant1 = CPlantBox(name, time, name) # make a plant object in python\n",
    "fig1 = visual_plant_sub(smallplant1,name=\"0 degree rotation\")\n",
    "\n",
    "name = 'testXML'\n",
    "change_parameter('testXML', 'testXML', 'leaf', '2', 'RotBeta', 'value','0.5')\n",
    "smallplant2 = CPlantBox(name, time, name) # make a plant object in python\n",
    "fig2 = visual_plant_sub(smallplant2,name=\"90 degree rotation\")\n",
    "\n",
    "name = 'testXML'\n",
    "change_parameter('testXML', 'testXML', 'leaf', '2', 'RotBeta', 'value','1')\n",
    "smallplant3 = CPlantBox(name, time, name) # make a plant object in python\n",
    "fig3 = visual_plant_sub(smallplant3,name=\"180 degree rotation\")\n",
    "\n",
    "name = 'testXML'\n",
    "change_parameter('testXML', 'testXML', 'leaf', '2', 'RotBeta', 'value','1.5')\n",
    "smallplant4 = CPlantBox(name, time, name) # make a plant object in python\n",
    "fig4 = visual_plant_sub(smallplant4,name=\"270 degree rotation\")\n",
    "\n",
    "fig.add_trace(fig1, 1, 1 )\n",
    "fig.add_trace(fig2, 1, 2)\n",
    "fig.add_trace(fig3, 2, 1)\n",
    "fig.add_trace(fig4, 2, 2)\n",
    "\n",
    "fig.update_layout(\n",
    "    title_text='different RotBeta (function type)',\n",
    "    height=800,\n",
    "    width=800\n",
    ")\n",
    "\n",
    "fig.show()"
   ]
  },
  {
   "cell_type": "markdown",
   "metadata": {},
   "source": [
    "## 7. \n",
    "\n",
    "\n",
    "\n"
   ]
  }
 ],
 "metadata": {
  "accelerator": "GPU",
  "colab": {
   "collapsed_sections": [],
   "name": "CPlantBox-PiafMunch_Tutorial (include installation).ipynb",
   "provenance": [],
   "version": "0.3.2"
  },
  "kernelspec": {
   "display_name": "Python 3",
   "language": "python",
   "name": "python3"
  },
  "language_info": {
   "codemirror_mode": {
    "name": "ipython",
    "version": 3
   },
   "file_extension": ".py",
   "mimetype": "text/x-python",
   "name": "python",
   "nbconvert_exporter": "python",
   "pygments_lexer": "ipython3",
   "version": "3.6.8"
  }
 },
 "nbformat": 4,
 "nbformat_minor": 4
}
