{
 "cells": [
  {
   "cell_type": "markdown",
   "metadata": {},
   "source": [
    "# Use CPlantBox with one click\n",
    "In this tutorial, you only need to click the small triangle button on the left top corner of the code blocks. \n",
    "If the circling triangle finished, please go to the next block and run the next block. \n",
    "If you need to learn google colab please follow the link here https://colab.research.google.com/notebooks/welcome.ipynb\n"
   ]
  },
  {
   "cell_type": "code",
   "execution_count": null,
   "metadata": {
    "colab": {},
    "colab_type": "code",
    "id": "GOhVEgo5B5WY"
   },
   "outputs": [],
   "source": [
    "#<---Click this triangle to load python libraries\n",
    "# loading other python library or packages. Only need to run once at the start.\n",
    "import os\n",
    "import sys\n",
    "! pip3 install vtk\n",
    "from vtk.util import numpy_support as VN\n",
    "import vtk\n",
    "#! git clone https://github.com/Plant-Root-Soil-Interactions-Modelling/CPlantBox # downloading the source code\n",
    "os.chdir(\"/content/CPlantBox/tutorial/jupyter\") # Change to the python directory (working directory)\n",
    "# Congrats! Now you are ready to use the CPlantBox\n",
    "!rm modelparameter\n",
    "!ln -s /content/CPlantBox/modelparameter/ modelparameter\n",
    "# Loading specific python scripts for CPlantBox and CRootBox\n",
    "from CPlantBox_PiafMunch import *\n",
    "plotly.__version__\n",
    "# first we create a Heliantus plant\n",
    "name = \"Heliantus_Pagès_2013_new.xml\" # parameter name\n",
    "# here are some optional parameters to be tested\n",
    "# name = \"PMA2018\" # Simulate a small plant with 3 leaves and two lateral root, you can comment the heliantus line and uncomment this line to see what happend.\n",
    "time = 70 # how many days the plant need to grow, make it smaller, for example 15 to see if the plant becomes smaller\n",
    "plant1 = CPlantBox(name, time, name) # make a plant object in python\n",
    "# Visualization\n",
    "fig = visual_plant(plant1)\n",
    "fig.show()"
   ]
  },
  {
   "cell_type": "markdown",
   "metadata": {},
   "source": [
    "## 2. Detailed usage of CPlantBox\n",
    "1. create several different plant."
   ]
  },
  {
   "cell_type": "code",
   "execution_count": null,
   "metadata": {},
   "outputs": [],
   "source": [
    "# it is easy to use for loop in python to create many plant at a time.\n",
    "for i in range(0,9):    \n",
    "    plant1 = CPlantBox_analysis('{}_new.xml'.format(str(i)), 180, '{}'.format(str(i)))"
   ]
  },
  {
   "cell_type": "markdown",
   "metadata": {},
   "source": [
    "## 3. Rewirte the visualization function\n"
   ]
  },
  {
   "cell_type": "code",
   "execution_count": null,
   "metadata": {},
   "outputs": [],
   "source": [
    "def visual_plant_sub(plant1,name='plant'):\n",
    "    nodes_cor = python_nodes(plant1) # use the object name created previously to get its coordinates\n",
    "    fig= go.Scatter3d(\n",
    "        x=nodes_cor.T[3],\n",
    "        y=nodes_cor.T[4],\n",
    "        z=nodes_cor.T[5],\n",
    "        mode='markers',\n",
    "        marker=dict(\n",
    "            size=3,\n",
    "            color=nodes_cor.T[1],                # nodes_cor.T[1] is organ type, nodes_cor.T[2] is the connection number of a node \n",
    "            colorscale=[[0, \"wheat\"], #color of the root, change it to \"yellow\" to see the difference\n",
    "                    [0.5, \"darkgreen\"],\n",
    "                    [1.0, \"lightgreen\"],],  opacity=0.8\n",
    "        ), name =name\n",
    "    )\n",
    "\n",
    "    return fig\n",
    "\n",
    "def visual_plant(plant1):\n",
    "    subfig = visual_plant_sub(plant1)\n",
    "    fig = make_subplots(\n",
    "    rows=1, cols=1,\n",
    "    specs=[[{'type': 'surface'}]])\n",
    "    fig.add_trace(subfig) \n",
    "    fig.update_layout(scene_aspectmode='data',)\n",
    "    return fig"
   ]
  },
  {
   "cell_type": "markdown",
   "metadata": {},
   "source": [
    "## 4. Read and write parameter files.\n",
    "1. CPlantBox use XML file to parameterize the plant, the file could be a little bit scarry at first glance. However, here I will give you examples to try each parameter. In this way you will know all the parameters quickly.\n",
    "Firstly, we print out all the parameters:"
   ]
  },
  {
   "cell_type": "code",
   "execution_count": null,
   "metadata": {},
   "outputs": [],
   "source": [
    "name= \"PMA2018\" #name of the small plant\n",
    "all_parameter = ET.parse(\"../../modelparameter/{}.xml\".format(name)) # read the parameter file from xml file../\n",
    "plant_parameter = all_parameter.getroot() # get the first level of parameters\n",
    "parameter_options={}\n",
    "parameter_order = 0\n",
    "for organ in plant_parameter.iter('organ'): \n",
    "    list=[]\n",
    "    print(organ.attrib ) # print of parameters\n",
    "    \n",
    "    for parameter in organ.iter('parameter'): \n",
    "        \n",
    "        print(parameter.attrib)\n",
    "        \n",
    "        list.append(parameter.attrib['name']) \n",
    "        parameter_order = parameter_order+1\n",
    "    print(\"\\n\" )\n",
    "    parameter_options[organ.attrib['type']+organ.attrib['subType']] = list"
   ]
  },
  {
   "cell_type": "code",
   "execution_count": null,
   "metadata": {},
   "outputs": [],
   "source": [
    "# here we show what is the plant simulated based on those parameters\n",
    "name= \"PMA2018\"\n",
    "smallplant = CPlantBox(name, time, name) # make a plant object in python\n",
    "fig = visual_plant(smallplant)    \n",
    "fig.show()"
   ]
  },
  {
   "cell_type": "markdown",
   "metadata": {},
   "source": [
    "## 5. Change the length of the Stem\n",
    "### 5.1 lmax: the maximal length\n",
    "Length is controled by six parameters, among them, the maximal length is controled by lmax. if we only change the lmax, the growth will only depends on the time. Lets see what will happend if we only change the lmax of the main stem:"
   ]
  },
  {
   "cell_type": "code",
   "execution_count": null,
   "metadata": {},
   "outputs": [],
   "source": [
    "\n",
    "change_parameter('PMA2018', 'testXML', 'stem', '1', 'lmax', 'value','10')\n",
    "name = 'testXML'\n",
    "smallplant = CPlantBox(name, time, name) # make a plant object in python\n",
    "fig = visual_plant(smallplant)    \n",
    "fig.show()\n",
    "# Try to change the \"10\" to 5\n",
    "change_parameter('PMA2018', 'testXML', 'stem', '1', 'lmax', 'value','5')\n",
    "smallplant = CPlantBox(name, time, name) # make a plant object in python\n",
    "fig = visual_plant(smallplant)    \n",
    "fig.show()"
   ]
  },
  {
   "cell_type": "markdown",
   "metadata": {},
   "source": [
    "### 5.2 lb, ln and la: the parameters controls branching\n",
    "In the previous section, you may notice that, with the increase of the lmax, the length of the main stem increased. But with the increase length of the stem, we also get more leaves. Is it possible to reduce the leaf numbers? There are two ways, first, we could change the lb, lb is the length at bottom without any branching."
   ]
  },
  {
   "cell_type": "code",
   "execution_count": null,
   "metadata": {},
   "outputs": [],
   "source": [
    "# change lb to 3 based on the testXML created in last section\n",
    "name = 'testXML'\n",
    "change_parameter('testXML', 'testXML', 'stem', '1', 'lb', 'value','3')\n",
    "smallplant = CPlantBox(name, time, name) # make a plant object in python\n",
    "fig = visual_plant(smallplant)    \n",
    "fig.show()\n",
    "# now there is 3 branches again"
   ]
  },
  {
   "cell_type": "markdown",
   "metadata": {},
   "source": [
    "### 5.2.2 Let's change the ln to see what will happen?\n",
    "ln is the internode distance"
   ]
  },
  {
   "cell_type": "code",
   "execution_count": null,
   "metadata": {},
   "outputs": [],
   "source": [
    "name = 'testXML'\n",
    "change_parameter('testXML', 'testXML', 'stem', '1', 'ln', 'value','0.3')\n",
    "smallplant = CPlantBox(name, time, name) # make a plant object in python\n",
    "fig = visual_plant(smallplant)    \n",
    "fig.show()"
   ]
  },
  {
   "cell_type": "markdown",
   "metadata": {},
   "source": [
    "### 5.2.2Let's change the la to see what will happen?\n",
    "la is the stem top without branches"
   ]
  },
  {
   "cell_type": "code",
   "execution_count": null,
   "metadata": {},
   "outputs": [],
   "source": [
    "name = 'testXML'\n",
    "change_parameter('testXML', 'testXML', 'stem', '1', 'la', 'value','2')\n",
    "smallplant = CPlantBox(name, time, name) # make a plant object in python\n",
    "fig = visual_plant(smallplant)    \n",
    "fig.show()"
   ]
  },
  {
   "cell_type": "code",
   "execution_count": null,
   "metadata": {},
   "outputs": [],
   "source": [
    "# in addition, the functiontype decides what branching internode distance will be\n",
    "name = 'testXML'\n",
    "change_parameter('testXML', 'testXML', 'stem', '1', 'ln', 'functiontype','1')\n",
    "smallplant = CPlantBox(name, time, name) # make a plant object in python\n",
    "fig = visual_plant(smallplant)    \n",
    "fig.show()"
   ]
  },
  {
   "cell_type": "code",
   "execution_count": null,
   "metadata": {},
   "outputs": [],
   "source": [
    "\n",
    "fig = make_subplots(\n",
    "    rows=3, cols=2,\n",
    "    specs=[[{'type': 'scatter3d'}, {'type': 'scatter3d'}],\n",
    "           [{'type': 'scatter3d'}, {'type': 'scatter3d'}],\n",
    "           [{'type': 'scatter3d'}, {'type': 'scatter3d'}]])\n",
    "\n",
    "name = 'testXML'\n",
    "change_parameter('testXML', 'testXML', 'stem', '1', 'lmax', 'value','20')\n",
    "change_parameter('testXML', 'testXML', 'leaf', '2', 'RotBeta', 'value','1')\n",
    "change_parameter('testXML', 'testXML', 'stem', '1', 'ln', 'functiontype','0')\n",
    "smallplant1 = CPlantBox(name, time, name) # make a plant object in python\n",
    "fig1 = visual_plant_sub(smallplant1,name=\"functiontype 0\")\n",
    "\n",
    "name = 'testXML'\n",
    "change_parameter('testXML', 'testXML', 'stem', '1', 'ln', 'functiontype','1')\n",
    "smallplant2 = CPlantBox(name, time, name) # make a plant object in python\n",
    "fig2 = visual_plant_sub(smallplant2,name=\"functiontype 1\")\n",
    "\n",
    "name = 'testXML'\n",
    "change_parameter('testXML', 'testXML', 'stem', '1', 'ln', 'functiontype','2')\n",
    "smallplant3 = CPlantBox(name, time, name) # make a plant object in python\n",
    "fig3 = visual_plant_sub(smallplant3,name=\"functiontype 2\")\n",
    "\n",
    "name = 'testXML'\n",
    "change_parameter('testXML', 'testXML', 'stem', '1', 'ln', 'functiontype','3')\n",
    "smallplant4 = CPlantBox(name, time, name) # make a plant object in python\n",
    "fig4 = visual_plant_sub(smallplant4,name=\"functiontype 3\")\n",
    "\n",
    "name = 'testXML'\n",
    "change_parameter('testXML', 'testXML', 'stem', '1', 'ln', 'functiontype','2')\n",
    "smallplant5 = CPlantBox(name, time, name) # make a plant object in python\n",
    "fig5 = visual_plant_sub(smallplant3,name=\"functiontype 4\")\n",
    "\n",
    "name = 'testXML'\n",
    "change_parameter('testXML', 'testXML', 'stem', '1', 'ln', 'functiontype','3')\n",
    "smallplant6 = CPlantBox(name, time, name) # make a plant object in python\n",
    "fig6 = visual_plant_sub(smallplant4,name=\"functiontype 5\")\n",
    "\n",
    "fig.add_trace(fig1, 1, 1 )\n",
    "fig.add_trace(fig2, 1, 2)\n",
    "fig.add_trace(fig3, 2, 1)\n",
    "fig.add_trace(fig4, 2, 2)\n",
    "fig.add_trace(fig5, 3, 1)\n",
    "fig.add_trace(fig6, 3, 2)\n",
    "\n",
    "fig.update_layout(\n",
    "    title_text='different RotBeta (function type)',\n",
    "    height=800,\n",
    "    width=800\n",
    ")\n",
    "\n",
    "fig.show()"
   ]
  },
  {
   "cell_type": "markdown",
   "metadata": {},
   "source": [
    "## 6. Change the rotation of the Stem\n",
    "### Rotation Theta (rotaBeta) : the angle between main stem and sub branch\n",
    "### Rotation Beta (rotaBeta) : the angle between two neigbour sub branch\n",
    "the value of Rotation multiply by Pie is the revlution of the neighbouring sub branch."
   ]
  },
  {
   "cell_type": "code",
   "execution_count": null,
   "metadata": {},
   "outputs": [],
   "source": [
    "from plotly.subplots import make_subplots\n",
    "fig = make_subplots(\n",
    "    rows=2, cols=2,\n",
    "    specs=[[{'type': 'scatter3d'}, {'type': 'scatter3d'}],\n",
    "           [{'type': 'scatter3d'}, {'type': 'scatter3d'}]])\n",
    "\n",
    "name = 'testXML'\n",
    "change_parameter('testXML', 'testXML', 'stem', '1', 'lmax', 'value','20')\n",
    "change_parameter('testXML', 'testXML', 'leaf', '2', 'RotBeta', 'value','0')\n",
    "smallplant1 = CPlantBox(name, time, name) # make a plant object in python\n",
    "fig1 = visual_plant_sub(smallplant1,name=\"0 degree rotation\")\n",
    "\n",
    "name = 'testXML'\n",
    "change_parameter('testXML', 'testXML', 'leaf', '2', 'RotBeta', 'value','0.5')\n",
    "smallplant2 = CPlantBox(name, time, name) # make a plant object in python\n",
    "fig2 = visual_plant_sub(smallplant2,name=\"90 degree rotation\")\n",
    "\n",
    "name = 'testXML'\n",
    "change_parameter('testXML', 'testXML', 'leaf', '2', 'RotBeta', 'value','1')\n",
    "smallplant3 = CPlantBox(name, time, name) # make a plant object in python\n",
    "fig3 = visual_plant_sub(smallplant3,name=\"180 degree rotation\")\n",
    "\n",
    "name = 'testXML'\n",
    "change_parameter('testXML', 'testXML', 'leaf', '2', 'RotBeta', 'value','1.5')\n",
    "smallplant4 = CPlantBox(name, time, name) # make a plant object in python\n",
    "fig4 = visual_plant_sub(smallplant4,name=\"270 degree rotation\")\n",
    "\n",
    "fig.add_trace(fig1, 1, 1 )\n",
    "fig.add_trace(fig2, 1, 2)\n",
    "fig.add_trace(fig3, 2, 1)\n",
    "fig.add_trace(fig4, 2, 2)\n",
    "\n",
    "fig.update_layout(\n",
    "    title_text='different RotBeta (function type)',\n",
    "    height=800,\n",
    "    width=800\n",
    ")\n",
    "\n",
    "fig.show()"
   ]
  },
  {
   "cell_type": "markdown",
   "metadata": {},
   "source": [
    "## 7. \n",
    "\n",
    "\n",
    "\n"
   ]
  }
 ],
 "metadata": {
  "accelerator": "GPU",
  "colab": {
   "collapsed_sections": [],
   "name": "CPlantBox-PiafMunch_Tutorial (include installation).ipynb",
   "provenance": [],
   "version": "0.3.2"
  },
  "kernelspec": {
   "display_name": "Python 3",
   "language": "python",
   "name": "python3"
  },
  "language_info": {
   "codemirror_mode": {
    "name": "ipython",
    "version": 3
   },
   "file_extension": ".py",
   "mimetype": "text/x-python",
   "name": "python",
   "nbconvert_exporter": "python",
   "pygments_lexer": "ipython3",
   "version": "3.6.8"
  }
 },
 "nbformat": 4,
 "nbformat_minor": 4
}
