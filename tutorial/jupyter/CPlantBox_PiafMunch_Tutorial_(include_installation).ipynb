{
 "cells": [
  {
   "cell_type": "markdown",
   "metadata": {},
   "source": [
    "# Try CPlantBox with several clicks\n",
    "In this section, you need to \n",
    "1. first click the code block under this block. \n",
    "2. then click triangle button on the left top corner of the code blocks. \n",
    "\n",
    "If the circling triangle finished, please click the next block and run the next block. \n",
    "\n",
    "If you need to learn google colab please follow the link here https://colab.research.google.com/notebooks/welcome.ipynb\n"
   ]
  },
  {
   "cell_type": "code",
   "execution_count": null,
   "metadata": {
    "colab": {},
    "colab_type": "code",
    "id": "GOhVEgo5B5WY"
   },
   "outputs": [],
   "source": [
    "# #<---Click this triangle to load python libraries/ download CPlantBox from GitHub/ Make a plant and visualize it\n",
    "#############loading other python library or packages. Only need to run once at the start.##########\n",
    "import os\n",
    "import sys\n",
    "! pip3 install vtk\n",
    "import vtk\n",
    "from vtk.util import numpy_support as VN\n",
    "\n",
    "############# Download CPlantBox from GitHub #######################################################\n",
    "! git clone https://github.com/Plant-Root-Soil-Interactions-Modelling/CPlantBox # downloading the source code\n",
    "os.chdir(\"/content/CPlantBox/tutorial/jupyter\") # Change to the python directory only for colab (working directory)\n",
    "!rm modelparameter\n",
    "!ln -s /content/CPlantBox/modelparameter/ modelparameter\n",
    "# Loading specific python scripts for CPlantBox and CRootBox\n",
    "from CPlantBox_PiafMunch import *\n",
    "plotly.__version__\n",
    "\n",
    "####################### first we create a Heliantus plant##########################################\n",
    "name = \"Heliantus_Pagès_2013_new.xml\" # parameter name\n",
    "# here are some optional parameter files to be tested\n",
    "# name = \"PMA2018\" # Simulate a small plant with 3 leaves and two lateral root, you can comment the heliantus line and uncomment this line to see what happend.\n",
    "time = 70 # how many days the plant need to grow, make it smaller, for example 15 to see if the plant becomes smaller\n",
    "plant1 = CPlantBox(name, time, name) # make a plant object in python\n",
    "# Visualization\n",
    "fig = visual_plant(plant1)\n",
    "fig.show()\n",
    "# # Congrats! Now you are ready to use the CPlantBox"
   ]
  },
  {
   "cell_type": "markdown",
   "metadata": {},
   "source": [
    "To create different plants, only the last part of the code is needed, we will repeat it in the next block and run it. You can also run the following block many times, if you did not change anything, it will give you the same results, but if you change the name, for example, from \"4_new.xml\" to  \"1_new.xml\", you can see a different plant."
   ]
  },
  {
   "cell_type": "code",
   "execution_count": null,
   "metadata": {},
   "outputs": [],
   "source": [
    "# to create a different plant, we need to repeat those 5 lines of code\n",
    "name = \"1_new.xml\" # parameter name, you could change the '4' to 0-8  and rerun this block\n",
    "# here are some optional parameter files to be tested\n",
    "# name = \"PMA2018\" # Simulate a small plant with 3 leaves and two lateral root, you can comment the heliantus line and uncomment this line to see what happend.\n",
    "time = 70 # how many days the plant need to grow, make it smaller, for example 15 to see if the plant becomes smaller\n",
    "plant1 = CPlantBox(name, time, name) # make a plant object in python\n",
    "# Visualization\n",
    "fig = visual_plant(plant1)\n",
    "fig.show()"
   ]
  },
  {
   "cell_type": "markdown",
   "metadata": {},
   "source": [
    "## 2. Batch usage of CPlantBox\n",
    "1. create several different plant."
   ]
  },
  {
   "cell_type": "code",
   "execution_count": null,
   "metadata": {},
   "outputs": [],
   "source": [
    "for i in range(0,9): \n",
    "    print('starting to create Plant No.{}'.format(i))\n",
    "    plant1 = CPlantBox_analysis('{}_new.xml'.format(str(i)), 180, '{}'.format(str(i)))\n"
   ]
  },
  {
   "cell_type": "markdown",
   "metadata": {},
   "source": []
  },
  {
   "cell_type": "markdown",
   "metadata": {},
   "source": [
    "## 3. Rewrite the visualization function\n"
   ]
  },
  {
   "cell_type": "code",
   "execution_count": null,
   "metadata": {},
   "outputs": [],
   "source": [
    "def visual_plant_sub(plant1,name='plant'):\n",
    "    nodes_cor = python_nodes(plant1) # use the object name created previously to get its coordinates\n",
    "    fig= go.Scatter3d(\n",
    "        x=nodes_cor.T[3],\n",
    "        y=nodes_cor.T[4],\n",
    "        z=nodes_cor.T[5],\n",
    "        mode='markers',\n",
    "        marker=dict(\n",
    "            size=3,\n",
    "            color=nodes_cor.T[1],                # nodes_cor.T[1] is organ type, nodes_cor.T[2] is the connection number of a node \n",
    "            colorscale=[[0, \"wheat\"], #color of the root, change it to \"yellow\" to see the difference\n",
    "                    [0.5, \"darkgreen\"],\n",
    "                    [1.0, \"lightgreen\"],],  opacity=0.8\n",
    "        ), name =name\n",
    "    )\n",
    "\n",
    "    return fig\n",
    "\n",
    "def visual_plant(plant1):\n",
    "    subfig = visual_plant_sub(plant1)\n",
    "    fig = make_subplots(\n",
    "    rows=1, cols=1,\n",
    "    specs=[[{'type': 'surface'}]])\n",
    "    fig.add_trace(subfig) \n",
    "    fig.update_layout(scene_aspectmode='data',)\n",
    "    return fig"
   ]
  },
  {
   "cell_type": "code",
   "execution_count": null,
   "metadata": {},
   "outputs": [],
   "source": [
    "CPlantBox(\"monopodial_new.xml\",120, \"monopodial\")\n",
    "CPlantBox(\"sympodial_dichasium_new.xml\",180, \"sympodial_dichasium\")\n",
    "CPlantBox(\"sympodial_monochasium_new.xml\",110, \"sympodial_monochasium\")\n",
    "CPlantBox(\"leaf_opposite_decussate_new.xml\",180, \"leaf_opposite_decussate\")\n",
    "CPlantBox(\"leaf_alternate_new.xml\",180, \"leaf_alternate\")\n",
    "CPlantBox(\"leaf_spiral_new.xml\",180, \"leaf_spiral\")\n",
    "h_font = {'fontname':'DejaVu Sans Mono'}\n",
    "def plot_vtp(name, indentx, indentz,scale , title, oren):\n",
    "    reader = vtk.vtkXMLPolyDataReader()\n",
    "    path = \"{}.vtp\".format(name) #path or name of the vtp output\n",
    "    reader.SetFileName(path)\n",
    "    reader.Update()\n",
    "    polydata = reader.GetOutput()\n",
    "    vtk_organtype = VN.vtk_to_numpy(reader.GetOutput().GetCellData().GetArray(\"organType\"))\n",
    "    vtk_id = VN.vtk_to_numpy(reader.GetOutput().GetCellData().GetArray(\"id\"))\n",
    "    #vtk_time = VN.vtk_to_numpy(reader.GetOutput().GetPointData().GetArray(\"time\"))\n",
    "    vtk_cor = VN.vtk_to_numpy(reader.GetOutput().GetPoints().GetData())\n",
    "    vtk_line = VN.vtk_to_numpy(reader.GetOutput().GetLines().GetData())\n",
    "# print(vtk_organtype,\"\\n\",vtk_id)\n",
    "    ax.text2D(indentx/13 +0.3, indentz/23+0.57, title,rotation=0 , transform=ax.transAxes, size=20,**h_font)\n",
    "#     ax.set_xlim3d(-0.2,0.2)\n",
    "    for i in range(polydata.GetNumberOfCells()):\n",
    "        pts = polydata.GetCell(i).GetPoints()\n",
    "        \n",
    "        np_pts = np.array([pts.GetPoint(i) for i in range(pts.GetNumberOfPoints())])\n",
    "        x = [ (n)*scale+indentx-1 for n in np_pts[:,0]/100]\n",
    "        \n",
    "        z = [ (n)*scale+indentz for n in np_pts[:,2]/100]\n",
    "\n",
    "        y = [ n*scale for n in np_pts[:,1]/100]\n",
    "        ax.plot3D(x,y,z, c= get_organ_color(vtk_organtype[i]) ,linewidth=2)\n",
    "\n",
    "def get_organ_color(i):\n",
    "    if i == 2:\n",
    "        return \"wheat\"\n",
    "    elif i == 4:\n",
    "        return \"#5b965b\"\n",
    "    elif i == 8:\n",
    "        return \"lightgreen\"\n",
    "    else:\n",
    "        return \"black\";\n",
    "   \n",
    "\n",
    "#name = \"sympodial_dichasium\"\n",
    "plt.rcParams['figure.figsize'] = [20, 40]\n",
    "fig = plt.figure(\"Stem Branching and Leaf Arrangements\")\n",
    "fig.patch.set_alpha(0.)\n",
    "fig.subplots_adjust(hspace=0, wspace=0)\n",
    "ax = fig.add_subplot(int(\"11{}\".format(1)), projection='3d')\n",
    "#plt.axis('image')\n",
    "\n",
    "plt.title(\"\")\n",
    "plt.axis('off')\n",
    "ax.xaxis.pane.fill = False\n",
    "ax.yaxis.pane.fill = False\n",
    "ax.zaxis.pane.fill = False\n",
    "\n",
    "# Now set color to white (or whatever is \"invisible\")\n",
    "ax.xaxis.pane.set_edgecolor('w')\n",
    "ax.yaxis.pane.set_edgecolor('w')\n",
    "ax.zaxis.pane.set_edgecolor('w')\n",
    "ax.view_init(45, 270)\n",
    "ax.set_xlabel('')\n",
    "ax.set_ylabel('')\n",
    "ax.set_zlabel('')\n",
    "\n",
    "#ax.set_ylim3d(0,2)\n",
    "#ax.set_zlim3d(-1.5,0.5)\n",
    "ax.set_yticklabels([])\n",
    "ax.set_xticklabels([])\n",
    "ax.set_zticklabels([])\n",
    "ax.grid(False)\n",
    "plot_vtp(\"monopodial\",0,0,1,\"Monopodial\",1)\n",
    "\n",
    "plot_vtp(\"sympodial_dichasium\",2,0,1,\" Sympodial \\n dichasium\",1)\n",
    "plot_vtp(\"sympodial_monochasium\",4,0,1,\" Sympodial \\n monochasium\",0.5)\n",
    "\n",
    "\n",
    "plot_vtp(\"leaf_opposite_decussate\",0,-5,50, \" Opposite\\n decussate\",1)\n",
    "plot_vtp(\"leaf_alternate\",2,-5,50, \"Alternate\",1)\n",
    "plot_vtp(\"leaf_spiral\",4,-5,50, \"Spiral\" ,-1)\n",
    "ax.text2D(0/13 +0.3, 3/23+0.57, \"A\",rotation=0 , transform=ax.transAxes, size=30, **h_font)\n",
    "ax.text2D(0/13 +0.3, -1.9/23+0.57, \"B\",rotation=0 , transform=ax.transAxes, size=30, **h_font)\n",
    "\n",
    "ax.text2D(6/13 +0.3, 2.2/23+0.57, \"Branching Patterns\",rotation=90 , transform=ax.transAxes, size=30, **h_font)\n",
    "ax.text2D(6/13 +0.3, -2.2/23+0.57, \"Leaf Arrangements\",rotation=90 , transform=ax.transAxes, size=30, **h_font)\n"
   ]
  },
  {
   "cell_type": "markdown",
   "metadata": {},
   "source": [
    "## 4. Read and write parameter files.\n",
    "1. CPlantBox use XML file to parameterize the plant, the file could be a little bit scarry at first glance. However, here I will give you examples to try each parameter. In this way you will know all the parameters quickly.\n",
    "Firstly, we print out all the parameters:"
   ]
  },
  {
   "cell_type": "code",
   "execution_count": 15,
   "metadata": {},
   "outputs": [
    {
     "name": "stdout",
     "output_type": "stream",
     "text": [
      "{'type': 'seed', 'name': 'true', 'subType': '0'}\n",
      "{'name': 'seedPos.x', 'value': '0'}\n",
      "{'name': 'seedPos.y', 'value': '0'}\n",
      "{'name': 'seedPos.z', 'value': '-3'}\n",
      "{'name': 'plantingdepth', 'value': '3'}\n",
      "{'name': 'firstB', 'value': '0', 'dev': '0'}\n",
      "{'name': 'delayB', 'value': '0', 'dev': '0'}\n",
      "{'name': 'maxB', 'value': '0', 'dev': '0'}\n",
      "{'name': 'maxTi', 'value': '0', 'dev': '0'}\n",
      "{'name': 'nC', 'value': '2'}\n",
      "{'name': 'nz', 'value': '0'}\n",
      "{'name': 'firstSB', 'value': '14', 'dev': '0'}\n",
      "{'name': 'delaySB', 'value': '0', 'dev': '0'}\n",
      "{'name': 'delayRC', 'value': '7', 'dev': '0'}\n",
      "{'name': 'simulationTime', 'value': '56', 'dev': '0'}\n",
      "\n",
      "\n",
      "{'type': 'root', 'name': 'taproot', 'subType': '1'}\n",
      "{'name': 'lb', 'value': '1', 'dev': '0'}\n",
      "{'name': 'la', 'value': '2', 'dev': '0'}\n",
      "{'name': 'ln', 'value': '3', 'dev': '0'}\n",
      "{'name': 'lmax', 'value': '4.0999999999999996', 'dev': '0'}\n",
      "{'name': 'nob', 'value': '1.3666666666666665', 'dev': '0'}\n",
      "{'name': 'r', 'value': '4.5', 'dev': '0.45000000000000001'}\n",
      "{'name': 'a', 'value': '0.20000000000000001', 'dev': '0.02'}\n",
      "{'name': 'RotBeta', 'value': '1'}\n",
      "{'name': 'BetaDev', 'value': '0'}\n",
      "{'name': 'InitBeta', 'value': '0'}\n",
      "{'name': 'tropismT', 'value': '1'}\n",
      "{'name': 'tropismN', 'value': '1'}\n",
      "{'name': 'tropismS', 'value': '0.261799'}\n",
      "{'name': 'dx', 'value': '0.25'}\n",
      "{'name': 'theta', 'value': '0', 'dev': '0'}\n",
      "{'name': 'rlt', 'value': '1000000000', 'dev': '0'}\n",
      "{'name': 'gf', 'value': '1'}\n",
      "{'name': 'successor', 'number': '0', 'type': '2', 'percentage': '1'}\n",
      "\n",
      "\n",
      "{'type': 'root', 'name': 'lateral1', 'subType': '2'}\n",
      "{'name': 'lb', 'value': '0.10000000000000001', 'dev': '0'}\n",
      "{'name': 'la', 'value': '1.76', 'dev': '0'}\n",
      "{'name': 'ln', 'value': '0.10000000000000001', 'dev': '0'}\n",
      "{'name': 'lmax', 'value': '1.76', 'dev': '0'}\n",
      "{'name': 'nob', 'value': '0', 'dev': '0'}\n",
      "{'name': 'r', 'value': '0.34999999999999998', 'dev': '0.035000000000000003'}\n",
      "{'name': 'a', 'value': '0.012500000000000001', 'dev': '0.00125'}\n",
      "{'name': 'RotBeta', 'value': '1'}\n",
      "{'name': 'BetaDev', 'value': '1'}\n",
      "{'name': 'InitBeta', 'value': '0'}\n",
      "{'name': 'tropismT', 'value': '2'}\n",
      "{'name': 'tropismN', 'value': '2'}\n",
      "{'name': 'tropismS', 'value': '0.52359900000000004'}\n",
      "{'name': 'dx', 'value': '0.25'}\n",
      "{'name': 'theta', 'value': '1.22173', 'dev': '0'}\n",
      "{'name': 'rlt', 'value': '1000000000', 'dev': '0'}\n",
      "{'name': 'gf', 'value': '1'}\n",
      "\n",
      "\n",
      "{'type': 'stem', 'name': 'mainstem', 'subType': '1'}\n",
      "{'name': 'lb', 'value': '0.69999999999999996', 'dev': '0'}\n",
      "{'name': 'la', 'value': '0', 'dev': '0'}\n",
      "{'name': 'ln', 'value': '0.69999999999999996', 'dev': '0', 'functiontype': '0'}\n",
      "{'name': 'lmax', 'value': '2.1000000000000001', 'dev': '0'}\n",
      "{'name': 'nob', 'value': '3.0000000000000004', 'dev': '0'}\n",
      "{'name': 'r', 'value': '10', 'dev': '0'}\n",
      "{'name': 'a', 'value': '0.20000000000000001', 'dev': '0.02'}\n",
      "{'name': 'RotBeta', 'value': '1'}\n",
      "{'name': 'BetaDev', 'value': '0'}\n",
      "{'name': 'InitBeta', 'value': '0'}\n",
      "{'name': 'tropismT', 'value': '0'}\n",
      "{'name': 'tropismN', 'value': '1'}\n",
      "{'name': 'tropismS', 'value': '0'}\n",
      "{'name': 'dx', 'value': '0.25'}\n",
      "{'name': 'theta', 'value': '0', 'dev': '0'}\n",
      "{'name': 'rlt', 'value': '1000000000', 'dev': '0'}\n",
      "{'name': 'gf', 'value': '1'}\n",
      "{'name': 'successor', 'number': '0', 'type': '2', 'percentage': '1'}\n",
      "\n",
      "\n",
      "{'type': 'stem', 'name': '1stbranch', 'subType': '2'}\n",
      "{'name': 'lb', 'value': '0', 'dev': '0'}\n",
      "{'name': 'la', 'value': '0', 'dev': '0'}\n",
      "{'name': 'ln', 'value': '0', 'dev': '0', 'functiontype': '0'}\n",
      "{'name': 'lmax', 'value': '15', 'dev': '0'}\n",
      "{'name': 'nob', 'value': '0', 'dev': '0'}\n",
      "{'name': 'r', 'value': '10', 'dev': '0'}\n",
      "{'name': 'a', 'value': '0.20000000000000001', 'dev': '0.02'}\n",
      "{'name': 'RotBeta', 'value': '1'}\n",
      "{'name': 'BetaDev', 'value': '0'}\n",
      "{'name': 'InitBeta', 'value': '0'}\n",
      "{'name': 'tropismT', 'value': '0'}\n",
      "{'name': 'tropismN', 'value': '1'}\n",
      "{'name': 'tropismS', 'value': '0'}\n",
      "{'name': 'dx', 'value': '0.25'}\n",
      "{'name': 'theta', 'value': '0.20000000000000001', 'dev': '0'}\n",
      "{'name': 'rlt', 'value': '1000000000', 'dev': '0'}\n",
      "{'name': 'gf', 'value': '1'}\n",
      "\n",
      "\n",
      "{'type': 'leaf', 'name': 'lateral1', 'subType': '2'}\n",
      "{'name': 'lb', 'value': '1', 'dev': '0'}\n",
      "{'name': 'la', 'value': '1', 'dev': '0'}\n",
      "{'name': 'ln', 'value': '0', 'dev': '0', 'functiontype': '0'}\n",
      "{'name': 'lmax', 'value': '2', 'dev': '0'}\n",
      "{'name': 'nob', 'value': '0', 'dev': '0'}\n",
      "{'name': 'r', 'value': '1.5', 'dev': '0'}\n",
      "{'name': 'a', 'value': '0.02', 'dev': '0.002'}\n",
      "{'name': 'RotBeta', 'value': '1'}\n",
      "{'name': 'BetaDev', 'value': '0'}\n",
      "{'name': 'InitBeta', 'value': '0'}\n",
      "{'name': 'tropismT', 'value': '1'}\n",
      "{'name': 'tropismN', 'value': '3'}\n",
      "{'name': 'tropismS', 'value': '0'}\n",
      "{'name': 'dx', 'value': '0.25'}\n",
      "{'name': 'theta', 'value': '0.29999999999999999', 'dev': '0'}\n",
      "{'name': 'rlt', 'value': '1000000000', 'dev': '0'}\n",
      "{'name': 'gf', 'value': '1'}\n",
      "\n",
      "\n"
     ]
    }
   ],
   "source": [
    "# check parameters in xml files\n",
    "name= \"PMA2018_new\" #name of the small plant\n",
    "all_parameter = ET.parse(\"../../modelparameter/plant/{}.xml\".format(name)) # read the parameter file from xml file\n",
    "plant_parameter = all_parameter.getroot() # get the first level of parameters\n",
    "parameter_options={}\n",
    "parameter_order = 0\n",
    "for organ in plant_parameter.iter('organ'): \n",
    "    list=[]\n",
    "    print(organ.attrib ) # print of parameters\n",
    "    \n",
    "    for parameter in organ.iter('parameter'): \n",
    "        \n",
    "        print(parameter.attrib)\n",
    "        \n",
    "        list.append(parameter.attrib['name']) \n",
    "        parameter_order = parameter_order+1\n",
    "    print(\"\\n\" )\n",
    "    parameter_options[organ.attrib['type']+organ.attrib['subType']] = list\n",
    "\n"
   ]
  },
  {
   "cell_type": "code",
   "execution_count": 17,
   "metadata": {},
   "outputs": [
    {
     "data": {
      "application/vnd.plotly.v1+json": {
       "config": {
        "plotlyServerURL": "https://plot.ly"
       },
       "data": [
        {
         "marker": {
          "color": [
           2,
           2,
           2,
           2,
           2,
           2,
           2,
           2,
           2,
           2,
           2,
           2,
           2,
           3,
           3,
           3,
           4,
           4,
           4,
           4,
           4,
           4,
           4,
           4,
           3,
           3,
           3,
           3,
           3,
           3
          ],
          "colorscale": [
           [
            0,
            "wheat"
           ],
           [
            0.5,
            "darkgreen"
           ],
           [
            1,
            "lightgreen"
           ]
          ],
          "opacity": 0.8,
          "size": 3
         },
         "mode": "markers",
         "name": "plant",
         "type": "scatter3d",
         "x": [
          0,
          7.794753924379033e-05,
          0.0001060759024673127,
          0.00013713543348862738,
          0.00030995262016305297,
          0.0005047606783444971,
          0.0010781473881692168,
          0.0017259499312804027,
          0.0021955290379196287,
          0.0023652294635836675,
          0.0025683124684302283,
          0.0029388302969843914,
          0.003464107353785106,
          0,
          0,
          0,
          0.0020225424859373685,
          0.004045084971874737,
          0.006067627457812106,
          0.008090169943749474,
          0.010112712429686843,
          0.012135254915624212,
          0.01415779740156158,
          0.016180339887498948,
          0,
          0,
          0,
          0,
          0,
          0
         ],
         "y": [
          0,
          -8.065188437120581e-05,
          0.00010480219797272455,
          0.0002942780252989957,
          0.00027499991447865356,
          0.00032770570317072013,
          -0.0001413431840375628,
          -0.0005097790718009799,
          -0.0007136241267067983,
          -0.0007900053610883689,
          -0.000861888782719117,
          -0.0011074417235737643,
          -0.0010259905261139424,
          0,
          0,
          0,
          -2.476900181542729e-19,
          -4.953800363085458e-19,
          -7.430700544628187e-19,
          -9.907600726170917e-19,
          -1.2384500907713647e-18,
          -1.4861401089256375e-18,
          -1.7338301270799105e-18,
          -1.981520145234183e-18,
          0,
          0,
          0,
          0,
          0,
          0
         ],
         "z": [
          -0.03,
          -0.03249748262349775,
          -0.034990435807679986,
          -0.03748305174608521,
          -0.03997699692880939,
          -0.04246883799924425,
          -0.04485656093593625,
          -0.04724289847738898,
          -0.049689925787452835,
          -0.05218298970010405,
          -0.054673690418142476,
          -0.05713385713850132,
          -0.059576693546456456,
          -0.0275,
          -0.025,
          -0.023,
          -0.021530536869268816,
          -0.020061073738537633,
          -0.01859161060780645,
          -0.017122147477075265,
          -0.015652684346344082,
          -0.014183221215612898,
          -0.012713758084881715,
          -0.011244294954150531,
          -0.020499999999999997,
          -0.018,
          -0.016,
          -0.013499999999999998,
          -0.011,
          -0.009000000000000001
         ]
        }
       ],
       "layout": {
        "autosize": true,
        "scene": {
         "aspectmode": "data",
         "aspectratio": {
          "x": 1.533590619090744,
          "y": 0.13602487005653177,
          "z": 4.79371529317499
         },
         "camera": {
          "center": {
           "x": 0,
           "y": 0,
           "z": 0
          },
          "eye": {
           "x": 8.907021713046085,
           "y": 25.86786934672315,
           "z": -9.279261149771928
          },
          "projection": {
           "type": "perspective"
          },
          "up": {
           "x": 0,
           "y": 0,
           "z": 1
          }
         },
         "domain": {
          "x": [
           0,
           1
          ],
          "y": [
           0,
           1
          ]
         }
        },
        "template": {
         "data": {
          "bar": [
           {
            "error_x": {
             "color": "#2a3f5f"
            },
            "error_y": {
             "color": "#2a3f5f"
            },
            "marker": {
             "line": {
              "color": "#E5ECF6",
              "width": 0.5
             }
            },
            "type": "bar"
           }
          ],
          "barpolar": [
           {
            "marker": {
             "line": {
              "color": "#E5ECF6",
              "width": 0.5
             }
            },
            "type": "barpolar"
           }
          ],
          "carpet": [
           {
            "aaxis": {
             "endlinecolor": "#2a3f5f",
             "gridcolor": "white",
             "linecolor": "white",
             "minorgridcolor": "white",
             "startlinecolor": "#2a3f5f"
            },
            "baxis": {
             "endlinecolor": "#2a3f5f",
             "gridcolor": "white",
             "linecolor": "white",
             "minorgridcolor": "white",
             "startlinecolor": "#2a3f5f"
            },
            "type": "carpet"
           }
          ],
          "choropleth": [
           {
            "colorbar": {
             "outlinewidth": 0,
             "ticks": ""
            },
            "type": "choropleth"
           }
          ],
          "contour": [
           {
            "colorbar": {
             "outlinewidth": 0,
             "ticks": ""
            },
            "colorscale": [
             [
              0,
              "#0d0887"
             ],
             [
              0.1111111111111111,
              "#46039f"
             ],
             [
              0.2222222222222222,
              "#7201a8"
             ],
             [
              0.3333333333333333,
              "#9c179e"
             ],
             [
              0.4444444444444444,
              "#bd3786"
             ],
             [
              0.5555555555555556,
              "#d8576b"
             ],
             [
              0.6666666666666666,
              "#ed7953"
             ],
             [
              0.7777777777777778,
              "#fb9f3a"
             ],
             [
              0.8888888888888888,
              "#fdca26"
             ],
             [
              1,
              "#f0f921"
             ]
            ],
            "type": "contour"
           }
          ],
          "contourcarpet": [
           {
            "colorbar": {
             "outlinewidth": 0,
             "ticks": ""
            },
            "type": "contourcarpet"
           }
          ],
          "heatmap": [
           {
            "colorbar": {
             "outlinewidth": 0,
             "ticks": ""
            },
            "colorscale": [
             [
              0,
              "#0d0887"
             ],
             [
              0.1111111111111111,
              "#46039f"
             ],
             [
              0.2222222222222222,
              "#7201a8"
             ],
             [
              0.3333333333333333,
              "#9c179e"
             ],
             [
              0.4444444444444444,
              "#bd3786"
             ],
             [
              0.5555555555555556,
              "#d8576b"
             ],
             [
              0.6666666666666666,
              "#ed7953"
             ],
             [
              0.7777777777777778,
              "#fb9f3a"
             ],
             [
              0.8888888888888888,
              "#fdca26"
             ],
             [
              1,
              "#f0f921"
             ]
            ],
            "type": "heatmap"
           }
          ],
          "heatmapgl": [
           {
            "colorbar": {
             "outlinewidth": 0,
             "ticks": ""
            },
            "colorscale": [
             [
              0,
              "#0d0887"
             ],
             [
              0.1111111111111111,
              "#46039f"
             ],
             [
              0.2222222222222222,
              "#7201a8"
             ],
             [
              0.3333333333333333,
              "#9c179e"
             ],
             [
              0.4444444444444444,
              "#bd3786"
             ],
             [
              0.5555555555555556,
              "#d8576b"
             ],
             [
              0.6666666666666666,
              "#ed7953"
             ],
             [
              0.7777777777777778,
              "#fb9f3a"
             ],
             [
              0.8888888888888888,
              "#fdca26"
             ],
             [
              1,
              "#f0f921"
             ]
            ],
            "type": "heatmapgl"
           }
          ],
          "histogram": [
           {
            "marker": {
             "colorbar": {
              "outlinewidth": 0,
              "ticks": ""
             }
            },
            "type": "histogram"
           }
          ],
          "histogram2d": [
           {
            "colorbar": {
             "outlinewidth": 0,
             "ticks": ""
            },
            "colorscale": [
             [
              0,
              "#0d0887"
             ],
             [
              0.1111111111111111,
              "#46039f"
             ],
             [
              0.2222222222222222,
              "#7201a8"
             ],
             [
              0.3333333333333333,
              "#9c179e"
             ],
             [
              0.4444444444444444,
              "#bd3786"
             ],
             [
              0.5555555555555556,
              "#d8576b"
             ],
             [
              0.6666666666666666,
              "#ed7953"
             ],
             [
              0.7777777777777778,
              "#fb9f3a"
             ],
             [
              0.8888888888888888,
              "#fdca26"
             ],
             [
              1,
              "#f0f921"
             ]
            ],
            "type": "histogram2d"
           }
          ],
          "histogram2dcontour": [
           {
            "colorbar": {
             "outlinewidth": 0,
             "ticks": ""
            },
            "colorscale": [
             [
              0,
              "#0d0887"
             ],
             [
              0.1111111111111111,
              "#46039f"
             ],
             [
              0.2222222222222222,
              "#7201a8"
             ],
             [
              0.3333333333333333,
              "#9c179e"
             ],
             [
              0.4444444444444444,
              "#bd3786"
             ],
             [
              0.5555555555555556,
              "#d8576b"
             ],
             [
              0.6666666666666666,
              "#ed7953"
             ],
             [
              0.7777777777777778,
              "#fb9f3a"
             ],
             [
              0.8888888888888888,
              "#fdca26"
             ],
             [
              1,
              "#f0f921"
             ]
            ],
            "type": "histogram2dcontour"
           }
          ],
          "mesh3d": [
           {
            "colorbar": {
             "outlinewidth": 0,
             "ticks": ""
            },
            "type": "mesh3d"
           }
          ],
          "parcoords": [
           {
            "line": {
             "colorbar": {
              "outlinewidth": 0,
              "ticks": ""
             }
            },
            "type": "parcoords"
           }
          ],
          "scatter": [
           {
            "marker": {
             "colorbar": {
              "outlinewidth": 0,
              "ticks": ""
             }
            },
            "type": "scatter"
           }
          ],
          "scatter3d": [
           {
            "line": {
             "colorbar": {
              "outlinewidth": 0,
              "ticks": ""
             }
            },
            "marker": {
             "colorbar": {
              "outlinewidth": 0,
              "ticks": ""
             }
            },
            "type": "scatter3d"
           }
          ],
          "scattercarpet": [
           {
            "marker": {
             "colorbar": {
              "outlinewidth": 0,
              "ticks": ""
             }
            },
            "type": "scattercarpet"
           }
          ],
          "scattergeo": [
           {
            "marker": {
             "colorbar": {
              "outlinewidth": 0,
              "ticks": ""
             }
            },
            "type": "scattergeo"
           }
          ],
          "scattergl": [
           {
            "marker": {
             "colorbar": {
              "outlinewidth": 0,
              "ticks": ""
             }
            },
            "type": "scattergl"
           }
          ],
          "scattermapbox": [
           {
            "marker": {
             "colorbar": {
              "outlinewidth": 0,
              "ticks": ""
             }
            },
            "type": "scattermapbox"
           }
          ],
          "scatterpolar": [
           {
            "marker": {
             "colorbar": {
              "outlinewidth": 0,
              "ticks": ""
             }
            },
            "type": "scatterpolar"
           }
          ],
          "scatterpolargl": [
           {
            "marker": {
             "colorbar": {
              "outlinewidth": 0,
              "ticks": ""
             }
            },
            "type": "scatterpolargl"
           }
          ],
          "scatterternary": [
           {
            "marker": {
             "colorbar": {
              "outlinewidth": 0,
              "ticks": ""
             }
            },
            "type": "scatterternary"
           }
          ],
          "surface": [
           {
            "colorbar": {
             "outlinewidth": 0,
             "ticks": ""
            },
            "colorscale": [
             [
              0,
              "#0d0887"
             ],
             [
              0.1111111111111111,
              "#46039f"
             ],
             [
              0.2222222222222222,
              "#7201a8"
             ],
             [
              0.3333333333333333,
              "#9c179e"
             ],
             [
              0.4444444444444444,
              "#bd3786"
             ],
             [
              0.5555555555555556,
              "#d8576b"
             ],
             [
              0.6666666666666666,
              "#ed7953"
             ],
             [
              0.7777777777777778,
              "#fb9f3a"
             ],
             [
              0.8888888888888888,
              "#fdca26"
             ],
             [
              1,
              "#f0f921"
             ]
            ],
            "type": "surface"
           }
          ],
          "table": [
           {
            "cells": {
             "fill": {
              "color": "#EBF0F8"
             },
             "line": {
              "color": "white"
             }
            },
            "header": {
             "fill": {
              "color": "#C8D4E3"
             },
             "line": {
              "color": "white"
             }
            },
            "type": "table"
           }
          ]
         },
         "layout": {
          "annotationdefaults": {
           "arrowcolor": "#2a3f5f",
           "arrowhead": 0,
           "arrowwidth": 1
          },
          "colorscale": {
           "diverging": [
            [
             0,
             "#8e0152"
            ],
            [
             0.1,
             "#c51b7d"
            ],
            [
             0.2,
             "#de77ae"
            ],
            [
             0.3,
             "#f1b6da"
            ],
            [
             0.4,
             "#fde0ef"
            ],
            [
             0.5,
             "#f7f7f7"
            ],
            [
             0.6,
             "#e6f5d0"
            ],
            [
             0.7,
             "#b8e186"
            ],
            [
             0.8,
             "#7fbc41"
            ],
            [
             0.9,
             "#4d9221"
            ],
            [
             1,
             "#276419"
            ]
           ],
           "sequential": [
            [
             0,
             "#0d0887"
            ],
            [
             0.1111111111111111,
             "#46039f"
            ],
            [
             0.2222222222222222,
             "#7201a8"
            ],
            [
             0.3333333333333333,
             "#9c179e"
            ],
            [
             0.4444444444444444,
             "#bd3786"
            ],
            [
             0.5555555555555556,
             "#d8576b"
            ],
            [
             0.6666666666666666,
             "#ed7953"
            ],
            [
             0.7777777777777778,
             "#fb9f3a"
            ],
            [
             0.8888888888888888,
             "#fdca26"
            ],
            [
             1,
             "#f0f921"
            ]
           ],
           "sequentialminus": [
            [
             0,
             "#0d0887"
            ],
            [
             0.1111111111111111,
             "#46039f"
            ],
            [
             0.2222222222222222,
             "#7201a8"
            ],
            [
             0.3333333333333333,
             "#9c179e"
            ],
            [
             0.4444444444444444,
             "#bd3786"
            ],
            [
             0.5555555555555556,
             "#d8576b"
            ],
            [
             0.6666666666666666,
             "#ed7953"
            ],
            [
             0.7777777777777778,
             "#fb9f3a"
            ],
            [
             0.8888888888888888,
             "#fdca26"
            ],
            [
             1,
             "#f0f921"
            ]
           ]
          },
          "colorway": [
           "#636efa",
           "#EF553B",
           "#00cc96",
           "#ab63fa",
           "#FFA15A",
           "#19d3f3",
           "#FF6692",
           "#B6E880",
           "#FF97FF",
           "#FECB52"
          ],
          "font": {
           "color": "#2a3f5f"
          },
          "geo": {
           "bgcolor": "white",
           "lakecolor": "white",
           "landcolor": "#E5ECF6",
           "showlakes": true,
           "showland": true,
           "subunitcolor": "white"
          },
          "hoverlabel": {
           "align": "left"
          },
          "hovermode": "closest",
          "mapbox": {
           "style": "light"
          },
          "paper_bgcolor": "white",
          "plot_bgcolor": "#E5ECF6",
          "polar": {
           "angularaxis": {
            "gridcolor": "white",
            "linecolor": "white",
            "ticks": ""
           },
           "bgcolor": "#E5ECF6",
           "radialaxis": {
            "gridcolor": "white",
            "linecolor": "white",
            "ticks": ""
           }
          },
          "scene": {
           "xaxis": {
            "backgroundcolor": "#E5ECF6",
            "gridcolor": "white",
            "gridwidth": 2,
            "linecolor": "white",
            "showbackground": true,
            "ticks": "",
            "zerolinecolor": "white"
           },
           "yaxis": {
            "backgroundcolor": "#E5ECF6",
            "gridcolor": "white",
            "gridwidth": 2,
            "linecolor": "white",
            "showbackground": true,
            "ticks": "",
            "zerolinecolor": "white"
           },
           "zaxis": {
            "backgroundcolor": "#E5ECF6",
            "gridcolor": "white",
            "gridwidth": 2,
            "linecolor": "white",
            "showbackground": true,
            "ticks": "",
            "zerolinecolor": "white"
           }
          },
          "shapedefaults": {
           "line": {
            "color": "#2a3f5f"
           }
          },
          "ternary": {
           "aaxis": {
            "gridcolor": "white",
            "linecolor": "white",
            "ticks": ""
           },
           "baxis": {
            "gridcolor": "white",
            "linecolor": "white",
            "ticks": ""
           },
           "bgcolor": "#E5ECF6",
           "caxis": {
            "gridcolor": "white",
            "linecolor": "white",
            "ticks": ""
           }
          },
          "title": {
           "x": 0.05
          },
          "xaxis": {
           "automargin": true,
           "gridcolor": "white",
           "linecolor": "white",
           "ticks": "",
           "zerolinecolor": "white",
           "zerolinewidth": 2
          },
          "yaxis": {
           "automargin": true,
           "gridcolor": "white",
           "linecolor": "white",
           "ticks": "",
           "zerolinecolor": "white",
           "zerolinewidth": 2
          }
         }
        }
       }
      },
      "image/png": "[encoded data removed]",
      "text/html": [
       "<div>\n",
       "        \n",
       "        \n",
       "            <div id=\"4cf7b551-aff5-4e27-9005-bd8d5b01a376\" class=\"plotly-graph-div\" style=\"height:525px; width:100%;\"></div>\n",
       "            <script type=\"text/javascript\">\n",
       "                require([\"plotly\"], function(Plotly) {\n",
       "                    window.PLOTLYENV=window.PLOTLYENV || {};\n",
       "                    \n",
       "                if (document.getElementById(\"4cf7b551-aff5-4e27-9005-bd8d5b01a376\")) {\n",
       "                    Plotly.newPlot(\n",
       "                        '4cf7b551-aff5-4e27-9005-bd8d5b01a376',\n",
       "                        [{\"marker\": {\"color\": [2.0, 2.0, 2.0, 2.0, 2.0, 2.0, 2.0, 2.0, 2.0, 2.0, 2.0, 2.0, 2.0, 3.0, 3.0, 3.0, 4.0, 4.0, 4.0, 4.0, 4.0, 4.0, 4.0, 4.0, 3.0, 3.0, 3.0, 3.0, 3.0, 3.0], \"colorscale\": [[0, \"wheat\"], [0.5, \"darkgreen\"], [1.0, \"lightgreen\"]], \"opacity\": 0.8, \"size\": 3}, \"mode\": \"markers\", \"name\": \"plant\", \"type\": \"scatter3d\", \"x\": [0.0, 7.794753924379033e-05, 0.0001060759024673127, 0.00013713543348862738, 0.00030995262016305297, 0.0005047606783444971, 0.0010781473881692168, 0.0017259499312804027, 0.0021955290379196287, 0.0023652294635836675, 0.0025683124684302283, 0.0029388302969843914, 0.003464107353785106, 0.0, 0.0, 0.0, 0.0020225424859373685, 0.004045084971874737, 0.006067627457812106, 0.008090169943749474, 0.010112712429686843, 0.012135254915624212, 0.01415779740156158, 0.016180339887498948, 0.0, 0.0, 0.0, 0.0, 0.0, 0.0], \"y\": [0.0, -8.065188437120581e-05, 0.00010480219797272455, 0.0002942780252989957, 0.00027499991447865356, 0.00032770570317072013, -0.0001413431840375628, -0.0005097790718009799, -0.0007136241267067983, -0.0007900053610883689, -0.000861888782719117, -0.0011074417235737643, -0.0010259905261139424, 0.0, 0.0, 0.0, -2.476900181542729e-19, -4.953800363085458e-19, -7.430700544628187e-19, -9.907600726170917e-19, -1.2384500907713647e-18, -1.4861401089256375e-18, -1.7338301270799105e-18, -1.981520145234183e-18, 0.0, 0.0, 0.0, 0.0, 0.0, 0.0], \"z\": [-0.03, -0.03249748262349775, -0.034990435807679986, -0.03748305174608521, -0.03997699692880939, -0.04246883799924425, -0.04485656093593625, -0.04724289847738898, -0.049689925787452835, -0.05218298970010405, -0.054673690418142476, -0.05713385713850132, -0.059576693546456456, -0.0275, -0.025, -0.023, -0.021530536869268816, -0.020061073738537633, -0.01859161060780645, -0.017122147477075265, -0.015652684346344082, -0.014183221215612898, -0.012713758084881715, -0.011244294954150531, -0.020499999999999997, -0.018, -0.016, -0.013499999999999998, -0.011, -0.009000000000000001]}],\n",
       "                        {\"scene\": {\"aspectmode\": \"data\", \"domain\": {\"x\": [0.0, 1.0], \"y\": [0.0, 1.0]}}, \"template\": {\"data\": {\"bar\": [{\"error_x\": {\"color\": \"#2a3f5f\"}, \"error_y\": {\"color\": \"#2a3f5f\"}, \"marker\": {\"line\": {\"color\": \"#E5ECF6\", \"width\": 0.5}}, \"type\": \"bar\"}], \"barpolar\": [{\"marker\": {\"line\": {\"color\": \"#E5ECF6\", \"width\": 0.5}}, \"type\": \"barpolar\"}], \"carpet\": [{\"aaxis\": {\"endlinecolor\": \"#2a3f5f\", \"gridcolor\": \"white\", \"linecolor\": \"white\", \"minorgridcolor\": \"white\", \"startlinecolor\": \"#2a3f5f\"}, \"baxis\": {\"endlinecolor\": \"#2a3f5f\", \"gridcolor\": \"white\", \"linecolor\": \"white\", \"minorgridcolor\": \"white\", \"startlinecolor\": \"#2a3f5f\"}, \"type\": \"carpet\"}], \"choropleth\": [{\"colorbar\": {\"outlinewidth\": 0, \"ticks\": \"\"}, \"type\": \"choropleth\"}], \"contour\": [{\"colorbar\": {\"outlinewidth\": 0, \"ticks\": \"\"}, \"colorscale\": [[0.0, \"#0d0887\"], [0.1111111111111111, \"#46039f\"], [0.2222222222222222, \"#7201a8\"], [0.3333333333333333, \"#9c179e\"], [0.4444444444444444, \"#bd3786\"], [0.5555555555555556, \"#d8576b\"], [0.6666666666666666, \"#ed7953\"], [0.7777777777777778, \"#fb9f3a\"], [0.8888888888888888, \"#fdca26\"], [1.0, \"#f0f921\"]], \"type\": \"contour\"}], \"contourcarpet\": [{\"colorbar\": {\"outlinewidth\": 0, \"ticks\": \"\"}, \"type\": \"contourcarpet\"}], \"heatmap\": [{\"colorbar\": {\"outlinewidth\": 0, \"ticks\": \"\"}, \"colorscale\": [[0.0, \"#0d0887\"], [0.1111111111111111, \"#46039f\"], [0.2222222222222222, \"#7201a8\"], [0.3333333333333333, \"#9c179e\"], [0.4444444444444444, \"#bd3786\"], [0.5555555555555556, \"#d8576b\"], [0.6666666666666666, \"#ed7953\"], [0.7777777777777778, \"#fb9f3a\"], [0.8888888888888888, \"#fdca26\"], [1.0, \"#f0f921\"]], \"type\": \"heatmap\"}], \"heatmapgl\": [{\"colorbar\": {\"outlinewidth\": 0, \"ticks\": \"\"}, \"colorscale\": [[0.0, \"#0d0887\"], [0.1111111111111111, \"#46039f\"], [0.2222222222222222, \"#7201a8\"], [0.3333333333333333, \"#9c179e\"], [0.4444444444444444, \"#bd3786\"], [0.5555555555555556, \"#d8576b\"], [0.6666666666666666, \"#ed7953\"], [0.7777777777777778, \"#fb9f3a\"], [0.8888888888888888, \"#fdca26\"], [1.0, \"#f0f921\"]], \"type\": \"heatmapgl\"}], \"histogram\": [{\"marker\": {\"colorbar\": {\"outlinewidth\": 0, \"ticks\": \"\"}}, \"type\": \"histogram\"}], \"histogram2d\": [{\"colorbar\": {\"outlinewidth\": 0, \"ticks\": \"\"}, \"colorscale\": [[0.0, \"#0d0887\"], [0.1111111111111111, \"#46039f\"], [0.2222222222222222, \"#7201a8\"], [0.3333333333333333, \"#9c179e\"], [0.4444444444444444, \"#bd3786\"], [0.5555555555555556, \"#d8576b\"], [0.6666666666666666, \"#ed7953\"], [0.7777777777777778, \"#fb9f3a\"], [0.8888888888888888, \"#fdca26\"], [1.0, \"#f0f921\"]], \"type\": \"histogram2d\"}], \"histogram2dcontour\": [{\"colorbar\": {\"outlinewidth\": 0, \"ticks\": \"\"}, \"colorscale\": [[0.0, \"#0d0887\"], [0.1111111111111111, \"#46039f\"], [0.2222222222222222, \"#7201a8\"], [0.3333333333333333, \"#9c179e\"], [0.4444444444444444, \"#bd3786\"], [0.5555555555555556, \"#d8576b\"], [0.6666666666666666, \"#ed7953\"], [0.7777777777777778, \"#fb9f3a\"], [0.8888888888888888, \"#fdca26\"], [1.0, \"#f0f921\"]], \"type\": \"histogram2dcontour\"}], \"mesh3d\": [{\"colorbar\": {\"outlinewidth\": 0, \"ticks\": \"\"}, \"type\": \"mesh3d\"}], \"parcoords\": [{\"line\": {\"colorbar\": {\"outlinewidth\": 0, \"ticks\": \"\"}}, \"type\": \"parcoords\"}], \"scatter\": [{\"marker\": {\"colorbar\": {\"outlinewidth\": 0, \"ticks\": \"\"}}, \"type\": \"scatter\"}], \"scatter3d\": [{\"line\": {\"colorbar\": {\"outlinewidth\": 0, \"ticks\": \"\"}}, \"marker\": {\"colorbar\": {\"outlinewidth\": 0, \"ticks\": \"\"}}, \"type\": \"scatter3d\"}], \"scattercarpet\": [{\"marker\": {\"colorbar\": {\"outlinewidth\": 0, \"ticks\": \"\"}}, \"type\": \"scattercarpet\"}], \"scattergeo\": [{\"marker\": {\"colorbar\": {\"outlinewidth\": 0, \"ticks\": \"\"}}, \"type\": \"scattergeo\"}], \"scattergl\": [{\"marker\": {\"colorbar\": {\"outlinewidth\": 0, \"ticks\": \"\"}}, \"type\": \"scattergl\"}], \"scattermapbox\": [{\"marker\": {\"colorbar\": {\"outlinewidth\": 0, \"ticks\": \"\"}}, \"type\": \"scattermapbox\"}], \"scatterpolar\": [{\"marker\": {\"colorbar\": {\"outlinewidth\": 0, \"ticks\": \"\"}}, \"type\": \"scatterpolar\"}], \"scatterpolargl\": [{\"marker\": {\"colorbar\": {\"outlinewidth\": 0, \"ticks\": \"\"}}, \"type\": \"scatterpolargl\"}], \"scatterternary\": [{\"marker\": {\"colorbar\": {\"outlinewidth\": 0, \"ticks\": \"\"}}, \"type\": \"scatterternary\"}], \"surface\": [{\"colorbar\": {\"outlinewidth\": 0, \"ticks\": \"\"}, \"colorscale\": [[0.0, \"#0d0887\"], [0.1111111111111111, \"#46039f\"], [0.2222222222222222, \"#7201a8\"], [0.3333333333333333, \"#9c179e\"], [0.4444444444444444, \"#bd3786\"], [0.5555555555555556, \"#d8576b\"], [0.6666666666666666, \"#ed7953\"], [0.7777777777777778, \"#fb9f3a\"], [0.8888888888888888, \"#fdca26\"], [1.0, \"#f0f921\"]], \"type\": \"surface\"}], \"table\": [{\"cells\": {\"fill\": {\"color\": \"#EBF0F8\"}, \"line\": {\"color\": \"white\"}}, \"header\": {\"fill\": {\"color\": \"#C8D4E3\"}, \"line\": {\"color\": \"white\"}}, \"type\": \"table\"}]}, \"layout\": {\"annotationdefaults\": {\"arrowcolor\": \"#2a3f5f\", \"arrowhead\": 0, \"arrowwidth\": 1}, \"colorscale\": {\"diverging\": [[0, \"#8e0152\"], [0.1, \"#c51b7d\"], [0.2, \"#de77ae\"], [0.3, \"#f1b6da\"], [0.4, \"#fde0ef\"], [0.5, \"#f7f7f7\"], [0.6, \"#e6f5d0\"], [0.7, \"#b8e186\"], [0.8, \"#7fbc41\"], [0.9, \"#4d9221\"], [1, \"#276419\"]], \"sequential\": [[0.0, \"#0d0887\"], [0.1111111111111111, \"#46039f\"], [0.2222222222222222, \"#7201a8\"], [0.3333333333333333, \"#9c179e\"], [0.4444444444444444, \"#bd3786\"], [0.5555555555555556, \"#d8576b\"], [0.6666666666666666, \"#ed7953\"], [0.7777777777777778, \"#fb9f3a\"], [0.8888888888888888, \"#fdca26\"], [1.0, \"#f0f921\"]], \"sequentialminus\": [[0.0, \"#0d0887\"], [0.1111111111111111, \"#46039f\"], [0.2222222222222222, \"#7201a8\"], [0.3333333333333333, \"#9c179e\"], [0.4444444444444444, \"#bd3786\"], [0.5555555555555556, \"#d8576b\"], [0.6666666666666666, \"#ed7953\"], [0.7777777777777778, \"#fb9f3a\"], [0.8888888888888888, \"#fdca26\"], [1.0, \"#f0f921\"]]}, \"colorway\": [\"#636efa\", \"#EF553B\", \"#00cc96\", \"#ab63fa\", \"#FFA15A\", \"#19d3f3\", \"#FF6692\", \"#B6E880\", \"#FF97FF\", \"#FECB52\"], \"font\": {\"color\": \"#2a3f5f\"}, \"geo\": {\"bgcolor\": \"white\", \"lakecolor\": \"white\", \"landcolor\": \"#E5ECF6\", \"showlakes\": true, \"showland\": true, \"subunitcolor\": \"white\"}, \"hoverlabel\": {\"align\": \"left\"}, \"hovermode\": \"closest\", \"mapbox\": {\"style\": \"light\"}, \"paper_bgcolor\": \"white\", \"plot_bgcolor\": \"#E5ECF6\", \"polar\": {\"angularaxis\": {\"gridcolor\": \"white\", \"linecolor\": \"white\", \"ticks\": \"\"}, \"bgcolor\": \"#E5ECF6\", \"radialaxis\": {\"gridcolor\": \"white\", \"linecolor\": \"white\", \"ticks\": \"\"}}, \"scene\": {\"xaxis\": {\"backgroundcolor\": \"#E5ECF6\", \"gridcolor\": \"white\", \"gridwidth\": 2, \"linecolor\": \"white\", \"showbackground\": true, \"ticks\": \"\", \"zerolinecolor\": \"white\"}, \"yaxis\": {\"backgroundcolor\": \"#E5ECF6\", \"gridcolor\": \"white\", \"gridwidth\": 2, \"linecolor\": \"white\", \"showbackground\": true, \"ticks\": \"\", \"zerolinecolor\": \"white\"}, \"zaxis\": {\"backgroundcolor\": \"#E5ECF6\", \"gridcolor\": \"white\", \"gridwidth\": 2, \"linecolor\": \"white\", \"showbackground\": true, \"ticks\": \"\", \"zerolinecolor\": \"white\"}}, \"shapedefaults\": {\"line\": {\"color\": \"#2a3f5f\"}}, \"ternary\": {\"aaxis\": {\"gridcolor\": \"white\", \"linecolor\": \"white\", \"ticks\": \"\"}, \"baxis\": {\"gridcolor\": \"white\", \"linecolor\": \"white\", \"ticks\": \"\"}, \"bgcolor\": \"#E5ECF6\", \"caxis\": {\"gridcolor\": \"white\", \"linecolor\": \"white\", \"ticks\": \"\"}}, \"title\": {\"x\": 0.05}, \"xaxis\": {\"automargin\": true, \"gridcolor\": \"white\", \"linecolor\": \"white\", \"ticks\": \"\", \"zerolinecolor\": \"white\", \"zerolinewidth\": 2}, \"yaxis\": {\"automargin\": true, \"gridcolor\": \"white\", \"linecolor\": \"white\", \"ticks\": \"\", \"zerolinecolor\": \"white\", \"zerolinewidth\": 2}}}},\n",
       "                        {\"responsive\": true}\n",
       "                    ).then(function(){\n",
       "                            \n",
       "var gd = document.getElementById('4cf7b551-aff5-4e27-9005-bd8d5b01a376');\n",
       "var x = new MutationObserver(function (mutations, observer) {{\n",
       "        var display = window.getComputedStyle(gd).display;\n",
       "        if (!display || display === 'none') {{\n",
       "            console.log([gd, 'removed!']);\n",
       "            Plotly.purge(gd);\n",
       "            observer.disconnect();\n",
       "        }}\n",
       "}});\n",
       "\n",
       "// Listen for the removal of the full notebook cells\n",
       "var notebookContainer = gd.closest('#notebook-container');\n",
       "if (notebookContainer) {{\n",
       "    x.observe(notebookContainer, {childList: true});\n",
       "}}\n",
       "\n",
       "// Listen for the clearing of the current output cell\n",
       "var outputEl = gd.closest('.output');\n",
       "if (outputEl) {{\n",
       "    x.observe(outputEl, {childList: true});\n",
       "}}\n",
       "\n",
       "                        })\n",
       "                };\n",
       "                });\n",
       "            </script>\n",
       "        </div>"
      ]
     },
     "metadata": {},
     "output_type": "display_data"
    }
   ],
   "source": [
    "# here we show what is the plant simulated based on those parameters\n",
    "name= \"PMA2018_new.xml\"\n",
    "time = 90\n",
    "smallplant = CPlantBox(name, time, name) # make a plant object in python\n",
    "fig = visual_plant(smallplant)    \n",
    "fig.show()"
   ]
  },
  {
   "cell_type": "markdown",
   "metadata": {},
   "source": [
    "## 6. Change the length of the Stem\n",
    "### 6.1 lmax: the maximal length\n",
    "Length is controled by six parameters, among them, the maximal length is controled by lmax. if we only change the lmax, the growth will only depends on the time. Lets see what will happend if we only change the lmax of the main stem:"
   ]
  },
  {
   "cell_type": "code",
   "execution_count": 23,
   "metadata": {},
   "outputs": [
    {
     "name": "stdout",
     "output_type": "stream",
     "text": [
      "original lmax of stem organ with subtype 1 is 2.1000000000000001, changed to 10\n"
     ]
    },
    {
     "data": {
      "application/vnd.plotly.v1+json": {
       "config": {
        "plotlyServerURL": "https://plot.ly"
       },
       "data": [
        {
         "marker": {
          "color": [
           2,
           2,
           2,
           2,
           2,
           2,
           2,
           2,
           2,
           2,
           2,
           2,
           2,
           3,
           3,
           3,
           4,
           4,
           4,
           4,
           4,
           4,
           4,
           4,
           3,
           3,
           3,
           3,
           3,
           3,
           4,
           4,
           4,
           4,
           4,
           4,
           4,
           4,
           3,
           3,
           3,
           3,
           3,
           3,
           4,
           4,
           4,
           4,
           4,
           4,
           4,
           4,
           3,
           3,
           3,
           3,
           3,
           3,
           4,
           4,
           4,
           4,
           4,
           4,
           4,
           4,
           3,
           3,
           3,
           3,
           3,
           3,
           4,
           4,
           4,
           4,
           4,
           4,
           4,
           4,
           3,
           3,
           3,
           3,
           3,
           3,
           4,
           4,
           4,
           4,
           4,
           4,
           4,
           4,
           3,
           3,
           3,
           3,
           3,
           3,
           4,
           4,
           4,
           4,
           4,
           4,
           4,
           4,
           3,
           3,
           3
          ],
          "colorscale": [
           [
            0,
            "wheat"
           ],
           [
            0.5,
            "darkgreen"
           ],
           [
            1,
            "lightgreen"
           ]
          ],
          "opacity": 0.8,
          "size": 3
         },
         "mode": "markers",
         "name": "plant",
         "type": "scatter3d",
         "x": [
          0,
          1.6440021651473432e-05,
          -0.000244154273800066,
          -0.00041928970172138905,
          -0.0006234468384218504,
          -0.0014872468036016284,
          -0.0022581266409769725,
          -0.002916808204673287,
          -0.003577699861493562,
          -0.004255839634400357,
          -0.005265371273863839,
          -0.006244638392435036,
          -0.007223651491481041,
          0,
          0,
          0,
          0.0020225424859373685,
          0.004045084971874737,
          0.006067627457812106,
          0.008090169943749474,
          0.010112712429686843,
          0.012135254915624212,
          0.01415779740156158,
          0.016180339887498948,
          0,
          0,
          0,
          0,
          0,
          0,
          -0.0020225424859373685,
          -0.004045084971874737,
          -0.006067627457812106,
          -0.008090169943749474,
          -0.010112712429686843,
          -0.012135254915624212,
          -0.01415779740156158,
          -0.016180339887498948,
          0,
          0,
          0,
          0,
          0,
          0,
          0.0020225424859373685,
          0.004045084971874737,
          0.006067627457812106,
          0.008090169943749474,
          0.010112712429686843,
          0.012135254915624212,
          0.01415779740156158,
          0.016180339887498948,
          0,
          0,
          0,
          0,
          0,
          0,
          -0.0020225424859373685,
          -0.004045084971874739,
          -0.006067627457812107,
          -0.008090169943749476,
          -0.010112712429686845,
          -0.012135254915624213,
          -0.014157797401561582,
          -0.01618033988749895,
          0,
          0,
          0,
          0,
          0,
          0,
          0.0020225424859373685,
          0.004045084971874737,
          0.006067627457812106,
          0.008090169943749474,
          0.010112712429686843,
          0.012135254915624212,
          0.01415779740156158,
          0.016180339887498948,
          0,
          0,
          0,
          0,
          0,
          0,
          -0.0020225424859373685,
          -0.004045084971874737,
          -0.006067627457812106,
          -0.008090169943749474,
          -0.010112712429686843,
          -0.012135254915624212,
          -0.01415779740156158,
          -0.016180339887498948,
          0,
          0,
          0,
          0,
          0,
          0,
          0.0020225424859373685,
          0.004045084971874737,
          0.006067627457812106,
          0.008090169943749474,
          0.010112712429686843,
          0.012135254915624212,
          0.01415779740156158,
          0.016180339887498948,
          0,
          0,
          0
         ],
         "y": [
          0,
          -3.591977450128871e-05,
          5.594116007987871e-06,
          0.0005658977616774223,
          0.001012814898672602,
          0.0012194816505464205,
          0.0015931089579576784,
          0.0023282541588974266,
          0.003138410920495066,
          0.0036996909874146113,
          0.0043315047351277615,
          0.004836779364873109,
          0.005342149735591294,
          0,
          0,
          0,
          -2.476900181542729e-19,
          -4.953800363085458e-19,
          -7.430700544628187e-19,
          -9.907600726170917e-19,
          -1.2384500907713647e-18,
          -1.4861401089256375e-18,
          -1.7338301270799105e-18,
          -1.981520145234183e-18,
          0,
          0,
          0,
          0,
          0,
          0,
          4.953800363085458e-19,
          9.907600726170915e-19,
          1.4861401089256375e-18,
          1.9815201452341834e-18,
          2.4769001815427294e-18,
          2.972280217851275e-18,
          3.467660254159821e-18,
          3.963040290468366e-18,
          0,
          0,
          0,
          0,
          0,
          0,
          -7.430700544628186e-19,
          -1.4861401089256373e-18,
          -2.229210163388456e-18,
          -2.972280217851275e-18,
          -3.715350272314094e-18,
          -4.458420326776913e-18,
          -5.201490381239731e-18,
          -5.94456043570255e-18,
          0,
          0,
          0,
          0,
          0,
          0,
          9.907600726170915e-19,
          1.981520145234184e-18,
          2.972280217851275e-18,
          3.963040290468366e-18,
          4.953800363085458e-18,
          5.944560435702548e-18,
          6.935320508319639e-18,
          7.926080580936729e-18,
          0,
          0,
          0,
          0,
          0,
          0,
          -1.2384500907713647e-18,
          -2.4769001815427294e-18,
          -3.715350272314094e-18,
          -4.953800363085459e-18,
          -6.192250453856823e-18,
          -7.430700544628187e-18,
          -8.669150635399551e-18,
          -9.907600726170916e-18,
          0,
          0,
          0,
          0,
          0,
          0,
          1.4861401089256373e-18,
          2.9722802178512746e-18,
          4.458420326776912e-18,
          5.94456043570255e-18,
          7.430700544628189e-18,
          8.916840653553826e-18,
          1.0402980762479463e-17,
          1.18891208714051e-17,
          0,
          0,
          0,
          0,
          0,
          0,
          -1.7338301270799105e-18,
          -3.467660254159821e-18,
          -5.201490381239731e-18,
          -6.9353205083196426e-18,
          -8.669150635399553e-18,
          -1.0402980762479463e-17,
          -1.2136810889559372e-17,
          -1.3870641016639284e-17,
          0,
          0,
          0
         ],
         "z": [
          -0.03,
          -0.03249968787961375,
          -0.034985722314225004,
          -0.03741582260156632,
          -0.03986706411071925,
          -0.04220397199804072,
          -0.04455261988810104,
          -0.04684950911729383,
          -0.04912038301066241,
          -0.051460274276273,
          -0.05365837738057062,
          -0.055902421377247366,
          -0.05814655464875699,
          -0.0275,
          -0.025,
          -0.023,
          -0.021530536869268816,
          -0.020061073738537633,
          -0.01859161060780645,
          -0.017122147477075265,
          -0.015652684346344082,
          -0.014183221215612898,
          -0.012713758084881715,
          -0.011244294954150531,
          -0.020499999999999997,
          -0.018,
          -0.016,
          -0.013499999999999998,
          -0.011,
          -0.009000000000000001,
          -0.0075305368692688175,
          -0.006061073738537635,
          -0.004591610607806451,
          -0.0031221474770752678,
          -0.0016526843463440842,
          -0.00018322121561290095,
          0.0012862419151182824,
          0.002755705045849466,
          -0.0065000000000000014,
          -0.004000000000000001,
          -0.0019999999999999996,
          0.0005000000000000004,
          0.0030000000000000005,
          0.005000000000000002,
          0.006469463130731185,
          0.00793892626146237,
          0.009408389392193552,
          0.010877852522924735,
          0.012347315653655919,
          0.013816778784387102,
          0.015286241915118286,
          0.01675570504584947,
          0.007500000000000002,
          0.010000000000000002,
          0.012000000000000004,
          0.014500000000000004,
          0.017000000000000005,
          0.019000000000000006,
          0.020469463130731187,
          0.02193892626146237,
          0.023408389392193554,
          0.024877852522924737,
          0.02634731565365592,
          0.027816778784387104,
          0.029286241915118288,
          0.03075570504584947,
          0.021500000000000005,
          0.024000000000000004,
          0.026000000000000006,
          0.028500000000000004,
          0.031000000000000007,
          0.03300000000000001,
          0.03446946313073119,
          0.035938926261462376,
          0.037408389392193556,
          0.03887785252292474,
          0.04034731565365592,
          0.04181677878438711,
          0.04328624191511829,
          0.04475570504584948,
          0.035500000000000004,
          0.038000000000000006,
          0.04000000000000001,
          0.04250000000000001,
          0.04500000000000001,
          0.047000000000000014,
          0.048469463130731194,
          0.049938926261462374,
          0.05140838939219356,
          0.05287785252292474,
          0.05434731565365593,
          0.05581677878438711,
          0.057286241915118295,
          0.058755705045849475,
          0.04950000000000001,
          0.05200000000000001,
          0.054000000000000006,
          0.0565,
          0.059000000000000004,
          0.061,
          0.06246946313073118,
          0.06393892626146236,
          0.06540838939219355,
          0.06687785252292473,
          0.06834731565365591,
          0.06981677878438709,
          0.07128624191511829,
          0.07275570504584947,
          0.0635,
          0.066,
          0.06799999999999999
         ]
        }
       ],
       "layout": {
        "autosize": true,
        "scene": {
         "aspectmode": "data",
         "aspectratio": {
          "x": 1,
          "y": 1,
          "z": 1
         },
         "domain": {
          "x": [
           0,
           1
          ],
          "y": [
           0,
           1
          ]
         }
        },
        "template": {
         "data": {
          "bar": [
           {
            "error_x": {
             "color": "#2a3f5f"
            },
            "error_y": {
             "color": "#2a3f5f"
            },
            "marker": {
             "line": {
              "color": "#E5ECF6",
              "width": 0.5
             }
            },
            "type": "bar"
           }
          ],
          "barpolar": [
           {
            "marker": {
             "line": {
              "color": "#E5ECF6",
              "width": 0.5
             }
            },
            "type": "barpolar"
           }
          ],
          "carpet": [
           {
            "aaxis": {
             "endlinecolor": "#2a3f5f",
             "gridcolor": "white",
             "linecolor": "white",
             "minorgridcolor": "white",
             "startlinecolor": "#2a3f5f"
            },
            "baxis": {
             "endlinecolor": "#2a3f5f",
             "gridcolor": "white",
             "linecolor": "white",
             "minorgridcolor": "white",
             "startlinecolor": "#2a3f5f"
            },
            "type": "carpet"
           }
          ],
          "choropleth": [
           {
            "colorbar": {
             "outlinewidth": 0,
             "ticks": ""
            },
            "type": "choropleth"
           }
          ],
          "contour": [
           {
            "colorbar": {
             "outlinewidth": 0,
             "ticks": ""
            },
            "colorscale": [
             [
              0,
              "#0d0887"
             ],
             [
              0.1111111111111111,
              "#46039f"
             ],
             [
              0.2222222222222222,
              "#7201a8"
             ],
             [
              0.3333333333333333,
              "#9c179e"
             ],
             [
              0.4444444444444444,
              "#bd3786"
             ],
             [
              0.5555555555555556,
              "#d8576b"
             ],
             [
              0.6666666666666666,
              "#ed7953"
             ],
             [
              0.7777777777777778,
              "#fb9f3a"
             ],
             [
              0.8888888888888888,
              "#fdca26"
             ],
             [
              1,
              "#f0f921"
             ]
            ],
            "type": "contour"
           }
          ],
          "contourcarpet": [
           {
            "colorbar": {
             "outlinewidth": 0,
             "ticks": ""
            },
            "type": "contourcarpet"
           }
          ],
          "heatmap": [
           {
            "colorbar": {
             "outlinewidth": 0,
             "ticks": ""
            },
            "colorscale": [
             [
              0,
              "#0d0887"
             ],
             [
              0.1111111111111111,
              "#46039f"
             ],
             [
              0.2222222222222222,
              "#7201a8"
             ],
             [
              0.3333333333333333,
              "#9c179e"
             ],
             [
              0.4444444444444444,
              "#bd3786"
             ],
             [
              0.5555555555555556,
              "#d8576b"
             ],
             [
              0.6666666666666666,
              "#ed7953"
             ],
             [
              0.7777777777777778,
              "#fb9f3a"
             ],
             [
              0.8888888888888888,
              "#fdca26"
             ],
             [
              1,
              "#f0f921"
             ]
            ],
            "type": "heatmap"
           }
          ],
          "heatmapgl": [
           {
            "colorbar": {
             "outlinewidth": 0,
             "ticks": ""
            },
            "colorscale": [
             [
              0,
              "#0d0887"
             ],
             [
              0.1111111111111111,
              "#46039f"
             ],
             [
              0.2222222222222222,
              "#7201a8"
             ],
             [
              0.3333333333333333,
              "#9c179e"
             ],
             [
              0.4444444444444444,
              "#bd3786"
             ],
             [
              0.5555555555555556,
              "#d8576b"
             ],
             [
              0.6666666666666666,
              "#ed7953"
             ],
             [
              0.7777777777777778,
              "#fb9f3a"
             ],
             [
              0.8888888888888888,
              "#fdca26"
             ],
             [
              1,
              "#f0f921"
             ]
            ],
            "type": "heatmapgl"
           }
          ],
          "histogram": [
           {
            "marker": {
             "colorbar": {
              "outlinewidth": 0,
              "ticks": ""
             }
            },
            "type": "histogram"
           }
          ],
          "histogram2d": [
           {
            "colorbar": {
             "outlinewidth": 0,
             "ticks": ""
            },
            "colorscale": [
             [
              0,
              "#0d0887"
             ],
             [
              0.1111111111111111,
              "#46039f"
             ],
             [
              0.2222222222222222,
              "#7201a8"
             ],
             [
              0.3333333333333333,
              "#9c179e"
             ],
             [
              0.4444444444444444,
              "#bd3786"
             ],
             [
              0.5555555555555556,
              "#d8576b"
             ],
             [
              0.6666666666666666,
              "#ed7953"
             ],
             [
              0.7777777777777778,
              "#fb9f3a"
             ],
             [
              0.8888888888888888,
              "#fdca26"
             ],
             [
              1,
              "#f0f921"
             ]
            ],
            "type": "histogram2d"
           }
          ],
          "histogram2dcontour": [
           {
            "colorbar": {
             "outlinewidth": 0,
             "ticks": ""
            },
            "colorscale": [
             [
              0,
              "#0d0887"
             ],
             [
              0.1111111111111111,
              "#46039f"
             ],
             [
              0.2222222222222222,
              "#7201a8"
             ],
             [
              0.3333333333333333,
              "#9c179e"
             ],
             [
              0.4444444444444444,
              "#bd3786"
             ],
             [
              0.5555555555555556,
              "#d8576b"
             ],
             [
              0.6666666666666666,
              "#ed7953"
             ],
             [
              0.7777777777777778,
              "#fb9f3a"
             ],
             [
              0.8888888888888888,
              "#fdca26"
             ],
             [
              1,
              "#f0f921"
             ]
            ],
            "type": "histogram2dcontour"
           }
          ],
          "mesh3d": [
           {
            "colorbar": {
             "outlinewidth": 0,
             "ticks": ""
            },
            "type": "mesh3d"
           }
          ],
          "parcoords": [
           {
            "line": {
             "colorbar": {
              "outlinewidth": 0,
              "ticks": ""
             }
            },
            "type": "parcoords"
           }
          ],
          "scatter": [
           {
            "marker": {
             "colorbar": {
              "outlinewidth": 0,
              "ticks": ""
             }
            },
            "type": "scatter"
           }
          ],
          "scatter3d": [
           {
            "line": {
             "colorbar": {
              "outlinewidth": 0,
              "ticks": ""
             }
            },
            "marker": {
             "colorbar": {
              "outlinewidth": 0,
              "ticks": ""
             }
            },
            "type": "scatter3d"
           }
          ],
          "scattercarpet": [
           {
            "marker": {
             "colorbar": {
              "outlinewidth": 0,
              "ticks": ""
             }
            },
            "type": "scattercarpet"
           }
          ],
          "scattergeo": [
           {
            "marker": {
             "colorbar": {
              "outlinewidth": 0,
              "ticks": ""
             }
            },
            "type": "scattergeo"
           }
          ],
          "scattergl": [
           {
            "marker": {
             "colorbar": {
              "outlinewidth": 0,
              "ticks": ""
             }
            },
            "type": "scattergl"
           }
          ],
          "scattermapbox": [
           {
            "marker": {
             "colorbar": {
              "outlinewidth": 0,
              "ticks": ""
             }
            },
            "type": "scattermapbox"
           }
          ],
          "scatterpolar": [
           {
            "marker": {
             "colorbar": {
              "outlinewidth": 0,
              "ticks": ""
             }
            },
            "type": "scatterpolar"
           }
          ],
          "scatterpolargl": [
           {
            "marker": {
             "colorbar": {
              "outlinewidth": 0,
              "ticks": ""
             }
            },
            "type": "scatterpolargl"
           }
          ],
          "scatterternary": [
           {
            "marker": {
             "colorbar": {
              "outlinewidth": 0,
              "ticks": ""
             }
            },
            "type": "scatterternary"
           }
          ],
          "surface": [
           {
            "colorbar": {
             "outlinewidth": 0,
             "ticks": ""
            },
            "colorscale": [
             [
              0,
              "#0d0887"
             ],
             [
              0.1111111111111111,
              "#46039f"
             ],
             [
              0.2222222222222222,
              "#7201a8"
             ],
             [
              0.3333333333333333,
              "#9c179e"
             ],
             [
              0.4444444444444444,
              "#bd3786"
             ],
             [
              0.5555555555555556,
              "#d8576b"
             ],
             [
              0.6666666666666666,
              "#ed7953"
             ],
             [
              0.7777777777777778,
              "#fb9f3a"
             ],
             [
              0.8888888888888888,
              "#fdca26"
             ],
             [
              1,
              "#f0f921"
             ]
            ],
            "type": "surface"
           }
          ],
          "table": [
           {
            "cells": {
             "fill": {
              "color": "#EBF0F8"
             },
             "line": {
              "color": "white"
             }
            },
            "header": {
             "fill": {
              "color": "#C8D4E3"
             },
             "line": {
              "color": "white"
             }
            },
            "type": "table"
           }
          ]
         },
         "layout": {
          "annotationdefaults": {
           "arrowcolor": "#2a3f5f",
           "arrowhead": 0,
           "arrowwidth": 1
          },
          "colorscale": {
           "diverging": [
            [
             0,
             "#8e0152"
            ],
            [
             0.1,
             "#c51b7d"
            ],
            [
             0.2,
             "#de77ae"
            ],
            [
             0.3,
             "#f1b6da"
            ],
            [
             0.4,
             "#fde0ef"
            ],
            [
             0.5,
             "#f7f7f7"
            ],
            [
             0.6,
             "#e6f5d0"
            ],
            [
             0.7,
             "#b8e186"
            ],
            [
             0.8,
             "#7fbc41"
            ],
            [
             0.9,
             "#4d9221"
            ],
            [
             1,
             "#276419"
            ]
           ],
           "sequential": [
            [
             0,
             "#0d0887"
            ],
            [
             0.1111111111111111,
             "#46039f"
            ],
            [
             0.2222222222222222,
             "#7201a8"
            ],
            [
             0.3333333333333333,
             "#9c179e"
            ],
            [
             0.4444444444444444,
             "#bd3786"
            ],
            [
             0.5555555555555556,
             "#d8576b"
            ],
            [
             0.6666666666666666,
             "#ed7953"
            ],
            [
             0.7777777777777778,
             "#fb9f3a"
            ],
            [
             0.8888888888888888,
             "#fdca26"
            ],
            [
             1,
             "#f0f921"
            ]
           ],
           "sequentialminus": [
            [
             0,
             "#0d0887"
            ],
            [
             0.1111111111111111,
             "#46039f"
            ],
            [
             0.2222222222222222,
             "#7201a8"
            ],
            [
             0.3333333333333333,
             "#9c179e"
            ],
            [
             0.4444444444444444,
             "#bd3786"
            ],
            [
             0.5555555555555556,
             "#d8576b"
            ],
            [
             0.6666666666666666,
             "#ed7953"
            ],
            [
             0.7777777777777778,
             "#fb9f3a"
            ],
            [
             0.8888888888888888,
             "#fdca26"
            ],
            [
             1,
             "#f0f921"
            ]
           ]
          },
          "colorway": [
           "#636efa",
           "#EF553B",
           "#00cc96",
           "#ab63fa",
           "#FFA15A",
           "#19d3f3",
           "#FF6692",
           "#B6E880",
           "#FF97FF",
           "#FECB52"
          ],
          "font": {
           "color": "#2a3f5f"
          },
          "geo": {
           "bgcolor": "white",
           "lakecolor": "white",
           "landcolor": "#E5ECF6",
           "showlakes": true,
           "showland": true,
           "subunitcolor": "white"
          },
          "hoverlabel": {
           "align": "left"
          },
          "hovermode": "closest",
          "mapbox": {
           "style": "light"
          },
          "paper_bgcolor": "white",
          "plot_bgcolor": "#E5ECF6",
          "polar": {
           "angularaxis": {
            "gridcolor": "white",
            "linecolor": "white",
            "ticks": ""
           },
           "bgcolor": "#E5ECF6",
           "radialaxis": {
            "gridcolor": "white",
            "linecolor": "white",
            "ticks": ""
           }
          },
          "scene": {
           "xaxis": {
            "backgroundcolor": "#E5ECF6",
            "gridcolor": "white",
            "gridwidth": 2,
            "linecolor": "white",
            "showbackground": true,
            "ticks": "",
            "zerolinecolor": "white"
           },
           "yaxis": {
            "backgroundcolor": "#E5ECF6",
            "gridcolor": "white",
            "gridwidth": 2,
            "linecolor": "white",
            "showbackground": true,
            "ticks": "",
            "zerolinecolor": "white"
           },
           "zaxis": {
            "backgroundcolor": "#E5ECF6",
            "gridcolor": "white",
            "gridwidth": 2,
            "linecolor": "white",
            "showbackground": true,
            "ticks": "",
            "zerolinecolor": "white"
           }
          },
          "shapedefaults": {
           "line": {
            "color": "#2a3f5f"
           }
          },
          "ternary": {
           "aaxis": {
            "gridcolor": "white",
            "linecolor": "white",
            "ticks": ""
           },
           "baxis": {
            "gridcolor": "white",
            "linecolor": "white",
            "ticks": ""
           },
           "bgcolor": "#E5ECF6",
           "caxis": {
            "gridcolor": "white",
            "linecolor": "white",
            "ticks": ""
           }
          },
          "title": {
           "x": 0.05
          },
          "xaxis": {
           "automargin": true,
           "gridcolor": "white",
           "linecolor": "white",
           "ticks": "",
           "zerolinecolor": "white",
           "zerolinewidth": 2
          },
          "yaxis": {
           "automargin": true,
           "gridcolor": "white",
           "linecolor": "white",
           "ticks": "",
           "zerolinecolor": "white",
           "zerolinewidth": 2
          }
         }
        }
       }
      },
      "text/html": [
       "<div>\n",
       "        \n",
       "        \n",
       "            <div id=\"b49d5bf7-de80-419e-a7f4-8c9f9f65a77f\" class=\"plotly-graph-div\" style=\"height:525px; width:100%;\"></div>\n",
       "            <script type=\"text/javascript\">\n",
       "                require([\"plotly\"], function(Plotly) {\n",
       "                    window.PLOTLYENV=window.PLOTLYENV || {};\n",
       "                    \n",
       "                if (document.getElementById(\"b49d5bf7-de80-419e-a7f4-8c9f9f65a77f\")) {\n",
       "                    Plotly.newPlot(\n",
       "                        'b49d5bf7-de80-419e-a7f4-8c9f9f65a77f',\n",
       "                        [{\"marker\": {\"color\": [2.0, 2.0, 2.0, 2.0, 2.0, 2.0, 2.0, 2.0, 2.0, 2.0, 2.0, 2.0, 2.0, 3.0, 3.0, 3.0, 4.0, 4.0, 4.0, 4.0, 4.0, 4.0, 4.0, 4.0, 3.0, 3.0, 3.0, 3.0, 3.0, 3.0, 4.0, 4.0, 4.0, 4.0, 4.0, 4.0, 4.0, 4.0, 3.0, 3.0, 3.0, 3.0, 3.0, 3.0, 4.0, 4.0, 4.0, 4.0, 4.0, 4.0, 4.0, 4.0, 3.0, 3.0, 3.0, 3.0, 3.0, 3.0, 4.0, 4.0, 4.0, 4.0, 4.0, 4.0, 4.0, 4.0, 3.0, 3.0, 3.0, 3.0, 3.0, 3.0, 4.0, 4.0, 4.0, 4.0, 4.0, 4.0, 4.0, 4.0, 3.0, 3.0, 3.0, 3.0, 3.0, 3.0, 4.0, 4.0, 4.0, 4.0, 4.0, 4.0, 4.0, 4.0, 3.0, 3.0, 3.0, 3.0, 3.0, 3.0, 4.0, 4.0, 4.0, 4.0, 4.0, 4.0, 4.0, 4.0, 3.0, 3.0, 3.0], \"colorscale\": [[0, \"wheat\"], [0.5, \"darkgreen\"], [1.0, \"lightgreen\"]], \"opacity\": 0.8, \"size\": 3}, \"mode\": \"markers\", \"name\": \"plant\", \"type\": \"scatter3d\", \"x\": [0.0, 1.6440021651473432e-05, -0.000244154273800066, -0.00041928970172138905, -0.0006234468384218504, -0.0014872468036016284, -0.0022581266409769725, -0.002916808204673287, -0.003577699861493562, -0.004255839634400357, -0.005265371273863839, -0.006244638392435036, -0.007223651491481041, 0.0, 0.0, 0.0, 0.0020225424859373685, 0.004045084971874737, 0.006067627457812106, 0.008090169943749474, 0.010112712429686843, 0.012135254915624212, 0.01415779740156158, 0.016180339887498948, 0.0, 0.0, 0.0, 0.0, 0.0, 0.0, -0.0020225424859373685, -0.004045084971874737, -0.006067627457812106, -0.008090169943749474, -0.010112712429686843, -0.012135254915624212, -0.01415779740156158, -0.016180339887498948, 0.0, 0.0, 0.0, 0.0, 0.0, 0.0, 0.0020225424859373685, 0.004045084971874737, 0.006067627457812106, 0.008090169943749474, 0.010112712429686843, 0.012135254915624212, 0.01415779740156158, 0.016180339887498948, 0.0, 0.0, 0.0, 0.0, 0.0, 0.0, -0.0020225424859373685, -0.004045084971874739, -0.006067627457812107, -0.008090169943749476, -0.010112712429686845, -0.012135254915624213, -0.014157797401561582, -0.01618033988749895, 0.0, 0.0, 0.0, 0.0, 0.0, 0.0, 0.0020225424859373685, 0.004045084971874737, 0.006067627457812106, 0.008090169943749474, 0.010112712429686843, 0.012135254915624212, 0.01415779740156158, 0.016180339887498948, 0.0, 0.0, 0.0, 0.0, 0.0, 0.0, -0.0020225424859373685, -0.004045084971874737, -0.006067627457812106, -0.008090169943749474, -0.010112712429686843, -0.012135254915624212, -0.01415779740156158, -0.016180339887498948, 0.0, 0.0, 0.0, 0.0, 0.0, 0.0, 0.0020225424859373685, 0.004045084971874737, 0.006067627457812106, 0.008090169943749474, 0.010112712429686843, 0.012135254915624212, 0.01415779740156158, 0.016180339887498948, 0.0, 0.0, 0.0], \"y\": [0.0, -3.591977450128871e-05, 5.594116007987871e-06, 0.0005658977616774223, 0.001012814898672602, 0.0012194816505464205, 0.0015931089579576784, 0.0023282541588974266, 0.003138410920495066, 0.0036996909874146113, 0.0043315047351277615, 0.004836779364873109, 0.005342149735591294, 0.0, 0.0, 0.0, -2.476900181542729e-19, -4.953800363085458e-19, -7.430700544628187e-19, -9.907600726170917e-19, -1.2384500907713647e-18, -1.4861401089256375e-18, -1.7338301270799105e-18, -1.981520145234183e-18, 0.0, 0.0, 0.0, 0.0, 0.0, 0.0, 4.953800363085458e-19, 9.907600726170915e-19, 1.4861401089256375e-18, 1.9815201452341834e-18, 2.4769001815427294e-18, 2.972280217851275e-18, 3.467660254159821e-18, 3.963040290468366e-18, 0.0, 0.0, 0.0, 0.0, 0.0, 0.0, -7.430700544628186e-19, -1.4861401089256373e-18, -2.229210163388456e-18, -2.972280217851275e-18, -3.715350272314094e-18, -4.458420326776913e-18, -5.201490381239731e-18, -5.94456043570255e-18, 0.0, 0.0, 0.0, 0.0, 0.0, 0.0, 9.907600726170915e-19, 1.981520145234184e-18, 2.972280217851275e-18, 3.963040290468366e-18, 4.953800363085458e-18, 5.944560435702548e-18, 6.935320508319639e-18, 7.926080580936729e-18, 0.0, 0.0, 0.0, 0.0, 0.0, 0.0, -1.2384500907713647e-18, -2.4769001815427294e-18, -3.715350272314094e-18, -4.953800363085459e-18, -6.192250453856823e-18, -7.430700544628187e-18, -8.669150635399551e-18, -9.907600726170916e-18, 0.0, 0.0, 0.0, 0.0, 0.0, 0.0, 1.4861401089256373e-18, 2.9722802178512746e-18, 4.458420326776912e-18, 5.94456043570255e-18, 7.430700544628189e-18, 8.916840653553826e-18, 1.0402980762479463e-17, 1.18891208714051e-17, 0.0, 0.0, 0.0, 0.0, 0.0, 0.0, -1.7338301270799105e-18, -3.467660254159821e-18, -5.201490381239731e-18, -6.9353205083196426e-18, -8.669150635399553e-18, -1.0402980762479463e-17, -1.2136810889559372e-17, -1.3870641016639284e-17, 0.0, 0.0, 0.0], \"z\": [-0.03, -0.03249968787961375, -0.034985722314225004, -0.03741582260156632, -0.03986706411071925, -0.04220397199804072, -0.04455261988810104, -0.04684950911729383, -0.04912038301066241, -0.051460274276273, -0.05365837738057062, -0.055902421377247366, -0.05814655464875699, -0.0275, -0.025, -0.023, -0.021530536869268816, -0.020061073738537633, -0.01859161060780645, -0.017122147477075265, -0.015652684346344082, -0.014183221215612898, -0.012713758084881715, -0.011244294954150531, -0.020499999999999997, -0.018, -0.016, -0.013499999999999998, -0.011, -0.009000000000000001, -0.0075305368692688175, -0.006061073738537635, -0.004591610607806451, -0.0031221474770752678, -0.0016526843463440842, -0.00018322121561290095, 0.0012862419151182824, 0.002755705045849466, -0.0065000000000000014, -0.004000000000000001, -0.0019999999999999996, 0.0005000000000000004, 0.0030000000000000005, 0.005000000000000002, 0.006469463130731185, 0.00793892626146237, 0.009408389392193552, 0.010877852522924735, 0.012347315653655919, 0.013816778784387102, 0.015286241915118286, 0.01675570504584947, 0.007500000000000002, 0.010000000000000002, 0.012000000000000004, 0.014500000000000004, 0.017000000000000005, 0.019000000000000006, 0.020469463130731187, 0.02193892626146237, 0.023408389392193554, 0.024877852522924737, 0.02634731565365592, 0.027816778784387104, 0.029286241915118288, 0.03075570504584947, 0.021500000000000005, 0.024000000000000004, 0.026000000000000006, 0.028500000000000004, 0.031000000000000007, 0.03300000000000001, 0.03446946313073119, 0.035938926261462376, 0.037408389392193556, 0.03887785252292474, 0.04034731565365592, 0.04181677878438711, 0.04328624191511829, 0.04475570504584948, 0.035500000000000004, 0.038000000000000006, 0.04000000000000001, 0.04250000000000001, 0.04500000000000001, 0.047000000000000014, 0.048469463130731194, 0.049938926261462374, 0.05140838939219356, 0.05287785252292474, 0.05434731565365593, 0.05581677878438711, 0.057286241915118295, 0.058755705045849475, 0.04950000000000001, 0.05200000000000001, 0.054000000000000006, 0.0565, 0.059000000000000004, 0.061, 0.06246946313073118, 0.06393892626146236, 0.06540838939219355, 0.06687785252292473, 0.06834731565365591, 0.06981677878438709, 0.07128624191511829, 0.07275570504584947, 0.0635, 0.066, 0.06799999999999999]}],\n",
       "                        {\"scene\": {\"aspectmode\": \"data\", \"domain\": {\"x\": [0.0, 1.0], \"y\": [0.0, 1.0]}}, \"template\": {\"data\": {\"bar\": [{\"error_x\": {\"color\": \"#2a3f5f\"}, \"error_y\": {\"color\": \"#2a3f5f\"}, \"marker\": {\"line\": {\"color\": \"#E5ECF6\", \"width\": 0.5}}, \"type\": \"bar\"}], \"barpolar\": [{\"marker\": {\"line\": {\"color\": \"#E5ECF6\", \"width\": 0.5}}, \"type\": \"barpolar\"}], \"carpet\": [{\"aaxis\": {\"endlinecolor\": \"#2a3f5f\", \"gridcolor\": \"white\", \"linecolor\": \"white\", \"minorgridcolor\": \"white\", \"startlinecolor\": \"#2a3f5f\"}, \"baxis\": {\"endlinecolor\": \"#2a3f5f\", \"gridcolor\": \"white\", \"linecolor\": \"white\", \"minorgridcolor\": \"white\", \"startlinecolor\": \"#2a3f5f\"}, \"type\": \"carpet\"}], \"choropleth\": [{\"colorbar\": {\"outlinewidth\": 0, \"ticks\": \"\"}, \"type\": \"choropleth\"}], \"contour\": [{\"colorbar\": {\"outlinewidth\": 0, \"ticks\": \"\"}, \"colorscale\": [[0.0, \"#0d0887\"], [0.1111111111111111, \"#46039f\"], [0.2222222222222222, \"#7201a8\"], [0.3333333333333333, \"#9c179e\"], [0.4444444444444444, \"#bd3786\"], [0.5555555555555556, \"#d8576b\"], [0.6666666666666666, \"#ed7953\"], [0.7777777777777778, \"#fb9f3a\"], [0.8888888888888888, \"#fdca26\"], [1.0, \"#f0f921\"]], \"type\": \"contour\"}], \"contourcarpet\": [{\"colorbar\": {\"outlinewidth\": 0, \"ticks\": \"\"}, \"type\": \"contourcarpet\"}], \"heatmap\": [{\"colorbar\": {\"outlinewidth\": 0, \"ticks\": \"\"}, \"colorscale\": [[0.0, \"#0d0887\"], [0.1111111111111111, \"#46039f\"], [0.2222222222222222, \"#7201a8\"], [0.3333333333333333, \"#9c179e\"], [0.4444444444444444, \"#bd3786\"], [0.5555555555555556, \"#d8576b\"], [0.6666666666666666, \"#ed7953\"], [0.7777777777777778, \"#fb9f3a\"], [0.8888888888888888, \"#fdca26\"], [1.0, \"#f0f921\"]], \"type\": \"heatmap\"}], \"heatmapgl\": [{\"colorbar\": {\"outlinewidth\": 0, \"ticks\": \"\"}, \"colorscale\": [[0.0, \"#0d0887\"], [0.1111111111111111, \"#46039f\"], [0.2222222222222222, \"#7201a8\"], [0.3333333333333333, \"#9c179e\"], [0.4444444444444444, \"#bd3786\"], [0.5555555555555556, \"#d8576b\"], [0.6666666666666666, \"#ed7953\"], [0.7777777777777778, \"#fb9f3a\"], [0.8888888888888888, \"#fdca26\"], [1.0, \"#f0f921\"]], \"type\": \"heatmapgl\"}], \"histogram\": [{\"marker\": {\"colorbar\": {\"outlinewidth\": 0, \"ticks\": \"\"}}, \"type\": \"histogram\"}], \"histogram2d\": [{\"colorbar\": {\"outlinewidth\": 0, \"ticks\": \"\"}, \"colorscale\": [[0.0, \"#0d0887\"], [0.1111111111111111, \"#46039f\"], [0.2222222222222222, \"#7201a8\"], [0.3333333333333333, \"#9c179e\"], [0.4444444444444444, \"#bd3786\"], [0.5555555555555556, \"#d8576b\"], [0.6666666666666666, \"#ed7953\"], [0.7777777777777778, \"#fb9f3a\"], [0.8888888888888888, \"#fdca26\"], [1.0, \"#f0f921\"]], \"type\": \"histogram2d\"}], \"histogram2dcontour\": [{\"colorbar\": {\"outlinewidth\": 0, \"ticks\": \"\"}, \"colorscale\": [[0.0, \"#0d0887\"], [0.1111111111111111, \"#46039f\"], [0.2222222222222222, \"#7201a8\"], [0.3333333333333333, \"#9c179e\"], [0.4444444444444444, \"#bd3786\"], [0.5555555555555556, \"#d8576b\"], [0.6666666666666666, \"#ed7953\"], [0.7777777777777778, \"#fb9f3a\"], [0.8888888888888888, \"#fdca26\"], [1.0, \"#f0f921\"]], \"type\": \"histogram2dcontour\"}], \"mesh3d\": [{\"colorbar\": {\"outlinewidth\": 0, \"ticks\": \"\"}, \"type\": \"mesh3d\"}], \"parcoords\": [{\"line\": {\"colorbar\": {\"outlinewidth\": 0, \"ticks\": \"\"}}, \"type\": \"parcoords\"}], \"scatter\": [{\"marker\": {\"colorbar\": {\"outlinewidth\": 0, \"ticks\": \"\"}}, \"type\": \"scatter\"}], \"scatter3d\": [{\"line\": {\"colorbar\": {\"outlinewidth\": 0, \"ticks\": \"\"}}, \"marker\": {\"colorbar\": {\"outlinewidth\": 0, \"ticks\": \"\"}}, \"type\": \"scatter3d\"}], \"scattercarpet\": [{\"marker\": {\"colorbar\": {\"outlinewidth\": 0, \"ticks\": \"\"}}, \"type\": \"scattercarpet\"}], \"scattergeo\": [{\"marker\": {\"colorbar\": {\"outlinewidth\": 0, \"ticks\": \"\"}}, \"type\": \"scattergeo\"}], \"scattergl\": [{\"marker\": {\"colorbar\": {\"outlinewidth\": 0, \"ticks\": \"\"}}, \"type\": \"scattergl\"}], \"scattermapbox\": [{\"marker\": {\"colorbar\": {\"outlinewidth\": 0, \"ticks\": \"\"}}, \"type\": \"scattermapbox\"}], \"scatterpolar\": [{\"marker\": {\"colorbar\": {\"outlinewidth\": 0, \"ticks\": \"\"}}, \"type\": \"scatterpolar\"}], \"scatterpolargl\": [{\"marker\": {\"colorbar\": {\"outlinewidth\": 0, \"ticks\": \"\"}}, \"type\": \"scatterpolargl\"}], \"scatterternary\": [{\"marker\": {\"colorbar\": {\"outlinewidth\": 0, \"ticks\": \"\"}}, \"type\": \"scatterternary\"}], \"surface\": [{\"colorbar\": {\"outlinewidth\": 0, \"ticks\": \"\"}, \"colorscale\": [[0.0, \"#0d0887\"], [0.1111111111111111, \"#46039f\"], [0.2222222222222222, \"#7201a8\"], [0.3333333333333333, \"#9c179e\"], [0.4444444444444444, \"#bd3786\"], [0.5555555555555556, \"#d8576b\"], [0.6666666666666666, \"#ed7953\"], [0.7777777777777778, \"#fb9f3a\"], [0.8888888888888888, \"#fdca26\"], [1.0, \"#f0f921\"]], \"type\": \"surface\"}], \"table\": [{\"cells\": {\"fill\": {\"color\": \"#EBF0F8\"}, \"line\": {\"color\": \"white\"}}, \"header\": {\"fill\": {\"color\": \"#C8D4E3\"}, \"line\": {\"color\": \"white\"}}, \"type\": \"table\"}]}, \"layout\": {\"annotationdefaults\": {\"arrowcolor\": \"#2a3f5f\", \"arrowhead\": 0, \"arrowwidth\": 1}, \"colorscale\": {\"diverging\": [[0, \"#8e0152\"], [0.1, \"#c51b7d\"], [0.2, \"#de77ae\"], [0.3, \"#f1b6da\"], [0.4, \"#fde0ef\"], [0.5, \"#f7f7f7\"], [0.6, \"#e6f5d0\"], [0.7, \"#b8e186\"], [0.8, \"#7fbc41\"], [0.9, \"#4d9221\"], [1, \"#276419\"]], \"sequential\": [[0.0, \"#0d0887\"], [0.1111111111111111, \"#46039f\"], [0.2222222222222222, \"#7201a8\"], [0.3333333333333333, \"#9c179e\"], [0.4444444444444444, \"#bd3786\"], [0.5555555555555556, \"#d8576b\"], [0.6666666666666666, \"#ed7953\"], [0.7777777777777778, \"#fb9f3a\"], [0.8888888888888888, \"#fdca26\"], [1.0, \"#f0f921\"]], \"sequentialminus\": [[0.0, \"#0d0887\"], [0.1111111111111111, \"#46039f\"], [0.2222222222222222, \"#7201a8\"], [0.3333333333333333, \"#9c179e\"], [0.4444444444444444, \"#bd3786\"], [0.5555555555555556, \"#d8576b\"], [0.6666666666666666, \"#ed7953\"], [0.7777777777777778, \"#fb9f3a\"], [0.8888888888888888, \"#fdca26\"], [1.0, \"#f0f921\"]]}, \"colorway\": [\"#636efa\", \"#EF553B\", \"#00cc96\", \"#ab63fa\", \"#FFA15A\", \"#19d3f3\", \"#FF6692\", \"#B6E880\", \"#FF97FF\", \"#FECB52\"], \"font\": {\"color\": \"#2a3f5f\"}, \"geo\": {\"bgcolor\": \"white\", \"lakecolor\": \"white\", \"landcolor\": \"#E5ECF6\", \"showlakes\": true, \"showland\": true, \"subunitcolor\": \"white\"}, \"hoverlabel\": {\"align\": \"left\"}, \"hovermode\": \"closest\", \"mapbox\": {\"style\": \"light\"}, \"paper_bgcolor\": \"white\", \"plot_bgcolor\": \"#E5ECF6\", \"polar\": {\"angularaxis\": {\"gridcolor\": \"white\", \"linecolor\": \"white\", \"ticks\": \"\"}, \"bgcolor\": \"#E5ECF6\", \"radialaxis\": {\"gridcolor\": \"white\", \"linecolor\": \"white\", \"ticks\": \"\"}}, \"scene\": {\"xaxis\": {\"backgroundcolor\": \"#E5ECF6\", \"gridcolor\": \"white\", \"gridwidth\": 2, \"linecolor\": \"white\", \"showbackground\": true, \"ticks\": \"\", \"zerolinecolor\": \"white\"}, \"yaxis\": {\"backgroundcolor\": \"#E5ECF6\", \"gridcolor\": \"white\", \"gridwidth\": 2, \"linecolor\": \"white\", \"showbackground\": true, \"ticks\": \"\", \"zerolinecolor\": \"white\"}, \"zaxis\": {\"backgroundcolor\": \"#E5ECF6\", \"gridcolor\": \"white\", \"gridwidth\": 2, \"linecolor\": \"white\", \"showbackground\": true, \"ticks\": \"\", \"zerolinecolor\": \"white\"}}, \"shapedefaults\": {\"line\": {\"color\": \"#2a3f5f\"}}, \"ternary\": {\"aaxis\": {\"gridcolor\": \"white\", \"linecolor\": \"white\", \"ticks\": \"\"}, \"baxis\": {\"gridcolor\": \"white\", \"linecolor\": \"white\", \"ticks\": \"\"}, \"bgcolor\": \"#E5ECF6\", \"caxis\": {\"gridcolor\": \"white\", \"linecolor\": \"white\", \"ticks\": \"\"}}, \"title\": {\"x\": 0.05}, \"xaxis\": {\"automargin\": true, \"gridcolor\": \"white\", \"linecolor\": \"white\", \"ticks\": \"\", \"zerolinecolor\": \"white\", \"zerolinewidth\": 2}, \"yaxis\": {\"automargin\": true, \"gridcolor\": \"white\", \"linecolor\": \"white\", \"ticks\": \"\", \"zerolinecolor\": \"white\", \"zerolinewidth\": 2}}}},\n",
       "                        {\"responsive\": true}\n",
       "                    ).then(function(){\n",
       "                            \n",
       "var gd = document.getElementById('b49d5bf7-de80-419e-a7f4-8c9f9f65a77f');\n",
       "var x = new MutationObserver(function (mutations, observer) {{\n",
       "        var display = window.getComputedStyle(gd).display;\n",
       "        if (!display || display === 'none') {{\n",
       "            console.log([gd, 'removed!']);\n",
       "            Plotly.purge(gd);\n",
       "            observer.disconnect();\n",
       "        }}\n",
       "}});\n",
       "\n",
       "// Listen for the removal of the full notebook cells\n",
       "var notebookContainer = gd.closest('#notebook-container');\n",
       "if (notebookContainer) {{\n",
       "    x.observe(notebookContainer, {childList: true});\n",
       "}}\n",
       "\n",
       "// Listen for the clearing of the current output cell\n",
       "var outputEl = gd.closest('.output');\n",
       "if (outputEl) {{\n",
       "    x.observe(outputEl, {childList: true});\n",
       "}}\n",
       "\n",
       "                        })\n",
       "                };\n",
       "                });\n",
       "            </script>\n",
       "        </div>"
      ]
     },
     "metadata": {},
     "output_type": "display_data"
    },
    {
     "name": "stdout",
     "output_type": "stream",
     "text": [
      "original lmax of stem organ with subtype 1 is 2.1000000000000001, changed to 5\n"
     ]
    },
    {
     "data": {
      "application/vnd.plotly.v1+json": {
       "config": {
        "plotlyServerURL": "https://plot.ly"
       },
       "data": [
        {
         "marker": {
          "color": [
           2,
           2,
           2,
           2,
           2,
           2,
           2,
           2,
           2,
           2,
           2,
           2,
           2,
           3,
           3,
           3,
           4,
           4,
           4,
           4,
           4,
           4,
           4,
           4,
           3,
           3,
           3,
           3,
           3,
           3,
           4,
           4,
           4,
           4,
           4,
           4,
           4,
           4,
           3,
           3,
           3,
           3,
           3,
           3,
           4,
           4,
           4,
           4,
           4,
           4,
           4,
           4,
           3,
           3,
           3,
           3,
           3,
           3
          ],
          "colorscale": [
           [
            0,
            "wheat"
           ],
           [
            0.5,
            "darkgreen"
           ],
           [
            1,
            "lightgreen"
           ]
          ],
          "opacity": 0.8,
          "size": 3
         },
         "mode": "markers",
         "name": "plant",
         "type": "scatter3d",
         "x": [
          0,
          -0.00028977446343129347,
          -0.0006433023042002721,
          -0.0007014645365941235,
          -0.0006185367453336859,
          -0.00028943590032326337,
          -0.00023884163028865487,
          -0.00018107986900029634,
          -0.00017790497612422853,
          -0.00044831837325808705,
          -0.00045929176757224173,
          -0.0005752236627328674,
          -0.0004965162793094083,
          0,
          0,
          0,
          0.0020225424859373685,
          0.004045084971874737,
          0.006067627457812106,
          0.008090169943749474,
          0.010112712429686843,
          0.012135254915624212,
          0.01415779740156158,
          0.016180339887498948,
          0,
          0,
          0,
          0,
          0,
          0,
          -0.0020225424859373685,
          -0.004045084971874737,
          -0.006067627457812106,
          -0.008090169943749474,
          -0.010112712429686843,
          -0.012135254915624212,
          -0.01415779740156158,
          -0.016180339887498948,
          0,
          0,
          0,
          0,
          0,
          0,
          0.0020225424859373685,
          0.004045084971874737,
          0.006067627457812106,
          0.008090169943749474,
          0.010112712429686843,
          0.012135254915624212,
          0.01415779740156158,
          0.016180339887498948,
          0,
          0,
          0,
          0,
          0,
          0
         ],
         "y": [
          0,
          1.9379037152108435e-05,
          8.10478684031831e-05,
          0.00021099053147146548,
          0.00015210576099855522,
          0.0005784447256856857,
          0.0009183820984569828,
          0.0012563222450529968,
          0.0014468392153137311,
          0.0018387227287927188,
          0.0020493579965109865,
          0.002332453650653384,
          0.0027535862868759814,
          0,
          0,
          0,
          -2.476900181542729e-19,
          -4.953800363085458e-19,
          -7.430700544628187e-19,
          -9.907600726170917e-19,
          -1.2384500907713647e-18,
          -1.4861401089256375e-18,
          -1.7338301270799105e-18,
          -1.981520145234183e-18,
          0,
          0,
          0,
          0,
          0,
          0,
          4.953800363085458e-19,
          9.907600726170915e-19,
          1.4861401089256375e-18,
          1.9815201452341834e-18,
          2.4769001815427294e-18,
          2.972280217851275e-18,
          3.467660254159821e-18,
          3.963040290468366e-18,
          0,
          0,
          0,
          0,
          0,
          0,
          -7.430700544628186e-19,
          -1.4861401089256373e-18,
          -2.229210163388456e-18,
          -2.972280217851275e-18,
          -3.715350272314094e-18,
          -4.458420326776913e-18,
          -5.201490381239731e-18,
          -5.94456043570255e-18,
          0,
          0,
          0,
          0,
          0,
          0
         ],
         "z": [
          -0.03,
          -0.03248307374301734,
          -0.03495718267777615,
          -0.03745312579792887,
          -0.03995105605420966,
          -0.04239235237399613,
          -0.04486861625380236,
          -0.047344996684239395,
          -0.049837724748850114,
          -0.052291966771657546,
          -0.054783053355582416,
          -0.0572642660925903,
          -0.05972728303335681,
          -0.0275,
          -0.025,
          -0.023,
          -0.021530536869268816,
          -0.020061073738537633,
          -0.01859161060780645,
          -0.017122147477075265,
          -0.015652684346344082,
          -0.014183221215612898,
          -0.012713758084881715,
          -0.011244294954150531,
          -0.020499999999999997,
          -0.018,
          -0.016,
          -0.013499999999999998,
          -0.011,
          -0.009000000000000001,
          -0.0075305368692688175,
          -0.006061073738537635,
          -0.004591610607806451,
          -0.0031221474770752678,
          -0.0016526843463440842,
          -0.00018322121561290095,
          0.0012862419151182824,
          0.002755705045849466,
          -0.0065000000000000014,
          -0.004000000000000001,
          -0.0019999999999999996,
          0.0005000000000000004,
          0.0030000000000000005,
          0.005000000000000002,
          0.006469463130731185,
          0.00793892626146237,
          0.009408389392193552,
          0.010877852522924735,
          0.012347315653655919,
          0.013816778784387102,
          0.015286241915118286,
          0.01675570504584947,
          0.007500000000000002,
          0.010000000000000002,
          0.012000000000000004,
          0.014500000000000004,
          0.017000000000000005,
          0.019000000000000003
         ]
        }
       ],
       "layout": {
        "autosize": true,
        "scene": {
         "aspectmode": "data",
         "aspectratio": {
          "x": 1,
          "y": 1,
          "z": 1
         },
         "domain": {
          "x": [
           0,
           1
          ],
          "y": [
           0,
           1
          ]
         }
        },
        "template": {
         "data": {
          "bar": [
           {
            "error_x": {
             "color": "#2a3f5f"
            },
            "error_y": {
             "color": "#2a3f5f"
            },
            "marker": {
             "line": {
              "color": "#E5ECF6",
              "width": 0.5
             }
            },
            "type": "bar"
           }
          ],
          "barpolar": [
           {
            "marker": {
             "line": {
              "color": "#E5ECF6",
              "width": 0.5
             }
            },
            "type": "barpolar"
           }
          ],
          "carpet": [
           {
            "aaxis": {
             "endlinecolor": "#2a3f5f",
             "gridcolor": "white",
             "linecolor": "white",
             "minorgridcolor": "white",
             "startlinecolor": "#2a3f5f"
            },
            "baxis": {
             "endlinecolor": "#2a3f5f",
             "gridcolor": "white",
             "linecolor": "white",
             "minorgridcolor": "white",
             "startlinecolor": "#2a3f5f"
            },
            "type": "carpet"
           }
          ],
          "choropleth": [
           {
            "colorbar": {
             "outlinewidth": 0,
             "ticks": ""
            },
            "type": "choropleth"
           }
          ],
          "contour": [
           {
            "colorbar": {
             "outlinewidth": 0,
             "ticks": ""
            },
            "colorscale": [
             [
              0,
              "#0d0887"
             ],
             [
              0.1111111111111111,
              "#46039f"
             ],
             [
              0.2222222222222222,
              "#7201a8"
             ],
             [
              0.3333333333333333,
              "#9c179e"
             ],
             [
              0.4444444444444444,
              "#bd3786"
             ],
             [
              0.5555555555555556,
              "#d8576b"
             ],
             [
              0.6666666666666666,
              "#ed7953"
             ],
             [
              0.7777777777777778,
              "#fb9f3a"
             ],
             [
              0.8888888888888888,
              "#fdca26"
             ],
             [
              1,
              "#f0f921"
             ]
            ],
            "type": "contour"
           }
          ],
          "contourcarpet": [
           {
            "colorbar": {
             "outlinewidth": 0,
             "ticks": ""
            },
            "type": "contourcarpet"
           }
          ],
          "heatmap": [
           {
            "colorbar": {
             "outlinewidth": 0,
             "ticks": ""
            },
            "colorscale": [
             [
              0,
              "#0d0887"
             ],
             [
              0.1111111111111111,
              "#46039f"
             ],
             [
              0.2222222222222222,
              "#7201a8"
             ],
             [
              0.3333333333333333,
              "#9c179e"
             ],
             [
              0.4444444444444444,
              "#bd3786"
             ],
             [
              0.5555555555555556,
              "#d8576b"
             ],
             [
              0.6666666666666666,
              "#ed7953"
             ],
             [
              0.7777777777777778,
              "#fb9f3a"
             ],
             [
              0.8888888888888888,
              "#fdca26"
             ],
             [
              1,
              "#f0f921"
             ]
            ],
            "type": "heatmap"
           }
          ],
          "heatmapgl": [
           {
            "colorbar": {
             "outlinewidth": 0,
             "ticks": ""
            },
            "colorscale": [
             [
              0,
              "#0d0887"
             ],
             [
              0.1111111111111111,
              "#46039f"
             ],
             [
              0.2222222222222222,
              "#7201a8"
             ],
             [
              0.3333333333333333,
              "#9c179e"
             ],
             [
              0.4444444444444444,
              "#bd3786"
             ],
             [
              0.5555555555555556,
              "#d8576b"
             ],
             [
              0.6666666666666666,
              "#ed7953"
             ],
             [
              0.7777777777777778,
              "#fb9f3a"
             ],
             [
              0.8888888888888888,
              "#fdca26"
             ],
             [
              1,
              "#f0f921"
             ]
            ],
            "type": "heatmapgl"
           }
          ],
          "histogram": [
           {
            "marker": {
             "colorbar": {
              "outlinewidth": 0,
              "ticks": ""
             }
            },
            "type": "histogram"
           }
          ],
          "histogram2d": [
           {
            "colorbar": {
             "outlinewidth": 0,
             "ticks": ""
            },
            "colorscale": [
             [
              0,
              "#0d0887"
             ],
             [
              0.1111111111111111,
              "#46039f"
             ],
             [
              0.2222222222222222,
              "#7201a8"
             ],
             [
              0.3333333333333333,
              "#9c179e"
             ],
             [
              0.4444444444444444,
              "#bd3786"
             ],
             [
              0.5555555555555556,
              "#d8576b"
             ],
             [
              0.6666666666666666,
              "#ed7953"
             ],
             [
              0.7777777777777778,
              "#fb9f3a"
             ],
             [
              0.8888888888888888,
              "#fdca26"
             ],
             [
              1,
              "#f0f921"
             ]
            ],
            "type": "histogram2d"
           }
          ],
          "histogram2dcontour": [
           {
            "colorbar": {
             "outlinewidth": 0,
             "ticks": ""
            },
            "colorscale": [
             [
              0,
              "#0d0887"
             ],
             [
              0.1111111111111111,
              "#46039f"
             ],
             [
              0.2222222222222222,
              "#7201a8"
             ],
             [
              0.3333333333333333,
              "#9c179e"
             ],
             [
              0.4444444444444444,
              "#bd3786"
             ],
             [
              0.5555555555555556,
              "#d8576b"
             ],
             [
              0.6666666666666666,
              "#ed7953"
             ],
             [
              0.7777777777777778,
              "#fb9f3a"
             ],
             [
              0.8888888888888888,
              "#fdca26"
             ],
             [
              1,
              "#f0f921"
             ]
            ],
            "type": "histogram2dcontour"
           }
          ],
          "mesh3d": [
           {
            "colorbar": {
             "outlinewidth": 0,
             "ticks": ""
            },
            "type": "mesh3d"
           }
          ],
          "parcoords": [
           {
            "line": {
             "colorbar": {
              "outlinewidth": 0,
              "ticks": ""
             }
            },
            "type": "parcoords"
           }
          ],
          "scatter": [
           {
            "marker": {
             "colorbar": {
              "outlinewidth": 0,
              "ticks": ""
             }
            },
            "type": "scatter"
           }
          ],
          "scatter3d": [
           {
            "line": {
             "colorbar": {
              "outlinewidth": 0,
              "ticks": ""
             }
            },
            "marker": {
             "colorbar": {
              "outlinewidth": 0,
              "ticks": ""
             }
            },
            "type": "scatter3d"
           }
          ],
          "scattercarpet": [
           {
            "marker": {
             "colorbar": {
              "outlinewidth": 0,
              "ticks": ""
             }
            },
            "type": "scattercarpet"
           }
          ],
          "scattergeo": [
           {
            "marker": {
             "colorbar": {
              "outlinewidth": 0,
              "ticks": ""
             }
            },
            "type": "scattergeo"
           }
          ],
          "scattergl": [
           {
            "marker": {
             "colorbar": {
              "outlinewidth": 0,
              "ticks": ""
             }
            },
            "type": "scattergl"
           }
          ],
          "scattermapbox": [
           {
            "marker": {
             "colorbar": {
              "outlinewidth": 0,
              "ticks": ""
             }
            },
            "type": "scattermapbox"
           }
          ],
          "scatterpolar": [
           {
            "marker": {
             "colorbar": {
              "outlinewidth": 0,
              "ticks": ""
             }
            },
            "type": "scatterpolar"
           }
          ],
          "scatterpolargl": [
           {
            "marker": {
             "colorbar": {
              "outlinewidth": 0,
              "ticks": ""
             }
            },
            "type": "scatterpolargl"
           }
          ],
          "scatterternary": [
           {
            "marker": {
             "colorbar": {
              "outlinewidth": 0,
              "ticks": ""
             }
            },
            "type": "scatterternary"
           }
          ],
          "surface": [
           {
            "colorbar": {
             "outlinewidth": 0,
             "ticks": ""
            },
            "colorscale": [
             [
              0,
              "#0d0887"
             ],
             [
              0.1111111111111111,
              "#46039f"
             ],
             [
              0.2222222222222222,
              "#7201a8"
             ],
             [
              0.3333333333333333,
              "#9c179e"
             ],
             [
              0.4444444444444444,
              "#bd3786"
             ],
             [
              0.5555555555555556,
              "#d8576b"
             ],
             [
              0.6666666666666666,
              "#ed7953"
             ],
             [
              0.7777777777777778,
              "#fb9f3a"
             ],
             [
              0.8888888888888888,
              "#fdca26"
             ],
             [
              1,
              "#f0f921"
             ]
            ],
            "type": "surface"
           }
          ],
          "table": [
           {
            "cells": {
             "fill": {
              "color": "#EBF0F8"
             },
             "line": {
              "color": "white"
             }
            },
            "header": {
             "fill": {
              "color": "#C8D4E3"
             },
             "line": {
              "color": "white"
             }
            },
            "type": "table"
           }
          ]
         },
         "layout": {
          "annotationdefaults": {
           "arrowcolor": "#2a3f5f",
           "arrowhead": 0,
           "arrowwidth": 1
          },
          "colorscale": {
           "diverging": [
            [
             0,
             "#8e0152"
            ],
            [
             0.1,
             "#c51b7d"
            ],
            [
             0.2,
             "#de77ae"
            ],
            [
             0.3,
             "#f1b6da"
            ],
            [
             0.4,
             "#fde0ef"
            ],
            [
             0.5,
             "#f7f7f7"
            ],
            [
             0.6,
             "#e6f5d0"
            ],
            [
             0.7,
             "#b8e186"
            ],
            [
             0.8,
             "#7fbc41"
            ],
            [
             0.9,
             "#4d9221"
            ],
            [
             1,
             "#276419"
            ]
           ],
           "sequential": [
            [
             0,
             "#0d0887"
            ],
            [
             0.1111111111111111,
             "#46039f"
            ],
            [
             0.2222222222222222,
             "#7201a8"
            ],
            [
             0.3333333333333333,
             "#9c179e"
            ],
            [
             0.4444444444444444,
             "#bd3786"
            ],
            [
             0.5555555555555556,
             "#d8576b"
            ],
            [
             0.6666666666666666,
             "#ed7953"
            ],
            [
             0.7777777777777778,
             "#fb9f3a"
            ],
            [
             0.8888888888888888,
             "#fdca26"
            ],
            [
             1,
             "#f0f921"
            ]
           ],
           "sequentialminus": [
            [
             0,
             "#0d0887"
            ],
            [
             0.1111111111111111,
             "#46039f"
            ],
            [
             0.2222222222222222,
             "#7201a8"
            ],
            [
             0.3333333333333333,
             "#9c179e"
            ],
            [
             0.4444444444444444,
             "#bd3786"
            ],
            [
             0.5555555555555556,
             "#d8576b"
            ],
            [
             0.6666666666666666,
             "#ed7953"
            ],
            [
             0.7777777777777778,
             "#fb9f3a"
            ],
            [
             0.8888888888888888,
             "#fdca26"
            ],
            [
             1,
             "#f0f921"
            ]
           ]
          },
          "colorway": [
           "#636efa",
           "#EF553B",
           "#00cc96",
           "#ab63fa",
           "#FFA15A",
           "#19d3f3",
           "#FF6692",
           "#B6E880",
           "#FF97FF",
           "#FECB52"
          ],
          "font": {
           "color": "#2a3f5f"
          },
          "geo": {
           "bgcolor": "white",
           "lakecolor": "white",
           "landcolor": "#E5ECF6",
           "showlakes": true,
           "showland": true,
           "subunitcolor": "white"
          },
          "hoverlabel": {
           "align": "left"
          },
          "hovermode": "closest",
          "mapbox": {
           "style": "light"
          },
          "paper_bgcolor": "white",
          "plot_bgcolor": "#E5ECF6",
          "polar": {
           "angularaxis": {
            "gridcolor": "white",
            "linecolor": "white",
            "ticks": ""
           },
           "bgcolor": "#E5ECF6",
           "radialaxis": {
            "gridcolor": "white",
            "linecolor": "white",
            "ticks": ""
           }
          },
          "scene": {
           "xaxis": {
            "backgroundcolor": "#E5ECF6",
            "gridcolor": "white",
            "gridwidth": 2,
            "linecolor": "white",
            "showbackground": true,
            "ticks": "",
            "zerolinecolor": "white"
           },
           "yaxis": {
            "backgroundcolor": "#E5ECF6",
            "gridcolor": "white",
            "gridwidth": 2,
            "linecolor": "white",
            "showbackground": true,
            "ticks": "",
            "zerolinecolor": "white"
           },
           "zaxis": {
            "backgroundcolor": "#E5ECF6",
            "gridcolor": "white",
            "gridwidth": 2,
            "linecolor": "white",
            "showbackground": true,
            "ticks": "",
            "zerolinecolor": "white"
           }
          },
          "shapedefaults": {
           "line": {
            "color": "#2a3f5f"
           }
          },
          "ternary": {
           "aaxis": {
            "gridcolor": "white",
            "linecolor": "white",
            "ticks": ""
           },
           "baxis": {
            "gridcolor": "white",
            "linecolor": "white",
            "ticks": ""
           },
           "bgcolor": "#E5ECF6",
           "caxis": {
            "gridcolor": "white",
            "linecolor": "white",
            "ticks": ""
           }
          },
          "title": {
           "x": 0.05
          },
          "xaxis": {
           "automargin": true,
           "gridcolor": "white",
           "linecolor": "white",
           "ticks": "",
           "zerolinecolor": "white",
           "zerolinewidth": 2
          },
          "yaxis": {
           "automargin": true,
           "gridcolor": "white",
           "linecolor": "white",
           "ticks": "",
           "zerolinecolor": "white",
           "zerolinewidth": 2
          }
         }
        }
       }
      },
      "text/html": [
       "<div>\n",
       "        \n",
       "        \n",
       "            <div id=\"fde8cbd7-004e-426e-ace4-27871b32ee7a\" class=\"plotly-graph-div\" style=\"height:525px; width:100%;\"></div>\n",
       "            <script type=\"text/javascript\">\n",
       "                require([\"plotly\"], function(Plotly) {\n",
       "                    window.PLOTLYENV=window.PLOTLYENV || {};\n",
       "                    \n",
       "                if (document.getElementById(\"fde8cbd7-004e-426e-ace4-27871b32ee7a\")) {\n",
       "                    Plotly.newPlot(\n",
       "                        'fde8cbd7-004e-426e-ace4-27871b32ee7a',\n",
       "                        [{\"marker\": {\"color\": [2.0, 2.0, 2.0, 2.0, 2.0, 2.0, 2.0, 2.0, 2.0, 2.0, 2.0, 2.0, 2.0, 3.0, 3.0, 3.0, 4.0, 4.0, 4.0, 4.0, 4.0, 4.0, 4.0, 4.0, 3.0, 3.0, 3.0, 3.0, 3.0, 3.0, 4.0, 4.0, 4.0, 4.0, 4.0, 4.0, 4.0, 4.0, 3.0, 3.0, 3.0, 3.0, 3.0, 3.0, 4.0, 4.0, 4.0, 4.0, 4.0, 4.0, 4.0, 4.0, 3.0, 3.0, 3.0, 3.0, 3.0, 3.0], \"colorscale\": [[0, \"wheat\"], [0.5, \"darkgreen\"], [1.0, \"lightgreen\"]], \"opacity\": 0.8, \"size\": 3}, \"mode\": \"markers\", \"name\": \"plant\", \"type\": \"scatter3d\", \"x\": [0.0, -0.00028977446343129347, -0.0006433023042002721, -0.0007014645365941235, -0.0006185367453336859, -0.00028943590032326337, -0.00023884163028865487, -0.00018107986900029634, -0.00017790497612422853, -0.00044831837325808705, -0.00045929176757224173, -0.0005752236627328674, -0.0004965162793094083, 0.0, 0.0, 0.0, 0.0020225424859373685, 0.004045084971874737, 0.006067627457812106, 0.008090169943749474, 0.010112712429686843, 0.012135254915624212, 0.01415779740156158, 0.016180339887498948, 0.0, 0.0, 0.0, 0.0, 0.0, 0.0, -0.0020225424859373685, -0.004045084971874737, -0.006067627457812106, -0.008090169943749474, -0.010112712429686843, -0.012135254915624212, -0.01415779740156158, -0.016180339887498948, 0.0, 0.0, 0.0, 0.0, 0.0, 0.0, 0.0020225424859373685, 0.004045084971874737, 0.006067627457812106, 0.008090169943749474, 0.010112712429686843, 0.012135254915624212, 0.01415779740156158, 0.016180339887498948, 0.0, 0.0, 0.0, 0.0, 0.0, 0.0], \"y\": [0.0, 1.9379037152108435e-05, 8.10478684031831e-05, 0.00021099053147146548, 0.00015210576099855522, 0.0005784447256856857, 0.0009183820984569828, 0.0012563222450529968, 0.0014468392153137311, 0.0018387227287927188, 0.0020493579965109865, 0.002332453650653384, 0.0027535862868759814, 0.0, 0.0, 0.0, -2.476900181542729e-19, -4.953800363085458e-19, -7.430700544628187e-19, -9.907600726170917e-19, -1.2384500907713647e-18, -1.4861401089256375e-18, -1.7338301270799105e-18, -1.981520145234183e-18, 0.0, 0.0, 0.0, 0.0, 0.0, 0.0, 4.953800363085458e-19, 9.907600726170915e-19, 1.4861401089256375e-18, 1.9815201452341834e-18, 2.4769001815427294e-18, 2.972280217851275e-18, 3.467660254159821e-18, 3.963040290468366e-18, 0.0, 0.0, 0.0, 0.0, 0.0, 0.0, -7.430700544628186e-19, -1.4861401089256373e-18, -2.229210163388456e-18, -2.972280217851275e-18, -3.715350272314094e-18, -4.458420326776913e-18, -5.201490381239731e-18, -5.94456043570255e-18, 0.0, 0.0, 0.0, 0.0, 0.0, 0.0], \"z\": [-0.03, -0.03248307374301734, -0.03495718267777615, -0.03745312579792887, -0.03995105605420966, -0.04239235237399613, -0.04486861625380236, -0.047344996684239395, -0.049837724748850114, -0.052291966771657546, -0.054783053355582416, -0.0572642660925903, -0.05972728303335681, -0.0275, -0.025, -0.023, -0.021530536869268816, -0.020061073738537633, -0.01859161060780645, -0.017122147477075265, -0.015652684346344082, -0.014183221215612898, -0.012713758084881715, -0.011244294954150531, -0.020499999999999997, -0.018, -0.016, -0.013499999999999998, -0.011, -0.009000000000000001, -0.0075305368692688175, -0.006061073738537635, -0.004591610607806451, -0.0031221474770752678, -0.0016526843463440842, -0.00018322121561290095, 0.0012862419151182824, 0.002755705045849466, -0.0065000000000000014, -0.004000000000000001, -0.0019999999999999996, 0.0005000000000000004, 0.0030000000000000005, 0.005000000000000002, 0.006469463130731185, 0.00793892626146237, 0.009408389392193552, 0.010877852522924735, 0.012347315653655919, 0.013816778784387102, 0.015286241915118286, 0.01675570504584947, 0.007500000000000002, 0.010000000000000002, 0.012000000000000004, 0.014500000000000004, 0.017000000000000005, 0.019000000000000003]}],\n",
       "                        {\"scene\": {\"aspectmode\": \"data\", \"domain\": {\"x\": [0.0, 1.0], \"y\": [0.0, 1.0]}}, \"template\": {\"data\": {\"bar\": [{\"error_x\": {\"color\": \"#2a3f5f\"}, \"error_y\": {\"color\": \"#2a3f5f\"}, \"marker\": {\"line\": {\"color\": \"#E5ECF6\", \"width\": 0.5}}, \"type\": \"bar\"}], \"barpolar\": [{\"marker\": {\"line\": {\"color\": \"#E5ECF6\", \"width\": 0.5}}, \"type\": \"barpolar\"}], \"carpet\": [{\"aaxis\": {\"endlinecolor\": \"#2a3f5f\", \"gridcolor\": \"white\", \"linecolor\": \"white\", \"minorgridcolor\": \"white\", \"startlinecolor\": \"#2a3f5f\"}, \"baxis\": {\"endlinecolor\": \"#2a3f5f\", \"gridcolor\": \"white\", \"linecolor\": \"white\", \"minorgridcolor\": \"white\", \"startlinecolor\": \"#2a3f5f\"}, \"type\": \"carpet\"}], \"choropleth\": [{\"colorbar\": {\"outlinewidth\": 0, \"ticks\": \"\"}, \"type\": \"choropleth\"}], \"contour\": [{\"colorbar\": {\"outlinewidth\": 0, \"ticks\": \"\"}, \"colorscale\": [[0.0, \"#0d0887\"], [0.1111111111111111, \"#46039f\"], [0.2222222222222222, \"#7201a8\"], [0.3333333333333333, \"#9c179e\"], [0.4444444444444444, \"#bd3786\"], [0.5555555555555556, \"#d8576b\"], [0.6666666666666666, \"#ed7953\"], [0.7777777777777778, \"#fb9f3a\"], [0.8888888888888888, \"#fdca26\"], [1.0, \"#f0f921\"]], \"type\": \"contour\"}], \"contourcarpet\": [{\"colorbar\": {\"outlinewidth\": 0, \"ticks\": \"\"}, \"type\": \"contourcarpet\"}], \"heatmap\": [{\"colorbar\": {\"outlinewidth\": 0, \"ticks\": \"\"}, \"colorscale\": [[0.0, \"#0d0887\"], [0.1111111111111111, \"#46039f\"], [0.2222222222222222, \"#7201a8\"], [0.3333333333333333, \"#9c179e\"], [0.4444444444444444, \"#bd3786\"], [0.5555555555555556, \"#d8576b\"], [0.6666666666666666, \"#ed7953\"], [0.7777777777777778, \"#fb9f3a\"], [0.8888888888888888, \"#fdca26\"], [1.0, \"#f0f921\"]], \"type\": \"heatmap\"}], \"heatmapgl\": [{\"colorbar\": {\"outlinewidth\": 0, \"ticks\": \"\"}, \"colorscale\": [[0.0, \"#0d0887\"], [0.1111111111111111, \"#46039f\"], [0.2222222222222222, \"#7201a8\"], [0.3333333333333333, \"#9c179e\"], [0.4444444444444444, \"#bd3786\"], [0.5555555555555556, \"#d8576b\"], [0.6666666666666666, \"#ed7953\"], [0.7777777777777778, \"#fb9f3a\"], [0.8888888888888888, \"#fdca26\"], [1.0, \"#f0f921\"]], \"type\": \"heatmapgl\"}], \"histogram\": [{\"marker\": {\"colorbar\": {\"outlinewidth\": 0, \"ticks\": \"\"}}, \"type\": \"histogram\"}], \"histogram2d\": [{\"colorbar\": {\"outlinewidth\": 0, \"ticks\": \"\"}, \"colorscale\": [[0.0, \"#0d0887\"], [0.1111111111111111, \"#46039f\"], [0.2222222222222222, \"#7201a8\"], [0.3333333333333333, \"#9c179e\"], [0.4444444444444444, \"#bd3786\"], [0.5555555555555556, \"#d8576b\"], [0.6666666666666666, \"#ed7953\"], [0.7777777777777778, \"#fb9f3a\"], [0.8888888888888888, \"#fdca26\"], [1.0, \"#f0f921\"]], \"type\": \"histogram2d\"}], \"histogram2dcontour\": [{\"colorbar\": {\"outlinewidth\": 0, \"ticks\": \"\"}, \"colorscale\": [[0.0, \"#0d0887\"], [0.1111111111111111, \"#46039f\"], [0.2222222222222222, \"#7201a8\"], [0.3333333333333333, \"#9c179e\"], [0.4444444444444444, \"#bd3786\"], [0.5555555555555556, \"#d8576b\"], [0.6666666666666666, \"#ed7953\"], [0.7777777777777778, \"#fb9f3a\"], [0.8888888888888888, \"#fdca26\"], [1.0, \"#f0f921\"]], \"type\": \"histogram2dcontour\"}], \"mesh3d\": [{\"colorbar\": {\"outlinewidth\": 0, \"ticks\": \"\"}, \"type\": \"mesh3d\"}], \"parcoords\": [{\"line\": {\"colorbar\": {\"outlinewidth\": 0, \"ticks\": \"\"}}, \"type\": \"parcoords\"}], \"scatter\": [{\"marker\": {\"colorbar\": {\"outlinewidth\": 0, \"ticks\": \"\"}}, \"type\": \"scatter\"}], \"scatter3d\": [{\"line\": {\"colorbar\": {\"outlinewidth\": 0, \"ticks\": \"\"}}, \"marker\": {\"colorbar\": {\"outlinewidth\": 0, \"ticks\": \"\"}}, \"type\": \"scatter3d\"}], \"scattercarpet\": [{\"marker\": {\"colorbar\": {\"outlinewidth\": 0, \"ticks\": \"\"}}, \"type\": \"scattercarpet\"}], \"scattergeo\": [{\"marker\": {\"colorbar\": {\"outlinewidth\": 0, \"ticks\": \"\"}}, \"type\": \"scattergeo\"}], \"scattergl\": [{\"marker\": {\"colorbar\": {\"outlinewidth\": 0, \"ticks\": \"\"}}, \"type\": \"scattergl\"}], \"scattermapbox\": [{\"marker\": {\"colorbar\": {\"outlinewidth\": 0, \"ticks\": \"\"}}, \"type\": \"scattermapbox\"}], \"scatterpolar\": [{\"marker\": {\"colorbar\": {\"outlinewidth\": 0, \"ticks\": \"\"}}, \"type\": \"scatterpolar\"}], \"scatterpolargl\": [{\"marker\": {\"colorbar\": {\"outlinewidth\": 0, \"ticks\": \"\"}}, \"type\": \"scatterpolargl\"}], \"scatterternary\": [{\"marker\": {\"colorbar\": {\"outlinewidth\": 0, \"ticks\": \"\"}}, \"type\": \"scatterternary\"}], \"surface\": [{\"colorbar\": {\"outlinewidth\": 0, \"ticks\": \"\"}, \"colorscale\": [[0.0, \"#0d0887\"], [0.1111111111111111, \"#46039f\"], [0.2222222222222222, \"#7201a8\"], [0.3333333333333333, \"#9c179e\"], [0.4444444444444444, \"#bd3786\"], [0.5555555555555556, \"#d8576b\"], [0.6666666666666666, \"#ed7953\"], [0.7777777777777778, \"#fb9f3a\"], [0.8888888888888888, \"#fdca26\"], [1.0, \"#f0f921\"]], \"type\": \"surface\"}], \"table\": [{\"cells\": {\"fill\": {\"color\": \"#EBF0F8\"}, \"line\": {\"color\": \"white\"}}, \"header\": {\"fill\": {\"color\": \"#C8D4E3\"}, \"line\": {\"color\": \"white\"}}, \"type\": \"table\"}]}, \"layout\": {\"annotationdefaults\": {\"arrowcolor\": \"#2a3f5f\", \"arrowhead\": 0, \"arrowwidth\": 1}, \"colorscale\": {\"diverging\": [[0, \"#8e0152\"], [0.1, \"#c51b7d\"], [0.2, \"#de77ae\"], [0.3, \"#f1b6da\"], [0.4, \"#fde0ef\"], [0.5, \"#f7f7f7\"], [0.6, \"#e6f5d0\"], [0.7, \"#b8e186\"], [0.8, \"#7fbc41\"], [0.9, \"#4d9221\"], [1, \"#276419\"]], \"sequential\": [[0.0, \"#0d0887\"], [0.1111111111111111, \"#46039f\"], [0.2222222222222222, \"#7201a8\"], [0.3333333333333333, \"#9c179e\"], [0.4444444444444444, \"#bd3786\"], [0.5555555555555556, \"#d8576b\"], [0.6666666666666666, \"#ed7953\"], [0.7777777777777778, \"#fb9f3a\"], [0.8888888888888888, \"#fdca26\"], [1.0, \"#f0f921\"]], \"sequentialminus\": [[0.0, \"#0d0887\"], [0.1111111111111111, \"#46039f\"], [0.2222222222222222, \"#7201a8\"], [0.3333333333333333, \"#9c179e\"], [0.4444444444444444, \"#bd3786\"], [0.5555555555555556, \"#d8576b\"], [0.6666666666666666, \"#ed7953\"], [0.7777777777777778, \"#fb9f3a\"], [0.8888888888888888, \"#fdca26\"], [1.0, \"#f0f921\"]]}, \"colorway\": [\"#636efa\", \"#EF553B\", \"#00cc96\", \"#ab63fa\", \"#FFA15A\", \"#19d3f3\", \"#FF6692\", \"#B6E880\", \"#FF97FF\", \"#FECB52\"], \"font\": {\"color\": \"#2a3f5f\"}, \"geo\": {\"bgcolor\": \"white\", \"lakecolor\": \"white\", \"landcolor\": \"#E5ECF6\", \"showlakes\": true, \"showland\": true, \"subunitcolor\": \"white\"}, \"hoverlabel\": {\"align\": \"left\"}, \"hovermode\": \"closest\", \"mapbox\": {\"style\": \"light\"}, \"paper_bgcolor\": \"white\", \"plot_bgcolor\": \"#E5ECF6\", \"polar\": {\"angularaxis\": {\"gridcolor\": \"white\", \"linecolor\": \"white\", \"ticks\": \"\"}, \"bgcolor\": \"#E5ECF6\", \"radialaxis\": {\"gridcolor\": \"white\", \"linecolor\": \"white\", \"ticks\": \"\"}}, \"scene\": {\"xaxis\": {\"backgroundcolor\": \"#E5ECF6\", \"gridcolor\": \"white\", \"gridwidth\": 2, \"linecolor\": \"white\", \"showbackground\": true, \"ticks\": \"\", \"zerolinecolor\": \"white\"}, \"yaxis\": {\"backgroundcolor\": \"#E5ECF6\", \"gridcolor\": \"white\", \"gridwidth\": 2, \"linecolor\": \"white\", \"showbackground\": true, \"ticks\": \"\", \"zerolinecolor\": \"white\"}, \"zaxis\": {\"backgroundcolor\": \"#E5ECF6\", \"gridcolor\": \"white\", \"gridwidth\": 2, \"linecolor\": \"white\", \"showbackground\": true, \"ticks\": \"\", \"zerolinecolor\": \"white\"}}, \"shapedefaults\": {\"line\": {\"color\": \"#2a3f5f\"}}, \"ternary\": {\"aaxis\": {\"gridcolor\": \"white\", \"linecolor\": \"white\", \"ticks\": \"\"}, \"baxis\": {\"gridcolor\": \"white\", \"linecolor\": \"white\", \"ticks\": \"\"}, \"bgcolor\": \"#E5ECF6\", \"caxis\": {\"gridcolor\": \"white\", \"linecolor\": \"white\", \"ticks\": \"\"}}, \"title\": {\"x\": 0.05}, \"xaxis\": {\"automargin\": true, \"gridcolor\": \"white\", \"linecolor\": \"white\", \"ticks\": \"\", \"zerolinecolor\": \"white\", \"zerolinewidth\": 2}, \"yaxis\": {\"automargin\": true, \"gridcolor\": \"white\", \"linecolor\": \"white\", \"ticks\": \"\", \"zerolinecolor\": \"white\", \"zerolinewidth\": 2}}}},\n",
       "                        {\"responsive\": true}\n",
       "                    ).then(function(){\n",
       "                            \n",
       "var gd = document.getElementById('fde8cbd7-004e-426e-ace4-27871b32ee7a');\n",
       "var x = new MutationObserver(function (mutations, observer) {{\n",
       "        var display = window.getComputedStyle(gd).display;\n",
       "        if (!display || display === 'none') {{\n",
       "            console.log([gd, 'removed!']);\n",
       "            Plotly.purge(gd);\n",
       "            observer.disconnect();\n",
       "        }}\n",
       "}});\n",
       "\n",
       "// Listen for the removal of the full notebook cells\n",
       "var notebookContainer = gd.closest('#notebook-container');\n",
       "if (notebookContainer) {{\n",
       "    x.observe(notebookContainer, {childList: true});\n",
       "}}\n",
       "\n",
       "// Listen for the clearing of the current output cell\n",
       "var outputEl = gd.closest('.output');\n",
       "if (outputEl) {{\n",
       "    x.observe(outputEl, {childList: true});\n",
       "}}\n",
       "\n",
       "                        })\n",
       "                };\n",
       "                });\n",
       "            </script>\n",
       "        </div>"
      ]
     },
     "metadata": {},
     "output_type": "display_data"
    }
   ],
   "source": [
    "\n",
    "def change_parameter(input_name, output_name, organ_name, subtype , parameter_name, value_type, value):   \n",
    "    all_parameter = ET.parse(\"../../modelparameter/plant/{}.xml\".format(input_name)) # read the parameter file from xml file\n",
    "    plant_parameter = all_parameter.getroot() # get the first level of parameters\n",
    "    original_lmax = plant_parameter.find(\"./organ[@type='{}'][@subType='{}']/parameter[@name='{}']\".format(organ_name, subtype, parameter_name)).get('{}'.format(value_type)) # get function to read the value\n",
    "    # The '10' in the following line is the value that need to be changed change the value\n",
    "    plant_parameter.find(\"./organ[@type='{}'][@subType='{}']/parameter[@name='{}']\".format(organ_name, subtype, parameter_name)).set('{}'.format(value_type),'{}'.format(value)) # set function to read the value\n",
    "    current_lmax = plant_parameter.find(\"./organ[@type='{}'][@subType='{}']/parameter[@name='{}']\".format(organ_name, subtype, parameter_name)).get('{}'.format(value_type)) # get function to read the value\n",
    "    print('original {} of {} organ with subtype {} is {}, changed to {}'.format(parameter_name, organ_name, subtype ,original_lmax, current_lmax))\n",
    "    all_parameter.write('../../modelparameter/plant/{}.xml'.format(output_name))\n",
    "change_parameter('PMA2018_new', 'testXML', 'stem', '1', 'lmax', 'value','10')\n",
    "name = 'testXML.xml'\n",
    "smallplant = CPlantBox(name, time, name) # make a plant object in python\n",
    "fig = visual_plant(smallplant)    \n",
    "fig.show()\n",
    "# Try to change the \"10\" to 5\n",
    "change_parameter('PMA2018_new', 'testXML', 'stem', '1', 'lmax', 'value','5')\n",
    "smallplant = CPlantBox(name, time, name) # make a plant object in python\n",
    "fig = visual_plant(smallplant)    \n",
    "fig.show()"
   ]
  },
  {
   "cell_type": "markdown",
   "metadata": {},
   "source": [
    "### 5.2 lb, ln and la: the parameters controls branching\n",
    "In the previous section, you may notice that, with the increase of the lmax, the length of the main stem increased. But with the increase length of the stem, we also get more leaves. Is it possible to reduce the leaf numbers? There are two ways, first, we could change the lb, lb is the length at bottom without any branching."
   ]
  },
  {
   "cell_type": "code",
   "execution_count": null,
   "metadata": {},
   "outputs": [],
   "source": [
    "# change lb to 3 based on the testXML created in last section\n",
    "\n",
    "change_parameter('testXML', 'testXML', 'stem', '1', 'lb', 'value','3')\n",
    "smallplant = CPlantBox(name, time, name) # make a plant object in python\n",
    "fig = visual_plant(smallplant)    \n",
    "fig.show()\n",
    "# now there is 3 branches again"
   ]
  },
  {
   "cell_type": "code",
   "execution_count": null,
   "metadata": {},
   "outputs": [],
   "source": [
    "# change lb to 3 based on the testXML created in last section\n",
    "\n",
    "change_parameter('testXML', 'testXML', 'stem', '1', 'lb', 'value','3')\n",
    "smallplant = CPlantBox(name, time, name) # make a plant object in python\n",
    "fig = visual_plant(smallplant)    \n",
    "fig.show()\n",
    "# now there is 3 branches again"
   ]
  },
  {
   "cell_type": "markdown",
   "metadata": {},
   "source": [
    "### 5.2.2 Let's change the ln to see what will happen?\n",
    "ln is the internode distance"
   ]
  },
  {
   "cell_type": "code",
   "execution_count": null,
   "metadata": {},
   "outputs": [],
   "source": [
    "\n",
    "change_parameter('testXML', 'testXML', 'stem', '1', 'ln', 'value','0.3')\n",
    "smallplant = CPlantBox(name, time, name) # make a plant object in python\n",
    "fig = visual_plant(smallplant)    \n",
    "fig.show()"
   ]
  },
  {
   "cell_type": "markdown",
   "metadata": {},
   "source": [
    "### 5.2.2Let's change the la to see what will happen?\n",
    "la is the stem top without branches"
   ]
  },
  {
   "cell_type": "code",
   "execution_count": null,
   "metadata": {},
   "outputs": [],
   "source": [
    "\n",
    "change_parameter('testXML', 'testXML', 'stem', '1', 'la', 'value','2')\n",
    "smallplant = CPlantBox(name, time, name) # make a plant object in python\n",
    "fig = visual_plant(smallplant)    \n",
    "fig.show()"
   ]
  },
  {
   "cell_type": "code",
   "execution_count": null,
   "metadata": {},
   "outputs": [],
   "source": [
    "# in addition, the functiontype decides what branching internode distance will be\n",
    "\n",
    "change_parameter('testXML', 'testXML', 'stem', '1', 'ln', 'functiontype','1')\n",
    "smallplant = CPlantBox(name, time, name) # make a plant object in python\n",
    "fig = visual_plant(smallplant)    \n",
    "fig.show()"
   ]
  },
  {
   "cell_type": "code",
   "execution_count": null,
   "metadata": {},
   "outputs": [],
   "source": [
    "\n",
    "fig = make_subplots(\n",
    "    rows=3, cols=2,\n",
    "    specs=[[{'type': 'scatter3d'}, {'type': 'scatter3d'}],\n",
    "           [{'type': 'scatter3d'}, {'type': 'scatter3d'}],\n",
    "           [{'type': 'scatter3d'}, {'type': 'scatter3d'}]])\n",
    "\n",
    "change_parameter('testXML', 'testXML', 'stem', '1', 'lmax', 'value','20')\n",
    "change_parameter('testXML', 'testXML', 'leaf', '2', 'RotBeta', 'value','1')\n",
    "change_parameter('testXML', 'testXML', 'stem', '1', 'ln', 'functiontype','0')\n",
    "smallplant1 = CPlantBox(name, time, name) # make a plant object in python\n",
    "fig1 = visual_plant_sub(smallplant1,name=\"functiontype 0\")\n",
    "\n",
    "\n",
    "change_parameter('testXML', 'testXML', 'stem', '1', 'ln', 'functiontype','1')\n",
    "smallplant2 = CPlantBox(name, time, name) # make a plant object in python\n",
    "fig2 = visual_plant_sub(smallplant2,name=\"functiontype 1\")\n",
    "\n",
    "\n",
    "change_parameter('testXML', 'testXML', 'stem', '1', 'ln', 'functiontype','2')\n",
    "smallplant3 = CPlantBox(name, time, name) # make a plant object in python\n",
    "fig3 = visual_plant_sub(smallplant3,name=\"functiontype 2\")\n",
    "\n",
    "\n",
    "change_parameter('testXML', 'testXML', 'stem', '1', 'ln', 'functiontype','3')\n",
    "smallplant4 = CPlantBox(name, time, name) # make a plant object in python\n",
    "fig4 = visual_plant_sub(smallplant4,name=\"functiontype 3\")\n",
    "\n",
    "\n",
    "change_parameter('testXML', 'testXML', 'stem', '1', 'ln', 'functiontype','2')\n",
    "smallplant5 = CPlantBox(name, time, name) # make a plant object in python\n",
    "fig5 = visual_plant_sub(smallplant3,name=\"functiontype 4\")\n",
    "\n",
    "\n",
    "change_parameter('testXML', 'testXML', 'stem', '1', 'ln', 'functiontype','3')\n",
    "smallplant6 = CPlantBox(name, time, name) # make a plant object in python\n",
    "fig6 = visual_plant_sub(smallplant4,name=\"functiontype 5\")\n",
    "\n",
    "fig.add_trace(fig1, 1, 1 )\n",
    "fig.add_trace(fig2, 1, 2)\n",
    "fig.add_trace(fig3, 2, 1)\n",
    "fig.add_trace(fig4, 2, 2)\n",
    "fig.add_trace(fig5, 3, 1)\n",
    "fig.add_trace(fig6, 3, 2)\n",
    "\n",
    "fig.update_layout(\n",
    "    title_text='different RotBeta (function type)',\n",
    "    height=800,\n",
    "    width=800\n",
    ")\n",
    "\n",
    "fig.show()"
   ]
  },
  {
   "cell_type": "markdown",
   "metadata": {},
   "source": [
    "## 6. Change the rotation of the Stem\n",
    "### Rotation Theta (rotaBeta) : the angle between main stem and sub branch\n",
    "### Rotation Beta (rotaBeta) : the angle between two neigbour sub branch\n",
    "the value of Rotation multiply by Pie is the revlution of the neighbouring sub branch."
   ]
  },
  {
   "cell_type": "code",
   "execution_count": null,
   "metadata": {},
   "outputs": [],
   "source": [
    "fig = make_subplots(\n",
    "    rows=2, cols=2,\n",
    "    specs=[[{'type': 'scatter3d'}, {'type': 'scatter3d'}],\n",
    "           [{'type': 'scatter3d'}, {'type': 'scatter3d'}]])\n",
    "\n",
    "\n",
    "change_parameter('testXML', 'testXML', 'stem', '1', 'lmax', 'value','20')\n",
    "change_parameter('testXML', 'testXML', 'leaf', '2', 'RotBeta', 'value','0')\n",
    "smallplant1 = CPlantBox(name, time, name) # make a plant object in python\n",
    "fig1 = visual_plant_sub(smallplant1,name=\"0 degree rotation\") # every two neighbouring branch is 0 degree\n",
    "\n",
    "\n",
    "change_parameter('testXML', 'testXML', 'leaf', '2', 'RotBeta', 'value','0.166666') # the rotation angle is equal to 180*0.166666 \n",
    "smallplant2 = CPlantBox(name, time, name) # make a plant object in python\n",
    "fig2 = visual_plant_sub(smallplant2,name=\"30 degree rotation\") # every two neighbouring branch is 30 degree\n",
    "\n",
    "\n",
    "change_parameter('testXML', 'testXML', 'leaf', '2', 'RotBeta', 'value','0.5') # the rotation angle is equal to 180*0.5 \n",
    "smallplant3 = CPlantBox(name, time, name) # make a plant object in python\n",
    "fig3 = visual_plant_sub(smallplant3,name=\"90 degree rotation\") # every two neighbouring branch is 90 degree\n",
    "\n",
    "\n",
    "change_parameter('testXML', 'testXML', 'leaf', '2', 'RotBeta', 'value','1') # the rotation angle is equal to 180*1 \n",
    "smallplant4 = CPlantBox(name, time, name) # make a plant object in python\n",
    "fig4 = visual_plant_sub(smallplant4,name=\"180 degree rotation\") # every two neighbouring branch is 180 degree\n",
    "\n",
    "fig.add_trace(fig1, 1, 1 )\n",
    "fig.add_trace(fig2, 1, 2)\n",
    "fig.add_trace(fig3, 2, 1)\n",
    "fig.add_trace(fig4, 2, 2)\n",
    "\n",
    "fig.update_layout(\n",
    "    title_text='different RotBeta (function type)',\n",
    "    height=800,\n",
    "    width=800\n",
    ")\n",
    "\n",
    "fig.show()"
   ]
  },
  {
   "cell_type": "code",
   "execution_count": null,
   "metadata": {},
   "outputs": [],
   "source": []
  }
 ],
 "metadata": {
  "accelerator": "GPU",
  "colab": {
   "collapsed_sections": [],
   "name": "CPlantBox-PiafMunch_Tutorial (include installation).ipynb",
   "provenance": [],
   "version": "0.3.2"
  },
  "kernelspec": {
   "display_name": "Python 3",
   "language": "python",
   "name": "python3"
  },
  "language_info": {
   "codemirror_mode": {
    "name": "ipython",
    "version": 3
   },
   "file_extension": ".py",
   "mimetype": "text/x-python",
   "name": "python",
   "nbconvert_exporter": "python",
   "pygments_lexer": "ipython3",
   "version": "3.6.8"
  }
 },
 "nbformat": 4,
 "nbformat_minor": 4
}
