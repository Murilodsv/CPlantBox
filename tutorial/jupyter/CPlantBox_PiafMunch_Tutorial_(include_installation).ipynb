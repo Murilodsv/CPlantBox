{
 "cells": [
  {
   "cell_type": "markdown",
   "metadata": {},
   "source": [
    "# Use CPlantBox with one click\n",
    "In this tutorial, you only need to click the small triangle button on the left top corner of the code blocks. \n",
    "If the circling triangle finished, please go to the next block and run the next block. \n",
    "If you need to learn google colab please follow the link here https://colab.research.google.com/notebooks/welcome.ipynb\n"
   ]
  },
  {
   "cell_type": "code",
   "execution_count": null,
   "metadata": {
    "colab": {},
    "colab_type": "code",
    "id": "GOhVEgo5B5WY"
   },
   "outputs": [],
   "source": [
    "# #<---Click this triangle to load python libraries\n",
    "# # loading other python library or packages. Only need to run once at the start.\n",
    "import os\n",
    "import sys\n",
    "# ! pip3 install vtk\n",
    "# from vtk.util import numpy_support as VN\n",
    "import vtk\n",
    "! git clone https://github.com/Plant-Root-Soil-Interactions-Modelling/CPlantBox # downloading the source code\n",
    "os.chdir(\"tutorial/jupyter\") # Change to the python directory (working directory)\n",
    "# # Congrats! Now you are ready to use the CPlantBox\n",
    "# !rm modelparameter\n",
    "# !ln -s /content/CPlantBox/modelparameter/ modelparameter\n",
    "# Loading specific python scripts for CPlantBox and CRootBox\n",
    "from CPlantBox_PiafMunch import *\n",
    "plotly.__version__\n",
    "# first we create a Heliantus plant\n",
    "name = \"Heliantus_Pagès_2013_new.xml\" # parameter name\n",
    "# here are some optional parameters to be tested\n",
    "# name = \"PMA2018\" # Simulate a small plant with 3 leaves and two lateral root, you can comment the heliantus line and uncomment this line to see what happend.\n",
    "time = 70 # how many days the plant need to grow, make it smaller, for example 15 to see if the plant becomes smaller\n",
    "plant1 = CPlantBox(name, time, name) # make a plant object in python\n",
    "# Visualization\n",
    "fig = visual_plant(plant1)\n",
    "fig.show()"
   ]
  },
  {
   "cell_type": "markdown",
   "metadata": {},
   "source": [
    "## 2. Detailed usage of CPlantBox\n",
    "1. create several different plant."
   ]
  },
  {
   "cell_type": "code",
   "execution_count": null,
   "metadata": {},
   "outputs": [],
   "source": [
    "# it is easy to use for loop in python to create many plant at a time.\n",
    "for i in range(0,9):    \n",
    "    plant1 = CPlantBox_analysis('{}_new.xml'.format(str(i)), 180, '{}'.format(str(i)))"
   ]
  },
  {
   "cell_type": "markdown",
   "metadata": {},
   "source": [
    "## 3. Rewirte the visualization function\n"
   ]
  },
  {
   "cell_type": "code",
   "execution_count": null,
   "metadata": {},
   "outputs": [],
   "source": [
    "def visual_plant_sub(plant1,name='plant'):\n",
    "    nodes_cor = python_nodes(plant1) # use the object name created previously to get its coordinates\n",
    "    fig= go.Scatter3d(\n",
    "        x=nodes_cor.T[3],\n",
    "        y=nodes_cor.T[4],\n",
    "        z=nodes_cor.T[5],\n",
    "        mode='markers',\n",
    "        marker=dict(\n",
    "            size=3,\n",
    "            color=nodes_cor.T[1],                # nodes_cor.T[1] is organ type, nodes_cor.T[2] is the connection number of a node \n",
    "            colorscale=[[0, \"wheat\"], #color of the root, change it to \"yellow\" to see the difference\n",
    "                    [0.5, \"darkgreen\"],\n",
    "                    [1.0, \"lightgreen\"],],  opacity=0.8\n",
    "        ), name =name\n",
    "    )\n",
    "\n",
    "    return fig\n",
    "\n",
    "def visual_plant(plant1):\n",
    "    subfig = visual_plant_sub(plant1)\n",
    "    fig = make_subplots(\n",
    "    rows=1, cols=1,\n",
    "    specs=[[{'type': 'surface'}]])\n",
    "    fig.add_trace(subfig) \n",
    "    fig.update_layout(scene_aspectmode='data',)\n",
    "    return fig"
   ]
  },
  {
   "cell_type": "markdown",
   "metadata": {},
   "source": [
    "### 3.2 Visualization through Matplotlib + VTK\n",
    "\n",
    "\n"
   ]
  },
  {
   "cell_type": "code",
   "execution_count": null,
   "metadata": {},
   "outputs": [],
   "source": [
    "import vtk.util.numpy_support as VN\n",
    "# CPlantBox(\"monopodial_new.xml\",120, \"monopodial\")\n",
    "# CPlantBox(\"sympodial_dichasium_new.xml\",180, \"sympodial_dichasium\")\n",
    "# CPlantBox(\"sympodial_monochasium_new.xml\",110, \"sympodial_monochasium\")\n",
    "# CPlantBox(\"leaf_opposite_decussate_new.xml\",180, \"leaf_opposite_decussate\")\n",
    "# CPlantBox(\"leaf_alternate_new.xml\",180, \"leaf_alternate\")\n",
    "# CPlantBox(\"leaf_spiral_new.xml\",180, \"leaf_spiral\")\n",
    "h_font = {'fontname':'DejaVu Sans Mono'}\n",
    "def plot_vtp(name, indentx, indentz,scale , title, oren):\n",
    "    reader = vtk.vtkXMLPolyDataReader()\n",
    "    path = \"{}.vtp\".format(name) #path or name of the vtp output\n",
    "    reader.SetFileName(path)\n",
    "    reader.Update()\n",
    "    polydata = reader.GetOutput()\n",
    "    vtk_organtype = VN.vtk_to_numpy(reader.GetOutput().GetCellData().GetArray(\"organType\"))\n",
    "    vtk_id = VN.vtk_to_numpy(reader.GetOutput().GetCellData().GetArray(\"id\"))\n",
    "    #vtk_time = VN.vtk_to_numpy(reader.GetOutput().GetPointData().GetArray(\"time\"))\n",
    "    vtk_cor = VN.vtk_to_numpy(reader.GetOutput().GetPoints().GetData())\n",
    "    vtk_line = VN.vtk_to_numpy(reader.GetOutput().GetLines().GetData())\n",
    "# print(vtk_organtype,\"\\n\",vtk_id)\n",
    "    ax.text2D(indentx/13 +0.3, indentz/23+0.57, title,rotation=0 , transform=ax.transAxes, size=20,**h_font)\n",
    "#     ax.set_xlim3d(-0.2,0.2)\n",
    "    for i in range(polydata.GetNumberOfCells()):\n",
    "        pts = polydata.GetCell(i).GetPoints()\n",
    "        \n",
    "        np_pts = np.array([pts.GetPoint(i) for i in range(pts.GetNumberOfPoints())])\n",
    "        x = [ (n)*scale+indentx-1 for n in np_pts[:,0]/100]\n",
    "        \n",
    "        z = [ (n)*scale+indentz for n in np_pts[:,2]/100]\n",
    "\n",
    "        y = [ n*scale for n in np_pts[:,1]/100]\n",
    "        ax.plot3D(x,y,z, c= get_organ_color(vtk_organtype[i]) ,linewidth=2)\n",
    "\n",
    "def get_organ_color(i):\n",
    "    if i == 2:\n",
    "        return \"wheat\"\n",
    "    elif i == 4:\n",
    "        return \"#5b965b\"\n",
    "    elif i == 8:\n",
    "        return \"lightgreen\"\n",
    "    else:\n",
    "        return \"black\";\n",
    "   \n",
    "\n",
    "#name = \"sympodial_dichasium\"\n",
    "plt.rcParams['figure.figsize'] = [20, 40]\n",
    "fig = plt.figure(\"Stem Branching and Leaf Arrangements\")\n",
    "fig.patch.set_alpha(0.)\n",
    "fig.subplots_adjust(hspace=0, wspace=0)\n",
    "ax = fig.add_subplot(int(\"11{}\".format(1)), projection='3d')\n",
    "#plt.axis('image')\n",
    "\n",
    "plt.title(\"\")\n",
    "plt.axis('off')\n",
    "ax.xaxis.pane.fill = False\n",
    "ax.yaxis.pane.fill = False\n",
    "ax.zaxis.pane.fill = False\n",
    "\n",
    "# Now set color to white (or whatever is \"invisible\")\n",
    "ax.xaxis.pane.set_edgecolor('w')\n",
    "ax.yaxis.pane.set_edgecolor('w')\n",
    "ax.zaxis.pane.set_edgecolor('w')\n",
    "ax.view_init(45, 270)\n",
    "ax.set_xlabel('')\n",
    "ax.set_ylabel('')\n",
    "ax.set_zlabel('')\n",
    "\n",
    "#ax.set_ylim3d(0,2)\n",
    "#ax.set_zlim3d(-1.5,0.5)\n",
    "ax.set_yticklabels([])\n",
    "ax.set_xticklabels([])\n",
    "ax.set_zticklabels([])\n",
    "ax.grid(False)\n",
    "plot_vtp(\"monopodial\",0,0,1,\"Monopodial\",1)\n",
    "\n",
    "plot_vtp(\"sympodial_dichasium\",2,0,1,\" Sympodial \\n dichasium\",1)\n",
    "plot_vtp(\"sympodial_monochasium\",4,0,1,\" Sympodial \\n monochasium\",0.5)\n",
    "\n",
    "\n",
    "plot_vtp(\"leaf_opposite_decussate\",0,-5,50, \" Opposite\\n decussate\",1)\n",
    "plot_vtp(\"leaf_alternate\",2,-5,50, \"Alternate\",1)\n",
    "plot_vtp(\"leaf_spiral\",4,-5,50, \"Spiral\" ,-1)\n",
    "ax.text2D(0/13 +0.3, 3/23+0.57, \"A\",rotation=0 , transform=ax.transAxes, size=30, **h_font)\n",
    "ax.text2D(0/13 +0.3, -1.9/23+0.57, \"B\",rotation=0 , transform=ax.transAxes, size=30, **h_font)\n",
    "\n",
    "ax.text2D(6/13 +0.3, 2.2/23+0.57, \"Branching Patterns\",rotation=90 , transform=ax.transAxes, size=30, **h_font)\n",
    "ax.text2D(6/13 +0.3, -2.2/23+0.57, \"Leaf Arrangements\",rotation=90 , transform=ax.transAxes, size=30, **h_font)\n"
   ]
  },
  {
   "cell_type": "markdown",
   "metadata": {},
   "source": [
    "## 4. Read and write parameter files.\n",
    "1. CPlantBox use XML file to parameterize the plant, the file could be a little bit scarry at first glance. However, here I will give you examples to try each parameter. In this way you will know all the parameters quickly.\n",
    "Firstly, we print out all the parameters:"
   ]
  },
  {
   "cell_type": "code",
   "execution_count": null,
   "metadata": {},
   "outputs": [],
   "source": [
    "# check parameters in xml files\n",
    "name= \"PMA2018_new\" #name of the small plant\n",
    "all_parameter = ET.parse(\"../../modelparameter/plant/{}.xml\".format(name)) # read the parameter file from xml file\n",
    "plant_parameter = all_parameter.getroot() # get the first level of parameters\n",
    "parameter_options={}\n",
    "parameter_order = 0\n",
    "for organ in plant_parameter.iter('organ'): \n",
    "    list=[]\n",
    "    print(organ.attrib ) # print of parameters\n",
    "    \n",
    "    for parameter in organ.iter('parameter'): \n",
    "        \n",
    "        print(parameter.attrib)\n",
    "        \n",
    "        list.append(parameter.attrib['name']) \n",
    "        parameter_order = parameter_order+1\n",
    "    print(\"\\n\" )\n",
    "    parameter_options[organ.attrib['type']+organ.attrib['subType']] = list\n",
    "\n"
   ]
  },
  {
   "cell_type": "code",
   "execution_count": null,
   "metadata": {},
   "outputs": [],
   "source": [
    "# here we show what is the plant simulated based on those parameters\n",
    "name= \"PMA2018\"\n",
    "time = 90\n",
    "smallplant = CPlantBox(name, time, name) # make a plant object in python\n",
    "fig = visual_plant(smallplant)    \n",
    "fig.show()"
   ]
  },
  {
   "cell_type": "markdown",
   "metadata": {},
   "source": [
    "## 6. Change the length of the Stem\n",
    "### 6.1 lmax: the maximal length\n",
    "Length is controled by six parameters, among them, the maximal length is controled by lmax. if we only change the lmax, the growth will only depends on the time. Lets see what will happend if we only change the lmax of the main stem:"
   ]
  },
  {
   "cell_type": "code",
   "execution_count": null,
   "metadata": {},
   "outputs": [],
   "source": [
    "\n",
    "def change_parameter(input_name, output_name, organ_name, subtype , parameter_name, value_type, value):   \n",
    "    all_parameter = ET.parse(\"../../modelparameter/{}.xml\".format(input_name)) # read the parameter file from xml file\n",
    "    plant_parameter = all_parameter.getroot() # get the first level of parameters\n",
    "    original_lmax = plant_parameter.find(\"./organ[@type='{}'][@subType='{}']/parameter[@name='{}']\".format(organ_name, subtype, parameter_name)).get('{}'.format(value_type)) # get function to read the value\n",
    "    # The '10' in the following line is the value that need to be changed change the value\n",
    "    plant_parameter.find(\"./organ[@type='{}'][@subType='{}']/parameter[@name='{}']\".format(organ_name, subtype, parameter_name)).set('{}'.format(value_type),'{}'.format(value)) # set function to read the value\n",
    "    current_lmax = plant_parameter.find(\"./organ[@type='{}'][@subType='{}']/parameter[@name='{}']\".format(organ_name, subtype, parameter_name)).get('{}'.format(value_type)) # get function to read the value\n",
    "    print('original {} of {} organ with subtype {} is {}, changed to {}'.format(parameter_name, organ_name, subtype ,original_lmax, current_lmax))\n",
    "    all_parameter.write('../../modelparameter/{}.xml'.format(output_name))\n",
    "change_parameter('PMA2018', 'testXML', 'stem', '1', 'lmax', 'value','10')\n",
    "name = 'testXML'\n",
    "smallplant = CPlantBox(name, time, name) # make a plant object in python\n",
    "fig = visual_plant(smallplant)    \n",
    "fig.show()\n",
    "# Try to change the \"10\" to 5\n",
    "change_parameter('PMA2018', 'testXML', 'stem', '1', 'lmax', 'value','5')\n",
    "smallplant = CPlantBox(name, time, name) # make a plant object in python\n",
    "fig = visual_plant(smallplant)    \n",
    "fig.show()"
   ]
  },
  {
   "cell_type": "markdown",
   "metadata": {},
   "source": [
    "### 5.2 lb, ln and la: the parameters controls branching\n",
    "In the previous section, you may notice that, with the increase of the lmax, the length of the main stem increased. But with the increase length of the stem, we also get more leaves. Is it possible to reduce the leaf numbers? There are two ways, first, we could change the lb, lb is the length at bottom without any branching."
   ]
  },
  {
   "cell_type": "code",
   "execution_count": null,
   "metadata": {},
   "outputs": [],
   "source": [
    "# change lb to 3 based on the testXML created in last section\n",
    "name = 'testXML'\n",
    "change_parameter('testXML', 'testXML', 'stem', '1', 'lb', 'value','3')\n",
    "smallplant = CPlantBox(name, time, name) # make a plant object in python\n",
    "fig = visual_plant(smallplant)    \n",
    "fig.show()\n",
    "# now there is 3 branches again"
   ]
  },
  {
   "cell_type": "code",
   "execution_count": null,
   "metadata": {},
   "outputs": [],
   "source": [
    "# change lb to 3 based on the testXML created in last section\n",
    "name = 'testXML'\n",
    "change_parameter('testXML', 'testXML', 'stem', '1', 'lb', 'value','3')\n",
    "smallplant = CPlantBox(name, time, name) # make a plant object in python\n",
    "fig = visual_plant(smallplant)    \n",
    "fig.show()\n",
    "# now there is 3 branches again"
   ]
  },
  {
   "cell_type": "markdown",
   "metadata": {},
   "source": [
    "### 5.2.2 Let's change the ln to see what will happen?\n",
    "ln is the internode distance"
   ]
  },
  {
   "cell_type": "code",
   "execution_count": null,
   "metadata": {},
   "outputs": [],
   "source": [
    "name = 'testXML'\n",
    "change_parameter('testXML', 'testXML', 'stem', '1', 'ln', 'value','0.3')\n",
    "smallplant = CPlantBox(name, time, name) # make a plant object in python\n",
    "fig = visual_plant(smallplant)    \n",
    "fig.show()"
   ]
  },
  {
   "cell_type": "markdown",
   "metadata": {},
   "source": [
    "### 5.2.2Let's change the la to see what will happen?\n",
    "la is the stem top without branches"
   ]
  },
  {
   "cell_type": "code",
   "execution_count": null,
   "metadata": {},
   "outputs": [],
   "source": [
    "name = 'testXML'\n",
    "change_parameter('testXML', 'testXML', 'stem', '1', 'la', 'value','2')\n",
    "smallplant = CPlantBox(name, time, name) # make a plant object in python\n",
    "fig = visual_plant(smallplant)    \n",
    "fig.show()"
   ]
  },
  {
   "cell_type": "code",
   "execution_count": null,
   "metadata": {},
   "outputs": [],
   "source": [
    "# in addition, the functiontype decides what branching internode distance will be\n",
    "name = 'testXML'\n",
    "change_parameter('testXML', 'testXML', 'stem', '1', 'ln', 'functiontype','1')\n",
    "smallplant = CPlantBox(name, time, name) # make a plant object in python\n",
    "fig = visual_plant(smallplant)    \n",
    "fig.show()"
   ]
  },
  {
   "cell_type": "code",
   "execution_count": null,
   "metadata": {},
   "outputs": [],
   "source": [
    "\n",
    "fig = make_subplots(\n",
    "    rows=3, cols=2,\n",
    "    specs=[[{'type': 'scatter3d'}, {'type': 'scatter3d'}],\n",
    "           [{'type': 'scatter3d'}, {'type': 'scatter3d'}],\n",
    "           [{'type': 'scatter3d'}, {'type': 'scatter3d'}]])\n",
    "\n",
    "name = 'testXML'\n",
    "change_parameter('testXML', 'testXML', 'stem', '1', 'lmax', 'value','20')\n",
    "change_parameter('testXML', 'testXML', 'leaf', '2', 'RotBeta', 'value','1')\n",
    "change_parameter('testXML', 'testXML', 'stem', '1', 'ln', 'functiontype','0')\n",
    "smallplant1 = CPlantBox(name, time, name) # make a plant object in python\n",
    "fig1 = visual_plant_sub(smallplant1,name=\"functiontype 0\")\n",
    "\n",
    "name = 'testXML'\n",
    "change_parameter('testXML', 'testXML', 'stem', '1', 'ln', 'functiontype','1')\n",
    "smallplant2 = CPlantBox(name, time, name) # make a plant object in python\n",
    "fig2 = visual_plant_sub(smallplant2,name=\"functiontype 1\")\n",
    "\n",
    "name = 'testXML'\n",
    "change_parameter('testXML', 'testXML', 'stem', '1', 'ln', 'functiontype','2')\n",
    "smallplant3 = CPlantBox(name, time, name) # make a plant object in python\n",
    "fig3 = visual_plant_sub(smallplant3,name=\"functiontype 2\")\n",
    "\n",
    "name = 'testXML'\n",
    "change_parameter('testXML', 'testXML', 'stem', '1', 'ln', 'functiontype','3')\n",
    "smallplant4 = CPlantBox(name, time, name) # make a plant object in python\n",
    "fig4 = visual_plant_sub(smallplant4,name=\"functiontype 3\")\n",
    "\n",
    "name = 'testXML'\n",
    "change_parameter('testXML', 'testXML', 'stem', '1', 'ln', 'functiontype','2')\n",
    "smallplant5 = CPlantBox(name, time, name) # make a plant object in python\n",
    "fig5 = visual_plant_sub(smallplant3,name=\"functiontype 4\")\n",
    "\n",
    "name = 'testXML'\n",
    "change_parameter('testXML', 'testXML', 'stem', '1', 'ln', 'functiontype','3')\n",
    "smallplant6 = CPlantBox(name, time, name) # make a plant object in python\n",
    "fig6 = visual_plant_sub(smallplant4,name=\"functiontype 5\")\n",
    "\n",
    "fig.add_trace(fig1, 1, 1 )\n",
    "fig.add_trace(fig2, 1, 2)\n",
    "fig.add_trace(fig3, 2, 1)\n",
    "fig.add_trace(fig4, 2, 2)\n",
    "fig.add_trace(fig5, 3, 1)\n",
    "fig.add_trace(fig6, 3, 2)\n",
    "\n",
    "fig.update_layout(\n",
    "    title_text='different RotBeta (function type)',\n",
    "    height=800,\n",
    "    width=800\n",
    ")\n",
    "\n",
    "fig.show()"
   ]
  },
  {
   "cell_type": "markdown",
   "metadata": {},
   "source": [
    "## 6. Change the rotation of the Stem\n",
    "### Rotation Theta (rotaBeta) : the angle between main stem and sub branch\n",
    "### Rotation Beta (rotaBeta) : the angle between two neigbour sub branch\n",
    "the value of Rotation multiply by Pie is the revlution of the neighbouring sub branch."
   ]
  },
  {
   "cell_type": "code",
   "execution_count": null,
   "metadata": {},
   "outputs": [],
   "source": [
    "from plotly.subplots import make_subplots\n",
    "fig = make_subplots(\n",
    "    rows=2, cols=2,\n",
    "    specs=[[{'type': 'scatter3d'}, {'type': 'scatter3d'}],\n",
    "           [{'type': 'scatter3d'}, {'type': 'scatter3d'}]])\n",
    "\n",
    "name = 'testXML'\n",
    "change_parameter('testXML', 'testXML', 'stem', '1', 'lmax', 'value','20')\n",
    "change_parameter('testXML', 'testXML', 'leaf', '2', 'RotBeta', 'value','0')\n",
    "smallplant1 = CPlantBox(name, time, name) # make a plant object in python\n",
    "fig1 = visual_plant_sub(smallplant1,name=\"0 degree rotation\") # every two neighbouring branch is 0 degree\n",
    "\n",
    "name = 'testXML'\n",
    "change_parameter('testXML', 'testXML', 'leaf', '2', 'RotBeta', 'value','0.166666') # the rotation angle is equal to 180*0.166666 \n",
    "smallplant2 = CPlantBox(name, time, name) # make a plant object in python\n",
    "fig2 = visual_plant_sub(smallplant2,name=\"30 degree rotation\") # every two neighbouring branch is 30 degree\n",
    "\n",
    "name = 'testXML'\n",
    "change_parameter('testXML', 'testXML', 'leaf', '2', 'RotBeta', 'value','0.5') # the rotation angle is equal to 180*0.5 \n",
    "smallplant3 = CPlantBox(name, time, name) # make a plant object in python\n",
    "fig3 = visual_plant_sub(smallplant3,name=\"90 degree rotation\") # every two neighbouring branch is 90 degree\n",
    "\n",
    "name = 'testXML'\n",
    "change_parameter('testXML', 'testXML', 'leaf', '2', 'RotBeta', 'value','1') # the rotation angle is equal to 180*1 \n",
    "smallplant4 = CPlantBox(name, time, name) # make a plant object in python\n",
    "fig4 = visual_plant_sub(smallplant4,name=\"180 degree rotation\") # every two neighbouring branch is 180 degree\n",
    "\n",
    "fig.add_trace(fig1, 1, 1 )\n",
    "fig.add_trace(fig2, 1, 2)\n",
    "fig.add_trace(fig3, 2, 1)\n",
    "fig.add_trace(fig4, 2, 2)\n",
    "\n",
    "fig.update_layout(\n",
    "    title_text='different RotBeta (function type)',\n",
    "    height=800,\n",
    "    width=800\n",
    ")\n",
    "\n",
    "fig.show()"
   ]
  },
  {
   "cell_type": "code",
   "execution_count": null,
   "metadata": {},
   "outputs": [],
   "source": []
  }
 ],
 "metadata": {
  "accelerator": "GPU",
  "colab": {
   "collapsed_sections": [],
   "name": "CPlantBox-PiafMunch_Tutorial (include installation).ipynb",
   "provenance": [],
   "version": "0.3.2"
  },
  "kernelspec": {
   "display_name": "Python 3",
   "language": "python",
   "name": "python3"
  },
  "language_info": {
   "codemirror_mode": {
    "name": "ipython",
    "version": 3
   },
   "file_extension": ".py",
   "mimetype": "text/x-python",
   "name": "python",
   "nbconvert_exporter": "python",
   "pygments_lexer": "ipython3",
   "version": "3.6.8"
  }
 },
 "nbformat": 4,
 "nbformat_minor": 4
}
