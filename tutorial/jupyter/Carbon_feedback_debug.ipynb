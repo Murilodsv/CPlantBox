{
 "cells": [
  {
   "cell_type": "code",
   "execution_count": 1,
   "metadata": {},
   "outputs": [],
   "source": [
    "from CPlantBox_PiafMunch import *"
   ]
  },
  {
   "cell_type": "code",
   "execution_count": 2,
   "metadata": {},
   "outputs": [],
   "source": [
    "name = \"carbon2020.xml\"\n",
    "plant = pb.Plant()\n",
    "plant.openXML(\"../../modelparameter/plant/\" + name)\n",
    "seeds = plant.getOrganRandomParameter(pb.OrganTypes.seed)\n",
    "roots = plant.getOrganRandomParameter(pb.OrganTypes.root)\n",
    "stems = plant.getOrganRandomParameter(pb.OrganTypes.stem)\n",
    "leafs = plant.getOrganRandomParameter(pb.OrganTypes.leaf)\n",
    "plant.initialize(True)"
   ]
  },
  {
   "cell_type": "code",
   "execution_count": 9,
   "metadata": {},
   "outputs": [
    {
     "data": {
      "text/plain": [
       "10.0"
      ]
     },
     "execution_count": 9,
     "metadata": {},
     "output_type": "execute_result"
    }
   ],
   "source": [
    "organ[0].getParam().r"
   ]
  },
  {
   "cell_type": "code",
   "execution_count": 30,
   "metadata": {},
   "outputs": [],
   "source": [
    "# make two root system, both grow to 1day at same speed, but one change the growthrate to o.1 the other changed to 10. we can find the difference though output\n",
    "#test of python modification of growth rate change it to 10\n",
    "plant.simulate(1)\n",
    "organ = plant.getOrgans()\n",
    "plant.write(\"{}{}{}.vtp\".format(1,str(name),\"change10\"))\n",
    "organ[0].getParam().r=10\n",
    "plant.simulate(5)\n",
    "plant.write(\"{}{}{}.vtp\".format(5,str(name),\"change10\"))"
   ]
  },
  {
   "cell_type": "code",
   "execution_count": 5,
   "metadata": {},
   "outputs": [
    {
     "name": "stdout",
     "output_type": "stream",
     "text": [
      "output successful\n"
     ]
    }
   ],
   "source": [
    "# setting root water potential (this can be changeed by resistance )\n",
    "# getting id (check the nodeId of one orgen children and then check if it belongs to)\n",
    "# rewrite growth rate\n",
    "\n",
    "plant.simulate(time)\n",
    "plant.write(\"{}.vtp\".format(str(name)))\n",
    "dict_all  = convert( plant )\n",
    "piafmunch_outputname = name +\".ini\"\n",
    "\n",
    "write_PiafMunch_parameter(dict_all['node_connection'], dict_all['nodes_organtype'], dict_all['nodes_r_st'], dict_all['unq_cnt'], piafmunch_outputname)\n"
   ]
  },
  {
   "cell_type": "code",
   "execution_count": 60,
   "metadata": {},
   "outputs": [
    {
     "data": {
      "text/plain": [
       "217"
      ]
     },
     "execution_count": 60,
     "metadata": {},
     "output_type": "execute_result"
    }
   ],
   "source": [
    "organ = plant.getOrgans()\n",
    "nodeIDtoOrgan = [0]*plant.getNumberOfNodes()\n",
    "i =0\n",
    "for i in range(0, len(organ)):\n",
    "    j=0\n",
    "    for j in range(0,organ[i].getNumberOfNodes()):\n",
    "        nodeIDtoOrgan[organ[i].getNodeId(j)]=i+1\n",
    "        \n",
    "nodeIDtoOrgan[organ[i].getNodeId(j)]=i+1\n"
   ]
  },
  {
   "cell_type": "code",
   "execution_count": 71,
   "metadata": {},
   "outputs": [],
   "source": [
    "organ = plant.getOrgans()\n",
    "nodeIDtoOrgan = [0]*plant.getNumberOfNodes()\n",
    "i =0\n",
    "for i in range(0, len(organ)):\n",
    "    j=0\n",
    "    for j in range(0,organ[i].getNumberOfNodes()):\n",
    "        nodeIDtoOrgan[organ[i].getNodeId(j)]=i+1"
   ]
  },
  {
   "cell_type": "code",
   "execution_count": 68,
   "metadata": {},
   "outputs": [
    {
     "data": {
      "text/plain": [
       "106"
      ]
     },
     "execution_count": 68,
     "metadata": {},
     "output_type": "execute_result"
    }
   ],
   "source": [
    "organ[3].getNodeId(1)"
   ]
  },
  {
   "cell_type": "code",
   "execution_count": null,
   "metadata": {},
   "outputs": [],
   "source": [
    "nodeIDtoOrgan"
   ]
  },
  {
   "cell_type": "code",
   "execution_count": 6,
   "metadata": {},
   "outputs": [
    {
     "name": "stdout",
     "output_type": "stream",
     "text": [
      "output successful\n"
     ]
    }
   ],
   "source": [
    "dict_all  = convert( plant )\n",
    "piafmunch_outputname = name +\".ini\"\n",
    "write_PiafMunch_parameter(dict_all['node_connection'], dict_all['nodes_organtype'], dict_all['nodes_r_st'], dict_all['unq_cnt'], piafmunch_outputname)\n",
    "nodes_organtype = dict_all['nodes_organtype']\n",
    "N1R_node = nodes_organtype[(nodes_organtype[:,0] >2 ) & (nodes_organtype[:,1] ==2 ) & (nodes_organtype[:,2] ==1 )]\n",
    "N1L_node = nodes_organtype[(nodes_organtype[:,0] >2 ) & ((nodes_organtype[:,1] ==4)|(nodes_organtype[:,1] ==3)  ) & (nodes_organtype[:,2] ==1 )]"
   ]
  },
  {
   "cell_type": "code",
   "execution_count": 83,
   "metadata": {},
   "outputs": [
    {
     "data": {
      "text/plain": [
       "3"
      ]
     },
     "execution_count": 83,
     "metadata": {},
     "output_type": "execute_result"
    }
   ],
   "source": [
    "nodeIDtoOrgan[int(N1R_node[1][0])]"
   ]
  },
  {
   "cell_type": "code",
   "execution_count": 4,
   "metadata": {},
   "outputs": [
    {
     "name": "stdout",
     "output_type": "stream",
     "text": [
      "output successful\n"
     ]
    }
   ],
   "source": [
    "day = 1\n",
    "hour= day*24\n",
    "plant.simulate(day)\n",
    "organ = plant.getOrgans()\n",
    "plant.write(\"{}{}{}.vtp\".format(hour,str(name),\"1st_test\"))\n",
    "dict_all  = convert( plant )\n",
    "piafmunch_outputname = name +\".ini\"\n",
    "Soil_water = [0]*(len(dict_all['node_connection'])+1)\n",
    "write_PiafMunch_parameter(dict_all['node_connection'], dict_all['nodes_organtype'], dict_all['nodes_r_st'], dict_all['unq_cnt'], Soil_water,piafmunch_outputname,hour)\n",
    "\n"
   ]
  },
  {
   "cell_type": "code",
   "execution_count": 5,
   "metadata": {},
   "outputs": [
    {
     "name": "stdout",
     "output_type": "stream",
     "text": [
      "at Nr. 222 we can find JW_Trsv (ml / h)[ 1]\n",
      "the end is P_PhlApo (MPa)[ 1]\n",
      "at Nr. 171 we can find JW_Apo (ml / h)[ 1]\n",
      "the end is JW_ParMb (ml / h)[ 1]\n",
      "at Nr. 324 we can find P_Xyl (MPa)[ 1]\n",
      "the end is PsiSoil (MPa)[ 1]\n",
      "at Nr. 256 we can find P_ST (MPa)[ 1]\n",
      "the end is P_ST_dot (MPa / h)[ 1]\n",
      "at Nr. 545 we can find Q_ST (mmol)[ 1]\n",
      "the end is JS_ST (mmol / h)[ 1]\n",
      "at Nr. 52 we can find C_ST (mmol / ml)[ 1]\n",
      "the end is C_Sympl (mmol / ml)[ 1]\n",
      "at Nr. 613 we can find JW_Xyl (ml / h)[ 1]\n",
      "the end is JW_Xyl (ml / h)[17] \n",
      "at Nr. 579 we can find JW_ST (ml / h)[ 1]\n",
      "the end is JW_ST (ml / h)[17]\n",
      "at Nr. 562 we can find JS_ST (mmol / h)[ 1]\n",
      "the end is JS_ST (mmol / h)[17]\n",
      "[[0.00000e+00 0.00000e+00 0.00000e+00 ... 0.00000e+00 0.00000e+00\n",
      "  0.00000e+00]\n",
      " [2.40157e-06 2.04402e-06 1.64620e-06 ... 3.46585e-06 3.78489e-06\n",
      "  4.26344e-06]\n",
      " [4.92485e-06 4.70811e-06 4.49623e-06 ... 5.68472e-06 5.86331e-06\n",
      "  6.15573e-06]\n",
      " ...\n",
      " [2.74276e-05 2.73134e-05 2.71989e-05 ... 2.78212e-05 2.78888e-05\n",
      "  2.79572e-05]\n",
      " [2.74258e-05 2.73116e-05 2.71971e-05 ... 2.78194e-05 2.78871e-05\n",
      "  2.79554e-05]\n",
      " [2.74242e-05 2.73099e-05 2.71955e-05 ... 2.78177e-05 2.78854e-05\n",
      "  2.79537e-05]]\n"
     ]
    },
    {
     "name": "stderr",
     "output_type": "stream",
     "text": [
      "/mnt/c/cpb5/tutorial/jupyter/CPlantBox_PiafMunch.py:866: FutureWarning:\n",
      "\n",
      "read_table is deprecated, use read_csv instead.\n",
      "\n"
     ]
    }
   ],
   "source": [
    "os.system(' /mnt/c/prog_sct.bas/programs/C++/PIAFMunch2/projects/PIAFMunch2.exe {} -noGUI -q'.format(piafmunch_outputname))\n",
    "now = datetime.datetime.now()\n",
    "os.system('mv ./{}_{}-{:02}-{:02}*output.txt  ./{}_output.txt'.format(name, now.year ,now.month, now.day,name ) )\n",
    "\n",
    "nodeIDtoOrgan = [0]*plant.getNumberOfNodes()\n",
    "i =0\n",
    "for i in range(0, len(organ)):\n",
    "    j=0\n",
    "    for j in range(0,organ[i].getNumberOfNodes()):\n",
    "        nodeIDtoOrgan[organ[i].getNodeId(j)]=i+1\n",
    "\n",
    "nodes_organtype = dict_all['nodes_organtype']\n",
    "N1R_node = nodes_organtype[(nodes_organtype[:,0] >2 ) & (nodes_organtype[:,1] ==2 ) & (nodes_organtype[:,2] ==1 )]\n",
    "N1L_node = nodes_organtype[(nodes_organtype[:,0] >2 ) & ((nodes_organtype[:,1] ==4)|(nodes_organtype[:,1] ==3)  ) & (nodes_organtype[:,2] ==1 )]\n",
    "piaf_output = read_output(name,  dict_all[\"node_connection\"])\n",
    "print(piaf_output[\"Q_ST\"])\n"
   ]
  },
  {
   "cell_type": "code",
   "execution_count": 11,
   "metadata": {},
   "outputs": [
    {
     "data": {
      "text/plain": [
       "array([[ 1.00006e+00,  1.00005e+00,  1.00004e+00, ...,  1.00000e+00,\n",
       "         1.00000e+00,  1.00000e+00],\n",
       "       [ 7.11543e-01,  7.11591e-01,  7.11632e-01, ...,  7.11694e-01,\n",
       "         7.11694e-01,  7.11694e-01],\n",
       "       [ 5.06108e-01,  5.06169e-01,  5.06232e-01, ...,  5.06510e-01,\n",
       "         5.06510e-01,  5.06510e-01],\n",
       "       ...,\n",
       "       [-3.66966e-04, -3.32392e-04, -2.97235e-04, ..., -6.86556e-06,\n",
       "        -4.65670e-06, -2.36857e-06],\n",
       "       [-3.67072e-04, -3.32487e-04, -2.97319e-04, ..., -6.84741e-06,\n",
       "        -4.64391e-06, -2.36180e-06],\n",
       "       [-3.67153e-04, -3.32560e-04, -2.97383e-04, ..., -6.83051e-06,\n",
       "        -4.63222e-06, -2.35576e-06]])"
      ]
     },
     "execution_count": 11,
     "metadata": {},
     "output_type": "execute_result"
    }
   ],
   "source": [
    "#assign growth rate of first root organ\n",
    "organ[nodeIDtoOrgan[int(N1R_node[0][0])]].getParam().r"
   ]
  },
  {
   "cell_type": "code",
   "execution_count": 11,
   "metadata": {},
   "outputs": [
    {
     "data": {
      "text/plain": [
       "2"
      ]
     },
     "execution_count": 11,
     "metadata": {},
     "output_type": "execute_result"
    }
   ],
   "source": [
    "nodeIDtoOrgan[N1R_node]"
   ]
  },
  {
   "cell_type": "code",
   "execution_count": 14,
   "metadata": {},
   "outputs": [
    {
     "data": {
      "text/plain": [
       "2.0885399999999998e-05"
      ]
     },
     "execution_count": 14,
     "metadata": {},
     "output_type": "execute_result"
    }
   ],
   "source": [
    "piaf_output[\"Q_ST\"][int(N1R_node[1][0])][-1]\n",
    "# piaf_output[\"Q_ST\"][int(N1R_node[0][0])][-1]"
   ]
  },
  {
   "cell_type": "code",
   "execution_count": 17,
   "metadata": {},
   "outputs": [],
   "source": [
    "nodeIDtoOrgan = [0]*plant.getNumberOfNodes()\n",
    "i =0\n",
    "for i in range(0, len(organ)):\n",
    "    j=0\n",
    "    for j in range(0,organ[i].getNumberOfNodes()):\n",
    "        nodeIDtoOrgan[organ[i].getNodeId(j)]=i+1"
   ]
  },
  {
   "cell_type": "code",
   "execution_count": 21,
   "metadata": {},
   "outputs": [
    {
     "data": {
      "text/plain": [
       "1"
      ]
     },
     "execution_count": 21,
     "metadata": {},
     "output_type": "execute_result"
    }
   ],
   "source": [
    "nodeIDtoOrgan[int(N1R_node[1][0])]"
   ]
  },
  {
   "cell_type": "code",
   "execution_count": 18,
   "metadata": {},
   "outputs": [
    {
     "data": {
      "text/plain": [
       "2.0"
      ]
     },
     "execution_count": 18,
     "metadata": {},
     "output_type": "execute_result"
    }
   ],
   "source": [
    "organ[nodeIDtoOrgan[int(N1R_node[0][0])]].getParam().r"
   ]
  },
  {
   "cell_type": "code",
   "execution_count": 19,
   "metadata": {},
   "outputs": [
    {
     "data": {
      "text/plain": [
       "2.0"
      ]
     },
     "execution_count": 19,
     "metadata": {},
     "output_type": "execute_result"
    }
   ],
   "source": [
    "organ[nodeIDtoOrgan[int(N1R_node[1][0])]].getParam().r"
   ]
  },
  {
   "cell_type": "code",
   "execution_count": 6,
   "metadata": {},
   "outputs": [],
   "source": [
    "ana = pb.SegmentAnalyser(plant)\n",
    "ana.write(\"{}.vtp\".format(str(name)))"
   ]
  },
  {
   "cell_type": "code",
   "execution_count": 7,
   "metadata": {},
   "outputs": [],
   "source": [
    "nodes_organtype = dict_all['nodes_organtype']\n",
    "N1R_node = nodes_organtype[(nodes_organtype[:,0] >2 ) & (nodes_organtype[:,1] ==2 ) & (nodes_organtype[:,2] ==1 )]\n",
    "N1L_node = nodes_organtype[(nodes_organtype[:,0] >2 ) & ((nodes_organtype[:,1] ==4)|(nodes_organtype[:,1] ==3)  ) & (nodes_organtype[:,2] ==1 )]"
   ]
  },
  {
   "cell_type": "code",
   "execution_count": 8,
   "metadata": {},
   "outputs": [],
   "source": [
    "\n",
    "nodes_cor = python_nodes(plant)"
   ]
  },
  {
   "cell_type": "code",
   "execution_count": 9,
   "metadata": {},
   "outputs": [
    {
     "name": "stdout",
     "output_type": "stream",
     "text": [
      "[ 1.20000000e+01  2.00000000e+00  1.00000000e+00 -2.73409015e-03\n",
      "  2.29506125e-04 -5.95507245e-02]\n"
     ]
    }
   ],
   "source": [
    "for i in range(len(N1R_node)):\n",
    "    print(nodes_cor[int(N1R_node[i][0])-1])"
   ]
  },
  {
   "cell_type": "code",
   "execution_count": 7,
   "metadata": {},
   "outputs": [
    {
     "data": {
      "text/plain": [
       "array([[14.,  4.,  1.,  1.],\n",
       "       [18.,  3.,  1.,  1.]])"
      ]
     },
     "execution_count": 7,
     "metadata": {},
     "output_type": "execute_result"
    }
   ],
   "source": [
    "\n",
    "N1R_node"
   ]
  },
  {
   "cell_type": "code",
   "execution_count": 125,
   "metadata": {},
   "outputs": [
    {
     "data": {
      "text/plain": [
       "768"
      ]
     },
     "execution_count": 125,
     "metadata": {},
     "output_type": "execute_result"
    }
   ],
   "source": [
    "os.system(' /mnt/c/prog_sct.bas/programs/C++/PIAFMunch2/projects/PIAFMunch2.exe {} -noGUI -q'.format(piafmunch_outputname))"
   ]
  },
  {
   "cell_type": "code",
   "execution_count": 75,
   "metadata": {},
   "outputs": [
    {
     "data": {
      "text/plain": [
       "0"
      ]
     },
     "execution_count": 75,
     "metadata": {},
     "output_type": "execute_result"
    }
   ],
   "source": [
    "now = datetime.datetime.now()\n",
    "os.system('mv ./{}_{}-{:02}-{:02}*output.txt  ./{}_output.txt'.format(name, now.year ,now.month, now.day,name ) )\n"
   ]
  },
  {
   "cell_type": "code",
   "execution_count": 49,
   "metadata": {},
   "outputs": [],
   "source": [
    "rs = pb.RootSystem()\n",
    "name = \"../../modelparameter/rootsystem/Zea_mays_4_Leitner_2014.xml\"\n",
    "rs.readParameters(name )\n",
    "# 2. A split pot experiment\n",
    "topBox = pb.SDF_PlantBox(22, 20, 20)\n",
    "topBox = pb.SDF_RotateTranslate(topBox, pb.Vector3d(0, 0, 15))\n",
    "sideBox = pb.SDF_PlantBox(12, 12, 35)\n",
    "left = pb.SDF_RotateTranslate(sideBox, pb.Vector3d(-6.5, 0, -5))\n",
    "right = pb.SDF_RotateTranslate(sideBox, pb.Vector3d(6.5, 0, -5))\n",
    "box_ = []\n",
    "box_.append(topBox)\n",
    "box_.append(left)\n",
    "box_.append(right)\n",
    "splitBox = pb.SDF_Union(box_)\n",
    "rs.setGeometry(splitBox)\n",
    "# Export container geometry as Paraview Python script\n",
    "rs.initialize()\n",
    "rs.simulate(90)  # days\n",
    "rs.write(\"splitBox.py\")\n"
   ]
  },
  {
   "cell_type": "markdown",
   "metadata": {},
   "source": [
    "## Carbon feedback\n",
    "Growth control is the main purpose of having a feedback from carbon content on the growth rate.\n"
   ]
  },
  {
   "cell_type": "code",
   "execution_count": 28,
   "metadata": {},
   "outputs": [],
   "source": [
    "from CPlantBox_PiafMunch import * #import all the libraries"
   ]
  },
  {
   "cell_type": "code",
   "execution_count": 38,
   "metadata": {},
   "outputs": [],
   "source": [
    "name = \"carbon2020.xml\"\n",
    "plant = pb.Plant()\n",
    "\n",
    "# 2. A split pot experiment\n",
    "topBox = pb.SDF_PlantBox(22, 20, 20)\n",
    "topBox = pb.SDF_RotateTranslate(topBox, pb.Vector3d(0, 0, 15))\n",
    "sideBox = pb.SDF_PlantBox(12, 12, 35)\n",
    "left = pb.SDF_RotateTranslate(sideBox, pb.Vector3d(-6.5, 0, -5))\n",
    "right = pb.SDF_RotateTranslate(sideBox, pb.Vector3d(6.5, 0, -5))\n",
    "box_ = []\n",
    "box_.append(topBox)\n",
    "box_.append(left)\n",
    "box_.append(right)\n",
    "splitBox = pb.SDF_Union(box_)\n",
    "\n",
    "\n",
    "# Set geometry: rotatedRhizotron, splitBox, or rhizoTube\n",
    "plant.setGeometry(splitBox)\n",
    "\n",
    "plant.openXML(\"../../modelparameter/plant/\" + name)\n",
    "seeds = plant.getOrganRandomParameter(pb.OrganTypes.seed)\n",
    "roots = plant.getOrganRandomParameter(pb.OrganTypes.root)\n",
    "stems = plant.getOrganRandomParameter(pb.OrganTypes.stem)\n",
    "leafs = plant.getOrganRandomParameter(pb.OrganTypes.leaf)\n",
    "plant.initialize(True)\n",
    "\n"
   ]
  },
  {
   "cell_type": "code",
   "execution_count": 3,
   "metadata": {},
   "outputs": [
    {
     "name": "stdout",
     "output_type": "stream",
     "text": [
      "3.1415926000000004e-12\n",
      "3.1415926000000004e-12\n",
      "3.1415926000000004e-12\n",
      "3.1415926000000004e-12\n",
      "3.1415926000000004e-12\n",
      "3.1415926000000004e-12\n",
      "3.1415926000000004e-12\n",
      "3.1415926000000004e-12\n",
      "3.1415926000000004e-12\n",
      "3.1415926000000004e-12\n",
      "3.1415926000000004e-12\n",
      "3.1415926000000004e-12\n",
      "3.1415926000000004e-12\n",
      "3.1415926000000004e-12\n",
      "3.1415926000000004e-12\n",
      "3.1415926000000004e-12\n",
      "3.1415926000000004e-12\n",
      "3.1415926000000004e-12\n",
      "2.7707746346282993e-12\n",
      "2.7707746346282993e-12\n",
      "2.7707746346282993e-12\n",
      "2.7707746346282993e-12\n",
      "2.7707746346282993e-12\n",
      "2.7707746346282993e-12\n",
      "2.7707746346282993e-12\n",
      "2.7707746346282993e-12\n",
      "2.601163507485464e-14\n",
      "2.601163507485464e-14\n",
      "2.601163507485464e-14\n",
      "2.601163507485464e-14\n",
      "[2.7707746346282993e-12, 3.1415926000000004e-12, 3.1415926000000004e-12, 3.1415926000000004e-12, 3.1415926000000004e-12, 3.1415926000000004e-12, 3.1415926000000004e-12, 3.1415926000000004e-12, 3.1415926000000004e-12, 3.1415926000000004e-12, 3.1415926000000004e-12, 3.1415926000000004e-12, 3.1415926000000004e-12, 3.1415926000000004e-12, 3.1415926000000004e-12, 3.1415926000000004e-12, 3.1415926000000004e-12, 2.7707746346282993e-12, 2.7707746346282993e-12, 2.601163507485464e-14, 2.601163507485464e-14, 2.601163507485464e-14, 2.601163507485464e-14, 2.7707746346282993e-12, 2.7707746346282993e-12, 2.7707746346282993e-12, 2.7707746346282993e-12]\n",
      "output successful\n",
      "at Nr. 352 we can find JW_Trsv (ml / h)[ 1]\n",
      "the end is P_PhlApo (MPa)[ 1]\n",
      "at Nr. 271 we can find JW_Apo (ml / h)[ 1]\n",
      "the end is JW_ParMb (ml / h)[ 1]\n",
      "at Nr. 514 we can find P_Xyl (MPa)[ 1]\n",
      "the end is PsiSoil (MPa)[ 1]\n",
      "at Nr. 406 we can find P_ST (MPa)[ 1]\n",
      "the end is P_ST_dot (MPa / h)[ 1]\n",
      "at Nr. 865 we can find Q_ST (mmol)[ 1]\n",
      "the end is JS_ST (mmol / h)[ 1]\n",
      "at Nr. 82 we can find C_ST (mmol / ml)[ 1]\n",
      "the end is C_Sympl (mmol / ml)[ 1]\n",
      "at Nr. 970 we can find JW_Xyl (ml / h)[ 1]\n",
      "the end is JW_Xyl (ml / h)[26] \n",
      "at Nr. 918 we can find JW_ST (ml / h)[ 1]\n",
      "the end is JW_ST (ml / h)[26]\n",
      "at Nr. 892 we can find JS_ST (mmol / h)[ 1]\n",
      "the end is JS_ST (mmol / h)[26]\n",
      "[9. 2. 1. 1.]\n",
      "1.31633\n",
      "[17.  2.  1.  1.]\n",
      "1.31779\n"
     ]
    },
    {
     "name": "stderr",
     "output_type": "stream",
     "text": [
      "/mnt/c/cpb5/tutorial/jupyter/CPlantBox_PiafMunch.py:852: FutureWarning:\n",
      "\n",
      "read_table is deprecated, use read_csv instead.\n",
      "\n"
     ]
    }
   ],
   "source": [
    "# absolute respiration maintenance of plant segment = volumen of the segment\n",
    "for i in range(1,2):\n",
    "    day = 1 # the step of every loop (day)\n",
    "    hour= day*24 # the hour of every loop (hour) used in PiafMunch\n",
    "    plant.simulate(day) # start simulation\n",
    "    organ = plant.getOrgans()\n",
    "    plant.write(\"{}{}{}.vtp\".format(\"only_Q_ST_test\",str(name),hour*1)) #writes vtp\n",
    "    # plant.write(\"{}{}{}.py\".format(hour,str(name),\"1st_test\"))\n",
    "    dict_all  = convert( plant ) # convert plant to python outputs\n",
    "    piafmunch_outputname = name +\".ini\" # set the name of the parameters\n",
    "    Soil_water = [0]*(len(dict_all['node_connection'])+1) # initiate soil water potentil\n",
    "    Seg_radius = [0]*((len(organ))+1) # initiate the radius of each segment\n",
    "    k1 = [0]*(len(dict_all['node_connection'])+1) # k1 parameter in equation\n",
    "    nodeIDtoOrgan = [0]*plant.getNumberOfNodes() #\n",
    "    r_k1 = 1e-10 # magnitude midification, because the realistic value in literature need to be found\n",
    "    k =0\n",
    "    for k in range(0, len(organ)):\n",
    "        Seg_radius[k] = organ[k].getParam().a\n",
    "        j=0\n",
    "        for j in range(0,organ[k].getNumberOfNodes()):\n",
    "            nodeIDtoOrgan[organ[k].getNodeId(j)]=i\n",
    "            Carbon_main= Seg_radius[k]**2*3.1415926* organ[i].getOrganRandomParameter().dx *r_k1\n",
    "            # print(Carbon_main) # absolute carbon maintentance\n",
    "            k1[organ[k].getNodeId(j)] = Carbon_main\n",
    "    # pass the absolute carbon maintentance to piafmunch\n",
    "    write_PiafMunch_parameter(dict_all['node_connection'], dict_all['nodes_organtype'], dict_all['nodes_r_st'], dict_all['unq_cnt'], Soil_water, k1, piafmunch_outputname,hour)\n",
    "\n",
    "    os.system(' /mnt/c/prog_sct.bas/programs/C++/PIAFMunch2/projects/PIAFMunch2.exe {} -noGUI -q'.format(piafmunch_outputname))\n",
    "    now = datetime.datetime.now()\n",
    "    os.system('mv ./{}_{}-{:02}-{:02}*output.txt  ./{}_output.txt'.format(name, now.year ,now.month, now.day,name ) )\n",
    "    \n",
    "\n",
    "\n",
    "    nodes_organtype = dict_all['nodes_organtype']\n",
    "    N1R_node = nodes_organtype[(nodes_organtype[:,0] >2 ) & (nodes_organtype[:,1] ==2 ) & (nodes_organtype[:,2] ==1 )]\n",
    "    N1L_node = nodes_organtype[(nodes_organtype[:,0] >2 ) & ((nodes_organtype[:,1] ==4)|(nodes_organtype[:,1] ==3)  ) & (nodes_organtype[:,2] ==1 )]\n",
    "    piaf_output = read_output(name,  dict_all[\"node_connection\"])\n",
    "    for i in N1R_node:\n",
    "        print(i)\n",
    "        carbon_content = piaf_output[\"Q_ST\"][-1][int(i[0])-1]* 1e5 # directly pass the Q_ST * 1e5 to growth rate\n",
    "        print(carbon_content)        \n",
    "        organ[nodeIDtoOrgan[int(i[0])-1]].getParam().r = carbon_content "
   ]
  },
  {
   "cell_type": "code",
   "execution_count": 41,
   "metadata": {},
   "outputs": [
    {
     "name": "stdout",
     "output_type": "stream",
     "text": [
      "[3.222050629117982e-12, 3.1415926000000004e-12, 3.1415926000000004e-12, 3.1415926000000004e-12, 3.1415926000000004e-12, 3.1415926000000004e-12, 3.1415926000000004e-12, 3.1415926000000004e-12, 3.1415926000000004e-12, 3.1415926000000004e-12, 3.1415926000000004e-12, 3.1415926000000004e-12, 3.1415926000000004e-12, 3.1415926000000004e-12, 3.1415926000000004e-12, 3.1415926000000004e-12, 3.1415926000000004e-12, 3.222050629117982e-12, 3.222050629117982e-12, 3.0668088265252e-14, 3.0668088265252e-14, 3.0668088265252e-14, 3.0668088265252e-14, 3.222050629117982e-12, 3.222050629117982e-12, 3.222050629117982e-12, 3.222050629117982e-12, 3.1415926000000004e-12, 3.1415926000000004e-12, 3.1415926000000004e-12, 3.1415926000000004e-12, 3.1415926000000004e-12, 3.1415926000000004e-12, 3.1415926000000004e-12, 3.1415926000000004e-12, 3.1415926000000004e-12, 3.1415926000000004e-12, 3.1415926000000004e-12, 3.1415926000000004e-12, 3.1415926000000004e-12, 3.1415926000000004e-12, 3.1415926000000004e-12, 3.1415926000000004e-12, 3.0668088265252e-14, 3.0668088265252e-14, 3.0668088265252e-14, 3.222050629117982e-12, 5.300829251183655e-14, 5.300829251183655e-14, 5.300829251183655e-14, 5.300829251183655e-14, 5.300829251183655e-14, 3.222050629117982e-12, 3.222050629117982e-12, 3.222050629117982e-12]\n"
     ]
    }
   ],
   "source": [
    "print(k1)"
   ]
  },
  {
   "cell_type": "code",
   "execution_count": 15,
   "metadata": {},
   "outputs": [
    {
     "data": {
      "text/plain": [
       "[3.1514622811821196e-07,\n",
       " 3.1415926000000007e-07,\n",
       " 3.1415926000000007e-07,\n",
       " 3.1415926000000007e-07,\n",
       " 3.1415926000000007e-07,\n",
       " 3.1415926000000007e-07,\n",
       " 3.1415926000000007e-07,\n",
       " 3.1415926000000007e-07,\n",
       " 3.1415926000000007e-07,\n",
       " 3.1415926000000007e-07,\n",
       " 3.1415926000000007e-07,\n",
       " 3.1415926000000007e-07,\n",
       " 3.1415926000000007e-07,\n",
       " 3.1415926000000007e-07,\n",
       " 3.1415926000000007e-07,\n",
       " 3.1415926000000007e-07,\n",
       " 3.1415926000000007e-07,\n",
       " 3.1514622811821196e-07,\n",
       " 3.1514622811821196e-07,\n",
       " 2.960672615519063e-09,\n",
       " 2.960672615519063e-09,\n",
       " 2.960672615519063e-09,\n",
       " 2.960672615519063e-09,\n",
       " 3.1514622811821196e-07,\n",
       " 3.1514622811821196e-07,\n",
       " 3.1514622811821196e-07,\n",
       " 3.1514622811821196e-07,\n",
       " 3.1415926000000007e-07,\n",
       " 3.1415926000000007e-07,\n",
       " 3.1415926000000007e-07,\n",
       " 3.1415926000000007e-07,\n",
       " 2.960672615519063e-09,\n",
       " 2.960672615519063e-09,\n",
       " 2.960672615519063e-09,\n",
       " 3.1514622811821196e-07,\n",
       " 3.744865235488229e-09,\n",
       " 3.744865235488229e-09,\n",
       " 3.744865235488229e-09,\n",
       " 3.744865235488229e-09,\n",
       " 3.744865235488229e-09,\n",
       " 3.1514622811821196e-07,\n",
       " 3.1514622811821196e-07,\n",
       " 3.1514622811821196e-07]"
      ]
     },
     "execution_count": 15,
     "metadata": {},
     "output_type": "execute_result"
    }
   ],
   "source": [
    "[9. 2. 1. 1.]\n",
    "1.31633\n",
    "[17.  2.  1.  1.]\n",
    "1.31779\n",
    "\n",
    "[30.  2.  1.  1.]\n",
    "1.01398\n",
    "[35.  2.  1.  1.]\n",
    "0.9772710000000001\n",
    "[38.  2.  1.  1.]\n",
    "1.01017\n",
    "[43.  2.  1.  1.]\n",
    "0.9507769999999999"
   ]
  },
  {
   "cell_type": "code",
   "execution_count": 8,
   "metadata": {},
   "outputs": [
    {
     "name": "stdout",
     "output_type": "stream",
     "text": [
      "0 1\n",
      "1 2\n",
      "2 3\n",
      "3 4\n",
      "4 5\n",
      "5 6\n",
      "6 7\n",
      "7 8\n",
      "4 27\n",
      "27 28\n",
      "0 9\n",
      "9 10\n",
      "10 11\n",
      "11 12\n",
      "12 13\n",
      "13 14\n",
      "14 15\n",
      "15 16\n",
      "12 29\n",
      "29 30\n",
      "0 17\n",
      "17 18\n",
      "18 19\n",
      "19 23\n",
      "23 24\n",
      "24 25\n",
      "25 26\n",
      "26 34\n",
      "34 35\n",
      "35 40\n",
      "40 41\n",
      "41 42\n",
      "42 46\n",
      "46 47\n",
      "47 48\n",
      "48 56\n",
      "56 57\n",
      "19 20\n",
      "20 21\n",
      "21 22\n",
      "22 31\n",
      "31 32\n",
      "32 33\n",
      "33 43\n",
      "43 49\n",
      "35 36\n",
      "36 37\n",
      "37 38\n",
      "38 39\n",
      "39 44\n",
      "44 45\n",
      "45 50\n",
      "48 51\n",
      "51 52\n",
      "52 53\n",
      "53 54\n",
      "54 55\n"
     ]
    }
   ],
   "source": [
    "for i in plant.getSegments():\n",
    "    print(i.x, i.y)"
   ]
  },
  {
   "cell_type": "code",
   "execution_count": 9,
   "metadata": {},
   "outputs": [],
   "source": [
    "segs = np.array([np.array(s) for s in plant.getSegments()])"
   ]
  },
  {
   "cell_type": "code",
   "execution_count": 10,
   "metadata": {},
   "outputs": [
    {
     "data": {
      "text/plain": [
       "array([[ 0,  1],\n",
       "       [ 1,  2],\n",
       "       [ 2,  3],\n",
       "       [ 3,  4],\n",
       "       [ 4,  5],\n",
       "       [ 5,  6],\n",
       "       [ 6,  7],\n",
       "       [ 7,  8],\n",
       "       [ 4, 27],\n",
       "       [27, 28],\n",
       "       [ 0,  9],\n",
       "       [ 9, 10],\n",
       "       [10, 11],\n",
       "       [11, 12],\n",
       "       [12, 13],\n",
       "       [13, 14],\n",
       "       [14, 15],\n",
       "       [15, 16],\n",
       "       [12, 29],\n",
       "       [29, 30],\n",
       "       [ 0, 17],\n",
       "       [17, 18],\n",
       "       [18, 19],\n",
       "       [19, 23],\n",
       "       [23, 24],\n",
       "       [24, 25],\n",
       "       [25, 26],\n",
       "       [26, 34],\n",
       "       [34, 35],\n",
       "       [35, 40],\n",
       "       [40, 41],\n",
       "       [41, 42],\n",
       "       [42, 46],\n",
       "       [46, 47],\n",
       "       [47, 48],\n",
       "       [48, 56],\n",
       "       [56, 57],\n",
       "       [19, 20],\n",
       "       [20, 21],\n",
       "       [21, 22],\n",
       "       [22, 31],\n",
       "       [31, 32],\n",
       "       [32, 33],\n",
       "       [33, 43],\n",
       "       [43, 49],\n",
       "       [35, 36],\n",
       "       [36, 37],\n",
       "       [37, 38],\n",
       "       [38, 39],\n",
       "       [39, 44],\n",
       "       [44, 45],\n",
       "       [45, 50],\n",
       "       [48, 51],\n",
       "       [51, 52],\n",
       "       [52, 53],\n",
       "       [53, 54],\n",
       "       [54, 55]], dtype=int32)"
      ]
     },
     "execution_count": 10,
     "metadata": {},
     "output_type": "execute_result"
    }
   ],
   "source": [
    "segs"
   ]
  },
  {
   "cell_type": "code",
   "execution_count": 92,
   "metadata": {},
   "outputs": [
    {
     "data": {
      "text/plain": [
       "array([[ 1,  2],\n",
       "       [ 2,  3],\n",
       "       [ 3,  4],\n",
       "       [ 4,  5],\n",
       "       [ 5,  6],\n",
       "       [ 6,  7],\n",
       "       [ 7,  8],\n",
       "       [ 1,  9],\n",
       "       [ 9, 10],\n",
       "       [10, 11],\n",
       "       [11, 12],\n",
       "       [12, 13],\n",
       "       [13, 14],\n",
       "       [14, 15],\n",
       "       [15, 16],\n",
       "       [17,  1],\n",
       "       [18, 17],\n",
       "       [19, 18],\n",
       "       [23, 19],\n",
       "       [24, 23],\n",
       "       [25, 24],\n",
       "       [26, 25],\n",
       "       [20, 19],\n",
       "       [21, 20],\n",
       "       [22, 21]], dtype=int32)"
      ]
     },
     "execution_count": 92,
     "metadata": {},
     "output_type": "execute_result"
    }
   ],
   "source": [
    "dict_all[\"node_connection\"]"
   ]
  },
  {
   "cell_type": "code",
   "execution_count": 66,
   "metadata": {},
   "outputs": [
    {
     "data": {
      "text/plain": [
       "27"
      ]
     },
     "execution_count": 66,
     "metadata": {},
     "output_type": "execute_result"
    }
   ],
   "source": [
    "len(plant.getNodes())"
   ]
  },
  {
   "cell_type": "code",
   "execution_count": 76,
   "metadata": {},
   "outputs": [
    {
     "data": {
      "text/plain": [
       "-3.8794636312191186"
      ]
     },
     "execution_count": 76,
     "metadata": {},
     "output_type": "execute_result"
    }
   ],
   "source": [
    "plant.getNodes()[16].z"
   ]
  },
  {
   "cell_type": "code",
   "execution_count": 72,
   "metadata": {},
   "outputs": [
    {
     "data": {
      "text/plain": [
       "-2.749381653804042"
      ]
     },
     "execution_count": 72,
     "metadata": {},
     "output_type": "execute_result"
    }
   ],
   "source": [
    "plant.getNodes()[3].z"
   ]
  },
  {
   "cell_type": "code",
   "execution_count": 79,
   "metadata": {},
   "outputs": [
    {
     "ename": "KeyError",
     "evalue": "'nodes_co'",
     "output_type": "error",
     "traceback": [
      "\u001b[0;31m---------------------------------------------------------------------------\u001b[0m",
      "\u001b[0;31mKeyError\u001b[0m                                  Traceback (most recent call last)",
      "\u001b[0;32m<ipython-input-79-38d1f60c130a>\u001b[0m in \u001b[0;36m<module>\u001b[0;34m\u001b[0m\n\u001b[0;32m----> 1\u001b[0;31m \u001b[0mdict_all\u001b[0m\u001b[0;34m[\u001b[0m\u001b[0;34m'nodes_co'\u001b[0m\u001b[0;34m]\u001b[0m\u001b[0;34m\u001b[0m\u001b[0;34m\u001b[0m\u001b[0m\n\u001b[0m",
      "\u001b[0;31mKeyError\u001b[0m: 'nodes_co'"
     ]
    }
   ],
   "source": [
    "dict_all['nodes_co']"
   ]
  },
  {
   "cell_type": "code",
   "execution_count": 73,
   "metadata": {},
   "outputs": [
    {
     "ename": "SyntaxError",
     "evalue": "invalid syntax (<ipython-input-73-add877ef9a57>, line 1)",
     "output_type": "error",
     "traceback": [
      "\u001b[0;36m  File \u001b[0;32m\"<ipython-input-73-add877ef9a57>\"\u001b[0;36m, line \u001b[0;32m1\u001b[0m\n\u001b[0;31m    for i in dict_all[\"nodes_organtype\"]\u001b[0m\n\u001b[0m                                        ^\u001b[0m\n\u001b[0;31mSyntaxError\u001b[0m\u001b[0;31m:\u001b[0m invalid syntax\n"
     ]
    }
   ],
   "source": [
    "for i in dict_all[\"nodes_organtype\"]\n",
    "    print(i + )"
   ]
  },
  {
   "cell_type": "code",
   "execution_count": 53,
   "metadata": {},
   "outputs": [],
   "source": [
    "N1R_node = nodes_organtype[(nodes_organtype[:,0] >2 ) & (nodes_organtype[:,1] ==2 ) & (nodes_organtype[:,2] ==1 )]\n",
    "N1L_node = nodes_organtype[(nodes_organtype[:,0] >2 ) & ((nodes_organtype[:,1] ==4)|(nodes_organtype[:,1] ==3)  ) & (nodes_organtype[:,2] ==1 )]"
   ]
  },
  {
   "cell_type": "code",
   "execution_count": 11,
   "metadata": {},
   "outputs": [
    {
     "data": {
      "text/plain": [
       "array([[ 0.00000000e+00,  2.00000000e+00,  3.00000000e+00,\n",
       "         0.00000000e+00,  0.00000000e+00, -2.00000000e-02],\n",
       "       [ 1.00000000e+00,  2.00000000e+00,  2.00000000e+00,\n",
       "         1.46168173e-04, -2.46660365e-04, -2.24835043e-02],\n",
       "       [ 2.00000000e+00,  2.00000000e+00,  2.00000000e+00,\n",
       "         1.51580252e-04, -3.78759960e-04, -2.49800059e-02],\n",
       "       [ 3.00000000e+00,  2.00000000e+00,  2.00000000e+00,\n",
       "         1.98514933e-04, -6.80800038e-04, -2.74612493e-02],\n",
       "       [ 4.00000000e+00,  2.00000000e+00,  3.00000000e+00,\n",
       "         1.44599233e-04, -6.31122613e-04, -2.99601742e-02],\n",
       "       [ 5.00000000e+00,  2.00000000e+00,  2.00000000e+00,\n",
       "        -5.49591172e-05, -5.94265639e-04, -3.24519242e-02],\n",
       "       [ 6.00000000e+00,  2.00000000e+00,  2.00000000e+00,\n",
       "        -2.63756442e-04, -5.09351982e-04, -3.49417421e-02],\n",
       "       [ 7.00000000e+00,  2.00000000e+00,  2.00000000e+00,\n",
       "        -4.57796511e-04, -4.68331254e-04, -3.74338628e-02],\n",
       "       [ 8.00000000e+00,  2.00000000e+00,  1.00000000e+00,\n",
       "        -5.62518456e-04, -5.10034198e-04, -3.88586273e-02],\n",
       "       [ 9.00000000e+00,  2.00000000e+00,  2.00000000e+00,\n",
       "         3.72977677e-04, -1.15805468e-04, -2.24693069e-02],\n",
       "       [ 1.00000000e+01,  2.00000000e+00,  2.00000000e+00,\n",
       "         8.07822943e-04, -2.50008053e-04, -2.49275379e-02],\n",
       "       [ 1.10000000e+01,  2.00000000e+00,  2.00000000e+00,\n",
       "         8.68126508e-04,  6.47284658e-05, -2.74069137e-02],\n",
       "       [ 1.20000000e+01,  2.00000000e+00,  3.00000000e+00,\n",
       "         1.08226634e-03,  4.08225421e-04, -2.98739268e-02],\n",
       "       [ 1.30000000e+01,  2.00000000e+00,  2.00000000e+00,\n",
       "         9.39845713e-04,  5.18074742e-04, -3.23674483e-02],\n",
       "       [ 1.40000000e+01,  2.00000000e+00,  2.00000000e+00,\n",
       "         7.71130815e-04,  6.42633379e-04, -3.48586369e-02],\n",
       "       [ 1.50000000e+01,  2.00000000e+00,  2.00000000e+00,\n",
       "         8.83928789e-04,  6.66926321e-04, -3.73559728e-02],\n",
       "       [ 1.60000000e+01,  2.00000000e+00,  1.00000000e+00,\n",
       "         8.06109871e-04,  6.97374888e-04, -3.87827450e-02],\n",
       "       [ 1.70000000e+01,  3.00000000e+00,  2.00000000e+00,\n",
       "         0.00000000e+00,  0.00000000e+00, -1.75000000e-02],\n",
       "       [ 1.80000000e+01,  3.00000000e+00,  2.00000000e+00,\n",
       "         0.00000000e+00,  0.00000000e+00, -1.50000000e-02],\n",
       "       [ 1.90000000e+01,  3.00000000e+00,  3.00000000e+00,\n",
       "         0.00000000e+00,  0.00000000e+00, -1.30000000e-02],\n",
       "       [ 2.00000000e+01,  4.00000000e+00,  2.00000000e+00,\n",
       "         2.02254249e-03, -2.47690018e-19, -1.15305369e-02],\n",
       "       [ 2.10000000e+01,  4.00000000e+00,  2.00000000e+00,\n",
       "         4.04508497e-03, -4.95380036e-19, -1.00610737e-02],\n",
       "       [ 2.20000000e+01,  4.00000000e+00,  2.00000000e+00,\n",
       "         6.06762746e-03, -7.43070054e-19, -8.59161061e-03],\n",
       "       [ 2.30000000e+01,  3.00000000e+00,  2.00000000e+00,\n",
       "         0.00000000e+00,  0.00000000e+00, -1.05000000e-02],\n",
       "       [ 2.40000000e+01,  3.00000000e+00,  2.00000000e+00,\n",
       "         0.00000000e+00,  0.00000000e+00, -8.00000000e-03],\n",
       "       [ 2.50000000e+01,  3.00000000e+00,  2.00000000e+00,\n",
       "         0.00000000e+00,  0.00000000e+00, -6.00000000e-03],\n",
       "       [ 2.60000000e+01,  3.00000000e+00,  2.00000000e+00,\n",
       "         0.00000000e+00,  0.00000000e+00, -3.50000000e-03],\n",
       "       [ 2.70000000e+01,  2.00000000e+00,  2.00000000e+00,\n",
       "         1.06409993e-03,  1.57305314e-03, -3.06991787e-02],\n",
       "       [ 2.80000000e+01,  2.00000000e+00,  1.00000000e+00,\n",
       "         1.66864705e-03,  3.53859982e-03, -3.13451254e-02],\n",
       "       [ 2.90000000e+01,  2.00000000e+00,  2.00000000e+00,\n",
       "         1.62914514e-03,  2.80758343e-03, -3.03143865e-02],\n",
       "       [ 3.00000000e+01,  2.00000000e+00,  1.00000000e+00,\n",
       "         2.75118128e-03,  4.41495326e-03, -3.12107654e-02],\n",
       "       [ 3.10000000e+01,  4.00000000e+00,  2.00000000e+00,\n",
       "         8.09016994e-03, -9.90760073e-19, -7.12214748e-03],\n",
       "       [ 3.20000000e+01,  4.00000000e+00,  2.00000000e+00,\n",
       "         1.01127124e-02, -1.23845009e-18, -5.65268435e-03],\n",
       "       [ 3.30000000e+01,  4.00000000e+00,  2.00000000e+00,\n",
       "         1.21352549e-02, -1.48614011e-18, -4.18322122e-03],\n",
       "       [ 3.40000000e+01,  3.00000000e+00,  2.00000000e+00,\n",
       "         0.00000000e+00,  0.00000000e+00, -1.00000000e-03],\n",
       "       [ 3.50000000e+01,  3.00000000e+00,  3.00000000e+00,\n",
       "         0.00000000e+00,  0.00000000e+00,  1.00000000e-03],\n",
       "       [ 3.60000000e+01,  4.00000000e+00,  2.00000000e+00,\n",
       "        -2.02254249e-03,  4.95380036e-19,  2.46946313e-03],\n",
       "       [ 3.70000000e+01,  4.00000000e+00,  2.00000000e+00,\n",
       "        -4.04508497e-03,  9.90760073e-19,  3.93892626e-03],\n",
       "       [ 3.80000000e+01,  4.00000000e+00,  2.00000000e+00,\n",
       "        -6.06762746e-03,  1.48614011e-18,  5.40838939e-03],\n",
       "       [ 3.90000000e+01,  4.00000000e+00,  2.00000000e+00,\n",
       "        -8.09016994e-03,  1.98152015e-18,  6.87785252e-03],\n",
       "       [ 4.00000000e+01,  3.00000000e+00,  2.00000000e+00,\n",
       "         0.00000000e+00,  0.00000000e+00,  3.50000000e-03],\n",
       "       [ 4.10000000e+01,  3.00000000e+00,  2.00000000e+00,\n",
       "         0.00000000e+00,  0.00000000e+00,  6.00000000e-03],\n",
       "       [ 4.20000000e+01,  3.00000000e+00,  2.00000000e+00,\n",
       "         0.00000000e+00,  0.00000000e+00,  8.00000000e-03],\n",
       "       [ 4.30000000e+01,  4.00000000e+00,  2.00000000e+00,\n",
       "         1.41577974e-02, -1.73383013e-18, -2.71375808e-03],\n",
       "       [ 4.40000000e+01,  4.00000000e+00,  2.00000000e+00,\n",
       "        -1.01127124e-02,  2.47690018e-18,  8.34731565e-03],\n",
       "       [ 4.50000000e+01,  4.00000000e+00,  2.00000000e+00,\n",
       "        -1.21352549e-02,  2.97228022e-18,  9.81677878e-03],\n",
       "       [ 4.60000000e+01,  3.00000000e+00,  2.00000000e+00,\n",
       "         0.00000000e+00,  0.00000000e+00,  1.05000000e-02],\n",
       "       [ 4.70000000e+01,  3.00000000e+00,  2.00000000e+00,\n",
       "         0.00000000e+00,  0.00000000e+00,  1.30000000e-02],\n",
       "       [ 4.80000000e+01,  3.00000000e+00,  3.00000000e+00,\n",
       "         0.00000000e+00,  0.00000000e+00,  1.50000000e-02],\n",
       "       [ 4.90000000e+01,  4.00000000e+00,  1.00000000e+00,\n",
       "         1.51109922e-02, -1.85056283e-18, -2.02122150e-03],\n",
       "       [ 5.00000000e+01,  4.00000000e+00,  1.00000000e+00,\n",
       "        -1.39277268e-02,  3.41130920e-18,  1.11190858e-02],\n",
       "       [ 5.10000000e+01,  4.00000000e+00,  2.00000000e+00,\n",
       "         2.02254249e-03, -7.43070054e-19,  1.64694631e-02],\n",
       "       [ 5.20000000e+01,  4.00000000e+00,  2.00000000e+00,\n",
       "         4.04508497e-03, -1.48614011e-18,  1.79389263e-02],\n",
       "       [ 5.30000000e+01,  4.00000000e+00,  2.00000000e+00,\n",
       "         6.06762746e-03, -2.22921016e-18,  1.94083894e-02],\n",
       "       [ 5.40000000e+01,  4.00000000e+00,  2.00000000e+00,\n",
       "         8.09016994e-03, -2.97228022e-18,  2.08778525e-02],\n",
       "       [ 5.50000000e+01,  4.00000000e+00,  1.00000000e+00,\n",
       "         8.12972177e-03, -2.98681132e-18,  2.09065886e-02],\n",
       "       [ 5.60000000e+01,  3.00000000e+00,  2.00000000e+00,\n",
       "         0.00000000e+00,  0.00000000e+00,  1.75000000e-02],\n",
       "       [ 5.70000000e+01,  3.00000000e+00,  1.00000000e+00,\n",
       "         0.00000000e+00,  0.00000000e+00,  1.94248880e-02]])"
      ]
     },
     "execution_count": 11,
     "metadata": {},
     "output_type": "execute_result"
    }
   ],
   "source": [
    "python_nodes(plant)"
   ]
  },
  {
   "cell_type": "code",
   "execution_count": 25,
   "metadata": {},
   "outputs": [
    {
     "name": "stdout",
     "output_type": "stream",
     "text": [
      "output successful\n",
      "at Nr. 1106 we can find JW_Trsv (ml / h)[ 1]\n",
      "the end is P_PhlApo (MPa)[ 1]\n",
      "at Nr. 851 we can find JW_Apo (ml / h)[ 1]\n",
      "the end is JW_ParMb (ml / h)[ 1]\n",
      "at Nr. 1616 we can find P_Xyl (MPa)[ 1]\n",
      "the end is PsiSoil (MPa)[ 1]\n",
      "at Nr. 1276 we can find P_ST (MPa)[ 1]\n",
      "the end is P_ST_dot (MPa / h)[ 1]\n",
      "at Nr. 2721 we can find Q_ST (mmol)[ 1]\n",
      "the end is JS_ST (mmol / h)[ 1]\n",
      "at Nr. 256 we can find C_ST (mmol / ml)[ 1]\n",
      "the end is C_Sympl (mmol / ml)[ 1]\n",
      "at Nr. 3061 we can find JW_Xyl (ml / h)[ 1]\n",
      "the end is JW_Xyl (ml / h)[85] \n",
      "at Nr. 2891 we can find JW_ST (ml / h)[ 1]\n",
      "the end is JW_ST (ml / h)[85]\n",
      "at Nr. 2806 we can find JS_ST (mmol / h)[ 1]\n",
      "the end is JS_ST (mmol / h)[85]\n"
     ]
    }
   ],
   "source": [
    "day = 1\n",
    "hour= day*24\n",
    "plant.simulate(day)\n",
    "organ = plant.getOrgans()\n",
    "plant.write(\"{}{}{}.vtp\".format(\"only_Q_ST_test\",str(name),hour))\n",
    "# plant.write(\"{}{}{}.py\".format(hour,str(name),\"1st_test\"))\n",
    "dict_all  = convert( plant )\n",
    "piafmunch_outputname = name +\".ini\"\n",
    "Soil_water = [0]*(len(dict_all['node_connection'])+1)\n",
    "write_PiafMunch_parameter(dict_all['node_connection'], dict_all['nodes_organtype'], dict_all['nodes_r_st'], dict_all['unq_cnt'], Soil_water,piafmunch_outputname,hour)\n",
    "\n",
    "os.system(' /mnt/c/prog_sct.bas/programs/C++/PIAFMunch2/projects/PIAFMunch2.exe {} -noGUI -q'.format(piafmunch_outputname))\n",
    "now = datetime.datetime.now()\n",
    "os.system('mv ./{}_{}-{:02}-{:02}*output.txt  ./{}_output.txt'.format(name, now.year ,now.month, now.day,name ) )\n",
    "\n",
    "nodeIDtoOrgan = [0]*plant.getNumberOfNodes()\n",
    "i =0\n",
    "for i in range(0, len(organ)):\n",
    "    j=0\n",
    "    for j in range(0,organ[i].getNumberOfNodes()):\n",
    "        nodeIDtoOrgan[organ[i].getNodeId(j)]=i+1\n",
    "\n",
    "nodes_organtype = dict_all['nodes_organtype']\n",
    "N1R_node = nodes_organtype[(nodes_organtype[:,0] >2 ) & (nodes_organtype[:,1] ==2 ) & (nodes_organtype[:,2] ==1 )]\n",
    "N1L_node = nodes_organtype[(nodes_organtype[:,0] >2 ) & ((nodes_organtype[:,1] ==4)|(nodes_organtype[:,1] ==3)  ) & (nodes_organtype[:,2] ==1 )]\n",
    "piaf_output = read_output(name,  dict_all[\"node_connection\"])\n",
    "for i in range(len(N1R_node)):\n",
    "    organ[nodeIDtoOrgan[int(N1R_node[i][0])-1]].getParam().r = piaf_output[\"Q_ST\"][-1][int(N1R_node[i][0])-1] # directly pass the Q_ST to growth rate"
   ]
  },
  {
   "cell_type": "code",
   "execution_count": 21,
   "metadata": {},
   "outputs": [
    {
     "data": {
      "text/plain": [
       "array([[ 8.,  2.,  1.,  1.],\n",
       "       [16.,  2.,  1.,  1.]])"
      ]
     },
     "execution_count": 21,
     "metadata": {},
     "output_type": "execute_result"
    }
   ],
   "source": [
    "N1R_node"
   ]
  },
  {
   "cell_type": "code",
   "execution_count": 69,
   "metadata": {},
   "outputs": [
    {
     "data": {
      "text/plain": [
       "6.9022199999999995e-06"
      ]
     },
     "execution_count": 69,
     "metadata": {},
     "output_type": "execute_result"
    }
   ],
   "source": [
    "piaf_output[\"Q_ST\"][-1][int(N1R_node[i][0])]"
   ]
  },
  {
   "cell_type": "code",
   "execution_count": 8,
   "metadata": {},
   "outputs": [
    {
     "data": {
      "text/plain": [
       "256"
      ]
     },
     "execution_count": 8,
     "metadata": {},
     "output_type": "execute_result"
    }
   ],
   "source": [
    "os.system(' /mnt/c/prog_sct.bas/programs/C++/PIAFMunch2/projects/PIAFMunch2.exe {} -noGUI -q'.format(piafmunch_outputname))"
   ]
  },
  {
   "cell_type": "code",
   "execution_count": 201,
   "metadata": {},
   "outputs": [
    {
     "name": "stdout",
     "output_type": "stream",
     "text": [
      "output successful\n"
     ]
    }
   ],
   "source": [
    "Soil_water = [0]*(len(node_connection)+1)\n",
    "write_PiafMunch_parameter(node_connection, nodes_organtype, nodes_r_st, unq_cnt, Soil_water, piafmunch_outputname, hour)\n",
    "\n"
   ]
  },
  {
   "cell_type": "code",
   "execution_count": 12,
   "metadata": {},
   "outputs": [
    {
     "name": "stdout",
     "output_type": "stream",
     "text": [
      "at Nr. 222 we can find JW_Trsv (ml / h)[ 1]\n",
      "the end is P_PhlApo (MPa)[ 1]\n",
      "at Nr. 171 we can find JW_Apo (ml / h)[ 1]\n",
      "the end is JW_ParMb (ml / h)[ 1]\n",
      "at Nr. 324 we can find P_Xyl (MPa)[ 1]\n",
      "the end is PsiSoil (MPa)[ 1]\n",
      "at Nr. 256 we can find P_ST (MPa)[ 1]\n",
      "the end is P_ST_dot (MPa / h)[ 1]\n",
      "at Nr. 545 we can find Q_ST (mmol)[ 1]\n",
      "the end is JS_ST (mmol / h)[ 1]\n",
      "at Nr. 52 we can find C_ST (mmol / ml)[ 1]\n",
      "the end is C_Sympl (mmol / ml)[ 1]\n",
      "at Nr. 613 we can find JW_Xyl (ml / h)[ 1]\n",
      "the end is JW_Xyl (ml / h)[17] \n",
      "at Nr. 579 we can find JW_ST (ml / h)[ 1]\n",
      "the end is JW_ST (ml / h)[17]\n",
      "at Nr. 562 we can find JS_ST (mmol / h)[ 1]\n",
      "the end is JS_ST (mmol / h)[17]\n",
      "[[0.00000e+00 0.00000e+00 0.00000e+00 ... 0.00000e+00 0.00000e+00\n",
      "  0.00000e+00]\n",
      " [2.40166e-06 2.04415e-06 1.64637e-06 ... 3.46592e-06 3.78494e-06\n",
      "  4.26348e-06]\n",
      " [4.92490e-06 4.70825e-06 4.49647e-06 ... 5.68451e-06 5.86303e-06\n",
      "  6.15541e-06]\n",
      " ...\n",
      " [2.74276e-05 2.73134e-05 2.71989e-05 ... 2.78212e-05 2.78889e-05\n",
      "  2.79572e-05]\n",
      " [2.74258e-05 2.73116e-05 2.71971e-05 ... 2.78194e-05 2.78871e-05\n",
      "  2.79554e-05]\n",
      " [2.74242e-05 2.73099e-05 2.71955e-05 ... 2.78178e-05 2.78854e-05\n",
      "  2.79537e-05]]\n"
     ]
    }
   ],
   "source": [
    "os.system(' /mnt/c/prog_sct.bas/programs/C++/PIAFMunch2/projects/PIAFMunch2.exe {} -noGUI -q'.format(piafmunch_outputname))\n",
    "now = datetime.datetime.now()\n",
    "os.system('mv ./{}_{}-{:02}-{:02}*output.txt  ./{}_output.txt'.format(name, now.year ,now.month, now.day,name ) )\n",
    "\n",
    "nodeIDtoOrgan = [0]*plant.getNumberOfNodes()\n",
    "i =0\n",
    "for i in range(0, len(organ)):\n",
    "    j=0\n",
    "    for j in range(0,organ[i].getNumberOfNodes()):\n",
    "        nodeIDtoOrgan[organ[i].getNodeId(j)]=i+1\n",
    "\n",
    "nodes_organtype = dict_all['nodes_organtype']\n",
    "N1R_node = nodes_organtype[(nodes_organtype[:,0] >2 ) & (nodes_organtype[:,1] ==2 ) & (nodes_organtype[:,2] ==1 )]\n",
    "N1L_node = nodes_organtype[(nodes_organtype[:,0] >2 ) & ((nodes_organtype[:,1] ==4)|(nodes_organtype[:,1] ==3)  ) & (nodes_organtype[:,2] ==1 )]\n",
    "piaf_output = read_output(name,  dict_all[\"node_connection\"])\n",
    "print(piaf_output[\"Q_ST\"])\n"
   ]
  },
  {
   "cell_type": "code",
   "execution_count": 96,
   "metadata": {},
   "outputs": [
    {
     "data": {
      "text/plain": [
       "5.8789e-06"
      ]
     },
     "execution_count": 96,
     "metadata": {},
     "output_type": "execute_result"
    }
   ],
   "source": [
    "\n",
    "piaf_output[\"Q_ST\"][-1][16]"
   ]
  },
  {
   "cell_type": "code",
   "execution_count": 111,
   "metadata": {},
   "outputs": [
    {
     "data": {
      "text/plain": [
       "2.63266e-07"
      ]
     },
     "execution_count": 111,
     "metadata": {},
     "output_type": "execute_result"
    }
   ],
   "source": [
    "piaf_output[\"Q_ST\"][-1][88]"
   ]
  },
  {
   "cell_type": "code",
   "execution_count": 93,
   "metadata": {},
   "outputs": [
    {
     "data": {
      "text/plain": [
       "array([[ 16.,   2.,   1.,   1.],\n",
       "       [ 28.,   2.,   1.,   1.],\n",
       "       [ 37.,   2.,   1.,   1.],\n",
       "       [ 90.,   2.,   1.,   1.],\n",
       "       [100.,   2.,   1.,   1.]])"
      ]
     },
     "execution_count": 93,
     "metadata": {},
     "output_type": "execute_result"
    }
   ],
   "source": [
    "N1R_node"
   ]
  },
  {
   "cell_type": "code",
   "execution_count": 113,
   "metadata": {},
   "outputs": [
    {
     "data": {
      "text/plain": [
       "array([[  1,   2],\n",
       "       [  2,   3],\n",
       "       [  3,   4],\n",
       "       [  4,   5],\n",
       "       [  5,   6],\n",
       "       [  6,   7],\n",
       "       [  7,   8],\n",
       "       [  8,  29],\n",
       "       [ 29,  30],\n",
       "       [ 30,  31],\n",
       "       [ 31,  32],\n",
       "       [ 32,  33],\n",
       "       [ 33,  34],\n",
       "       [ 34,  35],\n",
       "       [ 35,  50],\n",
       "       [ 50,  51],\n",
       "       [ 51,  52],\n",
       "       [ 52,  53],\n",
       "       [ 53,  54],\n",
       "       [ 54,  55],\n",
       "       [ 55,  62],\n",
       "       [ 62,  63],\n",
       "       [ 63,  64],\n",
       "       [ 64,  65],\n",
       "       [ 65,  66],\n",
       "       [ 66,  76],\n",
       "       [ 76,  77],\n",
       "       [ 77,  78],\n",
       "       [ 78,  79],\n",
       "       [ 79,  80],\n",
       "       [ 80,  91],\n",
       "       [ 91,  92],\n",
       "       [ 92,  93],\n",
       "       [ 93,  94],\n",
       "       [ 94,  95],\n",
       "       [ 95,  98],\n",
       "       [ 98,  99],\n",
       "       [ 99, 100],\n",
       "       [  4,  27],\n",
       "       [ 27,  28],\n",
       "       [ 64,  87],\n",
       "       [ 87,  88],\n",
       "       [ 88,  89],\n",
       "       [ 89,  90],\n",
       "       [  1,   9],\n",
       "       [  9,  10],\n",
       "       [ 10,  11],\n",
       "       [ 11,  12],\n",
       "       [ 12,  13],\n",
       "       [ 13,  14],\n",
       "       [ 14,  15],\n",
       "       [ 15,  16],\n",
       "       [ 12,  36],\n",
       "       [ 36,  37],\n",
       "       [ 17,   1],\n",
       "       [ 18,  17],\n",
       "       [ 19,  18],\n",
       "       [ 23,  19],\n",
       "       [ 24,  23],\n",
       "       [ 25,  24],\n",
       "       [ 26,  25],\n",
       "       [ 41,  26],\n",
       "       [ 42,  41],\n",
       "       [ 47,  42],\n",
       "       [ 48,  47],\n",
       "       [ 49,  48],\n",
       "       [ 59,  49],\n",
       "       [ 60,  59],\n",
       "       [ 61,  60],\n",
       "       [ 74,  61],\n",
       "       [ 75,  74],\n",
       "       [ 84,  75],\n",
       "       [ 85,  84],\n",
       "       [ 86,  85],\n",
       "       [ 97,  86],\n",
       "       [ 20,  19],\n",
       "       [ 21,  20],\n",
       "       [ 22,  21],\n",
       "       [ 38,  22],\n",
       "       [ 39,  38],\n",
       "       [ 40,  39],\n",
       "       [ 56,  40],\n",
       "       [ 67,  56],\n",
       "       [ 43,  42],\n",
       "       [ 44,  43],\n",
       "       [ 45,  44],\n",
       "       [ 46,  45],\n",
       "       [ 57,  46],\n",
       "       [ 58,  57],\n",
       "       [ 68,  58],\n",
       "       [ 81,  68],\n",
       "       [ 69,  61],\n",
       "       [ 70,  69],\n",
       "       [ 71,  70],\n",
       "       [ 72,  71],\n",
       "       [ 73,  72],\n",
       "       [ 82,  73],\n",
       "       [ 83,  82],\n",
       "       [ 96,  83]], dtype=int32)"
      ]
     },
     "execution_count": 113,
     "metadata": {},
     "output_type": "execute_result"
    }
   ],
   "source": [
    "dict_all[\"node_connection\"]"
   ]
  },
  {
   "cell_type": "code",
   "execution_count": 149,
   "metadata": {},
   "outputs": [
    {
     "ename": "IndexError",
     "evalue": "index 1 is out of bounds for axis 0 with size 1",
     "output_type": "error",
     "traceback": [
      "\u001b[0;31m---------------------------------------------------------------------------\u001b[0m",
      "\u001b[0;31mIndexError\u001b[0m                                Traceback (most recent call last)",
      "\u001b[0;32m<ipython-input-149-952247bef8e1>\u001b[0m in \u001b[0;36m<module>\u001b[0;34m\u001b[0m\n\u001b[1;32m     23\u001b[0m     \u001b[0mN4_c_nd_2\u001b[0m\u001b[0;34m[\u001b[0m\u001b[0mi\u001b[0m\u001b[0;34m]\u001b[0m \u001b[0;34m=\u001b[0m \u001b[0mnode_connection\u001b[0m\u001b[0;34m[\u001b[0m\u001b[0;34m(\u001b[0m\u001b[0mnode_connection\u001b[0m\u001b[0;34m[\u001b[0m\u001b[0;34m:\u001b[0m\u001b[0;34m,\u001b[0m\u001b[0;36m1\u001b[0m\u001b[0;34m]\u001b[0m \u001b[0;34m==\u001b[0m \u001b[0mN4_node\u001b[0m\u001b[0;34m[\u001b[0m\u001b[0mi\u001b[0m\u001b[0;34m,\u001b[0m\u001b[0;36m0\u001b[0m\u001b[0;34m]\u001b[0m\u001b[0;34m)\u001b[0m\u001b[0;34m]\u001b[0m\u001b[0;34m\u001b[0m\u001b[0;34m\u001b[0m\u001b[0m\n\u001b[1;32m     24\u001b[0m     \u001b[0mN4_conn_2\u001b[0m\u001b[0;34m[\u001b[0m\u001b[0mi\u001b[0m\u001b[0;34m]\u001b[0m \u001b[0;34m=\u001b[0m \u001b[0mnp\u001b[0m\u001b[0;34m.\u001b[0m\u001b[0mwhere\u001b[0m\u001b[0;34m(\u001b[0m \u001b[0mnode_connection\u001b[0m\u001b[0;34m[\u001b[0m\u001b[0;34m:\u001b[0m\u001b[0;34m,\u001b[0m\u001b[0;36m0\u001b[0m\u001b[0;34m]\u001b[0m \u001b[0;34m==\u001b[0m \u001b[0mN4_c_nd_2\u001b[0m\u001b[0;34m[\u001b[0m\u001b[0mi\u001b[0m\u001b[0;34m]\u001b[0m\u001b[0;34m[\u001b[0m\u001b[0;36m0\u001b[0m\u001b[0;34m]\u001b[0m\u001b[0;34m[\u001b[0m\u001b[0;36m0\u001b[0m\u001b[0;34m]\u001b[0m\u001b[0;34m)\u001b[0m\u001b[0;34m[\u001b[0m\u001b[0;36m0\u001b[0m\u001b[0;34m]\u001b[0m\u001b[0;34m\u001b[0m\u001b[0;34m\u001b[0m\u001b[0m\n\u001b[0;32m---> 25\u001b[0;31m     \u001b[0mN4_conn_3\u001b[0m\u001b[0;34m[\u001b[0m\u001b[0mi\u001b[0m\u001b[0;34m]\u001b[0m \u001b[0;34m=\u001b[0m \u001b[0mnp\u001b[0m\u001b[0;34m.\u001b[0m\u001b[0mwhere\u001b[0m\u001b[0;34m(\u001b[0m \u001b[0mnode_connection\u001b[0m\u001b[0;34m[\u001b[0m\u001b[0;34m:\u001b[0m\u001b[0;34m,\u001b[0m\u001b[0;36m0\u001b[0m\u001b[0;34m]\u001b[0m \u001b[0;34m==\u001b[0m \u001b[0mN4_c_nd_2\u001b[0m\u001b[0;34m[\u001b[0m\u001b[0mi\u001b[0m\u001b[0;34m]\u001b[0m\u001b[0;34m[\u001b[0m\u001b[0;36m1\u001b[0m\u001b[0;34m]\u001b[0m\u001b[0;34m[\u001b[0m\u001b[0;36m0\u001b[0m\u001b[0;34m]\u001b[0m\u001b[0;34m)\u001b[0m\u001b[0;34m[\u001b[0m\u001b[0;36m0\u001b[0m\u001b[0;34m]\u001b[0m\u001b[0;34m\u001b[0m\u001b[0;34m\u001b[0m\u001b[0m\n\u001b[0m\u001b[1;32m     26\u001b[0m     \u001b[0mN4_conn_4\u001b[0m\u001b[0;34m[\u001b[0m\u001b[0mi\u001b[0m\u001b[0;34m]\u001b[0m \u001b[0;34m=\u001b[0m \u001b[0mnp\u001b[0m\u001b[0;34m.\u001b[0m\u001b[0mwhere\u001b[0m\u001b[0;34m(\u001b[0m \u001b[0mnode_connection\u001b[0m\u001b[0;34m[\u001b[0m\u001b[0;34m:\u001b[0m\u001b[0;34m,\u001b[0m\u001b[0;36m0\u001b[0m\u001b[0;34m]\u001b[0m \u001b[0;34m==\u001b[0m \u001b[0mN4_c_nd_2\u001b[0m\u001b[0;34m[\u001b[0m\u001b[0mi\u001b[0m\u001b[0;34m]\u001b[0m\u001b[0;34m[\u001b[0m\u001b[0;36m2\u001b[0m\u001b[0;34m]\u001b[0m\u001b[0;34m[\u001b[0m\u001b[0;36m0\u001b[0m\u001b[0;34m]\u001b[0m\u001b[0;34m)\u001b[0m\u001b[0;34m[\u001b[0m\u001b[0;36m0\u001b[0m\u001b[0;34m]\u001b[0m\u001b[0;34m\u001b[0m\u001b[0;34m\u001b[0m\u001b[0m\n",
      "\u001b[0;31mIndexError\u001b[0m: index 1 is out of bounds for axis 0 with size 1"
     ]
    }
   ],
   "source": [
    "N4_node = nodes_organtype[ (nodes_organtype[:,2] ==4 )]\n",
    "#print(N4_node)\n",
    "\n",
    "N4_c_nd_1 = list(range(0, len(N4_node)+1))\n",
    "N4_conn_1 = list(range(0, len(N4_node)+1))\n",
    "for i in range(len(N4_node)):\n",
    "    N4_c_nd_1[i] = node_connection[(node_connection[:,0] == N4_node[i,0])][0][1]\n",
    "    N4_conn_1[i] = np.where( node_connection[:,1] == N4_c_nd_1[i])[0][0]+1\n",
    "\n",
    "#print(N4_c_nd_1)\n",
    "#print(N4_conn_1)\n",
    "#for i in range(len(N4_node)):\n",
    "#\tprint(N4_c_nd_1[i])\n",
    "#for i in range(len(N4_node)):\n",
    "#\tprint(N4_conn_1[i][0]+1)\n",
    "\n",
    "\n",
    "N4_c_nd_2 = list(range(0, len(N4_node)+1))\n",
    "N4_conn_2 = list(range(0, len(N4_node)+1))\n",
    "N4_conn_3 = list(range(0, len(N4_node)+1))\n",
    "N4_conn_4 = list(range(0, len(N4_node)+1))\n",
    "for i in range(len(N4_node)):\n",
    "    N4_c_nd_2[i] = node_connection[(node_connection[:,1] == N4_node[i,0])]\n",
    "    N4_conn_2[i] = np.where( node_connection[:,0] == N4_c_nd_2[i][0][0])[0]\n",
    "    N4_conn_3[i] = np.where( node_connection[:,0] == N4_c_nd_2[i][1][0])[0]\n",
    "    N4_conn_4[i] = np.where( node_connection[:,0] == N4_c_nd_2[i][2][0])[0]"
   ]
  },
  {
   "cell_type": "code",
   "execution_count": 152,
   "metadata": {},
   "outputs": [
    {
     "data": {
      "text/plain": [
       "(array([ 0, 47, 95]),)"
      ]
     },
     "execution_count": 152,
     "metadata": {},
     "output_type": "execute_result"
    }
   ],
   "source": [
    "n4_at_0 = np.where(node_connection[:,0] == N4_node[i,0])\n",
    "n4_at_1 = np.where(node_connection[:,1] == N4_node[i,0])\n",
    "\n"
   ]
  },
  {
   "cell_type": "code",
   "execution_count": 153,
   "metadata": {},
   "outputs": [
    {
     "data": {
      "text/plain": [
       "(array([143]),)"
      ]
     },
     "execution_count": 153,
     "metadata": {},
     "output_type": "execute_result"
    }
   ],
   "source": []
  },
  {
   "cell_type": "code",
   "execution_count": 151,
   "metadata": {},
   "outputs": [
    {
     "data": {
      "text/plain": [
       "[array([143]), 1]"
      ]
     },
     "execution_count": 151,
     "metadata": {},
     "output_type": "execute_result"
    }
   ],
   "source": [
    "N4_conn_2"
   ]
  },
  {
   "cell_type": "code",
   "execution_count": 28,
   "metadata": {},
   "outputs": [],
   "source": [
    "def read_output(name, node_connection= dict_all[\"node_connection\"],  ):\n",
    "    path = name+'_output.txt'\n",
    "    #path = 'PiafMunch2_PMA1_output.txt'\n",
    "    output = pd.read_table(path,sep='\\t',header=1)\n",
    "    time = np.array(output.iloc[:,0])\n",
    "    ##################### Segment Values ##################### \n",
    "\n",
    "    # water exchange between xylem and phloem from output of PiafMunch\n",
    "    n_begin = output.columns.get_loc(\"JW_Trsv (ml / h)[{first: >{width}}]\".format(first='1', width=2))\n",
    "    print('at Nr.',n_begin, 'we can find',output.columns[n_begin])\n",
    "    n_end = n_begin + len(node_connection)\n",
    "    print('the end is',output.columns[n_end])\n",
    "    JW_Trsv = np.array(output.iloc[:,n_begin:n_end])\n",
    "\n",
    "    # water exchange between xylem and phloem from output of PiafMunch\n",
    "    n_begin = output.columns.get_loc(\"JW_Apo (ml / h)[{first: >{width}}]\".format(first='1', width=2))\n",
    "    print('at Nr.',n_begin, 'we can find',output.columns[n_begin])\n",
    "    n_end = n_begin + len(node_connection)\n",
    "    print('the end is',output.columns[n_end])\n",
    "    JW_Apo = np.array(output.iloc[:,n_begin:n_end])\n",
    "\n",
    "    # Hydraulic pressure in xylem from output of PiafMunch\n",
    "    n_begin = output.columns.get_loc(\"P_Xyl (MPa)[{first: >{width}}]\".format(first='1', width=2))\n",
    "    print('at Nr.',n_begin, 'we can find',output.columns[n_begin])\n",
    "    n_end = n_begin + len(node_connection)\n",
    "    print('the end is',output.columns[n_end])\n",
    "    P_Xyl = np.array(output.iloc[:,n_begin:n_end])\n",
    "\n",
    "    # Hydraulic pressure in sievetubes from output of PiafMunch\n",
    "    n_begin = output.columns.get_loc(\"P_ST (MPa)[{first: >{width}}]\".format(first='1', width=2))\n",
    "    print('at Nr.',n_begin, 'we can find',output.columns[n_begin])\n",
    "    n_end = n_begin + len(node_connection)\n",
    "    print('the end is',output.columns[n_end])\n",
    "    P_ST = np.array(output.iloc[:,n_begin:n_end])\n",
    "\n",
    "    # Carbon content in the segment from output of PiafMunch\n",
    "    n_begin = output.columns.get_loc(\"Q_ST (mmol)[{first: >{width}}]\".format(first='1', width=2))\n",
    "    print('at Nr.',n_begin, 'we can find',output.columns[n_begin])\n",
    "    n_end = n_begin + len(node_connection)\n",
    "    print('the end is',output.columns[n_end])\n",
    "    Q_ST = np.array(output.iloc[:,n_begin:n_end])\n",
    "\n",
    "    # Carbon content in the segment from output of PiafMunch\n",
    "    n_begin = output.columns.get_loc(\"C_ST (mmol / ml)[{first: >{width}}]\".format(first='1', width=2))\n",
    "    print('at Nr.',n_begin, 'we can find',output.columns[n_begin])\n",
    "    n_end = n_begin + len(node_connection)\n",
    "    print('the end is',output.columns[n_end])\n",
    "    C_ST = np.array(output.iloc[:,n_begin:n_end])\n",
    "\n",
    "    ##################### Connection Values ##################### \n",
    "\n",
    "    # Xylem water flow JW_Xyl from output of PiafMunch\n",
    "    n_begin = output.columns.get_loc(\"JW_Xyl (ml / h)[{first: >{width}}]\".format(first='1', width=2))\n",
    "    print('at Nr.',n_begin, 'we can find',output.columns[n_begin])\n",
    "    n_end = n_begin + len(node_connection)-1\n",
    "    print('the end is',output.columns[n_end])\n",
    "    JW_Xyl = np.array(output.iloc[:,n_begin:n_end])\n",
    "\n",
    "    # Phloem water flow JW_ST from output of PiafMunch\n",
    "    n_begin = output.columns.get_loc(\"JW_ST (ml / h)[{first: >{width}}]\".format(first='1', width=2))\n",
    "    print('at Nr.',n_begin, 'we can find',output.columns[n_begin])\n",
    "    n_end = n_begin + len(node_connection)-1\n",
    "    print('the end is',output.columns[n_end])\n",
    "    JW_ST = np.array(output.iloc[:,n_begin:n_end])\n",
    "\n",
    "\n",
    "    # Phloem carbon flow JS_ST from output of PiafMunch\n",
    "    n_begin = output.columns.get_loc(\"JS_ST (mmol / h)[{first: >{width}}]\".format(first='1', width=2))\n",
    "    print('at Nr.',n_begin, 'we can find',output.columns[n_begin])\n",
    "    n_end = n_begin + len(node_connection)-1\n",
    "    print('the end is',output.columns[n_end])\n",
    "    JS_ST = np.array(output.iloc[:,n_begin:n_end])\n",
    "    return {\"time\":time, \"JW_Trsv\":JW_Trsv,\"JW_Apo\": JW_Apo, \"P_Xyl\": P_Xyl, \"P_ST\":P_ST, \"Q_ST\": Q_ST, \"C_ST\": C_ST, \"JW_Xyl\": JW_Xyl, \"JW_ST\": JW_ST, \"JS_ST\": JS_ST}\n",
    "\n"
   ]
  },
  {
   "cell_type": "code",
   "execution_count": 34,
   "metadata": {},
   "outputs": [
    {
     "name": "stderr",
     "output_type": "stream",
     "text": [
      "/home/xr/.local/lib/python3.6/site-packages/ipykernel_launcher.py:4: FutureWarning:\n",
      "\n",
      "read_table is deprecated, use read_csv instead.\n",
      "\n"
     ]
    },
    {
     "name": "stdout",
     "output_type": "stream",
     "text": [
      "at Nr. 1951 we can find JW_Trsv (ml / h)[ 1]\n",
      "the end is P_PhlApo (MPa)[ 1]\n",
      "at Nr. 1501 we can find JW_Apo (ml / h)[ 1]\n",
      "the end is JW_ParMb (ml / h)[ 1]\n",
      "at Nr. 2851 we can find P_Xyl (MPa)[ 1]\n",
      "the end is PsiSoil (MPa)[ 1]\n",
      "at Nr. 2251 we can find P_ST (MPa)[ 1]\n",
      "the end is P_ST_dot (MPa / h)[ 1]\n",
      "at Nr. 4801 we can find Q_ST (mmol)[ 1]\n",
      "the end is JS_ST (mmol / h)[ 1]\n",
      "at Nr. 451 we can find C_ST (mmol / ml)[ 1]\n",
      "the end is C_Sympl (mmol / ml)[ 1]\n",
      "at Nr. 5401 we can find JW_Xyl (ml / h)[ 1]\n",
      "the end is JW_Xyl (ml / h)[150] \n",
      "at Nr. 5101 we can find JW_ST (ml / h)[ 1]\n",
      "the end is JW_ST (ml / h)[150]\n",
      "at Nr. 4951 we can find JS_ST (mmol / h)[ 1]\n",
      "the end is JS_ST (mmol / h)[150]\n"
     ]
    }
   ],
   "source": [
    "path = name+'_output.txt'\n",
    "node_connection= dict_all[\"node_connection\"]\n",
    "#path = 'PiafMunch2_PMA1_output.txt'\n",
    "output = pd.read_table(path,sep='\\t',header=1)\n",
    "time = np.array(output.iloc[:,0])\n",
    "##################### Segment Values ##################### \n",
    "\n",
    "# water exchange between xylem and phloem from output of PiafMunch\n",
    "n_begin = output.columns.get_loc(\"JW_Trsv (ml / h)[{first: >{width}}]\".format(first='1', width=2))\n",
    "print('at Nr.',n_begin, 'we can find',output.columns[n_begin])\n",
    "n_end = n_begin + len(node_connection)\n",
    "print('the end is',output.columns[n_end])\n",
    "JW_Trsv = np.array(output.iloc[:,n_begin:n_end])\n",
    "\n",
    "# water exchange between xylem and phloem from output of PiafMunch\n",
    "n_begin = output.columns.get_loc(\"JW_Apo (ml / h)[{first: >{width}}]\".format(first='1', width=2))\n",
    "print('at Nr.',n_begin, 'we can find',output.columns[n_begin])\n",
    "n_end = n_begin + len(node_connection)\n",
    "print('the end is',output.columns[n_end])\n",
    "JW_Apo = np.array(output.iloc[:,n_begin:n_end])\n",
    "\n",
    "# Hydraulic pressure in xylem from output of PiafMunch\n",
    "n_begin = output.columns.get_loc(\"P_Xyl (MPa)[{first: >{width}}]\".format(first='1', width=2))\n",
    "print('at Nr.',n_begin, 'we can find',output.columns[n_begin])\n",
    "n_end = n_begin + len(node_connection)\n",
    "print('the end is',output.columns[n_end])\n",
    "P_Xyl = np.array(output.iloc[:,n_begin:n_end])\n",
    "\n",
    "# Hydraulic pressure in sievetubes from output of PiafMunch\n",
    "n_begin = output.columns.get_loc(\"P_ST (MPa)[{first: >{width}}]\".format(first='1', width=2))\n",
    "print('at Nr.',n_begin, 'we can find',output.columns[n_begin])\n",
    "n_end = n_begin + len(node_connection)\n",
    "print('the end is',output.columns[n_end])\n",
    "P_ST = np.array(output.iloc[:,n_begin:n_end])\n",
    "\n",
    "# Carbon content in the segment from output of PiafMunch\n",
    "n_begin = output.columns.get_loc(\"Q_ST (mmol)[{first: >{width}}]\".format(first='1', width=2))\n",
    "print('at Nr.',n_begin, 'we can find',output.columns[n_begin])\n",
    "n_end = n_begin + len(node_connection)\n",
    "print('the end is',output.columns[n_end])\n",
    "Q_ST = np.array(output.iloc[:,n_begin:n_end])\n",
    "\n",
    "# Carbon content in the segment from output of PiafMunch\n",
    "n_begin = output.columns.get_loc(\"C_ST (mmol / ml)[{first: >{width}}]\".format(first='1', width=2))\n",
    "print('at Nr.',n_begin, 'we can find',output.columns[n_begin])\n",
    "n_end = n_begin + len(node_connection)\n",
    "print('the end is',output.columns[n_end])\n",
    "C_ST = np.array(output.iloc[:,n_begin:n_end])\n",
    "\n",
    "##################### Connection Values ##################### \n",
    "\n",
    "# Xylem water flow JW_Xyl from output of PiafMunch\n",
    "n_begin = output.columns.get_loc(\"JW_Xyl (ml / h)[{first: >{width}}]\".format(first='1', width=2))\n",
    "print('at Nr.',n_begin, 'we can find',output.columns[n_begin])\n",
    "n_end = n_begin + len(node_connection)-1\n",
    "print('the end is',output.columns[n_end])\n",
    "JW_Xyl = np.array(output.iloc[:,n_begin:n_end])\n",
    "\n",
    "# Phloem water flow JW_ST from output of PiafMunch\n",
    "n_begin = output.columns.get_loc(\"JW_ST (ml / h)[{first: >{width}}]\".format(first='1', width=2))\n",
    "print('at Nr.',n_begin, 'we can find',output.columns[n_begin])\n",
    "n_end = n_begin + len(node_connection)-1\n",
    "print('the end is',output.columns[n_end])\n",
    "JW_ST = np.array(output.iloc[:,n_begin:n_end])\n",
    "\n",
    "\n",
    "# Phloem carbon flow JS_ST from output of PiafMunch\n",
    "n_begin = output.columns.get_loc(\"JS_ST (mmol / h)[{first: >{width}}]\".format(first='1', width=2))\n",
    "print('at Nr.',n_begin, 'we can find',output.columns[n_begin])\n",
    "n_end = n_begin + len(node_connection)-1\n",
    "print('the end is',output.columns[n_end])\n",
    "JS_ST = np.array(output.iloc[:,n_begin:n_end])\n"
   ]
  },
  {
   "cell_type": "code",
   "execution_count": 35,
   "metadata": {},
   "outputs": [
    {
     "data": {
      "text/plain": [
       "array([ 0.      ,  0.166667,  0.333334,  0.500001,  0.666668,  0.833335,\n",
       "        1.      ,  1.16667 ,  1.33334 ,  1.5     ,  1.66667 ,  1.83334 ,\n",
       "        2.      ,  2.16667 ,  2.33334 ,  2.5     ,  2.66667 ,  2.83334 ,\n",
       "        3.00001 ,  3.16667 ,  3.33334 ,  3.50001 ,  3.66667 ,  3.83334 ,\n",
       "        4.00001 ,  4.16667 ,  4.33334 ,  4.50001 ,  4.66668 ,  4.83334 ,\n",
       "        5.00001 ,  5.16668 ,  5.33334 ,  5.50001 ,  5.66668 ,  5.83334 ,\n",
       "        6.00001 ,  6.16668 ,  6.33335 ,  6.50001 ,  6.66668 ,  6.83335 ,\n",
       "        7.00001 ,  7.16668 ,  7.33335 ,  7.50001 ,  7.66668 ,  7.83335 ,\n",
       "        8.00002 ,  8.16668 ,  8.33335 ,  8.50002 ,  8.66668 ,  8.83335 ,\n",
       "        9.00002 ,  9.16668 ,  9.33335 ,  9.50002 ,  9.66669 ,  9.83335 ,\n",
       "       10.      , 10.1667  , 10.3334  , 10.5     , 10.6667  , 10.8334  ,\n",
       "       11.      , 11.1667  , 11.3334  , 11.5     , 11.6667  , 11.8334  ,\n",
       "       12.      , 12.1667  , 12.3334  , 12.5     , 12.6667  , 12.8334  ,\n",
       "       13.      , 13.1667  , 13.3334  , 13.5     , 13.6667  , 13.8334  ,\n",
       "       14.      , 14.1667  , 14.3334  , 14.5     , 14.6667  , 14.8334  ,\n",
       "       15.      , 15.1667  , 15.3334  , 15.5     , 15.6667  , 15.8334  ,\n",
       "       16.      , 16.1667  , 16.3334  , 16.5     , 16.6667  , 16.8334  ,\n",
       "       17.      , 17.1667  , 17.3334  , 17.5     , 17.6667  , 17.8334  ,\n",
       "       18.      , 18.1667  , 18.3334  , 18.5     , 18.6667  , 18.8334  ,\n",
       "       19.      , 19.1667  , 19.3334  , 19.5     , 19.6667  , 19.8334  ,\n",
       "       20.      , 20.1667  , 20.3334  , 20.5     , 20.6667  , 20.8334  ,\n",
       "       21.      , 21.1667  , 21.3334  , 21.5     , 21.6667  , 21.8334  ,\n",
       "       22.      , 22.1667  , 22.3334  , 22.5     , 22.6667  , 22.8334  ,\n",
       "       23.      , 23.1667  , 23.3334  , 23.5     , 23.6667  , 23.8334  ,\n",
       "       24.      ])"
      ]
     },
     "execution_count": 35,
     "metadata": {},
     "output_type": "execute_result"
    }
   ],
   "source": [
    "time"
   ]
  },
  {
   "cell_type": "code",
   "execution_count": 102,
   "metadata": {},
   "outputs": [
    {
     "ename": "NameError",
     "evalue": "name 'output' is not defined",
     "output_type": "error",
     "traceback": [
      "\u001b[0;31m---------------------------------------------------------------------------\u001b[0m",
      "\u001b[0;31mNameError\u001b[0m                                 Traceback (most recent call last)",
      "\u001b[0;32m<ipython-input-102-89e0ce149e25>\u001b[0m in \u001b[0;36m<module>\u001b[0;34m\u001b[0m\n\u001b[1;32m      1\u001b[0m \u001b[0mnodes_organtype\u001b[0m \u001b[0;34m=\u001b[0m \u001b[0mdict_all\u001b[0m\u001b[0;34m[\u001b[0m\u001b[0;34m'nodes_organtype'\u001b[0m\u001b[0;34m]\u001b[0m\u001b[0;34m\u001b[0m\u001b[0;34m\u001b[0m\u001b[0m\n\u001b[1;32m      2\u001b[0m \u001b[0mplt\u001b[0m\u001b[0;34m.\u001b[0m\u001b[0mstyle\u001b[0m\u001b[0;34m.\u001b[0m\u001b[0muse\u001b[0m\u001b[0;34m(\u001b[0m\u001b[0;34m'default'\u001b[0m\u001b[0;34m)\u001b[0m\u001b[0;34m\u001b[0m\u001b[0;34m\u001b[0m\u001b[0m\n\u001b[0;32m----> 3\u001b[0;31m \u001b[0mx\u001b[0m \u001b[0;34m=\u001b[0m \u001b[0mnp\u001b[0m\u001b[0;34m.\u001b[0m\u001b[0marray\u001b[0m\u001b[0;34m(\u001b[0m\u001b[0moutput\u001b[0m\u001b[0;34m.\u001b[0m\u001b[0miloc\u001b[0m\u001b[0;34m[\u001b[0m\u001b[0;34m:\u001b[0m\u001b[0;34m,\u001b[0m\u001b[0;36m0\u001b[0m\u001b[0;34m]\u001b[0m\u001b[0;34m)\u001b[0m\u001b[0;34m\u001b[0m\u001b[0;34m\u001b[0m\u001b[0m\n\u001b[0m\u001b[1;32m      4\u001b[0m \u001b[0;32mdef\u001b[0m \u001b[0madd_day_night\u001b[0m\u001b[0;34m(\u001b[0m\u001b[0;34m)\u001b[0m\u001b[0;34m:\u001b[0m\u001b[0;34m\u001b[0m\u001b[0;34m\u001b[0m\u001b[0m\n\u001b[1;32m      5\u001b[0m     \u001b[0;31m#trans = mtransforms.blended_transform_factory(ax.transData, ax.transAxes)\u001b[0m\u001b[0;34m\u001b[0m\u001b[0;34m\u001b[0m\u001b[0;34m\u001b[0m\u001b[0m\n",
      "\u001b[0;31mNameError\u001b[0m: name 'output' is not defined"
     ]
    }
   ],
   "source": [
    "nodes_organtype = dict_all['nodes_organtype']\n",
    "plt.style.use('default')\n",
    "x = np.array(output.iloc[:,0])\n",
    "def add_day_night():\n",
    "    #trans = mtransforms.blended_transform_factory(ax.transData, ax.transAxes)\n",
    "    #ax.fill_between(x, np.min(y), np.max(y), where=[ 12<x<18] , facecolor='lightgrey', alpha=1, interpolate=False,zorder=0,transform=trans)\n",
    "    for i in range(0,4):\n",
    "        ax.axvspan(0,5,facecolor='lightgrey', zorder=0)\n",
    "        ax.axvspan(18+24*i,29+24*i,facecolor='lightgrey',zorder=0)\n",
    "def line_style(int): #set line style in the plot figure\n",
    "    if  32<int<36 : #int is a small part of main stem which are shown in dashed line \n",
    "        return ':'\n",
    "    else: #\n",
    "        return '-'\n",
    "stem_line = mlines.Line2D([], [], color='darkgreen', marker='', linestyle='-', linewidth= 5,\n",
    "                          markersize=30, label='Stem')\n",
    "root_line = mlines.Line2D([], [], color='wheat', marker='', linestyle='-', linewidth= 5,\n",
    "                          markersize=30, label='Root')\n",
    "leaf_line = mlines.Line2D([], [], color='lightgreen', marker='', linestyle='-', linewidth= 5,\n",
    "                          markersize=30, label='Leaf')\n",
    "stem_line1 = mlines.Line2D([], [], color='darkgreen', marker='', linestyle=':', linewidth= 5,\n",
    "                          markersize=30, label='Stem\\n between\\n two\\n leaves')\n",
    "plt.rcParams['figure.figsize'] = [20, 20]\n",
    "plt.rcParams.update({'font.size': 24})\n",
    "import numpy as np\n",
    "f = plt.figure()\n",
    "plt.rcParams.update({'legend.fontsize': 18})\n",
    "f.subplots_adjust(wspace=0.3)\n",
    "\n",
    "\n",
    "def organ_color(int):\n",
    "    if int == 34 or 40 or 51 or 46: #int is source \n",
    "        return 'lightgreen'\n",
    "    elif int == 10: #int root\n",
    "        return 'wheat'\n",
    "    elif int == 17 or 29:\n",
    "        return 'darkgreen'\n",
    "    else:\n",
    "        return 'darkgreen'\n",
    "stem_nodes = nodes_organtype[(nodes_organtype[:,1]== 3)][:,0] \n",
    "root_nodes = nodes_organtype[(nodes_organtype[:,1]== 2)][:,0] \n",
    "leaf_nodes = nodes_organtype[(nodes_organtype[:,1]== 4)][:,0] \n",
    "\n",
    "def organ_color_n(int):\n",
    "    if nodes_organtype[int,1] == 4: #int is source \n",
    "        return 'lightgreen'\n",
    "    elif nodes_organtype[int,1] == 2: #int is sink\n",
    "        return 'wheat'\n",
    "    elif nodes_organtype[int,1] == 3:\n",
    "        return 'darkgreen'\n",
    "    else:\n",
    "        return 'silver'    \n",
    "\n",
    "def organ_color(int):\n",
    "    if int in leaf_nodes: #int is source \n",
    "        return 'lightgreen'\n",
    "    elif int in root_nodes: #int is sink\n",
    "        return 'wheat'\n",
    "    elif int in stem_nodes:\n",
    "        return 'darkgreen'\n",
    "    else:\n",
    "        return 'silver'   \n",
    "\n",
    "######################################### First Figure ################################################\n",
    "ax = plt.subplot(221)\n",
    "ax.tick_params(width=2)\n",
    "ax.spines['right'].set_visible(False)\n",
    "ax.spines['top'].set_visible(False)\n",
    "for axis in ['bottom','left']:\n",
    "    ax.spines[axis].set_linewidth(2)\n",
    "plt.xlabel(\"Time (hour)\")\n",
    "plt.ylabel(\"Xylem Pressure (MPa)\", color='black')\n",
    "plt.title(\"A: Xylem Pressure\", color='black' ,loc=\"left\")\n",
    "for i in range(len(node_connection)):\n",
    "    ax.plot(x,[pt[i] for pt in P_Xyl], linewidth=5,  label = '{0}'.format(node_connection[i,0])\n",
    "                ,c=organ_color_n(i),alpha=0.8,zorder=0, ls = line_style(node_connection[i,0]))\n",
    "green_star = mlines.Line2D([], [], color='darkgreen', marker='s', markeredgewidth = 1, markeredgecolor = 'black', linestyle='-',\n",
    "                          markersize=16, label='22nd node')\n",
    "orange_cross = mlines.Line2D([], [], color='orange', marker='v', markeredgewidth = 1, markeredgecolor = 'black', linestyle='-',\n",
    "                          markersize=16, label='10th node')\n",
    "lgreen_circle = mlines.Line2D([], [], color='lightgreen', marker='o', markeredgewidth = 1, markeredgecolor = 'black', linestyle='-',\n",
    "                          markersize=16, label='49th node')\n",
    "star = mlines.Line2D([], [], color='grey', marker='s', linestyle='',\n",
    "                          markersize=16, label='Stem')\n",
    "cross = mlines.Line2D([], [], color='grey', marker='v', linestyle='',\n",
    "                          markersize=16, label='Root')\n",
    "circle = mlines.Line2D([], [], color='grey', marker='o', linestyle='',\n",
    "                          markersize=16, label='Leaf')\n",
    "add_day_night()\n",
    "\n",
    "######################################### Second Figure ################################################\n",
    "ax = plt.subplot(222)\n",
    "ax.tick_params(width=2)\n",
    "ax.spines['right'].set_visible(False)\n",
    "ax.spines['top'].set_visible(False)\n",
    "for axis in ['bottom','left']:\n",
    "    ax.spines[axis].set_linewidth(2)\n",
    "plt.xlabel(\"Time (hour)\")\n",
    "plt.ylabel(\"Xylem Water Flow (ml h$^{-1}$)\")\n",
    "plt.title(\"B: Xylem Water Flow\",loc=\"left\")\n",
    "for i in range(len(node_connection)-1):\n",
    "    ax.plot(x,[pt[i] for pt in JW_Xyl], linewidth=5,  label = '{0}'.format(node_connection[i,0])\n",
    "                ,c=organ_color(node_connection[i,0]),alpha=0.8,zorder=0, ls = line_style(node_connection[i,0]))\n",
    "#ax.set_ylim(0, 0.0005)\n",
    "add_day_night()\n",
    "\n",
    "\n",
    "######################################### Third Figure ################################################\n",
    "ax = plt.subplot(223)\n",
    "ax.tick_params(width=2)\n",
    "ax.spines['right'].set_visible(False)\n",
    "ax.spines['top'].set_visible(False)\n",
    "for axis in ['bottom','left']:\n",
    "    ax.spines[axis].set_linewidth(2)\n",
    "\n",
    "\n",
    "plt.xlabel(\"Time (hour)\")\n",
    "\n",
    "plt.ylabel('Water from Xylem to Phloem (ml h⁻¹)', color='black')\n",
    "\n",
    "#plt.title('Phloem Carbon Flow with Diurnal Transpiration')\n",
    "\n",
    "\n",
    "plt.title('C: Water from Xylem to Phloem', color='black', loc=\"left\")  \n",
    "for i in range(len(np.transpose(JW_Trsv))-1):\n",
    "        ax.plot(x,[pt[i] for pt in JW_Trsv], linewidth=5,  label = '{0}'.format(node_connection[i,0])\n",
    "                ,c=organ_color(i),alpha=0.8, ls = line_style(node_connection[i,0]))\n",
    "\n",
    "add_day_night()\n",
    "\n",
    "######################################### Fourth Figure ################################################\n",
    "ax = plt.subplot(224)\n",
    "ax.tick_params(width=2)\n",
    "ax.spines['right'].set_visible(False)\n",
    "ax.spines['top'].set_visible(False)\n",
    "for axis in ['bottom','left']:\n",
    "    ax.spines[axis].set_linewidth(2)\n",
    "plt.xlabel(\"Time (hour)\")\n",
    "plt.ylabel('Carbon Flow (mmol h⁻¹)', color='black')\n",
    "plt.title('D: Phloem Carbon Flow', color='black',loc=\"left\")  \n",
    "for i in range(len(np.transpose(JS_ST))):\n",
    "        ax.plot(x,[pt[i] for pt in JS_ST], linewidth=5,  label = '{0}'.format(node_connection[i,0])\n",
    "                ,c=organ_color(node_connection[i,0]),alpha=0.8, ls = line_style(node_connection[i,0]))\n",
    "add_day_night()\n",
    "plt.show()\n",
    "f.savefig(\"diural.png\", bbox_inches='tight')"
   ]
  },
  {
   "cell_type": "code",
   "execution_count": null,
   "metadata": {},
   "outputs": [],
   "source": [
    "plant."
   ]
  },
  {
   "cell_type": "code",
   "execution_count": 55,
   "metadata": {},
   "outputs": [
    {
     "data": {
      "image/png": "[encoded data removed]",
      "text/plain": [
       "<Figure size 3000x2000 with 6 Axes>"
      ]
     },
     "metadata": {},
     "output_type": "display_data"
    }
   ],
   "source": [
    "import matplotlib.pyplot as plt\n",
    "import matplotlib.patches as mpatches\n",
    "output = piaf_output\n",
    "# with heterogeneous soil\n",
    "plt.style.use('default')\n",
    "lable_size=16\n",
    "title_size =24\n",
    "plt.rcParams.update({'font.size': 24})\n",
    "def line_style(int): #set line style in the plot figure\n",
    "    if  32<int<36 : #int is a small part of main stem which are shown in dashed line \n",
    "        return '-'\n",
    "    else: #\n",
    "        return '-'\n",
    "\n",
    "\n",
    "#plt.rcParams['axes.facecolor'] = 'lightgrey'    \n",
    "def add_day_night():\n",
    "    #trans = mtransforms.blended_transform_factory(ax.transData, ax.transAxes)\n",
    "    #ax.fill_between(x, np.min(y), np.max(y), where=[ 12<x<18] , facecolor='lightgrey', alpha=1, interpolate=False,zorder=0,transform=trans)\n",
    "    for i in range(0,4):\n",
    "        ax.axvspan(0,5,facecolor='lightgrey', zorder=0)\n",
    "        ax.axvspan(18+24*i,29+24*i,facecolor='lightgrey',zorder=0)\n",
    "        \n",
    "\n",
    "stem_nodes = nodes_organtype[(nodes_organtype[:,1]== 4)][:,0] \n",
    "root_nodes = nodes_organtype[(nodes_organtype[:,1]== 2)][:,0] \n",
    "leaf_nodes = nodes_organtype[(nodes_organtype[:,1]== 8)][:,0] \n",
    "# high_leaf =[47,48,49,50,51,52,53,54]\n",
    "# leaf1 =[42]\n",
    "# high_leaf1 =[51]\n",
    "# high_leaf2 =[52]\n",
    "# high_leaf3 =[53]\n",
    "# high_leaf4 =[54]\n",
    "# h_l_c=[19]\n",
    "# l_l_c=[11]\n",
    "# low_leaf =[25,26,27,28,29,30,31,32]\n",
    "# low_leaf1 =[29]\n",
    "# low_leaf2 =[30]\n",
    "# low_leaf3 =[31]\n",
    "# low_leaf4 =[32]\n",
    "# all_mark = [31,53,42]\n",
    "# time = np.array(output.iloc[:, 0])    \n",
    "def organ_color(int):\n",
    "    if int in root_nodes: #int is source \n",
    "        return \"None\"#'lightgreen'\n",
    "    elif int in high_leaf3: #int is sink\n",
    "        return 'tomato'\n",
    "    elif int in low_leaf3: #int is sink\n",
    "        return 'royalblue'\n",
    "    elif int in leaf1: #int is sink\n",
    "        return 'lightgreen'\n",
    "    elif int in root_nodes: #int is sink\n",
    "        return 'None'\n",
    "    elif int in stem_nodes:\n",
    "        return \"None\"#'darkgreen'\n",
    "    else:\n",
    "        return \"None\"#'black'\n",
    "  \n",
    "time =piaf_output[\"time\"]\n",
    "\n",
    "#pd.read_table(path,sep='\\t')\n",
    "\n",
    "\n",
    "csfont = {'fontname':'Comic Sans MS'}\n",
    "hfont = {'fontname':'Comic Sans MS'}\n",
    "\n",
    "plt.rcParams['figure.figsize'] = [30, 20]\n",
    "\n",
    "import numpy as np\n",
    "\n",
    "\n",
    "f = plt.figure()\n",
    "f.subplots_adjust(hspace=0.35)\n",
    "f.subplots_adjust(wspace=0.35)\n",
    "\n",
    "nodes_cor = python_nodes(plant)\n",
    "nodes = nodes_cor\n",
    "ax = plt.subplot(231, projection='3d')\n",
    "plt.rcParams.update({'font.size': 24})\n",
    "plt.title('A: Heterogeneous Transpiration\\n on Plant Leaves',loc=\"left\")\n",
    "x_c =nodes[:,3]*100\n",
    "y_c =nodes[:,4]*100\n",
    "z_c =nodes[:,5]*100\n",
    "ax.w_xaxis.set_pane_color((1.0, 1.0, 1.0, 0.0))\n",
    "ax.w_yaxis.set_pane_color((1.0, 1.0, 1.0, 0.0))\n",
    "ax.w_zaxis.set_pane_color((1.0, 1.0, 1.0, 0.0))\n",
    "\n",
    "# Get rid of the spines\n",
    "ax.w_xaxis.line.set_color((1.0, 1.0, 1.0, 0.0))\n",
    "ax.w_yaxis.line.set_color((1.0, 1.0, 1.0, 0.0))\n",
    "ax.w_zaxis.line.set_color((1.0, 1.0, 1.0, 0.0))\n",
    "\n",
    "# Now set color to white (or whatever is \"invisible\")\n",
    "ax.xaxis.pane.set_edgecolor('w')\n",
    "ax.yaxis.pane.set_edgecolor('w')\n",
    "ax.zaxis.pane.set_edgecolor('w')\n",
    "\n",
    "ax.set_xticks([]) \n",
    "ax.set_yticks([]) \n",
    "ax.set_zticks([])\n",
    "\n",
    "# Bonus: To get rid of the grid as well:\n",
    "#ax.grid(False)\n",
    "#for i in range(len(nodes_cor)):\n",
    "#    ax.plot([x[i]], [y[i]], [z[i]], marker='${}$'.format(nodes_cor[i,1]),\n",
    "#            markersize=12, color='black')\n",
    "def organ_color3d(int):\n",
    "\n",
    "    if int in high_leaf: #int is sink\n",
    "        return 'tomato'\n",
    "    \n",
    "    elif int in low_leaf: #int is sink\n",
    "        return 'royalblue'\n",
    "    elif int in stem_nodes or int ==46:\n",
    "        return \"darkgreen\"#'darkgreen'\n",
    "    elif int in leaf1: #int is sink\n",
    "        return 'lightgreen'\n",
    "    elif int in root_nodes: #int is sink\n",
    "        return 'wheat'\n",
    "    elif int in stem_nodes:\n",
    "        return \"darkgreen\"#'darkgreen'\n",
    "    elif int in leaf_nodes: #int is source \n",
    "        return \"lightgreen\"#'lightgreen'\n",
    "    else:\n",
    "        return \"black\"#'black'\n",
    "    \n",
    "def organ_marker3d(int):\n",
    "    if int in all_mark: #int is source \n",
    "        return \"o\"#'lightgreen'\n",
    "    else:\n",
    "        return \"None\"#'black'\n",
    "node_connection = dict_all[\"node_connection\"]    \n",
    "    \n",
    "for i in range(0,len(node_connection)):\n",
    "    #xline = [x[node_connection[:,0][i]]],[x[node_connection[:,1][i]]] )\n",
    "    #yline = np.array([y[node_connection[:,0][i]]],[y[node_connection[:,1][i]]] )\n",
    "    #zline = np.array([z[node_connection[:,0][i]]],[z[node_connection[:,1][i]]] )\n",
    "    ax.plot3D(np.array([[x_c[node_connection[:,0][i]]][0],[x_c[node_connection[:,1][i]]][0]]), \n",
    "              np.array([[y_c[node_connection[:,0][i]]][0],[y_c[node_connection[:,1][i]]][0]]), \n",
    "              np.array([[z_c[node_connection[:,0][i]]][0],[z_c[node_connection[:,1][i]]][0]]), \n",
    "              color=organ_color3d(node_connection[i,0]), alpha=1, linewidth=12, ls = \"-\", zorder=0)\n",
    "for i in range(0,len(node_connection)+1):\n",
    "    if i == 31 or i== 42 or i == 53:\n",
    "        ax.scatter(x_c[i+1], \n",
    "                y_c[i+1], \n",
    "                z_c[i+1], alpha=1, c=\"white\", edgecolors=\"black\", linewidth='4',  s=120,zorder=1) #organ_marker3d(node_connection[i,0])\n",
    "\n",
    "    \n",
    "#ax.scatter([x[715]], [y[715]], [z[715]], c='r', s=99)\n",
    "#ax.scatter([x[860]], [y[860]], [z[860]], c='g', s=99)\n",
    "#ax.scatter([x[627]], [y[627]], [z[627]], c='g', s=99)\n",
    "\n",
    "ax.dist = 6.0\n",
    "ax.set_xlabel('',labelpad=0)\n",
    "ax.set_ylabel('',labelpad=0)\n",
    "ax.set_zlabel('',labelpad=0)\n",
    "#ax.set_xlim3d(-1.2, 1)\n",
    "#ax.set_ylim3d(1.5 ,0.5)\n",
    "#ax.set_zlim3d(-4.8,-0.4)\n",
    "#ax.xaxis.set_ticks(np.arange(0, 3, 1))\n",
    "#ax.yaxis.set_ticks(np.arange(0 ,3, 1))\n",
    "#ax.zaxis.set_ticks(np.arange(-3,2, 1))\n",
    "root_patch = mpatches.Patch(color='lightgreen', label='Midlle Transpiration Leaf')\n",
    "#root_patch1 = mpatches.Patch(color='tomato', label='Tap Root in Line Plot')\n",
    "seed_patch = mpatches.Patch(color='black', label='Seed')\n",
    "#stem_patch = mpatches.Patch(color='darkgreen', label='Stem')\n",
    "leaf_patch = mpatches.Patch(color='darkgreen', label='shoot')\n",
    "h_r_patch = mpatches.Patch(color='tomato', label='High Transpiration Leaf')\n",
    "l_r_patch = mpatches.Patch(color='royalblue', label='Low Transpiration Leaf')\n",
    "l_r_patch1 = mpatches.Patch(color='blue', label='Low Water Potential Root Segment \\nin Line Plot')\n",
    "h_r_patch1 = mpatches.Patch(color='orange', label='High Water Potential Root Segment \\nin Line Plot')\n",
    "line_chart = mlines.Line2D([], [], color='white', marker='o', linestyle='-', markeredgewidth = 3, markeredgecolor = 'black',\n",
    "                          markersize=25, label='Segment shown in line plot')\n",
    "plt.rcParams.update({'font.size':24})\n",
    "plt.legend(handles=[leaf_patch,  root_patch, \n",
    "                    h_r_patch, l_r_patch, line_chart],bbox_to_anchor=(-0.41, 0.5), loc=2, borderaxespad=0.)\n",
    "ax.view_init(0, 90)\n",
    "\n",
    "P_Xyl = piaf_output[\"P_Xyl\"]\n",
    "JW_Xyl = piaf_output[\"JW_Xyl\"]\n",
    "JW_Trsv = piaf_output[\"JW_Trsv\"]\n",
    "JS_ST = piaf_output[\"JS_ST\"]\n",
    "\n",
    "\n",
    "ax = plt.subplot(232)\n",
    "\n",
    "ax.tick_params(width=2)\n",
    "ax.spines['right'].set_visible(False)\n",
    "ax.spines['top'].set_visible(False)\n",
    "for axis in ['bottom','left']:\n",
    "    ax.spines[axis].set_linewidth(2)\n",
    "#ax = f.gca(projection='3d')\n",
    "\n",
    "plt.rcParams.update({'font.size': 24})\n",
    "plt.xlabel(\"Time (hour)\")\n",
    "plt.ylabel('Xylem Pressure (MPa)')\n",
    "#plt.ylabel(\"Xylem water flow (ml h$^{-1}$)\".format(output.columns[n_begin]))\n",
    "#plt.title(\"{}th figure {} \".format(i ,output.columns[n_begin]))\n",
    "\n",
    "plt.title('B: Xylem Pressure'.format(),loc=\"left\")\n",
    "#plt.title(\"Xylem Water Flow with Constant Transpiration\".format(i ,output.columns[n_begin]))\n",
    "ax.plot(time,P_Xyl.T[31],c=organ_color(31),linewidth=5)\n",
    "ax.plot(time,P_Xyl.T[53],c=organ_color(53),linewidth=5)\n",
    "ax.plot(time,P_Xyl.T[42],c=organ_color(42),linewidth=5)\n",
    "#plt.axvline(x=output.iloc[k, 0],c='r',label=\"Time\")\n",
    "#plt.text(output.iloc[k, 0]+0.22,0.35,'{:.2f} hour'.format(output.iloc[k, 0]),rotation=90)\n",
    "    #ax.plot(x,[pt[i] for pt in y], linewidth=5,  label = '{0}'.format(node_connection[i,0])\n",
    "    #            ,c=organ_color(node_connection[i,0]),alpha=0.5,zorder=0)\n",
    "#plt.legend()\n",
    "#labelLines(plt.gca().get_lines(), xvals=(0, 100), zorder=0)\n",
    "plt.rcParams.update({'font.size': 24})\n",
    "# plt.legend(handles=[ root_patch, \n",
    "#                     h_r_patch, l_r_patch] ,loc=1, borderaxespad=0.)\n",
    "\n",
    "add_day_night()\n",
    "\n",
    "\n",
    "# root_line = mlines.Line2D([], [], color='red', marker='', linestyle='-', linewidth= 5,\n",
    "#                           markersize=30, label='Root')\n",
    "#plt.legend(handles=[root_line, high_root_line, low_root_line],bbox_to_anchor=(0.7, 0.9), ncol=1, loc=2, borderaxespad=0.)\n",
    "#plt.legend(handles=[leaf_line, stem_line, root_line],bbox_to_anchor=(0.6, 0.8), loc=2, borderaxespad=0., prop={'size': 30})\n",
    "\n",
    "\n",
    "ax = plt.subplot(233)\n",
    "ax.tick_params(width=2)\n",
    "ax.spines['right'].set_visible(False)\n",
    "ax.spines['top'].set_visible(False)\n",
    "for axis in ['bottom','left']:\n",
    "    ax.spines[axis].set_linewidth(2)\n",
    "#ax = f.gca(projection='3d')\n",
    "\n",
    "plt.xlabel(\"Time (hour)\")\n",
    "plt.ylabel(\"Xylem Water Flow (ml h$^{-1}$)\")\n",
    "#plt.ylabel(\"Xylem water flow (ml h$^{-1}$)\".format(output.columns[n_begin]))\n",
    "#plt.title(\"{}th figure {} \".format(i ,output.columns[n_begin]))\n",
    "plt.title(\"C: Xylem Water Flow\".format() ,loc=\"left\")\n",
    "#plt.title(\"Xylem Water Flow with Constant Transpiration\".format(i ,output.columns[n_begin]))\n",
    "for i in all_mark:\n",
    "    ax.plot(time ,JW_Xyl.T[np.where(node_connection[:,0] == i)[0][0]], linewidth=5,c=organ_color(i),alpha=0.8,zorder=0.8)\n",
    "    \n",
    "\n",
    "#plt.axvline(x=output.iloc[k, 0],c='r',label=\"Time\")\n",
    "#plt.text(output.iloc[k, 0]+0.22,0.15,'{:.2f} hour'.format(output.iloc[k, 0]),rotation=90)\n",
    "    #ax.plot(x,[pt[i] for pt in y], linewidth=5,  label = '{0}'.format(node_connection[i,0])\n",
    "     #           ,c=organ_color(node_connection[i,0]),alpha=0.5,zorder=0)\n",
    "#plt.legend()\n",
    "#labelLines(plt.gca().get_lines(), xvals=(0, 100), zorder=0)\n",
    "plt.rcParams.update({'font.size': 24})\n",
    "\n",
    "stem_carbon = mlines.Line2D([], [], color='darkgreen', marker='s', linestyle='-', markeredgewidth = 1, markeredgecolor = 'black',\n",
    "                          markersize=16, label='22nd node')\n",
    "root_carbon = mlines.Line2D([], [], color='orange', marker='v', linestyle='-', markeredgewidth = 1, markeredgecolor = 'black',\n",
    "                          markersize=16, label='10th node')\n",
    "leaf_carbon = mlines.Line2D([], [], color='lightgreen', marker='o', linestyle='-', markeredgewidth = 1, markeredgecolor = 'black',\n",
    "                          markersize=16, label='49th node')\n",
    "stem_line = mlines.Line2D([], [], color='darkgreen', marker='', linestyle='-', linewidth= 5,\n",
    "                          markersize=30, label='Stem')\n",
    "low_root_line = mlines.Line2D([], [], color='blue', marker='', linestyle='-', linewidth= 5,\n",
    "                          markersize=30, label='Low Water Potential Lateral')\n",
    "high_root_line = mlines.Line2D([], [], color='tomato', marker='', linestyle='-', linewidth= 5,\n",
    "                          markersize=30, label='High Water Potential Lateral')\n",
    "leaf_line = mlines.Line2D([], [], color='lightgreen', marker='', linestyle='-', linewidth= 5,\n",
    "                          markersize=30, label='Leaf')\n",
    "#plt.legend(handles=[ root_patch],bbox_to_anchor=(0.9, 0.7), loc=2, borderaxespad=0.)\n",
    "\n",
    "root_line = mlines.Line2D([], [], color='red', marker='', linestyle='-', linewidth= 5,\n",
    "                          markersize=30, label='Tap Root')\n",
    "add_day_night()\n",
    "\n",
    "# plt.legend(handles=[ root_patch, \n",
    "#                     h_r_patch, l_r_patch], loc=2, borderaxespad=0.)\n",
    "\n",
    "\n",
    "\n",
    "ax = plt.subplot(234)\n",
    "ax.tick_params(width=2)\n",
    "ax.spines['right'].set_visible(False)\n",
    "ax.spines['top'].set_visible(False)\n",
    "for axis in ['bottom','left']:\n",
    "    ax.spines[axis].set_linewidth(2)\n",
    "\n",
    "plt.xlabel(\"Time (hour)\", **hfont)\n",
    "plt.rcParams.update({'font.size': 24})\n",
    "\n",
    "plt.ylabel('C Concentration (mmol ml⁻¹)'.format())\n",
    "\n",
    "    \n",
    "\n",
    "    \n",
    "#plt.title('Phloem Carbon Flow with Constant Transpiration')  \n",
    "plt.title('D: Sievetube Carbon Concentration'.format(),loc=\"left\")  \n",
    "ax.plot(time,C_ST.T[31],c=organ_color(31),linewidth=5)\n",
    "ax.plot(time,C_ST.T[53],c=organ_color(53),linewidth=5)\n",
    "ax.plot(time,C_ST.T[42],c=organ_color(42),linewidth=5)\n",
    "\n",
    "add_day_night()\n",
    "# plt.legend(handles=[ root_patch, \n",
    "#                     h_r_patch, l_r_patch], loc=4, borderaxespad=0.)\n",
    "\n",
    "\n",
    "\n",
    "ax = plt.subplot(235)\n",
    "ax.tick_params(width=2)\n",
    "ax.spines['right'].set_visible(False)\n",
    "ax.spines['top'].set_visible(False)\n",
    "for axis in ['bottom','left']:\n",
    "    ax.spines[axis].set_linewidth(2)\n",
    "\n",
    "plt.xlabel(\"Time (hour)\", **hfont)\n",
    "plt.rcParams.update({'font.size': 24})\n",
    "plt.ylabel('Flow Rate (ml h⁻¹)')\n",
    "\n",
    "\n",
    "    \n",
    "\n",
    "    \n",
    "# s =output.columns[n_begin]\n",
    "# s = s.replace('/', '')    \n",
    "#plt.title('Phloem Carbon Flow with Constant Transpiration')  \n",
    "plt.title('E:Xylem Water Transfered to Phloem'.format(),loc=\"left\")  \n",
    "ax.plot(time,JW_Trsv.T[31],c=organ_color(31),linewidth=5)\n",
    "ax.plot(time,JW_Trsv.T[53],c=organ_color(53),linewidth=5)\n",
    "ax.plot(time,JW_Trsv.T[42],c=organ_color(42),linewidth=5)\n",
    "\n",
    "\n",
    "\n",
    "    \n",
    "# plt.legend(handles=[ root_patch,                     h_r_patch, l_r_patch], loc=2, borderaxespad=0.)\n",
    "add_day_night()\n",
    "# high_root_line = mlines.Line2D([], [], color='orange', marker='', linestyle='-', linewidth= 5,\n",
    "#                           markersize=30, label='Root Higher Water Potential')\n",
    "# low_root_line = mlines.Line2D([], [], color='blue', marker='', linestyle='-', linewidth= 5,\n",
    "#                           markersize=30, label='Root Lower Water Potential')\n",
    "#plt.legend(handles=[ root_patch],bbox_to_anchor=(0.9, 0.7), loc=2, borderaxespad=0.)\n",
    "# root_line = mlines.Line2D([], [], color='red', marker='', linestyle='-', linewidth= 5,\n",
    "#                           markersize=30, label='Root')\n",
    "#plt.legend(handles=[root_line, high_root_line, low_root_line],bbox_to_anchor=(0.7, 0.9), ncol=1, loc=2, borderaxespad=0.)\n",
    "\n",
    "\n",
    "\n",
    "\n",
    "\n",
    "\n",
    "\n",
    "\n",
    "\n",
    "\n",
    "\n",
    "\n",
    "\n",
    "\n",
    "\n",
    "\n",
    "\n",
    "\n",
    "\n",
    "\n",
    "\n",
    "\n",
    "\n",
    "\n",
    "ax = plt.subplot(236)\n",
    "ax.tick_params(width=2)\n",
    "ax.spines['right'].set_visible(False)\n",
    "ax.spines['top'].set_visible(False)\n",
    "for axis in ['bottom','left']:\n",
    "    ax.spines[axis].set_linewidth(2)\n",
    "\n",
    "plt.xlabel(\"Time (hour)\", **hfont)\n",
    "\n",
    "plt.ylabel('Carbon Flow (mmol h⁻¹)')\n",
    "\n",
    "#plt.title('Phloem Carbon Flow with Diurnal Transpiration', **hfont)\n",
    "\n",
    "\n",
    "def so_si_color(int):\n",
    "    if int in N1L_node[:,0]: #int is source \n",
    "        return 'lightgreen'\n",
    "    elif int in N1R_node[:,0]: #int is sink\n",
    "        return 'orange'\n",
    "    else:\n",
    "        return 'darkgreen'\n",
    "#plt.title('Phloem Carbon Flow with Constant Transpiration') \n",
    "y=JS_ST\n",
    "plt.title('F: Phloem Carbon Flow', loc=\"left\")  \n",
    "for i in all_mark:\n",
    "        ax.plot(time,JS_ST.T[np.where(node_connection[:,0] == i)[0][0]], linewidth=5 ,c=organ_color(i),alpha=0.8)\n",
    "        \n",
    "#plt.axvline(x=output.iloc[k, 0],c='r',label=\"Time\")\n",
    "#plt.text(output.iloc[k, 0]+0.00002,0.00015,'{:.2f} hour'.format(output.iloc[k, 0]),rotation=90)\n",
    "add_day_night()\n",
    "# plt.legend(handles=[ root_patch, \n",
    "#                     h_r_patch, l_r_patch] ,loc=1, borderaxespad=0.)\n",
    "#plt.legend(handles=[root_line, high_root_line, low_root_line],bbox_to_anchor=(0.7, 0.9), ncol=1, loc=2, borderaxespad=0.)\n",
    "plt.style.use('default')\n",
    "\n",
    "#pd.read_table(path,sep='\\t')\n",
    "\n",
    "plt.rcParams.update({'font.size': 24})\n",
    "i=37\n",
    "\n",
    "\n",
    "\n",
    "\n",
    "\n",
    "\n",
    "f.savefig(\"diural_leaf.png\", bbox_inches='tight')\n",
    "\n"
   ]
  },
  {
   "cell_type": "code",
   "execution_count": null,
   "metadata": {},
   "outputs": [],
   "source": [
    "len(JS_ST)\n",
    "time"
   ]
  },
  {
   "cell_type": "code",
   "execution_count": 20,
   "metadata": {},
   "outputs": [
    {
     "data": {
      "image/png": "[encoded data removed]",
      "text/plain": [
       "<Figure size 2160x1584 with 1 Axes>"
      ]
     },
     "metadata": {
      "needs_background": "light"
     },
     "output_type": "display_data"
    }
   ],
   "source": [
    "from mpl_toolkits.mplot3d import axes3d\n",
    "stem_nodes = nodes_organtype[(nodes_organtype[:,1]== 3)][:,0] \n",
    "root_nodes = nodes_organtype[(nodes_organtype[:,1]== 2)][:,0] \n",
    "leaf_nodes = nodes_organtype[(nodes_organtype[:,1]== 4)][:,0] \n",
    "def organ_color(int):\n",
    "    if int in leaf_nodes: #int is source \n",
    "        return 'lightgreen'\n",
    "    elif int in root_nodes: #int is sink\n",
    "        return 'wheat'\n",
    "    elif int in stem_nodes:\n",
    "        return 'forestgreen'\n",
    "    else:\n",
    "        return 'black'\n",
    "    \n",
    "nodes_cor = python_nodes(plant)\n",
    "\n",
    "plt.rcParams['figure.figsize'] = [30, 22]\n",
    "\n",
    "\n",
    "from mpl_toolkits.mplot3d import Axes3D\n",
    "import matplotlib.pyplot as plt\n",
    "\n",
    "\n",
    "\n",
    "\n",
    "\n",
    "fig = plt.figure()\n",
    "ax = fig.add_subplot(111, projection='3d')\n",
    "\n",
    "x =nodes_cor[:,3]\n",
    "y =nodes_cor[:,4]\n",
    "z =nodes_cor[:,5]\n",
    "\n",
    "# Get rid of colored axes planes\n",
    "# First remove fill\n",
    "ax.xaxis.pane.fill = False\n",
    "ax.yaxis.pane.fill = False\n",
    "ax.zaxis.pane.fill = False\n",
    "\n",
    "# Now set color to white (or whatever is \"invisible\")\n",
    "ax.xaxis.pane.set_edgecolor('w')\n",
    "ax.yaxis.pane.set_edgecolor('w')\n",
    "ax.zaxis.pane.set_edgecolor('w')\n",
    "\n",
    "# Bonus: To get rid of the grid as well:\n",
    "ax.grid(False)\n",
    "\n",
    "for i in range(len(nodes_cor)): #assign all the source to red large font size\n",
    "    if (nodes_cor[i,1] == 8 or nodes_cor[i,1] == 4) and nodes_cor[i,2] == 1:\n",
    "        ax.plot([x[i]], [y[i]], [z[i]], marker='${}$'.format(i),\n",
    "                markersize=40, color='tomato')\n",
    "    else:\n",
    "        ax.plot([x[i]], [y[i]], [z[i]], marker='${}$'.format(i),#mapping all the organ color green or yellow\n",
    "                markersize=12, color=organ_color(i))\n",
    "\n",
    "ax.set_xlabel('')\n",
    "ax.set_ylabel('')\n",
    "ax.set_zlabel('')\n",
    "#ax.set_ylim3d(2,0)\n",
    "# ax.set_zlim3d(-1,7.5)\n",
    "# ax.set_xlim3d(-0.2,0.2)\n",
    "#ax.view_init(0, 90)\n",
    "plt.show()\n",
    "fig.savefig(\"{}.png\".format('3d with node number{}'.format(name)), bbox_inches='tight', dpi=300)"
   ]
  },
  {
   "cell_type": "code",
   "execution_count": 92,
   "metadata": {},
   "outputs": [
    {
     "data": {
      "text/plain": [
       "array([ 2.00000000e+00,  2.00000000e+00,  2.00000000e+00, -8.23961832e-04,\n",
       "       -1.19159170e-04, -2.49261294e-02])"
      ]
     },
     "execution_count": 92,
     "metadata": {},
     "output_type": "execute_result"
    }
   ],
   "source": [
    "nodes_cor[2]"
   ]
  },
  {
   "cell_type": "code",
   "execution_count": 91,
   "metadata": {},
   "outputs": [
    {
     "data": {
      "text/plain": [
       "array([ 1.00000000e+00,  2.00000000e+00,  2.00000000e+00, -4.90811085e-04,\n",
       "        1.10608402e-06, -2.24513472e-02])"
      ]
     },
     "execution_count": 91,
     "metadata": {},
     "output_type": "execute_result"
    }
   ],
   "source": [
    "nodes_cor[1]"
   ]
  },
  {
   "cell_type": "code",
   "execution_count": 85,
   "metadata": {},
   "outputs": [],
   "source": [
    "time =3\n",
    "plant.simulate(time)\n",
    "plant.write(\"{}.vtp\".format(str(name)))\n",
    "# dict_all  = convert( plant )\n",
    "# piafmunch_outputname = name +\".ini\"\n",
    "# Soil_water = [0]*(len(dict_all['node_connection'])+1)\n",
    "# write_PiafMunch_parameter(dict_all['node_connection'], dict_all['nodes_organtype'], dict_all['nodes_r_st'], dict_all['unq_cnt'],Soil_water , piafmunch_outputname, 24)"
   ]
  },
  {
   "cell_type": "code",
   "execution_count": 69,
   "metadata": {},
   "outputs": [
    {
     "data": {
      "text/plain": [
       "array([2., 2., 2., 2., 2., 2., 2., 2., 2., 2., 2., 2., 2., 2., 2., 2., 2.,\n",
       "       2., 2., 2., 2., 2., 2., 2., 2., 2., 2., 2., 2., 2., 2., 2., 2., 2.,\n",
       "       2., 2., 2., 2., 2., 2., 2., 2., 2., 2., 2., 2., 2., 2., 2., 2., 2.,\n",
       "       2., 3., 3., 3., 3., 3., 3., 3., 3., 3., 3., 3., 3., 3., 3., 3., 4.,\n",
       "       4., 4., 4., 4., 4., 4., 4., 4., 4., 4., 4., 4., 0.])"
      ]
     },
     "execution_count": 69,
     "metadata": {},
     "output_type": "execute_result"
    }
   ],
   "source": [
    "node_organtype"
   ]
  },
  {
   "cell_type": "code",
   "execution_count": 214,
   "metadata": {},
   "outputs": [],
   "source": [
    "\n",
    "\n",
    "    \n",
    "pi= 3.1415926\n",
    "\n",
    "k = 1.118e-12 # conductivity (m2)\n",
    "n = 1.7e-9 / 3600 # viscosity (MPa.h)\n",
    "s = (12.880e-6)**2*pi # surface (m2)\n",
    "l = 5e-2 # length (m)\n",
    "\n",
    "K1 = (k/n)*(s/l) *10**6\n",
    "\n",
    "K_1 = (1 / K1)\n",
    "#print(K_1)\n",
    "\n",
    "# 1 meter inner phloem resistance\n",
    "\n",
    "k = 0.693e-12 # conductivity (m2)\n",
    "n = 1.7e-9 / 3600 # viscosity (MPa.h)\n",
    "s = (14.6e-6)**2*pi # surface (m2)\n",
    "l = 5e-2 # length (m)\n",
    "\n",
    "K1 = (k/n)*(s/l) *10**6\n",
    "\n",
    "K_4 = (1 / K1)\n",
    "#print(K_4)\n",
    "# 4 meter inner phloem resistance\n",
    "\n",
    "k = 0.879e-12 # conductivity (m2)\n",
    "n = 1.7e-9 / 3600 # viscosity (MPa.h)\n",
    "s = (9.83e-6)**2*pi # surface (m2)\n",
    "l = 5e-2 # length (m)\n",
    "\n",
    "K1 = (k/n)*(s/l) *10**6\n",
    "\n",
    "K_7 = (1 / K1)\n",
    "#print(K_7)\n",
    "\n",
    "#7 meter inner phloem resistance\n",
    "\n",
    "k = 1.795e-12 # conductivity (m**2)\n",
    "n = 1.7e-9 / 3600 # viscosity (MPa.h)\n",
    "s = (13.830e-6)**2*pi # surface (m**2)\n",
    "l = 5e-2 # length (m)\n",
    "\n",
    "K1 = (k/n)*(s/l) *10**6 \n",
    "\n",
    "K_1_i = (1 / K1)\n",
    "#print(K_1_i)\n",
    "\n",
    "k = 0.98712e-12 # conductivity (m**2)\n",
    "n = 1.7e-9 / 3600 # viscosity (MPa.h)\n",
    "s = (19.710e-6)**2*pi # surface (m**2)\n",
    "l = 5e-2 # length (m)\n",
    "\n",
    "K1 = (k/n)*(s/l) *10**6\n",
    "\n",
    "K_4_i = (1 / K1)\n",
    "#print(K_4_i)\n",
    "\n",
    "k = 0.3532e-12 # conductivity (m**2)\n",
    "n = 1.7e-9 / 3600 # viscosity (MPa.h)\n",
    "s = (10.670e-6)**2*pi # surface (m**2)\n",
    "l = 5e-2 # length (m)\n",
    "\n",
    "K1 = (k/n)*(s/l) *10**6\n",
    "\n",
    "K_7_i = (1 / K1)\n",
    "#print(K_7_i)\n",
    "\n",
    "R_name = [1,4,7]\n",
    "R_ex_number = [K_1,K_4,K_7] #external phloem resistance\n",
    "R_in_number = [K_1_i,K_4_i,K_7_i] #internal phloem resistance\n",
    "\n",
    "\n",
    "plt.rcParams['figure.figsize'] = [10, 10]\n",
    "\n",
    "slope, intercept, r_value, p_value, std_err = stats.linregress(R_name[0:2], R_ex_number[0:2]) #least square regression\n",
    "slope2, intercept2, r_value2, p_value2, std_err2 = stats.linregress(R_name[1:3], R_ex_number[1:3]) #least square regression\n",
    "#plt.plot(R_name[0:2], R_ex_number[0:2], 'o', label='Resistance in external phloem')\n",
    "#plt.plot(R_name[1:3], R_ex_number[1:3], 'o', label='Resistance in external phloem', c='black' )\n",
    "#plt.plot(R_name[0:2], intercept + slope*R_name[0:2], 'r', label='fitted line1')\n",
    "#plt.plot(R_name[1:3], intercept2 + slope2*R_name[1:3], 'r', label='fitted line2')\n",
    "#plt.xlabel(\"Distance to seed (meter)\")\n",
    "#plt.ylabel(\"Resistance (MPa h mL$^{-1}$))\")\n",
    "#plt.legend()\n",
    "#plt.show()\n",
    "\n",
    "\n",
    "stem_nodes = nodes_organtype[(nodes_organtype[:,1]== 3)][:,0] \n",
    "root_nodes = nodes_organtype[(nodes_organtype[:,1]== 2)][:,0] \n",
    "leaf_nodes = nodes_organtype[(nodes_organtype[:,1]== 4)][:,0] \n",
    "def organ_marker(int):\n",
    "    if int in leaf_nodes:\n",
    "    #if int == 21: #int is source \n",
    "        return 'o'\n",
    "    elif int in root_nodes : #int is sink\n",
    "        return 'x'\n",
    "    #elif int == 40 :\n",
    "    elif int in stem_nodes:\n",
    "        return '*'\n",
    "    else:\n",
    "        return 'None'\n",
    "\n",
    "#node_connection_cor\n",
    "nodes_c_cor = np.full((len(node_connection), 3),0.0)\n",
    "#charar = np.chararray((3, 3))\n",
    "nodes_org = np.full((len(node_connection), 1),0)\n",
    "\n",
    "for i in range(0,len(node_connection)-1):\n",
    "    nodes_org[i]= nodes_organtype[nodes_organtype[:,0] == node_connection[i][0]][0][1]\n",
    "nodes_c_marker = np.full((len(node_connection), 1),'k')\n",
    "\n",
    "for i in range(0,len(node_connection)-1):\n",
    "    nodes_c_marker[i]= organ_marker(node_connection[i][0])\n",
    "#nodes_c_marker[0][0]= 'D'\n",
    "nodes_c_marker.astype(str, copy = True)\n",
    "\n",
    "\n",
    "for i in range(0,len(node_connection)): #calculate the mid point of two segment nodes\n",
    "    nodes_c_cor[i] = (nodes[node_connection[i,0]] + nodes[node_connection[i,1]])/2\n",
    "\n",
    "\n",
    "\n",
    "\n",
    "b = np.zeros((nodes_organtype.shape[0],nodes_organtype.shape[1]+1)); b[:,:-1] = nodes_organtype\n",
    "node_c_o = np.zeros((node_connection.shape[0],node_connection.shape[1]+5)); node_c_o[:,:-5] = node_connection\n",
    "\n",
    "for i in range(0,len(node_connection)):\n",
    "    node_c_o[i][2:5] = (nodes[node_connection[i,0]] + nodes[node_connection[i,1]])/2\n",
    "#\tnode_c_o[i][6] = nodes_organtype[node_c_o[i][0]][0]\n",
    "    #node_c_o[i][6] = nodes_organtype[node_c_o[i][0]][1]\n",
    "\n",
    "\n",
    "\n",
    "\n",
    "r_st_all = np.full((len(node_connection), 1),0.0)\n",
    "for i in range(0,len(node_connection)):\n",
    "    r_st_all[i]= intercept + slope*node_c_o[i,4]\n",
    "\n",
    "\n",
    "\n",
    "node_c_o = pd.DataFrame({'1st_node':node_connection[:,0],'2nd_node':node_connection[:,1],'x':node_c_o[:,2]\n",
    "                        ,'y':node_c_o[:,3],'z':node_c_o[:,4], 'organ_type':nodes_org[:,0],'marker':nodes_c_marker[:,0], 'r_st':r_st_all[:,0]})\n",
    "#claculate the length from seed of every nodes (root is minus)\n",
    "nodes_length = np.zeros(len(nodes_cor))\n",
    "for i in range(1,len(nodes_cor)):\n",
    "    if nodes_cor[i][1]==2: #if the organtype is root\n",
    "        nodes_length[i] = nodes_length[node_connection_o[(node_connection_o[:,1] == i)][0][0]] - ((nodes_cor[node_connection_o[(node_connection_o[:,1] == i)][0][0]][3]-nodes_cor[node_connection_o[(node_connection_o[:,1] == i)][0][1]][3])**2 + (nodes_cor[node_connection_o[(node_connection_o[:,1] == i)][0][0]][4]-nodes_cor[node_connection_o[(node_connection_o[:,1] == i)][0][1]][4])**2 + (nodes_cor[node_connection_o[(node_connection_o[:,1] == i)][0][0]][5]-nodes_cor[node_connection_o[(node_connection_o[:,1] == i)][0][1]][5])**2)**(0.5) \n",
    "    else:\n",
    "        nodes_length[i] = nodes_length[node_connection_o[(node_connection_o[:,1] == i)][0][0]] + ((nodes_cor[node_connection_o[(node_connection_o[:,1] == i)][0][0]][3]-nodes_cor[node_connection_o[(node_connection_o[:,1] == i)][0][1]][3])**2 + (nodes_cor[node_connection_o[(node_connection_o[:,1] == i)][0][0]][4]-nodes_cor[node_connection_o[(node_connection_o[:,1] == i)][0][1]][4])**2 + (nodes_cor[node_connection_o[(node_connection_o[:,1] == i)][0][0]][5]-nodes_cor[node_connection_o[(node_connection_o[:,1] == i)][0][1]][5])**2)**(0.5) \n",
    "\n",
    "\n",
    "\n",
    "#\t print(nodes_length[i])\n",
    "#\t print(i)\n",
    "    #print(node_connection[i])\n",
    "    #the length of the first node of connection i in node_connection\n",
    "    #node_c_o[i][6] = nodes_organtype[node_c_o[i][0]][0]\n",
    "    #node_c_o[i][6] = nodes_organtype[node_c_o[i][0]][1]\n",
    "\n",
    "    #manual check the length of all nodes.\n",
    "nodes_cor[node_connection[(node_connection[:,1] == 3)][0][0]][2]\n",
    "#len(nodes_length)\n",
    "#print(len(nodes_length))\n",
    "nodes_length\n",
    "#node_connection_o[0,0]=1\n",
    "nodes_length = np.delete(nodes_length,0,0)\n",
    "np.c_[ nodes_organtype, nodes_length]\n",
    "\n",
    "\n",
    "len(nodes_organtype)\n",
    "#node_connection\n",
    "len(nodes_cor)\n",
    "nodes_cor[:,4]\n",
    "nodes_r_st = np.zeros(len(nodes_cor)-1)\n",
    "for i in range(0,len(nodes_cor)-1):\n",
    "    if nodes_length[i] > R_name[1]:\n",
    "        nodes_r_st[i]= (intercept2 + slope2*nodes_length[i])\n",
    "    else:\n",
    "        nodes_r_st[i]= (intercept + slope*nodes_length[i])\n",
    "\n",
    "\n",
    "\n",
    "#R_st is calculated based on the height (or the z axis value), \n",
    "\n",
    "#calcuate the volumn of st\n",
    "\n",
    "\n",
    "# file-output.py"
   ]
  },
  {
   "cell_type": "code",
   "execution_count": 178,
   "metadata": {},
   "outputs": [
    {
     "ename": "IndexError",
     "evalue": "index 0 is out of bounds for axis 0 with size 0",
     "output_type": "error",
     "traceback": [
      "\u001b[0;31m---------------------------------------------------------------------------\u001b[0m",
      "\u001b[0;31mIndexError\u001b[0m                                Traceback (most recent call last)",
      "\u001b[0;32m<ipython-input-178-11d54afdcdf2>\u001b[0m in \u001b[0;36m<module>\u001b[0;34m\u001b[0m\n\u001b[1;32m      9\u001b[0m         \u001b[0mN3_conn_1\u001b[0m\u001b[0;34m[\u001b[0m\u001b[0mi\u001b[0m\u001b[0;34m]\u001b[0m \u001b[0;34m=\u001b[0m \u001b[0;36m0\u001b[0m\u001b[0;34m-\u001b[0m\u001b[0mnp\u001b[0m\u001b[0;34m.\u001b[0m\u001b[0mwhere\u001b[0m\u001b[0;34m(\u001b[0m \u001b[0mnode_connection\u001b[0m\u001b[0;34m[\u001b[0m\u001b[0;34m:\u001b[0m\u001b[0;34m,\u001b[0m\u001b[0;36m0\u001b[0m\u001b[0;34m]\u001b[0m \u001b[0;34m==\u001b[0m  \u001b[0mnode_connection\u001b[0m\u001b[0;34m[\u001b[0m\u001b[0;34m(\u001b[0m\u001b[0mnode_connection\u001b[0m\u001b[0;34m[\u001b[0m\u001b[0;34m:\u001b[0m\u001b[0;34m,\u001b[0m\u001b[0;36m0\u001b[0m\u001b[0;34m]\u001b[0m \u001b[0;34m==\u001b[0m \u001b[0mN3_node\u001b[0m\u001b[0;34m[\u001b[0m\u001b[0mi\u001b[0m\u001b[0;34m-\u001b[0m\u001b[0;36m1\u001b[0m\u001b[0;34m,\u001b[0m\u001b[0;36m0\u001b[0m\u001b[0;34m]\u001b[0m\u001b[0;34m)\u001b[0m\u001b[0;34m]\u001b[0m\u001b[0;34m[\u001b[0m\u001b[0;36m1\u001b[0m\u001b[0;34m]\u001b[0m\u001b[0;34m[\u001b[0m\u001b[0;36m1\u001b[0m\u001b[0;34m]\u001b[0m\u001b[0;34m)\u001b[0m\u001b[0;34m[\u001b[0m\u001b[0;36m0\u001b[0m\u001b[0;34m]\u001b[0m\u001b[0;34m[\u001b[0m\u001b[0;36m0\u001b[0m\u001b[0;34m]\u001b[0m\u001b[0;34m\u001b[0m\u001b[0;34m\u001b[0m\u001b[0m\n\u001b[1;32m     10\u001b[0m     \u001b[0;32melif\u001b[0m  \u001b[0mN3_node\u001b[0m\u001b[0;34m[\u001b[0m\u001b[0mi\u001b[0m\u001b[0;34m,\u001b[0m\u001b[0;36m1\u001b[0m\u001b[0;34m]\u001b[0m \u001b[0;34m==\u001b[0m \u001b[0;36m2\u001b[0m \u001b[0;32mor\u001b[0m \u001b[0mN3_node\u001b[0m\u001b[0;34m[\u001b[0m\u001b[0mi\u001b[0m\u001b[0;34m,\u001b[0m\u001b[0;36m1\u001b[0m\u001b[0;34m]\u001b[0m \u001b[0;34m==\u001b[0m \u001b[0;36m1\u001b[0m\u001b[0;34m:\u001b[0m\u001b[0;34m\u001b[0m\u001b[0;34m\u001b[0m\u001b[0m\n\u001b[0;32m---> 11\u001b[0;31m         \u001b[0mN3_c_nd_1\u001b[0m\u001b[0;34m[\u001b[0m\u001b[0mi\u001b[0m\u001b[0;34m]\u001b[0m \u001b[0;34m=\u001b[0m \u001b[0mnode_connection\u001b[0m\u001b[0;34m[\u001b[0m\u001b[0;34m(\u001b[0m\u001b[0mnode_connection\u001b[0m\u001b[0;34m[\u001b[0m\u001b[0;34m:\u001b[0m\u001b[0;34m,\u001b[0m\u001b[0;36m1\u001b[0m\u001b[0;34m]\u001b[0m \u001b[0;34m==\u001b[0m \u001b[0mN3_node\u001b[0m\u001b[0;34m[\u001b[0m\u001b[0mi\u001b[0m\u001b[0;34m,\u001b[0m\u001b[0;36m0\u001b[0m\u001b[0;34m]\u001b[0m\u001b[0;34m)\u001b[0m\u001b[0;34m]\u001b[0m\u001b[0;34m[\u001b[0m\u001b[0;36m0\u001b[0m\u001b[0;34m]\u001b[0m\u001b[0;34m[\u001b[0m\u001b[0;36m0\u001b[0m\u001b[0;34m]\u001b[0m\u001b[0;34m\u001b[0m\u001b[0;34m\u001b[0m\u001b[0m\n\u001b[0m\u001b[1;32m     12\u001b[0m         \u001b[0mN3_conn_1\u001b[0m\u001b[0;34m[\u001b[0m\u001b[0mi\u001b[0m\u001b[0;34m]\u001b[0m \u001b[0;34m=\u001b[0m \u001b[0;36m0\u001b[0m\u001b[0;34m-\u001b[0m\u001b[0mnp\u001b[0m\u001b[0;34m.\u001b[0m\u001b[0mwhere\u001b[0m\u001b[0;34m(\u001b[0m \u001b[0mnode_connection\u001b[0m\u001b[0;34m[\u001b[0m\u001b[0;34m:\u001b[0m\u001b[0;34m,\u001b[0m\u001b[0;36m0\u001b[0m\u001b[0;34m]\u001b[0m \u001b[0;34m==\u001b[0m \u001b[0mN3_c_nd_1\u001b[0m\u001b[0;34m[\u001b[0m\u001b[0mi\u001b[0m\u001b[0;34m]\u001b[0m\u001b[0;34m)\u001b[0m\u001b[0;34m[\u001b[0m\u001b[0;36m0\u001b[0m\u001b[0;34m]\u001b[0m\u001b[0;34m[\u001b[0m\u001b[0;36m0\u001b[0m\u001b[0;34m]\u001b[0m\u001b[0;34m-\u001b[0m\u001b[0;36m1\u001b[0m\u001b[0;34m\u001b[0m\u001b[0;34m\u001b[0m\u001b[0m\n\u001b[1;32m     13\u001b[0m \u001b[0;34m\u001b[0m\u001b[0m\n",
      "\u001b[0;31mIndexError\u001b[0m: index 0 is out of bounds for axis 0 with size 0"
     ]
    }
   ],
   "source": [
    "N3_node = nodes_organtype[ (nodes_organtype[:,2] ==3 )]\n",
    "#print(N3_node)\n",
    "\n",
    "N3_c_nd_1 = list(range(0, len(N3_node)+1))\n",
    "N3_conn_1 = list(range(0, len(N3_node)+1))\n",
    "for i in range(len(N3_node)):\n",
    "    if N3_node[i,0] == N3_node[i-1,0]+1 : # some n3 nodes are inter connected\n",
    "        N3_c_nd_1[i] = node_connection[(node_connection[:,1] == N3_node[i,0])][0][0]\n",
    "        N3_conn_1[i] = 0-np.where( node_connection[:,0] ==  node_connection[(node_connection[:,0] == N3_node[i-1,0])][1][1])[0][0]\n",
    "    elif  N3_node[i,1] == 2 or N3_node[i,1] == 1:\n",
    "        N3_c_nd_1[i] = node_connection[(node_connection[:,1] == N3_node[i,0])][0][0]\n",
    "        N3_conn_1[i] = 0-np.where( node_connection[:,0] == N3_c_nd_1[i])[0][0]-1\n",
    "\n",
    "    else:\n",
    "        N3_c_nd_1[i] = node_connection[(node_connection[:,0] == N3_node[i,0])][0][1]\n",
    "        N3_conn_1[i] = np.where( node_connection[:,1] == N3_c_nd_1[i])[0][0]+1\n",
    "\n",
    "N3_c_nd_2 = list(range(0, len(N3_node)+1))\n",
    "N3_conn_2 = list(range(0, len(N3_node)+1))\n",
    "for i in range(len(N3_node)):\n",
    "    if N3_node[i,1] == 2 or N3_node[i,1] == 1 and N3_node[i,0] != N3_node[i-1,0]+1:\n",
    "        N3_c_nd_2[i] = node_connection[(node_connection[:,0] == N3_node[i,0])][0][1]\n",
    "        N3_conn_2[i] = np.where( node_connection[:,1] == N3_c_nd_2[i])[0][0]+1\n",
    "    else:\n",
    "        N3_c_nd_2[i] = node_connection[(node_connection[:,1] == N3_node[i,0])][0][0]\n",
    "        N3_conn_2[i] = 0-np.where( node_connection[:,0] == N3_c_nd_2[i])[0][0]-1\n",
    "\n",
    "N3_c_nd_3 = list(range(0, len(N3_node)+1))\n",
    "N3_conn_3 = list(range(0, len(N3_node)+1))\n",
    "for i in range(len(N3_node)):\n",
    "    if N3_node[i,1] == 2 or N3_node[i,1] == 1 and N3_node[i,0] != N3_node[i-1,0]+1:\n",
    "        N3_c_nd_3[i] = node_connection[(node_connection[:,0] == N3_node[i,0])][1][1]\n",
    "        N3_conn_3[i] = np.where( node_connection[:,1] == N3_c_nd_3[i])[0][0]+1\n",
    "    else:\n",
    "        N3_c_nd_3[i] = node_connection[(node_connection[:,1] == N3_node[i,0])][1][0]\n",
    "        N3_conn_3[i] = 0-np.where( node_connection[:,0] == N3_c_nd_3[i])[0][0]-1"
   ]
  },
  {
   "cell_type": "code",
   "execution_count": 181,
   "metadata": {},
   "outputs": [
    {
     "data": {
      "text/plain": [
       "array([[ 0.,  2.,  3.,  3.],\n",
       "       [19.,  3.,  3.,  3.]])"
      ]
     },
     "execution_count": 181,
     "metadata": {},
     "output_type": "execute_result"
    }
   ],
   "source": [
    "N3_node"
   ]
  },
  {
   "cell_type": "code",
   "execution_count": 180,
   "metadata": {},
   "outputs": [
    {
     "data": {
      "text/plain": [
       "[0, 1, 2]"
      ]
     },
     "execution_count": 180,
     "metadata": {},
     "output_type": "execute_result"
    }
   ],
   "source": [
    "N3_conn_1"
   ]
  },
  {
   "cell_type": "code",
   "execution_count": 48,
   "metadata": {},
   "outputs": [],
   "source": [
    "nodes_organtype[1,1] =1\n",
    "node_connection[0,1] =0\n",
    "node_connection[0,0] =0\n",
    "nodes_organtype[0,1] =0\n",
    "nodes_organtype[0,2] =0\n",
    "nodes_organtype[0,3] =0\n",
    "nodes_organtype = np.delete(nodes_organtype,0,0)\n",
    "node_connection = np.delete(node_connection,0,0)"
   ]
  },
  {
   "cell_type": "code",
   "execution_count": 40,
   "metadata": {},
   "outputs": [
    {
     "data": {
      "text/plain": [
       "[[<plantbox.Vector3d at 0x7f212c4ad688>,\n",
       "  <plantbox.Vector3d at 0x7f212c4ad378>,\n",
       "  <plantbox.Vector3d at 0x7f212c4ad5a8>,\n",
       "  <plantbox.Vector3d at 0x7f212c4ad928>,\n",
       "  <plantbox.Vector3d at 0x7f212c4ad810>,\n",
       "  <plantbox.Vector3d at 0x7f212c4ad420>,\n",
       "  <plantbox.Vector3d at 0x7f212c4ad3e8>,\n",
       "  <plantbox.Vector3d at 0x7f212c4ad0a0>,\n",
       "  <plantbox.Vector3d at 0x7f212c4ad4c8>],\n",
       " [<plantbox.Vector3d at 0x7f212c4ad3b0>,\n",
       "  <plantbox.Vector3d at 0x7f212c4ad538>,\n",
       "  <plantbox.Vector3d at 0x7f212c4ad7d8>,\n",
       "  <plantbox.Vector3d at 0x7f212c4ad458>,\n",
       "  <plantbox.Vector3d at 0x7f212c4ad650>,\n",
       "  <plantbox.Vector3d at 0x7f212c4ad490>,\n",
       "  <plantbox.Vector3d at 0x7f212c4ad618>,\n",
       "  <plantbox.Vector3d at 0x7f212c4ad6c0>,\n",
       "  <plantbox.Vector3d at 0x7f212c4ad5e0>],\n",
       " [<plantbox.Vector3d at 0x7f212c4ad228>,\n",
       "  <plantbox.Vector3d at 0x7f212c4ad500>,\n",
       "  <plantbox.Vector3d at 0x7f212c4adfb8>,\n",
       "  <plantbox.Vector3d at 0x7f212c4ad2d0>,\n",
       "  <plantbox.Vector3d at 0x7f212c4adbc8>,\n",
       "  <plantbox.Vector3d at 0x7f212c4addf8>,\n",
       "  <plantbox.Vector3d at 0x7f212c4adc00>,\n",
       "  <plantbox.Vector3d at 0x7f212c4adf10>],\n",
       " [<plantbox.Vector3d at 0x7f212c4ad298>,\n",
       "  <plantbox.Vector3d at 0x7f212c4ad308>,\n",
       "  <plantbox.Vector3d at 0x7f212c4adb90>,\n",
       "  <plantbox.Vector3d at 0x7f212c4adea0>]]"
      ]
     },
     "execution_count": 40,
     "metadata": {},
     "output_type": "execute_result"
    }
   ],
   "source": [
    "plant.getPolylines()"
   ]
  },
  {
   "cell_type": "code",
   "execution_count": 93,
   "metadata": {},
   "outputs": [],
   "source": [
    "organtype = np.array([np.array(s) for s in plant.getParameter('organType')])\n",
    "lines = list([list(s) for s in plant.getPolylines()])\n",
    "segs = np.array([np.array(s) for s in plant.getSegments()])\n",
    "nods = np.array([np.array(s) for s in plant.getNodes()])\n",
    "node_organtype = np.zeros(len(nods)-1)\n",
    "k=0\n",
    "for i in range(0,len(organtype)):\n",
    "    for ii in range(0,len(lines[i])-1):\n",
    "        node_organtype[k]= organtype[i]\n",
    "        k=k+1\n",
    "nodes = nods/100 # convert from cm to m \n",
    "node_connection_o = segs\n",
    "nodes_with_organtype = np.column_stack([node_connection_o, node_organtype]) #make the node has organtype, to know the source sink relation\n",
    "node_connection1, node_connection2 = np.split(node_connection_o.T,2) #seperate the 2-number nodes into two list\n",
    "node_connection1 = np.row_stack([node_connection1, node_organtype]) #first numbe list\n",
    "node_connection2 = np.row_stack([node_connection2, node_organtype]) #second number list\n",
    "nodes_organtype = np.column_stack([node_connection1,node_connection2])\n",
    "_, indices = np.unique(nodes_organtype.T[:,0], return_index=True) #sort the list to remove duplicates\n",
    "nodes_organtype = nodes_organtype.T[indices,:]\n",
    "nodes_cor = np.column_stack([nodes_organtype, nodes]) # adding coordinates into the connections\n",
    "node_connection = np.copy(node_connection_o)\n",
    "unq, unq_idx, unq_cnt = np.unique(node_connection, return_inverse=True, return_counts=True)# check if all the connections are unique\n",
    "nodes_organtype = np.column_stack((nodes_organtype,unq_cnt ))\n",
    "nodes_organtype.astype(np.int_)\n",
    "node_connection.astype(np.int_)\n",
    "nodes_cor = np.column_stack([nodes_organtype, nodes])\n",
    "nodes_cor = np.column_stack([nodes_organtype, nodes]) # adding coordinates into the connections\n",
    "node_connection = np.copy(node_connection_o)\n",
    "unq, unq_idx, unq_cnt = np.unique(node_connection, return_inverse=True, return_counts=True)# check if all the connections are unique\n",
    "nodes_organtype = np.column_stack((nodes_organtype,unq_cnt ))\n",
    "nodes_organtype.astype(np.int_)\n",
    "node_connection.astype(np.int_)\n",
    "nodes_cor = np.column_stack([nodes_organtype, nodes])\n",
    "stem_nodes = nodes_organtype[(nodes_organtype[:,1]== 4)|(nodes_organtype[:,1]== 3)][:,0]\n",
    "index_stem= list(range(1, len(stem_nodes)+1))\n",
    "for i in range(len(stem_nodes)):\n",
    "    index_stem[i] = np.where( node_connection[:,1] == stem_nodes[i])\n",
    "\n",
    "for i in range(len(index_stem)-1):\n",
    "    node_connection[index_stem[i+1][0][0]]=node_connection[index_stem[i+1][0][0]][::-1]"
   ]
  },
  {
   "cell_type": "code",
   "execution_count": 94,
   "metadata": {},
   "outputs": [
    {
     "data": {
      "text/plain": [
       "array([[ 0,  1],\n",
       "       [ 1,  2],\n",
       "       [ 2,  3],\n",
       "       [ 3,  4],\n",
       "       [ 4,  5],\n",
       "       [ 5,  6],\n",
       "       [ 6,  7],\n",
       "       [ 7,  8],\n",
       "       [ 0,  9],\n",
       "       [ 9, 10],\n",
       "       [10, 11],\n",
       "       [11, 12],\n",
       "       [12, 13],\n",
       "       [13, 14],\n",
       "       [14, 15],\n",
       "       [15, 16],\n",
       "       [ 0, 17],\n",
       "       [18, 17],\n",
       "       [19, 18],\n",
       "       [23, 19],\n",
       "       [24, 23],\n",
       "       [25, 24],\n",
       "       [26, 25],\n",
       "       [20, 19],\n",
       "       [21, 20],\n",
       "       [22, 21]], dtype=int32)"
      ]
     },
     "execution_count": 94,
     "metadata": {},
     "output_type": "execute_result"
    }
   ],
   "source": [
    "node_connection"
   ]
  },
  {
   "cell_type": "code",
   "execution_count": 99,
   "metadata": {},
   "outputs": [],
   "source": [
    "nodes_organtype[:,0] = nodes_organtype[:,0]+1 "
   ]
  },
  {
   "cell_type": "code",
   "execution_count": 100,
   "metadata": {},
   "outputs": [
    {
     "data": {
      "text/plain": [
       "array([ 1.,  2.,  3.,  4.,  5.,  6.,  7.,  8.,  9., 10., 11., 12., 13.,\n",
       "       14., 15., 16., 17., 18., 19., 20., 21., 22., 23., 24., 25., 26.,\n",
       "       27.])"
      ]
     },
     "execution_count": 100,
     "metadata": {},
     "output_type": "execute_result"
    }
   ],
   "source": [
    "nodes_organtype[:,0]"
   ]
  },
  {
   "cell_type": "code",
   "execution_count": 102,
   "metadata": {},
   "outputs": [
    {
     "data": {
      "text/plain": [
       "array([[ 1,  2],\n",
       "       [ 2,  3],\n",
       "       [ 3,  4],\n",
       "       [ 4,  5],\n",
       "       [ 5,  6],\n",
       "       [ 6,  7],\n",
       "       [ 7,  8],\n",
       "       [ 8,  9],\n",
       "       [ 1, 10],\n",
       "       [10, 11],\n",
       "       [11, 12],\n",
       "       [12, 13],\n",
       "       [13, 14],\n",
       "       [14, 15],\n",
       "       [15, 16],\n",
       "       [16, 17],\n",
       "       [ 1, 18],\n",
       "       [19, 18],\n",
       "       [20, 19],\n",
       "       [24, 20],\n",
       "       [25, 24],\n",
       "       [26, 25],\n",
       "       [27, 26],\n",
       "       [21, 20],\n",
       "       [22, 21],\n",
       "       [23, 22]], dtype=int32)"
      ]
     },
     "execution_count": 102,
     "metadata": {},
     "output_type": "execute_result"
    }
   ],
   "source": [
    "node_connection = node_connection+1"
   ]
  },
  {
   "cell_type": "code",
   "execution_count": 109,
   "metadata": {},
   "outputs": [
    {
     "data": {
      "text/plain": [
       "array([-2.48432752e-05, -3.60084386e-05, -2.49995669e-02])"
      ]
     },
     "execution_count": 109,
     "metadata": {},
     "output_type": "execute_result"
    }
   ],
   "source": [
    "nodes[node_connection[1,1]]"
   ]
  },
  {
   "cell_type": "code",
   "execution_count": null,
   "metadata": {},
   "outputs": [],
   "source": []
  },
  {
   "cell_type": "code",
   "execution_count": 79,
   "metadata": {},
   "outputs": [
    {
     "data": {
      "text/plain": [
       "array([[ 0,  1],\n",
       "       [ 1,  2],\n",
       "       [ 2,  3],\n",
       "       [ 3,  4],\n",
       "       [ 4, 10],\n",
       "       [10, 11],\n",
       "       [11, 12],\n",
       "       [12, 13],\n",
       "       [13, 14],\n",
       "       [14, 15],\n",
       "       [15, 16],\n",
       "       [16, 17],\n",
       "       [17, 18],\n",
       "       [18, 19],\n",
       "       [19, 20],\n",
       "       [20, 21],\n",
       "       [21, 22],\n",
       "       [22, 23],\n",
       "       [23, 24],\n",
       "       [24, 25],\n",
       "       [25, 26],\n",
       "       [ 4,  5],\n",
       "       [ 5,  6],\n",
       "       [ 6,  7],\n",
       "       [ 7,  8],\n",
       "       [ 8,  9],\n",
       "       [ 0, 27],\n",
       "       [27, 28],\n",
       "       [28, 29],\n",
       "       [29, 30],\n",
       "       [30, 36],\n",
       "       [36, 37],\n",
       "       [37, 38],\n",
       "       [38, 39],\n",
       "       [39, 40],\n",
       "       [40, 41],\n",
       "       [41, 42],\n",
       "       [42, 43],\n",
       "       [43, 44],\n",
       "       [44, 45],\n",
       "       [45, 46],\n",
       "       [46, 47],\n",
       "       [47, 48],\n",
       "       [48, 49],\n",
       "       [49, 50],\n",
       "       [50, 51],\n",
       "       [51, 52],\n",
       "       [30, 31],\n",
       "       [31, 32],\n",
       "       [32, 33],\n",
       "       [33, 34],\n",
       "       [34, 35],\n",
       "       [ 0, 53],\n",
       "       [54, 53],\n",
       "       [55, 54],\n",
       "       [63, 55],\n",
       "       [64, 63],\n",
       "       [65, 64],\n",
       "       [66, 65],\n",
       "       [67, 66],\n",
       "       [68, 67],\n",
       "       [75, 68],\n",
       "       [76, 75],\n",
       "       [77, 76],\n",
       "       [78, 77],\n",
       "       [79, 78],\n",
       "       [80, 79],\n",
       "       [56, 55],\n",
       "       [57, 56],\n",
       "       [58, 57],\n",
       "       [59, 58],\n",
       "       [60, 59],\n",
       "       [61, 60],\n",
       "       [62, 61],\n",
       "       [69, 68],\n",
       "       [70, 69],\n",
       "       [71, 70],\n",
       "       [72, 71],\n",
       "       [73, 72],\n",
       "       [74, 73]], dtype=int32)"
      ]
     },
     "execution_count": 79,
     "metadata": {},
     "output_type": "execute_result"
    }
   ],
   "source": [
    "node_connection"
   ]
  },
  {
   "cell_type": "code",
   "execution_count": 172,
   "metadata": {},
   "outputs": [
    {
     "data": {
      "text/plain": [
       "(array([ 0,  8, 16]),)"
      ]
     },
     "execution_count": 172,
     "metadata": {},
     "output_type": "execute_result"
    }
   ],
   "source": [
    "np.where( node_connection[:,0] == 0)"
   ]
  },
  {
   "cell_type": "code",
   "execution_count": 60,
   "metadata": {},
   "outputs": [],
   "source": [
    "node_connection[15][1]=1"
   ]
  },
  {
   "cell_type": "code",
   "execution_count": 170,
   "metadata": {},
   "outputs": [],
   "source": [
    "organtype = np.array([np.array(s) for s in plant.getParameter('organType')])\n",
    "lines = list([list(s) for s in plant.getPolylines()])\n",
    "segs = np.array([np.array(s) for s in plant.getSegments()])\n",
    "nods = np.array([np.array(s) for s in plant.getNodes()])\n",
    "node_organtype = np.zeros(len(nods)-1)\n",
    "k=0\n",
    "for i in range(0,len(organtype)):\n",
    "    for ii in range(0,len(lines[i])-1):\n",
    "        node_organtype[k]= organtype[i]\n",
    "        k=k+1\n",
    "nodes = nods/100 # convert from cm to m \n",
    "node_connection_o = segs\n",
    "nodes_with_organtype = np.column_stack([node_connection_o, node_organtype]) #make the node has organtype, to know the source sink relation\n",
    "node_connection1, node_connection2 = np.split(node_connection_o.T,2) #seperate the 2-number nodes into two list\n",
    "node_connection1 = np.row_stack([node_connection1, node_organtype]) #first numbe list\n",
    "node_connection2 = np.row_stack([node_connection2, node_organtype]) #second number list\n",
    "nodes_organtype = np.column_stack([node_connection1,node_connection2])\n",
    "_, indices = np.unique(nodes_organtype.T[:,0], return_index=True) #sort the list to remove duplicates\n",
    "nodes_organtype = nodes_organtype.T[indices,:]\n",
    "nodes_cor = np.column_stack([nodes_organtype, nodes]) # adding coordinates into the connections\n",
    "node_connection = np.copy(node_connection_o)\n",
    "unq, unq_idx, unq_cnt = np.unique(node_connection, return_inverse=True, return_counts=True)# check if all the connections are unique\n",
    "nodes_organtype = np.column_stack((nodes_organtype,unq_cnt ))\n",
    "nodes_organtype.astype(np.int_)\n",
    "node_connection.astype(np.int_)\n",
    "nodes_cor = np.column_stack([nodes_organtype, nodes])\n",
    "nodes_cor = np.column_stack([nodes_organtype, nodes]) # adding coordinates into the connections\n",
    "node_connection = np.copy(node_connection_o)\n",
    "unq, unq_idx, unq_cnt = np.unique(node_connection, return_inverse=True, return_counts=True)# check if all the connections are unique\n",
    "nodes_organtype = np.column_stack((nodes_organtype,unq_cnt ))\n",
    "nodes_organtype.astype(np.int_)\n",
    "node_connection.astype(np.int_)\n",
    "nodes_cor = np.column_stack([nodes_organtype, nodes])\n",
    "stem_nodes = nodes_organtype[(nodes_organtype[:,1]== 4)|(nodes_organtype[:,1]== 3)][:,0]\n",
    "index_stem= list(range(1, len(stem_nodes)+1))\n",
    "for i in range(len(stem_nodes)):\n",
    "    index_stem[i] = np.where( node_connection[:,1] == stem_nodes[i])\n",
    "\n",
    "for i in range(len(index_stem)-1):\n",
    "    node_connection[index_stem[i+1][0][0]]=node_connection[index_stem[i+1][0][0]][::-1]"
   ]
  },
  {
   "cell_type": "code",
   "execution_count": 210,
   "metadata": {},
   "outputs": [],
   "source": [
    "name = \"carbon2020.xml\"\n",
    "plant = pb.Plant()\n",
    "plant.openXML(\"../../modelparameter/plant/\" + name)\n",
    "seeds = plant.getOrganRandomParameter(pb.OrganTypes.seed)\n",
    "roots = plant.getOrganRandomParameter(pb.OrganTypes.root)\n",
    "stems = plant.getOrganRandomParameter(pb.OrganTypes.stem)\n",
    "leafs = plant.getOrganRandomParameter(pb.OrganTypes.leaf)\n",
    "plant.initialize(True)\n",
    "plant.initialize(True)\n",
    "day = 1\n",
    "hour= day*24\n",
    "plant.simulate(day)\n",
    "organ = plant.getOrgans()\n",
    "plant.write(\"{}{}{}.vtp\".format(hour,str(name),\"1st_test\"))"
   ]
  },
  {
   "cell_type": "code",
   "execution_count": 211,
   "metadata": {},
   "outputs": [],
   "source": [
    "organtype = np.array([np.array(s) for s in plant.getParameter('organType')])\n",
    "lines = list([list(s) for s in plant.getPolylines()])\n",
    "segs = np.array([np.array(s) for s in plant.getSegments()])\n",
    "nods = np.array([np.array(s) for s in plant.getNodes()])\n",
    "node_organtype = np.zeros(len(nods)-1)\n",
    "k=0\n",
    "for i in range(0,len(organtype)):\n",
    "    for ii in range(0,len(lines[i])-1):\n",
    "        node_organtype[k]= organtype[i]\n",
    "        k=k+1\n",
    "nodes = nods/100 # convert from cm to m \n",
    "node_connection_o = segs\n",
    "nodes_with_organtype = np.column_stack([node_connection_o, node_organtype]) #make the node has organtype, to know the source sink relation\n",
    "node_connection1, node_connection2 = np.split(node_connection_o.T,2) #seperate the 2-number nodes into two list\n",
    "node_connection1 = np.row_stack([node_connection1, node_organtype]) #first numbe list\n",
    "node_connection2 = np.row_stack([node_connection2, node_organtype]) #second number list\n",
    "nodes_organtype = np.column_stack([node_connection1,node_connection2])\n",
    "_, indices = np.unique(nodes_organtype.T[:,0], return_index=True) #sort the list to remove duplicates\n",
    "nodes_organtype = nodes_organtype.T[indices,:]\n",
    "nodes_cor = np.column_stack([nodes_organtype, nodes]) # adding coordinates into the connections\n",
    "node_connection = np.copy(node_connection_o)\n",
    "unq, unq_idx, unq_cnt = np.unique(node_connection, return_inverse=True, return_counts=True)# check if all the connections are unique\n",
    "nodes_organtype = np.column_stack((nodes_organtype,unq_cnt ))\n",
    "nodes_organtype.astype(np.int_)\n",
    "node_connection.astype(np.int_)\n",
    "nodes_cor = np.column_stack([nodes_organtype, nodes])\n",
    "nodes_cor = np.column_stack([nodes_organtype, nodes]) # adding coordinates into the connections\n",
    "node_connection = np.copy(node_connection_o)\n",
    "unq, unq_idx, unq_cnt = np.unique(node_connection, return_inverse=True, return_counts=True)# check if all the connections are unique\n",
    "nodes_organtype = np.column_stack((nodes_organtype,unq_cnt ))\n",
    "nodes_organtype.astype(np.int_)\n",
    "node_connection.astype(np.int_)\n",
    "nodes_cor = np.column_stack([nodes_organtype, nodes])\n",
    "stem_nodes = nodes_organtype[(nodes_organtype[:,1]== 4)|(nodes_organtype[:,1]== 3)][:,0]\n",
    "index_stem= list(range(1, len(stem_nodes)+1))\n",
    "for i in range(len(stem_nodes)):\n",
    "    index_stem[i] = np.where( node_connection[:,1] == stem_nodes[i])\n",
    "\n",
    "for i in range(len(index_stem)-1):\n",
    "    node_connection[index_stem[i+1][0][0]]=node_connection[index_stem[i+1][0][0]][::-1]"
   ]
  },
  {
   "cell_type": "code",
   "execution_count": 212,
   "metadata": {},
   "outputs": [],
   "source": [
    "zero_nodes =  np.where( node_connection[:,0] == 0)\n",
    "for i in range(len(zero_nodes[0])):\n",
    "    node_connection[zero_nodes[0][i]][0]=1\n",
    "node_connection[zero_nodes[0][-1]] = node_connection[zero_nodes[0][-1]][::-1] \n",
    "node_connection\n",
    "nodes_organtype[1,1] =1\n",
    "node_connection[0,1] =0\n",
    "node_connection[0,0] =0\n",
    "nodes_organtype[0,1] =0\n",
    "nodes_organtype[0,2] =0\n",
    "nodes_organtype[0,3] =0\n",
    "nodes_organtype = np.delete(nodes_organtype,0,0)\n",
    "node_connection = np.delete(node_connection,0,0)\n",
    "nodes_organtype[0,2] =len(zero_nodes[0])\n",
    "nodes_organtype[0,3] =len(zero_nodes[0])"
   ]
  },
  {
   "cell_type": "code",
   "execution_count": 215,
   "metadata": {},
   "outputs": [],
   "source": [
    "pi= 3.1415926\n",
    "\n",
    "k = 1.118e-12 # conductivity (m2)\n",
    "n = 1.7e-9 / 3600 # viscosity (MPa.h)\n",
    "s = (12.880e-6)**2*pi # surface (m2)\n",
    "l = 5e-2 # length (m)\n",
    "\n",
    "K1 = (k/n)*(s/l) *10**6\n",
    "\n",
    "K_1 = (1 / K1)\n",
    "#print(K_1)\n",
    "\n",
    "# 1 meter inner phloem resistance\n",
    "\n",
    "k = 0.693e-12 # conductivity (m2)\n",
    "n = 1.7e-9 / 3600 # viscosity (MPa.h)\n",
    "s = (14.6e-6)**2*pi # surface (m2)\n",
    "l = 5e-2 # length (m)\n",
    "\n",
    "K1 = (k/n)*(s/l) *10**6\n",
    "\n",
    "K_4 = (1 / K1)\n",
    "#print(K_4)\n",
    "# 4 meter inner phloem resistance\n",
    "\n",
    "k = 0.879e-12 # conductivity (m2)\n",
    "n = 1.7e-9 / 3600 # viscosity (MPa.h)\n",
    "s = (9.83e-6)**2*pi # surface (m2)\n",
    "l = 5e-2 # length (m)\n",
    "\n",
    "K1 = (k/n)*(s/l) *10**6\n",
    "\n",
    "K_7 = (1 / K1)\n",
    "#print(K_7)\n",
    "\n",
    "#7 meter inner phloem resistance\n",
    "\n",
    "k = 1.795e-12 # conductivity (m**2)\n",
    "n = 1.7e-9 / 3600 # viscosity (MPa.h)\n",
    "s = (13.830e-6)**2*pi # surface (m**2)\n",
    "l = 5e-2 # length (m)\n",
    "\n",
    "K1 = (k/n)*(s/l) *10**6 \n",
    "\n",
    "K_1_i = (1 / K1)\n",
    "#print(K_1_i)\n",
    "\n",
    "k = 0.98712e-12 # conductivity (m**2)\n",
    "n = 1.7e-9 / 3600 # viscosity (MPa.h)\n",
    "s = (19.710e-6)**2*pi # surface (m**2)\n",
    "l = 5e-2 # length (m)\n",
    "\n",
    "K1 = (k/n)*(s/l) *10**6\n",
    "\n",
    "K_4_i = (1 / K1)\n",
    "#print(K_4_i)\n",
    "\n",
    "k = 0.3532e-12 # conductivity (m**2)\n",
    "n = 1.7e-9 / 3600 # viscosity (MPa.h)\n",
    "s = (10.670e-6)**2*pi # surface (m**2)\n",
    "l = 5e-2 # length (m)\n",
    "\n",
    "K1 = (k/n)*(s/l) *10**6\n",
    "\n",
    "K_7_i = (1 / K1)\n",
    "#print(K_7_i)\n",
    "\n",
    "R_name = [1,4,7]\n",
    "R_ex_number = [K_1,K_4,K_7] #external phloem resistance\n",
    "R_in_number = [K_1_i,K_4_i,K_7_i] #internal phloem resistance\n",
    "\n",
    "\n",
    "plt.rcParams['figure.figsize'] = [10, 10]\n",
    "\n",
    "slope, intercept, r_value, p_value, std_err = stats.linregress(R_name[0:2], R_ex_number[0:2]) #least square regression\n",
    "slope2, intercept2, r_value2, p_value2, std_err2 = stats.linregress(R_name[1:3], R_ex_number[1:3]) #least square regression\n",
    "#plt.plot(R_name[0:2], R_ex_number[0:2], 'o', label='Resistance in external phloem')\n",
    "#plt.plot(R_name[1:3], R_ex_number[1:3], 'o', label='Resistance in external phloem', c='black' )\n",
    "#plt.plot(R_name[0:2], intercept + slope*R_name[0:2], 'r', label='fitted line1')\n",
    "#plt.plot(R_name[1:3], intercept2 + slope2*R_name[1:3], 'r', label='fitted line2')\n",
    "#plt.xlabel(\"Distance to seed (meter)\")\n",
    "#plt.ylabel(\"Resistance (MPa h mL$^{-1}$))\")\n",
    "#plt.legend()\n",
    "#plt.show()\n",
    "\n",
    "\n",
    "stem_nodes = nodes_organtype[(nodes_organtype[:,1]== 3)][:,0] \n",
    "root_nodes = nodes_organtype[(nodes_organtype[:,1]== 2)][:,0] \n",
    "leaf_nodes = nodes_organtype[(nodes_organtype[:,1]== 4)][:,0] \n",
    "def organ_marker(int):\n",
    "    if int in leaf_nodes:\n",
    "    #if int == 21: #int is source \n",
    "        return 'o'\n",
    "    elif int in root_nodes : #int is sink\n",
    "        return 'x'\n",
    "    #elif int == 40 :\n",
    "    elif int in stem_nodes:\n",
    "        return '*'\n",
    "    else:\n",
    "        return 'None'\n",
    "\n",
    "#node_connection_cor\n",
    "nodes_c_cor = np.full((len(node_connection), 3),0.0)\n",
    "#charar = np.chararray((3, 3))\n",
    "nodes_org = np.full((len(node_connection), 1),0)\n",
    "\n",
    "for i in range(0,len(node_connection)-1):\n",
    "    nodes_org[i]= nodes_organtype[nodes_organtype[:,0] == node_connection[i][0]][0][1]\n",
    "nodes_c_marker = np.full((len(node_connection), 1),'k')\n",
    "\n",
    "for i in range(0,len(node_connection)-1):\n",
    "    nodes_c_marker[i]= organ_marker(node_connection[i][0])\n",
    "#nodes_c_marker[0][0]= 'D'\n",
    "nodes_c_marker.astype(str, copy = True)\n",
    "\n",
    "\n",
    "for i in range(0,len(node_connection)): #calculate the mid point of two segment nodes\n",
    "    nodes_c_cor[i] = (nodes[node_connection[i,0]] + nodes[node_connection[i,1]])/2\n",
    "\n",
    "\n",
    "\n",
    "\n",
    "b = np.zeros((nodes_organtype.shape[0],nodes_organtype.shape[1]+1)); b[:,:-1] = nodes_organtype\n",
    "node_c_o = np.zeros((node_connection.shape[0],node_connection.shape[1]+5)); node_c_o[:,:-5] = node_connection\n",
    "\n",
    "for i in range(0,len(node_connection)):\n",
    "    node_c_o[i][2:5] = (nodes[node_connection[i,0]] + nodes[node_connection[i,1]])/2\n",
    "#\tnode_c_o[i][6] = nodes_organtype[node_c_o[i][0]][0]\n",
    "    #node_c_o[i][6] = nodes_organtype[node_c_o[i][0]][1]\n",
    "\n",
    "\n",
    "\n",
    "\n",
    "r_st_all = np.full((len(node_connection), 1),0.0)\n",
    "for i in range(0,len(node_connection)):\n",
    "    r_st_all[i]= intercept + slope*node_c_o[i,4]\n",
    "\n",
    "\n",
    "\n",
    "node_c_o = pd.DataFrame({'1st_node':node_connection[:,0],'2nd_node':node_connection[:,1],'x':node_c_o[:,2]\n",
    "                        ,'y':node_c_o[:,3],'z':node_c_o[:,4], 'organ_type':nodes_org[:,0],'marker':nodes_c_marker[:,0], 'r_st':r_st_all[:,0]})\n",
    "#claculate the length from seed of every nodes (root is minus)\n",
    "nodes_length = np.zeros(len(nodes_cor))\n",
    "for i in range(1,len(nodes_cor)):\n",
    "    if nodes_cor[i][1]==2: #if the organtype is root\n",
    "        nodes_length[i] = nodes_length[node_connection_o[(node_connection_o[:,1] == i)][0][0]] - ((nodes_cor[node_connection_o[(node_connection_o[:,1] == i)][0][0]][3]-nodes_cor[node_connection_o[(node_connection_o[:,1] == i)][0][1]][3])**2 + (nodes_cor[node_connection_o[(node_connection_o[:,1] == i)][0][0]][4]-nodes_cor[node_connection_o[(node_connection_o[:,1] == i)][0][1]][4])**2 + (nodes_cor[node_connection_o[(node_connection_o[:,1] == i)][0][0]][5]-nodes_cor[node_connection_o[(node_connection_o[:,1] == i)][0][1]][5])**2)**(0.5) \n",
    "    else:\n",
    "        nodes_length[i] = nodes_length[node_connection_o[(node_connection_o[:,1] == i)][0][0]] + ((nodes_cor[node_connection_o[(node_connection_o[:,1] == i)][0][0]][3]-nodes_cor[node_connection_o[(node_connection_o[:,1] == i)][0][1]][3])**2 + (nodes_cor[node_connection_o[(node_connection_o[:,1] == i)][0][0]][4]-nodes_cor[node_connection_o[(node_connection_o[:,1] == i)][0][1]][4])**2 + (nodes_cor[node_connection_o[(node_connection_o[:,1] == i)][0][0]][5]-nodes_cor[node_connection_o[(node_connection_o[:,1] == i)][0][1]][5])**2)**(0.5) \n",
    "\n",
    "\n",
    "\n",
    "#\t print(nodes_length[i])\n",
    "#\t print(i)\n",
    "    #print(node_connection[i])\n",
    "    #the length of the first node of connection i in node_connection\n",
    "    #node_c_o[i][6] = nodes_organtype[node_c_o[i][0]][0]\n",
    "    #node_c_o[i][6] = nodes_organtype[node_c_o[i][0]][1]\n",
    "\n",
    "    #manual check the length of all nodes.\n",
    "nodes_cor[node_connection[(node_connection[:,1] == 3)][0][0]][2]\n",
    "#len(nodes_length)\n",
    "#print(len(nodes_length))\n",
    "nodes_length\n",
    "#node_connection_o[0,0]=1\n",
    "nodes_length = np.delete(nodes_length,0,0)\n",
    "np.c_[ nodes_organtype, nodes_length]\n",
    "\n",
    "\n",
    "len(nodes_organtype)\n",
    "#node_connection\n",
    "len(nodes_cor)\n",
    "nodes_cor[:,4]\n",
    "nodes_r_st = np.zeros(len(nodes_cor)-1)\n",
    "for i in range(0,len(nodes_cor)-1):\n",
    "    if nodes_length[i] > R_name[1]:\n",
    "        nodes_r_st[i]= (intercept2 + slope2*nodes_length[i])\n",
    "    else:\n",
    "        nodes_r_st[i]= (intercept + slope*nodes_length[i])\n",
    "\n",
    "\n",
    "\n",
    "#R_st is calculated based on the height (or the z axis value), \n",
    "\n",
    "#calcuate the volumn of st\n",
    "\n",
    "\n",
    "# file-output.py"
   ]
  },
  {
   "cell_type": "code",
   "execution_count": 216,
   "metadata": {},
   "outputs": [
    {
     "name": "stdout",
     "output_type": "stream",
     "text": [
      "output successful\n"
     ]
    }
   ],
   "source": [
    "Soil_water = [0]*(len(node_connection)+1)\n",
    "write_PiafMunch_parameter(node_connection, nodes_organtype, nodes_r_st, unq_cnt, Soil_water, piafmunch_outputname, hour)"
   ]
  },
  {
   "cell_type": "code",
   "execution_count": 217,
   "metadata": {},
   "outputs": [
    {
     "data": {
      "text/plain": [
       "256"
      ]
     },
     "execution_count": 217,
     "metadata": {},
     "output_type": "execute_result"
    }
   ],
   "source": [
    "os.system(' /mnt/c/prog_sct.bas/programs/C++/PIAFMunch2/projects/PIAFMunch2.exe {} -noGUI -q'.format(piafmunch_outputname))"
   ]
  },
  {
   "cell_type": "code",
   "execution_count": 165,
   "metadata": {},
   "outputs": [],
   "source": [
    "node_connection[2]=[3,4]"
   ]
  },
  {
   "cell_type": "code",
   "execution_count": 259,
   "metadata": {},
   "outputs": [],
   "source": [
    "node_connection[16] = [1,18]"
   ]
  },
  {
   "cell_type": "code",
   "execution_count": 189,
   "metadata": {},
   "outputs": [],
   "source": [
    "node_connection\n",
    "nodes_organtype[1,1] =1\n",
    "node_connection[0,1] =0\n",
    "node_connection[0,0] =0\n",
    "nodes_organtype[0,1] =0\n",
    "nodes_organtype[0,2] =0\n",
    "nodes_organtype[0,3] =0\n",
    "nodes_organtype = np.delete(nodes_organtype,0,0)\n",
    "node_connection = np.delete(node_connection,0,0)"
   ]
  },
  {
   "cell_type": "code",
   "execution_count": 242,
   "metadata": {},
   "outputs": [
    {
     "data": {
      "text/plain": [
       "(array([ 0,  8, 16]),)"
      ]
     },
     "execution_count": 242,
     "metadata": {},
     "output_type": "execute_result"
    }
   ],
   "source": [
    "nodes_c_with_1"
   ]
  },
  {
   "cell_type": "code",
   "execution_count": 251,
   "metadata": {},
   "outputs": [
    {
     "data": {
      "text/plain": [
       "(array([0, 8]),)"
      ]
     },
     "execution_count": 251,
     "metadata": {},
     "output_type": "execute_result"
    }
   ],
   "source": [
    "nodes_c_with_1"
   ]
  },
  {
   "cell_type": "code",
   "execution_count": 262,
   "metadata": {},
   "outputs": [
    {
     "data": {
      "text/plain": [
       "array([16])"
      ]
     },
     "execution_count": 262,
     "metadata": {},
     "output_type": "execute_result"
    }
   ],
   "source": [
    "total_nodes_reversed"
   ]
  },
  {
   "cell_type": "code",
   "execution_count": 261,
   "metadata": {},
   "outputs": [
    {
     "data": {
      "text/plain": [
       "array([18,  1], dtype=int32)"
      ]
     },
     "execution_count": 261,
     "metadata": {},
     "output_type": "execute_result"
    }
   ],
   "source": [
    "reversed_node"
   ]
  },
  {
   "cell_type": "code",
   "execution_count": 263,
   "metadata": {},
   "outputs": [],
   "source": [
    "nodes_c_with_1 = np.where(node_connection[:,0]==1)\n",
    "shoot_c_with_1 = node_connection[nodes_c_with_1]\n",
    "node_need_reverse = np.where(nodes_organtype[node_connection[nodes_c_with_1][:,1]-1][:,1]==3)\n",
    "total_nodes_reversed = nodes_c_with_1[0][node_need_reverse[0]][0]\n",
    "reversed_node = node_connection[nodes_c_with_1[0][node_need_reverse][0]][::-1]\n",
    "node_connection[total_nodes_reversed] = reversed_node"
   ]
  },
  {
   "cell_type": "code",
   "execution_count": 264,
   "metadata": {},
   "outputs": [],
   "source": []
  },
  {
   "cell_type": "code",
   "execution_count": 265,
   "metadata": {},
   "outputs": [
    {
     "data": {
      "text/plain": [
       "array([[ 1,  2],\n",
       "       [ 2,  3],\n",
       "       [ 3,  4],\n",
       "       [ 4,  5],\n",
       "       [ 5,  6],\n",
       "       [ 6,  7],\n",
       "       [ 7,  8],\n",
       "       [ 8,  9],\n",
       "       [ 1, 10],\n",
       "       [10, 11],\n",
       "       [11, 12],\n",
       "       [12, 13],\n",
       "       [13, 14],\n",
       "       [14, 15],\n",
       "       [15, 16],\n",
       "       [16, 17],\n",
       "       [18,  1],\n",
       "       [19, 18],\n",
       "       [20, 19],\n",
       "       [24, 20],\n",
       "       [25, 24],\n",
       "       [26, 25],\n",
       "       [27, 26],\n",
       "       [21, 20],\n",
       "       [22, 21],\n",
       "       [23, 22]], dtype=int32)"
      ]
     },
     "execution_count": 265,
     "metadata": {},
     "output_type": "execute_result"
    }
   ],
   "source": [
    "node_connection"
   ]
  },
  {
   "cell_type": "code",
   "execution_count": 171,
   "metadata": {},
   "outputs": [
    {
     "data": {
      "text/plain": [
       "array([[ 1.,  2.,  3.,  3.],\n",
       "       [ 2.,  2.,  2.,  2.],\n",
       "       [ 3.,  2.,  2.,  2.],\n",
       "       [ 4.,  2.,  2.,  2.],\n",
       "       [ 5.,  2.,  2.,  2.],\n",
       "       [ 6.,  2.,  2.,  2.],\n",
       "       [ 7.,  2.,  2.,  2.],\n",
       "       [ 8.,  2.,  2.,  2.],\n",
       "       [ 9.,  2.,  1.,  1.],\n",
       "       [10.,  2.,  2.,  2.],\n",
       "       [11.,  2.,  2.,  2.],\n",
       "       [12.,  2.,  2.,  2.],\n",
       "       [13.,  2.,  2.,  2.],\n",
       "       [14.,  2.,  2.,  2.],\n",
       "       [15.,  2.,  2.,  2.],\n",
       "       [16.,  2.,  2.,  2.],\n",
       "       [17.,  2.,  1.,  1.],\n",
       "       [18.,  3.,  2.,  2.],\n",
       "       [19.,  3.,  2.,  2.],\n",
       "       [20.,  3.,  3.,  3.],\n",
       "       [21.,  4.,  2.,  2.],\n",
       "       [22.,  4.,  2.,  2.],\n",
       "       [23.,  4.,  1.,  1.],\n",
       "       [24.,  3.,  2.,  2.],\n",
       "       [25.,  3.,  2.,  2.],\n",
       "       [26.,  3.,  2.,  2.],\n",
       "       [27.,  3.,  1.,  1.]])"
      ]
     },
     "execution_count": 171,
     "metadata": {},
     "output_type": "execute_result"
    }
   ],
   "source": [
    "nodes_organtype"
   ]
  }
 ],
 "metadata": {
  "kernelspec": {
   "display_name": "Python 3",
   "language": "python",
   "name": "python3"
  },
  "language_info": {
   "codemirror_mode": {
    "name": "ipython",
    "version": 3
   },
   "file_extension": ".py",
   "mimetype": "text/x-python",
   "name": "python",
   "nbconvert_exporter": "python",
   "pygments_lexer": "ipython3",
   "version": "3.6.9"
  }
 },
 "nbformat": 4,
 "nbformat_minor": 4
}
