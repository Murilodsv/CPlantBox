{
 "cells": [
  {
   "cell_type": "code",
   "execution_count": null,
   "metadata": {},
   "outputs": [],
   "source": [
    "\n",
    "\n",
    "# Simulate a root system\n",
    "name = \"CPlantBox_test_leaf_tree\"\n",
    "plant = pb.Plant()\n",
    "#sca = pb.Organ.getScalar('organtype')\n",
    "plant.openXML(name)\n",
    "\n",
    "\n",
    "\n",
    "\n",
    "\n",
    "\n",
    "plant.initialize()\n",
    "ana = pb.SegmentAnalyser(plant)\n",
    "\n",
    "#for i in range (0,10):\n",
    "#    plant.simulate(i)\n",
    "plant.simulate(2) "
   ]
  }
 ],
 "metadata": {
  "kernelspec": {
   "display_name": "Python 3",
   "language": "python",
   "name": "python3"
  },
  "language_info": {
   "codemirror_mode": {
    "name": "ipython",
    "version": 3
   },
   "file_extension": ".py",
   "mimetype": "text/x-python",
   "name": "python",
   "nbconvert_exporter": "python",
   "pygments_lexer": "ipython3",
   "version": "3.6.5"
  }
 },
 "nbformat": 4,
 "nbformat_minor": 2
}
