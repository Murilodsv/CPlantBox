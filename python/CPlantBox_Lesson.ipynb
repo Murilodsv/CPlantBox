{
 "cells": [
  {
   "cell_type": "markdown",
   "metadata": {},
   "source": [
    "# Install and use CPlantBox in 5 minutes\n",
    "In this tutorial, you only need to click the small triangle button on the left top corner of the code blocks.\n",
    "Feel free to modify the code if needed, remember to save the notebook by download or save in google drive, if you note down all the modifications, you don't have to download the entire CPlantBox or the modified parameter files.\n",
    "In the following block is the library we needed for running CPlantBox"
   ]
  },
  {
   "cell_type": "code",
   "execution_count": 65,
   "metadata": {
    "colab": {},
    "colab_type": "code",
    "id": "GOhVEgo5B5WY"
   },
   "outputs": [
    {
     "name": "stdout",
     "output_type": "stream",
     "text": [
      "Collecting vtk\n",
      "  Using cached https://files.pythonhosted.org/packages/22/f5/30e11e1ad21701e1cd185b046979107930419a74a5602c6b899dc8523fe4/vtk-8.1.2-cp36-cp36m-manylinux1_x86_64.whl\n",
      "Installing collected packages: vtk\n",
      "Successfully installed vtk-8.1.2\n"
     ]
    }
   ],
   "source": [
    "#<---Click this triangle to load python libraries\n",
    "# loading other python library or packages. Only need to run once at the start.\n",
    "import datetime\n",
    "import matplotlib.pylab as plt\n",
    "import numpy as np\n",
    "import timeit\n",
    "import os\n",
    "import plotly\n",
    "import os\n",
    "import math\n",
    "import plotly.graph_objects as go\n",
    "import xml.etree.ElementTree as ET\n",
    "import matplotlib.lines as mlines\n",
    "import matplotlib.pyplot as plt\n",
    "from mpl_toolkits.mplot3d import proj3d\n",
    "!pip3 install vtk\n",
    "from vtk.util import numpy_support as VN"
   ]
  },
  {
   "cell_type": "markdown",
   "metadata": {
    "colab_type": "text",
    "id": "5JkvaTZEGMQk"
   },
   "source": [
    "## 1. Install CPlantBox\n",
    "* The source code of CPlantBox is always published on GitHub, here we can download them (git clone) from github\n",
    "* The next thing after download is to compile it, compile is similar to installation, you can move on."
   ]
  },
  {
   "cell_type": "code",
   "execution_count": null,
   "metadata": {
    "colab": {},
    "colab_type": "code",
    "id": "tWkNcbI713D1"
   },
   "outputs": [],
   "source": [
    "#<---Click this triangle inside the round circle to download the CPlantBox\n",
    "! git clone https://github.com/Plant-Root-Soil-Interactions-Modelling/CPlantBox # downloading the source code\n",
    "os.chdir(\"/content/CPlantBox\") # change directory\n",
    "!cmake . # Run Cmake, creating compiling files\n",
    "!make # Complie the code to make it runable\n",
    "\n",
    "# Congrats! Now you are ready to use the CPlantBox\n",
    "\n",
    "# optional in case an update is just pushed to the repository\n",
    "#! git pull # update the file comparing to github repository"
   ]
  },
  {
   "cell_type": "markdown",
   "metadata": {},
   "source": [
    "## 2. Load CPlantBox"
   ]
  },
  {
   "cell_type": "code",
   "execution_count": 2,
   "metadata": {
    "colab": {},
    "colab_type": "code",
    "id": "IbpvWzuoBsPx"
   },
   "outputs": [
    {
     "data": {
      "text/plain": [
       "'4.1.1'"
      ]
     },
     "execution_count": 2,
     "metadata": {},
     "output_type": "execute_result"
    }
   ],
   "source": [
    "os.chdir(\"/content/CPlantBox/python\") # Change to the python directory (working directory)\n",
    "# Loading specific python scripts for CPlantBox and CRootBox\n",
    "import py_plantbox as pb #CPlantBox Python Binding\n",
    "from rb_tools import * # CRootBox nodes Conversion tools\n",
    "from CPlantBox_PiafMunch import *\n",
    "plotly.__version__\n",
    "# If not all of them are installed, run the following blocks to install them, and rerun this block\n",
    "# Otherwise skip the next block\n"
   ]
  },
  {
   "cell_type": "markdown",
   "metadata": {},
   "source": [
    "## 3. Creating a small plant and visiualize it\n",
    "\n",
    "1. Three things needed for a CPlantBox function/method are the name of the input parameter, time for the simulation and output name of the file.\n",
    "    * Name must be the same as the file in the /modelparameter folder, you can learn how to create it in the next section\n",
    "    * Time is the time that plant grown, normally larger number means "
   ]
  },
  {
   "cell_type": "code",
   "execution_count": 51,
   "metadata": {
    "colab": {
     "base_uri": "https://localhost:8080/",
     "height": 136
    },
    "colab_type": "code",
    "id": "x3paxea6JZbB",
    "outputId": "93c01fde-892f-4df3-cc82-0ea7e7d5c702"
   },
   "outputs": [
    {
     "data": {
      "application/vnd.plotly.v1+json": {
       "config": {
        "plotlyServerURL": "https://plot.ly"
       },
       "data": [
        {
         "marker": {
          "color": [
           2,
           4,
           2,
           2,
           2,
           2,
           2,
           2,
           2,
           2,
           2,
           2,
           2,
           2,
           2,
           2,
           2,
           2,
           2,
           2,
           2,
           2,
           2,
           2,
           2,
           2,
           2,
           2,
           2,
           2,
           2,
           2,
           2,
           2,
           2,
           2,
           2,
           2,
           2,
           2,
           2,
           2,
           2,
           4,
           4,
           4,
           4,
           4,
           4,
           4,
           4,
           4,
           4,
           4,
           4,
           4,
           4,
           4,
           4,
           4,
           4,
           4,
           4,
           4,
           4,
           4,
           4,
           4,
           4,
           4,
           4,
           4,
           4,
           4,
           4,
           4,
           4,
           4,
           4,
           4,
           4,
           4
          ],
          "colorscale": [
           [
            0,
            "wheat"
           ],
           [
            0.5,
            "darkgreen"
           ],
           [
            1,
            "lightgreen"
           ]
          ],
          "opacity": 0.8,
          "size": 3
         },
         "mode": "markers",
         "type": "scatter3d",
         "x": [
          0,
          0,
          0.0004136063922439487,
          0.007546749846004115,
          0.015122003886655274,
          0.0009766097532113043,
          -0.0021300382916696397,
          -0.00520780286161447,
          -0.007728484316323956,
          -0.009054612986970268,
          0.001023516918070996,
          -0.005564450276771387,
          0.0009596756816575721,
          -0.0011857469960135105,
          -0.0014514380334049398,
          0.0010696862951787489,
          0.0006841312525369764,
          0.0009516242275018432,
          0.0008957763834176322,
          0.000867257548981029,
          0.00092031108280127,
          0.0010090829739591402,
          0.001242310506728966,
          0.0016187345432356849,
          0.0015815098327568709,
          0.0016028154284805282,
          0.0015100448144989437,
          0.0015082785098052155,
          0.0014821599334293404,
          0.0013864394277764923,
          0.001384941700868797,
          0.0013829397032413826,
          0.0013695876556609951,
          0.001274173180370593,
          0.001288091948704117,
          0.001301173547732923,
          0.0013569638941714974,
          0.0016086628974389921,
          0.0017147349857039437,
          0.001700217534789874,
          0.001702264293553524,
          0.0017420745799801179,
          0.0017460045489782897,
          0,
          0,
          0,
          0,
          0,
          0,
          0,
          0,
          0,
          0,
          0,
          0,
          0,
          0,
          0,
          0,
          0,
          0,
          0,
          0,
          0,
          0,
          0,
          0,
          0,
          0,
          0,
          0,
          0,
          0,
          0,
          0,
          0,
          0,
          0,
          0,
          0,
          0,
          0
         ],
         "y": [
          0,
          0,
          0.0009294433810265842,
          0.007550048487614854,
          0.012968844120193234,
          0.0012804154199262284,
          -1.8308655294086153e-05,
          -0.0013626510308873607,
          -0.0030372287653072194,
          -0.00388878505636559,
          0.001470137089096516,
          0.008159866600387962,
          0.001752334346592474,
          0.005043853731944321,
          0.00544521461186735,
          0.001758611285013662,
          0.0013498662413336528,
          0.0017259610590048824,
          0.001801532510359073,
          0.0018648781297930092,
          0.0019367597372939595,
          0.001989258464840435,
          0.0022803677349085864,
          0.0031070072851034063,
          0.003563157690433714,
          0.003740924008434765,
          0.003965837246459358,
          0.003973555325255837,
          0.004093844014010677,
          0.0047121965311558685,
          0.00478237762952674,
          0.004890496398481861,
          0.004943042213156274,
          0.005032532667555631,
          0.005174120497654758,
          0.005296314052519255,
          0.00565496124069731,
          0.0057998725709685695,
          0.005970339091421913,
          0.006191238734185934,
          0.006283746601198229,
          0.006353702044740312,
          0.006363556961143331,
          0,
          0,
          0,
          0,
          0,
          0,
          0,
          0,
          0,
          0,
          0,
          0,
          0,
          0,
          0,
          0,
          0,
          0,
          0,
          0,
          0,
          0,
          0,
          0,
          0,
          0,
          0,
          0,
          0,
          0,
          0,
          0,
          0,
          0,
          0,
          0,
          0,
          0,
          0
         ],
         "z": [
          -0.03,
          -0.03,
          -0.03994811865398482,
          -0.042247216844731754,
          -0.044153274857360175,
          -0.04625058423780775,
          -0.048409763179368764,
          -0.050582344323808835,
          -0.05319805730792405,
          -0.054285395355244556,
          -0.05029502119194615,
          -0.05190888438215354,
          -0.055089968589871204,
          -0.055840342943102736,
          -0.05594299593589353,
          -0.058573101496399244,
          -0.05874449327938813,
          -0.06519513185570076,
          -0.06946225954501309,
          -0.0720537395635407,
          -0.07670808733327358,
          -0.07939921082210176,
          -0.08384710198403172,
          -0.09153710933856701,
          -0.09891833060872329,
          -0.1033561364316049,
          -0.1066319172167905,
          -0.10674068062504094,
          -0.10843093453879245,
          -0.11684589649330068,
          -0.11858457370681831,
          -0.1213199946892361,
          -0.12366273809104326,
          -0.1273109499597593,
          -0.13080084613182735,
          -0.1324283229255746,
          -0.13722089197962442,
          -0.14209561791261943,
          -0.14676267067779228,
          -0.15314865744191974,
          -0.15651550580706805,
          -0.15865722756681988,
          -0.158910787553243,
          -0.0275,
          -0.025,
          -0.0225,
          -0.02,
          -0.0175,
          -0.015,
          -0.0125,
          -0.01,
          -0.0075,
          -0.005,
          -0.0025,
          0,
          0.0025,
          0.005,
          0.0075,
          0.01,
          0.0125,
          0.015,
          0.0175,
          0.02,
          0.0225,
          0.025,
          0.0275,
          0.03,
          0.0325,
          0.035,
          0.0375,
          0.04,
          0.0425,
          0.045,
          0.0475,
          0.05,
          0.0525,
          0.055,
          0.0575,
          0.06,
          0.0625,
          0.065,
          0.06651210841436818
         ]
        }
       ],
       "layout": {
        "autosize": true,
        "scene": {
         "aspectmode": "data",
         "aspectratio": {
          "x": 0.5357952327866964,
          "y": 0.3735939315289178,
          "z": 4.995757415181521
         },
         "camera": {
          "center": {
           "x": 0,
           "y": 0,
           "z": 0
          },
          "eye": {
           "x": 10.535283114540094,
           "y": 8.4771811696008,
           "z": 7.575077641142201
          },
          "projection": {
           "type": "perspective"
          },
          "up": {
           "x": 0,
           "y": 0,
           "z": 1
          }
         }
        },
        "template": {
         "data": {
          "bar": [
           {
            "error_x": {
             "color": "#2a3f5f"
            },
            "error_y": {
             "color": "#2a3f5f"
            },
            "marker": {
             "line": {
              "color": "#E5ECF6",
              "width": 0.5
             }
            },
            "type": "bar"
           }
          ],
          "barpolar": [
           {
            "marker": {
             "line": {
              "color": "#E5ECF6",
              "width": 0.5
             }
            },
            "type": "barpolar"
           }
          ],
          "carpet": [
           {
            "aaxis": {
             "endlinecolor": "#2a3f5f",
             "gridcolor": "white",
             "linecolor": "white",
             "minorgridcolor": "white",
             "startlinecolor": "#2a3f5f"
            },
            "baxis": {
             "endlinecolor": "#2a3f5f",
             "gridcolor": "white",
             "linecolor": "white",
             "minorgridcolor": "white",
             "startlinecolor": "#2a3f5f"
            },
            "type": "carpet"
           }
          ],
          "choropleth": [
           {
            "colorbar": {
             "outlinewidth": 0,
             "ticks": ""
            },
            "type": "choropleth"
           }
          ],
          "contour": [
           {
            "colorbar": {
             "outlinewidth": 0,
             "ticks": ""
            },
            "colorscale": [
             [
              0,
              "#0d0887"
             ],
             [
              0.1111111111111111,
              "#46039f"
             ],
             [
              0.2222222222222222,
              "#7201a8"
             ],
             [
              0.3333333333333333,
              "#9c179e"
             ],
             [
              0.4444444444444444,
              "#bd3786"
             ],
             [
              0.5555555555555556,
              "#d8576b"
             ],
             [
              0.6666666666666666,
              "#ed7953"
             ],
             [
              0.7777777777777778,
              "#fb9f3a"
             ],
             [
              0.8888888888888888,
              "#fdca26"
             ],
             [
              1,
              "#f0f921"
             ]
            ],
            "type": "contour"
           }
          ],
          "contourcarpet": [
           {
            "colorbar": {
             "outlinewidth": 0,
             "ticks": ""
            },
            "type": "contourcarpet"
           }
          ],
          "heatmap": [
           {
            "colorbar": {
             "outlinewidth": 0,
             "ticks": ""
            },
            "colorscale": [
             [
              0,
              "#0d0887"
             ],
             [
              0.1111111111111111,
              "#46039f"
             ],
             [
              0.2222222222222222,
              "#7201a8"
             ],
             [
              0.3333333333333333,
              "#9c179e"
             ],
             [
              0.4444444444444444,
              "#bd3786"
             ],
             [
              0.5555555555555556,
              "#d8576b"
             ],
             [
              0.6666666666666666,
              "#ed7953"
             ],
             [
              0.7777777777777778,
              "#fb9f3a"
             ],
             [
              0.8888888888888888,
              "#fdca26"
             ],
             [
              1,
              "#f0f921"
             ]
            ],
            "type": "heatmap"
           }
          ],
          "heatmapgl": [
           {
            "colorbar": {
             "outlinewidth": 0,
             "ticks": ""
            },
            "colorscale": [
             [
              0,
              "#0d0887"
             ],
             [
              0.1111111111111111,
              "#46039f"
             ],
             [
              0.2222222222222222,
              "#7201a8"
             ],
             [
              0.3333333333333333,
              "#9c179e"
             ],
             [
              0.4444444444444444,
              "#bd3786"
             ],
             [
              0.5555555555555556,
              "#d8576b"
             ],
             [
              0.6666666666666666,
              "#ed7953"
             ],
             [
              0.7777777777777778,
              "#fb9f3a"
             ],
             [
              0.8888888888888888,
              "#fdca26"
             ],
             [
              1,
              "#f0f921"
             ]
            ],
            "type": "heatmapgl"
           }
          ],
          "histogram": [
           {
            "marker": {
             "colorbar": {
              "outlinewidth": 0,
              "ticks": ""
             }
            },
            "type": "histogram"
           }
          ],
          "histogram2d": [
           {
            "colorbar": {
             "outlinewidth": 0,
             "ticks": ""
            },
            "colorscale": [
             [
              0,
              "#0d0887"
             ],
             [
              0.1111111111111111,
              "#46039f"
             ],
             [
              0.2222222222222222,
              "#7201a8"
             ],
             [
              0.3333333333333333,
              "#9c179e"
             ],
             [
              0.4444444444444444,
              "#bd3786"
             ],
             [
              0.5555555555555556,
              "#d8576b"
             ],
             [
              0.6666666666666666,
              "#ed7953"
             ],
             [
              0.7777777777777778,
              "#fb9f3a"
             ],
             [
              0.8888888888888888,
              "#fdca26"
             ],
             [
              1,
              "#f0f921"
             ]
            ],
            "type": "histogram2d"
           }
          ],
          "histogram2dcontour": [
           {
            "colorbar": {
             "outlinewidth": 0,
             "ticks": ""
            },
            "colorscale": [
             [
              0,
              "#0d0887"
             ],
             [
              0.1111111111111111,
              "#46039f"
             ],
             [
              0.2222222222222222,
              "#7201a8"
             ],
             [
              0.3333333333333333,
              "#9c179e"
             ],
             [
              0.4444444444444444,
              "#bd3786"
             ],
             [
              0.5555555555555556,
              "#d8576b"
             ],
             [
              0.6666666666666666,
              "#ed7953"
             ],
             [
              0.7777777777777778,
              "#fb9f3a"
             ],
             [
              0.8888888888888888,
              "#fdca26"
             ],
             [
              1,
              "#f0f921"
             ]
            ],
            "type": "histogram2dcontour"
           }
          ],
          "mesh3d": [
           {
            "colorbar": {
             "outlinewidth": 0,
             "ticks": ""
            },
            "type": "mesh3d"
           }
          ],
          "parcoords": [
           {
            "line": {
             "colorbar": {
              "outlinewidth": 0,
              "ticks": ""
             }
            },
            "type": "parcoords"
           }
          ],
          "scatter": [
           {
            "marker": {
             "colorbar": {
              "outlinewidth": 0,
              "ticks": ""
             }
            },
            "type": "scatter"
           }
          ],
          "scatter3d": [
           {
            "line": {
             "colorbar": {
              "outlinewidth": 0,
              "ticks": ""
             }
            },
            "marker": {
             "colorbar": {
              "outlinewidth": 0,
              "ticks": ""
             }
            },
            "type": "scatter3d"
           }
          ],
          "scattercarpet": [
           {
            "marker": {
             "colorbar": {
              "outlinewidth": 0,
              "ticks": ""
             }
            },
            "type": "scattercarpet"
           }
          ],
          "scattergeo": [
           {
            "marker": {
             "colorbar": {
              "outlinewidth": 0,
              "ticks": ""
             }
            },
            "type": "scattergeo"
           }
          ],
          "scattergl": [
           {
            "marker": {
             "colorbar": {
              "outlinewidth": 0,
              "ticks": ""
             }
            },
            "type": "scattergl"
           }
          ],
          "scattermapbox": [
           {
            "marker": {
             "colorbar": {
              "outlinewidth": 0,
              "ticks": ""
             }
            },
            "type": "scattermapbox"
           }
          ],
          "scatterpolar": [
           {
            "marker": {
             "colorbar": {
              "outlinewidth": 0,
              "ticks": ""
             }
            },
            "type": "scatterpolar"
           }
          ],
          "scatterpolargl": [
           {
            "marker": {
             "colorbar": {
              "outlinewidth": 0,
              "ticks": ""
             }
            },
            "type": "scatterpolargl"
           }
          ],
          "scatterternary": [
           {
            "marker": {
             "colorbar": {
              "outlinewidth": 0,
              "ticks": ""
             }
            },
            "type": "scatterternary"
           }
          ],
          "surface": [
           {
            "colorbar": {
             "outlinewidth": 0,
             "ticks": ""
            },
            "colorscale": [
             [
              0,
              "#0d0887"
             ],
             [
              0.1111111111111111,
              "#46039f"
             ],
             [
              0.2222222222222222,
              "#7201a8"
             ],
             [
              0.3333333333333333,
              "#9c179e"
             ],
             [
              0.4444444444444444,
              "#bd3786"
             ],
             [
              0.5555555555555556,
              "#d8576b"
             ],
             [
              0.6666666666666666,
              "#ed7953"
             ],
             [
              0.7777777777777778,
              "#fb9f3a"
             ],
             [
              0.8888888888888888,
              "#fdca26"
             ],
             [
              1,
              "#f0f921"
             ]
            ],
            "type": "surface"
           }
          ],
          "table": [
           {
            "cells": {
             "fill": {
              "color": "#EBF0F8"
             },
             "line": {
              "color": "white"
             }
            },
            "header": {
             "fill": {
              "color": "#C8D4E3"
             },
             "line": {
              "color": "white"
             }
            },
            "type": "table"
           }
          ]
         },
         "layout": {
          "annotationdefaults": {
           "arrowcolor": "#2a3f5f",
           "arrowhead": 0,
           "arrowwidth": 1
          },
          "colorscale": {
           "diverging": [
            [
             0,
             "#8e0152"
            ],
            [
             0.1,
             "#c51b7d"
            ],
            [
             0.2,
             "#de77ae"
            ],
            [
             0.3,
             "#f1b6da"
            ],
            [
             0.4,
             "#fde0ef"
            ],
            [
             0.5,
             "#f7f7f7"
            ],
            [
             0.6,
             "#e6f5d0"
            ],
            [
             0.7,
             "#b8e186"
            ],
            [
             0.8,
             "#7fbc41"
            ],
            [
             0.9,
             "#4d9221"
            ],
            [
             1,
             "#276419"
            ]
           ],
           "sequential": [
            [
             0,
             "#0d0887"
            ],
            [
             0.1111111111111111,
             "#46039f"
            ],
            [
             0.2222222222222222,
             "#7201a8"
            ],
            [
             0.3333333333333333,
             "#9c179e"
            ],
            [
             0.4444444444444444,
             "#bd3786"
            ],
            [
             0.5555555555555556,
             "#d8576b"
            ],
            [
             0.6666666666666666,
             "#ed7953"
            ],
            [
             0.7777777777777778,
             "#fb9f3a"
            ],
            [
             0.8888888888888888,
             "#fdca26"
            ],
            [
             1,
             "#f0f921"
            ]
           ],
           "sequentialminus": [
            [
             0,
             "#0d0887"
            ],
            [
             0.1111111111111111,
             "#46039f"
            ],
            [
             0.2222222222222222,
             "#7201a8"
            ],
            [
             0.3333333333333333,
             "#9c179e"
            ],
            [
             0.4444444444444444,
             "#bd3786"
            ],
            [
             0.5555555555555556,
             "#d8576b"
            ],
            [
             0.6666666666666666,
             "#ed7953"
            ],
            [
             0.7777777777777778,
             "#fb9f3a"
            ],
            [
             0.8888888888888888,
             "#fdca26"
            ],
            [
             1,
             "#f0f921"
            ]
           ]
          },
          "colorway": [
           "#636efa",
           "#EF553B",
           "#00cc96",
           "#ab63fa",
           "#FFA15A",
           "#19d3f3",
           "#FF6692",
           "#B6E880",
           "#FF97FF",
           "#FECB52"
          ],
          "font": {
           "color": "#2a3f5f"
          },
          "geo": {
           "bgcolor": "white",
           "lakecolor": "white",
           "landcolor": "#E5ECF6",
           "showlakes": true,
           "showland": true,
           "subunitcolor": "white"
          },
          "hoverlabel": {
           "align": "left"
          },
          "hovermode": "closest",
          "mapbox": {
           "style": "light"
          },
          "paper_bgcolor": "white",
          "plot_bgcolor": "#E5ECF6",
          "polar": {
           "angularaxis": {
            "gridcolor": "white",
            "linecolor": "white",
            "ticks": ""
           },
           "bgcolor": "#E5ECF6",
           "radialaxis": {
            "gridcolor": "white",
            "linecolor": "white",
            "ticks": ""
           }
          },
          "scene": {
           "xaxis": {
            "backgroundcolor": "#E5ECF6",
            "gridcolor": "white",
            "gridwidth": 2,
            "linecolor": "white",
            "showbackground": true,
            "ticks": "",
            "zerolinecolor": "white"
           },
           "yaxis": {
            "backgroundcolor": "#E5ECF6",
            "gridcolor": "white",
            "gridwidth": 2,
            "linecolor": "white",
            "showbackground": true,
            "ticks": "",
            "zerolinecolor": "white"
           },
           "zaxis": {
            "backgroundcolor": "#E5ECF6",
            "gridcolor": "white",
            "gridwidth": 2,
            "linecolor": "white",
            "showbackground": true,
            "ticks": "",
            "zerolinecolor": "white"
           }
          },
          "shapedefaults": {
           "line": {
            "color": "#2a3f5f"
           }
          },
          "ternary": {
           "aaxis": {
            "gridcolor": "white",
            "linecolor": "white",
            "ticks": ""
           },
           "baxis": {
            "gridcolor": "white",
            "linecolor": "white",
            "ticks": ""
           },
           "bgcolor": "#E5ECF6",
           "caxis": {
            "gridcolor": "white",
            "linecolor": "white",
            "ticks": ""
           }
          },
          "title": {
           "x": 0.05
          },
          "xaxis": {
           "automargin": true,
           "gridcolor": "white",
           "linecolor": "white",
           "ticks": "",
           "zerolinecolor": "white",
           "zerolinewidth": 2
          },
          "yaxis": {
           "automargin": true,
           "gridcolor": "white",
           "linecolor": "white",
           "ticks": "",
           "zerolinecolor": "white",
           "zerolinewidth": 2
          }
         }
        }
       }
      },
      "text/html": [
       "<div>\n",
       "        \n",
       "        \n",
       "            <div id=\"805ccce0-eddf-48c0-8606-ecae79a7a721\" class=\"plotly-graph-div\" style=\"height:525px; width:100%;\"></div>\n",
       "            <script type=\"text/javascript\">\n",
       "                require([\"plotly\"], function(Plotly) {\n",
       "                    window.PLOTLYENV=window.PLOTLYENV || {};\n",
       "                    \n",
       "                if (document.getElementById(\"805ccce0-eddf-48c0-8606-ecae79a7a721\")) {\n",
       "                    Plotly.newPlot(\n",
       "                        '805ccce0-eddf-48c0-8606-ecae79a7a721',\n",
       "                        [{\"marker\": {\"color\": [2.0, 4.0, 2.0, 2.0, 2.0, 2.0, 2.0, 2.0, 2.0, 2.0, 2.0, 2.0, 2.0, 2.0, 2.0, 2.0, 2.0, 2.0, 2.0, 2.0, 2.0, 2.0, 2.0, 2.0, 2.0, 2.0, 2.0, 2.0, 2.0, 2.0, 2.0, 2.0, 2.0, 2.0, 2.0, 2.0, 2.0, 2.0, 2.0, 2.0, 2.0, 2.0, 2.0, 4.0, 4.0, 4.0, 4.0, 4.0, 4.0, 4.0, 4.0, 4.0, 4.0, 4.0, 4.0, 4.0, 4.0, 4.0, 4.0, 4.0, 4.0, 4.0, 4.0, 4.0, 4.0, 4.0, 4.0, 4.0, 4.0, 4.0, 4.0, 4.0, 4.0, 4.0, 4.0, 4.0, 4.0, 4.0, 4.0, 4.0, 4.0, 4.0], \"colorscale\": [[0, \"wheat\"], [0.5, \"darkgreen\"], [1.0, \"lightgreen\"]], \"opacity\": 0.8, \"size\": 3}, \"mode\": \"markers\", \"type\": \"scatter3d\", \"x\": [0.0, 0.0, 0.0004136063922439487, 0.007546749846004115, 0.015122003886655274, 0.0009766097532113043, -0.0021300382916696397, -0.00520780286161447, -0.007728484316323956, -0.009054612986970268, 0.001023516918070996, -0.005564450276771387, 0.0009596756816575721, -0.0011857469960135105, -0.0014514380334049398, 0.0010696862951787489, 0.0006841312525369764, 0.0009516242275018432, 0.0008957763834176322, 0.000867257548981029, 0.00092031108280127, 0.0010090829739591402, 0.001242310506728966, 0.0016187345432356849, 0.0015815098327568709, 0.0016028154284805282, 0.0015100448144989437, 0.0015082785098052155, 0.0014821599334293404, 0.0013864394277764923, 0.001384941700868797, 0.0013829397032413826, 0.0013695876556609951, 0.001274173180370593, 0.001288091948704117, 0.001301173547732923, 0.0013569638941714974, 0.0016086628974389921, 0.0017147349857039437, 0.001700217534789874, 0.001702264293553524, 0.0017420745799801179, 0.0017460045489782897, 0.0, 0.0, 0.0, 0.0, 0.0, 0.0, 0.0, 0.0, 0.0, 0.0, 0.0, 0.0, 0.0, 0.0, 0.0, 0.0, 0.0, 0.0, 0.0, 0.0, 0.0, 0.0, 0.0, 0.0, 0.0, 0.0, 0.0, 0.0, 0.0, 0.0, 0.0, 0.0, 0.0, 0.0, 0.0, 0.0, 0.0, 0.0, 0.0], \"y\": [0.0, 0.0, 0.0009294433810265842, 0.007550048487614854, 0.012968844120193234, 0.0012804154199262284, -1.8308655294086153e-05, -0.0013626510308873607, -0.0030372287653072194, -0.00388878505636559, 0.001470137089096516, 0.008159866600387962, 0.001752334346592474, 0.005043853731944321, 0.00544521461186735, 0.001758611285013662, 0.0013498662413336528, 0.0017259610590048824, 0.001801532510359073, 0.0018648781297930092, 0.0019367597372939595, 0.001989258464840435, 0.0022803677349085864, 0.0031070072851034063, 0.003563157690433714, 0.003740924008434765, 0.003965837246459358, 0.003973555325255837, 0.004093844014010677, 0.0047121965311558685, 0.00478237762952674, 0.004890496398481861, 0.004943042213156274, 0.005032532667555631, 0.005174120497654758, 0.005296314052519255, 0.00565496124069731, 0.0057998725709685695, 0.005970339091421913, 0.006191238734185934, 0.006283746601198229, 0.006353702044740312, 0.006363556961143331, 0.0, 0.0, 0.0, 0.0, 0.0, 0.0, 0.0, 0.0, 0.0, 0.0, 0.0, 0.0, 0.0, 0.0, 0.0, 0.0, 0.0, 0.0, 0.0, 0.0, 0.0, 0.0, 0.0, 0.0, 0.0, 0.0, 0.0, 0.0, 0.0, 0.0, 0.0, 0.0, 0.0, 0.0, 0.0, 0.0, 0.0, 0.0, 0.0], \"z\": [-0.03, -0.03, -0.03994811865398482, -0.042247216844731754, -0.044153274857360175, -0.04625058423780775, -0.048409763179368764, -0.050582344323808835, -0.05319805730792405, -0.054285395355244556, -0.05029502119194615, -0.05190888438215354, -0.055089968589871204, -0.055840342943102736, -0.05594299593589353, -0.058573101496399244, -0.05874449327938813, -0.06519513185570076, -0.06946225954501309, -0.0720537395635407, -0.07670808733327358, -0.07939921082210176, -0.08384710198403172, -0.09153710933856701, -0.09891833060872329, -0.1033561364316049, -0.1066319172167905, -0.10674068062504094, -0.10843093453879245, -0.11684589649330068, -0.11858457370681831, -0.1213199946892361, -0.12366273809104326, -0.1273109499597593, -0.13080084613182735, -0.1324283229255746, -0.13722089197962442, -0.14209561791261943, -0.14676267067779228, -0.15314865744191974, -0.15651550580706805, -0.15865722756681988, -0.158910787553243, -0.0275, -0.025, -0.0225, -0.02, -0.0175, -0.015, -0.0125, -0.01, -0.0075, -0.005, -0.0025, 0.0, 0.0025, 0.005, 0.0075, 0.01, 0.0125, 0.015, 0.0175, 0.02, 0.0225, 0.025, 0.0275, 0.03, 0.0325, 0.035, 0.0375, 0.04, 0.0425, 0.045, 0.0475, 0.05, 0.0525, 0.055, 0.0575, 0.06, 0.0625, 0.065, 0.06651210841436818]}],\n",
       "                        {\"scene\": {\"aspectmode\": \"data\"}, \"template\": {\"data\": {\"bar\": [{\"error_x\": {\"color\": \"#2a3f5f\"}, \"error_y\": {\"color\": \"#2a3f5f\"}, \"marker\": {\"line\": {\"color\": \"#E5ECF6\", \"width\": 0.5}}, \"type\": \"bar\"}], \"barpolar\": [{\"marker\": {\"line\": {\"color\": \"#E5ECF6\", \"width\": 0.5}}, \"type\": \"barpolar\"}], \"carpet\": [{\"aaxis\": {\"endlinecolor\": \"#2a3f5f\", \"gridcolor\": \"white\", \"linecolor\": \"white\", \"minorgridcolor\": \"white\", \"startlinecolor\": \"#2a3f5f\"}, \"baxis\": {\"endlinecolor\": \"#2a3f5f\", \"gridcolor\": \"white\", \"linecolor\": \"white\", \"minorgridcolor\": \"white\", \"startlinecolor\": \"#2a3f5f\"}, \"type\": \"carpet\"}], \"choropleth\": [{\"colorbar\": {\"outlinewidth\": 0, \"ticks\": \"\"}, \"type\": \"choropleth\"}], \"contour\": [{\"colorbar\": {\"outlinewidth\": 0, \"ticks\": \"\"}, \"colorscale\": [[0.0, \"#0d0887\"], [0.1111111111111111, \"#46039f\"], [0.2222222222222222, \"#7201a8\"], [0.3333333333333333, \"#9c179e\"], [0.4444444444444444, \"#bd3786\"], [0.5555555555555556, \"#d8576b\"], [0.6666666666666666, \"#ed7953\"], [0.7777777777777778, \"#fb9f3a\"], [0.8888888888888888, \"#fdca26\"], [1.0, \"#f0f921\"]], \"type\": \"contour\"}], \"contourcarpet\": [{\"colorbar\": {\"outlinewidth\": 0, \"ticks\": \"\"}, \"type\": \"contourcarpet\"}], \"heatmap\": [{\"colorbar\": {\"outlinewidth\": 0, \"ticks\": \"\"}, \"colorscale\": [[0.0, \"#0d0887\"], [0.1111111111111111, \"#46039f\"], [0.2222222222222222, \"#7201a8\"], [0.3333333333333333, \"#9c179e\"], [0.4444444444444444, \"#bd3786\"], [0.5555555555555556, \"#d8576b\"], [0.6666666666666666, \"#ed7953\"], [0.7777777777777778, \"#fb9f3a\"], [0.8888888888888888, \"#fdca26\"], [1.0, \"#f0f921\"]], \"type\": \"heatmap\"}], \"heatmapgl\": [{\"colorbar\": {\"outlinewidth\": 0, \"ticks\": \"\"}, \"colorscale\": [[0.0, \"#0d0887\"], [0.1111111111111111, \"#46039f\"], [0.2222222222222222, \"#7201a8\"], [0.3333333333333333, \"#9c179e\"], [0.4444444444444444, \"#bd3786\"], [0.5555555555555556, \"#d8576b\"], [0.6666666666666666, \"#ed7953\"], [0.7777777777777778, \"#fb9f3a\"], [0.8888888888888888, \"#fdca26\"], [1.0, \"#f0f921\"]], \"type\": \"heatmapgl\"}], \"histogram\": [{\"marker\": {\"colorbar\": {\"outlinewidth\": 0, \"ticks\": \"\"}}, \"type\": \"histogram\"}], \"histogram2d\": [{\"colorbar\": {\"outlinewidth\": 0, \"ticks\": \"\"}, \"colorscale\": [[0.0, \"#0d0887\"], [0.1111111111111111, \"#46039f\"], [0.2222222222222222, \"#7201a8\"], [0.3333333333333333, \"#9c179e\"], [0.4444444444444444, \"#bd3786\"], [0.5555555555555556, \"#d8576b\"], [0.6666666666666666, \"#ed7953\"], [0.7777777777777778, \"#fb9f3a\"], [0.8888888888888888, \"#fdca26\"], [1.0, \"#f0f921\"]], \"type\": \"histogram2d\"}], \"histogram2dcontour\": [{\"colorbar\": {\"outlinewidth\": 0, \"ticks\": \"\"}, \"colorscale\": [[0.0, \"#0d0887\"], [0.1111111111111111, \"#46039f\"], [0.2222222222222222, \"#7201a8\"], [0.3333333333333333, \"#9c179e\"], [0.4444444444444444, \"#bd3786\"], [0.5555555555555556, \"#d8576b\"], [0.6666666666666666, \"#ed7953\"], [0.7777777777777778, \"#fb9f3a\"], [0.8888888888888888, \"#fdca26\"], [1.0, \"#f0f921\"]], \"type\": \"histogram2dcontour\"}], \"mesh3d\": [{\"colorbar\": {\"outlinewidth\": 0, \"ticks\": \"\"}, \"type\": \"mesh3d\"}], \"parcoords\": [{\"line\": {\"colorbar\": {\"outlinewidth\": 0, \"ticks\": \"\"}}, \"type\": \"parcoords\"}], \"scatter\": [{\"marker\": {\"colorbar\": {\"outlinewidth\": 0, \"ticks\": \"\"}}, \"type\": \"scatter\"}], \"scatter3d\": [{\"line\": {\"colorbar\": {\"outlinewidth\": 0, \"ticks\": \"\"}}, \"marker\": {\"colorbar\": {\"outlinewidth\": 0, \"ticks\": \"\"}}, \"type\": \"scatter3d\"}], \"scattercarpet\": [{\"marker\": {\"colorbar\": {\"outlinewidth\": 0, \"ticks\": \"\"}}, \"type\": \"scattercarpet\"}], \"scattergeo\": [{\"marker\": {\"colorbar\": {\"outlinewidth\": 0, \"ticks\": \"\"}}, \"type\": \"scattergeo\"}], \"scattergl\": [{\"marker\": {\"colorbar\": {\"outlinewidth\": 0, \"ticks\": \"\"}}, \"type\": \"scattergl\"}], \"scattermapbox\": [{\"marker\": {\"colorbar\": {\"outlinewidth\": 0, \"ticks\": \"\"}}, \"type\": \"scattermapbox\"}], \"scatterpolar\": [{\"marker\": {\"colorbar\": {\"outlinewidth\": 0, \"ticks\": \"\"}}, \"type\": \"scatterpolar\"}], \"scatterpolargl\": [{\"marker\": {\"colorbar\": {\"outlinewidth\": 0, \"ticks\": \"\"}}, \"type\": \"scatterpolargl\"}], \"scatterternary\": [{\"marker\": {\"colorbar\": {\"outlinewidth\": 0, \"ticks\": \"\"}}, \"type\": \"scatterternary\"}], \"surface\": [{\"colorbar\": {\"outlinewidth\": 0, \"ticks\": \"\"}, \"colorscale\": [[0.0, \"#0d0887\"], [0.1111111111111111, \"#46039f\"], [0.2222222222222222, \"#7201a8\"], [0.3333333333333333, \"#9c179e\"], [0.4444444444444444, \"#bd3786\"], [0.5555555555555556, \"#d8576b\"], [0.6666666666666666, \"#ed7953\"], [0.7777777777777778, \"#fb9f3a\"], [0.8888888888888888, \"#fdca26\"], [1.0, \"#f0f921\"]], \"type\": \"surface\"}], \"table\": [{\"cells\": {\"fill\": {\"color\": \"#EBF0F8\"}, \"line\": {\"color\": \"white\"}}, \"header\": {\"fill\": {\"color\": \"#C8D4E3\"}, \"line\": {\"color\": \"white\"}}, \"type\": \"table\"}]}, \"layout\": {\"annotationdefaults\": {\"arrowcolor\": \"#2a3f5f\", \"arrowhead\": 0, \"arrowwidth\": 1}, \"colorscale\": {\"diverging\": [[0, \"#8e0152\"], [0.1, \"#c51b7d\"], [0.2, \"#de77ae\"], [0.3, \"#f1b6da\"], [0.4, \"#fde0ef\"], [0.5, \"#f7f7f7\"], [0.6, \"#e6f5d0\"], [0.7, \"#b8e186\"], [0.8, \"#7fbc41\"], [0.9, \"#4d9221\"], [1, \"#276419\"]], \"sequential\": [[0.0, \"#0d0887\"], [0.1111111111111111, \"#46039f\"], [0.2222222222222222, \"#7201a8\"], [0.3333333333333333, \"#9c179e\"], [0.4444444444444444, \"#bd3786\"], [0.5555555555555556, \"#d8576b\"], [0.6666666666666666, \"#ed7953\"], [0.7777777777777778, \"#fb9f3a\"], [0.8888888888888888, \"#fdca26\"], [1.0, \"#f0f921\"]], \"sequentialminus\": [[0.0, \"#0d0887\"], [0.1111111111111111, \"#46039f\"], [0.2222222222222222, \"#7201a8\"], [0.3333333333333333, \"#9c179e\"], [0.4444444444444444, \"#bd3786\"], [0.5555555555555556, \"#d8576b\"], [0.6666666666666666, \"#ed7953\"], [0.7777777777777778, \"#fb9f3a\"], [0.8888888888888888, \"#fdca26\"], [1.0, \"#f0f921\"]]}, \"colorway\": [\"#636efa\", \"#EF553B\", \"#00cc96\", \"#ab63fa\", \"#FFA15A\", \"#19d3f3\", \"#FF6692\", \"#B6E880\", \"#FF97FF\", \"#FECB52\"], \"font\": {\"color\": \"#2a3f5f\"}, \"geo\": {\"bgcolor\": \"white\", \"lakecolor\": \"white\", \"landcolor\": \"#E5ECF6\", \"showlakes\": true, \"showland\": true, \"subunitcolor\": \"white\"}, \"hoverlabel\": {\"align\": \"left\"}, \"hovermode\": \"closest\", \"mapbox\": {\"style\": \"light\"}, \"paper_bgcolor\": \"white\", \"plot_bgcolor\": \"#E5ECF6\", \"polar\": {\"angularaxis\": {\"gridcolor\": \"white\", \"linecolor\": \"white\", \"ticks\": \"\"}, \"bgcolor\": \"#E5ECF6\", \"radialaxis\": {\"gridcolor\": \"white\", \"linecolor\": \"white\", \"ticks\": \"\"}}, \"scene\": {\"xaxis\": {\"backgroundcolor\": \"#E5ECF6\", \"gridcolor\": \"white\", \"gridwidth\": 2, \"linecolor\": \"white\", \"showbackground\": true, \"ticks\": \"\", \"zerolinecolor\": \"white\"}, \"yaxis\": {\"backgroundcolor\": \"#E5ECF6\", \"gridcolor\": \"white\", \"gridwidth\": 2, \"linecolor\": \"white\", \"showbackground\": true, \"ticks\": \"\", \"zerolinecolor\": \"white\"}, \"zaxis\": {\"backgroundcolor\": \"#E5ECF6\", \"gridcolor\": \"white\", \"gridwidth\": 2, \"linecolor\": \"white\", \"showbackground\": true, \"ticks\": \"\", \"zerolinecolor\": \"white\"}}, \"shapedefaults\": {\"line\": {\"color\": \"#2a3f5f\"}}, \"ternary\": {\"aaxis\": {\"gridcolor\": \"white\", \"linecolor\": \"white\", \"ticks\": \"\"}, \"baxis\": {\"gridcolor\": \"white\", \"linecolor\": \"white\", \"ticks\": \"\"}, \"bgcolor\": \"#E5ECF6\", \"caxis\": {\"gridcolor\": \"white\", \"linecolor\": \"white\", \"ticks\": \"\"}}, \"title\": {\"x\": 0.05}, \"xaxis\": {\"automargin\": true, \"gridcolor\": \"white\", \"linecolor\": \"white\", \"ticks\": \"\", \"zerolinecolor\": \"white\", \"zerolinewidth\": 2}, \"yaxis\": {\"automargin\": true, \"gridcolor\": \"white\", \"linecolor\": \"white\", \"ticks\": \"\", \"zerolinecolor\": \"white\", \"zerolinewidth\": 2}}}},\n",
       "                        {\"responsive\": true}\n",
       "                    ).then(function(){\n",
       "                            \n",
       "var gd = document.getElementById('805ccce0-eddf-48c0-8606-ecae79a7a721');\n",
       "var x = new MutationObserver(function (mutations, observer) {{\n",
       "        var display = window.getComputedStyle(gd).display;\n",
       "        if (!display || display === 'none') {{\n",
       "            console.log([gd, 'removed!']);\n",
       "            Plotly.purge(gd);\n",
       "            observer.disconnect();\n",
       "        }}\n",
       "}});\n",
       "\n",
       "// Listen for the removal of the full notebook cells\n",
       "var notebookContainer = gd.closest('#notebook-container');\n",
       "if (notebookContainer) {{\n",
       "    x.observe(notebookContainer, {childList: true});\n",
       "}}\n",
       "\n",
       "// Listen for the clearing of the current output cell\n",
       "var outputEl = gd.closest('.output');\n",
       "if (outputEl) {{\n",
       "    x.observe(outputEl, {childList: true});\n",
       "}}\n",
       "\n",
       "                        })\n",
       "                };\n",
       "                });\n",
       "            </script>\n",
       "        </div>"
      ]
     },
     "metadata": {},
     "output_type": "display_data"
    }
   ],
   "source": [
    "# first we create a Heliantus plant\n",
    "name = \"Heliantus_Pagès_2013\" # parameter name\n",
    "# here are some optional parameters to be tested\n",
    "# name = \"PMA2018\" # Simulate a small plant with 3 leaves and two lateral root, you can comment the heliantus line and uncomment this line to see what happend.\n",
    "time = 70 # how many days the plant need to grow, make it smaller, for example 15 to see if the plant becomes smaller\n",
    "\n",
    "plant1 = CPlantBox(name, time, name) # make a plant object in python\n",
    "# Visualization\n",
    "def visual_plant(plant1):\n",
    "    nodes_cor = python_nodes(plant1) # use the object name created previously to get its coordinates\n",
    "    fig = go.Figure(data=[go.Scatter3d(\n",
    "        x=nodes_cor.T[3],\n",
    "        y=nodes_cor.T[4],\n",
    "        z=nodes_cor.T[5],\n",
    "        mode='markers',\n",
    "        marker=dict(\n",
    "            size=3,\n",
    "            color=nodes_cor.T[1],                # nodes_cor.T[1] is organ type, nodes_cor.T[2] is the connection number of a node \n",
    "            colorscale=[[0, \"wheat\"], #color of the root, change it to \"yellow\" to see the difference\n",
    "                    [0.5, \"darkgreen\"],\n",
    "                    [1.0, \"lightgreen\"],],  opacity=0.8\n",
    "        )\n",
    "    )])\n",
    "    fig.update_layout(scene_aspectmode='data',)\n",
    "    return fig\n",
    "    \n",
    "fig = visual_plant(plant1)    \n",
    "fig.show()"
   ]
  },
  {
   "cell_type": "markdown",
   "metadata": {},
   "source": [
    "## 4. Read and write parameter files.\n",
    "1. CPlantBox use XML file to parameterize the plant, the file could be a little bit scarry at first glance. However, here I will give you examples to try each parameter. In this way you will know all the parameters quickly.\n",
    "Firstly, we print out all the parameters:"
   ]
  },
  {
   "cell_type": "code",
   "execution_count": 66,
   "metadata": {},
   "outputs": [
    {
     "name": "stdout",
     "output_type": "stream",
     "text": [
      "{'type': 'seed', 'subType': '0'}\n",
      "{'name': 'seedPos.x', 'value': '0'}\n",
      "{'name': 'seedPos.y', 'value': '0'}\n",
      "{'name': 'seedPos.z', 'value': '-3'}\n",
      "{'name': 'plantingdepth', 'value': '3'}\n",
      "{'name': 'firstB', 'value': '0', 'dev': '0'}\n",
      "{'name': 'delayB', 'value': '0', 'dev': '0'}\n",
      "{'name': 'maxB', 'value': '0', 'dev': '0'}\n",
      "{'name': 'nC', 'value': '2'}\n",
      "{'name': 'nz', 'value': '0'}\n",
      "{'name': 'firstSB', 'value': '14', 'dev': '0'}\n",
      "{'name': 'delaySB', 'value': '0', 'dev': '0'}\n",
      "{'name': 'delayRC', 'value': '7', 'dev': '0'}\n",
      "{'name': 'simulationTime', 'value': '56', 'dev': '0'}\n",
      "\n",
      "\n",
      "{'type': 'root', 'name': 'taproot', 'subType': '1'}\n",
      "{'name': 'lb', 'value': '1', 'dev': '0'}\n",
      "{'name': 'la', 'value': '2', 'dev': '0'}\n",
      "{'name': 'ln', 'value': '3', 'dev': '0'}\n",
      "{'name': 'lmax', 'value': '4.0999999999999996', 'dev': '0'}\n",
      "{'name': 'nob', 'value': '1.3666666666666665', 'dev': '0'}\n",
      "{'name': 'r', 'value': '4.5', 'dev': '0.45000000000000001'}\n",
      "{'name': 'a', 'value': '0.20000000000000001', 'dev': '0.02'}\n",
      "{'name': 'RotBeta', 'value': '1'}\n",
      "{'name': 'BetaDev', 'value': '0'}\n",
      "{'name': 'InitBeta', 'value': '0'}\n",
      "{'name': 'tropismT', 'value': '1'}\n",
      "{'name': 'tropismN', 'value': '1'}\n",
      "{'name': 'tropismS', 'value': '0.261799'}\n",
      "{'name': 'dx', 'value': '0.25'}\n",
      "{'name': 'theta', 'value': '0', 'dev': '0'}\n",
      "{'name': 'rlt', 'value': '1000000000', 'dev': '0'}\n",
      "{'name': 'gf', 'value': '1'}\n",
      "{'name': 'successor', 'number': '0', 'type': '2', 'percentage': '1'}\n",
      "\n",
      "\n",
      "{'type': 'root', 'name': 'lateral1', 'subType': '2'}\n",
      "{'name': 'lb', 'value': '0.10000000000000001', 'dev': '0'}\n",
      "{'name': 'la', 'value': '1.76', 'dev': '0'}\n",
      "{'name': 'ln', 'value': '0.10000000000000001', 'dev': '0'}\n",
      "{'name': 'lmax', 'value': '1.76', 'dev': '0'}\n",
      "{'name': 'nob', 'value': '0', 'dev': '0'}\n",
      "{'name': 'r', 'value': '0.34999999999999998', 'dev': '0.035000000000000003'}\n",
      "{'name': 'a', 'value': '0.012500000000000001', 'dev': '0.00125'}\n",
      "{'name': 'RotBeta', 'value': '1'}\n",
      "{'name': 'BetaDev', 'value': '1'}\n",
      "{'name': 'InitBeta', 'value': '0'}\n",
      "{'name': 'tropismT', 'value': '2'}\n",
      "{'name': 'tropismN', 'value': '2'}\n",
      "{'name': 'tropismS', 'value': '0.52359900000000004'}\n",
      "{'name': 'dx', 'value': '0.25'}\n",
      "{'name': 'theta', 'value': '1.22173', 'dev': '0'}\n",
      "{'name': 'rlt', 'value': '1000000000', 'dev': '0'}\n",
      "{'name': 'gf', 'value': '1'}\n",
      "\n",
      "\n",
      "{'type': 'stem', 'name': 'mainstem', 'subType': '1'}\n",
      "{'name': 'lb', 'value': '0.7', 'dev': '0'}\n",
      "{'name': 'la', 'value': '0', 'dev': '0'}\n",
      "{'name': 'ln', 'value': '0.7', 'dev': '0', 'functiontype': '0'}\n",
      "{'name': 'lmax', 'value': '2.1', 'dev': '0'}\n",
      "{'name': 'nob', 'value': '2.8999999999999999', 'dev': '0'}\n",
      "{'name': 'r', 'value': '10', 'dev': '0'}\n",
      "{'name': 'a', 'value': '0.20000000000000001', 'dev': '0.02'}\n",
      "{'name': 'RotBeta', 'value': '0'}\n",
      "{'name': 'BetaDev', 'value': '0'}\n",
      "{'name': 'InitBeta', 'value': '1'}\n",
      "{'name': 'tropismT', 'value': '0'}\n",
      "{'name': 'tropismN', 'value': '1'}\n",
      "{'name': 'tropismS', 'value': '0'}\n",
      "{'name': 'dx', 'value': '0.25'}\n",
      "{'name': 'theta', 'value': '0', 'dev': '0'}\n",
      "{'name': 'rlt', 'value': '1000000000', 'dev': '0'}\n",
      "{'name': 'gf', 'value': '1'}\n",
      "{'name': 'successor', 'number': '0', 'type': '2', 'percentage': '1'}\n",
      "\n",
      "\n",
      "{'type': 'stem', 'name': 'setleaf', 'subType': '2'}\n",
      "{'name': 'lb', 'value': '0', 'dev': '0'}\n",
      "{'name': 'la', 'value': '0', 'dev': '0'}\n",
      "{'name': 'ln', 'value': '0', 'dev': '0', 'functiontype': '0'}\n",
      "{'name': 'lmax', 'value': '15', 'dev': '0'}\n",
      "{'name': 'nob', 'value': '2.8999999999999999', 'dev': '0'}\n",
      "{'name': 'r', 'value': '10', 'dev': '0'}\n",
      "{'name': 'a', 'value': '0.20000000000000001', 'dev': '0.02'}\n",
      "{'name': 'RotBeta', 'value': '0'}\n",
      "{'name': 'BetaDev', 'value': '0'}\n",
      "{'name': 'InitBeta', 'value': '0'}\n",
      "{'name': 'tropismT', 'value': '0'}\n",
      "{'name': 'tropismN', 'value': '1'}\n",
      "{'name': 'tropismS', 'value': '0'}\n",
      "{'name': 'dx', 'value': '0.25'}\n",
      "{'name': 'theta', 'value': '0.2', 'dev': '0'}\n",
      "{'name': 'rlt', 'value': '1000000000', 'dev': '0'}\n",
      "{'name': 'gf', 'value': '1'}\n",
      "\n",
      "\n",
      "{'type': 'leaf', 'name': 'lateral1', 'subType': '2'}\n",
      "{'name': 'lb', 'value': '1', 'dev': '0'}\n",
      "{'name': 'la', 'value': '1', 'dev': '0'}\n",
      "{'name': 'ln', 'value': '0', 'dev': '0', 'functiontype': '0'}\n",
      "{'name': 'lmax', 'value': '2', 'dev': '0'}\n",
      "{'name': 'nob', 'value': '1', 'dev': '0'}\n",
      "{'name': 'r', 'value': '1.5', 'dev': '0'}\n",
      "{'name': 'a', 'value': '0.02', 'dev': '0.002'}\n",
      "{'name': 'RotBeta', 'value': '1'}\n",
      "{'name': 'BetaDev', 'value': '0'}\n",
      "{'name': 'InitBeta', 'value': '0'}\n",
      "{'name': 'tropismT', 'value': '1'}\n",
      "{'name': 'tropismN', 'value': '3'}\n",
      "{'name': 'tropismS', 'value': '0'}\n",
      "{'name': 'dx', 'value': '0.25'}\n",
      "{'name': 'theta', 'value': '0.3', 'dev': '0'}\n",
      "{'name': 'rlt', 'value': '1000000000', 'dev': '0'}\n",
      "{'name': 'gf', 'value': '1'}\n",
      "\n",
      "\n"
     ]
    }
   ],
   "source": [
    "name= \"PMA2018\" #name of the small plant\n",
    "all_parameter = ET.parse(\"../modelparameter/{}.xml\".format(name)) # read the parameter file from xml file\n",
    "plant_parameter = all_parameter.getroot() # get the first level of parameters\n",
    "parameter_options={}\n",
    "parameter_order = 0\n",
    "for organ in plant_parameter.iter('organ'): \n",
    "    list=[]\n",
    "    print(organ.attrib ) # print of parameters\n",
    "    \n",
    "    for parameter in organ.iter('parameter'): \n",
    "        \n",
    "        print(parameter.attrib)\n",
    "        \n",
    "        list.append(parameter.attrib['name']) \n",
    "        parameter_order = parameter_order+1\n",
    "    print(\"\\n\" )\n",
    "    parameter_options[organ.attrib['type']+organ.attrib['subType']] = list"
   ]
  },
  {
   "cell_type": "code",
   "execution_count": 28,
   "metadata": {},
   "outputs": [
    {
     "data": {
      "application/vnd.plotly.v1+json": {
       "config": {
        "plotlyServerURL": "https://plot.ly"
       },
       "data": [
        {
         "marker": {
          "color": [
           2,
           4,
           2,
           2,
           2,
           2,
           2,
           2,
           2,
           2,
           2,
           2,
           2,
           2,
           2,
           2,
           2,
           2,
           2,
           2,
           2,
           2,
           4,
           4,
           4,
           8,
           8,
           8,
           8,
           8,
           8,
           8,
           8,
           4,
           4,
           4,
           8,
           8,
           8,
           8,
           8,
           8,
           8,
           8,
           4,
           4,
           8,
           8,
           8,
           8,
           8,
           8,
           8,
           8,
           8
          ],
          "colorscale": [
           [
            0,
            "wheat"
           ],
           [
            0.5,
            "darkgreen"
           ],
           [
            1,
            "lightgreen"
           ]
          ],
          "opacity": 0.8,
          "size": 3
         },
         "mode": "markers",
         "type": "scatter3d",
         "x": [
          0,
          0,
          7.565407438847042e-05,
          0.0002167069860216643,
          0.00045994478416741465,
          0.0005436156072160318,
          0.00041912492792658853,
          -0.00025600843943892867,
          -0.0005910459267577217,
          -0.0009943865037968739,
          -0.0014926697812654521,
          -0.0019951865855292908,
          -0.002220148189889696,
          -0.0022500652988562235,
          0.000543647096471716,
          0.0005304003302807072,
          0.0004242781974270304,
          0.0004724786907577589,
          0.0005193266654018951,
          0.0001675659937144497,
          -0.0007734163181842213,
          -0.0015819426071994813,
          0,
          0,
          0,
          0.0020225424859373685,
          0.004045084971874737,
          0.006067627457812106,
          0.008090169943749474,
          0.010112712429686843,
          0.012135254915624212,
          0.01415779740156158,
          0.016180339887498948,
          0,
          0,
          0,
          -0.0020225424859373685,
          -0.004045084971874737,
          -0.006067627457812106,
          -0.008090169943749474,
          -0.010112712429686843,
          -0.012135254915624212,
          -0.01415779740156158,
          -0.016180339887498948,
          0,
          0,
          0,
          0.0020225424859373685,
          0.004045084971874737,
          0.006067627457812106,
          0.008090169943749474,
          0.010112712429686843,
          0.012135254915624212,
          0.01415779740156158,
          0.016180339887498948
         ],
         "y": [
          0,
          0,
          -4.352769408341075e-05,
          -0.000620925214903577,
          -0.0011245126845626703,
          -0.0016031571545981032,
          0.0006067575650293041,
          0.0028154595048295416,
          0.004958936220971418,
          0.007011774516047637,
          0.00900653129226636,
          0.011268292652849378,
          0.013145055807202037,
          0.013981357299505646,
          -0.0020608461895352255,
          -0.0024634772165943487,
          -0.0029537257983793218,
          -0.0038974991054789142,
          -0.004813554525207746,
          -0.005918663608806171,
          -0.0068779090653472204,
          -0.008025171969314094,
          0,
          0,
          0,
          -5.747660335814605e-17,
          -1.149532067162921e-16,
          -1.7242981007443816e-16,
          -2.299064134325842e-16,
          -2.873830167907303e-16,
          -3.448596201488763e-16,
          -4.0233622350702235e-16,
          -4.598128268651684e-16,
          0,
          0,
          0,
          7.928083644353488e-17,
          1.5856167288706977e-16,
          2.3784250933060466e-16,
          3.1712334577413953e-16,
          3.964041822176744e-16,
          4.756850186612092e-16,
          5.549658551047441e-16,
          6.34246691548279e-16,
          0,
          0,
          0,
          1.3883160162994007e-17,
          2.7766320325988014e-17,
          4.1649480488982024e-17,
          5.553264065197603e-17,
          6.941580081497003e-17,
          8.329896097796402e-17,
          9.718212114095803e-17,
          1.1106528130395206e-16
         ],
         "z": [
          -0.03,
          -0.03,
          -0.032498475895596395,
          -0.03492679139797052,
          -0.03736343561368105,
          -0.039815760768442315,
          -0.04097799095336446,
          -0.04193498138037634,
          -0.04317726051545377,
          -0.04454589900431133,
          -0.04596810123294292,
          -0.046907203149247054,
          -0.04854340372956349,
          -0.049257339847547106,
          -0.04227350785598138,
          -0.04474083693399972,
          -0.04718999891740882,
          -0.04950451153505621,
          -0.051830161494800187,
          -0.05404488457979349,
          -0.0561530592506401,
          -0.05822189299677648,
          -0.0275,
          -0.025,
          -0.023,
          -0.021530536869268816,
          -0.020061073738537633,
          -0.01859161060780645,
          -0.017122147477075265,
          -0.015652684346344082,
          -0.0141832212156129,
          -0.012713758084881717,
          -0.011244294954150533,
          -0.020499999999999997,
          -0.018,
          -0.016,
          -0.014530536869268815,
          -0.013061073738537633,
          -0.011591610607806451,
          -0.010122147477075268,
          -0.008652684346344084,
          -0.007183221215612901,
          -0.005713758084881717,
          -0.004244294954150534,
          -0.013499999999999998,
          -0.011,
          -0.009000000000000001,
          -0.0075305368692688175,
          -0.006061073738537636,
          -0.004591610607806453,
          -0.00312214747707527,
          -0.0016526843463440866,
          -0.00018322121561290317,
          0.0012862419151182802,
          0.0027557050458494638
         ]
        }
       ],
       "layout": {
        "autosize": true,
        "scene": {
         "aspectmode": "data",
         "aspectratio": {
          "x": 0.9206710099151798,
          "y": 0.6260923338917578,
          "z": 1.7348308862003798
         },
         "camera": {
          "center": {
           "x": 0,
           "y": 0,
           "z": 0
          },
          "eye": {
           "x": 0.22126045774650022,
           "y": 0.2212604577465002,
           "z": 0.2212604577465002
          },
          "projection": {
           "type": "perspective"
          },
          "up": {
           "x": 0,
           "y": 0,
           "z": 1
          }
         }
        },
        "template": {
         "data": {
          "bar": [
           {
            "error_x": {
             "color": "#2a3f5f"
            },
            "error_y": {
             "color": "#2a3f5f"
            },
            "marker": {
             "line": {
              "color": "#E5ECF6",
              "width": 0.5
             }
            },
            "type": "bar"
           }
          ],
          "barpolar": [
           {
            "marker": {
             "line": {
              "color": "#E5ECF6",
              "width": 0.5
             }
            },
            "type": "barpolar"
           }
          ],
          "carpet": [
           {
            "aaxis": {
             "endlinecolor": "#2a3f5f",
             "gridcolor": "white",
             "linecolor": "white",
             "minorgridcolor": "white",
             "startlinecolor": "#2a3f5f"
            },
            "baxis": {
             "endlinecolor": "#2a3f5f",
             "gridcolor": "white",
             "linecolor": "white",
             "minorgridcolor": "white",
             "startlinecolor": "#2a3f5f"
            },
            "type": "carpet"
           }
          ],
          "choropleth": [
           {
            "colorbar": {
             "outlinewidth": 0,
             "ticks": ""
            },
            "type": "choropleth"
           }
          ],
          "contour": [
           {
            "colorbar": {
             "outlinewidth": 0,
             "ticks": ""
            },
            "colorscale": [
             [
              0,
              "#0d0887"
             ],
             [
              0.1111111111111111,
              "#46039f"
             ],
             [
              0.2222222222222222,
              "#7201a8"
             ],
             [
              0.3333333333333333,
              "#9c179e"
             ],
             [
              0.4444444444444444,
              "#bd3786"
             ],
             [
              0.5555555555555556,
              "#d8576b"
             ],
             [
              0.6666666666666666,
              "#ed7953"
             ],
             [
              0.7777777777777778,
              "#fb9f3a"
             ],
             [
              0.8888888888888888,
              "#fdca26"
             ],
             [
              1,
              "#f0f921"
             ]
            ],
            "type": "contour"
           }
          ],
          "contourcarpet": [
           {
            "colorbar": {
             "outlinewidth": 0,
             "ticks": ""
            },
            "type": "contourcarpet"
           }
          ],
          "heatmap": [
           {
            "colorbar": {
             "outlinewidth": 0,
             "ticks": ""
            },
            "colorscale": [
             [
              0,
              "#0d0887"
             ],
             [
              0.1111111111111111,
              "#46039f"
             ],
             [
              0.2222222222222222,
              "#7201a8"
             ],
             [
              0.3333333333333333,
              "#9c179e"
             ],
             [
              0.4444444444444444,
              "#bd3786"
             ],
             [
              0.5555555555555556,
              "#d8576b"
             ],
             [
              0.6666666666666666,
              "#ed7953"
             ],
             [
              0.7777777777777778,
              "#fb9f3a"
             ],
             [
              0.8888888888888888,
              "#fdca26"
             ],
             [
              1,
              "#f0f921"
             ]
            ],
            "type": "heatmap"
           }
          ],
          "heatmapgl": [
           {
            "colorbar": {
             "outlinewidth": 0,
             "ticks": ""
            },
            "colorscale": [
             [
              0,
              "#0d0887"
             ],
             [
              0.1111111111111111,
              "#46039f"
             ],
             [
              0.2222222222222222,
              "#7201a8"
             ],
             [
              0.3333333333333333,
              "#9c179e"
             ],
             [
              0.4444444444444444,
              "#bd3786"
             ],
             [
              0.5555555555555556,
              "#d8576b"
             ],
             [
              0.6666666666666666,
              "#ed7953"
             ],
             [
              0.7777777777777778,
              "#fb9f3a"
             ],
             [
              0.8888888888888888,
              "#fdca26"
             ],
             [
              1,
              "#f0f921"
             ]
            ],
            "type": "heatmapgl"
           }
          ],
          "histogram": [
           {
            "marker": {
             "colorbar": {
              "outlinewidth": 0,
              "ticks": ""
             }
            },
            "type": "histogram"
           }
          ],
          "histogram2d": [
           {
            "colorbar": {
             "outlinewidth": 0,
             "ticks": ""
            },
            "colorscale": [
             [
              0,
              "#0d0887"
             ],
             [
              0.1111111111111111,
              "#46039f"
             ],
             [
              0.2222222222222222,
              "#7201a8"
             ],
             [
              0.3333333333333333,
              "#9c179e"
             ],
             [
              0.4444444444444444,
              "#bd3786"
             ],
             [
              0.5555555555555556,
              "#d8576b"
             ],
             [
              0.6666666666666666,
              "#ed7953"
             ],
             [
              0.7777777777777778,
              "#fb9f3a"
             ],
             [
              0.8888888888888888,
              "#fdca26"
             ],
             [
              1,
              "#f0f921"
             ]
            ],
            "type": "histogram2d"
           }
          ],
          "histogram2dcontour": [
           {
            "colorbar": {
             "outlinewidth": 0,
             "ticks": ""
            },
            "colorscale": [
             [
              0,
              "#0d0887"
             ],
             [
              0.1111111111111111,
              "#46039f"
             ],
             [
              0.2222222222222222,
              "#7201a8"
             ],
             [
              0.3333333333333333,
              "#9c179e"
             ],
             [
              0.4444444444444444,
              "#bd3786"
             ],
             [
              0.5555555555555556,
              "#d8576b"
             ],
             [
              0.6666666666666666,
              "#ed7953"
             ],
             [
              0.7777777777777778,
              "#fb9f3a"
             ],
             [
              0.8888888888888888,
              "#fdca26"
             ],
             [
              1,
              "#f0f921"
             ]
            ],
            "type": "histogram2dcontour"
           }
          ],
          "mesh3d": [
           {
            "colorbar": {
             "outlinewidth": 0,
             "ticks": ""
            },
            "type": "mesh3d"
           }
          ],
          "parcoords": [
           {
            "line": {
             "colorbar": {
              "outlinewidth": 0,
              "ticks": ""
             }
            },
            "type": "parcoords"
           }
          ],
          "scatter": [
           {
            "marker": {
             "colorbar": {
              "outlinewidth": 0,
              "ticks": ""
             }
            },
            "type": "scatter"
           }
          ],
          "scatter3d": [
           {
            "line": {
             "colorbar": {
              "outlinewidth": 0,
              "ticks": ""
             }
            },
            "marker": {
             "colorbar": {
              "outlinewidth": 0,
              "ticks": ""
             }
            },
            "type": "scatter3d"
           }
          ],
          "scattercarpet": [
           {
            "marker": {
             "colorbar": {
              "outlinewidth": 0,
              "ticks": ""
             }
            },
            "type": "scattercarpet"
           }
          ],
          "scattergeo": [
           {
            "marker": {
             "colorbar": {
              "outlinewidth": 0,
              "ticks": ""
             }
            },
            "type": "scattergeo"
           }
          ],
          "scattergl": [
           {
            "marker": {
             "colorbar": {
              "outlinewidth": 0,
              "ticks": ""
             }
            },
            "type": "scattergl"
           }
          ],
          "scattermapbox": [
           {
            "marker": {
             "colorbar": {
              "outlinewidth": 0,
              "ticks": ""
             }
            },
            "type": "scattermapbox"
           }
          ],
          "scatterpolar": [
           {
            "marker": {
             "colorbar": {
              "outlinewidth": 0,
              "ticks": ""
             }
            },
            "type": "scatterpolar"
           }
          ],
          "scatterpolargl": [
           {
            "marker": {
             "colorbar": {
              "outlinewidth": 0,
              "ticks": ""
             }
            },
            "type": "scatterpolargl"
           }
          ],
          "scatterternary": [
           {
            "marker": {
             "colorbar": {
              "outlinewidth": 0,
              "ticks": ""
             }
            },
            "type": "scatterternary"
           }
          ],
          "surface": [
           {
            "colorbar": {
             "outlinewidth": 0,
             "ticks": ""
            },
            "colorscale": [
             [
              0,
              "#0d0887"
             ],
             [
              0.1111111111111111,
              "#46039f"
             ],
             [
              0.2222222222222222,
              "#7201a8"
             ],
             [
              0.3333333333333333,
              "#9c179e"
             ],
             [
              0.4444444444444444,
              "#bd3786"
             ],
             [
              0.5555555555555556,
              "#d8576b"
             ],
             [
              0.6666666666666666,
              "#ed7953"
             ],
             [
              0.7777777777777778,
              "#fb9f3a"
             ],
             [
              0.8888888888888888,
              "#fdca26"
             ],
             [
              1,
              "#f0f921"
             ]
            ],
            "type": "surface"
           }
          ],
          "table": [
           {
            "cells": {
             "fill": {
              "color": "#EBF0F8"
             },
             "line": {
              "color": "white"
             }
            },
            "header": {
             "fill": {
              "color": "#C8D4E3"
             },
             "line": {
              "color": "white"
             }
            },
            "type": "table"
           }
          ]
         },
         "layout": {
          "annotationdefaults": {
           "arrowcolor": "#2a3f5f",
           "arrowhead": 0,
           "arrowwidth": 1
          },
          "colorscale": {
           "diverging": [
            [
             0,
             "#8e0152"
            ],
            [
             0.1,
             "#c51b7d"
            ],
            [
             0.2,
             "#de77ae"
            ],
            [
             0.3,
             "#f1b6da"
            ],
            [
             0.4,
             "#fde0ef"
            ],
            [
             0.5,
             "#f7f7f7"
            ],
            [
             0.6,
             "#e6f5d0"
            ],
            [
             0.7,
             "#b8e186"
            ],
            [
             0.8,
             "#7fbc41"
            ],
            [
             0.9,
             "#4d9221"
            ],
            [
             1,
             "#276419"
            ]
           ],
           "sequential": [
            [
             0,
             "#0d0887"
            ],
            [
             0.1111111111111111,
             "#46039f"
            ],
            [
             0.2222222222222222,
             "#7201a8"
            ],
            [
             0.3333333333333333,
             "#9c179e"
            ],
            [
             0.4444444444444444,
             "#bd3786"
            ],
            [
             0.5555555555555556,
             "#d8576b"
            ],
            [
             0.6666666666666666,
             "#ed7953"
            ],
            [
             0.7777777777777778,
             "#fb9f3a"
            ],
            [
             0.8888888888888888,
             "#fdca26"
            ],
            [
             1,
             "#f0f921"
            ]
           ],
           "sequentialminus": [
            [
             0,
             "#0d0887"
            ],
            [
             0.1111111111111111,
             "#46039f"
            ],
            [
             0.2222222222222222,
             "#7201a8"
            ],
            [
             0.3333333333333333,
             "#9c179e"
            ],
            [
             0.4444444444444444,
             "#bd3786"
            ],
            [
             0.5555555555555556,
             "#d8576b"
            ],
            [
             0.6666666666666666,
             "#ed7953"
            ],
            [
             0.7777777777777778,
             "#fb9f3a"
            ],
            [
             0.8888888888888888,
             "#fdca26"
            ],
            [
             1,
             "#f0f921"
            ]
           ]
          },
          "colorway": [
           "#636efa",
           "#EF553B",
           "#00cc96",
           "#ab63fa",
           "#FFA15A",
           "#19d3f3",
           "#FF6692",
           "#B6E880",
           "#FF97FF",
           "#FECB52"
          ],
          "font": {
           "color": "#2a3f5f"
          },
          "geo": {
           "bgcolor": "white",
           "lakecolor": "white",
           "landcolor": "#E5ECF6",
           "showlakes": true,
           "showland": true,
           "subunitcolor": "white"
          },
          "hoverlabel": {
           "align": "left"
          },
          "hovermode": "closest",
          "mapbox": {
           "style": "light"
          },
          "paper_bgcolor": "white",
          "plot_bgcolor": "#E5ECF6",
          "polar": {
           "angularaxis": {
            "gridcolor": "white",
            "linecolor": "white",
            "ticks": ""
           },
           "bgcolor": "#E5ECF6",
           "radialaxis": {
            "gridcolor": "white",
            "linecolor": "white",
            "ticks": ""
           }
          },
          "scene": {
           "xaxis": {
            "backgroundcolor": "#E5ECF6",
            "gridcolor": "white",
            "gridwidth": 2,
            "linecolor": "white",
            "showbackground": true,
            "ticks": "",
            "zerolinecolor": "white"
           },
           "yaxis": {
            "backgroundcolor": "#E5ECF6",
            "gridcolor": "white",
            "gridwidth": 2,
            "linecolor": "white",
            "showbackground": true,
            "ticks": "",
            "zerolinecolor": "white"
           },
           "zaxis": {
            "backgroundcolor": "#E5ECF6",
            "gridcolor": "white",
            "gridwidth": 2,
            "linecolor": "white",
            "showbackground": true,
            "ticks": "",
            "zerolinecolor": "white"
           }
          },
          "shapedefaults": {
           "line": {
            "color": "#2a3f5f"
           }
          },
          "ternary": {
           "aaxis": {
            "gridcolor": "white",
            "linecolor": "white",
            "ticks": ""
           },
           "baxis": {
            "gridcolor": "white",
            "linecolor": "white",
            "ticks": ""
           },
           "bgcolor": "#E5ECF6",
           "caxis": {
            "gridcolor": "white",
            "linecolor": "white",
            "ticks": ""
           }
          },
          "title": {
           "x": 0.05
          },
          "xaxis": {
           "automargin": true,
           "gridcolor": "white",
           "linecolor": "white",
           "ticks": "",
           "zerolinecolor": "white",
           "zerolinewidth": 2
          },
          "yaxis": {
           "automargin": true,
           "gridcolor": "white",
           "linecolor": "white",
           "ticks": "",
           "zerolinecolor": "white",
           "zerolinewidth": 2
          }
         }
        }
       }
      },
      "text/html": [
       "<div>\n",
       "        \n",
       "        \n",
       "            <div id=\"324213bf-dbbe-40f8-a57a-3b46c77d864b\" class=\"plotly-graph-div\" style=\"height:525px; width:100%;\"></div>\n",
       "            <script type=\"text/javascript\">\n",
       "                require([\"plotly\"], function(Plotly) {\n",
       "                    window.PLOTLYENV=window.PLOTLYENV || {};\n",
       "                    \n",
       "                if (document.getElementById(\"324213bf-dbbe-40f8-a57a-3b46c77d864b\")) {\n",
       "                    Plotly.newPlot(\n",
       "                        '324213bf-dbbe-40f8-a57a-3b46c77d864b',\n",
       "                        [{\"marker\": {\"color\": [2.0, 4.0, 2.0, 2.0, 2.0, 2.0, 2.0, 2.0, 2.0, 2.0, 2.0, 2.0, 2.0, 2.0, 2.0, 2.0, 2.0, 2.0, 2.0, 2.0, 2.0, 2.0, 4.0, 4.0, 4.0, 8.0, 8.0, 8.0, 8.0, 8.0, 8.0, 8.0, 8.0, 4.0, 4.0, 4.0, 8.0, 8.0, 8.0, 8.0, 8.0, 8.0, 8.0, 8.0, 4.0, 4.0, 8.0, 8.0, 8.0, 8.0, 8.0, 8.0, 8.0, 8.0, 8.0], \"colorscale\": [[0, \"wheat\"], [0.5, \"darkgreen\"], [1.0, \"lightgreen\"]], \"opacity\": 0.8, \"size\": 3}, \"mode\": \"markers\", \"type\": \"scatter3d\", \"x\": [0.0, 0.0, 7.565407438847042e-05, 0.0002167069860216643, 0.00045994478416741465, 0.0005436156072160318, 0.00041912492792658853, -0.00025600843943892867, -0.0005910459267577217, -0.0009943865037968739, -0.0014926697812654521, -0.0019951865855292908, -0.002220148189889696, -0.0022500652988562235, 0.000543647096471716, 0.0005304003302807072, 0.0004242781974270304, 0.0004724786907577589, 0.0005193266654018951, 0.0001675659937144497, -0.0007734163181842213, -0.0015819426071994813, 0.0, 0.0, 0.0, 0.0020225424859373685, 0.004045084971874737, 0.006067627457812106, 0.008090169943749474, 0.010112712429686843, 0.012135254915624212, 0.01415779740156158, 0.016180339887498948, 0.0, 0.0, 0.0, -0.0020225424859373685, -0.004045084971874737, -0.006067627457812106, -0.008090169943749474, -0.010112712429686843, -0.012135254915624212, -0.01415779740156158, -0.016180339887498948, 0.0, 0.0, 0.0, 0.0020225424859373685, 0.004045084971874737, 0.006067627457812106, 0.008090169943749474, 0.010112712429686843, 0.012135254915624212, 0.01415779740156158, 0.016180339887498948], \"y\": [0.0, 0.0, -4.352769408341075e-05, -0.000620925214903577, -0.0011245126845626703, -0.0016031571545981032, 0.0006067575650293041, 0.0028154595048295416, 0.004958936220971418, 0.007011774516047637, 0.00900653129226636, 0.011268292652849378, 0.013145055807202037, 0.013981357299505646, -0.0020608461895352255, -0.0024634772165943487, -0.0029537257983793218, -0.0038974991054789142, -0.004813554525207746, -0.005918663608806171, -0.0068779090653472204, -0.008025171969314094, 0.0, 0.0, 0.0, -5.747660335814605e-17, -1.149532067162921e-16, -1.7242981007443816e-16, -2.299064134325842e-16, -2.873830167907303e-16, -3.448596201488763e-16, -4.0233622350702235e-16, -4.598128268651684e-16, 0.0, 0.0, 0.0, 7.928083644353488e-17, 1.5856167288706977e-16, 2.3784250933060466e-16, 3.1712334577413953e-16, 3.964041822176744e-16, 4.756850186612092e-16, 5.549658551047441e-16, 6.34246691548279e-16, 0.0, 0.0, 0.0, 1.3883160162994007e-17, 2.7766320325988014e-17, 4.1649480488982024e-17, 5.553264065197603e-17, 6.941580081497003e-17, 8.329896097796402e-17, 9.718212114095803e-17, 1.1106528130395206e-16], \"z\": [-0.03, -0.03, -0.032498475895596395, -0.03492679139797052, -0.03736343561368105, -0.039815760768442315, -0.04097799095336446, -0.04193498138037634, -0.04317726051545377, -0.04454589900431133, -0.04596810123294292, -0.046907203149247054, -0.04854340372956349, -0.049257339847547106, -0.04227350785598138, -0.04474083693399972, -0.04718999891740882, -0.04950451153505621, -0.051830161494800187, -0.05404488457979349, -0.0561530592506401, -0.05822189299677648, -0.0275, -0.025, -0.023, -0.021530536869268816, -0.020061073738537633, -0.01859161060780645, -0.017122147477075265, -0.015652684346344082, -0.0141832212156129, -0.012713758084881717, -0.011244294954150533, -0.020499999999999997, -0.018, -0.016, -0.014530536869268815, -0.013061073738537633, -0.011591610607806451, -0.010122147477075268, -0.008652684346344084, -0.007183221215612901, -0.005713758084881717, -0.004244294954150534, -0.013499999999999998, -0.011, -0.009000000000000001, -0.0075305368692688175, -0.006061073738537636, -0.004591610607806453, -0.00312214747707527, -0.0016526843463440866, -0.00018322121561290317, 0.0012862419151182802, 0.0027557050458494638]}],\n",
       "                        {\"scene\": {\"aspectmode\": \"data\"}, \"template\": {\"data\": {\"bar\": [{\"error_x\": {\"color\": \"#2a3f5f\"}, \"error_y\": {\"color\": \"#2a3f5f\"}, \"marker\": {\"line\": {\"color\": \"#E5ECF6\", \"width\": 0.5}}, \"type\": \"bar\"}], \"barpolar\": [{\"marker\": {\"line\": {\"color\": \"#E5ECF6\", \"width\": 0.5}}, \"type\": \"barpolar\"}], \"carpet\": [{\"aaxis\": {\"endlinecolor\": \"#2a3f5f\", \"gridcolor\": \"white\", \"linecolor\": \"white\", \"minorgridcolor\": \"white\", \"startlinecolor\": \"#2a3f5f\"}, \"baxis\": {\"endlinecolor\": \"#2a3f5f\", \"gridcolor\": \"white\", \"linecolor\": \"white\", \"minorgridcolor\": \"white\", \"startlinecolor\": \"#2a3f5f\"}, \"type\": \"carpet\"}], \"choropleth\": [{\"colorbar\": {\"outlinewidth\": 0, \"ticks\": \"\"}, \"type\": \"choropleth\"}], \"contour\": [{\"colorbar\": {\"outlinewidth\": 0, \"ticks\": \"\"}, \"colorscale\": [[0.0, \"#0d0887\"], [0.1111111111111111, \"#46039f\"], [0.2222222222222222, \"#7201a8\"], [0.3333333333333333, \"#9c179e\"], [0.4444444444444444, \"#bd3786\"], [0.5555555555555556, \"#d8576b\"], [0.6666666666666666, \"#ed7953\"], [0.7777777777777778, \"#fb9f3a\"], [0.8888888888888888, \"#fdca26\"], [1.0, \"#f0f921\"]], \"type\": \"contour\"}], \"contourcarpet\": [{\"colorbar\": {\"outlinewidth\": 0, \"ticks\": \"\"}, \"type\": \"contourcarpet\"}], \"heatmap\": [{\"colorbar\": {\"outlinewidth\": 0, \"ticks\": \"\"}, \"colorscale\": [[0.0, \"#0d0887\"], [0.1111111111111111, \"#46039f\"], [0.2222222222222222, \"#7201a8\"], [0.3333333333333333, \"#9c179e\"], [0.4444444444444444, \"#bd3786\"], [0.5555555555555556, \"#d8576b\"], [0.6666666666666666, \"#ed7953\"], [0.7777777777777778, \"#fb9f3a\"], [0.8888888888888888, \"#fdca26\"], [1.0, \"#f0f921\"]], \"type\": \"heatmap\"}], \"heatmapgl\": [{\"colorbar\": {\"outlinewidth\": 0, \"ticks\": \"\"}, \"colorscale\": [[0.0, \"#0d0887\"], [0.1111111111111111, \"#46039f\"], [0.2222222222222222, \"#7201a8\"], [0.3333333333333333, \"#9c179e\"], [0.4444444444444444, \"#bd3786\"], [0.5555555555555556, \"#d8576b\"], [0.6666666666666666, \"#ed7953\"], [0.7777777777777778, \"#fb9f3a\"], [0.8888888888888888, \"#fdca26\"], [1.0, \"#f0f921\"]], \"type\": \"heatmapgl\"}], \"histogram\": [{\"marker\": {\"colorbar\": {\"outlinewidth\": 0, \"ticks\": \"\"}}, \"type\": \"histogram\"}], \"histogram2d\": [{\"colorbar\": {\"outlinewidth\": 0, \"ticks\": \"\"}, \"colorscale\": [[0.0, \"#0d0887\"], [0.1111111111111111, \"#46039f\"], [0.2222222222222222, \"#7201a8\"], [0.3333333333333333, \"#9c179e\"], [0.4444444444444444, \"#bd3786\"], [0.5555555555555556, \"#d8576b\"], [0.6666666666666666, \"#ed7953\"], [0.7777777777777778, \"#fb9f3a\"], [0.8888888888888888, \"#fdca26\"], [1.0, \"#f0f921\"]], \"type\": \"histogram2d\"}], \"histogram2dcontour\": [{\"colorbar\": {\"outlinewidth\": 0, \"ticks\": \"\"}, \"colorscale\": [[0.0, \"#0d0887\"], [0.1111111111111111, \"#46039f\"], [0.2222222222222222, \"#7201a8\"], [0.3333333333333333, \"#9c179e\"], [0.4444444444444444, \"#bd3786\"], [0.5555555555555556, \"#d8576b\"], [0.6666666666666666, \"#ed7953\"], [0.7777777777777778, \"#fb9f3a\"], [0.8888888888888888, \"#fdca26\"], [1.0, \"#f0f921\"]], \"type\": \"histogram2dcontour\"}], \"mesh3d\": [{\"colorbar\": {\"outlinewidth\": 0, \"ticks\": \"\"}, \"type\": \"mesh3d\"}], \"parcoords\": [{\"line\": {\"colorbar\": {\"outlinewidth\": 0, \"ticks\": \"\"}}, \"type\": \"parcoords\"}], \"scatter\": [{\"marker\": {\"colorbar\": {\"outlinewidth\": 0, \"ticks\": \"\"}}, \"type\": \"scatter\"}], \"scatter3d\": [{\"line\": {\"colorbar\": {\"outlinewidth\": 0, \"ticks\": \"\"}}, \"marker\": {\"colorbar\": {\"outlinewidth\": 0, \"ticks\": \"\"}}, \"type\": \"scatter3d\"}], \"scattercarpet\": [{\"marker\": {\"colorbar\": {\"outlinewidth\": 0, \"ticks\": \"\"}}, \"type\": \"scattercarpet\"}], \"scattergeo\": [{\"marker\": {\"colorbar\": {\"outlinewidth\": 0, \"ticks\": \"\"}}, \"type\": \"scattergeo\"}], \"scattergl\": [{\"marker\": {\"colorbar\": {\"outlinewidth\": 0, \"ticks\": \"\"}}, \"type\": \"scattergl\"}], \"scattermapbox\": [{\"marker\": {\"colorbar\": {\"outlinewidth\": 0, \"ticks\": \"\"}}, \"type\": \"scattermapbox\"}], \"scatterpolar\": [{\"marker\": {\"colorbar\": {\"outlinewidth\": 0, \"ticks\": \"\"}}, \"type\": \"scatterpolar\"}], \"scatterpolargl\": [{\"marker\": {\"colorbar\": {\"outlinewidth\": 0, \"ticks\": \"\"}}, \"type\": \"scatterpolargl\"}], \"scatterternary\": [{\"marker\": {\"colorbar\": {\"outlinewidth\": 0, \"ticks\": \"\"}}, \"type\": \"scatterternary\"}], \"surface\": [{\"colorbar\": {\"outlinewidth\": 0, \"ticks\": \"\"}, \"colorscale\": [[0.0, \"#0d0887\"], [0.1111111111111111, \"#46039f\"], [0.2222222222222222, \"#7201a8\"], [0.3333333333333333, \"#9c179e\"], [0.4444444444444444, \"#bd3786\"], [0.5555555555555556, \"#d8576b\"], [0.6666666666666666, \"#ed7953\"], [0.7777777777777778, \"#fb9f3a\"], [0.8888888888888888, \"#fdca26\"], [1.0, \"#f0f921\"]], \"type\": \"surface\"}], \"table\": [{\"cells\": {\"fill\": {\"color\": \"#EBF0F8\"}, \"line\": {\"color\": \"white\"}}, \"header\": {\"fill\": {\"color\": \"#C8D4E3\"}, \"line\": {\"color\": \"white\"}}, \"type\": \"table\"}]}, \"layout\": {\"annotationdefaults\": {\"arrowcolor\": \"#2a3f5f\", \"arrowhead\": 0, \"arrowwidth\": 1}, \"colorscale\": {\"diverging\": [[0, \"#8e0152\"], [0.1, \"#c51b7d\"], [0.2, \"#de77ae\"], [0.3, \"#f1b6da\"], [0.4, \"#fde0ef\"], [0.5, \"#f7f7f7\"], [0.6, \"#e6f5d0\"], [0.7, \"#b8e186\"], [0.8, \"#7fbc41\"], [0.9, \"#4d9221\"], [1, \"#276419\"]], \"sequential\": [[0.0, \"#0d0887\"], [0.1111111111111111, \"#46039f\"], [0.2222222222222222, \"#7201a8\"], [0.3333333333333333, \"#9c179e\"], [0.4444444444444444, \"#bd3786\"], [0.5555555555555556, \"#d8576b\"], [0.6666666666666666, \"#ed7953\"], [0.7777777777777778, \"#fb9f3a\"], [0.8888888888888888, \"#fdca26\"], [1.0, \"#f0f921\"]], \"sequentialminus\": [[0.0, \"#0d0887\"], [0.1111111111111111, \"#46039f\"], [0.2222222222222222, \"#7201a8\"], [0.3333333333333333, \"#9c179e\"], [0.4444444444444444, \"#bd3786\"], [0.5555555555555556, \"#d8576b\"], [0.6666666666666666, \"#ed7953\"], [0.7777777777777778, \"#fb9f3a\"], [0.8888888888888888, \"#fdca26\"], [1.0, \"#f0f921\"]]}, \"colorway\": [\"#636efa\", \"#EF553B\", \"#00cc96\", \"#ab63fa\", \"#FFA15A\", \"#19d3f3\", \"#FF6692\", \"#B6E880\", \"#FF97FF\", \"#FECB52\"], \"font\": {\"color\": \"#2a3f5f\"}, \"geo\": {\"bgcolor\": \"white\", \"lakecolor\": \"white\", \"landcolor\": \"#E5ECF6\", \"showlakes\": true, \"showland\": true, \"subunitcolor\": \"white\"}, \"hoverlabel\": {\"align\": \"left\"}, \"hovermode\": \"closest\", \"mapbox\": {\"style\": \"light\"}, \"paper_bgcolor\": \"white\", \"plot_bgcolor\": \"#E5ECF6\", \"polar\": {\"angularaxis\": {\"gridcolor\": \"white\", \"linecolor\": \"white\", \"ticks\": \"\"}, \"bgcolor\": \"#E5ECF6\", \"radialaxis\": {\"gridcolor\": \"white\", \"linecolor\": \"white\", \"ticks\": \"\"}}, \"scene\": {\"xaxis\": {\"backgroundcolor\": \"#E5ECF6\", \"gridcolor\": \"white\", \"gridwidth\": 2, \"linecolor\": \"white\", \"showbackground\": true, \"ticks\": \"\", \"zerolinecolor\": \"white\"}, \"yaxis\": {\"backgroundcolor\": \"#E5ECF6\", \"gridcolor\": \"white\", \"gridwidth\": 2, \"linecolor\": \"white\", \"showbackground\": true, \"ticks\": \"\", \"zerolinecolor\": \"white\"}, \"zaxis\": {\"backgroundcolor\": \"#E5ECF6\", \"gridcolor\": \"white\", \"gridwidth\": 2, \"linecolor\": \"white\", \"showbackground\": true, \"ticks\": \"\", \"zerolinecolor\": \"white\"}}, \"shapedefaults\": {\"line\": {\"color\": \"#2a3f5f\"}}, \"ternary\": {\"aaxis\": {\"gridcolor\": \"white\", \"linecolor\": \"white\", \"ticks\": \"\"}, \"baxis\": {\"gridcolor\": \"white\", \"linecolor\": \"white\", \"ticks\": \"\"}, \"bgcolor\": \"#E5ECF6\", \"caxis\": {\"gridcolor\": \"white\", \"linecolor\": \"white\", \"ticks\": \"\"}}, \"title\": {\"x\": 0.05}, \"xaxis\": {\"automargin\": true, \"gridcolor\": \"white\", \"linecolor\": \"white\", \"ticks\": \"\", \"zerolinecolor\": \"white\", \"zerolinewidth\": 2}, \"yaxis\": {\"automargin\": true, \"gridcolor\": \"white\", \"linecolor\": \"white\", \"ticks\": \"\", \"zerolinecolor\": \"white\", \"zerolinewidth\": 2}}}},\n",
       "                        {\"responsive\": true}\n",
       "                    ).then(function(){\n",
       "                            \n",
       "var gd = document.getElementById('324213bf-dbbe-40f8-a57a-3b46c77d864b');\n",
       "var x = new MutationObserver(function (mutations, observer) {{\n",
       "        var display = window.getComputedStyle(gd).display;\n",
       "        if (!display || display === 'none') {{\n",
       "            console.log([gd, 'removed!']);\n",
       "            Plotly.purge(gd);\n",
       "            observer.disconnect();\n",
       "        }}\n",
       "}});\n",
       "\n",
       "// Listen for the removal of the full notebook cells\n",
       "var notebookContainer = gd.closest('#notebook-container');\n",
       "if (notebookContainer) {{\n",
       "    x.observe(notebookContainer, {childList: true});\n",
       "}}\n",
       "\n",
       "// Listen for the clearing of the current output cell\n",
       "var outputEl = gd.closest('.output');\n",
       "if (outputEl) {{\n",
       "    x.observe(outputEl, {childList: true});\n",
       "}}\n",
       "\n",
       "                        })\n",
       "                };\n",
       "                });\n",
       "            </script>\n",
       "        </div>"
      ]
     },
     "metadata": {},
     "output_type": "display_data"
    }
   ],
   "source": [
    "# here we show what is the plant simulated based on those parameters\n",
    "smallplant = CPlantBox(name, time, name) # make a plant object in python\n",
    "fig = visual_plant(smallplant)    \n",
    "fig.show()"
   ]
  },
  {
   "cell_type": "markdown",
   "metadata": {},
   "source": [
    "## 5. Change the length of the Stem\n",
    "### 5.1 lmax: the maximal length\n",
    "Length is controled by six parameters, among them, the maximal length is controled by lmax. if we only change the lmax, the growth will only depends on the time. Lets see what will happend if we only change the lmax of the main stem:"
   ]
  },
  {
   "cell_type": "code",
   "execution_count": 59,
   "metadata": {},
   "outputs": [
    {
     "name": "stdout",
     "output_type": "stream",
     "text": [
      "original lmax of stem organ with subtype 1 is 2.1, changed to 10\n"
     ]
    },
    {
     "data": {
      "application/vnd.plotly.v1+json": {
       "config": {
        "plotlyServerURL": "https://plot.ly"
       },
       "data": [
        {
         "marker": {
          "color": [
           2,
           4,
           2,
           2,
           2,
           2,
           2,
           2,
           2,
           2,
           2,
           2,
           2,
           2,
           2,
           4,
           4,
           4,
           8,
           8,
           8,
           8,
           8,
           8,
           8,
           8,
           4,
           4,
           4,
           8,
           8,
           8,
           8,
           8,
           8,
           8,
           8,
           4,
           4,
           4,
           8,
           8,
           8,
           8,
           8,
           8,
           8,
           8,
           4,
           4,
           4,
           8,
           8,
           8,
           8,
           8,
           8,
           8,
           8,
           4,
           4,
           4,
           8,
           8,
           8,
           8,
           8,
           8,
           8,
           8,
           4,
           4,
           4,
           8,
           8,
           8,
           8,
           8,
           8,
           8,
           8,
           4,
           4,
           4,
           8,
           8,
           8,
           8,
           8,
           8,
           8,
           8,
           4,
           4,
           4,
           8,
           8,
           8,
           8,
           8,
           8,
           8,
           8,
           4,
           4,
           4,
           8,
           8,
           8,
           8,
           8,
           8,
           8,
           8,
           4,
           4,
           4,
           8,
           8,
           8,
           8,
           8,
           8,
           8,
           8,
           4,
           4,
           4,
           8,
           8,
           8,
           8,
           8,
           8,
           8,
           8,
           4,
           4,
           4,
           8,
           8,
           8,
           8,
           8,
           8,
           8,
           8,
           4,
           4,
           4,
           8,
           8,
           8,
           8,
           8,
           8,
           8,
           4,
           4,
           4,
           8,
           8,
           8,
           8,
           8,
           4
          ],
          "colorscale": [
           [
            0,
            "wheat"
           ],
           [
            0.5,
            "darkgreen"
           ],
           [
            1,
            "lightgreen"
           ]
          ],
          "opacity": 0.8,
          "size": 3
         },
         "mode": "markers",
         "type": "scatter3d",
         "x": [
          0,
          0,
          3.0038760050110705e-05,
          -4.425367990542393e-05,
          -3.7991816823244327e-05,
          3.2594606059132248e-06,
          -0.0009700294681793773,
          6.382172994945674e-05,
          0.00015551267895903896,
          0.0002410043509999373,
          0.00033505599251377777,
          0.0004278542426795284,
          0.0006314733511220219,
          0.0009176950377997199,
          0.0013332573415982237,
          0,
          0,
          0,
          0.0020225424859373685,
          0.004045084971874737,
          0.006067627457812106,
          0.008090169943749474,
          0.010112712429686843,
          0.012135254915624212,
          0.01415779740156158,
          0.015778529535277454,
          0,
          0,
          0,
          -0.0020225424859373685,
          -0.004045084971874737,
          -0.006067627457812106,
          -0.008090169943749474,
          -0.010112712429686843,
          -0.012135254915624212,
          -0.01415779740156158,
          -0.015754241888531924,
          0,
          0,
          0,
          0.0020225424859373685,
          0.004045084971874737,
          0.006067627457812106,
          0.008090169943749474,
          0.010112712429686843,
          0.012135254915624212,
          0.01415779740156158,
          0.015726227849569487,
          0,
          0,
          0,
          -0.0020225424859373685,
          -0.004045084971874737,
          -0.006067627457812106,
          -0.008090169943749474,
          -0.010112712429686843,
          -0.012135254915624212,
          -0.01415779740156158,
          -0.015693502457881536,
          0,
          0,
          0,
          0.0020225424859373685,
          0.004045084971874737,
          0.006067627457812106,
          0.008090169943749474,
          0.010112712429686843,
          0.012135254915624212,
          0.01415779740156158,
          0.01565468789418659,
          0,
          0,
          0,
          -0.0020225424859373685,
          -0.004045084971874737,
          -0.006067627457812106,
          -0.008090169943749474,
          -0.010112712429686843,
          -0.012135254915624212,
          -0.01415779740156158,
          -0.015607791312712858,
          0,
          0,
          0,
          0.0020225424859373685,
          0.004045084971874737,
          0.006067627457812106,
          0.008090169943749474,
          0.010112712429686843,
          0.012135254915624212,
          0.01415779740156158,
          0.015549809965416123,
          0,
          0,
          0,
          -0.0020225424859373685,
          -0.004045084971874737,
          -0.006067627457812106,
          -0.008090169943749474,
          -0.010112712429686843,
          -0.012135254915624212,
          -0.01415779740156158,
          -0.015475981280724764,
          0,
          0,
          0,
          0.0020225424859373685,
          0.004045084971874737,
          0.006067627457812106,
          0.008090169943749474,
          0.010112712429686843,
          0.012135254915624212,
          0.01415779740156158,
          0.015378233379497192,
          0,
          0,
          0,
          -0.0020225424859373685,
          -0.004045084971874737,
          -0.006067627457812106,
          -0.008090169943749474,
          -0.010112712429686843,
          -0.012135254915624212,
          -0.01415779740156158,
          -0.015241606224233517,
          0,
          0,
          0,
          0.0020225424859373685,
          0.004045084971874737,
          0.006067627457812106,
          0.008090169943749474,
          0.010112712429686843,
          0.012135254915624212,
          0.01415779740156158,
          0.015034596245029497,
          0,
          0,
          0,
          -0.0020225424859373685,
          -0.004045084971874737,
          -0.006067627457812106,
          -0.008090169943749474,
          -0.010112712429686843,
          -0.012135254915624212,
          -0.01415779740156158,
          -0.01467618227457374,
          0,
          0,
          0,
          0.0020225424859373685,
          0.004045084971874737,
          0.006067627457812106,
          0.008090169943749474,
          0.010112712429686843,
          0.012135254915624212,
          0.013864537746896298,
          0,
          0,
          0,
          -0.0020225424859373685,
          -0.004045084971874737,
          -0.006067627457812106,
          -0.008090169943749474,
          -0.009025320145994305,
          0
         ],
         "y": [
          0,
          0,
          0.0003825580009812756,
          0.0007502921564025447,
          0.0011046289446108094,
          0.0015347329370903476,
          0.0010949879697642127,
          0.0018279738875590131,
          0.002042012397820505,
          0.0022550221433721156,
          0.0024658984331952117,
          0.002677918325752291,
          0.002955733231622876,
          0.0030469769705049974,
          0.003183272953740578,
          0,
          0,
          0,
          -7.331874920293572e-17,
          -1.4663749840587144e-16,
          -2.1995624760880715e-16,
          -2.932749968117429e-16,
          -3.6659374601467857e-16,
          -4.399124952176143e-16,
          -5.1323124442055e-16,
          -5.719840536511458e-16,
          0,
          0,
          0,
          9.512298228832457e-17,
          1.9024596457664914e-16,
          2.853689468649737e-16,
          3.8049192915329823e-16,
          4.7561491144162275e-16,
          5.707378937299474e-16,
          6.65860876018272e-16,
          7.409438775938818e-16,
          0,
          0,
          0,
          -1.1692721537371345e-16,
          -2.338544307474269e-16,
          -3.5078164612114036e-16,
          -4.677088614948538e-16,
          -5.846360768685673e-16,
          -7.015632922422808e-16,
          -8.184905076159943e-16,
          -9.091646002830343e-16,
          0,
          0,
          0,
          1.387314484591023e-16,
          2.774628969182046e-16,
          4.1619434537730687e-16,
          5.549257938364092e-16,
          6.936572422955115e-16,
          8.323886907546137e-16,
          9.71120139213716e-16,
          1.0764581424203553e-15,
          0,
          0,
          0,
          -1.6053568154449115e-16,
          -3.210713630889823e-16,
          -4.816070446334734e-16,
          -6.421427261779646e-16,
          -8.026784077224557e-16,
          -9.632140892669468e-16,
          -1.123749770811438e-15,
          -1.242562768363701e-15,
          0,
          0,
          0,
          -4.7596544753955515e-17,
          -9.519308950791103e-17,
          -1.4278963426186654e-16,
          -1.9038617901582209e-16,
          -2.379827237697776e-16,
          -2.855792685237332e-16,
          -3.331758132776887e-16,
          -3.672985575784539e-16,
          0,
          0,
          0,
          2.579231166856667e-17,
          5.158462333713334e-17,
          7.737693500570001e-17,
          1.031692466742667e-16,
          1.2896155834283338e-16,
          1.5475387001140007e-16,
          1.8054618167996676e-16,
          1.9829771082861514e-16,
          0,
          0,
          0,
          -3.988078583177817e-18,
          -7.976157166355633e-18,
          -1.196423574953345e-17,
          -1.5952314332711267e-17,
          -1.9940392915889084e-17,
          -2.39284714990669e-17,
          -2.7916550082244713e-17,
          -3.051576415746575e-17,
          0,
          0,
          0,
          -1.7816154502211036e-17,
          -3.563230900442207e-17,
          -5.3448463506633105e-17,
          -7.126461800884414e-17,
          -8.908077251105516e-17,
          -1.068969270132662e-16,
          -1.2471308151547723e-16,
          -1.3546364724852812e-16,
          0,
          0,
          0,
          3.962038758759989e-17,
          7.924077517519979e-17,
          1.1886116276279968e-16,
          1.584815503503996e-16,
          1.981019379379995e-16,
          2.377223255255994e-16,
          2.773427131131993e-16,
          2.9857387434896496e-16,
          0,
          0,
          0,
          -6.142462067298873e-17,
          -1.2284924134597746e-16,
          -1.8427386201896618e-16,
          -2.4569848269195486e-16,
          -3.0712310336494356e-16,
          -3.685477240379323e-16,
          -4.29972344710921e-16,
          -4.566007279172058e-16,
          0,
          0,
          0,
          8.322885375837757e-17,
          1.6645770751675515e-16,
          2.496865612751327e-16,
          3.3291541503351025e-16,
          4.161442687918878e-16,
          4.993731225502653e-16,
          5.826019763086429e-16,
          6.039338292049187e-16,
          0,
          0,
          0,
          -1.0503308684376643e-16,
          -2.1006617368753287e-16,
          -3.150992605312993e-16,
          -4.201323473750658e-16,
          -5.251654342188323e-16,
          -6.301985210625987e-16,
          -7.200022779959202e-16,
          0,
          0,
          0,
          1.268373199291553e-16,
          2.536746398583106e-16,
          3.805119597874659e-16,
          5.073492797166212e-16,
          5.65994250691839e-16,
          0
         ],
         "z": [
          -0.03,
          -0.03,
          -0.03247037386821911,
          -0.03494206402361927,
          -0.037416817795127254,
          -0.039879196500315316,
          -0.040350632544134714,
          -0.04236120011765761,
          -0.04485033255406889,
          -0.04733977386133277,
          -0.04982908812014362,
          -0.05231835227846957,
          -0.054794510217041584,
          -0.05727639492955145,
          -0.059719766778465445,
          -0.0275,
          -0.025,
          -0.023,
          -0.021530536869268816,
          -0.020061073738537633,
          -0.01859161060780645,
          -0.017122147477075265,
          -0.015652684346344082,
          -0.0141832212156129,
          -0.012713758084881717,
          -0.011536227263232264,
          -0.020499999999999997,
          -0.018,
          -0.016,
          -0.014530536869268815,
          -0.013061073738537633,
          -0.011591610607806451,
          -0.010122147477075268,
          -0.008652684346344084,
          -0.007183221215612901,
          -0.005713758084881717,
          -0.0045538732714980636,
          -0.013499999999999998,
          -0.011,
          -0.009000000000000001,
          -0.0075305368692688175,
          -0.006061073738537636,
          -0.004591610607806453,
          -0.00312214747707527,
          -0.0016526843463440866,
          -0.00018322121561290317,
          0.0012862419151182802,
          0.002425773337814525,
          -0.0065000000000000014,
          -0.004000000000000001,
          -0.0019999999999999996,
          -0.0005305368692688167,
          0.0009389262614623662,
          0.002408389392193549,
          0.003877852522924732,
          0.005347315653655915,
          0.006816778784387099,
          0.008286241915118281,
          0.009401996949007597,
          0.0005000000000000004,
          0.0030000000000000005,
          0.005000000000000002,
          0.006469463130731185,
          0.007938926261462368,
          0.00940838939219355,
          0.010877852522924733,
          0.012347315653655917,
          0.0138167787843871,
          0.015286241915118284,
          0.016373796517777248,
          0.007500000000000002,
          0.010000000000000002,
          0.012000000000000004,
          0.013469463130731187,
          0.014938926261462369,
          0.01640838939219355,
          0.017877852522924734,
          0.019347315653655918,
          0.0208167787843871,
          0.022286241915118285,
          0.02333972415691852,
          0.014500000000000004,
          0.017000000000000005,
          0.019000000000000006,
          0.020469463130731187,
          0.02193892626146237,
          0.023408389392193554,
          0.024877852522924737,
          0.02634731565365592,
          0.027816778784387104,
          0.029286241915118288,
          0.030297598242276392,
          0.021500000000000005,
          0.024000000000000004,
          0.026000000000000006,
          0.02746946313073119,
          0.028938926261462373,
          0.030408389392193556,
          0.031877852522924736,
          0.03334731565365592,
          0.034816778784387103,
          0.03628624191511829,
          0.03724395856306142,
          0.028500000000000004,
          0.031000000000000007,
          0.03300000000000001,
          0.03446946313073119,
          0.035938926261462376,
          0.037408389392193556,
          0.03887785252292474,
          0.04034731565365592,
          0.04181677878438711,
          0.04328624191511829,
          0.044172940555796326,
          0.035500000000000004,
          0.038000000000000006,
          0.04000000000000001,
          0.041469463130731195,
          0.042938926261462375,
          0.04440838939219356,
          0.04587785252292474,
          0.04734731565365593,
          0.04881677878438711,
          0.050286241915118296,
          0.051073675117016874,
          0.04250000000000001,
          0.04500000000000001,
          0.047000000000000014,
          0.048469463130731194,
          0.049938926261462374,
          0.05140838939219356,
          0.05287785252292474,
          0.05434731565365593,
          0.05581677878438711,
          0.057286241915118295,
          0.057923273563403654,
          0.04950000000000001,
          0.05200000000000001,
          0.054000000000000006,
          0.055469463130731186,
          0.05693892626146237,
          0.05840838939219355,
          0.05987785252292474,
          0.06134731565365592,
          0.0628167787843871,
          0.06428624191511828,
          0.06466287057123628,
          0.0565,
          0.059000000000000004,
          0.061,
          0.06246946313073118,
          0.06393892626146236,
          0.06540838939219355,
          0.06687785252292473,
          0.06834731565365591,
          0.06981677878438709,
          0.07107317630425579,
          0.0635,
          0.066,
          0.06799999999999999,
          0.06946946313073117,
          0.07093892626146235,
          0.07240838939219355,
          0.07387785252292473,
          0.0745572789149284,
          0.06932620530009148
         ]
        }
       ],
       "layout": {
        "autosize": true,
        "scene": {
         "aspectmode": "data",
         "aspectratio": {
          "x": 1.3250010105574714,
          "y": 0.1337605192990878,
          "z": 5.642295719813548
         }
        },
        "template": {
         "data": {
          "bar": [
           {
            "error_x": {
             "color": "#2a3f5f"
            },
            "error_y": {
             "color": "#2a3f5f"
            },
            "marker": {
             "line": {
              "color": "#E5ECF6",
              "width": 0.5
             }
            },
            "type": "bar"
           }
          ],
          "barpolar": [
           {
            "marker": {
             "line": {
              "color": "#E5ECF6",
              "width": 0.5
             }
            },
            "type": "barpolar"
           }
          ],
          "carpet": [
           {
            "aaxis": {
             "endlinecolor": "#2a3f5f",
             "gridcolor": "white",
             "linecolor": "white",
             "minorgridcolor": "white",
             "startlinecolor": "#2a3f5f"
            },
            "baxis": {
             "endlinecolor": "#2a3f5f",
             "gridcolor": "white",
             "linecolor": "white",
             "minorgridcolor": "white",
             "startlinecolor": "#2a3f5f"
            },
            "type": "carpet"
           }
          ],
          "choropleth": [
           {
            "colorbar": {
             "outlinewidth": 0,
             "ticks": ""
            },
            "type": "choropleth"
           }
          ],
          "contour": [
           {
            "colorbar": {
             "outlinewidth": 0,
             "ticks": ""
            },
            "colorscale": [
             [
              0,
              "#0d0887"
             ],
             [
              0.1111111111111111,
              "#46039f"
             ],
             [
              0.2222222222222222,
              "#7201a8"
             ],
             [
              0.3333333333333333,
              "#9c179e"
             ],
             [
              0.4444444444444444,
              "#bd3786"
             ],
             [
              0.5555555555555556,
              "#d8576b"
             ],
             [
              0.6666666666666666,
              "#ed7953"
             ],
             [
              0.7777777777777778,
              "#fb9f3a"
             ],
             [
              0.8888888888888888,
              "#fdca26"
             ],
             [
              1,
              "#f0f921"
             ]
            ],
            "type": "contour"
           }
          ],
          "contourcarpet": [
           {
            "colorbar": {
             "outlinewidth": 0,
             "ticks": ""
            },
            "type": "contourcarpet"
           }
          ],
          "heatmap": [
           {
            "colorbar": {
             "outlinewidth": 0,
             "ticks": ""
            },
            "colorscale": [
             [
              0,
              "#0d0887"
             ],
             [
              0.1111111111111111,
              "#46039f"
             ],
             [
              0.2222222222222222,
              "#7201a8"
             ],
             [
              0.3333333333333333,
              "#9c179e"
             ],
             [
              0.4444444444444444,
              "#bd3786"
             ],
             [
              0.5555555555555556,
              "#d8576b"
             ],
             [
              0.6666666666666666,
              "#ed7953"
             ],
             [
              0.7777777777777778,
              "#fb9f3a"
             ],
             [
              0.8888888888888888,
              "#fdca26"
             ],
             [
              1,
              "#f0f921"
             ]
            ],
            "type": "heatmap"
           }
          ],
          "heatmapgl": [
           {
            "colorbar": {
             "outlinewidth": 0,
             "ticks": ""
            },
            "colorscale": [
             [
              0,
              "#0d0887"
             ],
             [
              0.1111111111111111,
              "#46039f"
             ],
             [
              0.2222222222222222,
              "#7201a8"
             ],
             [
              0.3333333333333333,
              "#9c179e"
             ],
             [
              0.4444444444444444,
              "#bd3786"
             ],
             [
              0.5555555555555556,
              "#d8576b"
             ],
             [
              0.6666666666666666,
              "#ed7953"
             ],
             [
              0.7777777777777778,
              "#fb9f3a"
             ],
             [
              0.8888888888888888,
              "#fdca26"
             ],
             [
              1,
              "#f0f921"
             ]
            ],
            "type": "heatmapgl"
           }
          ],
          "histogram": [
           {
            "marker": {
             "colorbar": {
              "outlinewidth": 0,
              "ticks": ""
             }
            },
            "type": "histogram"
           }
          ],
          "histogram2d": [
           {
            "colorbar": {
             "outlinewidth": 0,
             "ticks": ""
            },
            "colorscale": [
             [
              0,
              "#0d0887"
             ],
             [
              0.1111111111111111,
              "#46039f"
             ],
             [
              0.2222222222222222,
              "#7201a8"
             ],
             [
              0.3333333333333333,
              "#9c179e"
             ],
             [
              0.4444444444444444,
              "#bd3786"
             ],
             [
              0.5555555555555556,
              "#d8576b"
             ],
             [
              0.6666666666666666,
              "#ed7953"
             ],
             [
              0.7777777777777778,
              "#fb9f3a"
             ],
             [
              0.8888888888888888,
              "#fdca26"
             ],
             [
              1,
              "#f0f921"
             ]
            ],
            "type": "histogram2d"
           }
          ],
          "histogram2dcontour": [
           {
            "colorbar": {
             "outlinewidth": 0,
             "ticks": ""
            },
            "colorscale": [
             [
              0,
              "#0d0887"
             ],
             [
              0.1111111111111111,
              "#46039f"
             ],
             [
              0.2222222222222222,
              "#7201a8"
             ],
             [
              0.3333333333333333,
              "#9c179e"
             ],
             [
              0.4444444444444444,
              "#bd3786"
             ],
             [
              0.5555555555555556,
              "#d8576b"
             ],
             [
              0.6666666666666666,
              "#ed7953"
             ],
             [
              0.7777777777777778,
              "#fb9f3a"
             ],
             [
              0.8888888888888888,
              "#fdca26"
             ],
             [
              1,
              "#f0f921"
             ]
            ],
            "type": "histogram2dcontour"
           }
          ],
          "mesh3d": [
           {
            "colorbar": {
             "outlinewidth": 0,
             "ticks": ""
            },
            "type": "mesh3d"
           }
          ],
          "parcoords": [
           {
            "line": {
             "colorbar": {
              "outlinewidth": 0,
              "ticks": ""
             }
            },
            "type": "parcoords"
           }
          ],
          "scatter": [
           {
            "marker": {
             "colorbar": {
              "outlinewidth": 0,
              "ticks": ""
             }
            },
            "type": "scatter"
           }
          ],
          "scatter3d": [
           {
            "line": {
             "colorbar": {
              "outlinewidth": 0,
              "ticks": ""
             }
            },
            "marker": {
             "colorbar": {
              "outlinewidth": 0,
              "ticks": ""
             }
            },
            "type": "scatter3d"
           }
          ],
          "scattercarpet": [
           {
            "marker": {
             "colorbar": {
              "outlinewidth": 0,
              "ticks": ""
             }
            },
            "type": "scattercarpet"
           }
          ],
          "scattergeo": [
           {
            "marker": {
             "colorbar": {
              "outlinewidth": 0,
              "ticks": ""
             }
            },
            "type": "scattergeo"
           }
          ],
          "scattergl": [
           {
            "marker": {
             "colorbar": {
              "outlinewidth": 0,
              "ticks": ""
             }
            },
            "type": "scattergl"
           }
          ],
          "scattermapbox": [
           {
            "marker": {
             "colorbar": {
              "outlinewidth": 0,
              "ticks": ""
             }
            },
            "type": "scattermapbox"
           }
          ],
          "scatterpolar": [
           {
            "marker": {
             "colorbar": {
              "outlinewidth": 0,
              "ticks": ""
             }
            },
            "type": "scatterpolar"
           }
          ],
          "scatterpolargl": [
           {
            "marker": {
             "colorbar": {
              "outlinewidth": 0,
              "ticks": ""
             }
            },
            "type": "scatterpolargl"
           }
          ],
          "scatterternary": [
           {
            "marker": {
             "colorbar": {
              "outlinewidth": 0,
              "ticks": ""
             }
            },
            "type": "scatterternary"
           }
          ],
          "surface": [
           {
            "colorbar": {
             "outlinewidth": 0,
             "ticks": ""
            },
            "colorscale": [
             [
              0,
              "#0d0887"
             ],
             [
              0.1111111111111111,
              "#46039f"
             ],
             [
              0.2222222222222222,
              "#7201a8"
             ],
             [
              0.3333333333333333,
              "#9c179e"
             ],
             [
              0.4444444444444444,
              "#bd3786"
             ],
             [
              0.5555555555555556,
              "#d8576b"
             ],
             [
              0.6666666666666666,
              "#ed7953"
             ],
             [
              0.7777777777777778,
              "#fb9f3a"
             ],
             [
              0.8888888888888888,
              "#fdca26"
             ],
             [
              1,
              "#f0f921"
             ]
            ],
            "type": "surface"
           }
          ],
          "table": [
           {
            "cells": {
             "fill": {
              "color": "#EBF0F8"
             },
             "line": {
              "color": "white"
             }
            },
            "header": {
             "fill": {
              "color": "#C8D4E3"
             },
             "line": {
              "color": "white"
             }
            },
            "type": "table"
           }
          ]
         },
         "layout": {
          "annotationdefaults": {
           "arrowcolor": "#2a3f5f",
           "arrowhead": 0,
           "arrowwidth": 1
          },
          "colorscale": {
           "diverging": [
            [
             0,
             "#8e0152"
            ],
            [
             0.1,
             "#c51b7d"
            ],
            [
             0.2,
             "#de77ae"
            ],
            [
             0.3,
             "#f1b6da"
            ],
            [
             0.4,
             "#fde0ef"
            ],
            [
             0.5,
             "#f7f7f7"
            ],
            [
             0.6,
             "#e6f5d0"
            ],
            [
             0.7,
             "#b8e186"
            ],
            [
             0.8,
             "#7fbc41"
            ],
            [
             0.9,
             "#4d9221"
            ],
            [
             1,
             "#276419"
            ]
           ],
           "sequential": [
            [
             0,
             "#0d0887"
            ],
            [
             0.1111111111111111,
             "#46039f"
            ],
            [
             0.2222222222222222,
             "#7201a8"
            ],
            [
             0.3333333333333333,
             "#9c179e"
            ],
            [
             0.4444444444444444,
             "#bd3786"
            ],
            [
             0.5555555555555556,
             "#d8576b"
            ],
            [
             0.6666666666666666,
             "#ed7953"
            ],
            [
             0.7777777777777778,
             "#fb9f3a"
            ],
            [
             0.8888888888888888,
             "#fdca26"
            ],
            [
             1,
             "#f0f921"
            ]
           ],
           "sequentialminus": [
            [
             0,
             "#0d0887"
            ],
            [
             0.1111111111111111,
             "#46039f"
            ],
            [
             0.2222222222222222,
             "#7201a8"
            ],
            [
             0.3333333333333333,
             "#9c179e"
            ],
            [
             0.4444444444444444,
             "#bd3786"
            ],
            [
             0.5555555555555556,
             "#d8576b"
            ],
            [
             0.6666666666666666,
             "#ed7953"
            ],
            [
             0.7777777777777778,
             "#fb9f3a"
            ],
            [
             0.8888888888888888,
             "#fdca26"
            ],
            [
             1,
             "#f0f921"
            ]
           ]
          },
          "colorway": [
           "#636efa",
           "#EF553B",
           "#00cc96",
           "#ab63fa",
           "#FFA15A",
           "#19d3f3",
           "#FF6692",
           "#B6E880",
           "#FF97FF",
           "#FECB52"
          ],
          "font": {
           "color": "#2a3f5f"
          },
          "geo": {
           "bgcolor": "white",
           "lakecolor": "white",
           "landcolor": "#E5ECF6",
           "showlakes": true,
           "showland": true,
           "subunitcolor": "white"
          },
          "hoverlabel": {
           "align": "left"
          },
          "hovermode": "closest",
          "mapbox": {
           "style": "light"
          },
          "paper_bgcolor": "white",
          "plot_bgcolor": "#E5ECF6",
          "polar": {
           "angularaxis": {
            "gridcolor": "white",
            "linecolor": "white",
            "ticks": ""
           },
           "bgcolor": "#E5ECF6",
           "radialaxis": {
            "gridcolor": "white",
            "linecolor": "white",
            "ticks": ""
           }
          },
          "scene": {
           "xaxis": {
            "backgroundcolor": "#E5ECF6",
            "gridcolor": "white",
            "gridwidth": 2,
            "linecolor": "white",
            "showbackground": true,
            "ticks": "",
            "zerolinecolor": "white"
           },
           "yaxis": {
            "backgroundcolor": "#E5ECF6",
            "gridcolor": "white",
            "gridwidth": 2,
            "linecolor": "white",
            "showbackground": true,
            "ticks": "",
            "zerolinecolor": "white"
           },
           "zaxis": {
            "backgroundcolor": "#E5ECF6",
            "gridcolor": "white",
            "gridwidth": 2,
            "linecolor": "white",
            "showbackground": true,
            "ticks": "",
            "zerolinecolor": "white"
           }
          },
          "shapedefaults": {
           "line": {
            "color": "#2a3f5f"
           }
          },
          "ternary": {
           "aaxis": {
            "gridcolor": "white",
            "linecolor": "white",
            "ticks": ""
           },
           "baxis": {
            "gridcolor": "white",
            "linecolor": "white",
            "ticks": ""
           },
           "bgcolor": "#E5ECF6",
           "caxis": {
            "gridcolor": "white",
            "linecolor": "white",
            "ticks": ""
           }
          },
          "title": {
           "x": 0.05
          },
          "xaxis": {
           "automargin": true,
           "gridcolor": "white",
           "linecolor": "white",
           "ticks": "",
           "zerolinecolor": "white",
           "zerolinewidth": 2
          },
          "yaxis": {
           "automargin": true,
           "gridcolor": "white",
           "linecolor": "white",
           "ticks": "",
           "zerolinecolor": "white",
           "zerolinewidth": 2
          }
         }
        }
       }
      },
      "text/html": [
       "<div>\n",
       "        \n",
       "        \n",
       "            <div id=\"068657c4-20ed-4d02-9e84-6f3a139e068f\" class=\"plotly-graph-div\" style=\"height:525px; width:100%;\"></div>\n",
       "            <script type=\"text/javascript\">\n",
       "                require([\"plotly\"], function(Plotly) {\n",
       "                    window.PLOTLYENV=window.PLOTLYENV || {};\n",
       "                    \n",
       "                if (document.getElementById(\"068657c4-20ed-4d02-9e84-6f3a139e068f\")) {\n",
       "                    Plotly.newPlot(\n",
       "                        '068657c4-20ed-4d02-9e84-6f3a139e068f',\n",
       "                        [{\"marker\": {\"color\": [2.0, 4.0, 2.0, 2.0, 2.0, 2.0, 2.0, 2.0, 2.0, 2.0, 2.0, 2.0, 2.0, 2.0, 2.0, 4.0, 4.0, 4.0, 8.0, 8.0, 8.0, 8.0, 8.0, 8.0, 8.0, 8.0, 4.0, 4.0, 4.0, 8.0, 8.0, 8.0, 8.0, 8.0, 8.0, 8.0, 8.0, 4.0, 4.0, 4.0, 8.0, 8.0, 8.0, 8.0, 8.0, 8.0, 8.0, 8.0, 4.0, 4.0, 4.0, 8.0, 8.0, 8.0, 8.0, 8.0, 8.0, 8.0, 8.0, 4.0, 4.0, 4.0, 8.0, 8.0, 8.0, 8.0, 8.0, 8.0, 8.0, 8.0, 4.0, 4.0, 4.0, 8.0, 8.0, 8.0, 8.0, 8.0, 8.0, 8.0, 8.0, 4.0, 4.0, 4.0, 8.0, 8.0, 8.0, 8.0, 8.0, 8.0, 8.0, 8.0, 4.0, 4.0, 4.0, 8.0, 8.0, 8.0, 8.0, 8.0, 8.0, 8.0, 8.0, 4.0, 4.0, 4.0, 8.0, 8.0, 8.0, 8.0, 8.0, 8.0, 8.0, 8.0, 4.0, 4.0, 4.0, 8.0, 8.0, 8.0, 8.0, 8.0, 8.0, 8.0, 8.0, 4.0, 4.0, 4.0, 8.0, 8.0, 8.0, 8.0, 8.0, 8.0, 8.0, 8.0, 4.0, 4.0, 4.0, 8.0, 8.0, 8.0, 8.0, 8.0, 8.0, 8.0, 8.0, 4.0, 4.0, 4.0, 8.0, 8.0, 8.0, 8.0, 8.0, 8.0, 8.0, 4.0, 4.0, 4.0, 8.0, 8.0, 8.0, 8.0, 8.0, 4.0], \"colorscale\": [[0, \"wheat\"], [0.5, \"darkgreen\"], [1.0, \"lightgreen\"]], \"opacity\": 0.8, \"size\": 3}, \"mode\": \"markers\", \"type\": \"scatter3d\", \"x\": [0.0, 0.0, 3.0038760050110705e-05, -4.425367990542393e-05, -3.7991816823244327e-05, 3.2594606059132248e-06, -0.0009700294681793773, 6.382172994945674e-05, 0.00015551267895903896, 0.0002410043509999373, 0.00033505599251377777, 0.0004278542426795284, 0.0006314733511220219, 0.0009176950377997199, 0.0013332573415982237, 0.0, 0.0, 0.0, 0.0020225424859373685, 0.004045084971874737, 0.006067627457812106, 0.008090169943749474, 0.010112712429686843, 0.012135254915624212, 0.01415779740156158, 0.015778529535277454, 0.0, 0.0, 0.0, -0.0020225424859373685, -0.004045084971874737, -0.006067627457812106, -0.008090169943749474, -0.010112712429686843, -0.012135254915624212, -0.01415779740156158, -0.015754241888531924, 0.0, 0.0, 0.0, 0.0020225424859373685, 0.004045084971874737, 0.006067627457812106, 0.008090169943749474, 0.010112712429686843, 0.012135254915624212, 0.01415779740156158, 0.015726227849569487, 0.0, 0.0, 0.0, -0.0020225424859373685, -0.004045084971874737, -0.006067627457812106, -0.008090169943749474, -0.010112712429686843, -0.012135254915624212, -0.01415779740156158, -0.015693502457881536, 0.0, 0.0, 0.0, 0.0020225424859373685, 0.004045084971874737, 0.006067627457812106, 0.008090169943749474, 0.010112712429686843, 0.012135254915624212, 0.01415779740156158, 0.01565468789418659, 0.0, 0.0, 0.0, -0.0020225424859373685, -0.004045084971874737, -0.006067627457812106, -0.008090169943749474, -0.010112712429686843, -0.012135254915624212, -0.01415779740156158, -0.015607791312712858, 0.0, 0.0, 0.0, 0.0020225424859373685, 0.004045084971874737, 0.006067627457812106, 0.008090169943749474, 0.010112712429686843, 0.012135254915624212, 0.01415779740156158, 0.015549809965416123, 0.0, 0.0, 0.0, -0.0020225424859373685, -0.004045084971874737, -0.006067627457812106, -0.008090169943749474, -0.010112712429686843, -0.012135254915624212, -0.01415779740156158, -0.015475981280724764, 0.0, 0.0, 0.0, 0.0020225424859373685, 0.004045084971874737, 0.006067627457812106, 0.008090169943749474, 0.010112712429686843, 0.012135254915624212, 0.01415779740156158, 0.015378233379497192, 0.0, 0.0, 0.0, -0.0020225424859373685, -0.004045084971874737, -0.006067627457812106, -0.008090169943749474, -0.010112712429686843, -0.012135254915624212, -0.01415779740156158, -0.015241606224233517, 0.0, 0.0, 0.0, 0.0020225424859373685, 0.004045084971874737, 0.006067627457812106, 0.008090169943749474, 0.010112712429686843, 0.012135254915624212, 0.01415779740156158, 0.015034596245029497, 0.0, 0.0, 0.0, -0.0020225424859373685, -0.004045084971874737, -0.006067627457812106, -0.008090169943749474, -0.010112712429686843, -0.012135254915624212, -0.01415779740156158, -0.01467618227457374, 0.0, 0.0, 0.0, 0.0020225424859373685, 0.004045084971874737, 0.006067627457812106, 0.008090169943749474, 0.010112712429686843, 0.012135254915624212, 0.013864537746896298, 0.0, 0.0, 0.0, -0.0020225424859373685, -0.004045084971874737, -0.006067627457812106, -0.008090169943749474, -0.009025320145994305, 0.0], \"y\": [0.0, 0.0, 0.0003825580009812756, 0.0007502921564025447, 0.0011046289446108094, 0.0015347329370903476, 0.0010949879697642127, 0.0018279738875590131, 0.002042012397820505, 0.0022550221433721156, 0.0024658984331952117, 0.002677918325752291, 0.002955733231622876, 0.0030469769705049974, 0.003183272953740578, 0.0, 0.0, 0.0, -7.331874920293572e-17, -1.4663749840587144e-16, -2.1995624760880715e-16, -2.932749968117429e-16, -3.6659374601467857e-16, -4.399124952176143e-16, -5.1323124442055e-16, -5.719840536511458e-16, 0.0, 0.0, 0.0, 9.512298228832457e-17, 1.9024596457664914e-16, 2.853689468649737e-16, 3.8049192915329823e-16, 4.7561491144162275e-16, 5.707378937299474e-16, 6.65860876018272e-16, 7.409438775938818e-16, 0.0, 0.0, 0.0, -1.1692721537371345e-16, -2.338544307474269e-16, -3.5078164612114036e-16, -4.677088614948538e-16, -5.846360768685673e-16, -7.015632922422808e-16, -8.184905076159943e-16, -9.091646002830343e-16, 0.0, 0.0, 0.0, 1.387314484591023e-16, 2.774628969182046e-16, 4.1619434537730687e-16, 5.549257938364092e-16, 6.936572422955115e-16, 8.323886907546137e-16, 9.71120139213716e-16, 1.0764581424203553e-15, 0.0, 0.0, 0.0, -1.6053568154449115e-16, -3.210713630889823e-16, -4.816070446334734e-16, -6.421427261779646e-16, -8.026784077224557e-16, -9.632140892669468e-16, -1.123749770811438e-15, -1.242562768363701e-15, 0.0, 0.0, 0.0, -4.7596544753955515e-17, -9.519308950791103e-17, -1.4278963426186654e-16, -1.9038617901582209e-16, -2.379827237697776e-16, -2.855792685237332e-16, -3.331758132776887e-16, -3.672985575784539e-16, 0.0, 0.0, 0.0, 2.579231166856667e-17, 5.158462333713334e-17, 7.737693500570001e-17, 1.031692466742667e-16, 1.2896155834283338e-16, 1.5475387001140007e-16, 1.8054618167996676e-16, 1.9829771082861514e-16, 0.0, 0.0, 0.0, -3.988078583177817e-18, -7.976157166355633e-18, -1.196423574953345e-17, -1.5952314332711267e-17, -1.9940392915889084e-17, -2.39284714990669e-17, -2.7916550082244713e-17, -3.051576415746575e-17, 0.0, 0.0, 0.0, -1.7816154502211036e-17, -3.563230900442207e-17, -5.3448463506633105e-17, -7.126461800884414e-17, -8.908077251105516e-17, -1.068969270132662e-16, -1.2471308151547723e-16, -1.3546364724852812e-16, 0.0, 0.0, 0.0, 3.962038758759989e-17, 7.924077517519979e-17, 1.1886116276279968e-16, 1.584815503503996e-16, 1.981019379379995e-16, 2.377223255255994e-16, 2.773427131131993e-16, 2.9857387434896496e-16, 0.0, 0.0, 0.0, -6.142462067298873e-17, -1.2284924134597746e-16, -1.8427386201896618e-16, -2.4569848269195486e-16, -3.0712310336494356e-16, -3.685477240379323e-16, -4.29972344710921e-16, -4.566007279172058e-16, 0.0, 0.0, 0.0, 8.322885375837757e-17, 1.6645770751675515e-16, 2.496865612751327e-16, 3.3291541503351025e-16, 4.161442687918878e-16, 4.993731225502653e-16, 5.826019763086429e-16, 6.039338292049187e-16, 0.0, 0.0, 0.0, -1.0503308684376643e-16, -2.1006617368753287e-16, -3.150992605312993e-16, -4.201323473750658e-16, -5.251654342188323e-16, -6.301985210625987e-16, -7.200022779959202e-16, 0.0, 0.0, 0.0, 1.268373199291553e-16, 2.536746398583106e-16, 3.805119597874659e-16, 5.073492797166212e-16, 5.65994250691839e-16, 0.0], \"z\": [-0.03, -0.03, -0.03247037386821911, -0.03494206402361927, -0.037416817795127254, -0.039879196500315316, -0.040350632544134714, -0.04236120011765761, -0.04485033255406889, -0.04733977386133277, -0.04982908812014362, -0.05231835227846957, -0.054794510217041584, -0.05727639492955145, -0.059719766778465445, -0.0275, -0.025, -0.023, -0.021530536869268816, -0.020061073738537633, -0.01859161060780645, -0.017122147477075265, -0.015652684346344082, -0.0141832212156129, -0.012713758084881717, -0.011536227263232264, -0.020499999999999997, -0.018, -0.016, -0.014530536869268815, -0.013061073738537633, -0.011591610607806451, -0.010122147477075268, -0.008652684346344084, -0.007183221215612901, -0.005713758084881717, -0.0045538732714980636, -0.013499999999999998, -0.011, -0.009000000000000001, -0.0075305368692688175, -0.006061073738537636, -0.004591610607806453, -0.00312214747707527, -0.0016526843463440866, -0.00018322121561290317, 0.0012862419151182802, 0.002425773337814525, -0.0065000000000000014, -0.004000000000000001, -0.0019999999999999996, -0.0005305368692688167, 0.0009389262614623662, 0.002408389392193549, 0.003877852522924732, 0.005347315653655915, 0.006816778784387099, 0.008286241915118281, 0.009401996949007597, 0.0005000000000000004, 0.0030000000000000005, 0.005000000000000002, 0.006469463130731185, 0.007938926261462368, 0.00940838939219355, 0.010877852522924733, 0.012347315653655917, 0.0138167787843871, 0.015286241915118284, 0.016373796517777248, 0.007500000000000002, 0.010000000000000002, 0.012000000000000004, 0.013469463130731187, 0.014938926261462369, 0.01640838939219355, 0.017877852522924734, 0.019347315653655918, 0.0208167787843871, 0.022286241915118285, 0.02333972415691852, 0.014500000000000004, 0.017000000000000005, 0.019000000000000006, 0.020469463130731187, 0.02193892626146237, 0.023408389392193554, 0.024877852522924737, 0.02634731565365592, 0.027816778784387104, 0.029286241915118288, 0.030297598242276392, 0.021500000000000005, 0.024000000000000004, 0.026000000000000006, 0.02746946313073119, 0.028938926261462373, 0.030408389392193556, 0.031877852522924736, 0.03334731565365592, 0.034816778784387103, 0.03628624191511829, 0.03724395856306142, 0.028500000000000004, 0.031000000000000007, 0.03300000000000001, 0.03446946313073119, 0.035938926261462376, 0.037408389392193556, 0.03887785252292474, 0.04034731565365592, 0.04181677878438711, 0.04328624191511829, 0.044172940555796326, 0.035500000000000004, 0.038000000000000006, 0.04000000000000001, 0.041469463130731195, 0.042938926261462375, 0.04440838939219356, 0.04587785252292474, 0.04734731565365593, 0.04881677878438711, 0.050286241915118296, 0.051073675117016874, 0.04250000000000001, 0.04500000000000001, 0.047000000000000014, 0.048469463130731194, 0.049938926261462374, 0.05140838939219356, 0.05287785252292474, 0.05434731565365593, 0.05581677878438711, 0.057286241915118295, 0.057923273563403654, 0.04950000000000001, 0.05200000000000001, 0.054000000000000006, 0.055469463130731186, 0.05693892626146237, 0.05840838939219355, 0.05987785252292474, 0.06134731565365592, 0.0628167787843871, 0.06428624191511828, 0.06466287057123628, 0.0565, 0.059000000000000004, 0.061, 0.06246946313073118, 0.06393892626146236, 0.06540838939219355, 0.06687785252292473, 0.06834731565365591, 0.06981677878438709, 0.07107317630425579, 0.0635, 0.066, 0.06799999999999999, 0.06946946313073117, 0.07093892626146235, 0.07240838939219355, 0.07387785252292473, 0.0745572789149284, 0.06932620530009148]}],\n",
       "                        {\"scene\": {\"aspectmode\": \"data\"}, \"template\": {\"data\": {\"bar\": [{\"error_x\": {\"color\": \"#2a3f5f\"}, \"error_y\": {\"color\": \"#2a3f5f\"}, \"marker\": {\"line\": {\"color\": \"#E5ECF6\", \"width\": 0.5}}, \"type\": \"bar\"}], \"barpolar\": [{\"marker\": {\"line\": {\"color\": \"#E5ECF6\", \"width\": 0.5}}, \"type\": \"barpolar\"}], \"carpet\": [{\"aaxis\": {\"endlinecolor\": \"#2a3f5f\", \"gridcolor\": \"white\", \"linecolor\": \"white\", \"minorgridcolor\": \"white\", \"startlinecolor\": \"#2a3f5f\"}, \"baxis\": {\"endlinecolor\": \"#2a3f5f\", \"gridcolor\": \"white\", \"linecolor\": \"white\", \"minorgridcolor\": \"white\", \"startlinecolor\": \"#2a3f5f\"}, \"type\": \"carpet\"}], \"choropleth\": [{\"colorbar\": {\"outlinewidth\": 0, \"ticks\": \"\"}, \"type\": \"choropleth\"}], \"contour\": [{\"colorbar\": {\"outlinewidth\": 0, \"ticks\": \"\"}, \"colorscale\": [[0.0, \"#0d0887\"], [0.1111111111111111, \"#46039f\"], [0.2222222222222222, \"#7201a8\"], [0.3333333333333333, \"#9c179e\"], [0.4444444444444444, \"#bd3786\"], [0.5555555555555556, \"#d8576b\"], [0.6666666666666666, \"#ed7953\"], [0.7777777777777778, \"#fb9f3a\"], [0.8888888888888888, \"#fdca26\"], [1.0, \"#f0f921\"]], \"type\": \"contour\"}], \"contourcarpet\": [{\"colorbar\": {\"outlinewidth\": 0, \"ticks\": \"\"}, \"type\": \"contourcarpet\"}], \"heatmap\": [{\"colorbar\": {\"outlinewidth\": 0, \"ticks\": \"\"}, \"colorscale\": [[0.0, \"#0d0887\"], [0.1111111111111111, \"#46039f\"], [0.2222222222222222, \"#7201a8\"], [0.3333333333333333, \"#9c179e\"], [0.4444444444444444, \"#bd3786\"], [0.5555555555555556, \"#d8576b\"], [0.6666666666666666, \"#ed7953\"], [0.7777777777777778, \"#fb9f3a\"], [0.8888888888888888, \"#fdca26\"], [1.0, \"#f0f921\"]], \"type\": \"heatmap\"}], \"heatmapgl\": [{\"colorbar\": {\"outlinewidth\": 0, \"ticks\": \"\"}, \"colorscale\": [[0.0, \"#0d0887\"], [0.1111111111111111, \"#46039f\"], [0.2222222222222222, \"#7201a8\"], [0.3333333333333333, \"#9c179e\"], [0.4444444444444444, \"#bd3786\"], [0.5555555555555556, \"#d8576b\"], [0.6666666666666666, \"#ed7953\"], [0.7777777777777778, \"#fb9f3a\"], [0.8888888888888888, \"#fdca26\"], [1.0, \"#f0f921\"]], \"type\": \"heatmapgl\"}], \"histogram\": [{\"marker\": {\"colorbar\": {\"outlinewidth\": 0, \"ticks\": \"\"}}, \"type\": \"histogram\"}], \"histogram2d\": [{\"colorbar\": {\"outlinewidth\": 0, \"ticks\": \"\"}, \"colorscale\": [[0.0, \"#0d0887\"], [0.1111111111111111, \"#46039f\"], [0.2222222222222222, \"#7201a8\"], [0.3333333333333333, \"#9c179e\"], [0.4444444444444444, \"#bd3786\"], [0.5555555555555556, \"#d8576b\"], [0.6666666666666666, \"#ed7953\"], [0.7777777777777778, \"#fb9f3a\"], [0.8888888888888888, \"#fdca26\"], [1.0, \"#f0f921\"]], \"type\": \"histogram2d\"}], \"histogram2dcontour\": [{\"colorbar\": {\"outlinewidth\": 0, \"ticks\": \"\"}, \"colorscale\": [[0.0, \"#0d0887\"], [0.1111111111111111, \"#46039f\"], [0.2222222222222222, \"#7201a8\"], [0.3333333333333333, \"#9c179e\"], [0.4444444444444444, \"#bd3786\"], [0.5555555555555556, \"#d8576b\"], [0.6666666666666666, \"#ed7953\"], [0.7777777777777778, \"#fb9f3a\"], [0.8888888888888888, \"#fdca26\"], [1.0, \"#f0f921\"]], \"type\": \"histogram2dcontour\"}], \"mesh3d\": [{\"colorbar\": {\"outlinewidth\": 0, \"ticks\": \"\"}, \"type\": \"mesh3d\"}], \"parcoords\": [{\"line\": {\"colorbar\": {\"outlinewidth\": 0, \"ticks\": \"\"}}, \"type\": \"parcoords\"}], \"scatter\": [{\"marker\": {\"colorbar\": {\"outlinewidth\": 0, \"ticks\": \"\"}}, \"type\": \"scatter\"}], \"scatter3d\": [{\"line\": {\"colorbar\": {\"outlinewidth\": 0, \"ticks\": \"\"}}, \"marker\": {\"colorbar\": {\"outlinewidth\": 0, \"ticks\": \"\"}}, \"type\": \"scatter3d\"}], \"scattercarpet\": [{\"marker\": {\"colorbar\": {\"outlinewidth\": 0, \"ticks\": \"\"}}, \"type\": \"scattercarpet\"}], \"scattergeo\": [{\"marker\": {\"colorbar\": {\"outlinewidth\": 0, \"ticks\": \"\"}}, \"type\": \"scattergeo\"}], \"scattergl\": [{\"marker\": {\"colorbar\": {\"outlinewidth\": 0, \"ticks\": \"\"}}, \"type\": \"scattergl\"}], \"scattermapbox\": [{\"marker\": {\"colorbar\": {\"outlinewidth\": 0, \"ticks\": \"\"}}, \"type\": \"scattermapbox\"}], \"scatterpolar\": [{\"marker\": {\"colorbar\": {\"outlinewidth\": 0, \"ticks\": \"\"}}, \"type\": \"scatterpolar\"}], \"scatterpolargl\": [{\"marker\": {\"colorbar\": {\"outlinewidth\": 0, \"ticks\": \"\"}}, \"type\": \"scatterpolargl\"}], \"scatterternary\": [{\"marker\": {\"colorbar\": {\"outlinewidth\": 0, \"ticks\": \"\"}}, \"type\": \"scatterternary\"}], \"surface\": [{\"colorbar\": {\"outlinewidth\": 0, \"ticks\": \"\"}, \"colorscale\": [[0.0, \"#0d0887\"], [0.1111111111111111, \"#46039f\"], [0.2222222222222222, \"#7201a8\"], [0.3333333333333333, \"#9c179e\"], [0.4444444444444444, \"#bd3786\"], [0.5555555555555556, \"#d8576b\"], [0.6666666666666666, \"#ed7953\"], [0.7777777777777778, \"#fb9f3a\"], [0.8888888888888888, \"#fdca26\"], [1.0, \"#f0f921\"]], \"type\": \"surface\"}], \"table\": [{\"cells\": {\"fill\": {\"color\": \"#EBF0F8\"}, \"line\": {\"color\": \"white\"}}, \"header\": {\"fill\": {\"color\": \"#C8D4E3\"}, \"line\": {\"color\": \"white\"}}, \"type\": \"table\"}]}, \"layout\": {\"annotationdefaults\": {\"arrowcolor\": \"#2a3f5f\", \"arrowhead\": 0, \"arrowwidth\": 1}, \"colorscale\": {\"diverging\": [[0, \"#8e0152\"], [0.1, \"#c51b7d\"], [0.2, \"#de77ae\"], [0.3, \"#f1b6da\"], [0.4, \"#fde0ef\"], [0.5, \"#f7f7f7\"], [0.6, \"#e6f5d0\"], [0.7, \"#b8e186\"], [0.8, \"#7fbc41\"], [0.9, \"#4d9221\"], [1, \"#276419\"]], \"sequential\": [[0.0, \"#0d0887\"], [0.1111111111111111, \"#46039f\"], [0.2222222222222222, \"#7201a8\"], [0.3333333333333333, \"#9c179e\"], [0.4444444444444444, \"#bd3786\"], [0.5555555555555556, \"#d8576b\"], [0.6666666666666666, \"#ed7953\"], [0.7777777777777778, \"#fb9f3a\"], [0.8888888888888888, \"#fdca26\"], [1.0, \"#f0f921\"]], \"sequentialminus\": [[0.0, \"#0d0887\"], [0.1111111111111111, \"#46039f\"], [0.2222222222222222, \"#7201a8\"], [0.3333333333333333, \"#9c179e\"], [0.4444444444444444, \"#bd3786\"], [0.5555555555555556, \"#d8576b\"], [0.6666666666666666, \"#ed7953\"], [0.7777777777777778, \"#fb9f3a\"], [0.8888888888888888, \"#fdca26\"], [1.0, \"#f0f921\"]]}, \"colorway\": [\"#636efa\", \"#EF553B\", \"#00cc96\", \"#ab63fa\", \"#FFA15A\", \"#19d3f3\", \"#FF6692\", \"#B6E880\", \"#FF97FF\", \"#FECB52\"], \"font\": {\"color\": \"#2a3f5f\"}, \"geo\": {\"bgcolor\": \"white\", \"lakecolor\": \"white\", \"landcolor\": \"#E5ECF6\", \"showlakes\": true, \"showland\": true, \"subunitcolor\": \"white\"}, \"hoverlabel\": {\"align\": \"left\"}, \"hovermode\": \"closest\", \"mapbox\": {\"style\": \"light\"}, \"paper_bgcolor\": \"white\", \"plot_bgcolor\": \"#E5ECF6\", \"polar\": {\"angularaxis\": {\"gridcolor\": \"white\", \"linecolor\": \"white\", \"ticks\": \"\"}, \"bgcolor\": \"#E5ECF6\", \"radialaxis\": {\"gridcolor\": \"white\", \"linecolor\": \"white\", \"ticks\": \"\"}}, \"scene\": {\"xaxis\": {\"backgroundcolor\": \"#E5ECF6\", \"gridcolor\": \"white\", \"gridwidth\": 2, \"linecolor\": \"white\", \"showbackground\": true, \"ticks\": \"\", \"zerolinecolor\": \"white\"}, \"yaxis\": {\"backgroundcolor\": \"#E5ECF6\", \"gridcolor\": \"white\", \"gridwidth\": 2, \"linecolor\": \"white\", \"showbackground\": true, \"ticks\": \"\", \"zerolinecolor\": \"white\"}, \"zaxis\": {\"backgroundcolor\": \"#E5ECF6\", \"gridcolor\": \"white\", \"gridwidth\": 2, \"linecolor\": \"white\", \"showbackground\": true, \"ticks\": \"\", \"zerolinecolor\": \"white\"}}, \"shapedefaults\": {\"line\": {\"color\": \"#2a3f5f\"}}, \"ternary\": {\"aaxis\": {\"gridcolor\": \"white\", \"linecolor\": \"white\", \"ticks\": \"\"}, \"baxis\": {\"gridcolor\": \"white\", \"linecolor\": \"white\", \"ticks\": \"\"}, \"bgcolor\": \"#E5ECF6\", \"caxis\": {\"gridcolor\": \"white\", \"linecolor\": \"white\", \"ticks\": \"\"}}, \"title\": {\"x\": 0.05}, \"xaxis\": {\"automargin\": true, \"gridcolor\": \"white\", \"linecolor\": \"white\", \"ticks\": \"\", \"zerolinecolor\": \"white\", \"zerolinewidth\": 2}, \"yaxis\": {\"automargin\": true, \"gridcolor\": \"white\", \"linecolor\": \"white\", \"ticks\": \"\", \"zerolinecolor\": \"white\", \"zerolinewidth\": 2}}}},\n",
       "                        {\"responsive\": true}\n",
       "                    ).then(function(){\n",
       "                            \n",
       "var gd = document.getElementById('068657c4-20ed-4d02-9e84-6f3a139e068f');\n",
       "var x = new MutationObserver(function (mutations, observer) {{\n",
       "        var display = window.getComputedStyle(gd).display;\n",
       "        if (!display || display === 'none') {{\n",
       "            console.log([gd, 'removed!']);\n",
       "            Plotly.purge(gd);\n",
       "            observer.disconnect();\n",
       "        }}\n",
       "}});\n",
       "\n",
       "// Listen for the removal of the full notebook cells\n",
       "var notebookContainer = gd.closest('#notebook-container');\n",
       "if (notebookContainer) {{\n",
       "    x.observe(notebookContainer, {childList: true});\n",
       "}}\n",
       "\n",
       "// Listen for the clearing of the current output cell\n",
       "var outputEl = gd.closest('.output');\n",
       "if (outputEl) {{\n",
       "    x.observe(outputEl, {childList: true});\n",
       "}}\n",
       "\n",
       "                        })\n",
       "                };\n",
       "                });\n",
       "            </script>\n",
       "        </div>"
      ]
     },
     "metadata": {},
     "output_type": "display_data"
    },
    {
     "name": "stdout",
     "output_type": "stream",
     "text": [
      "original lmax of stem organ with subtype 1 is 2.1, changed to 5\n"
     ]
    },
    {
     "data": {
      "application/vnd.plotly.v1+json": {
       "config": {
        "plotlyServerURL": "https://plot.ly"
       },
       "data": [
        {
         "marker": {
          "color": [
           2,
           4,
           2,
           2,
           2,
           2,
           2,
           2,
           2,
           2,
           2,
           2,
           2,
           2,
           2,
           4,
           4,
           4,
           8,
           8,
           8,
           8,
           8,
           8,
           8,
           8,
           4,
           4,
           4,
           8,
           8,
           8,
           8,
           8,
           8,
           8,
           8,
           4,
           4,
           4,
           8,
           8,
           8,
           8,
           8,
           8,
           8,
           8,
           4,
           4,
           4,
           8,
           8,
           8,
           8,
           8,
           8,
           8,
           8,
           4,
           4,
           4,
           8,
           8,
           8,
           8,
           8,
           8,
           8,
           8,
           4,
           4,
           4,
           8,
           8,
           8,
           8,
           8,
           8,
           8,
           8,
           4,
           4,
           4,
           8,
           8,
           8,
           8,
           8,
           8,
           8,
           8,
           4
          ],
          "colorscale": [
           [
            0,
            "wheat"
           ],
           [
            0.5,
            "darkgreen"
           ],
           [
            1,
            "lightgreen"
           ]
          ],
          "opacity": 0.8,
          "size": 3
         },
         "mode": "markers",
         "type": "scatter3d",
         "x": [
          0,
          0,
          0.0001586430117452964,
          0.0005895609378077317,
          0.0015973545168282558,
          0.0024286198138284893,
          0.0026473458674537787,
          0.003347580436347718,
          0.004246615582059883,
          0.0054824816012333565,
          0.007240849569396217,
          0.008773242574241502,
          0.010304848300927753,
          0.011764505777417033,
          0.013040207636341372,
          0,
          0,
          0,
          0.0020225424859373685,
          0.004045084971874737,
          0.006067627457812106,
          0.008090169943749474,
          0.010112712429686843,
          0.012135254915624212,
          0.01415779740156158,
          0.015777672539978905,
          0,
          0,
          0,
          -0.0020225424859373685,
          -0.004045084971874737,
          -0.006067627457812106,
          -0.008090169943749474,
          -0.010112712429686843,
          -0.012135254915624212,
          -0.01415779740156158,
          -0.015749928605145583,
          0,
          0,
          0,
          0.0020225424859373685,
          0.004045084971874737,
          0.006067627457812106,
          0.008090169943749474,
          0.010112712429686843,
          0.012135254915624212,
          0.01415779740156158,
          0.015713575368825557,
          0,
          0,
          0,
          -0.0020225424859373685,
          -0.004045084971874737,
          -0.006067627457812106,
          -0.008090169943749474,
          -0.010112712429686843,
          -0.012135254915624212,
          -0.01415779740156158,
          -0.01566262747282431,
          0,
          0,
          0,
          0.0020225424859373685,
          0.004045084971874737,
          0.006067627457812106,
          0.008090169943749474,
          0.010112712429686843,
          0.012135254915624212,
          0.01415779740156158,
          0.015582667953141824,
          0,
          0,
          0,
          -0.0020225424859373685,
          -0.004045084971874737,
          -0.006067627457812106,
          -0.008090169943749474,
          -0.010112712429686843,
          -0.012135254915624212,
          -0.01415779740156158,
          -0.01542378866109725,
          0,
          0,
          0,
          0.0020225424859373685,
          0.004045084971874737,
          0.006067627457812106,
          0.008090169943749474,
          0.010112712429686843,
          0.012135254915624212,
          0.01415779740156158,
          0.014530289962402075,
          0
         ],
         "y": [
          0,
          0,
          -4.1161495113085175e-05,
          0.00014367411478042125,
          -0.00010900778765859065,
          -0.0004201949307995991,
          0.0008356777369540175,
          -0.0003853288603499126,
          -0.00032321837951576295,
          -0.00013196798754076293,
          -0.00018998192501813607,
          3.147704353407874e-05,
          0.0002697473033119899,
          0.0001387828840381196,
          0.00018500152980033884,
          0,
          0,
          0,
          -1.4864155301454417e-16,
          -2.9728310602908833e-16,
          -4.459246590436325e-16,
          -5.945662120581768e-16,
          -7.43207765072721e-16,
          -8.918493180872653e-16,
          -1.0404908711018094e-15,
          -1.159539424068255e-15,
          0,
          0,
          0,
          1.70445786099933e-16,
          3.40891572199866e-16,
          5.113373582997991e-16,
          6.81783144399732e-16,
          8.52228930499665e-16,
          1.0226747165995982e-15,
          1.193120502699531e-15,
          1.327294225356011e-15,
          0,
          0,
          0,
          3.7686440198513656e-17,
          7.537288039702731e-17,
          1.1305932059554096e-16,
          1.507457607940546e-16,
          1.8843220099256822e-16,
          2.2611864119108186e-16,
          2.638050813895955e-16,
          2.9279420460115834e-16,
          0,
          0,
          0,
          -1.5882207113124803e-17,
          -3.1764414226249606e-17,
          -4.7646621339374415e-17,
          -6.352882845249922e-17,
          -7.941103556562403e-17,
          -9.529324267874884e-17,
          -1.1117544979187366e-16,
          -1.2299227096029343e-16,
          0,
          0,
          0,
          -5.9220259722640444e-18,
          -1.1844051944528089e-17,
          -1.7766077916792133e-17,
          -2.3688103889056178e-17,
          -2.961012986132022e-17,
          -3.5532155833584266e-17,
          -4.145418180584831e-17,
          -4.5626217979249965e-17,
          0,
          0,
          0,
          2.7726259057652895e-17,
          5.545251811530579e-17,
          8.317877717295868e-17,
          1.1090503623061157e-16,
          1.3863129528826445e-16,
          1.6635755434591734e-16,
          1.940838134035702e-16,
          2.1143880192453678e-16,
          0,
          0,
          0,
          -4.9530492143041745e-17,
          -9.906098428608349e-17,
          -1.4859147642912524e-16,
          -1.9812196857216696e-16,
          -2.4765246071520865e-16,
          -2.971829528582504e-16,
          -3.467134450012921e-16,
          -3.5583549805398773e-16,
          0
         ],
         "z": [
          -0.03,
          -0.03,
          -0.03249462184030855,
          -0.03495025730558294,
          -0.037224131523358586,
          -0.039561258085602666,
          -0.040169713313233005,
          -0.04188597220380957,
          -0.044217898037738436,
          -0.04638262861455896,
          -0.048158797658202385,
          -0.050121634280020165,
          -0.05208311616402706,
          -0.05410851695700933,
          -0.056238411065087736,
          -0.0275,
          -0.025,
          -0.023,
          -0.021530536869268816,
          -0.020061073738537633,
          -0.01859161060780645,
          -0.017122147477075265,
          -0.015652684346344082,
          -0.0141832212156129,
          -0.012713758084881717,
          -0.011536849906762958,
          -0.020499999999999997,
          -0.018,
          -0.016,
          -0.014530536869268815,
          -0.013061073738537633,
          -0.011591610607806451,
          -0.010122147477075268,
          -0.008652684346344084,
          -0.007183221215612901,
          -0.005713758084881717,
          -0.004557007055313578,
          -0.013499999999999998,
          -0.011,
          -0.009000000000000001,
          -0.0075305368692688175,
          -0.006061073738537636,
          -0.004591610607806453,
          -0.00312214747707527,
          -0.0016526843463440866,
          -0.00018322121561290317,
          0.0012862419151182802,
          0.0024165807724692923,
          -0.0065000000000000014,
          -0.004000000000000001,
          -0.0019999999999999996,
          -0.0005305368692688167,
          0.0009389262614623662,
          0.002408389392193549,
          0.003877852522924732,
          0.005347315653655915,
          0.006816778784387099,
          0.008286241915118281,
          0.009379564959311994,
          0.0005000000000000004,
          0.0030000000000000005,
          0.005000000000000002,
          0.006469463130731185,
          0.007938926261462368,
          0.00940838939219355,
          0.010877852522924733,
          0.012347315653655917,
          0.0138167787843871,
          0.015286241915118284,
          0.01632147096774379,
          0.007500000000000002,
          0.010000000000000002,
          0.012000000000000004,
          0.013469463130731187,
          0.014938926261462369,
          0.01640838939219355,
          0.017877852522924734,
          0.019347315653655918,
          0.0208167787843871,
          0.022286241915118285,
          0.023206038405254023,
          0.014500000000000004,
          0.017000000000000005,
          0.019000000000000006,
          0.020469463130731187,
          0.02193892626146237,
          0.023408389392193554,
          0.024877852522924737,
          0.02634731565365592,
          0.027816778784387104,
          0.029286241915118288,
          0.02955687360193453,
          0.019997730003511877
         ]
        }
       ],
       "layout": {
        "autosize": true,
        "scene": {
         "aspectmode": "data",
         "aspectratio": {
          "x": 2.0972857642276486,
          "y": 0.08354342772981879,
          "z": 5.707292107056817
         }
        },
        "template": {
         "data": {
          "bar": [
           {
            "error_x": {
             "color": "#2a3f5f"
            },
            "error_y": {
             "color": "#2a3f5f"
            },
            "marker": {
             "line": {
              "color": "#E5ECF6",
              "width": 0.5
             }
            },
            "type": "bar"
           }
          ],
          "barpolar": [
           {
            "marker": {
             "line": {
              "color": "#E5ECF6",
              "width": 0.5
             }
            },
            "type": "barpolar"
           }
          ],
          "carpet": [
           {
            "aaxis": {
             "endlinecolor": "#2a3f5f",
             "gridcolor": "white",
             "linecolor": "white",
             "minorgridcolor": "white",
             "startlinecolor": "#2a3f5f"
            },
            "baxis": {
             "endlinecolor": "#2a3f5f",
             "gridcolor": "white",
             "linecolor": "white",
             "minorgridcolor": "white",
             "startlinecolor": "#2a3f5f"
            },
            "type": "carpet"
           }
          ],
          "choropleth": [
           {
            "colorbar": {
             "outlinewidth": 0,
             "ticks": ""
            },
            "type": "choropleth"
           }
          ],
          "contour": [
           {
            "colorbar": {
             "outlinewidth": 0,
             "ticks": ""
            },
            "colorscale": [
             [
              0,
              "#0d0887"
             ],
             [
              0.1111111111111111,
              "#46039f"
             ],
             [
              0.2222222222222222,
              "#7201a8"
             ],
             [
              0.3333333333333333,
              "#9c179e"
             ],
             [
              0.4444444444444444,
              "#bd3786"
             ],
             [
              0.5555555555555556,
              "#d8576b"
             ],
             [
              0.6666666666666666,
              "#ed7953"
             ],
             [
              0.7777777777777778,
              "#fb9f3a"
             ],
             [
              0.8888888888888888,
              "#fdca26"
             ],
             [
              1,
              "#f0f921"
             ]
            ],
            "type": "contour"
           }
          ],
          "contourcarpet": [
           {
            "colorbar": {
             "outlinewidth": 0,
             "ticks": ""
            },
            "type": "contourcarpet"
           }
          ],
          "heatmap": [
           {
            "colorbar": {
             "outlinewidth": 0,
             "ticks": ""
            },
            "colorscale": [
             [
              0,
              "#0d0887"
             ],
             [
              0.1111111111111111,
              "#46039f"
             ],
             [
              0.2222222222222222,
              "#7201a8"
             ],
             [
              0.3333333333333333,
              "#9c179e"
             ],
             [
              0.4444444444444444,
              "#bd3786"
             ],
             [
              0.5555555555555556,
              "#d8576b"
             ],
             [
              0.6666666666666666,
              "#ed7953"
             ],
             [
              0.7777777777777778,
              "#fb9f3a"
             ],
             [
              0.8888888888888888,
              "#fdca26"
             ],
             [
              1,
              "#f0f921"
             ]
            ],
            "type": "heatmap"
           }
          ],
          "heatmapgl": [
           {
            "colorbar": {
             "outlinewidth": 0,
             "ticks": ""
            },
            "colorscale": [
             [
              0,
              "#0d0887"
             ],
             [
              0.1111111111111111,
              "#46039f"
             ],
             [
              0.2222222222222222,
              "#7201a8"
             ],
             [
              0.3333333333333333,
              "#9c179e"
             ],
             [
              0.4444444444444444,
              "#bd3786"
             ],
             [
              0.5555555555555556,
              "#d8576b"
             ],
             [
              0.6666666666666666,
              "#ed7953"
             ],
             [
              0.7777777777777778,
              "#fb9f3a"
             ],
             [
              0.8888888888888888,
              "#fdca26"
             ],
             [
              1,
              "#f0f921"
             ]
            ],
            "type": "heatmapgl"
           }
          ],
          "histogram": [
           {
            "marker": {
             "colorbar": {
              "outlinewidth": 0,
              "ticks": ""
             }
            },
            "type": "histogram"
           }
          ],
          "histogram2d": [
           {
            "colorbar": {
             "outlinewidth": 0,
             "ticks": ""
            },
            "colorscale": [
             [
              0,
              "#0d0887"
             ],
             [
              0.1111111111111111,
              "#46039f"
             ],
             [
              0.2222222222222222,
              "#7201a8"
             ],
             [
              0.3333333333333333,
              "#9c179e"
             ],
             [
              0.4444444444444444,
              "#bd3786"
             ],
             [
              0.5555555555555556,
              "#d8576b"
             ],
             [
              0.6666666666666666,
              "#ed7953"
             ],
             [
              0.7777777777777778,
              "#fb9f3a"
             ],
             [
              0.8888888888888888,
              "#fdca26"
             ],
             [
              1,
              "#f0f921"
             ]
            ],
            "type": "histogram2d"
           }
          ],
          "histogram2dcontour": [
           {
            "colorbar": {
             "outlinewidth": 0,
             "ticks": ""
            },
            "colorscale": [
             [
              0,
              "#0d0887"
             ],
             [
              0.1111111111111111,
              "#46039f"
             ],
             [
              0.2222222222222222,
              "#7201a8"
             ],
             [
              0.3333333333333333,
              "#9c179e"
             ],
             [
              0.4444444444444444,
              "#bd3786"
             ],
             [
              0.5555555555555556,
              "#d8576b"
             ],
             [
              0.6666666666666666,
              "#ed7953"
             ],
             [
              0.7777777777777778,
              "#fb9f3a"
             ],
             [
              0.8888888888888888,
              "#fdca26"
             ],
             [
              1,
              "#f0f921"
             ]
            ],
            "type": "histogram2dcontour"
           }
          ],
          "mesh3d": [
           {
            "colorbar": {
             "outlinewidth": 0,
             "ticks": ""
            },
            "type": "mesh3d"
           }
          ],
          "parcoords": [
           {
            "line": {
             "colorbar": {
              "outlinewidth": 0,
              "ticks": ""
             }
            },
            "type": "parcoords"
           }
          ],
          "scatter": [
           {
            "marker": {
             "colorbar": {
              "outlinewidth": 0,
              "ticks": ""
             }
            },
            "type": "scatter"
           }
          ],
          "scatter3d": [
           {
            "line": {
             "colorbar": {
              "outlinewidth": 0,
              "ticks": ""
             }
            },
            "marker": {
             "colorbar": {
              "outlinewidth": 0,
              "ticks": ""
             }
            },
            "type": "scatter3d"
           }
          ],
          "scattercarpet": [
           {
            "marker": {
             "colorbar": {
              "outlinewidth": 0,
              "ticks": ""
             }
            },
            "type": "scattercarpet"
           }
          ],
          "scattergeo": [
           {
            "marker": {
             "colorbar": {
              "outlinewidth": 0,
              "ticks": ""
             }
            },
            "type": "scattergeo"
           }
          ],
          "scattergl": [
           {
            "marker": {
             "colorbar": {
              "outlinewidth": 0,
              "ticks": ""
             }
            },
            "type": "scattergl"
           }
          ],
          "scattermapbox": [
           {
            "marker": {
             "colorbar": {
              "outlinewidth": 0,
              "ticks": ""
             }
            },
            "type": "scattermapbox"
           }
          ],
          "scatterpolar": [
           {
            "marker": {
             "colorbar": {
              "outlinewidth": 0,
              "ticks": ""
             }
            },
            "type": "scatterpolar"
           }
          ],
          "scatterpolargl": [
           {
            "marker": {
             "colorbar": {
              "outlinewidth": 0,
              "ticks": ""
             }
            },
            "type": "scatterpolargl"
           }
          ],
          "scatterternary": [
           {
            "marker": {
             "colorbar": {
              "outlinewidth": 0,
              "ticks": ""
             }
            },
            "type": "scatterternary"
           }
          ],
          "surface": [
           {
            "colorbar": {
             "outlinewidth": 0,
             "ticks": ""
            },
            "colorscale": [
             [
              0,
              "#0d0887"
             ],
             [
              0.1111111111111111,
              "#46039f"
             ],
             [
              0.2222222222222222,
              "#7201a8"
             ],
             [
              0.3333333333333333,
              "#9c179e"
             ],
             [
              0.4444444444444444,
              "#bd3786"
             ],
             [
              0.5555555555555556,
              "#d8576b"
             ],
             [
              0.6666666666666666,
              "#ed7953"
             ],
             [
              0.7777777777777778,
              "#fb9f3a"
             ],
             [
              0.8888888888888888,
              "#fdca26"
             ],
             [
              1,
              "#f0f921"
             ]
            ],
            "type": "surface"
           }
          ],
          "table": [
           {
            "cells": {
             "fill": {
              "color": "#EBF0F8"
             },
             "line": {
              "color": "white"
             }
            },
            "header": {
             "fill": {
              "color": "#C8D4E3"
             },
             "line": {
              "color": "white"
             }
            },
            "type": "table"
           }
          ]
         },
         "layout": {
          "annotationdefaults": {
           "arrowcolor": "#2a3f5f",
           "arrowhead": 0,
           "arrowwidth": 1
          },
          "colorscale": {
           "diverging": [
            [
             0,
             "#8e0152"
            ],
            [
             0.1,
             "#c51b7d"
            ],
            [
             0.2,
             "#de77ae"
            ],
            [
             0.3,
             "#f1b6da"
            ],
            [
             0.4,
             "#fde0ef"
            ],
            [
             0.5,
             "#f7f7f7"
            ],
            [
             0.6,
             "#e6f5d0"
            ],
            [
             0.7,
             "#b8e186"
            ],
            [
             0.8,
             "#7fbc41"
            ],
            [
             0.9,
             "#4d9221"
            ],
            [
             1,
             "#276419"
            ]
           ],
           "sequential": [
            [
             0,
             "#0d0887"
            ],
            [
             0.1111111111111111,
             "#46039f"
            ],
            [
             0.2222222222222222,
             "#7201a8"
            ],
            [
             0.3333333333333333,
             "#9c179e"
            ],
            [
             0.4444444444444444,
             "#bd3786"
            ],
            [
             0.5555555555555556,
             "#d8576b"
            ],
            [
             0.6666666666666666,
             "#ed7953"
            ],
            [
             0.7777777777777778,
             "#fb9f3a"
            ],
            [
             0.8888888888888888,
             "#fdca26"
            ],
            [
             1,
             "#f0f921"
            ]
           ],
           "sequentialminus": [
            [
             0,
             "#0d0887"
            ],
            [
             0.1111111111111111,
             "#46039f"
            ],
            [
             0.2222222222222222,
             "#7201a8"
            ],
            [
             0.3333333333333333,
             "#9c179e"
            ],
            [
             0.4444444444444444,
             "#bd3786"
            ],
            [
             0.5555555555555556,
             "#d8576b"
            ],
            [
             0.6666666666666666,
             "#ed7953"
            ],
            [
             0.7777777777777778,
             "#fb9f3a"
            ],
            [
             0.8888888888888888,
             "#fdca26"
            ],
            [
             1,
             "#f0f921"
            ]
           ]
          },
          "colorway": [
           "#636efa",
           "#EF553B",
           "#00cc96",
           "#ab63fa",
           "#FFA15A",
           "#19d3f3",
           "#FF6692",
           "#B6E880",
           "#FF97FF",
           "#FECB52"
          ],
          "font": {
           "color": "#2a3f5f"
          },
          "geo": {
           "bgcolor": "white",
           "lakecolor": "white",
           "landcolor": "#E5ECF6",
           "showlakes": true,
           "showland": true,
           "subunitcolor": "white"
          },
          "hoverlabel": {
           "align": "left"
          },
          "hovermode": "closest",
          "mapbox": {
           "style": "light"
          },
          "paper_bgcolor": "white",
          "plot_bgcolor": "#E5ECF6",
          "polar": {
           "angularaxis": {
            "gridcolor": "white",
            "linecolor": "white",
            "ticks": ""
           },
           "bgcolor": "#E5ECF6",
           "radialaxis": {
            "gridcolor": "white",
            "linecolor": "white",
            "ticks": ""
           }
          },
          "scene": {
           "xaxis": {
            "backgroundcolor": "#E5ECF6",
            "gridcolor": "white",
            "gridwidth": 2,
            "linecolor": "white",
            "showbackground": true,
            "ticks": "",
            "zerolinecolor": "white"
           },
           "yaxis": {
            "backgroundcolor": "#E5ECF6",
            "gridcolor": "white",
            "gridwidth": 2,
            "linecolor": "white",
            "showbackground": true,
            "ticks": "",
            "zerolinecolor": "white"
           },
           "zaxis": {
            "backgroundcolor": "#E5ECF6",
            "gridcolor": "white",
            "gridwidth": 2,
            "linecolor": "white",
            "showbackground": true,
            "ticks": "",
            "zerolinecolor": "white"
           }
          },
          "shapedefaults": {
           "line": {
            "color": "#2a3f5f"
           }
          },
          "ternary": {
           "aaxis": {
            "gridcolor": "white",
            "linecolor": "white",
            "ticks": ""
           },
           "baxis": {
            "gridcolor": "white",
            "linecolor": "white",
            "ticks": ""
           },
           "bgcolor": "#E5ECF6",
           "caxis": {
            "gridcolor": "white",
            "linecolor": "white",
            "ticks": ""
           }
          },
          "title": {
           "x": 0.05
          },
          "xaxis": {
           "automargin": true,
           "gridcolor": "white",
           "linecolor": "white",
           "ticks": "",
           "zerolinecolor": "white",
           "zerolinewidth": 2
          },
          "yaxis": {
           "automargin": true,
           "gridcolor": "white",
           "linecolor": "white",
           "ticks": "",
           "zerolinecolor": "white",
           "zerolinewidth": 2
          }
         }
        }
       }
      },
      "text/html": [
       "<div>\n",
       "        \n",
       "        \n",
       "            <div id=\"25134428-cb2e-4a51-8b1c-8f8fd1c09a24\" class=\"plotly-graph-div\" style=\"height:525px; width:100%;\"></div>\n",
       "            <script type=\"text/javascript\">\n",
       "                require([\"plotly\"], function(Plotly) {\n",
       "                    window.PLOTLYENV=window.PLOTLYENV || {};\n",
       "                    \n",
       "                if (document.getElementById(\"25134428-cb2e-4a51-8b1c-8f8fd1c09a24\")) {\n",
       "                    Plotly.newPlot(\n",
       "                        '25134428-cb2e-4a51-8b1c-8f8fd1c09a24',\n",
       "                        [{\"marker\": {\"color\": [2.0, 4.0, 2.0, 2.0, 2.0, 2.0, 2.0, 2.0, 2.0, 2.0, 2.0, 2.0, 2.0, 2.0, 2.0, 4.0, 4.0, 4.0, 8.0, 8.0, 8.0, 8.0, 8.0, 8.0, 8.0, 8.0, 4.0, 4.0, 4.0, 8.0, 8.0, 8.0, 8.0, 8.0, 8.0, 8.0, 8.0, 4.0, 4.0, 4.0, 8.0, 8.0, 8.0, 8.0, 8.0, 8.0, 8.0, 8.0, 4.0, 4.0, 4.0, 8.0, 8.0, 8.0, 8.0, 8.0, 8.0, 8.0, 8.0, 4.0, 4.0, 4.0, 8.0, 8.0, 8.0, 8.0, 8.0, 8.0, 8.0, 8.0, 4.0, 4.0, 4.0, 8.0, 8.0, 8.0, 8.0, 8.0, 8.0, 8.0, 8.0, 4.0, 4.0, 4.0, 8.0, 8.0, 8.0, 8.0, 8.0, 8.0, 8.0, 8.0, 4.0], \"colorscale\": [[0, \"wheat\"], [0.5, \"darkgreen\"], [1.0, \"lightgreen\"]], \"opacity\": 0.8, \"size\": 3}, \"mode\": \"markers\", \"type\": \"scatter3d\", \"x\": [0.0, 0.0, 0.0001586430117452964, 0.0005895609378077317, 0.0015973545168282558, 0.0024286198138284893, 0.0026473458674537787, 0.003347580436347718, 0.004246615582059883, 0.0054824816012333565, 0.007240849569396217, 0.008773242574241502, 0.010304848300927753, 0.011764505777417033, 0.013040207636341372, 0.0, 0.0, 0.0, 0.0020225424859373685, 0.004045084971874737, 0.006067627457812106, 0.008090169943749474, 0.010112712429686843, 0.012135254915624212, 0.01415779740156158, 0.015777672539978905, 0.0, 0.0, 0.0, -0.0020225424859373685, -0.004045084971874737, -0.006067627457812106, -0.008090169943749474, -0.010112712429686843, -0.012135254915624212, -0.01415779740156158, -0.015749928605145583, 0.0, 0.0, 0.0, 0.0020225424859373685, 0.004045084971874737, 0.006067627457812106, 0.008090169943749474, 0.010112712429686843, 0.012135254915624212, 0.01415779740156158, 0.015713575368825557, 0.0, 0.0, 0.0, -0.0020225424859373685, -0.004045084971874737, -0.006067627457812106, -0.008090169943749474, -0.010112712429686843, -0.012135254915624212, -0.01415779740156158, -0.01566262747282431, 0.0, 0.0, 0.0, 0.0020225424859373685, 0.004045084971874737, 0.006067627457812106, 0.008090169943749474, 0.010112712429686843, 0.012135254915624212, 0.01415779740156158, 0.015582667953141824, 0.0, 0.0, 0.0, -0.0020225424859373685, -0.004045084971874737, -0.006067627457812106, -0.008090169943749474, -0.010112712429686843, -0.012135254915624212, -0.01415779740156158, -0.01542378866109725, 0.0, 0.0, 0.0, 0.0020225424859373685, 0.004045084971874737, 0.006067627457812106, 0.008090169943749474, 0.010112712429686843, 0.012135254915624212, 0.01415779740156158, 0.014530289962402075, 0.0], \"y\": [0.0, 0.0, -4.1161495113085175e-05, 0.00014367411478042125, -0.00010900778765859065, -0.0004201949307995991, 0.0008356777369540175, -0.0003853288603499126, -0.00032321837951576295, -0.00013196798754076293, -0.00018998192501813607, 3.147704353407874e-05, 0.0002697473033119899, 0.0001387828840381196, 0.00018500152980033884, 0.0, 0.0, 0.0, -1.4864155301454417e-16, -2.9728310602908833e-16, -4.459246590436325e-16, -5.945662120581768e-16, -7.43207765072721e-16, -8.918493180872653e-16, -1.0404908711018094e-15, -1.159539424068255e-15, 0.0, 0.0, 0.0, 1.70445786099933e-16, 3.40891572199866e-16, 5.113373582997991e-16, 6.81783144399732e-16, 8.52228930499665e-16, 1.0226747165995982e-15, 1.193120502699531e-15, 1.327294225356011e-15, 0.0, 0.0, 0.0, 3.7686440198513656e-17, 7.537288039702731e-17, 1.1305932059554096e-16, 1.507457607940546e-16, 1.8843220099256822e-16, 2.2611864119108186e-16, 2.638050813895955e-16, 2.9279420460115834e-16, 0.0, 0.0, 0.0, -1.5882207113124803e-17, -3.1764414226249606e-17, -4.7646621339374415e-17, -6.352882845249922e-17, -7.941103556562403e-17, -9.529324267874884e-17, -1.1117544979187366e-16, -1.2299227096029343e-16, 0.0, 0.0, 0.0, -5.9220259722640444e-18, -1.1844051944528089e-17, -1.7766077916792133e-17, -2.3688103889056178e-17, -2.961012986132022e-17, -3.5532155833584266e-17, -4.145418180584831e-17, -4.5626217979249965e-17, 0.0, 0.0, 0.0, 2.7726259057652895e-17, 5.545251811530579e-17, 8.317877717295868e-17, 1.1090503623061157e-16, 1.3863129528826445e-16, 1.6635755434591734e-16, 1.940838134035702e-16, 2.1143880192453678e-16, 0.0, 0.0, 0.0, -4.9530492143041745e-17, -9.906098428608349e-17, -1.4859147642912524e-16, -1.9812196857216696e-16, -2.4765246071520865e-16, -2.971829528582504e-16, -3.467134450012921e-16, -3.5583549805398773e-16, 0.0], \"z\": [-0.03, -0.03, -0.03249462184030855, -0.03495025730558294, -0.037224131523358586, -0.039561258085602666, -0.040169713313233005, -0.04188597220380957, -0.044217898037738436, -0.04638262861455896, -0.048158797658202385, -0.050121634280020165, -0.05208311616402706, -0.05410851695700933, -0.056238411065087736, -0.0275, -0.025, -0.023, -0.021530536869268816, -0.020061073738537633, -0.01859161060780645, -0.017122147477075265, -0.015652684346344082, -0.0141832212156129, -0.012713758084881717, -0.011536849906762958, -0.020499999999999997, -0.018, -0.016, -0.014530536869268815, -0.013061073738537633, -0.011591610607806451, -0.010122147477075268, -0.008652684346344084, -0.007183221215612901, -0.005713758084881717, -0.004557007055313578, -0.013499999999999998, -0.011, -0.009000000000000001, -0.0075305368692688175, -0.006061073738537636, -0.004591610607806453, -0.00312214747707527, -0.0016526843463440866, -0.00018322121561290317, 0.0012862419151182802, 0.0024165807724692923, -0.0065000000000000014, -0.004000000000000001, -0.0019999999999999996, -0.0005305368692688167, 0.0009389262614623662, 0.002408389392193549, 0.003877852522924732, 0.005347315653655915, 0.006816778784387099, 0.008286241915118281, 0.009379564959311994, 0.0005000000000000004, 0.0030000000000000005, 0.005000000000000002, 0.006469463130731185, 0.007938926261462368, 0.00940838939219355, 0.010877852522924733, 0.012347315653655917, 0.0138167787843871, 0.015286241915118284, 0.01632147096774379, 0.007500000000000002, 0.010000000000000002, 0.012000000000000004, 0.013469463130731187, 0.014938926261462369, 0.01640838939219355, 0.017877852522924734, 0.019347315653655918, 0.0208167787843871, 0.022286241915118285, 0.023206038405254023, 0.014500000000000004, 0.017000000000000005, 0.019000000000000006, 0.020469463130731187, 0.02193892626146237, 0.023408389392193554, 0.024877852522924737, 0.02634731565365592, 0.027816778784387104, 0.029286241915118288, 0.02955687360193453, 0.019997730003511877]}],\n",
       "                        {\"scene\": {\"aspectmode\": \"data\"}, \"template\": {\"data\": {\"bar\": [{\"error_x\": {\"color\": \"#2a3f5f\"}, \"error_y\": {\"color\": \"#2a3f5f\"}, \"marker\": {\"line\": {\"color\": \"#E5ECF6\", \"width\": 0.5}}, \"type\": \"bar\"}], \"barpolar\": [{\"marker\": {\"line\": {\"color\": \"#E5ECF6\", \"width\": 0.5}}, \"type\": \"barpolar\"}], \"carpet\": [{\"aaxis\": {\"endlinecolor\": \"#2a3f5f\", \"gridcolor\": \"white\", \"linecolor\": \"white\", \"minorgridcolor\": \"white\", \"startlinecolor\": \"#2a3f5f\"}, \"baxis\": {\"endlinecolor\": \"#2a3f5f\", \"gridcolor\": \"white\", \"linecolor\": \"white\", \"minorgridcolor\": \"white\", \"startlinecolor\": \"#2a3f5f\"}, \"type\": \"carpet\"}], \"choropleth\": [{\"colorbar\": {\"outlinewidth\": 0, \"ticks\": \"\"}, \"type\": \"choropleth\"}], \"contour\": [{\"colorbar\": {\"outlinewidth\": 0, \"ticks\": \"\"}, \"colorscale\": [[0.0, \"#0d0887\"], [0.1111111111111111, \"#46039f\"], [0.2222222222222222, \"#7201a8\"], [0.3333333333333333, \"#9c179e\"], [0.4444444444444444, \"#bd3786\"], [0.5555555555555556, \"#d8576b\"], [0.6666666666666666, \"#ed7953\"], [0.7777777777777778, \"#fb9f3a\"], [0.8888888888888888, \"#fdca26\"], [1.0, \"#f0f921\"]], \"type\": \"contour\"}], \"contourcarpet\": [{\"colorbar\": {\"outlinewidth\": 0, \"ticks\": \"\"}, \"type\": \"contourcarpet\"}], \"heatmap\": [{\"colorbar\": {\"outlinewidth\": 0, \"ticks\": \"\"}, \"colorscale\": [[0.0, \"#0d0887\"], [0.1111111111111111, \"#46039f\"], [0.2222222222222222, \"#7201a8\"], [0.3333333333333333, \"#9c179e\"], [0.4444444444444444, \"#bd3786\"], [0.5555555555555556, \"#d8576b\"], [0.6666666666666666, \"#ed7953\"], [0.7777777777777778, \"#fb9f3a\"], [0.8888888888888888, \"#fdca26\"], [1.0, \"#f0f921\"]], \"type\": \"heatmap\"}], \"heatmapgl\": [{\"colorbar\": {\"outlinewidth\": 0, \"ticks\": \"\"}, \"colorscale\": [[0.0, \"#0d0887\"], [0.1111111111111111, \"#46039f\"], [0.2222222222222222, \"#7201a8\"], [0.3333333333333333, \"#9c179e\"], [0.4444444444444444, \"#bd3786\"], [0.5555555555555556, \"#d8576b\"], [0.6666666666666666, \"#ed7953\"], [0.7777777777777778, \"#fb9f3a\"], [0.8888888888888888, \"#fdca26\"], [1.0, \"#f0f921\"]], \"type\": \"heatmapgl\"}], \"histogram\": [{\"marker\": {\"colorbar\": {\"outlinewidth\": 0, \"ticks\": \"\"}}, \"type\": \"histogram\"}], \"histogram2d\": [{\"colorbar\": {\"outlinewidth\": 0, \"ticks\": \"\"}, \"colorscale\": [[0.0, \"#0d0887\"], [0.1111111111111111, \"#46039f\"], [0.2222222222222222, \"#7201a8\"], [0.3333333333333333, \"#9c179e\"], [0.4444444444444444, \"#bd3786\"], [0.5555555555555556, \"#d8576b\"], [0.6666666666666666, \"#ed7953\"], [0.7777777777777778, \"#fb9f3a\"], [0.8888888888888888, \"#fdca26\"], [1.0, \"#f0f921\"]], \"type\": \"histogram2d\"}], \"histogram2dcontour\": [{\"colorbar\": {\"outlinewidth\": 0, \"ticks\": \"\"}, \"colorscale\": [[0.0, \"#0d0887\"], [0.1111111111111111, \"#46039f\"], [0.2222222222222222, \"#7201a8\"], [0.3333333333333333, \"#9c179e\"], [0.4444444444444444, \"#bd3786\"], [0.5555555555555556, \"#d8576b\"], [0.6666666666666666, \"#ed7953\"], [0.7777777777777778, \"#fb9f3a\"], [0.8888888888888888, \"#fdca26\"], [1.0, \"#f0f921\"]], \"type\": \"histogram2dcontour\"}], \"mesh3d\": [{\"colorbar\": {\"outlinewidth\": 0, \"ticks\": \"\"}, \"type\": \"mesh3d\"}], \"parcoords\": [{\"line\": {\"colorbar\": {\"outlinewidth\": 0, \"ticks\": \"\"}}, \"type\": \"parcoords\"}], \"scatter\": [{\"marker\": {\"colorbar\": {\"outlinewidth\": 0, \"ticks\": \"\"}}, \"type\": \"scatter\"}], \"scatter3d\": [{\"line\": {\"colorbar\": {\"outlinewidth\": 0, \"ticks\": \"\"}}, \"marker\": {\"colorbar\": {\"outlinewidth\": 0, \"ticks\": \"\"}}, \"type\": \"scatter3d\"}], \"scattercarpet\": [{\"marker\": {\"colorbar\": {\"outlinewidth\": 0, \"ticks\": \"\"}}, \"type\": \"scattercarpet\"}], \"scattergeo\": [{\"marker\": {\"colorbar\": {\"outlinewidth\": 0, \"ticks\": \"\"}}, \"type\": \"scattergeo\"}], \"scattergl\": [{\"marker\": {\"colorbar\": {\"outlinewidth\": 0, \"ticks\": \"\"}}, \"type\": \"scattergl\"}], \"scattermapbox\": [{\"marker\": {\"colorbar\": {\"outlinewidth\": 0, \"ticks\": \"\"}}, \"type\": \"scattermapbox\"}], \"scatterpolar\": [{\"marker\": {\"colorbar\": {\"outlinewidth\": 0, \"ticks\": \"\"}}, \"type\": \"scatterpolar\"}], \"scatterpolargl\": [{\"marker\": {\"colorbar\": {\"outlinewidth\": 0, \"ticks\": \"\"}}, \"type\": \"scatterpolargl\"}], \"scatterternary\": [{\"marker\": {\"colorbar\": {\"outlinewidth\": 0, \"ticks\": \"\"}}, \"type\": \"scatterternary\"}], \"surface\": [{\"colorbar\": {\"outlinewidth\": 0, \"ticks\": \"\"}, \"colorscale\": [[0.0, \"#0d0887\"], [0.1111111111111111, \"#46039f\"], [0.2222222222222222, \"#7201a8\"], [0.3333333333333333, \"#9c179e\"], [0.4444444444444444, \"#bd3786\"], [0.5555555555555556, \"#d8576b\"], [0.6666666666666666, \"#ed7953\"], [0.7777777777777778, \"#fb9f3a\"], [0.8888888888888888, \"#fdca26\"], [1.0, \"#f0f921\"]], \"type\": \"surface\"}], \"table\": [{\"cells\": {\"fill\": {\"color\": \"#EBF0F8\"}, \"line\": {\"color\": \"white\"}}, \"header\": {\"fill\": {\"color\": \"#C8D4E3\"}, \"line\": {\"color\": \"white\"}}, \"type\": \"table\"}]}, \"layout\": {\"annotationdefaults\": {\"arrowcolor\": \"#2a3f5f\", \"arrowhead\": 0, \"arrowwidth\": 1}, \"colorscale\": {\"diverging\": [[0, \"#8e0152\"], [0.1, \"#c51b7d\"], [0.2, \"#de77ae\"], [0.3, \"#f1b6da\"], [0.4, \"#fde0ef\"], [0.5, \"#f7f7f7\"], [0.6, \"#e6f5d0\"], [0.7, \"#b8e186\"], [0.8, \"#7fbc41\"], [0.9, \"#4d9221\"], [1, \"#276419\"]], \"sequential\": [[0.0, \"#0d0887\"], [0.1111111111111111, \"#46039f\"], [0.2222222222222222, \"#7201a8\"], [0.3333333333333333, \"#9c179e\"], [0.4444444444444444, \"#bd3786\"], [0.5555555555555556, \"#d8576b\"], [0.6666666666666666, \"#ed7953\"], [0.7777777777777778, \"#fb9f3a\"], [0.8888888888888888, \"#fdca26\"], [1.0, \"#f0f921\"]], \"sequentialminus\": [[0.0, \"#0d0887\"], [0.1111111111111111, \"#46039f\"], [0.2222222222222222, \"#7201a8\"], [0.3333333333333333, \"#9c179e\"], [0.4444444444444444, \"#bd3786\"], [0.5555555555555556, \"#d8576b\"], [0.6666666666666666, \"#ed7953\"], [0.7777777777777778, \"#fb9f3a\"], [0.8888888888888888, \"#fdca26\"], [1.0, \"#f0f921\"]]}, \"colorway\": [\"#636efa\", \"#EF553B\", \"#00cc96\", \"#ab63fa\", \"#FFA15A\", \"#19d3f3\", \"#FF6692\", \"#B6E880\", \"#FF97FF\", \"#FECB52\"], \"font\": {\"color\": \"#2a3f5f\"}, \"geo\": {\"bgcolor\": \"white\", \"lakecolor\": \"white\", \"landcolor\": \"#E5ECF6\", \"showlakes\": true, \"showland\": true, \"subunitcolor\": \"white\"}, \"hoverlabel\": {\"align\": \"left\"}, \"hovermode\": \"closest\", \"mapbox\": {\"style\": \"light\"}, \"paper_bgcolor\": \"white\", \"plot_bgcolor\": \"#E5ECF6\", \"polar\": {\"angularaxis\": {\"gridcolor\": \"white\", \"linecolor\": \"white\", \"ticks\": \"\"}, \"bgcolor\": \"#E5ECF6\", \"radialaxis\": {\"gridcolor\": \"white\", \"linecolor\": \"white\", \"ticks\": \"\"}}, \"scene\": {\"xaxis\": {\"backgroundcolor\": \"#E5ECF6\", \"gridcolor\": \"white\", \"gridwidth\": 2, \"linecolor\": \"white\", \"showbackground\": true, \"ticks\": \"\", \"zerolinecolor\": \"white\"}, \"yaxis\": {\"backgroundcolor\": \"#E5ECF6\", \"gridcolor\": \"white\", \"gridwidth\": 2, \"linecolor\": \"white\", \"showbackground\": true, \"ticks\": \"\", \"zerolinecolor\": \"white\"}, \"zaxis\": {\"backgroundcolor\": \"#E5ECF6\", \"gridcolor\": \"white\", \"gridwidth\": 2, \"linecolor\": \"white\", \"showbackground\": true, \"ticks\": \"\", \"zerolinecolor\": \"white\"}}, \"shapedefaults\": {\"line\": {\"color\": \"#2a3f5f\"}}, \"ternary\": {\"aaxis\": {\"gridcolor\": \"white\", \"linecolor\": \"white\", \"ticks\": \"\"}, \"baxis\": {\"gridcolor\": \"white\", \"linecolor\": \"white\", \"ticks\": \"\"}, \"bgcolor\": \"#E5ECF6\", \"caxis\": {\"gridcolor\": \"white\", \"linecolor\": \"white\", \"ticks\": \"\"}}, \"title\": {\"x\": 0.05}, \"xaxis\": {\"automargin\": true, \"gridcolor\": \"white\", \"linecolor\": \"white\", \"ticks\": \"\", \"zerolinecolor\": \"white\", \"zerolinewidth\": 2}, \"yaxis\": {\"automargin\": true, \"gridcolor\": \"white\", \"linecolor\": \"white\", \"ticks\": \"\", \"zerolinecolor\": \"white\", \"zerolinewidth\": 2}}}},\n",
       "                        {\"responsive\": true}\n",
       "                    ).then(function(){\n",
       "                            \n",
       "var gd = document.getElementById('25134428-cb2e-4a51-8b1c-8f8fd1c09a24');\n",
       "var x = new MutationObserver(function (mutations, observer) {{\n",
       "        var display = window.getComputedStyle(gd).display;\n",
       "        if (!display || display === 'none') {{\n",
       "            console.log([gd, 'removed!']);\n",
       "            Plotly.purge(gd);\n",
       "            observer.disconnect();\n",
       "        }}\n",
       "}});\n",
       "\n",
       "// Listen for the removal of the full notebook cells\n",
       "var notebookContainer = gd.closest('#notebook-container');\n",
       "if (notebookContainer) {{\n",
       "    x.observe(notebookContainer, {childList: true});\n",
       "}}\n",
       "\n",
       "// Listen for the clearing of the current output cell\n",
       "var outputEl = gd.closest('.output');\n",
       "if (outputEl) {{\n",
       "    x.observe(outputEl, {childList: true});\n",
       "}}\n",
       "\n",
       "                        })\n",
       "                };\n",
       "                });\n",
       "            </script>\n",
       "        </div>"
      ]
     },
     "metadata": {},
     "output_type": "display_data"
    }
   ],
   "source": [
    "def change_parameter(input_name, output_name, organ_name, subtype , parameter_name, value_type, value):   \n",
    "    all_parameter = ET.parse(\"../modelparameter/{}.xml\".format(input_name)) # read the parameter file from xml file\n",
    "    plant_parameter = all_parameter.getroot() # get the first level of parameters\n",
    "    original_lmax = plant_parameter.find(\"./organ[@type='{}'][@subType='{}']/parameter[@name='{}']\".format(organ_name, subtype, parameter_name)).get('{}'.format(value_type)) # get function to read the value\n",
    "    # The '10' in the following line is the value that need to be changed change the value\n",
    "    plant_parameter.find(\"./organ[@type='{}'][@subType='{}']/parameter[@name='{}']\".format(organ_name, subtype, parameter_name)).set('{}'.format(value_type),'{}'.format(value)) # set function to read the value\n",
    "    current_lmax = plant_parameter.find(\"./organ[@type='{}'][@subType='{}']/parameter[@name='{}']\".format(organ_name, subtype, parameter_name)).get('{}'.format(value_type)) # get function to read the value\n",
    "    print('original {} of {} organ with subtype {} is {}, changed to {}'.format(parameter_name, organ_name, subtype ,original_lmax, current_lmax))\n",
    "    all_parameter.write('../modelparameter/{}.xml'.format(output_name))\n",
    "change_parameter('PMA2018', 'testXML', 'stem', '1', 'lmax', 'value','10')\n",
    "name = 'testXML'\n",
    "smallplant = CPlantBox(name, time, name) # make a plant object in python\n",
    "fig = visual_plant(smallplant)    \n",
    "fig.show()\n",
    "# Try to change the \"10\" to 5\n",
    "change_parameter('PMA2018', 'testXML', 'stem', '1', 'lmax', 'value','5')\n",
    "smallplant = CPlantBox(name, time, name) # make a plant object in python\n",
    "fig = visual_plant(smallplant)    \n",
    "fig.show()"
   ]
  },
  {
   "cell_type": "markdown",
   "metadata": {},
   "source": [
    "### 5.2 lb, ln and la: the parameters controls branching\n",
    "In the previous section, you may notice that, with the increase of the lmax, the length of the main stem increased. But with the increase length of the stem, we also get more leaves. Is it possible to reduce the leaf numbers? There are two ways, first, we could change the lb, lb is the length at bottom without any branching."
   ]
  },
  {
   "cell_type": "code",
   "execution_count": 60,
   "metadata": {},
   "outputs": [
    {
     "name": "stdout",
     "output_type": "stream",
     "text": [
      "original lb of stem organ with subtype 1 is 0.7, changed to 3\n"
     ]
    },
    {
     "data": {
      "application/vnd.plotly.v1+json": {
       "config": {
        "plotlyServerURL": "https://plot.ly"
       },
       "data": [
        {
         "marker": {
          "color": [
           2,
           4,
           2,
           2,
           2,
           2,
           2,
           2,
           2,
           2,
           2,
           2,
           2,
           2,
           2,
           4,
           4,
           4,
           4,
           4,
           4,
           4,
           4,
           4,
           4,
           4,
           4,
           8,
           8,
           8,
           8,
           8,
           8,
           8,
           8,
           4,
           4,
           4,
           8,
           8,
           8,
           8,
           8,
           8,
           8,
           8,
           4,
           4,
           4,
           8,
           8,
           8,
           8,
           8,
           8,
           8,
           8,
           4,
           4,
           4
          ],
          "colorscale": [
           [
            0,
            "wheat"
           ],
           [
            0.5,
            "darkgreen"
           ],
           [
            1,
            "lightgreen"
           ]
          ],
          "opacity": 0.8,
          "size": 3
         },
         "mode": "markers",
         "type": "scatter3d",
         "x": [
          0,
          0,
          -9.17033048225303e-05,
          -0.000194311660268549,
          -0.0005843957383868941,
          -0.00118326841841254,
          -0.0020092814160217447,
          -0.0017547738321565304,
          -0.0024449975467080417,
          -0.003358032463529331,
          -0.00430926885340538,
          -0.005285828798179363,
          -0.0065443001732138385,
          -0.00783770586814748,
          -0.008491560164270683,
          0,
          0,
          0,
          0,
          0,
          0,
          0,
          0,
          0,
          0,
          0,
          0,
          -0.0020225424859373685,
          -0.004045084971874737,
          -0.006067627457812106,
          -0.008090169943749474,
          -0.010112712429686843,
          -0.012135254915624212,
          -0.01415779740156158,
          -0.015643789100317572,
          0,
          0,
          0,
          0.0020225424859373685,
          0.004045084971874737,
          0.006067627457812106,
          0.008090169943749474,
          0.010112712429686843,
          0.012135254915624212,
          0.01415779740156158,
          0.01554971903452867,
          0,
          0,
          0,
          -0.0020225424859373685,
          -0.004045084971874737,
          -0.006067627457812106,
          -0.008090169943749474,
          -0.010112712429686843,
          -0.012135254915624212,
          -0.01415779740156158,
          -0.015337606178544561,
          0,
          0,
          0
         ],
         "y": [
          0,
          0,
          -0.0002700129269752699,
          -0.0005222274562862034,
          -0.0006113072720133471,
          -0.0006756830788445804,
          0.0005924806657303798,
          -0.0007250080502999654,
          -0.0005366764649118907,
          -0.0004016552481436099,
          -0.0005307398941985594,
          -0.0006657502081876429,
          -0.0010262778523501869,
          -0.0010608349706789236,
          -0.0011451675154378644,
          0,
          0,
          0,
          0,
          0,
          0,
          0,
          0,
          0,
          0,
          0,
          0,
          7.133472522843059e-17,
          1.4266945045686119e-16,
          2.140041756852918e-16,
          2.853389009137224e-16,
          3.5667362614215307e-16,
          4.2800835137058373e-16,
          4.993430765990143e-16,
          5.51753747949317e-16,
          0,
          0,
          0,
          -9.313895831381945e-17,
          -1.862779166276389e-16,
          -2.794168749414583e-16,
          -3.725558332552777e-16,
          -4.656947915690971e-16,
          -5.588337498829165e-16,
          -6.51972708196736e-16,
          -7.160713028371058e-16,
          0,
          0,
          0,
          1.149431913992083e-16,
          2.298863827984166e-16,
          3.448295741976249e-16,
          4.597727655968333e-16,
          5.747159569960417e-16,
          6.896591483952499e-16,
          8.046023397944583e-16,
          8.716520987044028e-16,
          0,
          0,
          0
         ],
         "z": [
          -0.03,
          -0.03,
          -0.03248368345872635,
          -0.03496881109259088,
          -0.03743658320492795,
          -0.03986293999415202,
          -0.04020387669907954,
          -0.04229623993646334,
          -0.04469167777490037,
          -0.04701506678918265,
          -0.04932341825391424,
          -0.051620830469730025,
          -0.05375068248712782,
          -0.05588981958275447,
          -0.05828395773891935,
          -0.0275,
          -0.025,
          -0.0225,
          -0.02,
          -0.0175,
          -0.015,
          -0.0125,
          -0.01,
          -0.0075,
          -0.005,
          -0.0025,
          0,
          0.0014694631307311829,
          0.0029389262614623658,
          0.004408389392193549,
          0.0058778525229247315,
          0.007347315653655915,
          0.008816778784387098,
          0.010286241915118281,
          0.01136587808052744,
          0.0025,
          0.005,
          0.007000000000000002,
          0.008469463130731185,
          0.009938926261462368,
          0.01140838939219355,
          0.012877852522924733,
          0.014347315653655917,
          0.0158167787843871,
          0.017286241915118284,
          0.018297532177119543,
          0.009500000000000001,
          0.012000000000000002,
          0.014000000000000004,
          0.015469463130731187,
          0.01693892626146237,
          0.018408389392193553,
          0.019877852522924736,
          0.02134731565365592,
          0.022816778784387103,
          0.024286241915118287,
          0.025143423166510415,
          0.016500000000000004,
          0.019000000000000003,
          0.019997730003511877
         ]
        }
       ],
       "layout": {
        "autosize": true,
        "scene": {
         "aspectmode": "data",
         "aspectratio": {
          "x": 1.8863371877474364,
          "y": 0.10507924819452215,
          "z": 5.045029574678784
         },
         "camera": {
          "center": {
           "x": 0,
           "y": 0,
           "z": 0
          },
          "eye": {
           "x": 6.473859439814131,
           "y": 6.47385943981413,
           "z": 6.47385943981413
          },
          "projection": {
           "type": "perspective"
          },
          "up": {
           "x": 0,
           "y": 0,
           "z": 1
          }
         }
        },
        "template": {
         "data": {
          "bar": [
           {
            "error_x": {
             "color": "#2a3f5f"
            },
            "error_y": {
             "color": "#2a3f5f"
            },
            "marker": {
             "line": {
              "color": "#E5ECF6",
              "width": 0.5
             }
            },
            "type": "bar"
           }
          ],
          "barpolar": [
           {
            "marker": {
             "line": {
              "color": "#E5ECF6",
              "width": 0.5
             }
            },
            "type": "barpolar"
           }
          ],
          "carpet": [
           {
            "aaxis": {
             "endlinecolor": "#2a3f5f",
             "gridcolor": "white",
             "linecolor": "white",
             "minorgridcolor": "white",
             "startlinecolor": "#2a3f5f"
            },
            "baxis": {
             "endlinecolor": "#2a3f5f",
             "gridcolor": "white",
             "linecolor": "white",
             "minorgridcolor": "white",
             "startlinecolor": "#2a3f5f"
            },
            "type": "carpet"
           }
          ],
          "choropleth": [
           {
            "colorbar": {
             "outlinewidth": 0,
             "ticks": ""
            },
            "type": "choropleth"
           }
          ],
          "contour": [
           {
            "colorbar": {
             "outlinewidth": 0,
             "ticks": ""
            },
            "colorscale": [
             [
              0,
              "#0d0887"
             ],
             [
              0.1111111111111111,
              "#46039f"
             ],
             [
              0.2222222222222222,
              "#7201a8"
             ],
             [
              0.3333333333333333,
              "#9c179e"
             ],
             [
              0.4444444444444444,
              "#bd3786"
             ],
             [
              0.5555555555555556,
              "#d8576b"
             ],
             [
              0.6666666666666666,
              "#ed7953"
             ],
             [
              0.7777777777777778,
              "#fb9f3a"
             ],
             [
              0.8888888888888888,
              "#fdca26"
             ],
             [
              1,
              "#f0f921"
             ]
            ],
            "type": "contour"
           }
          ],
          "contourcarpet": [
           {
            "colorbar": {
             "outlinewidth": 0,
             "ticks": ""
            },
            "type": "contourcarpet"
           }
          ],
          "heatmap": [
           {
            "colorbar": {
             "outlinewidth": 0,
             "ticks": ""
            },
            "colorscale": [
             [
              0,
              "#0d0887"
             ],
             [
              0.1111111111111111,
              "#46039f"
             ],
             [
              0.2222222222222222,
              "#7201a8"
             ],
             [
              0.3333333333333333,
              "#9c179e"
             ],
             [
              0.4444444444444444,
              "#bd3786"
             ],
             [
              0.5555555555555556,
              "#d8576b"
             ],
             [
              0.6666666666666666,
              "#ed7953"
             ],
             [
              0.7777777777777778,
              "#fb9f3a"
             ],
             [
              0.8888888888888888,
              "#fdca26"
             ],
             [
              1,
              "#f0f921"
             ]
            ],
            "type": "heatmap"
           }
          ],
          "heatmapgl": [
           {
            "colorbar": {
             "outlinewidth": 0,
             "ticks": ""
            },
            "colorscale": [
             [
              0,
              "#0d0887"
             ],
             [
              0.1111111111111111,
              "#46039f"
             ],
             [
              0.2222222222222222,
              "#7201a8"
             ],
             [
              0.3333333333333333,
              "#9c179e"
             ],
             [
              0.4444444444444444,
              "#bd3786"
             ],
             [
              0.5555555555555556,
              "#d8576b"
             ],
             [
              0.6666666666666666,
              "#ed7953"
             ],
             [
              0.7777777777777778,
              "#fb9f3a"
             ],
             [
              0.8888888888888888,
              "#fdca26"
             ],
             [
              1,
              "#f0f921"
             ]
            ],
            "type": "heatmapgl"
           }
          ],
          "histogram": [
           {
            "marker": {
             "colorbar": {
              "outlinewidth": 0,
              "ticks": ""
             }
            },
            "type": "histogram"
           }
          ],
          "histogram2d": [
           {
            "colorbar": {
             "outlinewidth": 0,
             "ticks": ""
            },
            "colorscale": [
             [
              0,
              "#0d0887"
             ],
             [
              0.1111111111111111,
              "#46039f"
             ],
             [
              0.2222222222222222,
              "#7201a8"
             ],
             [
              0.3333333333333333,
              "#9c179e"
             ],
             [
              0.4444444444444444,
              "#bd3786"
             ],
             [
              0.5555555555555556,
              "#d8576b"
             ],
             [
              0.6666666666666666,
              "#ed7953"
             ],
             [
              0.7777777777777778,
              "#fb9f3a"
             ],
             [
              0.8888888888888888,
              "#fdca26"
             ],
             [
              1,
              "#f0f921"
             ]
            ],
            "type": "histogram2d"
           }
          ],
          "histogram2dcontour": [
           {
            "colorbar": {
             "outlinewidth": 0,
             "ticks": ""
            },
            "colorscale": [
             [
              0,
              "#0d0887"
             ],
             [
              0.1111111111111111,
              "#46039f"
             ],
             [
              0.2222222222222222,
              "#7201a8"
             ],
             [
              0.3333333333333333,
              "#9c179e"
             ],
             [
              0.4444444444444444,
              "#bd3786"
             ],
             [
              0.5555555555555556,
              "#d8576b"
             ],
             [
              0.6666666666666666,
              "#ed7953"
             ],
             [
              0.7777777777777778,
              "#fb9f3a"
             ],
             [
              0.8888888888888888,
              "#fdca26"
             ],
             [
              1,
              "#f0f921"
             ]
            ],
            "type": "histogram2dcontour"
           }
          ],
          "mesh3d": [
           {
            "colorbar": {
             "outlinewidth": 0,
             "ticks": ""
            },
            "type": "mesh3d"
           }
          ],
          "parcoords": [
           {
            "line": {
             "colorbar": {
              "outlinewidth": 0,
              "ticks": ""
             }
            },
            "type": "parcoords"
           }
          ],
          "scatter": [
           {
            "marker": {
             "colorbar": {
              "outlinewidth": 0,
              "ticks": ""
             }
            },
            "type": "scatter"
           }
          ],
          "scatter3d": [
           {
            "line": {
             "colorbar": {
              "outlinewidth": 0,
              "ticks": ""
             }
            },
            "marker": {
             "colorbar": {
              "outlinewidth": 0,
              "ticks": ""
             }
            },
            "type": "scatter3d"
           }
          ],
          "scattercarpet": [
           {
            "marker": {
             "colorbar": {
              "outlinewidth": 0,
              "ticks": ""
             }
            },
            "type": "scattercarpet"
           }
          ],
          "scattergeo": [
           {
            "marker": {
             "colorbar": {
              "outlinewidth": 0,
              "ticks": ""
             }
            },
            "type": "scattergeo"
           }
          ],
          "scattergl": [
           {
            "marker": {
             "colorbar": {
              "outlinewidth": 0,
              "ticks": ""
             }
            },
            "type": "scattergl"
           }
          ],
          "scattermapbox": [
           {
            "marker": {
             "colorbar": {
              "outlinewidth": 0,
              "ticks": ""
             }
            },
            "type": "scattermapbox"
           }
          ],
          "scatterpolar": [
           {
            "marker": {
             "colorbar": {
              "outlinewidth": 0,
              "ticks": ""
             }
            },
            "type": "scatterpolar"
           }
          ],
          "scatterpolargl": [
           {
            "marker": {
             "colorbar": {
              "outlinewidth": 0,
              "ticks": ""
             }
            },
            "type": "scatterpolargl"
           }
          ],
          "scatterternary": [
           {
            "marker": {
             "colorbar": {
              "outlinewidth": 0,
              "ticks": ""
             }
            },
            "type": "scatterternary"
           }
          ],
          "surface": [
           {
            "colorbar": {
             "outlinewidth": 0,
             "ticks": ""
            },
            "colorscale": [
             [
              0,
              "#0d0887"
             ],
             [
              0.1111111111111111,
              "#46039f"
             ],
             [
              0.2222222222222222,
              "#7201a8"
             ],
             [
              0.3333333333333333,
              "#9c179e"
             ],
             [
              0.4444444444444444,
              "#bd3786"
             ],
             [
              0.5555555555555556,
              "#d8576b"
             ],
             [
              0.6666666666666666,
              "#ed7953"
             ],
             [
              0.7777777777777778,
              "#fb9f3a"
             ],
             [
              0.8888888888888888,
              "#fdca26"
             ],
             [
              1,
              "#f0f921"
             ]
            ],
            "type": "surface"
           }
          ],
          "table": [
           {
            "cells": {
             "fill": {
              "color": "#EBF0F8"
             },
             "line": {
              "color": "white"
             }
            },
            "header": {
             "fill": {
              "color": "#C8D4E3"
             },
             "line": {
              "color": "white"
             }
            },
            "type": "table"
           }
          ]
         },
         "layout": {
          "annotationdefaults": {
           "arrowcolor": "#2a3f5f",
           "arrowhead": 0,
           "arrowwidth": 1
          },
          "colorscale": {
           "diverging": [
            [
             0,
             "#8e0152"
            ],
            [
             0.1,
             "#c51b7d"
            ],
            [
             0.2,
             "#de77ae"
            ],
            [
             0.3,
             "#f1b6da"
            ],
            [
             0.4,
             "#fde0ef"
            ],
            [
             0.5,
             "#f7f7f7"
            ],
            [
             0.6,
             "#e6f5d0"
            ],
            [
             0.7,
             "#b8e186"
            ],
            [
             0.8,
             "#7fbc41"
            ],
            [
             0.9,
             "#4d9221"
            ],
            [
             1,
             "#276419"
            ]
           ],
           "sequential": [
            [
             0,
             "#0d0887"
            ],
            [
             0.1111111111111111,
             "#46039f"
            ],
            [
             0.2222222222222222,
             "#7201a8"
            ],
            [
             0.3333333333333333,
             "#9c179e"
            ],
            [
             0.4444444444444444,
             "#bd3786"
            ],
            [
             0.5555555555555556,
             "#d8576b"
            ],
            [
             0.6666666666666666,
             "#ed7953"
            ],
            [
             0.7777777777777778,
             "#fb9f3a"
            ],
            [
             0.8888888888888888,
             "#fdca26"
            ],
            [
             1,
             "#f0f921"
            ]
           ],
           "sequentialminus": [
            [
             0,
             "#0d0887"
            ],
            [
             0.1111111111111111,
             "#46039f"
            ],
            [
             0.2222222222222222,
             "#7201a8"
            ],
            [
             0.3333333333333333,
             "#9c179e"
            ],
            [
             0.4444444444444444,
             "#bd3786"
            ],
            [
             0.5555555555555556,
             "#d8576b"
            ],
            [
             0.6666666666666666,
             "#ed7953"
            ],
            [
             0.7777777777777778,
             "#fb9f3a"
            ],
            [
             0.8888888888888888,
             "#fdca26"
            ],
            [
             1,
             "#f0f921"
            ]
           ]
          },
          "colorway": [
           "#636efa",
           "#EF553B",
           "#00cc96",
           "#ab63fa",
           "#FFA15A",
           "#19d3f3",
           "#FF6692",
           "#B6E880",
           "#FF97FF",
           "#FECB52"
          ],
          "font": {
           "color": "#2a3f5f"
          },
          "geo": {
           "bgcolor": "white",
           "lakecolor": "white",
           "landcolor": "#E5ECF6",
           "showlakes": true,
           "showland": true,
           "subunitcolor": "white"
          },
          "hoverlabel": {
           "align": "left"
          },
          "hovermode": "closest",
          "mapbox": {
           "style": "light"
          },
          "paper_bgcolor": "white",
          "plot_bgcolor": "#E5ECF6",
          "polar": {
           "angularaxis": {
            "gridcolor": "white",
            "linecolor": "white",
            "ticks": ""
           },
           "bgcolor": "#E5ECF6",
           "radialaxis": {
            "gridcolor": "white",
            "linecolor": "white",
            "ticks": ""
           }
          },
          "scene": {
           "xaxis": {
            "backgroundcolor": "#E5ECF6",
            "gridcolor": "white",
            "gridwidth": 2,
            "linecolor": "white",
            "showbackground": true,
            "ticks": "",
            "zerolinecolor": "white"
           },
           "yaxis": {
            "backgroundcolor": "#E5ECF6",
            "gridcolor": "white",
            "gridwidth": 2,
            "linecolor": "white",
            "showbackground": true,
            "ticks": "",
            "zerolinecolor": "white"
           },
           "zaxis": {
            "backgroundcolor": "#E5ECF6",
            "gridcolor": "white",
            "gridwidth": 2,
            "linecolor": "white",
            "showbackground": true,
            "ticks": "",
            "zerolinecolor": "white"
           }
          },
          "shapedefaults": {
           "line": {
            "color": "#2a3f5f"
           }
          },
          "ternary": {
           "aaxis": {
            "gridcolor": "white",
            "linecolor": "white",
            "ticks": ""
           },
           "baxis": {
            "gridcolor": "white",
            "linecolor": "white",
            "ticks": ""
           },
           "bgcolor": "#E5ECF6",
           "caxis": {
            "gridcolor": "white",
            "linecolor": "white",
            "ticks": ""
           }
          },
          "title": {
           "x": 0.05
          },
          "xaxis": {
           "automargin": true,
           "gridcolor": "white",
           "linecolor": "white",
           "ticks": "",
           "zerolinecolor": "white",
           "zerolinewidth": 2
          },
          "yaxis": {
           "automargin": true,
           "gridcolor": "white",
           "linecolor": "white",
           "ticks": "",
           "zerolinecolor": "white",
           "zerolinewidth": 2
          }
         }
        }
       }
      },
      "text/html": [
       "<div>\n",
       "        \n",
       "        \n",
       "            <div id=\"08f5af0a-de6c-4744-85c4-d6fa3765a3e5\" class=\"plotly-graph-div\" style=\"height:525px; width:100%;\"></div>\n",
       "            <script type=\"text/javascript\">\n",
       "                require([\"plotly\"], function(Plotly) {\n",
       "                    window.PLOTLYENV=window.PLOTLYENV || {};\n",
       "                    \n",
       "                if (document.getElementById(\"08f5af0a-de6c-4744-85c4-d6fa3765a3e5\")) {\n",
       "                    Plotly.newPlot(\n",
       "                        '08f5af0a-de6c-4744-85c4-d6fa3765a3e5',\n",
       "                        [{\"marker\": {\"color\": [2.0, 4.0, 2.0, 2.0, 2.0, 2.0, 2.0, 2.0, 2.0, 2.0, 2.0, 2.0, 2.0, 2.0, 2.0, 4.0, 4.0, 4.0, 4.0, 4.0, 4.0, 4.0, 4.0, 4.0, 4.0, 4.0, 4.0, 8.0, 8.0, 8.0, 8.0, 8.0, 8.0, 8.0, 8.0, 4.0, 4.0, 4.0, 8.0, 8.0, 8.0, 8.0, 8.0, 8.0, 8.0, 8.0, 4.0, 4.0, 4.0, 8.0, 8.0, 8.0, 8.0, 8.0, 8.0, 8.0, 8.0, 4.0, 4.0, 4.0], \"colorscale\": [[0, \"wheat\"], [0.5, \"darkgreen\"], [1.0, \"lightgreen\"]], \"opacity\": 0.8, \"size\": 3}, \"mode\": \"markers\", \"type\": \"scatter3d\", \"x\": [0.0, 0.0, -9.17033048225303e-05, -0.000194311660268549, -0.0005843957383868941, -0.00118326841841254, -0.0020092814160217447, -0.0017547738321565304, -0.0024449975467080417, -0.003358032463529331, -0.00430926885340538, -0.005285828798179363, -0.0065443001732138385, -0.00783770586814748, -0.008491560164270683, 0.0, 0.0, 0.0, 0.0, 0.0, 0.0, 0.0, 0.0, 0.0, 0.0, 0.0, 0.0, -0.0020225424859373685, -0.004045084971874737, -0.006067627457812106, -0.008090169943749474, -0.010112712429686843, -0.012135254915624212, -0.01415779740156158, -0.015643789100317572, 0.0, 0.0, 0.0, 0.0020225424859373685, 0.004045084971874737, 0.006067627457812106, 0.008090169943749474, 0.010112712429686843, 0.012135254915624212, 0.01415779740156158, 0.01554971903452867, 0.0, 0.0, 0.0, -0.0020225424859373685, -0.004045084971874737, -0.006067627457812106, -0.008090169943749474, -0.010112712429686843, -0.012135254915624212, -0.01415779740156158, -0.015337606178544561, 0.0, 0.0, 0.0], \"y\": [0.0, 0.0, -0.0002700129269752699, -0.0005222274562862034, -0.0006113072720133471, -0.0006756830788445804, 0.0005924806657303798, -0.0007250080502999654, -0.0005366764649118907, -0.0004016552481436099, -0.0005307398941985594, -0.0006657502081876429, -0.0010262778523501869, -0.0010608349706789236, -0.0011451675154378644, 0.0, 0.0, 0.0, 0.0, 0.0, 0.0, 0.0, 0.0, 0.0, 0.0, 0.0, 0.0, 7.133472522843059e-17, 1.4266945045686119e-16, 2.140041756852918e-16, 2.853389009137224e-16, 3.5667362614215307e-16, 4.2800835137058373e-16, 4.993430765990143e-16, 5.51753747949317e-16, 0.0, 0.0, 0.0, -9.313895831381945e-17, -1.862779166276389e-16, -2.794168749414583e-16, -3.725558332552777e-16, -4.656947915690971e-16, -5.588337498829165e-16, -6.51972708196736e-16, -7.160713028371058e-16, 0.0, 0.0, 0.0, 1.149431913992083e-16, 2.298863827984166e-16, 3.448295741976249e-16, 4.597727655968333e-16, 5.747159569960417e-16, 6.896591483952499e-16, 8.046023397944583e-16, 8.716520987044028e-16, 0.0, 0.0, 0.0], \"z\": [-0.03, -0.03, -0.03248368345872635, -0.03496881109259088, -0.03743658320492795, -0.03986293999415202, -0.04020387669907954, -0.04229623993646334, -0.04469167777490037, -0.04701506678918265, -0.04932341825391424, -0.051620830469730025, -0.05375068248712782, -0.05588981958275447, -0.05828395773891935, -0.0275, -0.025, -0.0225, -0.02, -0.0175, -0.015, -0.0125, -0.01, -0.0075, -0.005, -0.0025, 0.0, 0.0014694631307311829, 0.0029389262614623658, 0.004408389392193549, 0.0058778525229247315, 0.007347315653655915, 0.008816778784387098, 0.010286241915118281, 0.01136587808052744, 0.0025, 0.005, 0.007000000000000002, 0.008469463130731185, 0.009938926261462368, 0.01140838939219355, 0.012877852522924733, 0.014347315653655917, 0.0158167787843871, 0.017286241915118284, 0.018297532177119543, 0.009500000000000001, 0.012000000000000002, 0.014000000000000004, 0.015469463130731187, 0.01693892626146237, 0.018408389392193553, 0.019877852522924736, 0.02134731565365592, 0.022816778784387103, 0.024286241915118287, 0.025143423166510415, 0.016500000000000004, 0.019000000000000003, 0.019997730003511877]}],\n",
       "                        {\"scene\": {\"aspectmode\": \"data\"}, \"template\": {\"data\": {\"bar\": [{\"error_x\": {\"color\": \"#2a3f5f\"}, \"error_y\": {\"color\": \"#2a3f5f\"}, \"marker\": {\"line\": {\"color\": \"#E5ECF6\", \"width\": 0.5}}, \"type\": \"bar\"}], \"barpolar\": [{\"marker\": {\"line\": {\"color\": \"#E5ECF6\", \"width\": 0.5}}, \"type\": \"barpolar\"}], \"carpet\": [{\"aaxis\": {\"endlinecolor\": \"#2a3f5f\", \"gridcolor\": \"white\", \"linecolor\": \"white\", \"minorgridcolor\": \"white\", \"startlinecolor\": \"#2a3f5f\"}, \"baxis\": {\"endlinecolor\": \"#2a3f5f\", \"gridcolor\": \"white\", \"linecolor\": \"white\", \"minorgridcolor\": \"white\", \"startlinecolor\": \"#2a3f5f\"}, \"type\": \"carpet\"}], \"choropleth\": [{\"colorbar\": {\"outlinewidth\": 0, \"ticks\": \"\"}, \"type\": \"choropleth\"}], \"contour\": [{\"colorbar\": {\"outlinewidth\": 0, \"ticks\": \"\"}, \"colorscale\": [[0.0, \"#0d0887\"], [0.1111111111111111, \"#46039f\"], [0.2222222222222222, \"#7201a8\"], [0.3333333333333333, \"#9c179e\"], [0.4444444444444444, \"#bd3786\"], [0.5555555555555556, \"#d8576b\"], [0.6666666666666666, \"#ed7953\"], [0.7777777777777778, \"#fb9f3a\"], [0.8888888888888888, \"#fdca26\"], [1.0, \"#f0f921\"]], \"type\": \"contour\"}], \"contourcarpet\": [{\"colorbar\": {\"outlinewidth\": 0, \"ticks\": \"\"}, \"type\": \"contourcarpet\"}], \"heatmap\": [{\"colorbar\": {\"outlinewidth\": 0, \"ticks\": \"\"}, \"colorscale\": [[0.0, \"#0d0887\"], [0.1111111111111111, \"#46039f\"], [0.2222222222222222, \"#7201a8\"], [0.3333333333333333, \"#9c179e\"], [0.4444444444444444, \"#bd3786\"], [0.5555555555555556, \"#d8576b\"], [0.6666666666666666, \"#ed7953\"], [0.7777777777777778, \"#fb9f3a\"], [0.8888888888888888, \"#fdca26\"], [1.0, \"#f0f921\"]], \"type\": \"heatmap\"}], \"heatmapgl\": [{\"colorbar\": {\"outlinewidth\": 0, \"ticks\": \"\"}, \"colorscale\": [[0.0, \"#0d0887\"], [0.1111111111111111, \"#46039f\"], [0.2222222222222222, \"#7201a8\"], [0.3333333333333333, \"#9c179e\"], [0.4444444444444444, \"#bd3786\"], [0.5555555555555556, \"#d8576b\"], [0.6666666666666666, \"#ed7953\"], [0.7777777777777778, \"#fb9f3a\"], [0.8888888888888888, \"#fdca26\"], [1.0, \"#f0f921\"]], \"type\": \"heatmapgl\"}], \"histogram\": [{\"marker\": {\"colorbar\": {\"outlinewidth\": 0, \"ticks\": \"\"}}, \"type\": \"histogram\"}], \"histogram2d\": [{\"colorbar\": {\"outlinewidth\": 0, \"ticks\": \"\"}, \"colorscale\": [[0.0, \"#0d0887\"], [0.1111111111111111, \"#46039f\"], [0.2222222222222222, \"#7201a8\"], [0.3333333333333333, \"#9c179e\"], [0.4444444444444444, \"#bd3786\"], [0.5555555555555556, \"#d8576b\"], [0.6666666666666666, \"#ed7953\"], [0.7777777777777778, \"#fb9f3a\"], [0.8888888888888888, \"#fdca26\"], [1.0, \"#f0f921\"]], \"type\": \"histogram2d\"}], \"histogram2dcontour\": [{\"colorbar\": {\"outlinewidth\": 0, \"ticks\": \"\"}, \"colorscale\": [[0.0, \"#0d0887\"], [0.1111111111111111, \"#46039f\"], [0.2222222222222222, \"#7201a8\"], [0.3333333333333333, \"#9c179e\"], [0.4444444444444444, \"#bd3786\"], [0.5555555555555556, \"#d8576b\"], [0.6666666666666666, \"#ed7953\"], [0.7777777777777778, \"#fb9f3a\"], [0.8888888888888888, \"#fdca26\"], [1.0, \"#f0f921\"]], \"type\": \"histogram2dcontour\"}], \"mesh3d\": [{\"colorbar\": {\"outlinewidth\": 0, \"ticks\": \"\"}, \"type\": \"mesh3d\"}], \"parcoords\": [{\"line\": {\"colorbar\": {\"outlinewidth\": 0, \"ticks\": \"\"}}, \"type\": \"parcoords\"}], \"scatter\": [{\"marker\": {\"colorbar\": {\"outlinewidth\": 0, \"ticks\": \"\"}}, \"type\": \"scatter\"}], \"scatter3d\": [{\"line\": {\"colorbar\": {\"outlinewidth\": 0, \"ticks\": \"\"}}, \"marker\": {\"colorbar\": {\"outlinewidth\": 0, \"ticks\": \"\"}}, \"type\": \"scatter3d\"}], \"scattercarpet\": [{\"marker\": {\"colorbar\": {\"outlinewidth\": 0, \"ticks\": \"\"}}, \"type\": \"scattercarpet\"}], \"scattergeo\": [{\"marker\": {\"colorbar\": {\"outlinewidth\": 0, \"ticks\": \"\"}}, \"type\": \"scattergeo\"}], \"scattergl\": [{\"marker\": {\"colorbar\": {\"outlinewidth\": 0, \"ticks\": \"\"}}, \"type\": \"scattergl\"}], \"scattermapbox\": [{\"marker\": {\"colorbar\": {\"outlinewidth\": 0, \"ticks\": \"\"}}, \"type\": \"scattermapbox\"}], \"scatterpolar\": [{\"marker\": {\"colorbar\": {\"outlinewidth\": 0, \"ticks\": \"\"}}, \"type\": \"scatterpolar\"}], \"scatterpolargl\": [{\"marker\": {\"colorbar\": {\"outlinewidth\": 0, \"ticks\": \"\"}}, \"type\": \"scatterpolargl\"}], \"scatterternary\": [{\"marker\": {\"colorbar\": {\"outlinewidth\": 0, \"ticks\": \"\"}}, \"type\": \"scatterternary\"}], \"surface\": [{\"colorbar\": {\"outlinewidth\": 0, \"ticks\": \"\"}, \"colorscale\": [[0.0, \"#0d0887\"], [0.1111111111111111, \"#46039f\"], [0.2222222222222222, \"#7201a8\"], [0.3333333333333333, \"#9c179e\"], [0.4444444444444444, \"#bd3786\"], [0.5555555555555556, \"#d8576b\"], [0.6666666666666666, \"#ed7953\"], [0.7777777777777778, \"#fb9f3a\"], [0.8888888888888888, \"#fdca26\"], [1.0, \"#f0f921\"]], \"type\": \"surface\"}], \"table\": [{\"cells\": {\"fill\": {\"color\": \"#EBF0F8\"}, \"line\": {\"color\": \"white\"}}, \"header\": {\"fill\": {\"color\": \"#C8D4E3\"}, \"line\": {\"color\": \"white\"}}, \"type\": \"table\"}]}, \"layout\": {\"annotationdefaults\": {\"arrowcolor\": \"#2a3f5f\", \"arrowhead\": 0, \"arrowwidth\": 1}, \"colorscale\": {\"diverging\": [[0, \"#8e0152\"], [0.1, \"#c51b7d\"], [0.2, \"#de77ae\"], [0.3, \"#f1b6da\"], [0.4, \"#fde0ef\"], [0.5, \"#f7f7f7\"], [0.6, \"#e6f5d0\"], [0.7, \"#b8e186\"], [0.8, \"#7fbc41\"], [0.9, \"#4d9221\"], [1, \"#276419\"]], \"sequential\": [[0.0, \"#0d0887\"], [0.1111111111111111, \"#46039f\"], [0.2222222222222222, \"#7201a8\"], [0.3333333333333333, \"#9c179e\"], [0.4444444444444444, \"#bd3786\"], [0.5555555555555556, \"#d8576b\"], [0.6666666666666666, \"#ed7953\"], [0.7777777777777778, \"#fb9f3a\"], [0.8888888888888888, \"#fdca26\"], [1.0, \"#f0f921\"]], \"sequentialminus\": [[0.0, \"#0d0887\"], [0.1111111111111111, \"#46039f\"], [0.2222222222222222, \"#7201a8\"], [0.3333333333333333, \"#9c179e\"], [0.4444444444444444, \"#bd3786\"], [0.5555555555555556, \"#d8576b\"], [0.6666666666666666, \"#ed7953\"], [0.7777777777777778, \"#fb9f3a\"], [0.8888888888888888, \"#fdca26\"], [1.0, \"#f0f921\"]]}, \"colorway\": [\"#636efa\", \"#EF553B\", \"#00cc96\", \"#ab63fa\", \"#FFA15A\", \"#19d3f3\", \"#FF6692\", \"#B6E880\", \"#FF97FF\", \"#FECB52\"], \"font\": {\"color\": \"#2a3f5f\"}, \"geo\": {\"bgcolor\": \"white\", \"lakecolor\": \"white\", \"landcolor\": \"#E5ECF6\", \"showlakes\": true, \"showland\": true, \"subunitcolor\": \"white\"}, \"hoverlabel\": {\"align\": \"left\"}, \"hovermode\": \"closest\", \"mapbox\": {\"style\": \"light\"}, \"paper_bgcolor\": \"white\", \"plot_bgcolor\": \"#E5ECF6\", \"polar\": {\"angularaxis\": {\"gridcolor\": \"white\", \"linecolor\": \"white\", \"ticks\": \"\"}, \"bgcolor\": \"#E5ECF6\", \"radialaxis\": {\"gridcolor\": \"white\", \"linecolor\": \"white\", \"ticks\": \"\"}}, \"scene\": {\"xaxis\": {\"backgroundcolor\": \"#E5ECF6\", \"gridcolor\": \"white\", \"gridwidth\": 2, \"linecolor\": \"white\", \"showbackground\": true, \"ticks\": \"\", \"zerolinecolor\": \"white\"}, \"yaxis\": {\"backgroundcolor\": \"#E5ECF6\", \"gridcolor\": \"white\", \"gridwidth\": 2, \"linecolor\": \"white\", \"showbackground\": true, \"ticks\": \"\", \"zerolinecolor\": \"white\"}, \"zaxis\": {\"backgroundcolor\": \"#E5ECF6\", \"gridcolor\": \"white\", \"gridwidth\": 2, \"linecolor\": \"white\", \"showbackground\": true, \"ticks\": \"\", \"zerolinecolor\": \"white\"}}, \"shapedefaults\": {\"line\": {\"color\": \"#2a3f5f\"}}, \"ternary\": {\"aaxis\": {\"gridcolor\": \"white\", \"linecolor\": \"white\", \"ticks\": \"\"}, \"baxis\": {\"gridcolor\": \"white\", \"linecolor\": \"white\", \"ticks\": \"\"}, \"bgcolor\": \"#E5ECF6\", \"caxis\": {\"gridcolor\": \"white\", \"linecolor\": \"white\", \"ticks\": \"\"}}, \"title\": {\"x\": 0.05}, \"xaxis\": {\"automargin\": true, \"gridcolor\": \"white\", \"linecolor\": \"white\", \"ticks\": \"\", \"zerolinecolor\": \"white\", \"zerolinewidth\": 2}, \"yaxis\": {\"automargin\": true, \"gridcolor\": \"white\", \"linecolor\": \"white\", \"ticks\": \"\", \"zerolinecolor\": \"white\", \"zerolinewidth\": 2}}}},\n",
       "                        {\"responsive\": true}\n",
       "                    ).then(function(){\n",
       "                            \n",
       "var gd = document.getElementById('08f5af0a-de6c-4744-85c4-d6fa3765a3e5');\n",
       "var x = new MutationObserver(function (mutations, observer) {{\n",
       "        var display = window.getComputedStyle(gd).display;\n",
       "        if (!display || display === 'none') {{\n",
       "            console.log([gd, 'removed!']);\n",
       "            Plotly.purge(gd);\n",
       "            observer.disconnect();\n",
       "        }}\n",
       "}});\n",
       "\n",
       "// Listen for the removal of the full notebook cells\n",
       "var notebookContainer = gd.closest('#notebook-container');\n",
       "if (notebookContainer) {{\n",
       "    x.observe(notebookContainer, {childList: true});\n",
       "}}\n",
       "\n",
       "// Listen for the clearing of the current output cell\n",
       "var outputEl = gd.closest('.output');\n",
       "if (outputEl) {{\n",
       "    x.observe(outputEl, {childList: true});\n",
       "}}\n",
       "\n",
       "                        })\n",
       "                };\n",
       "                });\n",
       "            </script>\n",
       "        </div>"
      ]
     },
     "metadata": {},
     "output_type": "display_data"
    }
   ],
   "source": [
    "# change lb to 3 based on the testXML created in last section\n",
    "name = 'testXML'\n",
    "change_parameter('testXML', 'testXML', 'stem', '1', 'lb', 'value','3')\n",
    "smallplant = CPlantBox(name, time, name) # make a plant object in python\n",
    "fig = visual_plant(smallplant)    \n",
    "fig.show()\n",
    "# now there is 3 branches again"
   ]
  },
  {
   "cell_type": "markdown",
   "metadata": {},
   "source": [
    "### 5.2.2Let's change the ln to see what will happen?\n",
    "ln is the internode distance"
   ]
  },
  {
   "cell_type": "code",
   "execution_count": 55,
   "metadata": {},
   "outputs": [
    {
     "name": "stdout",
     "output_type": "stream",
     "text": [
      "original lmax is 0.5, changed to 0.3\n"
     ]
    },
    {
     "data": {
      "application/vnd.plotly.v1+json": {
       "config": {
        "plotlyServerURL": "https://plot.ly"
       },
       "data": [
        {
         "marker": {
          "color": [
           2,
           4,
           2,
           2,
           2,
           2,
           2,
           2,
           2,
           2,
           2,
           2,
           2,
           2,
           2,
           4,
           4,
           4,
           4,
           4,
           4,
           4,
           4,
           4,
           4,
           4,
           4,
           8,
           8,
           8,
           8,
           8,
           8,
           8,
           8,
           4,
           4,
           8,
           8,
           8,
           8,
           8,
           8,
           8,
           8,
           4,
           4,
           8,
           8,
           8,
           8,
           8,
           8,
           8,
           8,
           4,
           4,
           8,
           8,
           8,
           8,
           8,
           8,
           8,
           8,
           4,
           4,
           8,
           8,
           8,
           8,
           8,
           8,
           8,
           8,
           4,
           4,
           8,
           8,
           8,
           8,
           8,
           8,
           8,
           8,
           4,
           4,
           8,
           8,
           8,
           8,
           8,
           8,
           8,
           8,
           4
          ],
          "colorscale": [
           [
            0,
            "wheat"
           ],
           [
            0.5,
            "darkgreen"
           ],
           [
            1,
            "lightgreen"
           ]
          ],
          "opacity": 0.8,
          "size": 3
         },
         "mode": "markers",
         "type": "scatter3d",
         "x": [
          0,
          0,
          8.15011624180435e-05,
          0.0002005403138231415,
          -6.229389577585246e-05,
          -0.00030082676703733314,
          -0.0002189509891218644,
          -0.00038797272816378826,
          -0.00043015446690260596,
          -0.0004765147853034217,
          -0.0005383984435603018,
          -0.000500412285204644,
          -0.000740230815972188,
          -0.0006616791766783464,
          -0.0009453377175617873,
          0,
          0,
          0,
          0,
          0,
          0,
          0,
          0,
          0,
          0,
          0,
          0,
          -0.0020225424859373685,
          -0.004045084971874737,
          -0.006067627457812106,
          -0.008090169943749474,
          -0.010112712429686843,
          -0.012135254915624212,
          -0.01415779740156158,
          -0.015643789100317572,
          0,
          0,
          0.0020225424859373685,
          0.004045084971874737,
          0.006067627457812106,
          0.008090169943749474,
          0.010112712429686843,
          0.012135254915624212,
          0.01415779740156158,
          0.01561007223292106,
          0,
          0,
          -0.0020225424859373685,
          -0.004045084971874737,
          -0.006067627457812106,
          -0.008090169943749474,
          -0.010112712429686843,
          -0.012135254915624212,
          -0.01415779740156158,
          -0.015567003019189934,
          0,
          0,
          0.0020225424859373685,
          0.004045084971874737,
          0.006067627457812106,
          0.008090169943749474,
          0.010112712429686843,
          0.012135254915624212,
          0.01415779740156158,
          0.015508949950214991,
          0,
          0,
          -0.0020225424859373685,
          -0.004045084971874737,
          -0.006067627457812106,
          -0.008090169943749474,
          -0.010112712429686843,
          -0.012135254915624212,
          -0.01415779740156158,
          -0.01542378866109725,
          0,
          0,
          0.0020225424859373685,
          0.004045084971874737,
          0.006067627457812106,
          0.008090169943749474,
          0.010112712429686843,
          0.012135254915624212,
          0.01415779740156158,
          0.015277972620414193,
          0,
          0,
          -0.0020225424859373685,
          -0.004045084971874737,
          -0.006067627457812106,
          -0.008090169943749474,
          -0.010112712429686843,
          -0.012135254915624212,
          -0.01415779740156158,
          -0.014907977459024975,
          0
         ],
         "y": [
          0,
          0,
          3.45824534245644e-05,
          6.478236300089043e-05,
          -0.00012773148373673701,
          -0.00046511023855085965,
          -0.00041497415286754054,
          -0.0007866549262349948,
          -0.0012206532505701657,
          -0.0012057686189084395,
          -0.0011543843438358492,
          -0.0013236742602458656,
          -0.0014578125455967919,
          -0.0014991576875617498,
          -0.0016178966253696666,
          0,
          0,
          0,
          0,
          0,
          0,
          0,
          0,
          0,
          0,
          0,
          0,
          1.4269949640811252e-16,
          2.8539899281622505e-16,
          4.280984892243376e-16,
          5.707979856324501e-16,
          7.134974820405627e-16,
          8.561969784486752e-16,
          9.988964748567878e-16,
          1.1037398927594969e-15,
          0,
          0,
          -1.6450372949350138e-16,
          -3.2900745898700277e-16,
          -4.935111884805041e-16,
          -6.580149179740054e-16,
          -8.225186474675068e-16,
          -9.87022376961008e-16,
          -1.1515261064545093e-15,
          -1.2696470496086193e-15,
          0,
          0,
          -4.362849680494526e-17,
          -8.725699360989052e-17,
          -1.3088549041483579e-16,
          -1.7451398721978107e-16,
          -2.1814248402472636e-16,
          -2.6177098082967167e-16,
          -3.05399477634617e-16,
          -3.357976142441999e-16,
          0,
          0,
          2.182426371955641e-17,
          4.364852743911282e-17,
          6.547279115866923e-17,
          8.729705487822563e-17,
          1.0912131859778202e-16,
          1.3094558231733844e-16,
          1.5276984603689482e-16,
          1.6734947032275812e-16,
          0,
          0,
          -2.003063416756019e-20,
          -4.006126833512038e-20,
          -6.009190250268058e-20,
          -8.012253667024076e-20,
          -1.0015317083780096e-19,
          -1.2018380500536115e-19,
          -1.4021443917292136e-19,
          -1.5275242438480434e-19,
          0,
          0,
          -2.178420245122129e-17,
          -4.356840490244258e-17,
          -6.535260735366386e-17,
          -8.713680980488514e-17,
          -1.0892101225610642e-16,
          -1.307052147073277e-16,
          -1.5248941715854897e-16,
          -1.6455449065786637e-16,
          0,
          0,
          4.358843553661014e-17,
          8.717687107322028e-17,
          1.3076530660983043e-16,
          1.743537421464406e-16,
          2.1794217768305076e-16,
          2.615306132196609e-16,
          3.051190487562711e-16,
          3.2128641003691134e-16,
          0
         ],
         "z": [
          -0.03,
          -0.03,
          -0.03249843183105716,
          -0.034995413538217696,
          -0.03747409395268801,
          -0.03993971307273227,
          -0.039995894935777286,
          -0.04241741656493659,
          -0.044879096104476865,
          -0.04737862189322522,
          -0.04987732757199494,
          -0.052371299900625556,
          -0.05485615281230939,
          -0.057354576359108476,
          -0.059806777607551515,
          -0.0275,
          -0.025,
          -0.0225,
          -0.02,
          -0.0175,
          -0.015,
          -0.0125,
          -0.01,
          -0.0075,
          -0.005,
          -0.0025,
          0,
          0.0014694631307311829,
          0.0029389262614623658,
          0.004408389392193549,
          0.0058778525229247315,
          0.007347315653655915,
          0.008816778784387098,
          0.010286241915118281,
          0.01136587808052744,
          0.0025,
          0.0029999999999999983,
          0.004469463130731181,
          0.005938926261462364,
          0.007408389392193546,
          0.00887785252292473,
          0.010347315653655913,
          0.011816778784387097,
          0.01328624191511828,
          0.014341381342452757,
          0.005499999999999998,
          0.005999999999999997,
          0.00746946313073118,
          0.008938926261462362,
          0.010408389392193544,
          0.011877852522924727,
          0.013347315653655911,
          0.014816778784387094,
          0.01628624191511828,
          0.01731008972702934,
          0.008499999999999997,
          0.008999999999999994,
          0.010469463130731178,
          0.011938926261462361,
          0.013408389392193543,
          0.014877852522924727,
          0.01634731565365591,
          0.017816778784387092,
          0.019286241915118275,
          0.02026791170353781,
          0.011499999999999995,
          0.011999999999999993,
          0.013469463130731177,
          0.01493892626146236,
          0.01640838939219354,
          0.017877852522924724,
          0.019347315653655908,
          0.020816778784387095,
          0.022286241915118278,
          0.023206038405254016,
          0.014499999999999992,
          0.01499999999999999,
          0.016469463130731176,
          0.01793892626146236,
          0.01940838939219354,
          0.020877852522924723,
          0.022347315653655907,
          0.02381677878438709,
          0.025286241915118274,
          0.02610009685043241,
          0.01749999999999999,
          0.017999999999999988,
          0.019469463130731172,
          0.020938926261462355,
          0.02240838939219354,
          0.023877852522924722,
          0.025347315653655906,
          0.02681677878438709,
          0.028286241915118273,
          0.02883127963052693,
          0.019997730003511877
         ]
        }
       ],
       "layout": {
        "autosize": true,
        "scene": {
         "aspectmode": "data",
         "aspectratio": {
          "x": 1.870949019663643,
          "y": 0.10073016483094112,
          "z": 5.30613752093742
         },
         "camera": {
          "center": {
           "x": 0,
           "y": 0,
           "z": 0
          },
          "eye": {
           "x": -0.27033647607499917,
           "y": 14.675860087103922,
           "z": 3.640968906401767
          },
          "projection": {
           "type": "perspective"
          },
          "up": {
           "x": 0,
           "y": 0,
           "z": 1
          }
         }
        },
        "template": {
         "data": {
          "bar": [
           {
            "error_x": {
             "color": "#2a3f5f"
            },
            "error_y": {
             "color": "#2a3f5f"
            },
            "marker": {
             "line": {
              "color": "#E5ECF6",
              "width": 0.5
             }
            },
            "type": "bar"
           }
          ],
          "barpolar": [
           {
            "marker": {
             "line": {
              "color": "#E5ECF6",
              "width": 0.5
             }
            },
            "type": "barpolar"
           }
          ],
          "carpet": [
           {
            "aaxis": {
             "endlinecolor": "#2a3f5f",
             "gridcolor": "white",
             "linecolor": "white",
             "minorgridcolor": "white",
             "startlinecolor": "#2a3f5f"
            },
            "baxis": {
             "endlinecolor": "#2a3f5f",
             "gridcolor": "white",
             "linecolor": "white",
             "minorgridcolor": "white",
             "startlinecolor": "#2a3f5f"
            },
            "type": "carpet"
           }
          ],
          "choropleth": [
           {
            "colorbar": {
             "outlinewidth": 0,
             "ticks": ""
            },
            "type": "choropleth"
           }
          ],
          "contour": [
           {
            "colorbar": {
             "outlinewidth": 0,
             "ticks": ""
            },
            "colorscale": [
             [
              0,
              "#0d0887"
             ],
             [
              0.1111111111111111,
              "#46039f"
             ],
             [
              0.2222222222222222,
              "#7201a8"
             ],
             [
              0.3333333333333333,
              "#9c179e"
             ],
             [
              0.4444444444444444,
              "#bd3786"
             ],
             [
              0.5555555555555556,
              "#d8576b"
             ],
             [
              0.6666666666666666,
              "#ed7953"
             ],
             [
              0.7777777777777778,
              "#fb9f3a"
             ],
             [
              0.8888888888888888,
              "#fdca26"
             ],
             [
              1,
              "#f0f921"
             ]
            ],
            "type": "contour"
           }
          ],
          "contourcarpet": [
           {
            "colorbar": {
             "outlinewidth": 0,
             "ticks": ""
            },
            "type": "contourcarpet"
           }
          ],
          "heatmap": [
           {
            "colorbar": {
             "outlinewidth": 0,
             "ticks": ""
            },
            "colorscale": [
             [
              0,
              "#0d0887"
             ],
             [
              0.1111111111111111,
              "#46039f"
             ],
             [
              0.2222222222222222,
              "#7201a8"
             ],
             [
              0.3333333333333333,
              "#9c179e"
             ],
             [
              0.4444444444444444,
              "#bd3786"
             ],
             [
              0.5555555555555556,
              "#d8576b"
             ],
             [
              0.6666666666666666,
              "#ed7953"
             ],
             [
              0.7777777777777778,
              "#fb9f3a"
             ],
             [
              0.8888888888888888,
              "#fdca26"
             ],
             [
              1,
              "#f0f921"
             ]
            ],
            "type": "heatmap"
           }
          ],
          "heatmapgl": [
           {
            "colorbar": {
             "outlinewidth": 0,
             "ticks": ""
            },
            "colorscale": [
             [
              0,
              "#0d0887"
             ],
             [
              0.1111111111111111,
              "#46039f"
             ],
             [
              0.2222222222222222,
              "#7201a8"
             ],
             [
              0.3333333333333333,
              "#9c179e"
             ],
             [
              0.4444444444444444,
              "#bd3786"
             ],
             [
              0.5555555555555556,
              "#d8576b"
             ],
             [
              0.6666666666666666,
              "#ed7953"
             ],
             [
              0.7777777777777778,
              "#fb9f3a"
             ],
             [
              0.8888888888888888,
              "#fdca26"
             ],
             [
              1,
              "#f0f921"
             ]
            ],
            "type": "heatmapgl"
           }
          ],
          "histogram": [
           {
            "marker": {
             "colorbar": {
              "outlinewidth": 0,
              "ticks": ""
             }
            },
            "type": "histogram"
           }
          ],
          "histogram2d": [
           {
            "colorbar": {
             "outlinewidth": 0,
             "ticks": ""
            },
            "colorscale": [
             [
              0,
              "#0d0887"
             ],
             [
              0.1111111111111111,
              "#46039f"
             ],
             [
              0.2222222222222222,
              "#7201a8"
             ],
             [
              0.3333333333333333,
              "#9c179e"
             ],
             [
              0.4444444444444444,
              "#bd3786"
             ],
             [
              0.5555555555555556,
              "#d8576b"
             ],
             [
              0.6666666666666666,
              "#ed7953"
             ],
             [
              0.7777777777777778,
              "#fb9f3a"
             ],
             [
              0.8888888888888888,
              "#fdca26"
             ],
             [
              1,
              "#f0f921"
             ]
            ],
            "type": "histogram2d"
           }
          ],
          "histogram2dcontour": [
           {
            "colorbar": {
             "outlinewidth": 0,
             "ticks": ""
            },
            "colorscale": [
             [
              0,
              "#0d0887"
             ],
             [
              0.1111111111111111,
              "#46039f"
             ],
             [
              0.2222222222222222,
              "#7201a8"
             ],
             [
              0.3333333333333333,
              "#9c179e"
             ],
             [
              0.4444444444444444,
              "#bd3786"
             ],
             [
              0.5555555555555556,
              "#d8576b"
             ],
             [
              0.6666666666666666,
              "#ed7953"
             ],
             [
              0.7777777777777778,
              "#fb9f3a"
             ],
             [
              0.8888888888888888,
              "#fdca26"
             ],
             [
              1,
              "#f0f921"
             ]
            ],
            "type": "histogram2dcontour"
           }
          ],
          "mesh3d": [
           {
            "colorbar": {
             "outlinewidth": 0,
             "ticks": ""
            },
            "type": "mesh3d"
           }
          ],
          "parcoords": [
           {
            "line": {
             "colorbar": {
              "outlinewidth": 0,
              "ticks": ""
             }
            },
            "type": "parcoords"
           }
          ],
          "scatter": [
           {
            "marker": {
             "colorbar": {
              "outlinewidth": 0,
              "ticks": ""
             }
            },
            "type": "scatter"
           }
          ],
          "scatter3d": [
           {
            "line": {
             "colorbar": {
              "outlinewidth": 0,
              "ticks": ""
             }
            },
            "marker": {
             "colorbar": {
              "outlinewidth": 0,
              "ticks": ""
             }
            },
            "type": "scatter3d"
           }
          ],
          "scattercarpet": [
           {
            "marker": {
             "colorbar": {
              "outlinewidth": 0,
              "ticks": ""
             }
            },
            "type": "scattercarpet"
           }
          ],
          "scattergeo": [
           {
            "marker": {
             "colorbar": {
              "outlinewidth": 0,
              "ticks": ""
             }
            },
            "type": "scattergeo"
           }
          ],
          "scattergl": [
           {
            "marker": {
             "colorbar": {
              "outlinewidth": 0,
              "ticks": ""
             }
            },
            "type": "scattergl"
           }
          ],
          "scattermapbox": [
           {
            "marker": {
             "colorbar": {
              "outlinewidth": 0,
              "ticks": ""
             }
            },
            "type": "scattermapbox"
           }
          ],
          "scatterpolar": [
           {
            "marker": {
             "colorbar": {
              "outlinewidth": 0,
              "ticks": ""
             }
            },
            "type": "scatterpolar"
           }
          ],
          "scatterpolargl": [
           {
            "marker": {
             "colorbar": {
              "outlinewidth": 0,
              "ticks": ""
             }
            },
            "type": "scatterpolargl"
           }
          ],
          "scatterternary": [
           {
            "marker": {
             "colorbar": {
              "outlinewidth": 0,
              "ticks": ""
             }
            },
            "type": "scatterternary"
           }
          ],
          "surface": [
           {
            "colorbar": {
             "outlinewidth": 0,
             "ticks": ""
            },
            "colorscale": [
             [
              0,
              "#0d0887"
             ],
             [
              0.1111111111111111,
              "#46039f"
             ],
             [
              0.2222222222222222,
              "#7201a8"
             ],
             [
              0.3333333333333333,
              "#9c179e"
             ],
             [
              0.4444444444444444,
              "#bd3786"
             ],
             [
              0.5555555555555556,
              "#d8576b"
             ],
             [
              0.6666666666666666,
              "#ed7953"
             ],
             [
              0.7777777777777778,
              "#fb9f3a"
             ],
             [
              0.8888888888888888,
              "#fdca26"
             ],
             [
              1,
              "#f0f921"
             ]
            ],
            "type": "surface"
           }
          ],
          "table": [
           {
            "cells": {
             "fill": {
              "color": "#EBF0F8"
             },
             "line": {
              "color": "white"
             }
            },
            "header": {
             "fill": {
              "color": "#C8D4E3"
             },
             "line": {
              "color": "white"
             }
            },
            "type": "table"
           }
          ]
         },
         "layout": {
          "annotationdefaults": {
           "arrowcolor": "#2a3f5f",
           "arrowhead": 0,
           "arrowwidth": 1
          },
          "colorscale": {
           "diverging": [
            [
             0,
             "#8e0152"
            ],
            [
             0.1,
             "#c51b7d"
            ],
            [
             0.2,
             "#de77ae"
            ],
            [
             0.3,
             "#f1b6da"
            ],
            [
             0.4,
             "#fde0ef"
            ],
            [
             0.5,
             "#f7f7f7"
            ],
            [
             0.6,
             "#e6f5d0"
            ],
            [
             0.7,
             "#b8e186"
            ],
            [
             0.8,
             "#7fbc41"
            ],
            [
             0.9,
             "#4d9221"
            ],
            [
             1,
             "#276419"
            ]
           ],
           "sequential": [
            [
             0,
             "#0d0887"
            ],
            [
             0.1111111111111111,
             "#46039f"
            ],
            [
             0.2222222222222222,
             "#7201a8"
            ],
            [
             0.3333333333333333,
             "#9c179e"
            ],
            [
             0.4444444444444444,
             "#bd3786"
            ],
            [
             0.5555555555555556,
             "#d8576b"
            ],
            [
             0.6666666666666666,
             "#ed7953"
            ],
            [
             0.7777777777777778,
             "#fb9f3a"
            ],
            [
             0.8888888888888888,
             "#fdca26"
            ],
            [
             1,
             "#f0f921"
            ]
           ],
           "sequentialminus": [
            [
             0,
             "#0d0887"
            ],
            [
             0.1111111111111111,
             "#46039f"
            ],
            [
             0.2222222222222222,
             "#7201a8"
            ],
            [
             0.3333333333333333,
             "#9c179e"
            ],
            [
             0.4444444444444444,
             "#bd3786"
            ],
            [
             0.5555555555555556,
             "#d8576b"
            ],
            [
             0.6666666666666666,
             "#ed7953"
            ],
            [
             0.7777777777777778,
             "#fb9f3a"
            ],
            [
             0.8888888888888888,
             "#fdca26"
            ],
            [
             1,
             "#f0f921"
            ]
           ]
          },
          "colorway": [
           "#636efa",
           "#EF553B",
           "#00cc96",
           "#ab63fa",
           "#FFA15A",
           "#19d3f3",
           "#FF6692",
           "#B6E880",
           "#FF97FF",
           "#FECB52"
          ],
          "font": {
           "color": "#2a3f5f"
          },
          "geo": {
           "bgcolor": "white",
           "lakecolor": "white",
           "landcolor": "#E5ECF6",
           "showlakes": true,
           "showland": true,
           "subunitcolor": "white"
          },
          "hoverlabel": {
           "align": "left"
          },
          "hovermode": "closest",
          "mapbox": {
           "style": "light"
          },
          "paper_bgcolor": "white",
          "plot_bgcolor": "#E5ECF6",
          "polar": {
           "angularaxis": {
            "gridcolor": "white",
            "linecolor": "white",
            "ticks": ""
           },
           "bgcolor": "#E5ECF6",
           "radialaxis": {
            "gridcolor": "white",
            "linecolor": "white",
            "ticks": ""
           }
          },
          "scene": {
           "xaxis": {
            "backgroundcolor": "#E5ECF6",
            "gridcolor": "white",
            "gridwidth": 2,
            "linecolor": "white",
            "showbackground": true,
            "ticks": "",
            "zerolinecolor": "white"
           },
           "yaxis": {
            "backgroundcolor": "#E5ECF6",
            "gridcolor": "white",
            "gridwidth": 2,
            "linecolor": "white",
            "showbackground": true,
            "ticks": "",
            "zerolinecolor": "white"
           },
           "zaxis": {
            "backgroundcolor": "#E5ECF6",
            "gridcolor": "white",
            "gridwidth": 2,
            "linecolor": "white",
            "showbackground": true,
            "ticks": "",
            "zerolinecolor": "white"
           }
          },
          "shapedefaults": {
           "line": {
            "color": "#2a3f5f"
           }
          },
          "ternary": {
           "aaxis": {
            "gridcolor": "white",
            "linecolor": "white",
            "ticks": ""
           },
           "baxis": {
            "gridcolor": "white",
            "linecolor": "white",
            "ticks": ""
           },
           "bgcolor": "#E5ECF6",
           "caxis": {
            "gridcolor": "white",
            "linecolor": "white",
            "ticks": ""
           }
          },
          "title": {
           "x": 0.05
          },
          "xaxis": {
           "automargin": true,
           "gridcolor": "white",
           "linecolor": "white",
           "ticks": "",
           "zerolinecolor": "white",
           "zerolinewidth": 2
          },
          "yaxis": {
           "automargin": true,
           "gridcolor": "white",
           "linecolor": "white",
           "ticks": "",
           "zerolinecolor": "white",
           "zerolinewidth": 2
          }
         }
        }
       }
      },
      "text/html": [
       "<div>\n",
       "        \n",
       "        \n",
       "            <div id=\"e7996896-10c6-4fc8-ac5b-a2cad36fe748\" class=\"plotly-graph-div\" style=\"height:525px; width:100%;\"></div>\n",
       "            <script type=\"text/javascript\">\n",
       "                require([\"plotly\"], function(Plotly) {\n",
       "                    window.PLOTLYENV=window.PLOTLYENV || {};\n",
       "                    \n",
       "                if (document.getElementById(\"e7996896-10c6-4fc8-ac5b-a2cad36fe748\")) {\n",
       "                    Plotly.newPlot(\n",
       "                        'e7996896-10c6-4fc8-ac5b-a2cad36fe748',\n",
       "                        [{\"marker\": {\"color\": [2.0, 4.0, 2.0, 2.0, 2.0, 2.0, 2.0, 2.0, 2.0, 2.0, 2.0, 2.0, 2.0, 2.0, 2.0, 4.0, 4.0, 4.0, 4.0, 4.0, 4.0, 4.0, 4.0, 4.0, 4.0, 4.0, 4.0, 8.0, 8.0, 8.0, 8.0, 8.0, 8.0, 8.0, 8.0, 4.0, 4.0, 8.0, 8.0, 8.0, 8.0, 8.0, 8.0, 8.0, 8.0, 4.0, 4.0, 8.0, 8.0, 8.0, 8.0, 8.0, 8.0, 8.0, 8.0, 4.0, 4.0, 8.0, 8.0, 8.0, 8.0, 8.0, 8.0, 8.0, 8.0, 4.0, 4.0, 8.0, 8.0, 8.0, 8.0, 8.0, 8.0, 8.0, 8.0, 4.0, 4.0, 8.0, 8.0, 8.0, 8.0, 8.0, 8.0, 8.0, 8.0, 4.0, 4.0, 8.0, 8.0, 8.0, 8.0, 8.0, 8.0, 8.0, 8.0, 4.0], \"colorscale\": [[0, \"wheat\"], [0.5, \"darkgreen\"], [1.0, \"lightgreen\"]], \"opacity\": 0.8, \"size\": 3}, \"mode\": \"markers\", \"type\": \"scatter3d\", \"x\": [0.0, 0.0, 8.15011624180435e-05, 0.0002005403138231415, -6.229389577585246e-05, -0.00030082676703733314, -0.0002189509891218644, -0.00038797272816378826, -0.00043015446690260596, -0.0004765147853034217, -0.0005383984435603018, -0.000500412285204644, -0.000740230815972188, -0.0006616791766783464, -0.0009453377175617873, 0.0, 0.0, 0.0, 0.0, 0.0, 0.0, 0.0, 0.0, 0.0, 0.0, 0.0, 0.0, -0.0020225424859373685, -0.004045084971874737, -0.006067627457812106, -0.008090169943749474, -0.010112712429686843, -0.012135254915624212, -0.01415779740156158, -0.015643789100317572, 0.0, 0.0, 0.0020225424859373685, 0.004045084971874737, 0.006067627457812106, 0.008090169943749474, 0.010112712429686843, 0.012135254915624212, 0.01415779740156158, 0.01561007223292106, 0.0, 0.0, -0.0020225424859373685, -0.004045084971874737, -0.006067627457812106, -0.008090169943749474, -0.010112712429686843, -0.012135254915624212, -0.01415779740156158, -0.015567003019189934, 0.0, 0.0, 0.0020225424859373685, 0.004045084971874737, 0.006067627457812106, 0.008090169943749474, 0.010112712429686843, 0.012135254915624212, 0.01415779740156158, 0.015508949950214991, 0.0, 0.0, -0.0020225424859373685, -0.004045084971874737, -0.006067627457812106, -0.008090169943749474, -0.010112712429686843, -0.012135254915624212, -0.01415779740156158, -0.01542378866109725, 0.0, 0.0, 0.0020225424859373685, 0.004045084971874737, 0.006067627457812106, 0.008090169943749474, 0.010112712429686843, 0.012135254915624212, 0.01415779740156158, 0.015277972620414193, 0.0, 0.0, -0.0020225424859373685, -0.004045084971874737, -0.006067627457812106, -0.008090169943749474, -0.010112712429686843, -0.012135254915624212, -0.01415779740156158, -0.014907977459024975, 0.0], \"y\": [0.0, 0.0, 3.45824534245644e-05, 6.478236300089043e-05, -0.00012773148373673701, -0.00046511023855085965, -0.00041497415286754054, -0.0007866549262349948, -0.0012206532505701657, -0.0012057686189084395, -0.0011543843438358492, -0.0013236742602458656, -0.0014578125455967919, -0.0014991576875617498, -0.0016178966253696666, 0.0, 0.0, 0.0, 0.0, 0.0, 0.0, 0.0, 0.0, 0.0, 0.0, 0.0, 0.0, 1.4269949640811252e-16, 2.8539899281622505e-16, 4.280984892243376e-16, 5.707979856324501e-16, 7.134974820405627e-16, 8.561969784486752e-16, 9.988964748567878e-16, 1.1037398927594969e-15, 0.0, 0.0, -1.6450372949350138e-16, -3.2900745898700277e-16, -4.935111884805041e-16, -6.580149179740054e-16, -8.225186474675068e-16, -9.87022376961008e-16, -1.1515261064545093e-15, -1.2696470496086193e-15, 0.0, 0.0, -4.362849680494526e-17, -8.725699360989052e-17, -1.3088549041483579e-16, -1.7451398721978107e-16, -2.1814248402472636e-16, -2.6177098082967167e-16, -3.05399477634617e-16, -3.357976142441999e-16, 0.0, 0.0, 2.182426371955641e-17, 4.364852743911282e-17, 6.547279115866923e-17, 8.729705487822563e-17, 1.0912131859778202e-16, 1.3094558231733844e-16, 1.5276984603689482e-16, 1.6734947032275812e-16, 0.0, 0.0, -2.003063416756019e-20, -4.006126833512038e-20, -6.009190250268058e-20, -8.012253667024076e-20, -1.0015317083780096e-19, -1.2018380500536115e-19, -1.4021443917292136e-19, -1.5275242438480434e-19, 0.0, 0.0, -2.178420245122129e-17, -4.356840490244258e-17, -6.535260735366386e-17, -8.713680980488514e-17, -1.0892101225610642e-16, -1.307052147073277e-16, -1.5248941715854897e-16, -1.6455449065786637e-16, 0.0, 0.0, 4.358843553661014e-17, 8.717687107322028e-17, 1.3076530660983043e-16, 1.743537421464406e-16, 2.1794217768305076e-16, 2.615306132196609e-16, 3.051190487562711e-16, 3.2128641003691134e-16, 0.0], \"z\": [-0.03, -0.03, -0.03249843183105716, -0.034995413538217696, -0.03747409395268801, -0.03993971307273227, -0.039995894935777286, -0.04241741656493659, -0.044879096104476865, -0.04737862189322522, -0.04987732757199494, -0.052371299900625556, -0.05485615281230939, -0.057354576359108476, -0.059806777607551515, -0.0275, -0.025, -0.0225, -0.02, -0.0175, -0.015, -0.0125, -0.01, -0.0075, -0.005, -0.0025, 0.0, 0.0014694631307311829, 0.0029389262614623658, 0.004408389392193549, 0.0058778525229247315, 0.007347315653655915, 0.008816778784387098, 0.010286241915118281, 0.01136587808052744, 0.0025, 0.0029999999999999983, 0.004469463130731181, 0.005938926261462364, 0.007408389392193546, 0.00887785252292473, 0.010347315653655913, 0.011816778784387097, 0.01328624191511828, 0.014341381342452757, 0.005499999999999998, 0.005999999999999997, 0.00746946313073118, 0.008938926261462362, 0.010408389392193544, 0.011877852522924727, 0.013347315653655911, 0.014816778784387094, 0.01628624191511828, 0.01731008972702934, 0.008499999999999997, 0.008999999999999994, 0.010469463130731178, 0.011938926261462361, 0.013408389392193543, 0.014877852522924727, 0.01634731565365591, 0.017816778784387092, 0.019286241915118275, 0.02026791170353781, 0.011499999999999995, 0.011999999999999993, 0.013469463130731177, 0.01493892626146236, 0.01640838939219354, 0.017877852522924724, 0.019347315653655908, 0.020816778784387095, 0.022286241915118278, 0.023206038405254016, 0.014499999999999992, 0.01499999999999999, 0.016469463130731176, 0.01793892626146236, 0.01940838939219354, 0.020877852522924723, 0.022347315653655907, 0.02381677878438709, 0.025286241915118274, 0.02610009685043241, 0.01749999999999999, 0.017999999999999988, 0.019469463130731172, 0.020938926261462355, 0.02240838939219354, 0.023877852522924722, 0.025347315653655906, 0.02681677878438709, 0.028286241915118273, 0.02883127963052693, 0.019997730003511877]}],\n",
       "                        {\"scene\": {\"aspectmode\": \"data\"}, \"template\": {\"data\": {\"bar\": [{\"error_x\": {\"color\": \"#2a3f5f\"}, \"error_y\": {\"color\": \"#2a3f5f\"}, \"marker\": {\"line\": {\"color\": \"#E5ECF6\", \"width\": 0.5}}, \"type\": \"bar\"}], \"barpolar\": [{\"marker\": {\"line\": {\"color\": \"#E5ECF6\", \"width\": 0.5}}, \"type\": \"barpolar\"}], \"carpet\": [{\"aaxis\": {\"endlinecolor\": \"#2a3f5f\", \"gridcolor\": \"white\", \"linecolor\": \"white\", \"minorgridcolor\": \"white\", \"startlinecolor\": \"#2a3f5f\"}, \"baxis\": {\"endlinecolor\": \"#2a3f5f\", \"gridcolor\": \"white\", \"linecolor\": \"white\", \"minorgridcolor\": \"white\", \"startlinecolor\": \"#2a3f5f\"}, \"type\": \"carpet\"}], \"choropleth\": [{\"colorbar\": {\"outlinewidth\": 0, \"ticks\": \"\"}, \"type\": \"choropleth\"}], \"contour\": [{\"colorbar\": {\"outlinewidth\": 0, \"ticks\": \"\"}, \"colorscale\": [[0.0, \"#0d0887\"], [0.1111111111111111, \"#46039f\"], [0.2222222222222222, \"#7201a8\"], [0.3333333333333333, \"#9c179e\"], [0.4444444444444444, \"#bd3786\"], [0.5555555555555556, \"#d8576b\"], [0.6666666666666666, \"#ed7953\"], [0.7777777777777778, \"#fb9f3a\"], [0.8888888888888888, \"#fdca26\"], [1.0, \"#f0f921\"]], \"type\": \"contour\"}], \"contourcarpet\": [{\"colorbar\": {\"outlinewidth\": 0, \"ticks\": \"\"}, \"type\": \"contourcarpet\"}], \"heatmap\": [{\"colorbar\": {\"outlinewidth\": 0, \"ticks\": \"\"}, \"colorscale\": [[0.0, \"#0d0887\"], [0.1111111111111111, \"#46039f\"], [0.2222222222222222, \"#7201a8\"], [0.3333333333333333, \"#9c179e\"], [0.4444444444444444, \"#bd3786\"], [0.5555555555555556, \"#d8576b\"], [0.6666666666666666, \"#ed7953\"], [0.7777777777777778, \"#fb9f3a\"], [0.8888888888888888, \"#fdca26\"], [1.0, \"#f0f921\"]], \"type\": \"heatmap\"}], \"heatmapgl\": [{\"colorbar\": {\"outlinewidth\": 0, \"ticks\": \"\"}, \"colorscale\": [[0.0, \"#0d0887\"], [0.1111111111111111, \"#46039f\"], [0.2222222222222222, \"#7201a8\"], [0.3333333333333333, \"#9c179e\"], [0.4444444444444444, \"#bd3786\"], [0.5555555555555556, \"#d8576b\"], [0.6666666666666666, \"#ed7953\"], [0.7777777777777778, \"#fb9f3a\"], [0.8888888888888888, \"#fdca26\"], [1.0, \"#f0f921\"]], \"type\": \"heatmapgl\"}], \"histogram\": [{\"marker\": {\"colorbar\": {\"outlinewidth\": 0, \"ticks\": \"\"}}, \"type\": \"histogram\"}], \"histogram2d\": [{\"colorbar\": {\"outlinewidth\": 0, \"ticks\": \"\"}, \"colorscale\": [[0.0, \"#0d0887\"], [0.1111111111111111, \"#46039f\"], [0.2222222222222222, \"#7201a8\"], [0.3333333333333333, \"#9c179e\"], [0.4444444444444444, \"#bd3786\"], [0.5555555555555556, \"#d8576b\"], [0.6666666666666666, \"#ed7953\"], [0.7777777777777778, \"#fb9f3a\"], [0.8888888888888888, \"#fdca26\"], [1.0, \"#f0f921\"]], \"type\": \"histogram2d\"}], \"histogram2dcontour\": [{\"colorbar\": {\"outlinewidth\": 0, \"ticks\": \"\"}, \"colorscale\": [[0.0, \"#0d0887\"], [0.1111111111111111, \"#46039f\"], [0.2222222222222222, \"#7201a8\"], [0.3333333333333333, \"#9c179e\"], [0.4444444444444444, \"#bd3786\"], [0.5555555555555556, \"#d8576b\"], [0.6666666666666666, \"#ed7953\"], [0.7777777777777778, \"#fb9f3a\"], [0.8888888888888888, \"#fdca26\"], [1.0, \"#f0f921\"]], \"type\": \"histogram2dcontour\"}], \"mesh3d\": [{\"colorbar\": {\"outlinewidth\": 0, \"ticks\": \"\"}, \"type\": \"mesh3d\"}], \"parcoords\": [{\"line\": {\"colorbar\": {\"outlinewidth\": 0, \"ticks\": \"\"}}, \"type\": \"parcoords\"}], \"scatter\": [{\"marker\": {\"colorbar\": {\"outlinewidth\": 0, \"ticks\": \"\"}}, \"type\": \"scatter\"}], \"scatter3d\": [{\"line\": {\"colorbar\": {\"outlinewidth\": 0, \"ticks\": \"\"}}, \"marker\": {\"colorbar\": {\"outlinewidth\": 0, \"ticks\": \"\"}}, \"type\": \"scatter3d\"}], \"scattercarpet\": [{\"marker\": {\"colorbar\": {\"outlinewidth\": 0, \"ticks\": \"\"}}, \"type\": \"scattercarpet\"}], \"scattergeo\": [{\"marker\": {\"colorbar\": {\"outlinewidth\": 0, \"ticks\": \"\"}}, \"type\": \"scattergeo\"}], \"scattergl\": [{\"marker\": {\"colorbar\": {\"outlinewidth\": 0, \"ticks\": \"\"}}, \"type\": \"scattergl\"}], \"scattermapbox\": [{\"marker\": {\"colorbar\": {\"outlinewidth\": 0, \"ticks\": \"\"}}, \"type\": \"scattermapbox\"}], \"scatterpolar\": [{\"marker\": {\"colorbar\": {\"outlinewidth\": 0, \"ticks\": \"\"}}, \"type\": \"scatterpolar\"}], \"scatterpolargl\": [{\"marker\": {\"colorbar\": {\"outlinewidth\": 0, \"ticks\": \"\"}}, \"type\": \"scatterpolargl\"}], \"scatterternary\": [{\"marker\": {\"colorbar\": {\"outlinewidth\": 0, \"ticks\": \"\"}}, \"type\": \"scatterternary\"}], \"surface\": [{\"colorbar\": {\"outlinewidth\": 0, \"ticks\": \"\"}, \"colorscale\": [[0.0, \"#0d0887\"], [0.1111111111111111, \"#46039f\"], [0.2222222222222222, \"#7201a8\"], [0.3333333333333333, \"#9c179e\"], [0.4444444444444444, \"#bd3786\"], [0.5555555555555556, \"#d8576b\"], [0.6666666666666666, \"#ed7953\"], [0.7777777777777778, \"#fb9f3a\"], [0.8888888888888888, \"#fdca26\"], [1.0, \"#f0f921\"]], \"type\": \"surface\"}], \"table\": [{\"cells\": {\"fill\": {\"color\": \"#EBF0F8\"}, \"line\": {\"color\": \"white\"}}, \"header\": {\"fill\": {\"color\": \"#C8D4E3\"}, \"line\": {\"color\": \"white\"}}, \"type\": \"table\"}]}, \"layout\": {\"annotationdefaults\": {\"arrowcolor\": \"#2a3f5f\", \"arrowhead\": 0, \"arrowwidth\": 1}, \"colorscale\": {\"diverging\": [[0, \"#8e0152\"], [0.1, \"#c51b7d\"], [0.2, \"#de77ae\"], [0.3, \"#f1b6da\"], [0.4, \"#fde0ef\"], [0.5, \"#f7f7f7\"], [0.6, \"#e6f5d0\"], [0.7, \"#b8e186\"], [0.8, \"#7fbc41\"], [0.9, \"#4d9221\"], [1, \"#276419\"]], \"sequential\": [[0.0, \"#0d0887\"], [0.1111111111111111, \"#46039f\"], [0.2222222222222222, \"#7201a8\"], [0.3333333333333333, \"#9c179e\"], [0.4444444444444444, \"#bd3786\"], [0.5555555555555556, \"#d8576b\"], [0.6666666666666666, \"#ed7953\"], [0.7777777777777778, \"#fb9f3a\"], [0.8888888888888888, \"#fdca26\"], [1.0, \"#f0f921\"]], \"sequentialminus\": [[0.0, \"#0d0887\"], [0.1111111111111111, \"#46039f\"], [0.2222222222222222, \"#7201a8\"], [0.3333333333333333, \"#9c179e\"], [0.4444444444444444, \"#bd3786\"], [0.5555555555555556, \"#d8576b\"], [0.6666666666666666, \"#ed7953\"], [0.7777777777777778, \"#fb9f3a\"], [0.8888888888888888, \"#fdca26\"], [1.0, \"#f0f921\"]]}, \"colorway\": [\"#636efa\", \"#EF553B\", \"#00cc96\", \"#ab63fa\", \"#FFA15A\", \"#19d3f3\", \"#FF6692\", \"#B6E880\", \"#FF97FF\", \"#FECB52\"], \"font\": {\"color\": \"#2a3f5f\"}, \"geo\": {\"bgcolor\": \"white\", \"lakecolor\": \"white\", \"landcolor\": \"#E5ECF6\", \"showlakes\": true, \"showland\": true, \"subunitcolor\": \"white\"}, \"hoverlabel\": {\"align\": \"left\"}, \"hovermode\": \"closest\", \"mapbox\": {\"style\": \"light\"}, \"paper_bgcolor\": \"white\", \"plot_bgcolor\": \"#E5ECF6\", \"polar\": {\"angularaxis\": {\"gridcolor\": \"white\", \"linecolor\": \"white\", \"ticks\": \"\"}, \"bgcolor\": \"#E5ECF6\", \"radialaxis\": {\"gridcolor\": \"white\", \"linecolor\": \"white\", \"ticks\": \"\"}}, \"scene\": {\"xaxis\": {\"backgroundcolor\": \"#E5ECF6\", \"gridcolor\": \"white\", \"gridwidth\": 2, \"linecolor\": \"white\", \"showbackground\": true, \"ticks\": \"\", \"zerolinecolor\": \"white\"}, \"yaxis\": {\"backgroundcolor\": \"#E5ECF6\", \"gridcolor\": \"white\", \"gridwidth\": 2, \"linecolor\": \"white\", \"showbackground\": true, \"ticks\": \"\", \"zerolinecolor\": \"white\"}, \"zaxis\": {\"backgroundcolor\": \"#E5ECF6\", \"gridcolor\": \"white\", \"gridwidth\": 2, \"linecolor\": \"white\", \"showbackground\": true, \"ticks\": \"\", \"zerolinecolor\": \"white\"}}, \"shapedefaults\": {\"line\": {\"color\": \"#2a3f5f\"}}, \"ternary\": {\"aaxis\": {\"gridcolor\": \"white\", \"linecolor\": \"white\", \"ticks\": \"\"}, \"baxis\": {\"gridcolor\": \"white\", \"linecolor\": \"white\", \"ticks\": \"\"}, \"bgcolor\": \"#E5ECF6\", \"caxis\": {\"gridcolor\": \"white\", \"linecolor\": \"white\", \"ticks\": \"\"}}, \"title\": {\"x\": 0.05}, \"xaxis\": {\"automargin\": true, \"gridcolor\": \"white\", \"linecolor\": \"white\", \"ticks\": \"\", \"zerolinecolor\": \"white\", \"zerolinewidth\": 2}, \"yaxis\": {\"automargin\": true, \"gridcolor\": \"white\", \"linecolor\": \"white\", \"ticks\": \"\", \"zerolinecolor\": \"white\", \"zerolinewidth\": 2}}}},\n",
       "                        {\"responsive\": true}\n",
       "                    ).then(function(){\n",
       "                            \n",
       "var gd = document.getElementById('e7996896-10c6-4fc8-ac5b-a2cad36fe748');\n",
       "var x = new MutationObserver(function (mutations, observer) {{\n",
       "        var display = window.getComputedStyle(gd).display;\n",
       "        if (!display || display === 'none') {{\n",
       "            console.log([gd, 'removed!']);\n",
       "            Plotly.purge(gd);\n",
       "            observer.disconnect();\n",
       "        }}\n",
       "}});\n",
       "\n",
       "// Listen for the removal of the full notebook cells\n",
       "var notebookContainer = gd.closest('#notebook-container');\n",
       "if (notebookContainer) {{\n",
       "    x.observe(notebookContainer, {childList: true});\n",
       "}}\n",
       "\n",
       "// Listen for the clearing of the current output cell\n",
       "var outputEl = gd.closest('.output');\n",
       "if (outputEl) {{\n",
       "    x.observe(outputEl, {childList: true});\n",
       "}}\n",
       "\n",
       "                        })\n",
       "                };\n",
       "                });\n",
       "            </script>\n",
       "        </div>"
      ]
     },
     "metadata": {},
     "output_type": "display_data"
    }
   ],
   "source": [
    "name = 'testXML'\n",
    "change_parameter('testXML', 'testXML', 'stem', '1', 'ln', 'value','0.3')\n",
    "smallplant = CPlantBox(name, time, name) # make a plant object in python\n",
    "fig = visual_plant(smallplant)    \n",
    "fig.show()"
   ]
  },
  {
   "cell_type": "markdown",
   "metadata": {},
   "source": [
    "### 5.2.2Let's change the la to see what will happen?\n",
    "la is the stem top without branches"
   ]
  },
  {
   "cell_type": "code",
   "execution_count": 57,
   "metadata": {},
   "outputs": [
    {
     "name": "stdout",
     "output_type": "stream",
     "text": [
      "original lmax is 1, changed to 2\n"
     ]
    },
    {
     "data": {
      "application/vnd.plotly.v1+json": {
       "config": {
        "plotlyServerURL": "https://plot.ly"
       },
       "data": [
        {
         "marker": {
          "color": [
           2,
           4,
           2,
           2,
           2,
           2,
           2,
           2,
           2,
           2,
           2,
           2,
           2,
           2,
           2,
           2,
           4,
           4,
           4,
           4,
           4,
           4,
           4,
           4,
           4,
           4,
           4,
           4,
           8,
           8,
           8,
           8,
           8,
           8,
           4,
           4,
           8,
           8,
           8,
           8,
           8,
           8,
           4,
           4,
           8,
           8,
           8,
           8,
           8,
           8,
           4,
           4,
           8,
           8,
           8,
           8,
           8,
           8,
           4,
           4,
           4,
           4,
           4,
           4
          ],
          "colorscale": [
           [
            0,
            "wheat"
           ],
           [
            0.5,
            "darkgreen"
           ],
           [
            1,
            "lightgreen"
           ]
          ],
          "opacity": 0.8,
          "size": 3
         },
         "mode": "markers",
         "type": "scatter3d",
         "x": [
          0,
          0,
          -4.349864425273045e-05,
          -7.231141094117061e-05,
          0.0003545336388906738,
          0.0005836135233255075,
          0.0023304781453652346,
          0.0023495148071919487,
          0.0007867775660280321,
          0.000960569542976794,
          0.001168517190014343,
          0.0013069488877521082,
          0.0010652526280370725,
          0.000877489749265652,
          0.0005334381073143218,
          0.000177801459875771,
          0,
          0,
          0,
          0,
          0,
          0,
          0,
          0,
          0,
          0,
          0,
          0,
          -0.0020225424859373685,
          -0.004045084971874737,
          -0.006067627457812106,
          -0.008090169943749474,
          -0.010112712429686843,
          -0.0111059558396906,
          0,
          0,
          0.0020225424859373685,
          0.004045084971874737,
          0.006067627457812106,
          0.008090169943749474,
          0.010112712429686843,
          0.0111059558396906,
          0,
          0,
          -0.0020225424859373685,
          -0.004045084971874737,
          -0.006067627457812106,
          -0.008090169943749474,
          -0.010112712429686843,
          -0.011105955839690597,
          0,
          0,
          0.0020225424859373685,
          0.004045084971874737,
          0.006067627457812106,
          0.008090169943749474,
          0.010112712429686843,
          0.011105955839690596,
          0,
          0,
          0,
          0,
          0,
          0
         ],
         "y": [
          0,
          0,
          -9.272556683029244e-05,
          -0.00018125221627083812,
          0.0004850279474472836,
          0.001010618428538291,
          0.002740978625684629,
          0.002762300754355901,
          0.001515120610487708,
          0.0020401943431563093,
          0.002518909711896955,
          0.002908777933330969,
          0.0037298622097208774,
          0.0045211279014661845,
          0.0052002208717424605,
          0.0058848493268390785,
          0,
          0,
          0,
          0,
          0,
          0,
          0,
          0,
          0,
          0,
          0,
          0,
          -1.1914159164114551e-17,
          -2.3828318328229102e-17,
          -3.574247749234365e-17,
          -4.7656636656458205e-17,
          -5.957079582057275e-17,
          -6.542167913094643e-17,
          0,
          0,
          -9.8900739212743e-18,
          -1.97801478425486e-17,
          -2.96702217638229e-17,
          -3.95602956850972e-17,
          -4.9450369606371495e-17,
          -5.4307251879577745e-17,
          0,
          0,
          3.169430700666315e-17,
          6.33886140133263e-17,
          9.508292101998945e-17,
          1.267772280266526e-16,
          1.5847153503331575e-16,
          1.740361828901019e-16,
          0,
          0,
          -5.3498540092052005e-17,
          -1.0699708018410401e-16,
          -1.6049562027615601e-16,
          -2.1399416036820802e-16,
          -2.6749270046026005e-16,
          -2.9376511390062607e-16,
          0,
          0,
          0,
          0,
          0,
          0
         ],
         "z": [
          -0.03,
          -0.03,
          -0.032497901086353136,
          -0.034996167056344035,
          -0.03736763791782849,
          -0.03980100534851664,
          -0.040253020370830825,
          -0.04025714421513021,
          -0.04224112868969451,
          -0.04467917994510521,
          -0.04712409085796544,
          -0.049589621112287485,
          -0.051938536506486485,
          -0.054302567747063116,
          -0.05668384076908137,
          -0.05905312549938896,
          -0.0275,
          -0.025,
          -0.0225,
          -0.02,
          -0.0175,
          -0.015,
          -0.0125,
          -0.01,
          -0.0075,
          -0.005,
          -0.0025,
          0,
          0.0014694631307311829,
          0.0029389262614623658,
          0.004408389392193549,
          0.0058778525229247315,
          0.007347315653655915,
          0.008068949231684708,
          0.0025,
          0.0029999999999999983,
          0.004469463130731181,
          0.005938926261462364,
          0.007408389392193546,
          0.00887785252292473,
          0.010347315653655913,
          0.011068949231684706,
          0.005499999999999998,
          0.005999999999999997,
          0.00746946313073118,
          0.008938926261462362,
          0.010408389392193544,
          0.011877852522924727,
          0.013347315653655911,
          0.014068949231684703,
          0.008499999999999997,
          0.008999999999999994,
          0.010469463130731178,
          0.011938926261462361,
          0.013408389392193543,
          0.014877852522924727,
          0.01634731565365591,
          0.017068949231684703,
          0.011499999999999995,
          0.011999999999999993,
          0.014499999999999992,
          0.016999999999999994,
          0.019499999999999993,
          0.019997730003511877
         ]
        }
       ],
       "layout": {
        "autosize": true,
        "scene": {
         "aspectmode": "data",
         "aspectratio": {
          "x": 1.009528402068838,
          "y": 0.27570350026592894,
          "z": 3.592850763588185
         },
         "camera": {
          "center": {
           "x": 0,
           "y": 0,
           "z": 0
          },
          "eye": {
           "x": 4.684130621992101,
           "y": 7.6825311961831275,
           "z": 5.76417302641386
          },
          "projection": {
           "type": "perspective"
          },
          "up": {
           "x": 0,
           "y": 0,
           "z": 1
          }
         }
        },
        "template": {
         "data": {
          "bar": [
           {
            "error_x": {
             "color": "#2a3f5f"
            },
            "error_y": {
             "color": "#2a3f5f"
            },
            "marker": {
             "line": {
              "color": "#E5ECF6",
              "width": 0.5
             }
            },
            "type": "bar"
           }
          ],
          "barpolar": [
           {
            "marker": {
             "line": {
              "color": "#E5ECF6",
              "width": 0.5
             }
            },
            "type": "barpolar"
           }
          ],
          "carpet": [
           {
            "aaxis": {
             "endlinecolor": "#2a3f5f",
             "gridcolor": "white",
             "linecolor": "white",
             "minorgridcolor": "white",
             "startlinecolor": "#2a3f5f"
            },
            "baxis": {
             "endlinecolor": "#2a3f5f",
             "gridcolor": "white",
             "linecolor": "white",
             "minorgridcolor": "white",
             "startlinecolor": "#2a3f5f"
            },
            "type": "carpet"
           }
          ],
          "choropleth": [
           {
            "colorbar": {
             "outlinewidth": 0,
             "ticks": ""
            },
            "type": "choropleth"
           }
          ],
          "contour": [
           {
            "colorbar": {
             "outlinewidth": 0,
             "ticks": ""
            },
            "colorscale": [
             [
              0,
              "#0d0887"
             ],
             [
              0.1111111111111111,
              "#46039f"
             ],
             [
              0.2222222222222222,
              "#7201a8"
             ],
             [
              0.3333333333333333,
              "#9c179e"
             ],
             [
              0.4444444444444444,
              "#bd3786"
             ],
             [
              0.5555555555555556,
              "#d8576b"
             ],
             [
              0.6666666666666666,
              "#ed7953"
             ],
             [
              0.7777777777777778,
              "#fb9f3a"
             ],
             [
              0.8888888888888888,
              "#fdca26"
             ],
             [
              1,
              "#f0f921"
             ]
            ],
            "type": "contour"
           }
          ],
          "contourcarpet": [
           {
            "colorbar": {
             "outlinewidth": 0,
             "ticks": ""
            },
            "type": "contourcarpet"
           }
          ],
          "heatmap": [
           {
            "colorbar": {
             "outlinewidth": 0,
             "ticks": ""
            },
            "colorscale": [
             [
              0,
              "#0d0887"
             ],
             [
              0.1111111111111111,
              "#46039f"
             ],
             [
              0.2222222222222222,
              "#7201a8"
             ],
             [
              0.3333333333333333,
              "#9c179e"
             ],
             [
              0.4444444444444444,
              "#bd3786"
             ],
             [
              0.5555555555555556,
              "#d8576b"
             ],
             [
              0.6666666666666666,
              "#ed7953"
             ],
             [
              0.7777777777777778,
              "#fb9f3a"
             ],
             [
              0.8888888888888888,
              "#fdca26"
             ],
             [
              1,
              "#f0f921"
             ]
            ],
            "type": "heatmap"
           }
          ],
          "heatmapgl": [
           {
            "colorbar": {
             "outlinewidth": 0,
             "ticks": ""
            },
            "colorscale": [
             [
              0,
              "#0d0887"
             ],
             [
              0.1111111111111111,
              "#46039f"
             ],
             [
              0.2222222222222222,
              "#7201a8"
             ],
             [
              0.3333333333333333,
              "#9c179e"
             ],
             [
              0.4444444444444444,
              "#bd3786"
             ],
             [
              0.5555555555555556,
              "#d8576b"
             ],
             [
              0.6666666666666666,
              "#ed7953"
             ],
             [
              0.7777777777777778,
              "#fb9f3a"
             ],
             [
              0.8888888888888888,
              "#fdca26"
             ],
             [
              1,
              "#f0f921"
             ]
            ],
            "type": "heatmapgl"
           }
          ],
          "histogram": [
           {
            "marker": {
             "colorbar": {
              "outlinewidth": 0,
              "ticks": ""
             }
            },
            "type": "histogram"
           }
          ],
          "histogram2d": [
           {
            "colorbar": {
             "outlinewidth": 0,
             "ticks": ""
            },
            "colorscale": [
             [
              0,
              "#0d0887"
             ],
             [
              0.1111111111111111,
              "#46039f"
             ],
             [
              0.2222222222222222,
              "#7201a8"
             ],
             [
              0.3333333333333333,
              "#9c179e"
             ],
             [
              0.4444444444444444,
              "#bd3786"
             ],
             [
              0.5555555555555556,
              "#d8576b"
             ],
             [
              0.6666666666666666,
              "#ed7953"
             ],
             [
              0.7777777777777778,
              "#fb9f3a"
             ],
             [
              0.8888888888888888,
              "#fdca26"
             ],
             [
              1,
              "#f0f921"
             ]
            ],
            "type": "histogram2d"
           }
          ],
          "histogram2dcontour": [
           {
            "colorbar": {
             "outlinewidth": 0,
             "ticks": ""
            },
            "colorscale": [
             [
              0,
              "#0d0887"
             ],
             [
              0.1111111111111111,
              "#46039f"
             ],
             [
              0.2222222222222222,
              "#7201a8"
             ],
             [
              0.3333333333333333,
              "#9c179e"
             ],
             [
              0.4444444444444444,
              "#bd3786"
             ],
             [
              0.5555555555555556,
              "#d8576b"
             ],
             [
              0.6666666666666666,
              "#ed7953"
             ],
             [
              0.7777777777777778,
              "#fb9f3a"
             ],
             [
              0.8888888888888888,
              "#fdca26"
             ],
             [
              1,
              "#f0f921"
             ]
            ],
            "type": "histogram2dcontour"
           }
          ],
          "mesh3d": [
           {
            "colorbar": {
             "outlinewidth": 0,
             "ticks": ""
            },
            "type": "mesh3d"
           }
          ],
          "parcoords": [
           {
            "line": {
             "colorbar": {
              "outlinewidth": 0,
              "ticks": ""
             }
            },
            "type": "parcoords"
           }
          ],
          "scatter": [
           {
            "marker": {
             "colorbar": {
              "outlinewidth": 0,
              "ticks": ""
             }
            },
            "type": "scatter"
           }
          ],
          "scatter3d": [
           {
            "line": {
             "colorbar": {
              "outlinewidth": 0,
              "ticks": ""
             }
            },
            "marker": {
             "colorbar": {
              "outlinewidth": 0,
              "ticks": ""
             }
            },
            "type": "scatter3d"
           }
          ],
          "scattercarpet": [
           {
            "marker": {
             "colorbar": {
              "outlinewidth": 0,
              "ticks": ""
             }
            },
            "type": "scattercarpet"
           }
          ],
          "scattergeo": [
           {
            "marker": {
             "colorbar": {
              "outlinewidth": 0,
              "ticks": ""
             }
            },
            "type": "scattergeo"
           }
          ],
          "scattergl": [
           {
            "marker": {
             "colorbar": {
              "outlinewidth": 0,
              "ticks": ""
             }
            },
            "type": "scattergl"
           }
          ],
          "scattermapbox": [
           {
            "marker": {
             "colorbar": {
              "outlinewidth": 0,
              "ticks": ""
             }
            },
            "type": "scattermapbox"
           }
          ],
          "scatterpolar": [
           {
            "marker": {
             "colorbar": {
              "outlinewidth": 0,
              "ticks": ""
             }
            },
            "type": "scatterpolar"
           }
          ],
          "scatterpolargl": [
           {
            "marker": {
             "colorbar": {
              "outlinewidth": 0,
              "ticks": ""
             }
            },
            "type": "scatterpolargl"
           }
          ],
          "scatterternary": [
           {
            "marker": {
             "colorbar": {
              "outlinewidth": 0,
              "ticks": ""
             }
            },
            "type": "scatterternary"
           }
          ],
          "surface": [
           {
            "colorbar": {
             "outlinewidth": 0,
             "ticks": ""
            },
            "colorscale": [
             [
              0,
              "#0d0887"
             ],
             [
              0.1111111111111111,
              "#46039f"
             ],
             [
              0.2222222222222222,
              "#7201a8"
             ],
             [
              0.3333333333333333,
              "#9c179e"
             ],
             [
              0.4444444444444444,
              "#bd3786"
             ],
             [
              0.5555555555555556,
              "#d8576b"
             ],
             [
              0.6666666666666666,
              "#ed7953"
             ],
             [
              0.7777777777777778,
              "#fb9f3a"
             ],
             [
              0.8888888888888888,
              "#fdca26"
             ],
             [
              1,
              "#f0f921"
             ]
            ],
            "type": "surface"
           }
          ],
          "table": [
           {
            "cells": {
             "fill": {
              "color": "#EBF0F8"
             },
             "line": {
              "color": "white"
             }
            },
            "header": {
             "fill": {
              "color": "#C8D4E3"
             },
             "line": {
              "color": "white"
             }
            },
            "type": "table"
           }
          ]
         },
         "layout": {
          "annotationdefaults": {
           "arrowcolor": "#2a3f5f",
           "arrowhead": 0,
           "arrowwidth": 1
          },
          "colorscale": {
           "diverging": [
            [
             0,
             "#8e0152"
            ],
            [
             0.1,
             "#c51b7d"
            ],
            [
             0.2,
             "#de77ae"
            ],
            [
             0.3,
             "#f1b6da"
            ],
            [
             0.4,
             "#fde0ef"
            ],
            [
             0.5,
             "#f7f7f7"
            ],
            [
             0.6,
             "#e6f5d0"
            ],
            [
             0.7,
             "#b8e186"
            ],
            [
             0.8,
             "#7fbc41"
            ],
            [
             0.9,
             "#4d9221"
            ],
            [
             1,
             "#276419"
            ]
           ],
           "sequential": [
            [
             0,
             "#0d0887"
            ],
            [
             0.1111111111111111,
             "#46039f"
            ],
            [
             0.2222222222222222,
             "#7201a8"
            ],
            [
             0.3333333333333333,
             "#9c179e"
            ],
            [
             0.4444444444444444,
             "#bd3786"
            ],
            [
             0.5555555555555556,
             "#d8576b"
            ],
            [
             0.6666666666666666,
             "#ed7953"
            ],
            [
             0.7777777777777778,
             "#fb9f3a"
            ],
            [
             0.8888888888888888,
             "#fdca26"
            ],
            [
             1,
             "#f0f921"
            ]
           ],
           "sequentialminus": [
            [
             0,
             "#0d0887"
            ],
            [
             0.1111111111111111,
             "#46039f"
            ],
            [
             0.2222222222222222,
             "#7201a8"
            ],
            [
             0.3333333333333333,
             "#9c179e"
            ],
            [
             0.4444444444444444,
             "#bd3786"
            ],
            [
             0.5555555555555556,
             "#d8576b"
            ],
            [
             0.6666666666666666,
             "#ed7953"
            ],
            [
             0.7777777777777778,
             "#fb9f3a"
            ],
            [
             0.8888888888888888,
             "#fdca26"
            ],
            [
             1,
             "#f0f921"
            ]
           ]
          },
          "colorway": [
           "#636efa",
           "#EF553B",
           "#00cc96",
           "#ab63fa",
           "#FFA15A",
           "#19d3f3",
           "#FF6692",
           "#B6E880",
           "#FF97FF",
           "#FECB52"
          ],
          "font": {
           "color": "#2a3f5f"
          },
          "geo": {
           "bgcolor": "white",
           "lakecolor": "white",
           "landcolor": "#E5ECF6",
           "showlakes": true,
           "showland": true,
           "subunitcolor": "white"
          },
          "hoverlabel": {
           "align": "left"
          },
          "hovermode": "closest",
          "mapbox": {
           "style": "light"
          },
          "paper_bgcolor": "white",
          "plot_bgcolor": "#E5ECF6",
          "polar": {
           "angularaxis": {
            "gridcolor": "white",
            "linecolor": "white",
            "ticks": ""
           },
           "bgcolor": "#E5ECF6",
           "radialaxis": {
            "gridcolor": "white",
            "linecolor": "white",
            "ticks": ""
           }
          },
          "scene": {
           "xaxis": {
            "backgroundcolor": "#E5ECF6",
            "gridcolor": "white",
            "gridwidth": 2,
            "linecolor": "white",
            "showbackground": true,
            "ticks": "",
            "zerolinecolor": "white"
           },
           "yaxis": {
            "backgroundcolor": "#E5ECF6",
            "gridcolor": "white",
            "gridwidth": 2,
            "linecolor": "white",
            "showbackground": true,
            "ticks": "",
            "zerolinecolor": "white"
           },
           "zaxis": {
            "backgroundcolor": "#E5ECF6",
            "gridcolor": "white",
            "gridwidth": 2,
            "linecolor": "white",
            "showbackground": true,
            "ticks": "",
            "zerolinecolor": "white"
           }
          },
          "shapedefaults": {
           "line": {
            "color": "#2a3f5f"
           }
          },
          "ternary": {
           "aaxis": {
            "gridcolor": "white",
            "linecolor": "white",
            "ticks": ""
           },
           "baxis": {
            "gridcolor": "white",
            "linecolor": "white",
            "ticks": ""
           },
           "bgcolor": "#E5ECF6",
           "caxis": {
            "gridcolor": "white",
            "linecolor": "white",
            "ticks": ""
           }
          },
          "title": {
           "x": 0.05
          },
          "xaxis": {
           "automargin": true,
           "gridcolor": "white",
           "linecolor": "white",
           "ticks": "",
           "zerolinecolor": "white",
           "zerolinewidth": 2
          },
          "yaxis": {
           "automargin": true,
           "gridcolor": "white",
           "linecolor": "white",
           "ticks": "",
           "zerolinecolor": "white",
           "zerolinewidth": 2
          }
         }
        }
       }
      },
      "text/html": [
       "<div>\n",
       "        \n",
       "        \n",
       "            <div id=\"79f19898-a56f-4caf-8d1d-640c49960fab\" class=\"plotly-graph-div\" style=\"height:525px; width:100%;\"></div>\n",
       "            <script type=\"text/javascript\">\n",
       "                require([\"plotly\"], function(Plotly) {\n",
       "                    window.PLOTLYENV=window.PLOTLYENV || {};\n",
       "                    \n",
       "                if (document.getElementById(\"79f19898-a56f-4caf-8d1d-640c49960fab\")) {\n",
       "                    Plotly.newPlot(\n",
       "                        '79f19898-a56f-4caf-8d1d-640c49960fab',\n",
       "                        [{\"marker\": {\"color\": [2.0, 4.0, 2.0, 2.0, 2.0, 2.0, 2.0, 2.0, 2.0, 2.0, 2.0, 2.0, 2.0, 2.0, 2.0, 2.0, 4.0, 4.0, 4.0, 4.0, 4.0, 4.0, 4.0, 4.0, 4.0, 4.0, 4.0, 4.0, 8.0, 8.0, 8.0, 8.0, 8.0, 8.0, 4.0, 4.0, 8.0, 8.0, 8.0, 8.0, 8.0, 8.0, 4.0, 4.0, 8.0, 8.0, 8.0, 8.0, 8.0, 8.0, 4.0, 4.0, 8.0, 8.0, 8.0, 8.0, 8.0, 8.0, 4.0, 4.0, 4.0, 4.0, 4.0, 4.0], \"colorscale\": [[0, \"wheat\"], [0.5, \"darkgreen\"], [1.0, \"lightgreen\"]], \"opacity\": 0.8, \"size\": 3}, \"mode\": \"markers\", \"type\": \"scatter3d\", \"x\": [0.0, 0.0, -4.349864425273045e-05, -7.231141094117061e-05, 0.0003545336388906738, 0.0005836135233255075, 0.0023304781453652346, 0.0023495148071919487, 0.0007867775660280321, 0.000960569542976794, 0.001168517190014343, 0.0013069488877521082, 0.0010652526280370725, 0.000877489749265652, 0.0005334381073143218, 0.000177801459875771, 0.0, 0.0, 0.0, 0.0, 0.0, 0.0, 0.0, 0.0, 0.0, 0.0, 0.0, 0.0, -0.0020225424859373685, -0.004045084971874737, -0.006067627457812106, -0.008090169943749474, -0.010112712429686843, -0.0111059558396906, 0.0, 0.0, 0.0020225424859373685, 0.004045084971874737, 0.006067627457812106, 0.008090169943749474, 0.010112712429686843, 0.0111059558396906, 0.0, 0.0, -0.0020225424859373685, -0.004045084971874737, -0.006067627457812106, -0.008090169943749474, -0.010112712429686843, -0.011105955839690597, 0.0, 0.0, 0.0020225424859373685, 0.004045084971874737, 0.006067627457812106, 0.008090169943749474, 0.010112712429686843, 0.011105955839690596, 0.0, 0.0, 0.0, 0.0, 0.0, 0.0], \"y\": [0.0, 0.0, -9.272556683029244e-05, -0.00018125221627083812, 0.0004850279474472836, 0.001010618428538291, 0.002740978625684629, 0.002762300754355901, 0.001515120610487708, 0.0020401943431563093, 0.002518909711896955, 0.002908777933330969, 0.0037298622097208774, 0.0045211279014661845, 0.0052002208717424605, 0.0058848493268390785, 0.0, 0.0, 0.0, 0.0, 0.0, 0.0, 0.0, 0.0, 0.0, 0.0, 0.0, 0.0, -1.1914159164114551e-17, -2.3828318328229102e-17, -3.574247749234365e-17, -4.7656636656458205e-17, -5.957079582057275e-17, -6.542167913094643e-17, 0.0, 0.0, -9.8900739212743e-18, -1.97801478425486e-17, -2.96702217638229e-17, -3.95602956850972e-17, -4.9450369606371495e-17, -5.4307251879577745e-17, 0.0, 0.0, 3.169430700666315e-17, 6.33886140133263e-17, 9.508292101998945e-17, 1.267772280266526e-16, 1.5847153503331575e-16, 1.740361828901019e-16, 0.0, 0.0, -5.3498540092052005e-17, -1.0699708018410401e-16, -1.6049562027615601e-16, -2.1399416036820802e-16, -2.6749270046026005e-16, -2.9376511390062607e-16, 0.0, 0.0, 0.0, 0.0, 0.0, 0.0], \"z\": [-0.03, -0.03, -0.032497901086353136, -0.034996167056344035, -0.03736763791782849, -0.03980100534851664, -0.040253020370830825, -0.04025714421513021, -0.04224112868969451, -0.04467917994510521, -0.04712409085796544, -0.049589621112287485, -0.051938536506486485, -0.054302567747063116, -0.05668384076908137, -0.05905312549938896, -0.0275, -0.025, -0.0225, -0.02, -0.0175, -0.015, -0.0125, -0.01, -0.0075, -0.005, -0.0025, 0.0, 0.0014694631307311829, 0.0029389262614623658, 0.004408389392193549, 0.0058778525229247315, 0.007347315653655915, 0.008068949231684708, 0.0025, 0.0029999999999999983, 0.004469463130731181, 0.005938926261462364, 0.007408389392193546, 0.00887785252292473, 0.010347315653655913, 0.011068949231684706, 0.005499999999999998, 0.005999999999999997, 0.00746946313073118, 0.008938926261462362, 0.010408389392193544, 0.011877852522924727, 0.013347315653655911, 0.014068949231684703, 0.008499999999999997, 0.008999999999999994, 0.010469463130731178, 0.011938926261462361, 0.013408389392193543, 0.014877852522924727, 0.01634731565365591, 0.017068949231684703, 0.011499999999999995, 0.011999999999999993, 0.014499999999999992, 0.016999999999999994, 0.019499999999999993, 0.019997730003511877]}],\n",
       "                        {\"scene\": {\"aspectmode\": \"data\"}, \"template\": {\"data\": {\"bar\": [{\"error_x\": {\"color\": \"#2a3f5f\"}, \"error_y\": {\"color\": \"#2a3f5f\"}, \"marker\": {\"line\": {\"color\": \"#E5ECF6\", \"width\": 0.5}}, \"type\": \"bar\"}], \"barpolar\": [{\"marker\": {\"line\": {\"color\": \"#E5ECF6\", \"width\": 0.5}}, \"type\": \"barpolar\"}], \"carpet\": [{\"aaxis\": {\"endlinecolor\": \"#2a3f5f\", \"gridcolor\": \"white\", \"linecolor\": \"white\", \"minorgridcolor\": \"white\", \"startlinecolor\": \"#2a3f5f\"}, \"baxis\": {\"endlinecolor\": \"#2a3f5f\", \"gridcolor\": \"white\", \"linecolor\": \"white\", \"minorgridcolor\": \"white\", \"startlinecolor\": \"#2a3f5f\"}, \"type\": \"carpet\"}], \"choropleth\": [{\"colorbar\": {\"outlinewidth\": 0, \"ticks\": \"\"}, \"type\": \"choropleth\"}], \"contour\": [{\"colorbar\": {\"outlinewidth\": 0, \"ticks\": \"\"}, \"colorscale\": [[0.0, \"#0d0887\"], [0.1111111111111111, \"#46039f\"], [0.2222222222222222, \"#7201a8\"], [0.3333333333333333, \"#9c179e\"], [0.4444444444444444, \"#bd3786\"], [0.5555555555555556, \"#d8576b\"], [0.6666666666666666, \"#ed7953\"], [0.7777777777777778, \"#fb9f3a\"], [0.8888888888888888, \"#fdca26\"], [1.0, \"#f0f921\"]], \"type\": \"contour\"}], \"contourcarpet\": [{\"colorbar\": {\"outlinewidth\": 0, \"ticks\": \"\"}, \"type\": \"contourcarpet\"}], \"heatmap\": [{\"colorbar\": {\"outlinewidth\": 0, \"ticks\": \"\"}, \"colorscale\": [[0.0, \"#0d0887\"], [0.1111111111111111, \"#46039f\"], [0.2222222222222222, \"#7201a8\"], [0.3333333333333333, \"#9c179e\"], [0.4444444444444444, \"#bd3786\"], [0.5555555555555556, \"#d8576b\"], [0.6666666666666666, \"#ed7953\"], [0.7777777777777778, \"#fb9f3a\"], [0.8888888888888888, \"#fdca26\"], [1.0, \"#f0f921\"]], \"type\": \"heatmap\"}], \"heatmapgl\": [{\"colorbar\": {\"outlinewidth\": 0, \"ticks\": \"\"}, \"colorscale\": [[0.0, \"#0d0887\"], [0.1111111111111111, \"#46039f\"], [0.2222222222222222, \"#7201a8\"], [0.3333333333333333, \"#9c179e\"], [0.4444444444444444, \"#bd3786\"], [0.5555555555555556, \"#d8576b\"], [0.6666666666666666, \"#ed7953\"], [0.7777777777777778, \"#fb9f3a\"], [0.8888888888888888, \"#fdca26\"], [1.0, \"#f0f921\"]], \"type\": \"heatmapgl\"}], \"histogram\": [{\"marker\": {\"colorbar\": {\"outlinewidth\": 0, \"ticks\": \"\"}}, \"type\": \"histogram\"}], \"histogram2d\": [{\"colorbar\": {\"outlinewidth\": 0, \"ticks\": \"\"}, \"colorscale\": [[0.0, \"#0d0887\"], [0.1111111111111111, \"#46039f\"], [0.2222222222222222, \"#7201a8\"], [0.3333333333333333, \"#9c179e\"], [0.4444444444444444, \"#bd3786\"], [0.5555555555555556, \"#d8576b\"], [0.6666666666666666, \"#ed7953\"], [0.7777777777777778, \"#fb9f3a\"], [0.8888888888888888, \"#fdca26\"], [1.0, \"#f0f921\"]], \"type\": \"histogram2d\"}], \"histogram2dcontour\": [{\"colorbar\": {\"outlinewidth\": 0, \"ticks\": \"\"}, \"colorscale\": [[0.0, \"#0d0887\"], [0.1111111111111111, \"#46039f\"], [0.2222222222222222, \"#7201a8\"], [0.3333333333333333, \"#9c179e\"], [0.4444444444444444, \"#bd3786\"], [0.5555555555555556, \"#d8576b\"], [0.6666666666666666, \"#ed7953\"], [0.7777777777777778, \"#fb9f3a\"], [0.8888888888888888, \"#fdca26\"], [1.0, \"#f0f921\"]], \"type\": \"histogram2dcontour\"}], \"mesh3d\": [{\"colorbar\": {\"outlinewidth\": 0, \"ticks\": \"\"}, \"type\": \"mesh3d\"}], \"parcoords\": [{\"line\": {\"colorbar\": {\"outlinewidth\": 0, \"ticks\": \"\"}}, \"type\": \"parcoords\"}], \"scatter\": [{\"marker\": {\"colorbar\": {\"outlinewidth\": 0, \"ticks\": \"\"}}, \"type\": \"scatter\"}], \"scatter3d\": [{\"line\": {\"colorbar\": {\"outlinewidth\": 0, \"ticks\": \"\"}}, \"marker\": {\"colorbar\": {\"outlinewidth\": 0, \"ticks\": \"\"}}, \"type\": \"scatter3d\"}], \"scattercarpet\": [{\"marker\": {\"colorbar\": {\"outlinewidth\": 0, \"ticks\": \"\"}}, \"type\": \"scattercarpet\"}], \"scattergeo\": [{\"marker\": {\"colorbar\": {\"outlinewidth\": 0, \"ticks\": \"\"}}, \"type\": \"scattergeo\"}], \"scattergl\": [{\"marker\": {\"colorbar\": {\"outlinewidth\": 0, \"ticks\": \"\"}}, \"type\": \"scattergl\"}], \"scattermapbox\": [{\"marker\": {\"colorbar\": {\"outlinewidth\": 0, \"ticks\": \"\"}}, \"type\": \"scattermapbox\"}], \"scatterpolar\": [{\"marker\": {\"colorbar\": {\"outlinewidth\": 0, \"ticks\": \"\"}}, \"type\": \"scatterpolar\"}], \"scatterpolargl\": [{\"marker\": {\"colorbar\": {\"outlinewidth\": 0, \"ticks\": \"\"}}, \"type\": \"scatterpolargl\"}], \"scatterternary\": [{\"marker\": {\"colorbar\": {\"outlinewidth\": 0, \"ticks\": \"\"}}, \"type\": \"scatterternary\"}], \"surface\": [{\"colorbar\": {\"outlinewidth\": 0, \"ticks\": \"\"}, \"colorscale\": [[0.0, \"#0d0887\"], [0.1111111111111111, \"#46039f\"], [0.2222222222222222, \"#7201a8\"], [0.3333333333333333, \"#9c179e\"], [0.4444444444444444, \"#bd3786\"], [0.5555555555555556, \"#d8576b\"], [0.6666666666666666, \"#ed7953\"], [0.7777777777777778, \"#fb9f3a\"], [0.8888888888888888, \"#fdca26\"], [1.0, \"#f0f921\"]], \"type\": \"surface\"}], \"table\": [{\"cells\": {\"fill\": {\"color\": \"#EBF0F8\"}, \"line\": {\"color\": \"white\"}}, \"header\": {\"fill\": {\"color\": \"#C8D4E3\"}, \"line\": {\"color\": \"white\"}}, \"type\": \"table\"}]}, \"layout\": {\"annotationdefaults\": {\"arrowcolor\": \"#2a3f5f\", \"arrowhead\": 0, \"arrowwidth\": 1}, \"colorscale\": {\"diverging\": [[0, \"#8e0152\"], [0.1, \"#c51b7d\"], [0.2, \"#de77ae\"], [0.3, \"#f1b6da\"], [0.4, \"#fde0ef\"], [0.5, \"#f7f7f7\"], [0.6, \"#e6f5d0\"], [0.7, \"#b8e186\"], [0.8, \"#7fbc41\"], [0.9, \"#4d9221\"], [1, \"#276419\"]], \"sequential\": [[0.0, \"#0d0887\"], [0.1111111111111111, \"#46039f\"], [0.2222222222222222, \"#7201a8\"], [0.3333333333333333, \"#9c179e\"], [0.4444444444444444, \"#bd3786\"], [0.5555555555555556, \"#d8576b\"], [0.6666666666666666, \"#ed7953\"], [0.7777777777777778, \"#fb9f3a\"], [0.8888888888888888, \"#fdca26\"], [1.0, \"#f0f921\"]], \"sequentialminus\": [[0.0, \"#0d0887\"], [0.1111111111111111, \"#46039f\"], [0.2222222222222222, \"#7201a8\"], [0.3333333333333333, \"#9c179e\"], [0.4444444444444444, \"#bd3786\"], [0.5555555555555556, \"#d8576b\"], [0.6666666666666666, \"#ed7953\"], [0.7777777777777778, \"#fb9f3a\"], [0.8888888888888888, \"#fdca26\"], [1.0, \"#f0f921\"]]}, \"colorway\": [\"#636efa\", \"#EF553B\", \"#00cc96\", \"#ab63fa\", \"#FFA15A\", \"#19d3f3\", \"#FF6692\", \"#B6E880\", \"#FF97FF\", \"#FECB52\"], \"font\": {\"color\": \"#2a3f5f\"}, \"geo\": {\"bgcolor\": \"white\", \"lakecolor\": \"white\", \"landcolor\": \"#E5ECF6\", \"showlakes\": true, \"showland\": true, \"subunitcolor\": \"white\"}, \"hoverlabel\": {\"align\": \"left\"}, \"hovermode\": \"closest\", \"mapbox\": {\"style\": \"light\"}, \"paper_bgcolor\": \"white\", \"plot_bgcolor\": \"#E5ECF6\", \"polar\": {\"angularaxis\": {\"gridcolor\": \"white\", \"linecolor\": \"white\", \"ticks\": \"\"}, \"bgcolor\": \"#E5ECF6\", \"radialaxis\": {\"gridcolor\": \"white\", \"linecolor\": \"white\", \"ticks\": \"\"}}, \"scene\": {\"xaxis\": {\"backgroundcolor\": \"#E5ECF6\", \"gridcolor\": \"white\", \"gridwidth\": 2, \"linecolor\": \"white\", \"showbackground\": true, \"ticks\": \"\", \"zerolinecolor\": \"white\"}, \"yaxis\": {\"backgroundcolor\": \"#E5ECF6\", \"gridcolor\": \"white\", \"gridwidth\": 2, \"linecolor\": \"white\", \"showbackground\": true, \"ticks\": \"\", \"zerolinecolor\": \"white\"}, \"zaxis\": {\"backgroundcolor\": \"#E5ECF6\", \"gridcolor\": \"white\", \"gridwidth\": 2, \"linecolor\": \"white\", \"showbackground\": true, \"ticks\": \"\", \"zerolinecolor\": \"white\"}}, \"shapedefaults\": {\"line\": {\"color\": \"#2a3f5f\"}}, \"ternary\": {\"aaxis\": {\"gridcolor\": \"white\", \"linecolor\": \"white\", \"ticks\": \"\"}, \"baxis\": {\"gridcolor\": \"white\", \"linecolor\": \"white\", \"ticks\": \"\"}, \"bgcolor\": \"#E5ECF6\", \"caxis\": {\"gridcolor\": \"white\", \"linecolor\": \"white\", \"ticks\": \"\"}}, \"title\": {\"x\": 0.05}, \"xaxis\": {\"automargin\": true, \"gridcolor\": \"white\", \"linecolor\": \"white\", \"ticks\": \"\", \"zerolinecolor\": \"white\", \"zerolinewidth\": 2}, \"yaxis\": {\"automargin\": true, \"gridcolor\": \"white\", \"linecolor\": \"white\", \"ticks\": \"\", \"zerolinecolor\": \"white\", \"zerolinewidth\": 2}}}},\n",
       "                        {\"responsive\": true}\n",
       "                    ).then(function(){\n",
       "                            \n",
       "var gd = document.getElementById('79f19898-a56f-4caf-8d1d-640c49960fab');\n",
       "var x = new MutationObserver(function (mutations, observer) {{\n",
       "        var display = window.getComputedStyle(gd).display;\n",
       "        if (!display || display === 'none') {{\n",
       "            console.log([gd, 'removed!']);\n",
       "            Plotly.purge(gd);\n",
       "            observer.disconnect();\n",
       "        }}\n",
       "}});\n",
       "\n",
       "// Listen for the removal of the full notebook cells\n",
       "var notebookContainer = gd.closest('#notebook-container');\n",
       "if (notebookContainer) {{\n",
       "    x.observe(notebookContainer, {childList: true});\n",
       "}}\n",
       "\n",
       "// Listen for the clearing of the current output cell\n",
       "var outputEl = gd.closest('.output');\n",
       "if (outputEl) {{\n",
       "    x.observe(outputEl, {childList: true});\n",
       "}}\n",
       "\n",
       "                        })\n",
       "                };\n",
       "                });\n",
       "            </script>\n",
       "        </div>"
      ]
     },
     "metadata": {},
     "output_type": "display_data"
    }
   ],
   "source": [
    "name = 'testXML'\n",
    "change_parameter('testXML', 'testXML', 'stem', '1', 'la', 'value','2')\n",
    "smallplant = CPlantBox(name, time, name) # make a plant object in python\n",
    "fig = visual_plant(smallplant)    \n",
    "fig.show()"
   ]
  },
  {
   "cell_type": "code",
   "execution_count": 64,
   "metadata": {},
   "outputs": [
    {
     "name": "stdout",
     "output_type": "stream",
     "text": [
      "original ln of stem organ with subtype 1 is 2, changed to 1\n"
     ]
    },
    {
     "data": {
      "application/vnd.plotly.v1+json": {
       "config": {
        "plotlyServerURL": "https://plot.ly"
       },
       "data": [
        {
         "marker": {
          "color": [
           2,
           4,
           2,
           2,
           2,
           2,
           2,
           2,
           2,
           2,
           2,
           2,
           2,
           2,
           2,
           4,
           4,
           4,
           4,
           4,
           4,
           4,
           4,
           4,
           4,
           4,
           4,
           8,
           8,
           8,
           8,
           8,
           8,
           8,
           8,
           4,
           4,
           4,
           8,
           8,
           8,
           8,
           8,
           8,
           8,
           8,
           4,
           4,
           4,
           4,
           4,
           4
          ],
          "colorscale": [
           [
            0,
            "wheat"
           ],
           [
            0.5,
            "darkgreen"
           ],
           [
            1,
            "lightgreen"
           ]
          ],
          "opacity": 0.8,
          "size": 3
         },
         "mode": "markers",
         "type": "scatter3d",
         "x": [
          0,
          0,
          -0.0002331075578206044,
          -0.0008045665707448995,
          -0.0014007665598504582,
          -0.0022380692981701024,
          -0.002798711320754779,
          -0.0030262937706626923,
          -0.003807793991088977,
          -0.004035209599270018,
          -0.004303733476329937,
          -0.004645569948563849,
          -0.004632615047520954,
          -0.004336485306713805,
          -0.00412158611976715,
          0,
          0,
          0,
          0,
          0,
          0,
          0,
          0,
          0,
          0,
          0,
          0,
          -0.0020225424859373685,
          -0.004045084971874737,
          -0.006067627457812106,
          -0.008090169943749474,
          -0.010112712429686843,
          -0.012135254915624212,
          -0.01415779740156158,
          -0.015643789100317572,
          0,
          0,
          0,
          0.0020225424859373685,
          0.004045084971874737,
          0.006067627457812106,
          0.008090169943749474,
          0.010112712429686843,
          0.012135254915624212,
          0.01415779740156158,
          0.01554971903452867,
          0,
          0,
          0,
          0,
          0,
          0
         ],
         "y": [
          0,
          0,
          -3.392379909868634e-05,
          4.733062181891673e-05,
          0.00018895668756626168,
          0.00036986603310458293,
          0.00020765397213523478,
          0.0005766776799468798,
          0.0007799217218705622,
          0.0004627202594333756,
          0.00013120226239013904,
          -0.00032581612104471476,
          -0.00032110067170518784,
          -0.00037388710286069847,
          -0.0006868290396931381,
          0,
          0,
          0,
          0,
          0,
          0,
          0,
          0,
          0,
          0,
          0,
          0,
          5.944059669848361e-17,
          1.1888119339696722e-16,
          1.7832179009545082e-16,
          2.377623867939344e-16,
          2.97202983492418e-16,
          3.5664358019090164e-16,
          4.1608417688938526e-16,
          4.597560571476201e-16,
          0,
          0,
          0,
          -8.124482978387247e-17,
          -1.6248965956774494e-16,
          -2.437344893516174e-16,
          -3.2497931913548993e-16,
          -4.0622414891936244e-16,
          -4.874689787032349e-16,
          -5.687138084871075e-16,
          -6.246268174494335e-16,
          0,
          0,
          0,
          0,
          0,
          0
         ],
         "z": [
          -0.03,
          -0.03,
          -0.03248887726542343,
          -0.03492133123531247,
          -0.03734506546795669,
          -0.03969372379412917,
          -0.03974250531260435,
          -0.04205718124534215,
          -0.04442317982203153,
          -0.04689252495250305,
          -0.04935585415199814,
          -0.05178983895545383,
          -0.05428980094218013,
          -0.056771639125723805,
          -0.05921947956971438,
          -0.0275,
          -0.025,
          -0.0225,
          -0.02,
          -0.0175,
          -0.015,
          -0.0125,
          -0.01,
          -0.0075,
          -0.005,
          -0.0025,
          0,
          0.0014694631307311829,
          0.0029389262614623658,
          0.004408389392193549,
          0.0058778525229247315,
          0.007347315653655915,
          0.008816778784387098,
          0.010286241915118281,
          0.01136587808052744,
          0.0025,
          0.005,
          0.007000000000000002,
          0.008469463130731185,
          0.009938926261462368,
          0.01140838939219355,
          0.012877852522924733,
          0.014347315653655917,
          0.0158167787843871,
          0.017286241915118284,
          0.018297532177119543,
          0.009500000000000001,
          0.012000000000000002,
          0.014500000000000002,
          0.017,
          0.019500000000000003,
          0.019997730003511877
         ]
        }
       ],
       "layout": {
        "autosize": true,
        "scene": {
         "aspectmode": "data",
         "aspectratio": {
          "x": 2.030723801079124,
          "y": 0.09548671694386897,
          "z": 5.1571074417153415
         },
         "camera": {
          "center": {
           "x": 0,
           "y": 0,
           "z": 0
          },
          "eye": {
           "x": 1.1878419122686263,
           "y": 6.938292771035884,
           "z": 2.9044478001086773
          },
          "projection": {
           "type": "perspective"
          },
          "up": {
           "x": 0,
           "y": 0,
           "z": 1
          }
         }
        },
        "template": {
         "data": {
          "bar": [
           {
            "error_x": {
             "color": "#2a3f5f"
            },
            "error_y": {
             "color": "#2a3f5f"
            },
            "marker": {
             "line": {
              "color": "#E5ECF6",
              "width": 0.5
             }
            },
            "type": "bar"
           }
          ],
          "barpolar": [
           {
            "marker": {
             "line": {
              "color": "#E5ECF6",
              "width": 0.5
             }
            },
            "type": "barpolar"
           }
          ],
          "carpet": [
           {
            "aaxis": {
             "endlinecolor": "#2a3f5f",
             "gridcolor": "white",
             "linecolor": "white",
             "minorgridcolor": "white",
             "startlinecolor": "#2a3f5f"
            },
            "baxis": {
             "endlinecolor": "#2a3f5f",
             "gridcolor": "white",
             "linecolor": "white",
             "minorgridcolor": "white",
             "startlinecolor": "#2a3f5f"
            },
            "type": "carpet"
           }
          ],
          "choropleth": [
           {
            "colorbar": {
             "outlinewidth": 0,
             "ticks": ""
            },
            "type": "choropleth"
           }
          ],
          "contour": [
           {
            "colorbar": {
             "outlinewidth": 0,
             "ticks": ""
            },
            "colorscale": [
             [
              0,
              "#0d0887"
             ],
             [
              0.1111111111111111,
              "#46039f"
             ],
             [
              0.2222222222222222,
              "#7201a8"
             ],
             [
              0.3333333333333333,
              "#9c179e"
             ],
             [
              0.4444444444444444,
              "#bd3786"
             ],
             [
              0.5555555555555556,
              "#d8576b"
             ],
             [
              0.6666666666666666,
              "#ed7953"
             ],
             [
              0.7777777777777778,
              "#fb9f3a"
             ],
             [
              0.8888888888888888,
              "#fdca26"
             ],
             [
              1,
              "#f0f921"
             ]
            ],
            "type": "contour"
           }
          ],
          "contourcarpet": [
           {
            "colorbar": {
             "outlinewidth": 0,
             "ticks": ""
            },
            "type": "contourcarpet"
           }
          ],
          "heatmap": [
           {
            "colorbar": {
             "outlinewidth": 0,
             "ticks": ""
            },
            "colorscale": [
             [
              0,
              "#0d0887"
             ],
             [
              0.1111111111111111,
              "#46039f"
             ],
             [
              0.2222222222222222,
              "#7201a8"
             ],
             [
              0.3333333333333333,
              "#9c179e"
             ],
             [
              0.4444444444444444,
              "#bd3786"
             ],
             [
              0.5555555555555556,
              "#d8576b"
             ],
             [
              0.6666666666666666,
              "#ed7953"
             ],
             [
              0.7777777777777778,
              "#fb9f3a"
             ],
             [
              0.8888888888888888,
              "#fdca26"
             ],
             [
              1,
              "#f0f921"
             ]
            ],
            "type": "heatmap"
           }
          ],
          "heatmapgl": [
           {
            "colorbar": {
             "outlinewidth": 0,
             "ticks": ""
            },
            "colorscale": [
             [
              0,
              "#0d0887"
             ],
             [
              0.1111111111111111,
              "#46039f"
             ],
             [
              0.2222222222222222,
              "#7201a8"
             ],
             [
              0.3333333333333333,
              "#9c179e"
             ],
             [
              0.4444444444444444,
              "#bd3786"
             ],
             [
              0.5555555555555556,
              "#d8576b"
             ],
             [
              0.6666666666666666,
              "#ed7953"
             ],
             [
              0.7777777777777778,
              "#fb9f3a"
             ],
             [
              0.8888888888888888,
              "#fdca26"
             ],
             [
              1,
              "#f0f921"
             ]
            ],
            "type": "heatmapgl"
           }
          ],
          "histogram": [
           {
            "marker": {
             "colorbar": {
              "outlinewidth": 0,
              "ticks": ""
             }
            },
            "type": "histogram"
           }
          ],
          "histogram2d": [
           {
            "colorbar": {
             "outlinewidth": 0,
             "ticks": ""
            },
            "colorscale": [
             [
              0,
              "#0d0887"
             ],
             [
              0.1111111111111111,
              "#46039f"
             ],
             [
              0.2222222222222222,
              "#7201a8"
             ],
             [
              0.3333333333333333,
              "#9c179e"
             ],
             [
              0.4444444444444444,
              "#bd3786"
             ],
             [
              0.5555555555555556,
              "#d8576b"
             ],
             [
              0.6666666666666666,
              "#ed7953"
             ],
             [
              0.7777777777777778,
              "#fb9f3a"
             ],
             [
              0.8888888888888888,
              "#fdca26"
             ],
             [
              1,
              "#f0f921"
             ]
            ],
            "type": "histogram2d"
           }
          ],
          "histogram2dcontour": [
           {
            "colorbar": {
             "outlinewidth": 0,
             "ticks": ""
            },
            "colorscale": [
             [
              0,
              "#0d0887"
             ],
             [
              0.1111111111111111,
              "#46039f"
             ],
             [
              0.2222222222222222,
              "#7201a8"
             ],
             [
              0.3333333333333333,
              "#9c179e"
             ],
             [
              0.4444444444444444,
              "#bd3786"
             ],
             [
              0.5555555555555556,
              "#d8576b"
             ],
             [
              0.6666666666666666,
              "#ed7953"
             ],
             [
              0.7777777777777778,
              "#fb9f3a"
             ],
             [
              0.8888888888888888,
              "#fdca26"
             ],
             [
              1,
              "#f0f921"
             ]
            ],
            "type": "histogram2dcontour"
           }
          ],
          "mesh3d": [
           {
            "colorbar": {
             "outlinewidth": 0,
             "ticks": ""
            },
            "type": "mesh3d"
           }
          ],
          "parcoords": [
           {
            "line": {
             "colorbar": {
              "outlinewidth": 0,
              "ticks": ""
             }
            },
            "type": "parcoords"
           }
          ],
          "scatter": [
           {
            "marker": {
             "colorbar": {
              "outlinewidth": 0,
              "ticks": ""
             }
            },
            "type": "scatter"
           }
          ],
          "scatter3d": [
           {
            "line": {
             "colorbar": {
              "outlinewidth": 0,
              "ticks": ""
             }
            },
            "marker": {
             "colorbar": {
              "outlinewidth": 0,
              "ticks": ""
             }
            },
            "type": "scatter3d"
           }
          ],
          "scattercarpet": [
           {
            "marker": {
             "colorbar": {
              "outlinewidth": 0,
              "ticks": ""
             }
            },
            "type": "scattercarpet"
           }
          ],
          "scattergeo": [
           {
            "marker": {
             "colorbar": {
              "outlinewidth": 0,
              "ticks": ""
             }
            },
            "type": "scattergeo"
           }
          ],
          "scattergl": [
           {
            "marker": {
             "colorbar": {
              "outlinewidth": 0,
              "ticks": ""
             }
            },
            "type": "scattergl"
           }
          ],
          "scattermapbox": [
           {
            "marker": {
             "colorbar": {
              "outlinewidth": 0,
              "ticks": ""
             }
            },
            "type": "scattermapbox"
           }
          ],
          "scatterpolar": [
           {
            "marker": {
             "colorbar": {
              "outlinewidth": 0,
              "ticks": ""
             }
            },
            "type": "scatterpolar"
           }
          ],
          "scatterpolargl": [
           {
            "marker": {
             "colorbar": {
              "outlinewidth": 0,
              "ticks": ""
             }
            },
            "type": "scatterpolargl"
           }
          ],
          "scatterternary": [
           {
            "marker": {
             "colorbar": {
              "outlinewidth": 0,
              "ticks": ""
             }
            },
            "type": "scatterternary"
           }
          ],
          "surface": [
           {
            "colorbar": {
             "outlinewidth": 0,
             "ticks": ""
            },
            "colorscale": [
             [
              0,
              "#0d0887"
             ],
             [
              0.1111111111111111,
              "#46039f"
             ],
             [
              0.2222222222222222,
              "#7201a8"
             ],
             [
              0.3333333333333333,
              "#9c179e"
             ],
             [
              0.4444444444444444,
              "#bd3786"
             ],
             [
              0.5555555555555556,
              "#d8576b"
             ],
             [
              0.6666666666666666,
              "#ed7953"
             ],
             [
              0.7777777777777778,
              "#fb9f3a"
             ],
             [
              0.8888888888888888,
              "#fdca26"
             ],
             [
              1,
              "#f0f921"
             ]
            ],
            "type": "surface"
           }
          ],
          "table": [
           {
            "cells": {
             "fill": {
              "color": "#EBF0F8"
             },
             "line": {
              "color": "white"
             }
            },
            "header": {
             "fill": {
              "color": "#C8D4E3"
             },
             "line": {
              "color": "white"
             }
            },
            "type": "table"
           }
          ]
         },
         "layout": {
          "annotationdefaults": {
           "arrowcolor": "#2a3f5f",
           "arrowhead": 0,
           "arrowwidth": 1
          },
          "colorscale": {
           "diverging": [
            [
             0,
             "#8e0152"
            ],
            [
             0.1,
             "#c51b7d"
            ],
            [
             0.2,
             "#de77ae"
            ],
            [
             0.3,
             "#f1b6da"
            ],
            [
             0.4,
             "#fde0ef"
            ],
            [
             0.5,
             "#f7f7f7"
            ],
            [
             0.6,
             "#e6f5d0"
            ],
            [
             0.7,
             "#b8e186"
            ],
            [
             0.8,
             "#7fbc41"
            ],
            [
             0.9,
             "#4d9221"
            ],
            [
             1,
             "#276419"
            ]
           ],
           "sequential": [
            [
             0,
             "#0d0887"
            ],
            [
             0.1111111111111111,
             "#46039f"
            ],
            [
             0.2222222222222222,
             "#7201a8"
            ],
            [
             0.3333333333333333,
             "#9c179e"
            ],
            [
             0.4444444444444444,
             "#bd3786"
            ],
            [
             0.5555555555555556,
             "#d8576b"
            ],
            [
             0.6666666666666666,
             "#ed7953"
            ],
            [
             0.7777777777777778,
             "#fb9f3a"
            ],
            [
             0.8888888888888888,
             "#fdca26"
            ],
            [
             1,
             "#f0f921"
            ]
           ],
           "sequentialminus": [
            [
             0,
             "#0d0887"
            ],
            [
             0.1111111111111111,
             "#46039f"
            ],
            [
             0.2222222222222222,
             "#7201a8"
            ],
            [
             0.3333333333333333,
             "#9c179e"
            ],
            [
             0.4444444444444444,
             "#bd3786"
            ],
            [
             0.5555555555555556,
             "#d8576b"
            ],
            [
             0.6666666666666666,
             "#ed7953"
            ],
            [
             0.7777777777777778,
             "#fb9f3a"
            ],
            [
             0.8888888888888888,
             "#fdca26"
            ],
            [
             1,
             "#f0f921"
            ]
           ]
          },
          "colorway": [
           "#636efa",
           "#EF553B",
           "#00cc96",
           "#ab63fa",
           "#FFA15A",
           "#19d3f3",
           "#FF6692",
           "#B6E880",
           "#FF97FF",
           "#FECB52"
          ],
          "font": {
           "color": "#2a3f5f"
          },
          "geo": {
           "bgcolor": "white",
           "lakecolor": "white",
           "landcolor": "#E5ECF6",
           "showlakes": true,
           "showland": true,
           "subunitcolor": "white"
          },
          "hoverlabel": {
           "align": "left"
          },
          "hovermode": "closest",
          "mapbox": {
           "style": "light"
          },
          "paper_bgcolor": "white",
          "plot_bgcolor": "#E5ECF6",
          "polar": {
           "angularaxis": {
            "gridcolor": "white",
            "linecolor": "white",
            "ticks": ""
           },
           "bgcolor": "#E5ECF6",
           "radialaxis": {
            "gridcolor": "white",
            "linecolor": "white",
            "ticks": ""
           }
          },
          "scene": {
           "xaxis": {
            "backgroundcolor": "#E5ECF6",
            "gridcolor": "white",
            "gridwidth": 2,
            "linecolor": "white",
            "showbackground": true,
            "ticks": "",
            "zerolinecolor": "white"
           },
           "yaxis": {
            "backgroundcolor": "#E5ECF6",
            "gridcolor": "white",
            "gridwidth": 2,
            "linecolor": "white",
            "showbackground": true,
            "ticks": "",
            "zerolinecolor": "white"
           },
           "zaxis": {
            "backgroundcolor": "#E5ECF6",
            "gridcolor": "white",
            "gridwidth": 2,
            "linecolor": "white",
            "showbackground": true,
            "ticks": "",
            "zerolinecolor": "white"
           }
          },
          "shapedefaults": {
           "line": {
            "color": "#2a3f5f"
           }
          },
          "ternary": {
           "aaxis": {
            "gridcolor": "white",
            "linecolor": "white",
            "ticks": ""
           },
           "baxis": {
            "gridcolor": "white",
            "linecolor": "white",
            "ticks": ""
           },
           "bgcolor": "#E5ECF6",
           "caxis": {
            "gridcolor": "white",
            "linecolor": "white",
            "ticks": ""
           }
          },
          "title": {
           "x": 0.05
          },
          "xaxis": {
           "automargin": true,
           "gridcolor": "white",
           "linecolor": "white",
           "ticks": "",
           "zerolinecolor": "white",
           "zerolinewidth": 2
          },
          "yaxis": {
           "automargin": true,
           "gridcolor": "white",
           "linecolor": "white",
           "ticks": "",
           "zerolinecolor": "white",
           "zerolinewidth": 2
          }
         }
        }
       }
      },
      "text/html": [
       "<div>\n",
       "        \n",
       "        \n",
       "            <div id=\"6787a718-f73f-4f1f-b9c9-dae2cb7a5ee9\" class=\"plotly-graph-div\" style=\"height:525px; width:100%;\"></div>\n",
       "            <script type=\"text/javascript\">\n",
       "                require([\"plotly\"], function(Plotly) {\n",
       "                    window.PLOTLYENV=window.PLOTLYENV || {};\n",
       "                    \n",
       "                if (document.getElementById(\"6787a718-f73f-4f1f-b9c9-dae2cb7a5ee9\")) {\n",
       "                    Plotly.newPlot(\n",
       "                        '6787a718-f73f-4f1f-b9c9-dae2cb7a5ee9',\n",
       "                        [{\"marker\": {\"color\": [2.0, 4.0, 2.0, 2.0, 2.0, 2.0, 2.0, 2.0, 2.0, 2.0, 2.0, 2.0, 2.0, 2.0, 2.0, 4.0, 4.0, 4.0, 4.0, 4.0, 4.0, 4.0, 4.0, 4.0, 4.0, 4.0, 4.0, 8.0, 8.0, 8.0, 8.0, 8.0, 8.0, 8.0, 8.0, 4.0, 4.0, 4.0, 8.0, 8.0, 8.0, 8.0, 8.0, 8.0, 8.0, 8.0, 4.0, 4.0, 4.0, 4.0, 4.0, 4.0], \"colorscale\": [[0, \"wheat\"], [0.5, \"darkgreen\"], [1.0, \"lightgreen\"]], \"opacity\": 0.8, \"size\": 3}, \"mode\": \"markers\", \"type\": \"scatter3d\", \"x\": [0.0, 0.0, -0.0002331075578206044, -0.0008045665707448995, -0.0014007665598504582, -0.0022380692981701024, -0.002798711320754779, -0.0030262937706626923, -0.003807793991088977, -0.004035209599270018, -0.004303733476329937, -0.004645569948563849, -0.004632615047520954, -0.004336485306713805, -0.00412158611976715, 0.0, 0.0, 0.0, 0.0, 0.0, 0.0, 0.0, 0.0, 0.0, 0.0, 0.0, 0.0, -0.0020225424859373685, -0.004045084971874737, -0.006067627457812106, -0.008090169943749474, -0.010112712429686843, -0.012135254915624212, -0.01415779740156158, -0.015643789100317572, 0.0, 0.0, 0.0, 0.0020225424859373685, 0.004045084971874737, 0.006067627457812106, 0.008090169943749474, 0.010112712429686843, 0.012135254915624212, 0.01415779740156158, 0.01554971903452867, 0.0, 0.0, 0.0, 0.0, 0.0, 0.0], \"y\": [0.0, 0.0, -3.392379909868634e-05, 4.733062181891673e-05, 0.00018895668756626168, 0.00036986603310458293, 0.00020765397213523478, 0.0005766776799468798, 0.0007799217218705622, 0.0004627202594333756, 0.00013120226239013904, -0.00032581612104471476, -0.00032110067170518784, -0.00037388710286069847, -0.0006868290396931381, 0.0, 0.0, 0.0, 0.0, 0.0, 0.0, 0.0, 0.0, 0.0, 0.0, 0.0, 0.0, 5.944059669848361e-17, 1.1888119339696722e-16, 1.7832179009545082e-16, 2.377623867939344e-16, 2.97202983492418e-16, 3.5664358019090164e-16, 4.1608417688938526e-16, 4.597560571476201e-16, 0.0, 0.0, 0.0, -8.124482978387247e-17, -1.6248965956774494e-16, -2.437344893516174e-16, -3.2497931913548993e-16, -4.0622414891936244e-16, -4.874689787032349e-16, -5.687138084871075e-16, -6.246268174494335e-16, 0.0, 0.0, 0.0, 0.0, 0.0, 0.0], \"z\": [-0.03, -0.03, -0.03248887726542343, -0.03492133123531247, -0.03734506546795669, -0.03969372379412917, -0.03974250531260435, -0.04205718124534215, -0.04442317982203153, -0.04689252495250305, -0.04935585415199814, -0.05178983895545383, -0.05428980094218013, -0.056771639125723805, -0.05921947956971438, -0.0275, -0.025, -0.0225, -0.02, -0.0175, -0.015, -0.0125, -0.01, -0.0075, -0.005, -0.0025, 0.0, 0.0014694631307311829, 0.0029389262614623658, 0.004408389392193549, 0.0058778525229247315, 0.007347315653655915, 0.008816778784387098, 0.010286241915118281, 0.01136587808052744, 0.0025, 0.005, 0.007000000000000002, 0.008469463130731185, 0.009938926261462368, 0.01140838939219355, 0.012877852522924733, 0.014347315653655917, 0.0158167787843871, 0.017286241915118284, 0.018297532177119543, 0.009500000000000001, 0.012000000000000002, 0.014500000000000002, 0.017, 0.019500000000000003, 0.019997730003511877]}],\n",
       "                        {\"scene\": {\"aspectmode\": \"data\"}, \"template\": {\"data\": {\"bar\": [{\"error_x\": {\"color\": \"#2a3f5f\"}, \"error_y\": {\"color\": \"#2a3f5f\"}, \"marker\": {\"line\": {\"color\": \"#E5ECF6\", \"width\": 0.5}}, \"type\": \"bar\"}], \"barpolar\": [{\"marker\": {\"line\": {\"color\": \"#E5ECF6\", \"width\": 0.5}}, \"type\": \"barpolar\"}], \"carpet\": [{\"aaxis\": {\"endlinecolor\": \"#2a3f5f\", \"gridcolor\": \"white\", \"linecolor\": \"white\", \"minorgridcolor\": \"white\", \"startlinecolor\": \"#2a3f5f\"}, \"baxis\": {\"endlinecolor\": \"#2a3f5f\", \"gridcolor\": \"white\", \"linecolor\": \"white\", \"minorgridcolor\": \"white\", \"startlinecolor\": \"#2a3f5f\"}, \"type\": \"carpet\"}], \"choropleth\": [{\"colorbar\": {\"outlinewidth\": 0, \"ticks\": \"\"}, \"type\": \"choropleth\"}], \"contour\": [{\"colorbar\": {\"outlinewidth\": 0, \"ticks\": \"\"}, \"colorscale\": [[0.0, \"#0d0887\"], [0.1111111111111111, \"#46039f\"], [0.2222222222222222, \"#7201a8\"], [0.3333333333333333, \"#9c179e\"], [0.4444444444444444, \"#bd3786\"], [0.5555555555555556, \"#d8576b\"], [0.6666666666666666, \"#ed7953\"], [0.7777777777777778, \"#fb9f3a\"], [0.8888888888888888, \"#fdca26\"], [1.0, \"#f0f921\"]], \"type\": \"contour\"}], \"contourcarpet\": [{\"colorbar\": {\"outlinewidth\": 0, \"ticks\": \"\"}, \"type\": \"contourcarpet\"}], \"heatmap\": [{\"colorbar\": {\"outlinewidth\": 0, \"ticks\": \"\"}, \"colorscale\": [[0.0, \"#0d0887\"], [0.1111111111111111, \"#46039f\"], [0.2222222222222222, \"#7201a8\"], [0.3333333333333333, \"#9c179e\"], [0.4444444444444444, \"#bd3786\"], [0.5555555555555556, \"#d8576b\"], [0.6666666666666666, \"#ed7953\"], [0.7777777777777778, \"#fb9f3a\"], [0.8888888888888888, \"#fdca26\"], [1.0, \"#f0f921\"]], \"type\": \"heatmap\"}], \"heatmapgl\": [{\"colorbar\": {\"outlinewidth\": 0, \"ticks\": \"\"}, \"colorscale\": [[0.0, \"#0d0887\"], [0.1111111111111111, \"#46039f\"], [0.2222222222222222, \"#7201a8\"], [0.3333333333333333, \"#9c179e\"], [0.4444444444444444, \"#bd3786\"], [0.5555555555555556, \"#d8576b\"], [0.6666666666666666, \"#ed7953\"], [0.7777777777777778, \"#fb9f3a\"], [0.8888888888888888, \"#fdca26\"], [1.0, \"#f0f921\"]], \"type\": \"heatmapgl\"}], \"histogram\": [{\"marker\": {\"colorbar\": {\"outlinewidth\": 0, \"ticks\": \"\"}}, \"type\": \"histogram\"}], \"histogram2d\": [{\"colorbar\": {\"outlinewidth\": 0, \"ticks\": \"\"}, \"colorscale\": [[0.0, \"#0d0887\"], [0.1111111111111111, \"#46039f\"], [0.2222222222222222, \"#7201a8\"], [0.3333333333333333, \"#9c179e\"], [0.4444444444444444, \"#bd3786\"], [0.5555555555555556, \"#d8576b\"], [0.6666666666666666, \"#ed7953\"], [0.7777777777777778, \"#fb9f3a\"], [0.8888888888888888, \"#fdca26\"], [1.0, \"#f0f921\"]], \"type\": \"histogram2d\"}], \"histogram2dcontour\": [{\"colorbar\": {\"outlinewidth\": 0, \"ticks\": \"\"}, \"colorscale\": [[0.0, \"#0d0887\"], [0.1111111111111111, \"#46039f\"], [0.2222222222222222, \"#7201a8\"], [0.3333333333333333, \"#9c179e\"], [0.4444444444444444, \"#bd3786\"], [0.5555555555555556, \"#d8576b\"], [0.6666666666666666, \"#ed7953\"], [0.7777777777777778, \"#fb9f3a\"], [0.8888888888888888, \"#fdca26\"], [1.0, \"#f0f921\"]], \"type\": \"histogram2dcontour\"}], \"mesh3d\": [{\"colorbar\": {\"outlinewidth\": 0, \"ticks\": \"\"}, \"type\": \"mesh3d\"}], \"parcoords\": [{\"line\": {\"colorbar\": {\"outlinewidth\": 0, \"ticks\": \"\"}}, \"type\": \"parcoords\"}], \"scatter\": [{\"marker\": {\"colorbar\": {\"outlinewidth\": 0, \"ticks\": \"\"}}, \"type\": \"scatter\"}], \"scatter3d\": [{\"line\": {\"colorbar\": {\"outlinewidth\": 0, \"ticks\": \"\"}}, \"marker\": {\"colorbar\": {\"outlinewidth\": 0, \"ticks\": \"\"}}, \"type\": \"scatter3d\"}], \"scattercarpet\": [{\"marker\": {\"colorbar\": {\"outlinewidth\": 0, \"ticks\": \"\"}}, \"type\": \"scattercarpet\"}], \"scattergeo\": [{\"marker\": {\"colorbar\": {\"outlinewidth\": 0, \"ticks\": \"\"}}, \"type\": \"scattergeo\"}], \"scattergl\": [{\"marker\": {\"colorbar\": {\"outlinewidth\": 0, \"ticks\": \"\"}}, \"type\": \"scattergl\"}], \"scattermapbox\": [{\"marker\": {\"colorbar\": {\"outlinewidth\": 0, \"ticks\": \"\"}}, \"type\": \"scattermapbox\"}], \"scatterpolar\": [{\"marker\": {\"colorbar\": {\"outlinewidth\": 0, \"ticks\": \"\"}}, \"type\": \"scatterpolar\"}], \"scatterpolargl\": [{\"marker\": {\"colorbar\": {\"outlinewidth\": 0, \"ticks\": \"\"}}, \"type\": \"scatterpolargl\"}], \"scatterternary\": [{\"marker\": {\"colorbar\": {\"outlinewidth\": 0, \"ticks\": \"\"}}, \"type\": \"scatterternary\"}], \"surface\": [{\"colorbar\": {\"outlinewidth\": 0, \"ticks\": \"\"}, \"colorscale\": [[0.0, \"#0d0887\"], [0.1111111111111111, \"#46039f\"], [0.2222222222222222, \"#7201a8\"], [0.3333333333333333, \"#9c179e\"], [0.4444444444444444, \"#bd3786\"], [0.5555555555555556, \"#d8576b\"], [0.6666666666666666, \"#ed7953\"], [0.7777777777777778, \"#fb9f3a\"], [0.8888888888888888, \"#fdca26\"], [1.0, \"#f0f921\"]], \"type\": \"surface\"}], \"table\": [{\"cells\": {\"fill\": {\"color\": \"#EBF0F8\"}, \"line\": {\"color\": \"white\"}}, \"header\": {\"fill\": {\"color\": \"#C8D4E3\"}, \"line\": {\"color\": \"white\"}}, \"type\": \"table\"}]}, \"layout\": {\"annotationdefaults\": {\"arrowcolor\": \"#2a3f5f\", \"arrowhead\": 0, \"arrowwidth\": 1}, \"colorscale\": {\"diverging\": [[0, \"#8e0152\"], [0.1, \"#c51b7d\"], [0.2, \"#de77ae\"], [0.3, \"#f1b6da\"], [0.4, \"#fde0ef\"], [0.5, \"#f7f7f7\"], [0.6, \"#e6f5d0\"], [0.7, \"#b8e186\"], [0.8, \"#7fbc41\"], [0.9, \"#4d9221\"], [1, \"#276419\"]], \"sequential\": [[0.0, \"#0d0887\"], [0.1111111111111111, \"#46039f\"], [0.2222222222222222, \"#7201a8\"], [0.3333333333333333, \"#9c179e\"], [0.4444444444444444, \"#bd3786\"], [0.5555555555555556, \"#d8576b\"], [0.6666666666666666, \"#ed7953\"], [0.7777777777777778, \"#fb9f3a\"], [0.8888888888888888, \"#fdca26\"], [1.0, \"#f0f921\"]], \"sequentialminus\": [[0.0, \"#0d0887\"], [0.1111111111111111, \"#46039f\"], [0.2222222222222222, \"#7201a8\"], [0.3333333333333333, \"#9c179e\"], [0.4444444444444444, \"#bd3786\"], [0.5555555555555556, \"#d8576b\"], [0.6666666666666666, \"#ed7953\"], [0.7777777777777778, \"#fb9f3a\"], [0.8888888888888888, \"#fdca26\"], [1.0, \"#f0f921\"]]}, \"colorway\": [\"#636efa\", \"#EF553B\", \"#00cc96\", \"#ab63fa\", \"#FFA15A\", \"#19d3f3\", \"#FF6692\", \"#B6E880\", \"#FF97FF\", \"#FECB52\"], \"font\": {\"color\": \"#2a3f5f\"}, \"geo\": {\"bgcolor\": \"white\", \"lakecolor\": \"white\", \"landcolor\": \"#E5ECF6\", \"showlakes\": true, \"showland\": true, \"subunitcolor\": \"white\"}, \"hoverlabel\": {\"align\": \"left\"}, \"hovermode\": \"closest\", \"mapbox\": {\"style\": \"light\"}, \"paper_bgcolor\": \"white\", \"plot_bgcolor\": \"#E5ECF6\", \"polar\": {\"angularaxis\": {\"gridcolor\": \"white\", \"linecolor\": \"white\", \"ticks\": \"\"}, \"bgcolor\": \"#E5ECF6\", \"radialaxis\": {\"gridcolor\": \"white\", \"linecolor\": \"white\", \"ticks\": \"\"}}, \"scene\": {\"xaxis\": {\"backgroundcolor\": \"#E5ECF6\", \"gridcolor\": \"white\", \"gridwidth\": 2, \"linecolor\": \"white\", \"showbackground\": true, \"ticks\": \"\", \"zerolinecolor\": \"white\"}, \"yaxis\": {\"backgroundcolor\": \"#E5ECF6\", \"gridcolor\": \"white\", \"gridwidth\": 2, \"linecolor\": \"white\", \"showbackground\": true, \"ticks\": \"\", \"zerolinecolor\": \"white\"}, \"zaxis\": {\"backgroundcolor\": \"#E5ECF6\", \"gridcolor\": \"white\", \"gridwidth\": 2, \"linecolor\": \"white\", \"showbackground\": true, \"ticks\": \"\", \"zerolinecolor\": \"white\"}}, \"shapedefaults\": {\"line\": {\"color\": \"#2a3f5f\"}}, \"ternary\": {\"aaxis\": {\"gridcolor\": \"white\", \"linecolor\": \"white\", \"ticks\": \"\"}, \"baxis\": {\"gridcolor\": \"white\", \"linecolor\": \"white\", \"ticks\": \"\"}, \"bgcolor\": \"#E5ECF6\", \"caxis\": {\"gridcolor\": \"white\", \"linecolor\": \"white\", \"ticks\": \"\"}}, \"title\": {\"x\": 0.05}, \"xaxis\": {\"automargin\": true, \"gridcolor\": \"white\", \"linecolor\": \"white\", \"ticks\": \"\", \"zerolinecolor\": \"white\", \"zerolinewidth\": 2}, \"yaxis\": {\"automargin\": true, \"gridcolor\": \"white\", \"linecolor\": \"white\", \"ticks\": \"\", \"zerolinecolor\": \"white\", \"zerolinewidth\": 2}}}},\n",
       "                        {\"responsive\": true}\n",
       "                    ).then(function(){\n",
       "                            \n",
       "var gd = document.getElementById('6787a718-f73f-4f1f-b9c9-dae2cb7a5ee9');\n",
       "var x = new MutationObserver(function (mutations, observer) {{\n",
       "        var display = window.getComputedStyle(gd).display;\n",
       "        if (!display || display === 'none') {{\n",
       "            console.log([gd, 'removed!']);\n",
       "            Plotly.purge(gd);\n",
       "            observer.disconnect();\n",
       "        }}\n",
       "}});\n",
       "\n",
       "// Listen for the removal of the full notebook cells\n",
       "var notebookContainer = gd.closest('#notebook-container');\n",
       "if (notebookContainer) {{\n",
       "    x.observe(notebookContainer, {childList: true});\n",
       "}}\n",
       "\n",
       "// Listen for the clearing of the current output cell\n",
       "var outputEl = gd.closest('.output');\n",
       "if (outputEl) {{\n",
       "    x.observe(outputEl, {childList: true});\n",
       "}}\n",
       "\n",
       "                        })\n",
       "                };\n",
       "                });\n",
       "            </script>\n",
       "        </div>"
      ]
     },
     "metadata": {},
     "output_type": "display_data"
    }
   ],
   "source": [
    "# in addition, the functiontype decides what branching internode distance will be\n",
    "name = 'testXML'\n",
    "change_parameter('testXML', 'testXML', 'stem', '1', 'ln', 'functiontype','1')\n",
    "smallplant = CPlantBox(name, time, name) # make a plant object in python\n",
    "fig = visual_plant(smallplant)    \n",
    "fig.show()"
   ]
  }
 ],
 "metadata": {
  "accelerator": "GPU",
  "colab": {
   "collapsed_sections": [],
   "name": "CPlantBox-PiafMunch_Tutorial (include installation).ipynb",
   "provenance": [],
   "version": "0.3.2"
  },
  "kernelspec": {
   "display_name": "Python 3",
   "language": "python",
   "name": "python3"
  },
  "language_info": {
   "codemirror_mode": {
    "name": "ipython",
    "version": 3
   },
   "file_extension": ".py",
   "mimetype": "text/x-python",
   "name": "python",
   "nbconvert_exporter": "python",
   "pygments_lexer": "ipython3",
   "version": "3.6.8"
  }
 },
 "nbformat": 4,
 "nbformat_minor": 4
}
