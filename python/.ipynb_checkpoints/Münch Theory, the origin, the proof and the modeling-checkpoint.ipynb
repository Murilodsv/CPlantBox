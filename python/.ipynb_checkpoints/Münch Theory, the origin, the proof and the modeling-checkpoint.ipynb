{
 "cells": [
  {
   "cell_type": "markdown",
   "metadata": {},
   "source": []
  },
  {
   "cell_type": "markdown",
   "metadata": {},
   "source": [
    "$J_{\\mathrm{WX}}=-\\Delta P_{\\mathrm{X}}/\\mathrm{r_{X}}$.Xylem flow between connected elements,  \n",
    "Phloem flow between connected elements, $J_{\\mathrm{WP}}=-\\Delta P_{\\mathrm{P}}/\\mathrm{r_{P}}$.\n",
    "\n",
    "Lateral water flow from xylem to phloem is driven by the difference in water potential. $\n",
    "J_{Wlat}=(\\psi_{\\mathrm{X}}-\\psi_{\\mathrm{P}})/\\mathrm{r_{lat}}\n",
    "$  \n",
    "Taking into account the non-zero partial molal volume of sucrose $\\mathrm{\\overline{V}}$ adds an extra lateral component to the liquid flow into the sieve tubes: $J_{Wlat}=\\mathrm{\\overline{V}}\\times J_{Slat} (\\psi_{\\mathrm{X}}-\\psi_{\\mathrm{P}})/\\mathrm{r_{lat}}$  \n",
    "Hydrostatic pressure $P_{\\mathrm{P}}$ within the sieve tubes is given by the difference between total phloem water potential and osmotic potential inside sieve tubes: $P_{\\mathrm{P}}=\\psi_{\\mathrm{P}}-\\Pi$\n",
    "\n",
    "Xylem sap has a very low solute concentration which we shall ignore, so there is no osmotic component to its total water potential:\n",
    "$P_{\\mathrm{X}}=\\psi_{\\mathrm{X}}$\n",
    "For a single phloem solute, Π is determined by its concentration C. For a dilute solution, Π is given by the Van’t Hoff relation:\n",
    "\n",
    "$\\Pi= -\\mathrm{R} \\times \\mathrm{T} \\times C$  \n",
    "\n",
    "for dilute solutions, where R is the universal gas constant and T the absolute temperature. For a non-dilute solution, we use the empirical equation stated by Thompson and Holbrook (2003),\n",
    "\n",
    "$\\Pi= -ρ \\times \\mathrm{T} \\times C$  \n",
    "with $\\mathrm{ρ_{w}}$ the density of water and m the molality given by  \n",
    "$m = C/[\\mathrm{ρ_{w}}(1-C \\times \\mathrm{\\overline{V}})]$  \n",
    "\n",
    "$\\sum_{k} J_{W\\_k}=0$\n",
    "\n",
    "$J_{SP}= J_{WP} \\times C$\n",
    "\n",
    "$\\frac{\\mathrm{d}Q}{\\mathrm{d}t}= -J_{Slat}-R_{\\mathrm{M}}+\\mathrm{Ph}-\\frac{\\mathrm{d}S}{\\mathrm{d}t}$  \n",
    "\n",
    "$R_{\\mathrm{M}} = (\\mathrm{K_4} + \\mathrm{K_5} C) \\times S_r$\n",
    "\n",
    "where Sr is the structural carbon content of the element biomass, expressed in sucrose equivalents.\n",
    "\n",
    "Starch metabolism is represented by a general equation derived from Daudet et al. (2002):\n",
    "\n",
    "$\\frac{\\mathrm{d}S}{\\mathrm{d}t}= \\frac{\\mathrm{V_{max}}\\times C_{\\mathrm{Par}}}{K_m+C_{\\mathrm{Par}}}\\times V_{\\mathrm{Par}} - k_hyd \\times S +k_6 \\times(C_{\\mathrm{Par}}-C_{\\mathrm{targ}}) \\times V_{\\mathrm{Par}}$\n"
   ]
  }
 ],
 "metadata": {
  "kernelspec": {
   "display_name": "Python 3",
   "language": "python",
   "name": "python3"
  },
  "language_info": {
   "codemirror_mode": {
    "name": "ipython",
    "version": 3
   },
   "file_extension": ".py",
   "mimetype": "text/x-python",
   "name": "python",
   "nbconvert_exporter": "python",
   "pygments_lexer": "ipython3",
   "version": "3.6.5"
  }
 },
 "nbformat": 4,
 "nbformat_minor": 2
}
