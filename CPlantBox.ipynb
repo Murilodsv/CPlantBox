{
 "cells": [
  {
   "cell_type": "markdown",
   "metadata": {},
   "source": [
    "# Scripts for CPlantBox\n",
    "\n",
    " [CPlantBox](https://github.com/Plant-Root-Soil-Interactions-Modelling/CPlantBox) is a functional structural plant model. It is currently underconstruction. But some of the functions are already working. There are serveral ways to use the CPlantBox, which are:\n",
    " 1. Python Scripts.\n",
    " 2. C++ source file for building and compiling.\n",
    " 3. Precompiled programm for windows.\n",
    " 4. Online usage.\n",
    "Among them the the python scripting is the recommended and most robust way to use it. In this notebook, we can see how they work and what can we learn from them. This notebook is based on a tutorial written by [Daniel Leitner](http://www.simwerk.at/contact/) for CRootBox."
   ]
  },
  {
   "cell_type": "markdown",
   "metadata": {},
   "source": [
    "## 1.Read parameter file and generate a simple output\n",
    "\n",
    "In line7, we could change the parameter name inside the qoutation marks, if we want to use different parameter. Normally we use the XML based parameter file. If you are using a .rparam file frome the CRootBox, you can directly use them here, but after the first run the new Parameter file is generated, and you can further use the new file later on."
   ]
  },
  {
   "cell_type": "code",
   "execution_count": null,
   "metadata": {},
   "outputs": [],
   "source": [
    "import py_plantbox as pb # Open  and root parameter from a file\n",
    "from rb_tools import *\n",
    "\n",
    "plant = pb.Plant()\n",
    "\n",
    "# Open  and root parameter from a file\n",
    "name = \"CPlantBox_test_leaf_tree\" # you can change it to the name of other XML parameter files for example\"\"\n",
    "plant.openXML(name)\n",
    "\n",
    "# Initialize\n",
    "plant.initialize()\n",
    "\n",
    "# Simulate\n",
    "plant.simulate(60, True)\n",
    "\n",
    "# Export final result (as vtp)\n",
    "#2 = root\n",
    "#4 = stem\n",
    "#8 = leaf\n",
    "#15 = all\n",
    "analysis = pb.SegmentAnalyser(plant) \n",
    "plant.write(\"results/example_1a.vtp\", 15) #to generate the .vtp file\n",
    "analysis.write(\"results/example_1a.txt\") #to generate the matlab file\n",
    "\n"
   ]
  },
  {
   "cell_type": "markdown",
   "metadata": {},
   "source": [
    "## 2. \"screenshot\" of the 3D architecture\n",
    "In this paragraph, we can could use a 2D \"screenshot\" to show the output. There are 3 ways to do it. In this notebook, we can use 2 ways which are\n",
    "1. using R and gganimate to generate the animation\n",
    "2. using VTK package "
   ]
  },
  {
   "cell_type": "code",
   "execution_count": 1,
   "metadata": {},
   "outputs": [],
   "source": [
    "# Hide warnings if there are any\n",
    "import warnings\n",
    "import rpy2.ipython\n",
    "warnings.filterwarnings('ignore')\n",
    "# Load in the r magic\n",
    "%load_ext rpy2.ipython\n",
    "# We need ggplot2\n"
   ]
  },
  {
   "cell_type": "code",
   "execution_count": 2,
   "metadata": {},
   "outputs": [],
   "source": [
    "\n",
    "%%R \n",
    "library(plyr)\n",
    "library(tidyverse)\n",
    "\n",
    " rs <- read_delim(\"results/example_1a.txt\",  delim = \" \") %>%\n",
    "  mutate(time = round(time)) %>%\n",
    "  mutate(length = sqrt((x2-x1)^2 + (y2-y1)^2 + (z2-z1)^2))\n",
    "\n",
    " rs2 <- ddply(rs, .(type, organ, time), summarise, length=sum(length)) %>%\n",
    "   filter(time > 0)\n",
    "\n"
   ]
  },
  {
   "cell_type": "code",
   "execution_count": 3,
   "metadata": {},
   "outputs": [
    {
     "data": {
      "image/png": "[encoded data removed]"
     },
     "metadata": {},
     "output_type": "display_data"
    },
    {
     "ename": "TypeError",
     "evalue": "'rpy2.rinterface.RNULLType' object is not iterable",
     "output_type": "error",
     "traceback": [
      "\u001b[1;31m---------------------------------------------------------------------------\u001b[0m",
      "\u001b[1;31mTypeError\u001b[0m                                 Traceback (most recent call last)",
      "\u001b[1;32mc:\\program files (x86)\\microsoft visual studio\\shared\\python36_64\\lib\\site-packages\\IPython\\core\\formatters.py\u001b[0m in \u001b[0;36m__call__\u001b[1;34m(self, obj)\u001b[0m\n\u001b[0;32m    343\u001b[0m             \u001b[0mmethod\u001b[0m \u001b[1;33m=\u001b[0m \u001b[0mget_real_method\u001b[0m\u001b[1;33m(\u001b[0m\u001b[0mobj\u001b[0m\u001b[1;33m,\u001b[0m \u001b[0mself\u001b[0m\u001b[1;33m.\u001b[0m\u001b[0mprint_method\u001b[0m\u001b[1;33m)\u001b[0m\u001b[1;33m\u001b[0m\u001b[0m\n\u001b[0;32m    344\u001b[0m             \u001b[1;32mif\u001b[0m \u001b[0mmethod\u001b[0m \u001b[1;32mis\u001b[0m \u001b[1;32mnot\u001b[0m \u001b[1;32mNone\u001b[0m\u001b[1;33m:\u001b[0m\u001b[1;33m\u001b[0m\u001b[0m\n\u001b[1;32m--> 345\u001b[1;33m                 \u001b[1;32mreturn\u001b[0m \u001b[0mmethod\u001b[0m\u001b[1;33m(\u001b[0m\u001b[1;33m)\u001b[0m\u001b[1;33m\u001b[0m\u001b[0m\n\u001b[0m\u001b[0;32m    346\u001b[0m             \u001b[1;32mreturn\u001b[0m \u001b[1;32mNone\u001b[0m\u001b[1;33m\u001b[0m\u001b[0m\n\u001b[0;32m    347\u001b[0m         \u001b[1;32melse\u001b[0m\u001b[1;33m:\u001b[0m\u001b[1;33m\u001b[0m\u001b[0m\n",
      "\u001b[1;32mc:\\program files (x86)\\microsoft visual studio\\shared\\python36_64\\lib\\site-packages\\rpy2\\robjects\\vectors.py\u001b[0m in \u001b[0;36m_repr_html_\u001b[1;34m(self, max_items)\u001b[0m\n\u001b[0;32m    680\u001b[0m         \u001b[1;32mfor\u001b[0m \u001b[0me\u001b[0m \u001b[1;32min\u001b[0m \u001b[0mself\u001b[0m\u001b[1;33m.\u001b[0m\u001b[0m_iter_repr\u001b[0m\u001b[1;33m(\u001b[0m\u001b[0mmax_items\u001b[0m\u001b[1;33m=\u001b[0m\u001b[0mmax_items\u001b[0m\u001b[1;33m)\u001b[0m\u001b[1;33m:\u001b[0m\u001b[1;33m\u001b[0m\u001b[0m\n\u001b[0;32m    681\u001b[0m             \u001b[1;32mif\u001b[0m \u001b[0mhasattr\u001b[0m\u001b[1;33m(\u001b[0m\u001b[0me\u001b[0m\u001b[1;33m,\u001b[0m \u001b[1;34m'_repr_html_'\u001b[0m\u001b[1;33m)\u001b[0m\u001b[1;33m:\u001b[0m\u001b[1;33m\u001b[0m\u001b[0m\n\u001b[1;32m--> 682\u001b[1;33m                 \u001b[0melements\u001b[0m\u001b[1;33m.\u001b[0m\u001b[0mappend\u001b[0m\u001b[1;33m(\u001b[0m\u001b[0me\u001b[0m\u001b[1;33m.\u001b[0m\u001b[0m_repr_html_\u001b[0m\u001b[1;33m(\u001b[0m\u001b[1;33m)\u001b[0m\u001b[1;33m)\u001b[0m\u001b[1;33m\u001b[0m\u001b[0m\n\u001b[0m\u001b[0;32m    683\u001b[0m             \u001b[1;32melse\u001b[0m\u001b[1;33m:\u001b[0m\u001b[1;33m\u001b[0m\u001b[0m\n\u001b[0;32m    684\u001b[0m                 \u001b[0melements\u001b[0m\u001b[1;33m.\u001b[0m\u001b[0mappend\u001b[0m\u001b[1;33m(\u001b[0m\u001b[0me\u001b[0m\u001b[1;33m)\u001b[0m\u001b[1;33m\u001b[0m\u001b[0m\n",
      "\u001b[1;32mc:\\program files (x86)\\microsoft visual studio\\shared\\python36_64\\lib\\site-packages\\rpy2\\robjects\\vectors.py\u001b[0m in \u001b[0;36m_repr_html_\u001b[1;34m(self, max_items)\u001b[0m\n\u001b[0;32m    687\u001b[0m         \u001b[0mnames\u001b[0m \u001b[1;33m=\u001b[0m \u001b[0mlist\u001b[0m\u001b[1;33m(\u001b[0m\u001b[1;33m)\u001b[0m\u001b[1;33m\u001b[0m\u001b[0m\n\u001b[0;32m    688\u001b[0m         \u001b[1;32mif\u001b[0m \u001b[0mlen\u001b[0m\u001b[1;33m(\u001b[0m\u001b[0mself\u001b[0m\u001b[1;33m)\u001b[0m \u001b[1;33m<=\u001b[0m \u001b[0mmax_items\u001b[0m\u001b[1;33m:\u001b[0m\u001b[1;33m\u001b[0m\u001b[0m\n\u001b[1;32m--> 689\u001b[1;33m             \u001b[0mnames\u001b[0m\u001b[1;33m.\u001b[0m\u001b[0mextend\u001b[0m\u001b[1;33m(\u001b[0m\u001b[0mself\u001b[0m\u001b[1;33m.\u001b[0m\u001b[0mnames\u001b[0m\u001b[1;33m)\u001b[0m\u001b[1;33m\u001b[0m\u001b[0m\n\u001b[0m\u001b[0;32m    690\u001b[0m         \u001b[1;32melse\u001b[0m\u001b[1;33m:\u001b[0m\u001b[1;33m\u001b[0m\u001b[0m\n\u001b[0;32m    691\u001b[0m             \u001b[0mhalf_items\u001b[0m \u001b[1;33m=\u001b[0m \u001b[0mmax_items\u001b[0m \u001b[1;33m//\u001b[0m \u001b[1;36m2\u001b[0m\u001b[1;33m\u001b[0m\u001b[0m\n",
      "\u001b[1;31mTypeError\u001b[0m: 'rpy2.rinterface.RNULLType' object is not iterable"
     ]
    },
    {
     "data": {
      "text/plain": [
       "R object with classes: ('list',) mapped to:\n",
       "<ListVector - Python:0x0000014B0F0C9E48 / R:0x0000014B1FF273D8>\n",
       "[ListVector, Environment, ListVector]\n",
       "R object with classes: ('list',) mapped to:\n",
       "<ListVector - Python:0x0000014B0F0C9E48 / R:0x0000014B1FF273D8>\n",
       "[ListVector, Environment, ListVector]\n",
       "  layout: <class 'rpy2.robjects.environments.Environment'>\n",
       "  R object with classes: ('Layout', 'ggproto') mapped to:\n",
       "<Environment - Python:0x0000014B1B2D99C8 / R:0x0000014B1F6EB650>\n",
       "R object with classes: ('list',) mapped to:\n",
       "<ListVector - Python:0x0000014B0F0C9E48 / R:0x0000014B1FF273D8>\n",
       "[ListVector, Environment, ListVector]"
      ]
     },
     "execution_count": 3,
     "metadata": {},
     "output_type": "execute_result"
    }
   ],
   "source": [
    "%R print(ggplot(rs2, aes(time, length, colour=factor(organ))) +    geom_line())"
   ]
  },
  {
   "cell_type": "code",
   "execution_count": null,
   "metadata": {},
   "outputs": [],
   "source": [
    "import vtk\n",
    "from vtk import *\n",
    "from IPython.display import Image\n",
    "\n",
    "reader = vtk.vtkXMLPolyDataReader()\n",
    "path = \"results/example_1a.vtp\" #path or name of the vtp output\n",
    "reader.SetFileName(path)\n",
    "reader.Update()\n",
    " \n",
    "mapper = vtk.vtkPolyDataMapper()\n",
    "mapper.SetInputData(reader.GetOutput())\n",
    " \n",
    "plantActor = vtk.vtkActor()\n",
    "plantActor.SetMapper( mapper )\n",
    "\n",
    "camera =vtkCamera()\n",
    "camera.SetPosition(500, 10, 0)\n",
    "camera.SetFocalPoint(0, 0, 0)   \n",
    "\n",
    "ren1= vtk.vtkRenderer()\n",
    "ren1.AddActor( plantActor )\n",
    "ren1.SetActiveCamera(camera)\n",
    "ren1.SetBackground( 0.1, 0.2, 0.4 )\n",
    "\n",
    "\n",
    "renWin = vtk.vtkRenderWindow()\n",
    "renWin.AddRenderer( ren1 )\n",
    "renWin.SetSize( 600, 600 )\n",
    "\n",
    "\n",
    "iren = vtk.vtkRenderWindowInteractor()\n",
    "iren.SetRenderWindow(renWin)\n",
    "    \n",
    "renWin.Render()\n",
    "\n",
    "windowToImageFilter = vtkWindowToImageFilter()\n",
    "windowToImageFilter.SetInput(renWin)\n",
    "windowToImageFilter.Update()\n",
    "\n",
    "\n",
    "writer = vtkPNGWriter()\n",
    "writer.SetWriteToMemory(1)\n",
    "writer.SetInputConnection(windowToImageFilter.GetOutputPort())\n",
    "writer.Write()\n",
    "data = bytearray(memoryview(writer.GetResult()))\n",
    "\n",
    "Image(data)"
   ]
  },
  {
   "cell_type": "code",
   "execution_count": null,
   "metadata": {},
   "outputs": [],
   "source": [
    "import vtk\n",
    "from vtk import *\n",
    "from IPython.display import Image\n",
    "\n",
    "reader = vtk.vtkXMLPolyDataReader()\n",
    "path = \"results/example_5a.vtp\" #path or name of the vtp output\n",
    "reader.SetFileName(path)\n",
    "reader.Update()\n",
    " \n",
    "mapper = vtk.vtkPolyDataMapper()\n",
    "mapper.SetInputData(reader.GetOutput())\n",
    " \n",
    "plantActor = vtk.vtkActor()\n",
    "plantActor.SetMapper( mapper )\n",
    "\n",
    "camera =vtkCamera()\n",
    "camera.SetPosition(100, 100, 0)\n",
    "camera.SetFocalPoint(0, 0, 0)   \n",
    "\n",
    "ren1= vtk.vtkRenderer()\n",
    "ren1.AddActor( plantActor )\n",
    "ren1.SetActiveCamera(camera)\n",
    "ren1.SetBackground( 0.1, 0.2, 0.4 )\n",
    "\n",
    "\n",
    "renWin = vtk.vtkRenderWindow()\n",
    "renWin.AddRenderer( ren1 )\n",
    "renWin.SetSize( 600, 600 )\n",
    "\n",
    " \n",
    "\n",
    "iren = vtk.vtkRenderWindowInteractor()\n",
    "iren.SetRenderWindow(renWin)\n",
    "    \n",
    "\n",
    "renWin.Render()\n",
    "\n",
    "\n",
    "windowToImageFilter = vtkWindowToImageFilter()\n",
    "windowToImageFilter.SetInput(renWin)\n",
    "windowToImageFilter.Update()\n",
    "\n",
    " \n",
    "\n",
    "writer = vtkPNGWriter()\n",
    "writer.SetWriteToMemory(1)\n",
    "writer.SetInputConnection(windowToImageFilter.GetOutputPort())\n",
    "writer.Write()\n",
    "data = bytearray(memoryview(writer.GetResult()))\n",
    "\n",
    "\n",
    "\n",
    "\n",
    "Image(data)\n",
    "\n",
    "\n",
    "\n",
    "\n"
   ]
  },
  {
   "cell_type": "code",
   "execution_count": null,
   "metadata": {},
   "outputs": [],
   "source": [
    "import webbrowser\n",
    "\n",
    "display(webbrowser.open('http://xrzhou.com/content/vtkjs/GeometryViewer/GeometryViewer.html?fileURL=http://xrzhou.com/content/1-projects/example_5a.vtp'))"
   ]
  },
  {
   "cell_type": "code",
   "execution_count": null,
   "metadata": {},
   "outputs": [],
   "source": []
  },
  {
   "cell_type": "code",
   "execution_count": null,
   "metadata": {},
   "outputs": [],
   "source": [
    "\n",
    "from IPython.display import HTML\n",
    "HTML('<iframe width=\"560\" height=\"315\" src=\"http://xrzhou.com/content/vtkjs/GeometryViewer/GeometryViewer.html?fileURL=http://xrzhou.com/content/1-projects/example_5a.vtp\" frameborder=\"0\" allowfullscreen></iframe>')"
   ]
  },
  {
   "cell_type": "code",
   "execution_count": null,
   "metadata": {},
   "outputs": [],
   "source": []
  },
  {
   "cell_type": "code",
   "execution_count": null,
   "metadata": {},
   "outputs": [],
   "source": []
  }
 ],
 "metadata": {
  "kernelspec": {
   "display_name": "Python 3",
   "language": "python",
   "name": "python3"
  },
  "language_info": {
   "codemirror_mode": {
    "name": "ipython",
    "version": 3
   },
   "file_extension": ".py",
   "mimetype": "text/x-python",
   "name": "python",
   "nbconvert_exporter": "python",
   "pygments_lexer": "ipython3",
   "version": "3.6.4"
  }
 },
 "nbformat": 4,
 "nbformat_minor": 2
}
